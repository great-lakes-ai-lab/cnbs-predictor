{
 "cells": [
  {
   "cell_type": "code",
   "execution_count": 1,
   "metadata": {},
   "outputs": [],
   "source": [
    "import csv\n",
    "\n",
    "# Function to read the CSV files and return the data as a list of rows\n",
    "def read_csv(file_path):\n",
    "    with open(file_path, mode='r', newline='', encoding='utf-8') as file:\n",
    "        reader = csv.reader(file)\n",
    "        data = [row for row in reader]\n",
    "    return data\n",
    "\n",
    "# Function to compare rows of the three CSV files\n",
    "def compare_csvs(file1, file2, file3):\n",
    "    data1 = read_csv(file1)\n",
    "    data2 = read_csv(file2)\n",
    "    data3 = read_csv(file3)\n",
    "\n",
    "    # Ensure all CSVs have the same number of rows\n",
    "    max_rows = min(len(data1), len(data2), len(data3))\n",
    "    \n",
    "    for i in range(max_rows):\n",
    "        # Compare the first three columns (index 0, 1, 2)\n",
    "        row1, row2, row3 = data1[i][:3], data2[i][:3], data3[i][:3]\n",
    "        \n",
    "        if row1 != row2 or row1 != row3 or row2 != row3:\n",
    "            print(f\"Inconsistency found in row {i+1}:\")\n",
    "            print(f\"File 1: {row1}\")\n",
    "            print(f\"File 2: {row2}\")\n",
    "            print(f\"File 3: {row3}\")\n",
    "            if row1 != row2:\n",
    "                print(f\"  Inconsistency between File 1 and File 2 in row {i+1}\")\n",
    "            if row1 != row3:\n",
    "                print(f\"  Inconsistency between File 1 and File 3 in row {i+1}\")\n",
    "            if row2 != row3:\n",
    "                print(f\"  Inconsistency between File 2 and File 3 in row {i+1}\")\n",
    "            print()  # Add an empty line for clarity\n",
    "\n",
    "dir = '/Users/ljob/Desktop/cnbs-predictor/data/'\n",
    "# Provide the paths of the CSV files\n",
    "file1 = dir + 'CFS_EVAP_forecasts_Avgs_MM.csv'\n",
    "file2 = dir + 'CFS_PCP_forecasts_Avgs_MM.csv'\n",
    "file3 = dir + 'CFS_TMP_forecasts_Avgs_K.csv'\n",
    "\n",
    "compare_csvs(file1, file2, file3)\n"
   ]
  }
 ],
 "metadata": {
  "kernelspec": {
   "display_name": "base",
   "language": "python",
   "name": "python3"
  },
  "language_info": {
   "codemirror_mode": {
    "name": "ipython",
    "version": 3
   },
   "file_extension": ".py",
   "mimetype": "text/x-python",
   "name": "python",
   "nbconvert_exporter": "python",
   "pygments_lexer": "ipython3",
   "version": "3.12.2"
  }
 },
 "nbformat": 4,
 "nbformat_minor": 2
}
