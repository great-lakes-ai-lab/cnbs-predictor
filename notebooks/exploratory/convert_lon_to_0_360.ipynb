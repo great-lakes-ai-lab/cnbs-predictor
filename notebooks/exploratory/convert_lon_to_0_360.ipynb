{
 "cells": [
  {
   "cell_type": "code",
   "execution_count": 1,
   "metadata": {},
   "outputs": [
    {
     "name": "stderr",
     "output_type": "stream",
     "text": [
      "c:\\Users\\fitzpatrick\\AppData\\Local\\miniconda3\\envs\\myenv\\Lib\\site-packages\\xarray\\coding\\times.py:242: CFWarning: this date/calendar/year zero convention is not supported by CF\n",
      "  cftime.num2date(num_dates, units, calendar, only_use_cftime_datetimes=True)\n",
      "c:\\Users\\fitzpatrick\\AppData\\Local\\miniconda3\\envs\\myenv\\Lib\\site-packages\\xarray\\coding\\times.py:992: SerializationWarning: Unable to decode time axis into full numpy.datetime64 objects, continuing using cftime.datetime objects instead, reason: dates out of range\n",
      "  dtype = _decode_cf_datetime_dtype(data, units, calendar, self.use_cftime)\n",
      "c:\\Users\\fitzpatrick\\AppData\\Local\\miniconda3\\envs\\myenv\\Lib\\site-packages\\xarray\\coding\\times.py:242: CFWarning: this date/calendar/year zero convention is not supported by CF\n",
      "  cftime.num2date(num_dates, units, calendar, only_use_cftime_datetimes=True)\n",
      "c:\\Users\\fitzpatrick\\AppData\\Local\\miniconda3\\envs\\myenv\\Lib\\site-packages\\xarray\\core\\indexing.py:658: SerializationWarning: Unable to decode time axis into full numpy.datetime64 objects, continuing using cftime.datetime objects instead, reason: dates out of range\n",
      "  array = array.get_duck_array()\n",
      "c:\\Users\\fitzpatrick\\AppData\\Local\\miniconda3\\envs\\myenv\\Lib\\site-packages\\xarray\\coding\\times.py:242: CFWarning: this date/calendar/year zero convention is not supported by CF\n",
      "  cftime.num2date(num_dates, units, calendar, only_use_cftime_datetimes=True)\n",
      "c:\\Users\\fitzpatrick\\AppData\\Local\\miniconda3\\envs\\myenv\\Lib\\site-packages\\xarray\\core\\indexing.py:658: SerializationWarning: Unable to decode time axis into full numpy.datetime64 objects, continuing using cftime.datetime objects instead, reason: dates out of range\n",
      "  array = array.get_duck_array()\n",
      "c:\\Users\\fitzpatrick\\AppData\\Local\\miniconda3\\envs\\myenv\\Lib\\site-packages\\xarray\\coding\\times.py:644: CFWarning: this date/calendar/year zero convention is not supported by CF\n",
      "  else cftime.date2num(d, units, calendar, longdouble=False)\n"
     ]
    }
   ],
   "source": [
    "import xarray as xr\n",
    "import numpy as np\n",
    "\n",
    "# Load the NetCDF file\n",
    "file_path = 'C:/Users/fitzpatrick/Desktop/Data/created_masks/mask_cfsr.nc'  # replace with the path to your NetCDF file\n",
    "ds = xr.open_dataset(file_path)\n",
    "\n",
    "# Check the existing longitude variable\n",
    "longitude = ds['longitude']\n",
    "\n",
    "# Convert longitude from [-180, 180] to [0, 360]\n",
    "longitude_new = np.where(longitude < 0, longitude + 360, longitude)\n",
    "\n",
    "# Update the longitude coordinates in the dataset\n",
    "ds['longitude'] = (longitude.dims, longitude_new)\n",
    "\n",
    "# Re-align all data variables with the new longitude coordinates\n",
    "for var_name in ds.data_vars:\n",
    "    # Check if the variable has longitude as one of its dimensions\n",
    "    if 'longitude' in ds[var_name].dims:\n",
    "        # Re-index or reorder the data according to the new longitude values\n",
    "        ds[var_name] = ds[var_name].isel(longitude=np.argsort(longitude_new))\n",
    "\n",
    "# Save the updated dataset to a new NetCDF file\n",
    "ds.to_netcdf('C:/Users/fitzpatrick/Desktop/Data/created_masks/mask_cfsr_converted.nc')\n",
    "\n",
    "# Close the dataset\n",
    "ds.close()\n"
   ]
  }
 ],
 "metadata": {
  "kernelspec": {
   "display_name": "myenv",
   "language": "python",
   "name": "python3"
  },
  "language_info": {
   "codemirror_mode": {
    "name": "ipython",
    "version": 3
   },
   "file_extension": ".py",
   "mimetype": "text/x-python",
   "name": "python",
   "nbconvert_exporter": "python",
   "pygments_lexer": "ipython3",
   "version": "3.12.5"
  }
 },
 "nbformat": 4,
 "nbformat_minor": 2
}
