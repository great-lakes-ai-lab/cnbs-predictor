{
 "cells": [
  {
   "cell_type": "code",
   "execution_count": 1,
   "metadata": {},
   "outputs": [],
   "source": [
    "import pandas as pd\n",
    "import sqlite3"
   ]
  },
  {
   "cell_type": "code",
   "execution_count": 2,
   "metadata": {},
   "outputs": [],
   "source": [
    "# This is the directory where you cloned the repo\n",
    "path_to_repo = '/Users/ljob/Desktop/'\n",
    "\n",
    "# Path to download data to\n",
    "dir = path_to_repo + 'cnbs-predictor/data/'\n",
    "\n",
    "# Read in the CSVs\n",
    "tmp_csv = dir + 'CFS_TMP_forecasts_Avgs_K.csv'\n",
    "evap_csv = dir + 'CFS_EVAP_forecasts_Avgs_MM.csv'\n",
    "pcp_csv = dir + 'CFS_PCP_forecasts_Avgs_MM.csv'"
   ]
  },
  {
   "cell_type": "code",
   "execution_count": 3,
   "metadata": {},
   "outputs": [],
   "source": [
    "## Read in PCP data from CFSR [mm]\n",
    "pcp_data = pd.read_csv(pcp_csv,sep=',')\n",
    "\n",
    "## Read in EVAP data from CFSR [mm]\n",
    "evap_data = pd.read_csv(evap_csv,sep=',')\n",
    "\n",
    "## Read in TMP data from CFSR [K]\n",
    "tmp_data = pd.read_csv(tmp_csv,sep=',')"
   ]
  },
  {
   "cell_type": "code",
   "execution_count": 4,
   "metadata": {},
   "outputs": [],
   "source": [
    "X = pd.DataFrame({\n",
    "    'cfs_run': pcp_data['cfs_run'],\n",
    "    'forecast_month': pcp_data['forecast_month'],\n",
    "    'forecast_year': pcp_data['forecast_year'],\n",
    "    'sup_pcp_lake': pcp_data['sup_lake'],\n",
    "    'eri_pcp_lake': pcp_data['eri_lake'],\n",
    "    'ont_pcp_lake': pcp_data['ont_lake'],\n",
    "    'mih_pcp_lake': pcp_data['mih_lake'],\n",
    "    'sup_pcp_land': pcp_data['sup_land'],\n",
    "    'eri_pcp_land': pcp_data['eri_land'],\n",
    "    'ont_pcp_land': pcp_data['ont_land'],\n",
    "    'mih_pcp_land': pcp_data['mih_land'],\n",
    "    'sup_evap_lake': evap_data['sup_lake'],\n",
    "    'eri_evap_lake': evap_data['eri_lake'],\n",
    "    'ont_evap_lake': evap_data['ont_lake'],\n",
    "    'mih_evap_lake': evap_data['mih_lake'],\n",
    "    'sup_evap_land': evap_data['sup_land'],\n",
    "    'eri_evap_land': evap_data['eri_land'],\n",
    "    'ont_evap_land': evap_data['ont_land'],\n",
    "    'mih_evap_land': evap_data['mih_land'],\n",
    "    'sup_tmp_lake': tmp_data['sup_lake'],\n",
    "    'eri_tmp_lake': tmp_data['eri_lake'],\n",
    "    'ont_tmp_lake': tmp_data['ont_lake'],\n",
    "    'mih_tmp_lake': tmp_data['mih_lake'],\n",
    "    'sup_tmp_land': tmp_data['sup_land'],\n",
    "    'eri_tmp_land': tmp_data['eri_land'],\n",
    "    'ont_tmp_land': tmp_data['ont_land'],\n",
    "    'mih_tmp_land': tmp_data['mih_land']\n",
    "})"
   ]
  },
  {
   "cell_type": "code",
   "execution_count": 5,
   "metadata": {},
   "outputs": [
    {
     "data": {
      "text/plain": [
       "<sqlite3.Cursor at 0x127069f40>"
      ]
     },
     "execution_count": 5,
     "metadata": {},
     "output_type": "execute_result"
    }
   ],
   "source": [
    "# Establish a connection to a new SQLite database\n",
    "conn = sqlite3.connect('cfs_forecast_data.db')  # Create a new database file\n",
    "cursor = conn.cursor()\n",
    "\n",
    "# Create the table if it doesn't exist\n",
    "cursor.execute('''\n",
    "CREATE TABLE IF NOT EXISTS cfs_forecast_data (\n",
    "    cfs_run INTEGER,\n",
    "    year INTEGER,\n",
    "    month INTEGER,\n",
    "    lake TEXT,\n",
    "    surface_type TEXT,\n",
    "    cnbs TEXT,\n",
    "    value REAL,\n",
    "    PRIMARY KEY (cfs_run, year, month, lake, surface_type, cnbs)\n",
    ")\n",
    "''')"
   ]
  },
  {
   "cell_type": "code",
   "execution_count": 10,
   "metadata": {},
   "outputs": [],
   "source": [
    "# Define a function to map the lake and cnbs values as per your instructions\n",
    "def map_values(lake, cnbs):\n",
    "    # Mapping lakes\n",
    "    lake_mapping = {\n",
    "        'eri': 'erie',\n",
    "        'ont': 'ontario',\n",
    "        'sup': 'superior',\n",
    "        'mih': 'michigan-huron'\n",
    "    }\n",
    "    \n",
    "    # Mapping cnbs\n",
    "    cnbs_mapping = {\n",
    "        'tmp': 'air_temperature',\n",
    "        'pcp': 'precipitation',\n",
    "        'evap': 'evaporation'\n",
    "    }\n",
    "\n",
    "    # Return mapped values or the original if not found\n",
    "    mapped_lake = lake_mapping.get(lake, lake)\n",
    "    mapped_cnbs = cnbs_mapping.get(cnbs, cnbs)\n",
    "    \n",
    "    return mapped_lake, mapped_cnbs\n",
    "\n",
    "# Define a function to insert data into the database\n",
    "def insert_data_to_db(df):\n",
    "    # Iterate through each row of the dataframe\n",
    "    for index, row in df.iterrows():\n",
    "        # Extract the values from the row\n",
    "        cfs_run = row['cfs_run']\n",
    "        forecast_year = row['forecast_year']\n",
    "        forecast_month = row['forecast_month']\n",
    "        \n",
    "        # Define the lake and surface_type columns that follow the 'lake'_'cnbs'_'surface_type' pattern\n",
    "        for lake_cnbs_surface in df.columns[3:]:  # Skipping the first three columns ('cfs_run', 'forecast_year', 'forecast_month')\n",
    "            # Split the column name into lake, cnbs, and surface_type\n",
    "            lake, cnbs, surface_type = lake_cnbs_surface.split('_')\n",
    "            \n",
    "            # Map lake and cnbs to the new values\n",
    "            mapped_lake, mapped_cnbs = map_values(lake, cnbs)\n",
    "            \n",
    "            # Get the value for this specific lake/cnbs/surface_type combination\n",
    "            value = row[lake_cnbs_surface]\n",
    "\n",
    "            # Prepare the SQL query\n",
    "            query = '''\n",
    "                INSERT INTO cfs_forecast_data (cfs_run, year, month, lake, surface_type, cnbs, value)\n",
    "                VALUES (?, ?, ?, ?, ?, ?, ?)\n",
    "            '''\n",
    "            \n",
    "            # Execute the query with the values\n",
    "            cursor.execute(query, (cfs_run, forecast_year, forecast_month, mapped_lake, surface_type, mapped_cnbs, value))\n",
    "        \n",
    "    # Commit the transaction to save the changes\n",
    "    conn.commit()"
   ]
  },
  {
   "cell_type": "code",
   "execution_count": 11,
   "metadata": {},
   "outputs": [],
   "source": [
    "# Call the function to insert the data\n",
    "insert_data_to_db(X)\n",
    "\n",
    "# Close the connection\n",
    "conn.close()"
   ]
  },
  {
   "cell_type": "code",
   "execution_count": 13,
   "metadata": {},
   "outputs": [
    {
     "name": "stdout",
     "output_type": "stream",
     "text": [
      "           cfs_run  year  month            lake surface_type             cnbs  \\\n",
      "0       2024010100  2024      1        superior         lake    precipitation   \n",
      "1       2024010100  2024      1            erie         lake    precipitation   \n",
      "2       2024010100  2024      1         ontario         lake    precipitation   \n",
      "3       2024010100  2024      1  michigan-huron         lake    precipitation   \n",
      "4       2024010100  2024      1        superior         land    precipitation   \n",
      "...            ...   ...    ...             ...          ...              ...   \n",
      "417547  2025030418  2025     12  michigan-huron         lake  air_temperature   \n",
      "417548  2025030418  2025     12        superior         land  air_temperature   \n",
      "417549  2025030418  2025     12            erie         land  air_temperature   \n",
      "417550  2025030418  2025     12         ontario         land  air_temperature   \n",
      "417551  2025030418  2025     12  michigan-huron         land  air_temperature   \n",
      "\n",
      "             value  \n",
      "0        55.424953  \n",
      "1        65.851826  \n",
      "2        79.625811  \n",
      "3        51.509313  \n",
      "4        53.721757  \n",
      "...            ...  \n",
      "417547  268.824558  \n",
      "417548  262.078339  \n",
      "417549  271.056970  \n",
      "417550  270.690783  \n",
      "417551  267.561761  \n",
      "\n",
      "[417552 rows x 7 columns]\n"
     ]
    }
   ],
   "source": [
    "# Connect to the SQLite database\n",
    "conn = sqlite3.connect('cfs_forecast_data.db')\n",
    "\n",
    "# Query the data into a pandas DataFrame\n",
    "df = pd.read_sql_query(\"SELECT * FROM cfs_forecast_data;\", conn)\n",
    "\n",
    "print(df)\n",
    "\n",
    "conn.close()"
   ]
  }
 ],
 "metadata": {
  "kernelspec": {
   "display_name": "base",
   "language": "python",
   "name": "python3"
  },
  "language_info": {
   "codemirror_mode": {
    "name": "ipython",
    "version": 3
   },
   "file_extension": ".py",
   "mimetype": "text/x-python",
   "name": "python",
   "nbconvert_exporter": "python",
   "pygments_lexer": "ipython3",
   "version": "3.12.2"
  }
 },
 "nbformat": 4,
 "nbformat_minor": 2
}
