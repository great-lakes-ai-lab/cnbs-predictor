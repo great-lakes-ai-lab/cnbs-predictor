{
 "cells": [
  {
   "cell_type": "code",
   "execution_count": 3,
   "id": "d2e324c2",
   "metadata": {},
   "outputs": [],
   "source": [
    "import sqlite3\n",
    "\n",
    "# Directory where the repository is cloned\n",
    "dir = '/Users/ljob/Desktop/cnbs-predictor-1/data/'\n",
    "\n",
    "# Path to input CFS forecast database\n",
    "cfs_database = dir + 'input/cfs_forecast_data.db'"
   ]
  },
  {
   "cell_type": "code",
   "execution_count": null,
   "id": "015016d4",
   "metadata": {},
   "outputs": [],
   "source": [
    "# Deleting old forecasts\n",
    "\n",
    "# Cutoff value for cfs_run\n",
    "cutoff_cfs_run = 2024080100\n",
    "\n",
    "# Connect to the database\n",
    "conn = sqlite3.connect(cfs_database)\n",
    "cursor = conn.cursor()\n",
    "\n",
    "# Check how many rows will be deleted (optional but safe)\n",
    "cursor.execute(\"\"\"\n",
    "    SELECT COUNT(*) FROM cfs_forecast_data WHERE cfs_run < ?\n",
    "\"\"\", (cutoff_cfs_run,))\n",
    "rows_to_delete = cursor.fetchone()[0]\n",
    "\n",
    "print(f\"Number of rows to delete: {rows_to_delete}\")\n",
    "\n",
    "# Only delete if there are rows to delete\n",
    "if rows_to_delete > 0:\n",
    "    # Perform the deletion\n",
    "    cursor.execute(\"\"\"\n",
    "        DELETE FROM cfs_forecast_data WHERE cfs_run < ?\n",
    "    \"\"\", (cutoff_cfs_run,))\n",
    "\n",
    "    # Commit changes\n",
    "    conn.commit()\n",
    "    print(f\"Deleted {rows_to_delete} rows.\")\n",
    "else:\n",
    "    print(\"No rows to delete.\")\n",
    "\n",
    "# Close the connection\n",
    "conn.close()"
   ]
  },
  {
   "cell_type": "code",
   "execution_count": null,
   "id": "6dbf0635",
   "metadata": {},
   "outputs": [
    {
     "name": "stdout",
     "output_type": "stream",
     "text": [
      "Column renamed from 'value' to 'cvalue [mm]'.\n"
     ]
    }
   ],
   "source": [
    "# Changing the name of a variable\n",
    "\n",
    "# Connect to the database\n",
    "conn = sqlite3.connect(cfs_database)\n",
    "cursor = conn.cursor()\n",
    "\n",
    "# Rename the column\n",
    "cursor.execute(\"\"\"\n",
    "    ALTER TABLE cfs_forecast_data RENAME COLUMN value TO 'value [mm]';\n",
    "\"\"\")\n",
    "\n",
    "# Commit the change\n",
    "conn.commit()\n",
    "\n",
    "# Close the connection\n",
    "conn.close()\n",
    "\n",
    "print(\"Column renamed from 'value' to 'value [mm]'.\")"
   ]
  },
  {
   "cell_type": "code",
   "execution_count": null,
   "id": "657c454c",
   "metadata": {},
   "outputs": [],
   "source": [
    "# Deleting a table\n",
    "\n",
    "# Connect to the database\n",
    "conn = sqlite3.connect('cfs_forecast_data.db')\n",
    "cursor = conn.cursor()\n",
    "\n",
    "# Drop the table if it exists\n",
    "cursor.execute(\"\"\"\n",
    "    DROP TABLE IF EXISTS forecast_data;\n",
    "\"\"\")\n",
    "\n",
    "# Commit the changes\n",
    "conn.commit()\n",
    "\n",
    "# Close the connection\n",
    "conn.close()\n",
    "\n",
    "print(\"Table 'forecast_data' has been removed.\")"
   ]
  }
 ],
 "metadata": {
  "kernelspec": {
   "display_name": "env",
   "language": "python",
   "name": "python3"
  },
  "language_info": {
   "codemirror_mode": {
    "name": "ipython",
    "version": 3
   },
   "file_extension": ".py",
   "mimetype": "text/x-python",
   "name": "python",
   "nbconvert_exporter": "python",
   "pygments_lexer": "ipython3",
   "version": "3.12.3"
  }
 },
 "nbformat": 4,
 "nbformat_minor": 5
}
