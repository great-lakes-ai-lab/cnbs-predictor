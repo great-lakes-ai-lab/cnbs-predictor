{
 "cells": [
  {
   "cell_type": "markdown",
   "metadata": {},
   "source": [
    "# Forecasting CNBS\n",
    "Lindsay Fitzpatrick\n",
    "ljob@umich.edu\n",
    "08/19/2024\n",
    "Updated: 03/17/2025\n",
    "\n",
    "This script performs the following tasks:\n",
    "\n",
    "1. Loads the database containing processed CFS forecast data.\n",
    "2. Passes the forecast data through the trained model(s).\n",
    "3. Generates an ensemble of CNBS forecasts for each of the Great Lakes.\n",
    "4. Saves the forecasts to a database and/or CSV file.\n",
    "5. Creates a figure with time series plots and exports it as a PNG file.\n",
    "\n",
    "The script requires the following files:\n",
    "- cfs_forecast_data.db\n",
    "- x_scaler.joblib\n",
    "- y_scaler.joblib\n",
    "\n",
    "And at least one or more of the following trained models:\n",
    "- GP_trained_model.joblib\n",
    "- RF_trained_model.joblib\n",
    "- LR_trained_model.joblib\n",
    "- NN_trained_model.joblib"
   ]
  },
  {
   "cell_type": "code",
   "execution_count": 1,
   "metadata": {},
   "outputs": [],
   "source": [
    "import pandas as pd\n",
    "import numpy as np\n",
    "from datetime import datetime\n",
    "import matplotlib.pyplot as plt\n",
    "import sqlite3\n",
    "import os\n",
    "import sys"
   ]
  },
  {
   "cell_type": "code",
   "execution_count": 2,
   "metadata": {},
   "outputs": [],
   "source": [
    "# Add the path to the src directory (two levels up)\n",
    "sys.path.append(os.path.abspath('../../'))\n",
    "from src.data_processing import filter_predictions, predict_cnbs, add_df_to_db\n",
    "from src.hydro_utils import convert_mm_to_cms"
   ]
  },
  {
   "cell_type": "markdown",
   "metadata": {},
   "source": [
    "# User Input"
   ]
  },
  {
   "cell_type": "code",
   "execution_count": 3,
   "metadata": {},
   "outputs": [],
   "source": [
    "# Directory where the repository is cloned\n",
    "path_to_repo = '/Users/ljob/Desktop/'\n",
    "\n",
    "# Path to data directory\n",
    "dir = path_to_repo + 'cnbs-predictor-1/data/'\n",
    "\n",
    "# Path to input CFS forecast database\n",
    "cfs_database = dir + 'input/cfs_forecast_data.db'\n",
    "\n",
    "# Path to save CNBS forecast output to a database\n",
    "cnbs_database = dir + 'forecast/cnbs_forecast.db'\n",
    "\n",
    "# Path to saved scalers\n",
    "x_scaler = dir + 'input/x_scaler.joblib'\n",
    "y_scaler = dir + 'input/y_scaler.joblib'\n",
    "\n",
    "# Define directory to models to use along with their paths\n",
    "models_info = [{'model': 'GP', 'path': dir + 'input/GP_trained_model.joblib'},\n",
    "               {'model': 'RF', 'path': dir + 'input/RF_trained_model.joblib'},\n",
    "               {'model': 'LR', 'path': dir + 'input/LR_trained_model.joblib'},\n",
    "               {'model': 'NN', 'path': dir + 'input/NN_trained_model.joblib'}]"
   ]
  },
  {
   "cell_type": "markdown",
   "metadata": {},
   "source": [
    "# Begin Script"
   ]
  },
  {
   "cell_type": "code",
   "execution_count": 4,
   "metadata": {},
   "outputs": [],
   "source": [
    "# Create a connection to the SQLite database\n",
    "conn = sqlite3.connect(cfs_database)\n",
    "\n",
    "# Define the query to get all the data\n",
    "query = '''\n",
    "SELECT * FROM cfs_forecast_data\n",
    "'''\n",
    "\n",
    "# Execute the query and fetch the data into a DataFrame\n",
    "data = pd.read_sql(query, conn)\n",
    "\n",
    "# Close the connection once done\n",
    "conn.close()\n",
    "\n",
    "data.set_index(['cfs_run', 'month', 'year'], drop=True, inplace=True)"
   ]
  },
  {
   "cell_type": "code",
   "execution_count": 5,
   "metadata": {},
   "outputs": [],
   "source": [
    "# This creates 1 column with a variable name that combines column names from the database\n",
    "# It just makes it simplier for the moment to call the data\n",
    "data['variable'] = data['lake'] + '_' + data['surface_type'] + '_' + data['component']"
   ]
  },
  {
   "cell_type": "code",
   "execution_count": 6,
   "metadata": {},
   "outputs": [],
   "source": [
    "# The variable names based on the above step in the order that they need to be in based on the order of variables during the training step\n",
    "variables = ['superior_lake_precipitation', 'erie_lake_precipitation', 'ontario_lake_precipitation', 'michigan-huron_lake_precipitation', \n",
    "             'superior_land_precipitation', 'erie_land_precipitation', 'ontario_land_precipitation', 'michigan-huron_land_precipitation', \n",
    "             'superior_lake_evaporation', 'erie_lake_evaporation', 'ontario_lake_evaporation', 'michigan-huron_lake_evaporation',\n",
    "             'superior_land_evaporation', 'erie_land_evaporation', 'ontario_land_evaporation', 'michigan-huron_land_evaporation',\n",
    "             'superior_lake_air_temperature', 'erie_lake_air_temperature', 'ontario_lake_air_temperature', 'michigan-huron_lake_air_temperature', \n",
    "             'superior_land_air_temperature', 'erie_land_air_temperature', 'ontario_land_air_temperature', 'michigan-huron_land_air_temperature'\n",
    "             ]\n",
    "\n",
    "data = data.reset_index()\n",
    "X = data.pivot_table(index=['cfs_run', 'year', 'month'], columns='variable', values='value [mm]')\n",
    "# Remove column level name\n",
    "X.columns.name = None\n",
    "# Reorder columns to match training order\n",
    "X = X[variables]\n",
    "\n",
    "# For any reason, in a worse case scenario and there are NaNs (which there would never ever be missing data), drop the rows that include them\n",
    "# Check first to see if there are NaN values in the DataFrame\n",
    "if X.isna().any().any():\n",
    "    # Remove rows with NaN values\n",
    "    print(\"NANs were found in the input dataset. Removing them before continuing.\")\n",
    "    X = X.dropna(how='any')"
   ]
  },
  {
   "cell_type": "code",
   "execution_count": 7,
   "metadata": {},
   "outputs": [
    {
     "name": "stdout",
     "output_type": "stream",
     "text": [
      "First month forecast: 5\n"
     ]
    }
   ],
   "source": [
    "# This removes any old cfs forecasts that we do not need cnbs forecasts for (such as forecasts for months that have passed). \n",
    "X_filtered = filter_predictions(X)"
   ]
  },
  {
   "cell_type": "markdown",
   "metadata": {},
   "source": [
    "Run CFS data through the trained models"
   ]
  },
  {
   "cell_type": "code",
   "execution_count": 8,
   "metadata": {},
   "outputs": [
    {
     "name": "stdout",
     "output_type": "stream",
     "text": [
      "\u001b[1m136/136\u001b[0m \u001b[32m━━━━━━━━━━━━━━━━━━━━\u001b[0m\u001b[37m\u001b[0m \u001b[1m0s\u001b[0m 844us/step\n"
     ]
    }
   ],
   "source": [
    "# Initialize an empty dataframe to store predictions by model name\n",
    "model_predictions = []\n",
    "\n",
    "# Process each model and add to DB\n",
    "for model_info in models_info:\n",
    "    model_name = model_info['model']\n",
    "    df_y = predict_cnbs(X_filtered, x_scaler, y_scaler, models_info, model_name)\n",
    "    if df_y is not None:\n",
    "        # Store the predictions in the dataframe\n",
    "        df_y['model'] = model_name\n",
    "        model_predictions.append(df_y)\n",
    "\n",
    "df = pd.concat(model_predictions, ignore_index=False).reset_index()\n"
   ]
  },
  {
   "cell_type": "markdown",
   "metadata": {},
   "source": [
    "Format the CNBS forecasts, calculate values from mm to cms and add data to a database"
   ]
  },
  {
   "cell_type": "code",
   "execution_count": 9,
   "metadata": {},
   "outputs": [],
   "source": [
    "# Format the data so it is organized and ready to add to the database\n",
    "melt_df = df.melt(id_vars=['model', 'cfs_run', 'month', 'year'], var_name='lake_cnbs', value_name='value [mm]')\n",
    "melt_df[['lake', 'component']] = melt_df['lake_cnbs'].str.split('_', expand=True)\n",
    "melt_df_formatted = melt_df.drop(columns=['lake_cnbs']).loc[:, ['cfs_run', 'month', 'year', 'model', 'lake', 'component', 'value [mm]']]\n",
    "melt_df_formatted = melt_df_formatted[['cfs_run', 'month', 'year', 'model', 'lake', 'component', 'value [mm]']]\n",
    "melt_df_formatted = melt_df_formatted.sort_values(by=['cfs_run', 'month', 'year', 'model', 'lake']).set_index(['cfs_run', 'month', 'year'])\n",
    "df_new = convert_mm_to_cms(melt_df_formatted)\n",
    "add_df_to_db(cnbs_database, 'cnbs_forecast', df_new)"
   ]
  },
  {
   "cell_type": "markdown",
   "metadata": {},
   "source": [
    "Calculate the median of each month forecast by model"
   ]
  },
  {
   "cell_type": "code",
   "execution_count": 10,
   "metadata": {},
   "outputs": [],
   "source": [
    "df_y_model_median = df_new.groupby(['year', 'month', 'model', 'lake', 'component'])[['value [mm]', 'value [cms]']].median().round(3)\n",
    "add_df_to_db(cnbs_database, 'cnbs_forecast_model_median', df_y_model_median)"
   ]
  },
  {
   "cell_type": "markdown",
   "metadata": {},
   "source": [
    "Calculate the median of each month from all the model ensemble forecasts"
   ]
  },
  {
   "cell_type": "code",
   "execution_count": 11,
   "metadata": {},
   "outputs": [],
   "source": [
    "# Get the median value for each forecast month\n",
    "df_y_median = df_new.groupby(['year', 'month', 'lake', 'component'])[['value [mm]', 'value [cms]']].median().round(3).reset_index()\n",
    "\n",
    "# Rename columns\n",
    "df_y_median.rename(columns={'year': 'forecast_year', 'month': 'forecast_month'}, inplace=True)\n",
    "\n",
    "# Set a \"current year\" and \"current month\" to make tracking the forecast easier\n",
    "df_y_median['current_year'] = df_y_median['forecast_year'][0]\n",
    "df_y_median['current_month'] = df_y_median['forecast_month'][0]\n",
    "\n",
    "# Only keep the columns we need and in a particulat order\n",
    "df_y_median = df_y_median[['current_year', 'current_month', 'forecast_year', 'forecast_month', 'lake', 'component', 'value [mm]', 'value [cms]']]\n",
    "\n",
    "# Save to a CSV [mm]\n",
    "df_y_median.to_csv(f'{dir}forecast/CNBS_forecast.csv', sep='\\t', index=False)"
   ]
  },
  {
   "cell_type": "code",
   "execution_count": 12,
   "metadata": {},
   "outputs": [],
   "source": [
    "# Create a column that is forecast date in YYYY_MM. This will just make is easier to pivot the table\n",
    "df_y_median['forecast'] = df_y_median['forecast_year'].astype(str) + '_' + df_y_median['forecast_month'].astype(str).str.zfill(2)\n",
    "\n",
    "# Make sure they are sorted by the forecast date\n",
    "df_test = df_y_median.sort_values(['current_year', 'current_month', 'lake', 'forecast'])\n",
    "\n",
    "# Pivot the table so the forecast date is in columns instead of rows\n",
    "df_pivoted = df_test.pivot_table(\n",
    "    index=['current_year', 'current_month', 'lake', 'component'],\n",
    "    columns='forecast',\n",
    "    values='value [cms]'\n",
    "    ).reset_index()\n",
    "df_pivoted.columns.name = None"
   ]
  },
  {
   "cell_type": "code",
   "execution_count": 13,
   "metadata": {},
   "outputs": [],
   "source": [
    "# Get the forecast columns\n",
    "forecast_cols = df_pivoted.columns.difference(['current_year', 'current_month', 'lake', 'component'])\n",
    "\n",
    "# Sort the data\n",
    "forecast_cols_sorted = sorted(forecast_cols)\n",
    "\n",
    "# Rename columns to month_1, month_2, ...\n",
    "rename_dict = {old: f'month_{i+1}' for i, old in enumerate(forecast_cols_sorted)}\n",
    "df_pivoted = df_pivoted.rename(columns=rename_dict)"
   ]
  },
  {
   "cell_type": "markdown",
   "metadata": {},
   "source": [
    "Plot the forecasts for each component for each lake by model output"
   ]
  },
  {
   "cell_type": "code",
   "execution_count": 14,
   "metadata": {},
   "outputs": [
    {
     "data": {
      "image/png": "[encoded data removed]",
      "text/plain": [
       "<Figure size 1800x800 with 16 Axes>"
      ]
     },
     "metadata": {},
     "output_type": "display_data"
    }
   ],
   "source": [
    "model_colors = {\n",
    "    'GP': 'blue',\n",
    "    'RF': 'green',\n",
    "    'LR': 'red',\n",
    "    'NN': 'purple'\n",
    "}\n",
    "\n",
    "# Columns of interest in the order we want to plot them\n",
    "columns = ['superior_evaporation', 'superior_precipitation', 'superior_runoff', 'superior_cnbs',\n",
    "           'michigan-huron_evaporation', 'michigan-huron_precipitation', 'michigan-huron_runoff', 'michigan-huron_cnbs',\n",
    "           'erie_evaporation', 'erie_precipitation', 'erie_runoff', 'erie_cnbs',\n",
    "           'ontario_evaporation', 'ontario_precipitation', 'ontario_runoff', 'ontario_cnbs']\n",
    "\n",
    "# Create a 1x4 subplot grid\n",
    "fig, axs = plt.subplots(4, 4, figsize=(18, 8))\n",
    "\n",
    "global_y_min, global_y_max = float('inf'), float('-inf')  # Initialize to extremes. This will update in the loop \n",
    "\n",
    "# Loop over the columns and plot the medians for each dataset\n",
    "for i, column in enumerate(columns):\n",
    "    row = i // 4  # Row index (integer division by 4)\n",
    "    col = i % 4   # Column index (remainder after division by 4)\n",
    "\n",
    "    # Determine the lower and upper bounds of all the model forecast\n",
    "    lower_bound = df.groupby(['year', 'month'])[column].quantile(0.025).reset_index()\n",
    "    upper_bound = df.groupby(['year', 'month'])[column].quantile(0.975).reset_index()\n",
    "\n",
    "    for model_info in models_info:\n",
    "        model_name = model_info['model']\n",
    "\n",
    "        # Pull out the median values for each model\n",
    "        model_median = df[df['model'] == model_name]\n",
    "\n",
    "        # Get the grouped DataFrame for the current model\n",
    "        median_df = model_median.groupby(['year', 'month']).median(numeric_only=True).reset_index()\n",
    "\n",
    "        # Add a 'date' column to the median DataFrame\n",
    "        median_df['date'] = pd.to_datetime(median_df[['year', 'month']].assign(day=1))\n",
    "\n",
    "        # Plot the medians for the current dataset on the same subplot\n",
    "        axs[row, col].plot(median_df['date'], median_df[column], marker='o', markersize=3, color=model_colors[model_name], label=model_name)\n",
    "\n",
    "        # Add the shaded region (confidence band)\n",
    "        axs[row, col].fill_between(median_df['date'], lower_bound[column], upper_bound[column], color='lightgray', alpha=0.2)\n",
    "        axs[row, col].axhline(0, color='black', linestyle='--', linewidth=1) # Add a dashed line on 0\n",
    "        axs[row, col].grid(True, linestyle='--', alpha=0.6) # Turn on a grid\n",
    "        axs[row, col].set_yticks(np.arange(-1000, 1000, 100)) # Force y ticks on every 100\n",
    "\n",
    "        # Update the global y-axis limits based on the current dataset\n",
    "        # This allows us to set a y min and y max that is the same for all of the figures at the end\n",
    "        current_y_min = lower_bound[column].min()\n",
    "        current_y_max = upper_bound[column].max()\n",
    "        global_y_min = min(global_y_min, current_y_min)\n",
    "        global_y_max = max(global_y_max, current_y_max)\n",
    "\n",
    "    # Set titles based on row and column\n",
    "    if row == 0:\n",
    "        axs[row, col].set_title(['Precipitation', 'Evaporation', 'Runoff', 'CNBS'][col], fontsize=14)\n",
    "    else:\n",
    "        axs[row, col].set_title('')\n",
    "\n",
    "    # Format x-axis for the last row (set x-tick labels)\n",
    "    if row == 3:\n",
    "        axs[row, col].xaxis.set_major_formatter(plt.matplotlib.dates.DateFormatter('%m-%Y')) # Format the dates on the x axis\n",
    "        axs[row, col].tick_params(axis='x', rotation=45)  # Rotate the x-axis labels for better readability\n",
    "        for label in axs[row, col].get_xticklabels(): # Position the labels\n",
    "            label.set_horizontalalignment('right')\n",
    "    else:\n",
    "        axs[row, col].set_xticklabels([]) # Turn off x axis labels on all of the plots but the bottom row\n",
    "\n",
    "    # Set y-axis labels for the first column only\n",
    "    if col == 0:\n",
    "        axs[row, col].set_ylabel(['Superior', 'Mich-Huron', 'Erie', 'Ontario'][row], fontsize=14)\n",
    "    else:\n",
    "        axs[row, col].set_yticklabels([]) # Turn off titles \n",
    "\n",
    "# Set consistent y-axis limits across all subplots\n",
    "for row in range(4):\n",
    "    for col in range(4):\n",
    "        axs[row, col].set_ylim(global_y_min - 10, global_y_max + 10)\n",
    "        axs[row, col].set_xlim(median_df['date'].iloc[0], median_df['date'].iloc[-1])\n",
    "\n",
    "# Position the legend outside the plot area to the right\n",
    "axs[0, 3].legend(loc='lower left', bbox_to_anchor=(1, 0.3),fontsize=12)\n",
    "\n",
    "# Save the figure as a PNG file\n",
    "plt.savefig(f'{dir}forecast/CNBS_forecasts.png')\n",
    "\n",
    "# Adjust layout to prevent overlap\n",
    "plt.tight_layout()\n",
    "plt.show()\n"
   ]
  },
  {
   "cell_type": "markdown",
   "metadata": {},
   "source": [
    "Create an interactive figure that will let you hover over lines and it shows the model and value. This saves as an html file and opens in a web browser."
   ]
  },
  {
   "cell_type": "code",
   "execution_count": 15,
   "metadata": {},
   "outputs": [
    {
     "data": {
      "application/vnd.plotly.v1+json": {
       "config": {
        "plotlyServerURL": "https://plot.ly"
       },
       "data": [
        {
         "fill": "toself",
         "fillcolor": "rgba(169, 169, 169, 0.2)",
         "hovertemplate": "Date: %{x}<br>Conf: 95%<br>Value: %{y}",
         "line": {
          "color": "rgba(255,255,255,0)"
         },
         "showlegend": false,
         "type": "scatter",
         "x": [
          "2025-05-01T00:00:00.000000000",
          "2025-06-01T00:00:00.000000000",
          "2025-07-01T00:00:00.000000000",
          "2025-08-01T00:00:00.000000000",
          "2025-09-01T00:00:00.000000000",
          "2025-10-01T00:00:00.000000000",
          "2025-11-01T00:00:00.000000000",
          "2025-12-01T00:00:00.000000000",
          "2025-12-01T00:00:00.000000000",
          "2025-11-01T00:00:00.000000000",
          "2025-10-01T00:00:00.000000000",
          "2025-09-01T00:00:00.000000000",
          "2025-08-01T00:00:00.000000000",
          "2025-07-01T00:00:00.000000000",
          "2025-06-01T00:00:00.000000000",
          "2025-05-01T00:00:00.000000000"
         ],
         "xaxis": "x",
         "y": {
          "bdata": "L16gsjuyNkBXJFLLXrkpQAAAAMAg6BtAAAAAcGL7I0AA0NV9O0o2QLPpWeS4Y0VA3K2UXuxDTkAAAAAIj9FPQJkEUrZKSl1AgkRopiILXEBq/q6QLnBXQAZO+Au9vExA6LZhBoWVQUCI8OK5bJQ/QKUQmzlI2UFAHyyOu1QFUUA=",
          "dtype": "f8"
         },
         "yaxis": "y"
        },
        {
         "hovertemplate": "Date: %{x}<br>Value: %{y}<br>Model: GP",
         "line": {
          "color": "blue",
          "shape": "linear",
          "width": 2
         },
         "marker": {
          "size": 4
         },
         "mode": "lines+markers",
         "name": "GP",
         "showlegend": true,
         "type": "scatter",
         "x": [
          "2025-05-01T00:00:00.000000000",
          "2025-06-01T00:00:00.000000000",
          "2025-07-01T00:00:00.000000000",
          "2025-08-01T00:00:00.000000000",
          "2025-09-01T00:00:00.000000000",
          "2025-10-01T00:00:00.000000000",
          "2025-11-01T00:00:00.000000000",
          "2025-12-01T00:00:00.000000000"
         ],
         "xaxis": "x",
         "y": {
          "bdata": "OkmvFL2+QkDRtu8pBek4QHcwTzfvSDZAJ4L05lrcOEBVy/+jVU1FQP3/43uOXlFAkDxrMYDdVUBdGgrehZRVQA==",
          "dtype": "f8"
         },
         "yaxis": "y"
        },
        {
         "fill": "toself",
         "fillcolor": "rgba(169, 169, 169, 0.2)",
         "hovertemplate": "Date: %{x}<br>Conf: 95%<br>Value: %{y}",
         "line": {
          "color": "rgba(255,255,255,0)"
         },
         "showlegend": false,
         "type": "scatter",
         "x": [
          "2025-05-01T00:00:00.000000000",
          "2025-06-01T00:00:00.000000000",
          "2025-07-01T00:00:00.000000000",
          "2025-08-01T00:00:00.000000000",
          "2025-09-01T00:00:00.000000000",
          "2025-10-01T00:00:00.000000000",
          "2025-11-01T00:00:00.000000000",
          "2025-12-01T00:00:00.000000000",
          "2025-12-01T00:00:00.000000000",
          "2025-11-01T00:00:00.000000000",
          "2025-10-01T00:00:00.000000000",
          "2025-09-01T00:00:00.000000000",
          "2025-08-01T00:00:00.000000000",
          "2025-07-01T00:00:00.000000000",
          "2025-06-01T00:00:00.000000000",
          "2025-05-01T00:00:00.000000000"
         ],
         "xaxis": "x",
         "y": {
          "bdata": "L16gsjuyNkBXJFLLXrkpQAAAAMAg6BtAAAAAcGL7I0AA0NV9O0o2QLPpWeS4Y0VA3K2UXuxDTkAAAAAIj9FPQJkEUrZKSl1AgkRopiILXEBq/q6QLnBXQAZO+Au9vExA6LZhBoWVQUCI8OK5bJQ/QKUQmzlI2UFAHyyOu1QFUUA=",
          "dtype": "f8"
         },
         "yaxis": "y"
        },
        {
         "hovertemplate": "Date: %{x}<br>Value: %{y}<br>Model: RF",
         "line": {
          "color": "green",
          "shape": "linear",
          "width": 2
         },
         "marker": {
          "size": 4
         },
         "mode": "lines+markers",
         "name": "RF",
         "showlegend": true,
         "type": "scatter",
         "x": [
          "2025-05-01T00:00:00.000000000",
          "2025-06-01T00:00:00.000000000",
          "2025-07-01T00:00:00.000000000",
          "2025-08-01T00:00:00.000000000",
          "2025-09-01T00:00:00.000000000",
          "2025-10-01T00:00:00.000000000",
          "2025-11-01T00:00:00.000000000",
          "2025-12-01T00:00:00.000000000"
         ],
         "xaxis": "x",
         "y": {
          "bdata": "Zkosfu7jRkAulmEa17I6QGCt4bQ0aDZAnOgxEj4xNUDjVqZASPpEQIjS88h0rFJAQGiIu/4nV0DSfdRSBZRZQA==",
          "dtype": "f8"
         },
         "yaxis": "y"
        },
        {
         "fill": "toself",
         "fillcolor": "rgba(169, 169, 169, 0.2)",
         "hovertemplate": "Date: %{x}<br>Conf: 95%<br>Value: %{y}",
         "line": {
          "color": "rgba(255,255,255,0)"
         },
         "showlegend": false,
         "type": "scatter",
         "x": [
          "2025-05-01T00:00:00.000000000",
          "2025-06-01T00:00:00.000000000",
          "2025-07-01T00:00:00.000000000",
          "2025-08-01T00:00:00.000000000",
          "2025-09-01T00:00:00.000000000",
          "2025-10-01T00:00:00.000000000",
          "2025-11-01T00:00:00.000000000",
          "2025-12-01T00:00:00.000000000",
          "2025-12-01T00:00:00.000000000",
          "2025-11-01T00:00:00.000000000",
          "2025-10-01T00:00:00.000000000",
          "2025-09-01T00:00:00.000000000",
          "2025-08-01T00:00:00.000000000",
          "2025-07-01T00:00:00.000000000",
          "2025-06-01T00:00:00.000000000",
          "2025-05-01T00:00:00.000000000"
         ],
         "xaxis": "x",
         "y": {
          "bdata": "L16gsjuyNkBXJFLLXrkpQAAAAMAg6BtAAAAAcGL7I0AA0NV9O0o2QLPpWeS4Y0VA3K2UXuxDTkAAAAAIj9FPQJkEUrZKSl1AgkRopiILXEBq/q6QLnBXQAZO+Au9vExA6LZhBoWVQUCI8OK5bJQ/QKUQmzlI2UFAHyyOu1QFUUA=",
          "dtype": "f8"
         },
         "yaxis": "y"
        },
        {
         "hovertemplate": "Date: %{x}<br>Value: %{y}<br>Model: LR",
         "line": {
          "color": "red",
          "shape": "linear",
          "width": 2
         },
         "marker": {
          "size": 4
         },
         "mode": "lines+markers",
         "name": "LR",
         "showlegend": true,
         "type": "scatter",
         "x": [
          "2025-05-01T00:00:00.000000000",
          "2025-06-01T00:00:00.000000000",
          "2025-07-01T00:00:00.000000000",
          "2025-08-01T00:00:00.000000000",
          "2025-09-01T00:00:00.000000000",
          "2025-10-01T00:00:00.000000000",
          "2025-11-01T00:00:00.000000000",
          "2025-12-01T00:00:00.000000000"
         ],
         "xaxis": "x",
         "y": {
          "bdata": "/BBCX6KdQEDkiNlnZKM4QJm+gyLZZjdAr1jxMsogPEDWyGNoyJVFQFgVgIeLnlBAWmhShR2BVUBOlo7JiLxYQA==",
          "dtype": "f8"
         },
         "yaxis": "y"
        },
        {
         "fill": "toself",
         "fillcolor": "rgba(169, 169, 169, 0.2)",
         "hovertemplate": "Date: %{x}<br>Conf: 95%<br>Value: %{y}",
         "line": {
          "color": "rgba(255,255,255,0)"
         },
         "showlegend": false,
         "type": "scatter",
         "x": [
          "2025-05-01T00:00:00.000000000",
          "2025-06-01T00:00:00.000000000",
          "2025-07-01T00:00:00.000000000",
          "2025-08-01T00:00:00.000000000",
          "2025-09-01T00:00:00.000000000",
          "2025-10-01T00:00:00.000000000",
          "2025-11-01T00:00:00.000000000",
          "2025-12-01T00:00:00.000000000",
          "2025-12-01T00:00:00.000000000",
          "2025-11-01T00:00:00.000000000",
          "2025-10-01T00:00:00.000000000",
          "2025-09-01T00:00:00.000000000",
          "2025-08-01T00:00:00.000000000",
          "2025-07-01T00:00:00.000000000",
          "2025-06-01T00:00:00.000000000",
          "2025-05-01T00:00:00.000000000"
         ],
         "xaxis": "x",
         "y": {
          "bdata": "L16gsjuyNkBXJFLLXrkpQAAAAMAg6BtAAAAAcGL7I0AA0NV9O0o2QLPpWeS4Y0VA3K2UXuxDTkAAAAAIj9FPQJkEUrZKSl1AgkRopiILXEBq/q6QLnBXQAZO+Au9vExA6LZhBoWVQUCI8OK5bJQ/QKUQmzlI2UFAHyyOu1QFUUA=",
          "dtype": "f8"
         },
         "yaxis": "y"
        },
        {
         "hovertemplate": "Date: %{x}<br>Value: %{y}<br>Model: NN",
         "line": {
          "color": "purple",
          "shape": "linear",
          "width": 2
         },
         "marker": {
          "size": 4
         },
         "mode": "lines+markers",
         "name": "NN",
         "showlegend": true,
         "type": "scatter",
         "x": [
          "2025-05-01T00:00:00.000000000",
          "2025-06-01T00:00:00.000000000",
          "2025-07-01T00:00:00.000000000",
          "2025-08-01T00:00:00.000000000",
          "2025-09-01T00:00:00.000000000",
          "2025-10-01T00:00:00.000000000",
          "2025-11-01T00:00:00.000000000",
          "2025-12-01T00:00:00.000000000"
         ],
         "xaxis": "x",
         "y": {
          "bdata": "AAAA4G5SREAAAAAg6BE4QAAAAGAapS5AAAAAoO4CMkAAAACQfvRBQAAAAGC6P1BAAAAAUJuUU0AAAACQSMhSQA==",
          "dtype": "f8"
         },
         "yaxis": "y"
        },
        {
         "line": {
          "color": "black"
         },
         "mode": "lines",
         "showlegend": false,
         "type": "scatter",
         "x": [
          "2025-05-01T00:00:00",
          "2025-12-01T00:00:00"
         ],
         "xaxis": "x",
         "y": [
          0,
          0
         ],
         "yaxis": "y"
        },
        {
         "fill": "toself",
         "fillcolor": "rgba(169, 169, 169, 0.2)",
         "hovertemplate": "Date: %{x}<br>Conf: 95%<br>Value: %{y}",
         "line": {
          "color": "rgba(255,255,255,0)"
         },
         "showlegend": false,
         "type": "scatter",
         "x": [
          "2025-05-01T00:00:00.000000000",
          "2025-06-01T00:00:00.000000000",
          "2025-07-01T00:00:00.000000000",
          "2025-08-01T00:00:00.000000000",
          "2025-09-01T00:00:00.000000000",
          "2025-10-01T00:00:00.000000000",
          "2025-11-01T00:00:00.000000000",
          "2025-12-01T00:00:00.000000000",
          "2025-12-01T00:00:00.000000000",
          "2025-11-01T00:00:00.000000000",
          "2025-10-01T00:00:00.000000000",
          "2025-09-01T00:00:00.000000000",
          "2025-08-01T00:00:00.000000000",
          "2025-07-01T00:00:00.000000000",
          "2025-06-01T00:00:00.000000000",
          "2025-05-01T00:00:00.000000000"
         ],
         "xaxis": "x2",
         "y": {
          "bdata": "D9SF0y7xPUBiuEDRgNtEQPRKjNOF/0RAepNrXUuWRkD2jYKXzvJFQGZmZsJXKEBAS75NC6WqN0DyxhJmKiUyQJQBNlHaQU9A4ojpP1V8V0BfvYpZL5JdQKVLsXlIlmFA3ASgrTpHYEBmHx6NX5tfQF5v1BFbgF9Alo9JpFLNW0A=",
          "dtype": "f8"
         },
         "yaxis": "y2"
        },
        {
         "hovertemplate": "Date: %{x}<br>Value: %{y}<br>Model: GP",
         "line": {
          "color": "blue",
          "shape": "linear",
          "width": 2
         },
         "marker": {
          "size": 4
         },
         "mode": "lines+markers",
         "name": "GP",
         "showlegend": false,
         "type": "scatter",
         "x": [
          "2025-05-01T00:00:00.000000000",
          "2025-06-01T00:00:00.000000000",
          "2025-07-01T00:00:00.000000000",
          "2025-08-01T00:00:00.000000000",
          "2025-09-01T00:00:00.000000000",
          "2025-10-01T00:00:00.000000000",
          "2025-11-01T00:00:00.000000000",
          "2025-12-01T00:00:00.000000000"
         ],
         "xaxis": "x2",
         "y": {
          "bdata": "uT43Ll0CT0DwkrDC5tBSQB6QztSGHVNAjqEO0MTjU0BSJoA+eG9WQH3RqDNfrFBAb0nGhSenRkA+WnN4kA9AQA==",
          "dtype": "f8"
         },
         "yaxis": "y2"
        },
        {
         "fill": "toself",
         "fillcolor": "rgba(169, 169, 169, 0.2)",
         "hovertemplate": "Date: %{x}<br>Conf: 95%<br>Value: %{y}",
         "line": {
          "color": "rgba(255,255,255,0)"
         },
         "showlegend": false,
         "type": "scatter",
         "x": [
          "2025-05-01T00:00:00.000000000",
          "2025-06-01T00:00:00.000000000",
          "2025-07-01T00:00:00.000000000",
          "2025-08-01T00:00:00.000000000",
          "2025-09-01T00:00:00.000000000",
          "2025-10-01T00:00:00.000000000",
          "2025-11-01T00:00:00.000000000",
          "2025-12-01T00:00:00.000000000",
          "2025-12-01T00:00:00.000000000",
          "2025-11-01T00:00:00.000000000",
          "2025-10-01T00:00:00.000000000",
          "2025-09-01T00:00:00.000000000",
          "2025-08-01T00:00:00.000000000",
          "2025-07-01T00:00:00.000000000",
          "2025-06-01T00:00:00.000000000",
          "2025-05-01T00:00:00.000000000"
         ],
         "xaxis": "x2",
         "y": {
          "bdata": "D9SF0y7xPUBiuEDRgNtEQPRKjNOF/0RAepNrXUuWRkD2jYKXzvJFQGZmZsJXKEBAS75NC6WqN0DyxhJmKiUyQJQBNlHaQU9A4ojpP1V8V0BfvYpZL5JdQKVLsXlIlmFA3ASgrTpHYEBmHx6NX5tfQF5v1BFbgF9Alo9JpFLNW0A=",
          "dtype": "f8"
         },
         "yaxis": "y2"
        },
        {
         "hovertemplate": "Date: %{x}<br>Value: %{y}<br>Model: RF",
         "line": {
          "color": "green",
          "shape": "linear",
          "width": 2
         },
         "marker": {
          "size": 4
         },
         "mode": "lines+markers",
         "name": "RF",
         "showlegend": false,
         "type": "scatter",
         "x": [
          "2025-05-01T00:00:00.000000000",
          "2025-06-01T00:00:00.000000000",
          "2025-07-01T00:00:00.000000000",
          "2025-08-01T00:00:00.000000000",
          "2025-09-01T00:00:00.000000000",
          "2025-10-01T00:00:00.000000000",
          "2025-11-01T00:00:00.000000000",
          "2025-12-01T00:00:00.000000000"
         ],
         "xaxis": "x2",
         "y": {
          "bdata": "rKkeq01tUkBr2kbyu1hTQFj/rw3fblJAwBxquW16UkD0sUKJekdUQERwzDxgBFBAnIhv/h4DSEDUeROOkz5FQA==",
          "dtype": "f8"
         },
         "yaxis": "y2"
        },
        {
         "fill": "toself",
         "fillcolor": "rgba(169, 169, 169, 0.2)",
         "hovertemplate": "Date: %{x}<br>Conf: 95%<br>Value: %{y}",
         "line": {
          "color": "rgba(255,255,255,0)"
         },
         "showlegend": false,
         "type": "scatter",
         "x": [
          "2025-05-01T00:00:00.000000000",
          "2025-06-01T00:00:00.000000000",
          "2025-07-01T00:00:00.000000000",
          "2025-08-01T00:00:00.000000000",
          "2025-09-01T00:00:00.000000000",
          "2025-10-01T00:00:00.000000000",
          "2025-11-01T00:00:00.000000000",
          "2025-12-01T00:00:00.000000000",
          "2025-12-01T00:00:00.000000000",
          "2025-11-01T00:00:00.000000000",
          "2025-10-01T00:00:00.000000000",
          "2025-09-01T00:00:00.000000000",
          "2025-08-01T00:00:00.000000000",
          "2025-07-01T00:00:00.000000000",
          "2025-06-01T00:00:00.000000000",
          "2025-05-01T00:00:00.000000000"
         ],
         "xaxis": "x2",
         "y": {
          "bdata": "D9SF0y7xPUBiuEDRgNtEQPRKjNOF/0RAepNrXUuWRkD2jYKXzvJFQGZmZsJXKEBAS75NC6WqN0DyxhJmKiUyQJQBNlHaQU9A4ojpP1V8V0BfvYpZL5JdQKVLsXlIlmFA3ASgrTpHYEBmHx6NX5tfQF5v1BFbgF9Alo9JpFLNW0A=",
          "dtype": "f8"
         },
         "yaxis": "y2"
        },
        {
         "hovertemplate": "Date: %{x}<br>Value: %{y}<br>Model: LR",
         "line": {
          "color": "red",
          "shape": "linear",
          "width": 2
         },
         "marker": {
          "size": 4
         },
         "mode": "lines+markers",
         "name": "LR",
         "showlegend": false,
         "type": "scatter",
         "x": [
          "2025-05-01T00:00:00.000000000",
          "2025-06-01T00:00:00.000000000",
          "2025-07-01T00:00:00.000000000",
          "2025-08-01T00:00:00.000000000",
          "2025-09-01T00:00:00.000000000",
          "2025-10-01T00:00:00.000000000",
          "2025-11-01T00:00:00.000000000",
          "2025-12-01T00:00:00.000000000"
         ],
         "xaxis": "x2",
         "y": {
          "bdata": "+l2V+9D+T0Ch/VsZwDRTQMaPF6bB61NAlIQfH9TpUkCRzYvl0QVVQNgmfqjkNVFATvO/mXnYSEBOBOgeqFNBQA==",
          "dtype": "f8"
         },
         "yaxis": "y2"
        },
        {
         "fill": "toself",
         "fillcolor": "rgba(169, 169, 169, 0.2)",
         "hovertemplate": "Date: %{x}<br>Conf: 95%<br>Value: %{y}",
         "line": {
          "color": "rgba(255,255,255,0)"
         },
         "showlegend": false,
         "type": "scatter",
         "x": [
          "2025-05-01T00:00:00.000000000",
          "2025-06-01T00:00:00.000000000",
          "2025-07-01T00:00:00.000000000",
          "2025-08-01T00:00:00.000000000",
          "2025-09-01T00:00:00.000000000",
          "2025-10-01T00:00:00.000000000",
          "2025-11-01T00:00:00.000000000",
          "2025-12-01T00:00:00.000000000",
          "2025-12-01T00:00:00.000000000",
          "2025-11-01T00:00:00.000000000",
          "2025-10-01T00:00:00.000000000",
          "2025-09-01T00:00:00.000000000",
          "2025-08-01T00:00:00.000000000",
          "2025-07-01T00:00:00.000000000",
          "2025-06-01T00:00:00.000000000",
          "2025-05-01T00:00:00.000000000"
         ],
         "xaxis": "x2",
         "y": {
          "bdata": "D9SF0y7xPUBiuEDRgNtEQPRKjNOF/0RAepNrXUuWRkD2jYKXzvJFQGZmZsJXKEBAS75NC6WqN0DyxhJmKiUyQJQBNlHaQU9A4ojpP1V8V0BfvYpZL5JdQKVLsXlIlmFA3ASgrTpHYEBmHx6NX5tfQF5v1BFbgF9Alo9JpFLNW0A=",
          "dtype": "f8"
         },
         "yaxis": "y2"
        },
        {
         "hovertemplate": "Date: %{x}<br>Value: %{y}<br>Model: NN",
         "line": {
          "color": "purple",
          "shape": "linear",
          "width": 2
         },
         "marker": {
          "size": 4
         },
         "mode": "lines+markers",
         "name": "NN",
         "showlegend": false,
         "type": "scatter",
         "x": [
          "2025-05-01T00:00:00.000000000",
          "2025-06-01T00:00:00.000000000",
          "2025-07-01T00:00:00.000000000",
          "2025-08-01T00:00:00.000000000",
          "2025-09-01T00:00:00.000000000",
          "2025-10-01T00:00:00.000000000",
          "2025-11-01T00:00:00.000000000",
          "2025-12-01T00:00:00.000000000"
         ],
         "xaxis": "x2",
         "y": {
          "bdata": "AAAAMGogTkAAAADQrIlSQAAAAGA9mVNAAAAAUEBaU0AAAAAQiKxVQAAAAODGIlBAAAAAUJqUSEAAAACgDAdCQA==",
          "dtype": "f8"
         },
         "yaxis": "y2"
        },
        {
         "line": {
          "color": "black"
         },
         "mode": "lines",
         "showlegend": false,
         "type": "scatter",
         "x": [
          "2025-05-01T00:00:00",
          "2025-12-01T00:00:00"
         ],
         "xaxis": "x2",
         "y": [
          0,
          0
         ],
         "yaxis": "y2"
        },
        {
         "fill": "toself",
         "fillcolor": "rgba(169, 169, 169, 0.2)",
         "hovertemplate": "Date: %{x}<br>Conf: 95%<br>Value: %{y}",
         "line": {
          "color": "rgba(255,255,255,0)"
         },
         "showlegend": false,
         "type": "scatter",
         "x": [
          "2025-05-01T00:00:00.000000000",
          "2025-06-01T00:00:00.000000000",
          "2025-07-01T00:00:00.000000000",
          "2025-08-01T00:00:00.000000000",
          "2025-09-01T00:00:00.000000000",
          "2025-10-01T00:00:00.000000000",
          "2025-11-01T00:00:00.000000000",
          "2025-12-01T00:00:00.000000000",
          "2025-12-01T00:00:00.000000000",
          "2025-11-01T00:00:00.000000000",
          "2025-10-01T00:00:00.000000000",
          "2025-09-01T00:00:00.000000000",
          "2025-08-01T00:00:00.000000000",
          "2025-07-01T00:00:00.000000000",
          "2025-06-01T00:00:00.000000000",
          "2025-05-01T00:00:00.000000000"
         ],
         "xaxis": "x3",
         "y": {
          "bdata": "vQUDQFSKQkAzZj5nZ7E/QAAAAIxbXTtAXjOl9T1cPUDYD4gM75ZBQEcEcH7Ky0JArYZ/P8t2PUAY6pBqJ2M4QDqymQ73LU9ADFJFqoMaUEAxHuRhkGNRQESMCP5FF1NA3cpGmn6kVEDHpLXPdVZWQJlUwJLhF1dAnofIzoYNVkA=",
          "dtype": "f8"
         },
         "yaxis": "y3"
        },
        {
         "hovertemplate": "Date: %{x}<br>Value: %{y}<br>Model: GP",
         "line": {
          "color": "blue",
          "shape": "linear",
          "width": 2
         },
         "marker": {
          "size": 4
         },
         "mode": "lines+markers",
         "name": "GP",
         "showlegend": false,
         "type": "scatter",
         "x": [
          "2025-05-01T00:00:00.000000000",
          "2025-06-01T00:00:00.000000000",
          "2025-07-01T00:00:00.000000000",
          "2025-08-01T00:00:00.000000000",
          "2025-09-01T00:00:00.000000000",
          "2025-10-01T00:00:00.000000000",
          "2025-11-01T00:00:00.000000000",
          "2025-12-01T00:00:00.000000000"
         ],
         "xaxis": "x3",
         "y": {
          "bdata": "Epc7+lFLS0D8GQpe7VdFQCNtMIqT10FAHg/NQYIMQ0D6hOgVLYdIQGXPseRbc0hAkjFmwu40REAZoxie7Iw/QA==",
          "dtype": "f8"
         },
         "yaxis": "y3"
        },
        {
         "fill": "toself",
         "fillcolor": "rgba(169, 169, 169, 0.2)",
         "hovertemplate": "Date: %{x}<br>Conf: 95%<br>Value: %{y}",
         "line": {
          "color": "rgba(255,255,255,0)"
         },
         "showlegend": false,
         "type": "scatter",
         "x": [
          "2025-05-01T00:00:00.000000000",
          "2025-06-01T00:00:00.000000000",
          "2025-07-01T00:00:00.000000000",
          "2025-08-01T00:00:00.000000000",
          "2025-09-01T00:00:00.000000000",
          "2025-10-01T00:00:00.000000000",
          "2025-11-01T00:00:00.000000000",
          "2025-12-01T00:00:00.000000000",
          "2025-12-01T00:00:00.000000000",
          "2025-11-01T00:00:00.000000000",
          "2025-10-01T00:00:00.000000000",
          "2025-09-01T00:00:00.000000000",
          "2025-08-01T00:00:00.000000000",
          "2025-07-01T00:00:00.000000000",
          "2025-06-01T00:00:00.000000000",
          "2025-05-01T00:00:00.000000000"
         ],
         "xaxis": "x3",
         "y": {
          "bdata": "vQUDQFSKQkAzZj5nZ7E/QAAAAIxbXTtAXjOl9T1cPUDYD4gM75ZBQEcEcH7Ky0JArYZ/P8t2PUAY6pBqJ2M4QDqymQ73LU9ADFJFqoMaUEAxHuRhkGNRQESMCP5FF1NA3cpGmn6kVEDHpLXPdVZWQJlUwJLhF1dAnofIzoYNVkA=",
          "dtype": "f8"
         },
         "yaxis": "y3"
        },
        {
         "hovertemplate": "Date: %{x}<br>Value: %{y}<br>Model: RF",
         "line": {
          "color": "green",
          "shape": "linear",
          "width": 2
         },
         "marker": {
          "size": 4
         },
         "mode": "lines+markers",
         "name": "RF",
         "showlegend": false,
         "type": "scatter",
         "x": [
          "2025-05-01T00:00:00.000000000",
          "2025-06-01T00:00:00.000000000",
          "2025-07-01T00:00:00.000000000",
          "2025-08-01T00:00:00.000000000",
          "2025-09-01T00:00:00.000000000",
          "2025-10-01T00:00:00.000000000",
          "2025-11-01T00:00:00.000000000",
          "2025-12-01T00:00:00.000000000"
         ],
         "xaxis": "x3",
         "y": {
          "bdata": "oaIIIU9+RECAgdGQ3zFDQDj1qU++akJA9K0/aNklQkBboVCsbk1EQK5ub93tw0VAaWymzMZPQ0Cuk9cJYYdAQA==",
          "dtype": "f8"
         },
         "yaxis": "y3"
        },
        {
         "fill": "toself",
         "fillcolor": "rgba(169, 169, 169, 0.2)",
         "hovertemplate": "Date: %{x}<br>Conf: 95%<br>Value: %{y}",
         "line": {
          "color": "rgba(255,255,255,0)"
         },
         "showlegend": false,
         "type": "scatter",
         "x": [
          "2025-05-01T00:00:00.000000000",
          "2025-06-01T00:00:00.000000000",
          "2025-07-01T00:00:00.000000000",
          "2025-08-01T00:00:00.000000000",
          "2025-09-01T00:00:00.000000000",
          "2025-10-01T00:00:00.000000000",
          "2025-11-01T00:00:00.000000000",
          "2025-12-01T00:00:00.000000000",
          "2025-12-01T00:00:00.000000000",
          "2025-11-01T00:00:00.000000000",
          "2025-10-01T00:00:00.000000000",
          "2025-09-01T00:00:00.000000000",
          "2025-08-01T00:00:00.000000000",
          "2025-07-01T00:00:00.000000000",
          "2025-06-01T00:00:00.000000000",
          "2025-05-01T00:00:00.000000000"
         ],
         "xaxis": "x3",
         "y": {
          "bdata": "vQUDQFSKQkAzZj5nZ7E/QAAAAIxbXTtAXjOl9T1cPUDYD4gM75ZBQEcEcH7Ky0JArYZ/P8t2PUAY6pBqJ2M4QDqymQ73LU9ADFJFqoMaUEAxHuRhkGNRQESMCP5FF1NA3cpGmn6kVEDHpLXPdVZWQJlUwJLhF1dAnofIzoYNVkA=",
          "dtype": "f8"
         },
         "yaxis": "y3"
        },
        {
         "hovertemplate": "Date: %{x}<br>Value: %{y}<br>Model: LR",
         "line": {
          "color": "red",
          "shape": "linear",
          "width": 2
         },
         "marker": {
          "size": 4
         },
         "mode": "lines+markers",
         "name": "LR",
         "showlegend": false,
         "type": "scatter",
         "x": [
          "2025-05-01T00:00:00.000000000",
          "2025-06-01T00:00:00.000000000",
          "2025-07-01T00:00:00.000000000",
          "2025-08-01T00:00:00.000000000",
          "2025-09-01T00:00:00.000000000",
          "2025-10-01T00:00:00.000000000",
          "2025-11-01T00:00:00.000000000",
          "2025-12-01T00:00:00.000000000"
         ],
         "xaxis": "x3",
         "y": {
          "bdata": "EtLNlk6nU0CUejMJVLlUQKCJTk0JLlRAVITeM7Z4UkAkQI+UEy1RQFpViWUv+E5A1Gq7Z60JTUCdrbJx0jhMQA==",
          "dtype": "f8"
         },
         "yaxis": "y3"
        },
        {
         "fill": "toself",
         "fillcolor": "rgba(169, 169, 169, 0.2)",
         "hovertemplate": "Date: %{x}<br>Conf: 95%<br>Value: %{y}",
         "line": {
          "color": "rgba(255,255,255,0)"
         },
         "showlegend": false,
         "type": "scatter",
         "x": [
          "2025-05-01T00:00:00.000000000",
          "2025-06-01T00:00:00.000000000",
          "2025-07-01T00:00:00.000000000",
          "2025-08-01T00:00:00.000000000",
          "2025-09-01T00:00:00.000000000",
          "2025-10-01T00:00:00.000000000",
          "2025-11-01T00:00:00.000000000",
          "2025-12-01T00:00:00.000000000",
          "2025-12-01T00:00:00.000000000",
          "2025-11-01T00:00:00.000000000",
          "2025-10-01T00:00:00.000000000",
          "2025-09-01T00:00:00.000000000",
          "2025-08-01T00:00:00.000000000",
          "2025-07-01T00:00:00.000000000",
          "2025-06-01T00:00:00.000000000",
          "2025-05-01T00:00:00.000000000"
         ],
         "xaxis": "x3",
         "y": {
          "bdata": "vQUDQFSKQkAzZj5nZ7E/QAAAAIxbXTtAXjOl9T1cPUDYD4gM75ZBQEcEcH7Ky0JArYZ/P8t2PUAY6pBqJ2M4QDqymQ73LU9ADFJFqoMaUEAxHuRhkGNRQESMCP5FF1NA3cpGmn6kVEDHpLXPdVZWQJlUwJLhF1dAnofIzoYNVkA=",
          "dtype": "f8"
         },
         "yaxis": "y3"
        },
        {
         "hovertemplate": "Date: %{x}<br>Value: %{y}<br>Model: NN",
         "line": {
          "color": "purple",
          "shape": "linear",
          "width": 2
         },
         "marker": {
          "size": 4
         },
         "mode": "lines+markers",
         "name": "NN",
         "showlegend": false,
         "type": "scatter",
         "x": [
          "2025-05-01T00:00:00.000000000",
          "2025-06-01T00:00:00.000000000",
          "2025-07-01T00:00:00.000000000",
          "2025-08-01T00:00:00.000000000",
          "2025-09-01T00:00:00.000000000",
          "2025-10-01T00:00:00.000000000",
          "2025-11-01T00:00:00.000000000",
          "2025-12-01T00:00:00.000000000"
         ],
         "xaxis": "x3",
         "y": {
          "bdata": "AAAAkFKfR0AAAACATBFDQAAAAIBFC0FAAAAAIMjOQUAAAADQGUVGQAAAANACM0hAAAAA8BjYREAAAAAgprFAQA==",
          "dtype": "f8"
         },
         "yaxis": "y3"
        },
        {
         "line": {
          "color": "black"
         },
         "mode": "lines",
         "showlegend": false,
         "type": "scatter",
         "x": [
          "2025-05-01T00:00:00",
          "2025-12-01T00:00:00"
         ],
         "xaxis": "x3",
         "y": [
          0,
          0
         ],
         "yaxis": "y3"
        },
        {
         "fill": "toself",
         "fillcolor": "rgba(169, 169, 169, 0.2)",
         "hovertemplate": "Date: %{x}<br>Conf: 95%<br>Value: %{y}",
         "line": {
          "color": "rgba(255,255,255,0)"
         },
         "showlegend": false,
         "type": "scatter",
         "x": [
          "2025-05-01T00:00:00.000000000",
          "2025-06-01T00:00:00.000000000",
          "2025-07-01T00:00:00.000000000",
          "2025-08-01T00:00:00.000000000",
          "2025-09-01T00:00:00.000000000",
          "2025-10-01T00:00:00.000000000",
          "2025-11-01T00:00:00.000000000",
          "2025-12-01T00:00:00.000000000",
          "2025-12-01T00:00:00.000000000",
          "2025-11-01T00:00:00.000000000",
          "2025-10-01T00:00:00.000000000",
          "2025-09-01T00:00:00.000000000",
          "2025-08-01T00:00:00.000000000",
          "2025-07-01T00:00:00.000000000",
          "2025-06-01T00:00:00.000000000",
          "2025-05-01T00:00:00.000000000"
         ],
         "xaxis": "x4",
         "y": {
          "bdata": "iqzCirF1PUD5VPjQrNhIQKk/bOvqeElAXGqTz32hTEAAAAD0FWZEQDViyfMgyOe/Be6EQTU/PsC28v6e2y5DwJumzQORIDlAwc2m7AnrUkBFMxwMMP1eQA2gC8ipbGVA6LS0026DZUA8IerX7dhmQJALZrh7HmdAHnQ6TtghZEA=",
          "dtype": "f8"
         },
         "yaxis": "y4"
        },
        {
         "hovertemplate": "Date: %{x}<br>Value: %{y}<br>Model: GP",
         "line": {
          "color": "blue",
          "shape": "linear",
          "width": 2
         },
         "marker": {
          "size": 4
         },
         "mode": "lines+markers",
         "name": "GP",
         "showlegend": false,
         "type": "scatter",
         "x": [
          "2025-05-01T00:00:00.000000000",
          "2025-06-01T00:00:00.000000000",
          "2025-07-01T00:00:00.000000000",
          "2025-08-01T00:00:00.000000000",
          "2025-09-01T00:00:00.000000000",
          "2025-10-01T00:00:00.000000000",
          "2025-11-01T00:00:00.000000000",
          "2025-12-01T00:00:00.000000000"
         ],
         "xaxis": "x4",
         "y": {
          "bdata": "4na6iD+BU0DbAx1TTi1XQADHHlBla1ZAvvHAOhRNV0CSKdSmOMpXQHEsdtW9FUZAsPf3seMdCsDefRyMSLc4wA==",
          "dtype": "f8"
         },
         "yaxis": "y4"
        },
        {
         "fill": "toself",
         "fillcolor": "rgba(169, 169, 169, 0.2)",
         "hovertemplate": "Date: %{x}<br>Conf: 95%<br>Value: %{y}",
         "line": {
          "color": "rgba(255,255,255,0)"
         },
         "showlegend": false,
         "type": "scatter",
         "x": [
          "2025-05-01T00:00:00.000000000",
          "2025-06-01T00:00:00.000000000",
          "2025-07-01T00:00:00.000000000",
          "2025-08-01T00:00:00.000000000",
          "2025-09-01T00:00:00.000000000",
          "2025-10-01T00:00:00.000000000",
          "2025-11-01T00:00:00.000000000",
          "2025-12-01T00:00:00.000000000",
          "2025-12-01T00:00:00.000000000",
          "2025-11-01T00:00:00.000000000",
          "2025-10-01T00:00:00.000000000",
          "2025-09-01T00:00:00.000000000",
          "2025-08-01T00:00:00.000000000",
          "2025-07-01T00:00:00.000000000",
          "2025-06-01T00:00:00.000000000",
          "2025-05-01T00:00:00.000000000"
         ],
         "xaxis": "x4",
         "y": {
          "bdata": "iqzCirF1PUD5VPjQrNhIQKk/bOvqeElAXGqTz32hTEAAAAD0FWZEQDViyfMgyOe/Be6EQTU/PsC28v6e2y5DwJumzQORIDlAwc2m7AnrUkBFMxwMMP1eQA2gC8ipbGVA6LS0026DZUA8IerX7dhmQJALZrh7HmdAHnQ6TtghZEA=",
          "dtype": "f8"
         },
         "yaxis": "y4"
        },
        {
         "hovertemplate": "Date: %{x}<br>Value: %{y}<br>Model: RF",
         "line": {
          "color": "green",
          "shape": "linear",
          "width": 2
         },
         "marker": {
          "size": 4
         },
         "mode": "lines+markers",
         "name": "RF",
         "showlegend": false,
         "type": "scatter",
         "x": [
          "2025-05-01T00:00:00.000000000",
          "2025-06-01T00:00:00.000000000",
          "2025-07-01T00:00:00.000000000",
          "2025-08-01T00:00:00.000000000",
          "2025-09-01T00:00:00.000000000",
          "2025-10-01T00:00:00.000000000",
          "2025-11-01T00:00:00.000000000",
          "2025-12-01T00:00:00.000000000"
         ],
         "xaxis": "x4",
         "y": {
          "bdata": "PZDLrzrUUEDgA+KZJApWQIT+6jtnElZAnoLF6/VOVkBKqWj+DJNTQAD1Je+bhD9A0PTXPTgJGMBWKk2Y0O04wA==",
          "dtype": "f8"
         },
         "yaxis": "y4"
        },
        {
         "fill": "toself",
         "fillcolor": "rgba(169, 169, 169, 0.2)",
         "hovertemplate": "Date: %{x}<br>Conf: 95%<br>Value: %{y}",
         "line": {
          "color": "rgba(255,255,255,0)"
         },
         "showlegend": false,
         "type": "scatter",
         "x": [
          "2025-05-01T00:00:00.000000000",
          "2025-06-01T00:00:00.000000000",
          "2025-07-01T00:00:00.000000000",
          "2025-08-01T00:00:00.000000000",
          "2025-09-01T00:00:00.000000000",
          "2025-10-01T00:00:00.000000000",
          "2025-11-01T00:00:00.000000000",
          "2025-12-01T00:00:00.000000000",
          "2025-12-01T00:00:00.000000000",
          "2025-11-01T00:00:00.000000000",
          "2025-10-01T00:00:00.000000000",
          "2025-09-01T00:00:00.000000000",
          "2025-08-01T00:00:00.000000000",
          "2025-07-01T00:00:00.000000000",
          "2025-06-01T00:00:00.000000000",
          "2025-05-01T00:00:00.000000000"
         ],
         "xaxis": "x4",
         "y": {
          "bdata": "iqzCirF1PUD5VPjQrNhIQKk/bOvqeElAXGqTz32hTEAAAAD0FWZEQDViyfMgyOe/Be6EQTU/PsC28v6e2y5DwJumzQORIDlAwc2m7AnrUkBFMxwMMP1eQA2gC8ipbGVA6LS0026DZUA8IerX7dhmQJALZrh7HmdAHnQ6TtghZEA=",
          "dtype": "f8"
         },
         "yaxis": "y4"
        },
        {
         "hovertemplate": "Date: %{x}<br>Value: %{y}<br>Model: LR",
         "line": {
          "color": "red",
          "shape": "linear",
          "width": 2
         },
         "marker": {
          "size": 4
         },
         "mode": "lines+markers",
         "name": "LR",
         "showlegend": false,
         "type": "scatter",
         "x": [
          "2025-05-01T00:00:00.000000000",
          "2025-06-01T00:00:00.000000000",
          "2025-07-01T00:00:00.000000000",
          "2025-08-01T00:00:00.000000000",
          "2025-09-01T00:00:00.000000000",
          "2025-10-01T00:00:00.000000000",
          "2025-11-01T00:00:00.000000000",
          "2025-12-01T00:00:00.000000000"
         ],
         "xaxis": "x4",
         "y": {
          "bdata": "IodjI/49W0D+wIGXuwBhQFz1AbBEHGFAQnsPdYeXXkBXoEHgVGZbQLwp0p75JFBAgBhUX+euNUAgKoqf3O4gwA==",
          "dtype": "f8"
         },
         "yaxis": "y4"
        },
        {
         "fill": "toself",
         "fillcolor": "rgba(169, 169, 169, 0.2)",
         "hovertemplate": "Date: %{x}<br>Conf: 95%<br>Value: %{y}",
         "line": {
          "color": "rgba(255,255,255,0)"
         },
         "showlegend": false,
         "type": "scatter",
         "x": [
          "2025-05-01T00:00:00.000000000",
          "2025-06-01T00:00:00.000000000",
          "2025-07-01T00:00:00.000000000",
          "2025-08-01T00:00:00.000000000",
          "2025-09-01T00:00:00.000000000",
          "2025-10-01T00:00:00.000000000",
          "2025-11-01T00:00:00.000000000",
          "2025-12-01T00:00:00.000000000",
          "2025-12-01T00:00:00.000000000",
          "2025-11-01T00:00:00.000000000",
          "2025-10-01T00:00:00.000000000",
          "2025-09-01T00:00:00.000000000",
          "2025-08-01T00:00:00.000000000",
          "2025-07-01T00:00:00.000000000",
          "2025-06-01T00:00:00.000000000",
          "2025-05-01T00:00:00.000000000"
         ],
         "xaxis": "x4",
         "y": {
          "bdata": "iqzCirF1PUD5VPjQrNhIQKk/bOvqeElAXGqTz32hTEAAAAD0FWZEQDViyfMgyOe/Be6EQTU/PsC28v6e2y5DwJumzQORIDlAwc2m7AnrUkBFMxwMMP1eQA2gC8ipbGVA6LS0026DZUA8IerX7dhmQJALZrh7HmdAHnQ6TtghZEA=",
          "dtype": "f8"
         },
         "yaxis": "y4"
        },
        {
         "hovertemplate": "Date: %{x}<br>Value: %{y}<br>Model: NN",
         "line": {
          "color": "purple",
          "shape": "linear",
          "width": 2
         },
         "marker": {
          "size": 4
         },
         "mode": "lines+markers",
         "name": "NN",
         "showlegend": false,
         "type": "scatter",
         "x": [
          "2025-05-01T00:00:00.000000000",
          "2025-06-01T00:00:00.000000000",
          "2025-07-01T00:00:00.000000000",
          "2025-08-01T00:00:00.000000000",
          "2025-09-01T00:00:00.000000000",
          "2025-10-01T00:00:00.000000000",
          "2025-11-01T00:00:00.000000000",
          "2025-12-01T00:00:00.000000000"
         ],
         "xaxis": "x4",
         "y": {
          "bdata": "AAAAUA53UEAAAAAAIjhWQAAAABDuU1hAAAAAcKnfV0AAAACQYktXQAAAAJC0oUZAAAAAgP6IJUAAAAAApEkYwA==",
          "dtype": "f8"
         },
         "yaxis": "y4"
        },
        {
         "line": {
          "color": "black"
         },
         "mode": "lines",
         "showlegend": false,
         "type": "scatter",
         "x": [
          "2025-05-01T00:00:00",
          "2025-12-01T00:00:00"
         ],
         "xaxis": "x4",
         "y": [
          0,
          0
         ],
         "yaxis": "y4"
        },
        {
         "fill": "toself",
         "fillcolor": "rgba(169, 169, 169, 0.2)",
         "hovertemplate": "Date: %{x}<br>Conf: 95%<br>Value: %{y}",
         "line": {
          "color": "rgba(255,255,255,0)"
         },
         "showlegend": false,
         "type": "scatter",
         "x": [
          "2025-05-01T00:00:00.000000000",
          "2025-06-01T00:00:00.000000000",
          "2025-07-01T00:00:00.000000000",
          "2025-08-01T00:00:00.000000000",
          "2025-09-01T00:00:00.000000000",
          "2025-10-01T00:00:00.000000000",
          "2025-11-01T00:00:00.000000000",
          "2025-12-01T00:00:00.000000000",
          "2025-12-01T00:00:00.000000000",
          "2025-11-01T00:00:00.000000000",
          "2025-10-01T00:00:00.000000000",
          "2025-09-01T00:00:00.000000000",
          "2025-08-01T00:00:00.000000000",
          "2025-07-01T00:00:00.000000000",
          "2025-06-01T00:00:00.000000000",
          "2025-05-01T00:00:00.000000000"
         ],
         "xaxis": "x5",
         "y": {
          "bdata": "IuERRZ3QQUDNzMx0ssc+QGZmZhpEYDtAAAAAxCouPUBcLKtjlIpCQKL/0uyL+kZA0xq161zgSkCukuiR+FZLQHDPUavAklpAswWi7P5bWkCf5f2sYlZXQEF2QFnuslBAy75eUPGIS0BQMtFhx8FNQMwmFyb3D01A3h/YiW51UkA=",
          "dtype": "f8"
         },
         "yaxis": "y5"
        },
        {
         "hovertemplate": "Date: %{x}<br>Value: %{y}<br>Model: GP",
         "line": {
          "color": "blue",
          "shape": "linear",
          "width": 2
         },
         "marker": {
          "size": 4
         },
         "mode": "lines+markers",
         "name": "GP",
         "showlegend": false,
         "type": "scatter",
         "x": [
          "2025-05-01T00:00:00.000000000",
          "2025-06-01T00:00:00.000000000",
          "2025-07-01T00:00:00.000000000",
          "2025-08-01T00:00:00.000000000",
          "2025-09-01T00:00:00.000000000",
          "2025-10-01T00:00:00.000000000",
          "2025-11-01T00:00:00.000000000",
          "2025-12-01T00:00:00.000000000"
         ],
         "xaxis": "x5",
         "y": {
          "bdata": "xlEMuwazRUCgIQF8vM5CQPFzsIoUo0JALP0jInCxQkCMNFCQZL9HQICoIg3vX1BAxqeRrjELU0B4dVnY9LpSQA==",
          "dtype": "f8"
         },
         "yaxis": "y5"
        },
        {
         "fill": "toself",
         "fillcolor": "rgba(169, 169, 169, 0.2)",
         "hovertemplate": "Date: %{x}<br>Conf: 95%<br>Value: %{y}",
         "line": {
          "color": "rgba(255,255,255,0)"
         },
         "showlegend": false,
         "type": "scatter",
         "x": [
          "2025-05-01T00:00:00.000000000",
          "2025-06-01T00:00:00.000000000",
          "2025-07-01T00:00:00.000000000",
          "2025-08-01T00:00:00.000000000",
          "2025-09-01T00:00:00.000000000",
          "2025-10-01T00:00:00.000000000",
          "2025-11-01T00:00:00.000000000",
          "2025-12-01T00:00:00.000000000",
          "2025-12-01T00:00:00.000000000",
          "2025-11-01T00:00:00.000000000",
          "2025-10-01T00:00:00.000000000",
          "2025-09-01T00:00:00.000000000",
          "2025-08-01T00:00:00.000000000",
          "2025-07-01T00:00:00.000000000",
          "2025-06-01T00:00:00.000000000",
          "2025-05-01T00:00:00.000000000"
         ],
         "xaxis": "x5",
         "y": {
          "bdata": "IuERRZ3QQUDNzMx0ssc+QGZmZhpEYDtAAAAAxCouPUBcLKtjlIpCQKL/0uyL+kZA0xq161zgSkCukuiR+FZLQHDPUavAklpAswWi7P5bWkCf5f2sYlZXQEF2QFnuslBAy75eUPGIS0BQMtFhx8FNQMwmFyb3D01A3h/YiW51UkA=",
          "dtype": "f8"
         },
         "yaxis": "y5"
        },
        {
         "hovertemplate": "Date: %{x}<br>Value: %{y}<br>Model: RF",
         "line": {
          "color": "green",
          "shape": "linear",
          "width": 2
         },
         "marker": {
          "size": 4
         },
         "mode": "lines+markers",
         "name": "RF",
         "showlegend": false,
         "type": "scatter",
         "x": [
          "2025-05-01T00:00:00.000000000",
          "2025-06-01T00:00:00.000000000",
          "2025-07-01T00:00:00.000000000",
          "2025-08-01T00:00:00.000000000",
          "2025-09-01T00:00:00.000000000",
          "2025-10-01T00:00:00.000000000",
          "2025-11-01T00:00:00.000000000",
          "2025-12-01T00:00:00.000000000"
         ],
         "xaxis": "x5",
         "y": {
          "bdata": "wDw0Cin7TED6nD13E+5GQAhqyzjPSUVAKjP6E10nRUAgov65UENMQObD+nSXr1JA2iLriG3IU0DSI9aqtvdWQA==",
          "dtype": "f8"
         },
         "yaxis": "y5"
        },
        {
         "fill": "toself",
         "fillcolor": "rgba(169, 169, 169, 0.2)",
         "hovertemplate": "Date: %{x}<br>Conf: 95%<br>Value: %{y}",
         "line": {
          "color": "rgba(255,255,255,0)"
         },
         "showlegend": false,
         "type": "scatter",
         "x": [
          "2025-05-01T00:00:00.000000000",
          "2025-06-01T00:00:00.000000000",
          "2025-07-01T00:00:00.000000000",
          "2025-08-01T00:00:00.000000000",
          "2025-09-01T00:00:00.000000000",
          "2025-10-01T00:00:00.000000000",
          "2025-11-01T00:00:00.000000000",
          "2025-12-01T00:00:00.000000000",
          "2025-12-01T00:00:00.000000000",
          "2025-11-01T00:00:00.000000000",
          "2025-10-01T00:00:00.000000000",
          "2025-09-01T00:00:00.000000000",
          "2025-08-01T00:00:00.000000000",
          "2025-07-01T00:00:00.000000000",
          "2025-06-01T00:00:00.000000000",
          "2025-05-01T00:00:00.000000000"
         ],
         "xaxis": "x5",
         "y": {
          "bdata": "IuERRZ3QQUDNzMx0ssc+QGZmZhpEYDtAAAAAxCouPUBcLKtjlIpCQKL/0uyL+kZA0xq161zgSkCukuiR+FZLQHDPUavAklpAswWi7P5bWkCf5f2sYlZXQEF2QFnuslBAy75eUPGIS0BQMtFhx8FNQMwmFyb3D01A3h/YiW51UkA=",
          "dtype": "f8"
         },
         "yaxis": "y5"
        },
        {
         "hovertemplate": "Date: %{x}<br>Value: %{y}<br>Model: LR",
         "line": {
          "color": "red",
          "shape": "linear",
          "width": 2
         },
         "marker": {
          "size": 4
         },
         "mode": "lines+markers",
         "name": "LR",
         "showlegend": false,
         "type": "scatter",
         "x": [
          "2025-05-01T00:00:00.000000000",
          "2025-06-01T00:00:00.000000000",
          "2025-07-01T00:00:00.000000000",
          "2025-08-01T00:00:00.000000000",
          "2025-09-01T00:00:00.000000000",
          "2025-10-01T00:00:00.000000000",
          "2025-11-01T00:00:00.000000000",
          "2025-12-01T00:00:00.000000000"
         ],
         "xaxis": "x5",
         "y": {
          "bdata": "trsd15mFSUAm3V5tLwxKQJAazOWFk0pAtDxGeilwSEDkHhF4ZClKQMBMv0RRnFBABPkzwlqiU0AzB9FisKJVQA==",
          "dtype": "f8"
         },
         "yaxis": "y5"
        },
        {
         "fill": "toself",
         "fillcolor": "rgba(169, 169, 169, 0.2)",
         "hovertemplate": "Date: %{x}<br>Conf: 95%<br>Value: %{y}",
         "line": {
          "color": "rgba(255,255,255,0)"
         },
         "showlegend": false,
         "type": "scatter",
         "x": [
          "2025-05-01T00:00:00.000000000",
          "2025-06-01T00:00:00.000000000",
          "2025-07-01T00:00:00.000000000",
          "2025-08-01T00:00:00.000000000",
          "2025-09-01T00:00:00.000000000",
          "2025-10-01T00:00:00.000000000",
          "2025-11-01T00:00:00.000000000",
          "2025-12-01T00:00:00.000000000",
          "2025-12-01T00:00:00.000000000",
          "2025-11-01T00:00:00.000000000",
          "2025-10-01T00:00:00.000000000",
          "2025-09-01T00:00:00.000000000",
          "2025-08-01T00:00:00.000000000",
          "2025-07-01T00:00:00.000000000",
          "2025-06-01T00:00:00.000000000",
          "2025-05-01T00:00:00.000000000"
         ],
         "xaxis": "x5",
         "y": {
          "bdata": "IuERRZ3QQUDNzMx0ssc+QGZmZhpEYDtAAAAAxCouPUBcLKtjlIpCQKL/0uyL+kZA0xq161zgSkCukuiR+FZLQHDPUavAklpAswWi7P5bWkCf5f2sYlZXQEF2QFnuslBAy75eUPGIS0BQMtFhx8FNQMwmFyb3D01A3h/YiW51UkA=",
          "dtype": "f8"
         },
         "yaxis": "y5"
        },
        {
         "hovertemplate": "Date: %{x}<br>Value: %{y}<br>Model: NN",
         "line": {
          "color": "purple",
          "shape": "linear",
          "width": 2
         },
         "marker": {
          "size": 4
         },
         "mode": "lines+markers",
         "name": "NN",
         "showlegend": false,
         "type": "scatter",
         "x": [
          "2025-05-01T00:00:00.000000000",
          "2025-06-01T00:00:00.000000000",
          "2025-07-01T00:00:00.000000000",
          "2025-08-01T00:00:00.000000000",
          "2025-09-01T00:00:00.000000000",
          "2025-10-01T00:00:00.000000000",
          "2025-11-01T00:00:00.000000000",
          "2025-12-01T00:00:00.000000000"
         ],
         "xaxis": "x5",
         "y": {
          "bdata": "AAAAIKupRkAAAABQGTVCQAAAAJDBVUBAAAAAACJnQUAAAABgsYlJQAAAAGBXMVFAAAAAMCyAUkAAAAAgMDVQQA==",
          "dtype": "f8"
         },
         "yaxis": "y5"
        },
        {
         "line": {
          "color": "black"
         },
         "mode": "lines",
         "showlegend": false,
         "type": "scatter",
         "x": [
          "2025-05-01T00:00:00",
          "2025-12-01T00:00:00"
         ],
         "xaxis": "x5",
         "y": [
          0,
          0
         ],
         "yaxis": "y5"
        },
        {
         "fill": "toself",
         "fillcolor": "rgba(169, 169, 169, 0.2)",
         "hovertemplate": "Date: %{x}<br>Conf: 95%<br>Value: %{y}",
         "line": {
          "color": "rgba(255,255,255,0)"
         },
         "showlegend": false,
         "type": "scatter",
         "x": [
          "2025-05-01T00:00:00.000000000",
          "2025-06-01T00:00:00.000000000",
          "2025-07-01T00:00:00.000000000",
          "2025-08-01T00:00:00.000000000",
          "2025-09-01T00:00:00.000000000",
          "2025-10-01T00:00:00.000000000",
          "2025-11-01T00:00:00.000000000",
          "2025-12-01T00:00:00.000000000",
          "2025-12-01T00:00:00.000000000",
          "2025-11-01T00:00:00.000000000",
          "2025-10-01T00:00:00.000000000",
          "2025-09-01T00:00:00.000000000",
          "2025-08-01T00:00:00.000000000",
          "2025-07-01T00:00:00.000000000",
          "2025-06-01T00:00:00.000000000",
          "2025-05-01T00:00:00.000000000"
         ],
         "xaxis": "x6",
         "y": {
          "bdata": "uFVZqHexRUA/lNOCGfxKQPm4mdYc60tAcSFYdUBaS0CCnY6YdypIQKqevNUZqURAzJrcz0oPP0AOLOLEvFA3QEgEJ39dq1RAldlqqhl3XkD404b+3LpiQPIvClT4LmRAzDhlitYkYkBfFAY74ItjQNO3mjid3WJAGQLii1zHYkA=",
          "dtype": "f8"
         },
         "yaxis": "y6"
        },
        {
         "hovertemplate": "Date: %{x}<br>Value: %{y}<br>Model: GP",
         "line": {
          "color": "blue",
          "shape": "linear",
          "width": 2
         },
         "marker": {
          "size": 4
         },
         "mode": "lines+markers",
         "name": "GP",
         "showlegend": false,
         "type": "scatter",
         "x": [
          "2025-05-01T00:00:00.000000000",
          "2025-06-01T00:00:00.000000000",
          "2025-07-01T00:00:00.000000000",
          "2025-08-01T00:00:00.000000000",
          "2025-09-01T00:00:00.000000000",
          "2025-10-01T00:00:00.000000000",
          "2025-11-01T00:00:00.000000000",
          "2025-12-01T00:00:00.000000000"
         ],
         "xaxis": "x6",
         "y": {
          "bdata": "/cB55IrSVUBANpGq+VNZQMMGlO6mnlhAqftL1uu0WEAeEfRCEkRXQPR6K7sReVRAULjGWkF8UEBsrZhubgxGQA==",
          "dtype": "f8"
         },
         "yaxis": "y6"
        },
        {
         "fill": "toself",
         "fillcolor": "rgba(169, 169, 169, 0.2)",
         "hovertemplate": "Date: %{x}<br>Conf: 95%<br>Value: %{y}",
         "line": {
          "color": "rgba(255,255,255,0)"
         },
         "showlegend": false,
         "type": "scatter",
         "x": [
          "2025-05-01T00:00:00.000000000",
          "2025-06-01T00:00:00.000000000",
          "2025-07-01T00:00:00.000000000",
          "2025-08-01T00:00:00.000000000",
          "2025-09-01T00:00:00.000000000",
          "2025-10-01T00:00:00.000000000",
          "2025-11-01T00:00:00.000000000",
          "2025-12-01T00:00:00.000000000",
          "2025-12-01T00:00:00.000000000",
          "2025-11-01T00:00:00.000000000",
          "2025-10-01T00:00:00.000000000",
          "2025-09-01T00:00:00.000000000",
          "2025-08-01T00:00:00.000000000",
          "2025-07-01T00:00:00.000000000",
          "2025-06-01T00:00:00.000000000",
          "2025-05-01T00:00:00.000000000"
         ],
         "xaxis": "x6",
         "y": {
          "bdata": "uFVZqHexRUA/lNOCGfxKQPm4mdYc60tAcSFYdUBaS0CCnY6YdypIQKqevNUZqURAzJrcz0oPP0AOLOLEvFA3QEgEJ39dq1RAldlqqhl3XkD404b+3LpiQPIvClT4LmRAzDhlitYkYkBfFAY74ItjQNO3mjid3WJAGQLii1zHYkA=",
          "dtype": "f8"
         },
         "yaxis": "y6"
        },
        {
         "hovertemplate": "Date: %{x}<br>Value: %{y}<br>Model: RF",
         "line": {
          "color": "green",
          "shape": "linear",
          "width": 2
         },
         "marker": {
          "size": 4
         },
         "mode": "lines+markers",
         "name": "RF",
         "showlegend": false,
         "type": "scatter",
         "x": [
          "2025-05-01T00:00:00.000000000",
          "2025-06-01T00:00:00.000000000",
          "2025-07-01T00:00:00.000000000",
          "2025-08-01T00:00:00.000000000",
          "2025-09-01T00:00:00.000000000",
          "2025-10-01T00:00:00.000000000",
          "2025-11-01T00:00:00.000000000",
          "2025-12-01T00:00:00.000000000"
         ],
         "xaxis": "x6",
         "y": {
          "bdata": "bn3JF26JVkDkti7CnYZWQGJBkEr4HlVAV8E8qSk7VED55Bem/2lWQIqahyK0dFNAtMp08dueUEC+WGhgdO5JQA==",
          "dtype": "f8"
         },
         "yaxis": "y6"
        },
        {
         "fill": "toself",
         "fillcolor": "rgba(169, 169, 169, 0.2)",
         "hovertemplate": "Date: %{x}<br>Conf: 95%<br>Value: %{y}",
         "line": {
          "color": "rgba(255,255,255,0)"
         },
         "showlegend": false,
         "type": "scatter",
         "x": [
          "2025-05-01T00:00:00.000000000",
          "2025-06-01T00:00:00.000000000",
          "2025-07-01T00:00:00.000000000",
          "2025-08-01T00:00:00.000000000",
          "2025-09-01T00:00:00.000000000",
          "2025-10-01T00:00:00.000000000",
          "2025-11-01T00:00:00.000000000",
          "2025-12-01T00:00:00.000000000",
          "2025-12-01T00:00:00.000000000",
          "2025-11-01T00:00:00.000000000",
          "2025-10-01T00:00:00.000000000",
          "2025-09-01T00:00:00.000000000",
          "2025-08-01T00:00:00.000000000",
          "2025-07-01T00:00:00.000000000",
          "2025-06-01T00:00:00.000000000",
          "2025-05-01T00:00:00.000000000"
         ],
         "xaxis": "x6",
         "y": {
          "bdata": "uFVZqHexRUA/lNOCGfxKQPm4mdYc60tAcSFYdUBaS0CCnY6YdypIQKqevNUZqURAzJrcz0oPP0AOLOLEvFA3QEgEJ39dq1RAldlqqhl3XkD404b+3LpiQPIvClT4LmRAzDhlitYkYkBfFAY74ItjQNO3mjid3WJAGQLii1zHYkA=",
          "dtype": "f8"
         },
         "yaxis": "y6"
        },
        {
         "hovertemplate": "Date: %{x}<br>Value: %{y}<br>Model: LR",
         "line": {
          "color": "red",
          "shape": "linear",
          "width": 2
         },
         "marker": {
          "size": 4
         },
         "mode": "lines+markers",
         "name": "LR",
         "showlegend": false,
         "type": "scatter",
         "x": [
          "2025-05-01T00:00:00.000000000",
          "2025-06-01T00:00:00.000000000",
          "2025-07-01T00:00:00.000000000",
          "2025-08-01T00:00:00.000000000",
          "2025-09-01T00:00:00.000000000",
          "2025-10-01T00:00:00.000000000",
          "2025-11-01T00:00:00.000000000",
          "2025-12-01T00:00:00.000000000"
         ],
         "xaxis": "x6",
         "y": {
          "bdata": "mhztrt8gU0De4VDkb91VQC5hbkth0lVAfk8Gv+uMVUAmYsTuPsZUQGanV1sGu1NAHZ9o+t6WUEC9vKLVfShFQA==",
          "dtype": "f8"
         },
         "yaxis": "y6"
        },
        {
         "fill": "toself",
         "fillcolor": "rgba(169, 169, 169, 0.2)",
         "hovertemplate": "Date: %{x}<br>Conf: 95%<br>Value: %{y}",
         "line": {
          "color": "rgba(255,255,255,0)"
         },
         "showlegend": false,
         "type": "scatter",
         "x": [
          "2025-05-01T00:00:00.000000000",
          "2025-06-01T00:00:00.000000000",
          "2025-07-01T00:00:00.000000000",
          "2025-08-01T00:00:00.000000000",
          "2025-09-01T00:00:00.000000000",
          "2025-10-01T00:00:00.000000000",
          "2025-11-01T00:00:00.000000000",
          "2025-12-01T00:00:00.000000000",
          "2025-12-01T00:00:00.000000000",
          "2025-11-01T00:00:00.000000000",
          "2025-10-01T00:00:00.000000000",
          "2025-09-01T00:00:00.000000000",
          "2025-08-01T00:00:00.000000000",
          "2025-07-01T00:00:00.000000000",
          "2025-06-01T00:00:00.000000000",
          "2025-05-01T00:00:00.000000000"
         ],
         "xaxis": "x6",
         "y": {
          "bdata": "uFVZqHexRUA/lNOCGfxKQPm4mdYc60tAcSFYdUBaS0CCnY6YdypIQKqevNUZqURAzJrcz0oPP0AOLOLEvFA3QEgEJ39dq1RAldlqqhl3XkD404b+3LpiQPIvClT4LmRAzDhlitYkYkBfFAY74ItjQNO3mjid3WJAGQLii1zHYkA=",
          "dtype": "f8"
         },
         "yaxis": "y6"
        },
        {
         "hovertemplate": "Date: %{x}<br>Value: %{y}<br>Model: NN",
         "line": {
          "color": "purple",
          "shape": "linear",
          "width": 2
         },
         "marker": {
          "size": 4
         },
         "mode": "lines+markers",
         "name": "NN",
         "showlegend": false,
         "type": "scatter",
         "x": [
          "2025-05-01T00:00:00.000000000",
          "2025-06-01T00:00:00.000000000",
          "2025-07-01T00:00:00.000000000",
          "2025-08-01T00:00:00.000000000",
          "2025-09-01T00:00:00.000000000",
          "2025-10-01T00:00:00.000000000",
          "2025-11-01T00:00:00.000000000",
          "2025-12-01T00:00:00.000000000"
         ],
         "xaxis": "x6",
         "y": {
          "bdata": "AAAAAKBMVUAAAAAgLUpYQAAAAOA2m1dAAAAAIJIWWEAAAACwArJYQAAAANDvNVVAAAAAEHKXUUAAAACQ4nVKQA==",
          "dtype": "f8"
         },
         "yaxis": "y6"
        },
        {
         "line": {
          "color": "black"
         },
         "mode": "lines",
         "showlegend": false,
         "type": "scatter",
         "x": [
          "2025-05-01T00:00:00",
          "2025-12-01T00:00:00"
         ],
         "xaxis": "x6",
         "y": [
          0,
          0
         ],
         "yaxis": "y6"
        },
        {
         "fill": "toself",
         "fillcolor": "rgba(169, 169, 169, 0.2)",
         "hovertemplate": "Date: %{x}<br>Conf: 95%<br>Value: %{y}",
         "line": {
          "color": "rgba(255,255,255,0)"
         },
         "showlegend": false,
         "type": "scatter",
         "x": [
          "2025-05-01T00:00:00.000000000",
          "2025-06-01T00:00:00.000000000",
          "2025-07-01T00:00:00.000000000",
          "2025-08-01T00:00:00.000000000",
          "2025-09-01T00:00:00.000000000",
          "2025-10-01T00:00:00.000000000",
          "2025-11-01T00:00:00.000000000",
          "2025-12-01T00:00:00.000000000",
          "2025-12-01T00:00:00.000000000",
          "2025-11-01T00:00:00.000000000",
          "2025-10-01T00:00:00.000000000",
          "2025-09-01T00:00:00.000000000",
          "2025-08-01T00:00:00.000000000",
          "2025-07-01T00:00:00.000000000",
          "2025-06-01T00:00:00.000000000",
          "2025-05-01T00:00:00.000000000"
         ],
         "xaxis": "x7",
         "y": {
          "bdata": "vtIYCyDaRECxQ9N45mFCQAAAAAB4uEBAQAYh3JxDQUAygPvpCYVCQI1f9fIih0lAAKRzSwPeSUDLv8Kngs9GQEBLc1xlxFZA9t+uEjKkWUBOMg/NqDhZQC+PfNKDIVpAtjiEM/KsWUAw2gtuWKNZQEpqwKs7DFpAw2AYD05eW0A=",
          "dtype": "f8"
         },
         "yaxis": "y7"
        },
        {
         "hovertemplate": "Date: %{x}<br>Value: %{y}<br>Model: GP",
         "line": {
          "color": "blue",
          "shape": "linear",
          "width": 2
         },
         "marker": {
          "size": 4
         },
         "mode": "lines+markers",
         "name": "GP",
         "showlegend": false,
         "type": "scatter",
         "x": [
          "2025-05-01T00:00:00.000000000",
          "2025-06-01T00:00:00.000000000",
          "2025-07-01T00:00:00.000000000",
          "2025-08-01T00:00:00.000000000",
          "2025-09-01T00:00:00.000000000",
          "2025-10-01T00:00:00.000000000",
          "2025-11-01T00:00:00.000000000",
          "2025-12-01T00:00:00.000000000"
         ],
         "xaxis": "x7",
         "y": {
          "bdata": "b3Hztcq9U0DGg1EGn3FMQJypLynuhkdAUsSOKXxYR0CWExKxAoFNQBoHdu85w1FA/ojO7MAdUkBxYNyckClNQA==",
          "dtype": "f8"
         },
         "yaxis": "y7"
        },
        {
         "fill": "toself",
         "fillcolor": "rgba(169, 169, 169, 0.2)",
         "hovertemplate": "Date: %{x}<br>Conf: 95%<br>Value: %{y}",
         "line": {
          "color": "rgba(255,255,255,0)"
         },
         "showlegend": false,
         "type": "scatter",
         "x": [
          "2025-05-01T00:00:00.000000000",
          "2025-06-01T00:00:00.000000000",
          "2025-07-01T00:00:00.000000000",
          "2025-08-01T00:00:00.000000000",
          "2025-09-01T00:00:00.000000000",
          "2025-10-01T00:00:00.000000000",
          "2025-11-01T00:00:00.000000000",
          "2025-12-01T00:00:00.000000000",
          "2025-12-01T00:00:00.000000000",
          "2025-11-01T00:00:00.000000000",
          "2025-10-01T00:00:00.000000000",
          "2025-09-01T00:00:00.000000000",
          "2025-08-01T00:00:00.000000000",
          "2025-07-01T00:00:00.000000000",
          "2025-06-01T00:00:00.000000000",
          "2025-05-01T00:00:00.000000000"
         ],
         "xaxis": "x7",
         "y": {
          "bdata": "vtIYCyDaRECxQ9N45mFCQAAAAAB4uEBAQAYh3JxDQUAygPvpCYVCQI1f9fIih0lAAKRzSwPeSUDLv8Kngs9GQEBLc1xlxFZA9t+uEjKkWUBOMg/NqDhZQC+PfNKDIVpAtjiEM/KsWUAw2gtuWKNZQEpqwKs7DFpAw2AYD05eW0A=",
          "dtype": "f8"
         },
         "yaxis": "y7"
        },
        {
         "hovertemplate": "Date: %{x}<br>Value: %{y}<br>Model: RF",
         "line": {
          "color": "green",
          "shape": "linear",
          "width": 2
         },
         "marker": {
          "size": 4
         },
         "mode": "lines+markers",
         "name": "RF",
         "showlegend": false,
         "type": "scatter",
         "x": [
          "2025-05-01T00:00:00.000000000",
          "2025-06-01T00:00:00.000000000",
          "2025-07-01T00:00:00.000000000",
          "2025-08-01T00:00:00.000000000",
          "2025-09-01T00:00:00.000000000",
          "2025-10-01T00:00:00.000000000",
          "2025-11-01T00:00:00.000000000",
          "2025-12-01T00:00:00.000000000"
         ],
         "xaxis": "x7",
         "y": {
          "bdata": "XiSnaDFySUCCo+to1yBEQPYe6q4pv0JAxYu1f/R4QkC+Ueuze7NFQCC5Bu3rMk9ANEtQAhMnUUDCy450dp9NQA==",
          "dtype": "f8"
         },
         "yaxis": "y7"
        },
        {
         "fill": "toself",
         "fillcolor": "rgba(169, 169, 169, 0.2)",
         "hovertemplate": "Date: %{x}<br>Conf: 95%<br>Value: %{y}",
         "line": {
          "color": "rgba(255,255,255,0)"
         },
         "showlegend": false,
         "type": "scatter",
         "x": [
          "2025-05-01T00:00:00.000000000",
          "2025-06-01T00:00:00.000000000",
          "2025-07-01T00:00:00.000000000",
          "2025-08-01T00:00:00.000000000",
          "2025-09-01T00:00:00.000000000",
          "2025-10-01T00:00:00.000000000",
          "2025-11-01T00:00:00.000000000",
          "2025-12-01T00:00:00.000000000",
          "2025-12-01T00:00:00.000000000",
          "2025-11-01T00:00:00.000000000",
          "2025-10-01T00:00:00.000000000",
          "2025-09-01T00:00:00.000000000",
          "2025-08-01T00:00:00.000000000",
          "2025-07-01T00:00:00.000000000",
          "2025-06-01T00:00:00.000000000",
          "2025-05-01T00:00:00.000000000"
         ],
         "xaxis": "x7",
         "y": {
          "bdata": "vtIYCyDaRECxQ9N45mFCQAAAAAB4uEBAQAYh3JxDQUAygPvpCYVCQI1f9fIih0lAAKRzSwPeSUDLv8Kngs9GQEBLc1xlxFZA9t+uEjKkWUBOMg/NqDhZQC+PfNKDIVpAtjiEM/KsWUAw2gtuWKNZQEpqwKs7DFpAw2AYD05eW0A=",
          "dtype": "f8"
         },
         "yaxis": "y7"
        },
        {
         "hovertemplate": "Date: %{x}<br>Value: %{y}<br>Model: LR",
         "line": {
          "color": "red",
          "shape": "linear",
          "width": 2
         },
         "marker": {
          "size": 4
         },
         "mode": "lines+markers",
         "name": "LR",
         "showlegend": false,
         "type": "scatter",
         "x": [
          "2025-05-01T00:00:00.000000000",
          "2025-06-01T00:00:00.000000000",
          "2025-07-01T00:00:00.000000000",
          "2025-08-01T00:00:00.000000000",
          "2025-09-01T00:00:00.000000000",
          "2025-10-01T00:00:00.000000000",
          "2025-11-01T00:00:00.000000000",
          "2025-12-01T00:00:00.000000000"
         ],
         "xaxis": "x7",
         "y": {
          "bdata": "PCjz8ELuVkDctnCRZrNVQBbr+8l+vlNAnajg/3EgU0DsDf+0qc9TQIpeZ/vT9FRAXOilURxZVUAW7bsIFz5UQA==",
          "dtype": "f8"
         },
         "yaxis": "y7"
        },
        {
         "fill": "toself",
         "fillcolor": "rgba(169, 169, 169, 0.2)",
         "hovertemplate": "Date: %{x}<br>Conf: 95%<br>Value: %{y}",
         "line": {
          "color": "rgba(255,255,255,0)"
         },
         "showlegend": false,
         "type": "scatter",
         "x": [
          "2025-05-01T00:00:00.000000000",
          "2025-06-01T00:00:00.000000000",
          "2025-07-01T00:00:00.000000000",
          "2025-08-01T00:00:00.000000000",
          "2025-09-01T00:00:00.000000000",
          "2025-10-01T00:00:00.000000000",
          "2025-11-01T00:00:00.000000000",
          "2025-12-01T00:00:00.000000000",
          "2025-12-01T00:00:00.000000000",
          "2025-11-01T00:00:00.000000000",
          "2025-10-01T00:00:00.000000000",
          "2025-09-01T00:00:00.000000000",
          "2025-08-01T00:00:00.000000000",
          "2025-07-01T00:00:00.000000000",
          "2025-06-01T00:00:00.000000000",
          "2025-05-01T00:00:00.000000000"
         ],
         "xaxis": "x7",
         "y": {
          "bdata": "vtIYCyDaRECxQ9N45mFCQAAAAAB4uEBAQAYh3JxDQUAygPvpCYVCQI1f9fIih0lAAKRzSwPeSUDLv8Kngs9GQEBLc1xlxFZA9t+uEjKkWUBOMg/NqDhZQC+PfNKDIVpAtjiEM/KsWUAw2gtuWKNZQEpqwKs7DFpAw2AYD05eW0A=",
          "dtype": "f8"
         },
         "yaxis": "y7"
        },
        {
         "hovertemplate": "Date: %{x}<br>Value: %{y}<br>Model: NN",
         "line": {
          "color": "purple",
          "shape": "linear",
          "width": 2
         },
         "marker": {
          "size": 4
         },
         "mode": "lines+markers",
         "name": "NN",
         "showlegend": false,
         "type": "scatter",
         "x": [
          "2025-05-01T00:00:00.000000000",
          "2025-06-01T00:00:00.000000000",
          "2025-07-01T00:00:00.000000000",
          "2025-08-01T00:00:00.000000000",
          "2025-09-01T00:00:00.000000000",
          "2025-10-01T00:00:00.000000000",
          "2025-11-01T00:00:00.000000000",
          "2025-12-01T00:00:00.000000000"
         ],
         "xaxis": "x7",
         "y": {
          "bdata": "AAAAMCgwUEAAAACweO1HQAAAAJDtfERAAAAAcHQyRUAAAADgAZBMQAAAAOD+cFFAAAAAQFo9UUAAAACQSudLQA==",
          "dtype": "f8"
         },
         "yaxis": "y7"
        },
        {
         "line": {
          "color": "black"
         },
         "mode": "lines",
         "showlegend": false,
         "type": "scatter",
         "x": [
          "2025-05-01T00:00:00",
          "2025-12-01T00:00:00"
         ],
         "xaxis": "x7",
         "y": [
          0,
          0
         ],
         "yaxis": "y7"
        },
        {
         "fill": "toself",
         "fillcolor": "rgba(169, 169, 169, 0.2)",
         "hovertemplate": "Date: %{x}<br>Conf: 95%<br>Value: %{y}",
         "line": {
          "color": "rgba(255,255,255,0)"
         },
         "showlegend": false,
         "type": "scatter",
         "x": [
          "2025-05-01T00:00:00.000000000",
          "2025-06-01T00:00:00.000000000",
          "2025-07-01T00:00:00.000000000",
          "2025-08-01T00:00:00.000000000",
          "2025-09-01T00:00:00.000000000",
          "2025-10-01T00:00:00.000000000",
          "2025-11-01T00:00:00.000000000",
          "2025-12-01T00:00:00.000000000",
          "2025-12-01T00:00:00.000000000",
          "2025-11-01T00:00:00.000000000",
          "2025-10-01T00:00:00.000000000",
          "2025-09-01T00:00:00.000000000",
          "2025-08-01T00:00:00.000000000",
          "2025-07-01T00:00:00.000000000",
          "2025-06-01T00:00:00.000000000",
          "2025-05-01T00:00:00.000000000"
         ],
         "xaxis": "x8",
         "y": {
          "bdata": "dbL2v83WS0CEgKj9yLNQQHW2fk95XlBA8IrPPsCqT0DhC7TJxMxHQJm0f4H3Xj1ACxJwUdTkJkAAj/A0/U3zPylxMv1tEVRAmil8DCdzYkA2UGotHQ9nQMFVJ7uET2hA82TrPgK3ZUB3nTcXMPNmQDN+zAX+OWdAl9aFTaYuaUA=",
          "dtype": "f8"
         },
         "yaxis": "y8"
        },
        {
         "hovertemplate": "Date: %{x}<br>Value: %{y}<br>Model: GP",
         "line": {
          "color": "blue",
          "shape": "linear",
          "width": 2
         },
         "marker": {
          "size": 4
         },
         "mode": "lines+markers",
         "name": "GP",
         "showlegend": false,
         "type": "scatter",
         "x": [
          "2025-05-01T00:00:00.000000000",
          "2025-06-01T00:00:00.000000000",
          "2025-07-01T00:00:00.000000000",
          "2025-08-01T00:00:00.000000000",
          "2025-09-01T00:00:00.000000000",
          "2025-10-01T00:00:00.000000000",
          "2025-11-01T00:00:00.000000000",
          "2025-12-01T00:00:00.000000000"
         ],
         "xaxis": "x8",
         "y": {
          "bdata": "GvgQRcBmXkDQxSJ0o/hdQKoxXJuqrlpAXmtBMPqvWkBU0H63Ld5ZQHbB2iLHTVVAhJ+He8WqTkDA2jq1g/06QA==",
          "dtype": "f8"
         },
         "yaxis": "y8"
        },
        {
         "fill": "toself",
         "fillcolor": "rgba(169, 169, 169, 0.2)",
         "hovertemplate": "Date: %{x}<br>Conf: 95%<br>Value: %{y}",
         "line": {
          "color": "rgba(255,255,255,0)"
         },
         "showlegend": false,
         "type": "scatter",
         "x": [
          "2025-05-01T00:00:00.000000000",
          "2025-06-01T00:00:00.000000000",
          "2025-07-01T00:00:00.000000000",
          "2025-08-01T00:00:00.000000000",
          "2025-09-01T00:00:00.000000000",
          "2025-10-01T00:00:00.000000000",
          "2025-11-01T00:00:00.000000000",
          "2025-12-01T00:00:00.000000000",
          "2025-12-01T00:00:00.000000000",
          "2025-11-01T00:00:00.000000000",
          "2025-10-01T00:00:00.000000000",
          "2025-09-01T00:00:00.000000000",
          "2025-08-01T00:00:00.000000000",
          "2025-07-01T00:00:00.000000000",
          "2025-06-01T00:00:00.000000000",
          "2025-05-01T00:00:00.000000000"
         ],
         "xaxis": "x8",
         "y": {
          "bdata": "dbL2v83WS0CEgKj9yLNQQHW2fk95XlBA8IrPPsCqT0DhC7TJxMxHQJm0f4H3Xj1ACxJwUdTkJkAAj/A0/U3zPylxMv1tEVRAmil8DCdzYkA2UGotHQ9nQMFVJ7uET2hA82TrPgK3ZUB3nTcXMPNmQDN+zAX+OWdAl9aFTaYuaUA=",
          "dtype": "f8"
         },
         "yaxis": "y8"
        },
        {
         "hovertemplate": "Date: %{x}<br>Value: %{y}<br>Model: RF",
         "line": {
          "color": "green",
          "shape": "linear",
          "width": 2
         },
         "marker": {
          "size": 4
         },
         "mode": "lines+markers",
         "name": "RF",
         "showlegend": false,
         "type": "scatter",
         "x": [
          "2025-05-01T00:00:00.000000000",
          "2025-06-01T00:00:00.000000000",
          "2025-07-01T00:00:00.000000000",
          "2025-08-01T00:00:00.000000000",
          "2025-09-01T00:00:00.000000000",
          "2025-10-01T00:00:00.000000000",
          "2025-11-01T00:00:00.000000000",
          "2025-12-01T00:00:00.000000000"
         ],
         "xaxis": "x8",
         "y": {
          "bdata": "TKo3dCNpVEAUsDGViipVQHJ39joG91NAcB3TBiwTU0Czown19vpSQHZdlI1LQ09AA1gdKmVfSkDSf08YHKM2QA==",
          "dtype": "f8"
         },
         "yaxis": "y8"
        },
        {
         "fill": "toself",
         "fillcolor": "rgba(169, 169, 169, 0.2)",
         "hovertemplate": "Date: %{x}<br>Conf: 95%<br>Value: %{y}",
         "line": {
          "color": "rgba(255,255,255,0)"
         },
         "showlegend": false,
         "type": "scatter",
         "x": [
          "2025-05-01T00:00:00.000000000",
          "2025-06-01T00:00:00.000000000",
          "2025-07-01T00:00:00.000000000",
          "2025-08-01T00:00:00.000000000",
          "2025-09-01T00:00:00.000000000",
          "2025-10-01T00:00:00.000000000",
          "2025-11-01T00:00:00.000000000",
          "2025-12-01T00:00:00.000000000",
          "2025-12-01T00:00:00.000000000",
          "2025-11-01T00:00:00.000000000",
          "2025-10-01T00:00:00.000000000",
          "2025-09-01T00:00:00.000000000",
          "2025-08-01T00:00:00.000000000",
          "2025-07-01T00:00:00.000000000",
          "2025-06-01T00:00:00.000000000",
          "2025-05-01T00:00:00.000000000"
         ],
         "xaxis": "x8",
         "y": {
          "bdata": "dbL2v83WS0CEgKj9yLNQQHW2fk95XlBA8IrPPsCqT0DhC7TJxMxHQJm0f4H3Xj1ACxJwUdTkJkAAj/A0/U3zPylxMv1tEVRAmil8DCdzYkA2UGotHQ9nQMFVJ7uET2hA82TrPgK3ZUB3nTcXMPNmQDN+zAX+OWdAl9aFTaYuaUA=",
          "dtype": "f8"
         },
         "yaxis": "y8"
        },
        {
         "hovertemplate": "Date: %{x}<br>Value: %{y}<br>Model: LR",
         "line": {
          "color": "red",
          "shape": "linear",
          "width": 2
         },
         "marker": {
          "size": 4
         },
         "mode": "lines+markers",
         "name": "LR",
         "showlegend": false,
         "type": "scatter",
         "x": [
          "2025-05-01T00:00:00.000000000",
          "2025-06-01T00:00:00.000000000",
          "2025-07-01T00:00:00.000000000",
          "2025-08-01T00:00:00.000000000",
          "2025-09-01T00:00:00.000000000",
          "2025-10-01T00:00:00.000000000",
          "2025-11-01T00:00:00.000000000",
          "2025-12-01T00:00:00.000000000"
         ],
         "xaxis": "x8",
         "y": {
          "bdata": "NtcFI8BLXUC2+//IG8leQIIlpybJvVxAiBv4ygssXUDi18VxNQdcQGxUUZEd6FdA2BCtBG/wUUB+re+vFzBDQA==",
          "dtype": "f8"
         },
         "yaxis": "y8"
        },
        {
         "fill": "toself",
         "fillcolor": "rgba(169, 169, 169, 0.2)",
         "hovertemplate": "Date: %{x}<br>Conf: 95%<br>Value: %{y}",
         "line": {
          "color": "rgba(255,255,255,0)"
         },
         "showlegend": false,
         "type": "scatter",
         "x": [
          "2025-05-01T00:00:00.000000000",
          "2025-06-01T00:00:00.000000000",
          "2025-07-01T00:00:00.000000000",
          "2025-08-01T00:00:00.000000000",
          "2025-09-01T00:00:00.000000000",
          "2025-10-01T00:00:00.000000000",
          "2025-11-01T00:00:00.000000000",
          "2025-12-01T00:00:00.000000000",
          "2025-12-01T00:00:00.000000000",
          "2025-11-01T00:00:00.000000000",
          "2025-10-01T00:00:00.000000000",
          "2025-09-01T00:00:00.000000000",
          "2025-08-01T00:00:00.000000000",
          "2025-07-01T00:00:00.000000000",
          "2025-06-01T00:00:00.000000000",
          "2025-05-01T00:00:00.000000000"
         ],
         "xaxis": "x8",
         "y": {
          "bdata": "dbL2v83WS0CEgKj9yLNQQHW2fk95XlBA8IrPPsCqT0DhC7TJxMxHQJm0f4H3Xj1ACxJwUdTkJkAAj/A0/U3zPylxMv1tEVRAmil8DCdzYkA2UGotHQ9nQMFVJ7uET2hA82TrPgK3ZUB3nTcXMPNmQDN+zAX+OWdAl9aFTaYuaUA=",
          "dtype": "f8"
         },
         "yaxis": "y8"
        },
        {
         "hovertemplate": "Date: %{x}<br>Value: %{y}<br>Model: NN",
         "line": {
          "color": "purple",
          "shape": "linear",
          "width": 2
         },
         "marker": {
          "size": 4
         },
         "mode": "lines+markers",
         "name": "NN",
         "showlegend": false,
         "type": "scatter",
         "x": [
          "2025-05-01T00:00:00.000000000",
          "2025-06-01T00:00:00.000000000",
          "2025-07-01T00:00:00.000000000",
          "2025-08-01T00:00:00.000000000",
          "2025-09-01T00:00:00.000000000",
          "2025-10-01T00:00:00.000000000",
          "2025-11-01T00:00:00.000000000",
          "2025-12-01T00:00:00.000000000"
         ],
         "xaxis": "x8",
         "y": {
          "bdata": "AAAAQHEgWkAAAABALkdbQAAAAEATsllAAAAAcIFsWkAAAACgR6daQAAAAJBzWVVAAAAAkGBxUEAAAACwzgtGQA==",
          "dtype": "f8"
         },
         "yaxis": "y8"
        },
        {
         "line": {
          "color": "black"
         },
         "mode": "lines",
         "showlegend": false,
         "type": "scatter",
         "x": [
          "2025-05-01T00:00:00",
          "2025-12-01T00:00:00"
         ],
         "xaxis": "x8",
         "y": [
          0,
          0
         ],
         "yaxis": "y8"
        },
        {
         "fill": "toself",
         "fillcolor": "rgba(169, 169, 169, 0.2)",
         "hovertemplate": "Date: %{x}<br>Conf: 95%<br>Value: %{y}",
         "line": {
          "color": "rgba(255,255,255,0)"
         },
         "showlegend": false,
         "type": "scatter",
         "x": [
          "2025-05-01T00:00:00.000000000",
          "2025-06-01T00:00:00.000000000",
          "2025-07-01T00:00:00.000000000",
          "2025-08-01T00:00:00.000000000",
          "2025-09-01T00:00:00.000000000",
          "2025-10-01T00:00:00.000000000",
          "2025-11-01T00:00:00.000000000",
          "2025-12-01T00:00:00.000000000",
          "2025-12-01T00:00:00.000000000",
          "2025-11-01T00:00:00.000000000",
          "2025-10-01T00:00:00.000000000",
          "2025-09-01T00:00:00.000000000",
          "2025-08-01T00:00:00.000000000",
          "2025-07-01T00:00:00.000000000",
          "2025-06-01T00:00:00.000000000",
          "2025-05-01T00:00:00.000000000"
         ],
         "xaxis": "x9",
         "y": {
          "bdata": "mpmZvSG9VUDCDEuWTHRYQJqZmYmGcFlAAAAAkHpmWUBwSt2FvB9ZQPD4LpBN2FNAyYazByzZQ0CojA6jRKg4QC9pqIq16FZAAkGUOf6BXUDbKlRTSedjQIXIskF89WJA4AwkG/JXZECK8tz4k8pkQOZcUXiCbmNAtp8/HoAzYkA=",
          "dtype": "f8"
         },
         "yaxis": "y9"
        },
        {
         "hovertemplate": "Date: %{x}<br>Value: %{y}<br>Model: GP",
         "line": {
          "color": "blue",
          "shape": "linear",
          "width": 2
         },
         "marker": {
          "size": 4
         },
         "mode": "lines+markers",
         "name": "GP",
         "showlegend": false,
         "type": "scatter",
         "x": [
          "2025-05-01T00:00:00.000000000",
          "2025-06-01T00:00:00.000000000",
          "2025-07-01T00:00:00.000000000",
          "2025-08-01T00:00:00.000000000",
          "2025-09-01T00:00:00.000000000",
          "2025-10-01T00:00:00.000000000",
          "2025-11-01T00:00:00.000000000",
          "2025-12-01T00:00:00.000000000"
         ],
         "xaxis": "x9",
         "y": {
          "bdata": "/myQBwHkWUBUNHqKAOpcQGshdzSI3V1AD3NV0HJqXUBhJFqCkLNdQHomh0/f7VxA0A594mB7VUBQQ0Wo0KdKQA==",
          "dtype": "f8"
         },
         "yaxis": "y9"
        },
        {
         "fill": "toself",
         "fillcolor": "rgba(169, 169, 169, 0.2)",
         "hovertemplate": "Date: %{x}<br>Conf: 95%<br>Value: %{y}",
         "line": {
          "color": "rgba(255,255,255,0)"
         },
         "showlegend": false,
         "type": "scatter",
         "x": [
          "2025-05-01T00:00:00.000000000",
          "2025-06-01T00:00:00.000000000",
          "2025-07-01T00:00:00.000000000",
          "2025-08-01T00:00:00.000000000",
          "2025-09-01T00:00:00.000000000",
          "2025-10-01T00:00:00.000000000",
          "2025-11-01T00:00:00.000000000",
          "2025-12-01T00:00:00.000000000",
          "2025-12-01T00:00:00.000000000",
          "2025-11-01T00:00:00.000000000",
          "2025-10-01T00:00:00.000000000",
          "2025-09-01T00:00:00.000000000",
          "2025-08-01T00:00:00.000000000",
          "2025-07-01T00:00:00.000000000",
          "2025-06-01T00:00:00.000000000",
          "2025-05-01T00:00:00.000000000"
         ],
         "xaxis": "x9",
         "y": {
          "bdata": "mpmZvSG9VUDCDEuWTHRYQJqZmYmGcFlAAAAAkHpmWUBwSt2FvB9ZQPD4LpBN2FNAyYazByzZQ0CojA6jRKg4QC9pqIq16FZAAkGUOf6BXUDbKlRTSedjQIXIskF89WJA4AwkG/JXZECK8tz4k8pkQOZcUXiCbmNAtp8/HoAzYkA=",
          "dtype": "f8"
         },
         "yaxis": "y9"
        },
        {
         "hovertemplate": "Date: %{x}<br>Value: %{y}<br>Model: RF",
         "line": {
          "color": "green",
          "shape": "linear",
          "width": 2
         },
         "marker": {
          "size": 4
         },
         "mode": "lines+markers",
         "name": "RF",
         "showlegend": false,
         "type": "scatter",
         "x": [
          "2025-05-01T00:00:00.000000000",
          "2025-06-01T00:00:00.000000000",
          "2025-07-01T00:00:00.000000000",
          "2025-08-01T00:00:00.000000000",
          "2025-09-01T00:00:00.000000000",
          "2025-10-01T00:00:00.000000000",
          "2025-11-01T00:00:00.000000000",
          "2025-12-01T00:00:00.000000000"
         ],
         "xaxis": "x9",
         "y": {
          "bdata": "NsZB4m0XYUBSVcfhCMpeQNCtOKHxKF1AeK5ZuVx3XUCc0RzwNzdhQDZCkOLZQ2FAJI7EzURUVUDg30i1yTtSQA==",
          "dtype": "f8"
         },
         "yaxis": "y9"
        },
        {
         "fill": "toself",
         "fillcolor": "rgba(169, 169, 169, 0.2)",
         "hovertemplate": "Date: %{x}<br>Conf: 95%<br>Value: %{y}",
         "line": {
          "color": "rgba(255,255,255,0)"
         },
         "showlegend": false,
         "type": "scatter",
         "x": [
          "2025-05-01T00:00:00.000000000",
          "2025-06-01T00:00:00.000000000",
          "2025-07-01T00:00:00.000000000",
          "2025-08-01T00:00:00.000000000",
          "2025-09-01T00:00:00.000000000",
          "2025-10-01T00:00:00.000000000",
          "2025-11-01T00:00:00.000000000",
          "2025-12-01T00:00:00.000000000",
          "2025-12-01T00:00:00.000000000",
          "2025-11-01T00:00:00.000000000",
          "2025-10-01T00:00:00.000000000",
          "2025-09-01T00:00:00.000000000",
          "2025-08-01T00:00:00.000000000",
          "2025-07-01T00:00:00.000000000",
          "2025-06-01T00:00:00.000000000",
          "2025-05-01T00:00:00.000000000"
         ],
         "xaxis": "x9",
         "y": {
          "bdata": "mpmZvSG9VUDCDEuWTHRYQJqZmYmGcFlAAAAAkHpmWUBwSt2FvB9ZQPD4LpBN2FNAyYazByzZQ0CojA6jRKg4QC9pqIq16FZAAkGUOf6BXUDbKlRTSedjQIXIskF89WJA4AwkG/JXZECK8tz4k8pkQOZcUXiCbmNAtp8/HoAzYkA=",
          "dtype": "f8"
         },
         "yaxis": "y9"
        },
        {
         "hovertemplate": "Date: %{x}<br>Value: %{y}<br>Model: LR",
         "line": {
          "color": "red",
          "shape": "linear",
          "width": 2
         },
         "marker": {
          "size": 4
         },
         "mode": "lines+markers",
         "name": "LR",
         "showlegend": false,
         "type": "scatter",
         "x": [
          "2025-05-01T00:00:00.000000000",
          "2025-06-01T00:00:00.000000000",
          "2025-07-01T00:00:00.000000000",
          "2025-08-01T00:00:00.000000000",
          "2025-09-01T00:00:00.000000000",
          "2025-10-01T00:00:00.000000000",
          "2025-11-01T00:00:00.000000000",
          "2025-12-01T00:00:00.000000000"
         ],
         "xaxis": "x9",
         "y": {
          "bdata": "HnwJmO2aW0A8hEcCkLNhQKhPhXcKK2NASmWx7GyXYkA1QzK2X+1gQLeQzJGtd1xALj+CVa1gVUDRknHMWIZMQA==",
          "dtype": "f8"
         },
         "yaxis": "y9"
        },
        {
         "fill": "toself",
         "fillcolor": "rgba(169, 169, 169, 0.2)",
         "hovertemplate": "Date: %{x}<br>Conf: 95%<br>Value: %{y}",
         "line": {
          "color": "rgba(255,255,255,0)"
         },
         "showlegend": false,
         "type": "scatter",
         "x": [
          "2025-05-01T00:00:00.000000000",
          "2025-06-01T00:00:00.000000000",
          "2025-07-01T00:00:00.000000000",
          "2025-08-01T00:00:00.000000000",
          "2025-09-01T00:00:00.000000000",
          "2025-10-01T00:00:00.000000000",
          "2025-11-01T00:00:00.000000000",
          "2025-12-01T00:00:00.000000000",
          "2025-12-01T00:00:00.000000000",
          "2025-11-01T00:00:00.000000000",
          "2025-10-01T00:00:00.000000000",
          "2025-09-01T00:00:00.000000000",
          "2025-08-01T00:00:00.000000000",
          "2025-07-01T00:00:00.000000000",
          "2025-06-01T00:00:00.000000000",
          "2025-05-01T00:00:00.000000000"
         ],
         "xaxis": "x9",
         "y": {
          "bdata": "mpmZvSG9VUDCDEuWTHRYQJqZmYmGcFlAAAAAkHpmWUBwSt2FvB9ZQPD4LpBN2FNAyYazByzZQ0CojA6jRKg4QC9pqIq16FZAAkGUOf6BXUDbKlRTSedjQIXIskF89WJA4AwkG/JXZECK8tz4k8pkQOZcUXiCbmNAtp8/HoAzYkA=",
          "dtype": "f8"
         },
         "yaxis": "y9"
        },
        {
         "hovertemplate": "Date: %{x}<br>Value: %{y}<br>Model: NN",
         "line": {
          "color": "purple",
          "shape": "linear",
          "width": 2
         },
         "marker": {
          "size": 4
         },
         "mode": "lines+markers",
         "name": "NN",
         "showlegend": false,
         "type": "scatter",
         "x": [
          "2025-05-01T00:00:00.000000000",
          "2025-06-01T00:00:00.000000000",
          "2025-07-01T00:00:00.000000000",
          "2025-08-01T00:00:00.000000000",
          "2025-09-01T00:00:00.000000000",
          "2025-10-01T00:00:00.000000000",
          "2025-11-01T00:00:00.000000000",
          "2025-12-01T00:00:00.000000000"
         ],
         "xaxis": "x9",
         "y": {
          "bdata": "AAAAwNtsWUAAAABQgD9bQAAAAFCRJFxAAAAAkIUsXEAAAADQsF5eQAAAAHDN611AAAAAELrUU0AAAADwWchGQA==",
          "dtype": "f8"
         },
         "yaxis": "y9"
        },
        {
         "line": {
          "color": "black"
         },
         "mode": "lines",
         "showlegend": false,
         "type": "scatter",
         "x": [
          "2025-05-01T00:00:00",
          "2025-12-01T00:00:00"
         ],
         "xaxis": "x9",
         "y": [
          0,
          0
         ],
         "yaxis": "y9"
        },
        {
         "fill": "toself",
         "fillcolor": "rgba(169, 169, 169, 0.2)",
         "hovertemplate": "Date: %{x}<br>Conf: 95%<br>Value: %{y}",
         "line": {
          "color": "rgba(255,255,255,0)"
         },
         "showlegend": false,
         "type": "scatter",
         "x": [
          "2025-05-01T00:00:00.000000000",
          "2025-06-01T00:00:00.000000000",
          "2025-07-01T00:00:00.000000000",
          "2025-08-01T00:00:00.000000000",
          "2025-09-01T00:00:00.000000000",
          "2025-10-01T00:00:00.000000000",
          "2025-11-01T00:00:00.000000000",
          "2025-12-01T00:00:00.000000000",
          "2025-12-01T00:00:00.000000000",
          "2025-11-01T00:00:00.000000000",
          "2025-10-01T00:00:00.000000000",
          "2025-09-01T00:00:00.000000000",
          "2025-08-01T00:00:00.000000000",
          "2025-07-01T00:00:00.000000000",
          "2025-06-01T00:00:00.000000000",
          "2025-05-01T00:00:00.000000000"
         ],
         "xaxis": "x10",
         "y": {
          "bdata": "iwkPHIgXSEDjRLHl2rtKQLwrd8I8YktAv0gSNp+NSUAAAADsvuBJQOCDbkFNtkZAGZBGeZKlRUDb9kmP4khCQB0c+h25PVlAiro4hb0oYECTV5gcNFRhQEtYTiowqWFAZhSK/xGzYEA2ka+CoEJhQKslNopw+WFApP1kATZ2YUA=",
          "dtype": "f8"
         },
         "yaxis": "y10"
        },
        {
         "hovertemplate": "Date: %{x}<br>Value: %{y}<br>Model: GP",
         "line": {
          "color": "blue",
          "shape": "linear",
          "width": 2
         },
         "marker": {
          "size": 4
         },
         "mode": "lines+markers",
         "name": "GP",
         "showlegend": false,
         "type": "scatter",
         "x": [
          "2025-05-01T00:00:00.000000000",
          "2025-06-01T00:00:00.000000000",
          "2025-07-01T00:00:00.000000000",
          "2025-08-01T00:00:00.000000000",
          "2025-09-01T00:00:00.000000000",
          "2025-10-01T00:00:00.000000000",
          "2025-11-01T00:00:00.000000000",
          "2025-12-01T00:00:00.000000000"
         ],
         "xaxis": "x10",
         "y": {
          "bdata": "lxeXRVuJV0CNheCfqE1YQHpHVbTrVVdAmfZ5vYyZVkDVEx7HNtNVQFfcIHYgF1VAGTA42JB3U0Dyc4OTlsJNQA==",
          "dtype": "f8"
         },
         "yaxis": "y10"
        },
        {
         "fill": "toself",
         "fillcolor": "rgba(169, 169, 169, 0.2)",
         "hovertemplate": "Date: %{x}<br>Conf: 95%<br>Value: %{y}",
         "line": {
          "color": "rgba(255,255,255,0)"
         },
         "showlegend": false,
         "type": "scatter",
         "x": [
          "2025-05-01T00:00:00.000000000",
          "2025-06-01T00:00:00.000000000",
          "2025-07-01T00:00:00.000000000",
          "2025-08-01T00:00:00.000000000",
          "2025-09-01T00:00:00.000000000",
          "2025-10-01T00:00:00.000000000",
          "2025-11-01T00:00:00.000000000",
          "2025-12-01T00:00:00.000000000",
          "2025-12-01T00:00:00.000000000",
          "2025-11-01T00:00:00.000000000",
          "2025-10-01T00:00:00.000000000",
          "2025-09-01T00:00:00.000000000",
          "2025-08-01T00:00:00.000000000",
          "2025-07-01T00:00:00.000000000",
          "2025-06-01T00:00:00.000000000",
          "2025-05-01T00:00:00.000000000"
         ],
         "xaxis": "x10",
         "y": {
          "bdata": "iwkPHIgXSEDjRLHl2rtKQLwrd8I8YktAv0gSNp+NSUAAAADsvuBJQOCDbkFNtkZAGZBGeZKlRUDb9kmP4khCQB0c+h25PVlAiro4hb0oYECTV5gcNFRhQEtYTiowqWFAZhSK/xGzYEA2ka+CoEJhQKslNopw+WFApP1kATZ2YUA=",
          "dtype": "f8"
         },
         "yaxis": "y10"
        },
        {
         "hovertemplate": "Date: %{x}<br>Value: %{y}<br>Model: RF",
         "line": {
          "color": "green",
          "shape": "linear",
          "width": 2
         },
         "marker": {
          "size": 4
         },
         "mode": "lines+markers",
         "name": "RF",
         "showlegend": false,
         "type": "scatter",
         "x": [
          "2025-05-01T00:00:00.000000000",
          "2025-06-01T00:00:00.000000000",
          "2025-07-01T00:00:00.000000000",
          "2025-08-01T00:00:00.000000000",
          "2025-09-01T00:00:00.000000000",
          "2025-10-01T00:00:00.000000000",
          "2025-11-01T00:00:00.000000000",
          "2025-12-01T00:00:00.000000000"
         ],
         "xaxis": "x10",
         "y": {
          "bdata": "SBGq7L8HWUAHWIOYjWRZQM0ZctRvC1hATIlMvNNoVkCCYVkK+ydXQKj90adKb1VAkChJJZhiU0BUHKdj8PVPQA==",
          "dtype": "f8"
         },
         "yaxis": "y10"
        },
        {
         "fill": "toself",
         "fillcolor": "rgba(169, 169, 169, 0.2)",
         "hovertemplate": "Date: %{x}<br>Conf: 95%<br>Value: %{y}",
         "line": {
          "color": "rgba(255,255,255,0)"
         },
         "showlegend": false,
         "type": "scatter",
         "x": [
          "2025-05-01T00:00:00.000000000",
          "2025-06-01T00:00:00.000000000",
          "2025-07-01T00:00:00.000000000",
          "2025-08-01T00:00:00.000000000",
          "2025-09-01T00:00:00.000000000",
          "2025-10-01T00:00:00.000000000",
          "2025-11-01T00:00:00.000000000",
          "2025-12-01T00:00:00.000000000",
          "2025-12-01T00:00:00.000000000",
          "2025-11-01T00:00:00.000000000",
          "2025-10-01T00:00:00.000000000",
          "2025-09-01T00:00:00.000000000",
          "2025-08-01T00:00:00.000000000",
          "2025-07-01T00:00:00.000000000",
          "2025-06-01T00:00:00.000000000",
          "2025-05-01T00:00:00.000000000"
         ],
         "xaxis": "x10",
         "y": {
          "bdata": "iwkPHIgXSEDjRLHl2rtKQLwrd8I8YktAv0gSNp+NSUAAAADsvuBJQOCDbkFNtkZAGZBGeZKlRUDb9kmP4khCQB0c+h25PVlAiro4hb0oYECTV5gcNFRhQEtYTiowqWFAZhSK/xGzYEA2ka+CoEJhQKslNopw+WFApP1kATZ2YUA=",
          "dtype": "f8"
         },
         "yaxis": "y10"
        },
        {
         "hovertemplate": "Date: %{x}<br>Value: %{y}<br>Model: LR",
         "line": {
          "color": "red",
          "shape": "linear",
          "width": 2
         },
         "marker": {
          "size": 4
         },
         "mode": "lines+markers",
         "name": "LR",
         "showlegend": false,
         "type": "scatter",
         "x": [
          "2025-05-01T00:00:00.000000000",
          "2025-06-01T00:00:00.000000000",
          "2025-07-01T00:00:00.000000000",
          "2025-08-01T00:00:00.000000000",
          "2025-09-01T00:00:00.000000000",
          "2025-10-01T00:00:00.000000000",
          "2025-11-01T00:00:00.000000000",
          "2025-12-01T00:00:00.000000000"
         ],
         "xaxis": "x10",
         "y": {
          "bdata": "nOj44XtTU0Crs6jIgF1UQHZYRmi+RlRAKTXDIiK+U0Bqk2zqiPBTQJYN3/ZbTVRA1n7D7MJXU0DwEXQr88xOQA==",
          "dtype": "f8"
         },
         "yaxis": "y10"
        },
        {
         "fill": "toself",
         "fillcolor": "rgba(169, 169, 169, 0.2)",
         "hovertemplate": "Date: %{x}<br>Conf: 95%<br>Value: %{y}",
         "line": {
          "color": "rgba(255,255,255,0)"
         },
         "showlegend": false,
         "type": "scatter",
         "x": [
          "2025-05-01T00:00:00.000000000",
          "2025-06-01T00:00:00.000000000",
          "2025-07-01T00:00:00.000000000",
          "2025-08-01T00:00:00.000000000",
          "2025-09-01T00:00:00.000000000",
          "2025-10-01T00:00:00.000000000",
          "2025-11-01T00:00:00.000000000",
          "2025-12-01T00:00:00.000000000",
          "2025-12-01T00:00:00.000000000",
          "2025-11-01T00:00:00.000000000",
          "2025-10-01T00:00:00.000000000",
          "2025-09-01T00:00:00.000000000",
          "2025-08-01T00:00:00.000000000",
          "2025-07-01T00:00:00.000000000",
          "2025-06-01T00:00:00.000000000",
          "2025-05-01T00:00:00.000000000"
         ],
         "xaxis": "x10",
         "y": {
          "bdata": "iwkPHIgXSEDjRLHl2rtKQLwrd8I8YktAv0gSNp+NSUAAAADsvuBJQOCDbkFNtkZAGZBGeZKlRUDb9kmP4khCQB0c+h25PVlAiro4hb0oYECTV5gcNFRhQEtYTiowqWFAZhSK/xGzYEA2ka+CoEJhQKslNopw+WFApP1kATZ2YUA=",
          "dtype": "f8"
         },
         "yaxis": "y10"
        },
        {
         "hovertemplate": "Date: %{x}<br>Value: %{y}<br>Model: NN",
         "line": {
          "color": "purple",
          "shape": "linear",
          "width": 2
         },
         "marker": {
          "size": 4
         },
         "mode": "lines+markers",
         "name": "NN",
         "showlegend": false,
         "type": "scatter",
         "x": [
          "2025-05-01T00:00:00.000000000",
          "2025-06-01T00:00:00.000000000",
          "2025-07-01T00:00:00.000000000",
          "2025-08-01T00:00:00.000000000",
          "2025-09-01T00:00:00.000000000",
          "2025-10-01T00:00:00.000000000",
          "2025-11-01T00:00:00.000000000",
          "2025-12-01T00:00:00.000000000"
         ],
         "xaxis": "x10",
         "y": {
          "bdata": "AAAAkDJRVkAAAACwtPZXQAAAAOB3B1dAAAAA8O8CVkAAAAAQgYBWQAAAALBXH1VAAAAAcEVrU0AAAAAA9RJQQA==",
          "dtype": "f8"
         },
         "yaxis": "y10"
        },
        {
         "line": {
          "color": "black"
         },
         "mode": "lines",
         "showlegend": false,
         "type": "scatter",
         "x": [
          "2025-05-01T00:00:00",
          "2025-12-01T00:00:00"
         ],
         "xaxis": "x10",
         "y": [
          0,
          0
         ],
         "yaxis": "y10"
        },
        {
         "fill": "toself",
         "fillcolor": "rgba(169, 169, 169, 0.2)",
         "hovertemplate": "Date: %{x}<br>Conf: 95%<br>Value: %{y}",
         "line": {
          "color": "rgba(255,255,255,0)"
         },
         "showlegend": false,
         "type": "scatter",
         "x": [
          "2025-05-01T00:00:00.000000000",
          "2025-06-01T00:00:00.000000000",
          "2025-07-01T00:00:00.000000000",
          "2025-08-01T00:00:00.000000000",
          "2025-09-01T00:00:00.000000000",
          "2025-10-01T00:00:00.000000000",
          "2025-11-01T00:00:00.000000000",
          "2025-12-01T00:00:00.000000000",
          "2025-12-01T00:00:00.000000000",
          "2025-11-01T00:00:00.000000000",
          "2025-10-01T00:00:00.000000000",
          "2025-09-01T00:00:00.000000000",
          "2025-08-01T00:00:00.000000000",
          "2025-07-01T00:00:00.000000000",
          "2025-06-01T00:00:00.000000000",
          "2025-05-01T00:00:00.000000000"
         ],
         "xaxis": "x11",
         "y": {
          "bdata": "kmlUqar6QEC202k7yxsxQD6uC1QZCfM/sokeEHpCF0A01bySVzAwQG+hIPQaW0FAMzMzU/IfSkATQ6RK7uVIQCw5raJqy2NAAr8oCwf4ZUCFwJuuCOJhQPvFmu43iVtATYoDSVmnUkAVbRRYVYJTQJ6TxzVXDVhABMrx+zsCYUA=",
          "dtype": "f8"
         },
         "yaxis": "y11"
        },
        {
         "hovertemplate": "Date: %{x}<br>Value: %{y}<br>Model: GP",
         "line": {
          "color": "blue",
          "shape": "linear",
          "width": 2
         },
         "marker": {
          "size": 4
         },
         "mode": "lines+markers",
         "name": "GP",
         "showlegend": false,
         "type": "scatter",
         "x": [
          "2025-05-01T00:00:00.000000000",
          "2025-06-01T00:00:00.000000000",
          "2025-07-01T00:00:00.000000000",
          "2025-08-01T00:00:00.000000000",
          "2025-09-01T00:00:00.000000000",
          "2025-10-01T00:00:00.000000000",
          "2025-11-01T00:00:00.000000000",
          "2025-12-01T00:00:00.000000000"
         ],
         "xaxis": "x11",
         "y": {
          "bdata": "TjdrUBoHV0AoBvW5z6FNQFy/r4K4rEVAOPsCs2iyREASUAqzSe9JQONjFPNfnlNAGRkvBlqfWUDOdXaMBYZUQA==",
          "dtype": "f8"
         },
         "yaxis": "y11"
        },
        {
         "fill": "toself",
         "fillcolor": "rgba(169, 169, 169, 0.2)",
         "hovertemplate": "Date: %{x}<br>Conf: 95%<br>Value: %{y}",
         "line": {
          "color": "rgba(255,255,255,0)"
         },
         "showlegend": false,
         "type": "scatter",
         "x": [
          "2025-05-01T00:00:00.000000000",
          "2025-06-01T00:00:00.000000000",
          "2025-07-01T00:00:00.000000000",
          "2025-08-01T00:00:00.000000000",
          "2025-09-01T00:00:00.000000000",
          "2025-10-01T00:00:00.000000000",
          "2025-11-01T00:00:00.000000000",
          "2025-12-01T00:00:00.000000000",
          "2025-12-01T00:00:00.000000000",
          "2025-11-01T00:00:00.000000000",
          "2025-10-01T00:00:00.000000000",
          "2025-09-01T00:00:00.000000000",
          "2025-08-01T00:00:00.000000000",
          "2025-07-01T00:00:00.000000000",
          "2025-06-01T00:00:00.000000000",
          "2025-05-01T00:00:00.000000000"
         ],
         "xaxis": "x11",
         "y": {
          "bdata": "kmlUqar6QEC202k7yxsxQD6uC1QZCfM/sokeEHpCF0A01bySVzAwQG+hIPQaW0FAMzMzU/IfSkATQ6RK7uVIQCw5raJqy2NAAr8oCwf4ZUCFwJuuCOJhQPvFmu43iVtATYoDSVmnUkAVbRRYVYJTQJ6TxzVXDVhABMrx+zsCYUA=",
          "dtype": "f8"
         },
         "yaxis": "y11"
        },
        {
         "hovertemplate": "Date: %{x}<br>Value: %{y}<br>Model: RF",
         "line": {
          "color": "green",
          "shape": "linear",
          "width": 2
         },
         "marker": {
          "size": 4
         },
         "mode": "lines+markers",
         "name": "RF",
         "showlegend": false,
         "type": "scatter",
         "x": [
          "2025-05-01T00:00:00.000000000",
          "2025-06-01T00:00:00.000000000",
          "2025-07-01T00:00:00.000000000",
          "2025-08-01T00:00:00.000000000",
          "2025-09-01T00:00:00.000000000",
          "2025-10-01T00:00:00.000000000",
          "2025-11-01T00:00:00.000000000",
          "2025-12-01T00:00:00.000000000"
         ],
         "xaxis": "x11",
         "y": {
          "bdata": "JDAEK4WMTEBkScoOHA5EQMKB7h/FskBAC3frrjeLP0Bs0efVBupEQMr0nZ5RdlFAxI4OaPtIWUD1r73plmRUQA==",
          "dtype": "f8"
         },
         "yaxis": "y11"
        },
        {
         "fill": "toself",
         "fillcolor": "rgba(169, 169, 169, 0.2)",
         "hovertemplate": "Date: %{x}<br>Conf: 95%<br>Value: %{y}",
         "line": {
          "color": "rgba(255,255,255,0)"
         },
         "showlegend": false,
         "type": "scatter",
         "x": [
          "2025-05-01T00:00:00.000000000",
          "2025-06-01T00:00:00.000000000",
          "2025-07-01T00:00:00.000000000",
          "2025-08-01T00:00:00.000000000",
          "2025-09-01T00:00:00.000000000",
          "2025-10-01T00:00:00.000000000",
          "2025-11-01T00:00:00.000000000",
          "2025-12-01T00:00:00.000000000",
          "2025-12-01T00:00:00.000000000",
          "2025-11-01T00:00:00.000000000",
          "2025-10-01T00:00:00.000000000",
          "2025-09-01T00:00:00.000000000",
          "2025-08-01T00:00:00.000000000",
          "2025-07-01T00:00:00.000000000",
          "2025-06-01T00:00:00.000000000",
          "2025-05-01T00:00:00.000000000"
         ],
         "xaxis": "x11",
         "y": {
          "bdata": "kmlUqar6QEC202k7yxsxQD6uC1QZCfM/sokeEHpCF0A01bySVzAwQG+hIPQaW0FAMzMzU/IfSkATQ6RK7uVIQCw5raJqy2NAAr8oCwf4ZUCFwJuuCOJhQPvFmu43iVtATYoDSVmnUkAVbRRYVYJTQJ6TxzVXDVhABMrx+zsCYUA=",
          "dtype": "f8"
         },
         "yaxis": "y11"
        },
        {
         "hovertemplate": "Date: %{x}<br>Value: %{y}<br>Model: LR",
         "line": {
          "color": "red",
          "shape": "linear",
          "width": 2
         },
         "marker": {
          "size": 4
         },
         "mode": "lines+markers",
         "name": "LR",
         "showlegend": false,
         "type": "scatter",
         "x": [
          "2025-05-01T00:00:00.000000000",
          "2025-06-01T00:00:00.000000000",
          "2025-07-01T00:00:00.000000000",
          "2025-08-01T00:00:00.000000000",
          "2025-09-01T00:00:00.000000000",
          "2025-10-01T00:00:00.000000000",
          "2025-11-01T00:00:00.000000000",
          "2025-12-01T00:00:00.000000000"
         ],
         "xaxis": "x11",
         "y": {
          "bdata": "hBj4LLMcUkBI0UESMlxKQDp20+DJxUFAuiIfL0kbQUAVSrbyV2lMQJm1xMSGJFVAJswf/HuiWECVT20DwO1VQA==",
          "dtype": "f8"
         },
         "yaxis": "y11"
        },
        {
         "fill": "toself",
         "fillcolor": "rgba(169, 169, 169, 0.2)",
         "hovertemplate": "Date: %{x}<br>Conf: 95%<br>Value: %{y}",
         "line": {
          "color": "rgba(255,255,255,0)"
         },
         "showlegend": false,
         "type": "scatter",
         "x": [
          "2025-05-01T00:00:00.000000000",
          "2025-06-01T00:00:00.000000000",
          "2025-07-01T00:00:00.000000000",
          "2025-08-01T00:00:00.000000000",
          "2025-09-01T00:00:00.000000000",
          "2025-10-01T00:00:00.000000000",
          "2025-11-01T00:00:00.000000000",
          "2025-12-01T00:00:00.000000000",
          "2025-12-01T00:00:00.000000000",
          "2025-11-01T00:00:00.000000000",
          "2025-10-01T00:00:00.000000000",
          "2025-09-01T00:00:00.000000000",
          "2025-08-01T00:00:00.000000000",
          "2025-07-01T00:00:00.000000000",
          "2025-06-01T00:00:00.000000000",
          "2025-05-01T00:00:00.000000000"
         ],
         "xaxis": "x11",
         "y": {
          "bdata": "kmlUqar6QEC202k7yxsxQD6uC1QZCfM/sokeEHpCF0A01bySVzAwQG+hIPQaW0FAMzMzU/IfSkATQ6RK7uVIQCw5raJqy2NAAr8oCwf4ZUCFwJuuCOJhQPvFmu43iVtATYoDSVmnUkAVbRRYVYJTQJ6TxzVXDVhABMrx+zsCYUA=",
          "dtype": "f8"
         },
         "yaxis": "y11"
        },
        {
         "hovertemplate": "Date: %{x}<br>Value: %{y}<br>Model: NN",
         "line": {
          "color": "purple",
          "shape": "linear",
          "width": 2
         },
         "marker": {
          "size": 4
         },
         "mode": "lines+markers",
         "name": "NN",
         "showlegend": false,
         "type": "scatter",
         "x": [
          "2025-05-01T00:00:00.000000000",
          "2025-06-01T00:00:00.000000000",
          "2025-07-01T00:00:00.000000000",
          "2025-08-01T00:00:00.000000000",
          "2025-09-01T00:00:00.000000000",
          "2025-10-01T00:00:00.000000000",
          "2025-11-01T00:00:00.000000000",
          "2025-12-01T00:00:00.000000000"
         ],
         "xaxis": "x11",
         "y": {
          "bdata": "AAAAADwJUkAAAADgLGlHQAAAANB+REJAAAAAkNj3QkAAAADACU5HQAAAAHB9AVNAAAAA4MYQWEAAAABg0exSQA==",
          "dtype": "f8"
         },
         "yaxis": "y11"
        },
        {
         "line": {
          "color": "black"
         },
         "mode": "lines",
         "showlegend": false,
         "type": "scatter",
         "x": [
          "2025-05-01T00:00:00",
          "2025-12-01T00:00:00"
         ],
         "xaxis": "x11",
         "y": [
          0,
          0
         ],
         "yaxis": "y11"
        },
        {
         "fill": "toself",
         "fillcolor": "rgba(169, 169, 169, 0.2)",
         "hovertemplate": "Date: %{x}<br>Conf: 95%<br>Value: %{y}",
         "line": {
          "color": "rgba(255,255,255,0)"
         },
         "showlegend": false,
         "type": "scatter",
         "x": [
          "2025-05-01T00:00:00.000000000",
          "2025-06-01T00:00:00.000000000",
          "2025-07-01T00:00:00.000000000",
          "2025-08-01T00:00:00.000000000",
          "2025-09-01T00:00:00.000000000",
          "2025-10-01T00:00:00.000000000",
          "2025-11-01T00:00:00.000000000",
          "2025-12-01T00:00:00.000000000",
          "2025-12-01T00:00:00.000000000",
          "2025-11-01T00:00:00.000000000",
          "2025-10-01T00:00:00.000000000",
          "2025-09-01T00:00:00.000000000",
          "2025-08-01T00:00:00.000000000",
          "2025-07-01T00:00:00.000000000",
          "2025-06-01T00:00:00.000000000",
          "2025-05-01T00:00:00.000000000"
         ],
         "xaxis": "x12",
         "y": {
          "bdata": "G3axKVrCOMCoHP2DYXhRwO6Me9kxaFfAYeySeI05VcA6cDwu4hpLwKRBIvALbTrAkZcYx2jALEBpe1p/sLdBQAAAAJgLJWtATTQuf0eZbECho9I/g29kQC6YTGXiiFtA/+uRNReXUUATjeDDnJRUQEZAhDZOS1xAVFSfVlyTZUA=",
          "dtype": "f8"
         },
         "yaxis": "y12"
        },
        {
         "hovertemplate": "Date: %{x}<br>Value: %{y}<br>Model: GP",
         "line": {
          "color": "blue",
          "shape": "linear",
          "width": 2
         },
         "marker": {
          "size": 4
         },
         "mode": "lines+markers",
         "name": "GP",
         "showlegend": false,
         "type": "scatter",
         "x": [
          "2025-05-01T00:00:00.000000000",
          "2025-06-01T00:00:00.000000000",
          "2025-07-01T00:00:00.000000000",
          "2025-08-01T00:00:00.000000000",
          "2025-09-01T00:00:00.000000000",
          "2025-10-01T00:00:00.000000000",
          "2025-11-01T00:00:00.000000000",
          "2025-12-01T00:00:00.000000000"
         ],
         "xaxis": "x12",
         "y": {
          "bdata": "surMYt5QVECMR/xDQMZEQNhZWELXODJAGLC/7wglLUBw8c7IOMEzQH3Fvkitx0hAdhatOnU7WEA7yrACPDRWQA==",
          "dtype": "f8"
         },
         "yaxis": "y12"
        },
        {
         "fill": "toself",
         "fillcolor": "rgba(169, 169, 169, 0.2)",
         "hovertemplate": "Date: %{x}<br>Conf: 95%<br>Value: %{y}",
         "line": {
          "color": "rgba(255,255,255,0)"
         },
         "showlegend": false,
         "type": "scatter",
         "x": [
          "2025-05-01T00:00:00.000000000",
          "2025-06-01T00:00:00.000000000",
          "2025-07-01T00:00:00.000000000",
          "2025-08-01T00:00:00.000000000",
          "2025-09-01T00:00:00.000000000",
          "2025-10-01T00:00:00.000000000",
          "2025-11-01T00:00:00.000000000",
          "2025-12-01T00:00:00.000000000",
          "2025-12-01T00:00:00.000000000",
          "2025-11-01T00:00:00.000000000",
          "2025-10-01T00:00:00.000000000",
          "2025-09-01T00:00:00.000000000",
          "2025-08-01T00:00:00.000000000",
          "2025-07-01T00:00:00.000000000",
          "2025-06-01T00:00:00.000000000",
          "2025-05-01T00:00:00.000000000"
         ],
         "xaxis": "x12",
         "y": {
          "bdata": "G3axKVrCOMCoHP2DYXhRwO6Me9kxaFfAYeySeI05VcA6cDwu4hpLwKRBIvALbTrAkZcYx2jALEBpe1p/sLdBQAAAAJgLJWtATTQuf0eZbECho9I/g29kQC6YTGXiiFtA/+uRNReXUUATjeDDnJRUQEZAhDZOS1xAVFSfVlyTZUA=",
          "dtype": "f8"
         },
         "yaxis": "y12"
        },
        {
         "hovertemplate": "Date: %{x}<br>Value: %{y}<br>Model: RF",
         "line": {
          "color": "green",
          "shape": "linear",
          "width": 2
         },
         "marker": {
          "size": 4
         },
         "mode": "lines+markers",
         "name": "RF",
         "showlegend": false,
         "type": "scatter",
         "x": [
          "2025-05-01T00:00:00.000000000",
          "2025-06-01T00:00:00.000000000",
          "2025-07-01T00:00:00.000000000",
          "2025-08-01T00:00:00.000000000",
          "2025-09-01T00:00:00.000000000",
          "2025-10-01T00:00:00.000000000",
          "2025-11-01T00:00:00.000000000",
          "2025-12-01T00:00:00.000000000"
         ],
         "xaxis": "x12",
         "y": {
          "bdata": "TDRRokIgM0CODsthxc0zQCAv6Y8EnSxAsJRuF2j4EEAA0KJXHyLxv1wEwmeq7jRA/EwvIp5kWUCG6mwD1n9UQA==",
          "dtype": "f8"
         },
         "yaxis": "y12"
        },
        {
         "fill": "toself",
         "fillcolor": "rgba(169, 169, 169, 0.2)",
         "hovertemplate": "Date: %{x}<br>Conf: 95%<br>Value: %{y}",
         "line": {
          "color": "rgba(255,255,255,0)"
         },
         "showlegend": false,
         "type": "scatter",
         "x": [
          "2025-05-01T00:00:00.000000000",
          "2025-06-01T00:00:00.000000000",
          "2025-07-01T00:00:00.000000000",
          "2025-08-01T00:00:00.000000000",
          "2025-09-01T00:00:00.000000000",
          "2025-10-01T00:00:00.000000000",
          "2025-11-01T00:00:00.000000000",
          "2025-12-01T00:00:00.000000000",
          "2025-12-01T00:00:00.000000000",
          "2025-11-01T00:00:00.000000000",
          "2025-10-01T00:00:00.000000000",
          "2025-09-01T00:00:00.000000000",
          "2025-08-01T00:00:00.000000000",
          "2025-07-01T00:00:00.000000000",
          "2025-06-01T00:00:00.000000000",
          "2025-05-01T00:00:00.000000000"
         ],
         "xaxis": "x12",
         "y": {
          "bdata": "G3axKVrCOMCoHP2DYXhRwO6Me9kxaFfAYeySeI05VcA6cDwu4hpLwKRBIvALbTrAkZcYx2jALEBpe1p/sLdBQAAAAJgLJWtATTQuf0eZbECho9I/g29kQC6YTGXiiFtA/+uRNReXUUATjeDDnJRUQEZAhDZOS1xAVFSfVlyTZUA=",
          "dtype": "f8"
         },
         "yaxis": "y12"
        },
        {
         "hovertemplate": "Date: %{x}<br>Value: %{y}<br>Model: LR",
         "line": {
          "color": "red",
          "shape": "linear",
          "width": 2
         },
         "marker": {
          "size": 4
         },
         "mode": "lines+markers",
         "name": "LR",
         "showlegend": false,
         "type": "scatter",
         "x": [
          "2025-05-01T00:00:00.000000000",
          "2025-06-01T00:00:00.000000000",
          "2025-07-01T00:00:00.000000000",
          "2025-08-01T00:00:00.000000000",
          "2025-09-01T00:00:00.000000000",
          "2025-10-01T00:00:00.000000000",
          "2025-11-01T00:00:00.000000000",
          "2025-12-01T00:00:00.000000000"
         ],
         "xaxis": "x12",
         "y": {
          "bdata": "5JT5s/QvREB4YkDF6ZcfwNZrYI6IdULA2kZx6Mx1QcBAyvnVNTn5Pz29LCfgnkxADkX5sOtfWEC8b7BNoL9WQA==",
          "dtype": "f8"
         },
         "yaxis": "y12"
        },
        {
         "fill": "toself",
         "fillcolor": "rgba(169, 169, 169, 0.2)",
         "hovertemplate": "Date: %{x}<br>Conf: 95%<br>Value: %{y}",
         "line": {
          "color": "rgba(255,255,255,0)"
         },
         "showlegend": false,
         "type": "scatter",
         "x": [
          "2025-05-01T00:00:00.000000000",
          "2025-06-01T00:00:00.000000000",
          "2025-07-01T00:00:00.000000000",
          "2025-08-01T00:00:00.000000000",
          "2025-09-01T00:00:00.000000000",
          "2025-10-01T00:00:00.000000000",
          "2025-11-01T00:00:00.000000000",
          "2025-12-01T00:00:00.000000000",
          "2025-12-01T00:00:00.000000000",
          "2025-11-01T00:00:00.000000000",
          "2025-10-01T00:00:00.000000000",
          "2025-09-01T00:00:00.000000000",
          "2025-08-01T00:00:00.000000000",
          "2025-07-01T00:00:00.000000000",
          "2025-06-01T00:00:00.000000000",
          "2025-05-01T00:00:00.000000000"
         ],
         "xaxis": "x12",
         "y": {
          "bdata": "G3axKVrCOMCoHP2DYXhRwO6Me9kxaFfAYeySeI05VcA6cDwu4hpLwKRBIvALbTrAkZcYx2jALEBpe1p/sLdBQAAAAJgLJWtATTQuf0eZbECho9I/g29kQC6YTGXiiFtA/+uRNReXUUATjeDDnJRUQEZAhDZOS1xAVFSfVlyTZUA=",
          "dtype": "f8"
         },
         "yaxis": "y12"
        },
        {
         "hovertemplate": "Date: %{x}<br>Value: %{y}<br>Model: NN",
         "line": {
          "color": "purple",
          "shape": "linear",
          "width": 2
         },
         "marker": {
          "size": 4
         },
         "mode": "lines+markers",
         "name": "NN",
         "showlegend": false,
         "type": "scatter",
         "x": [
          "2025-05-01T00:00:00.000000000",
          "2025-06-01T00:00:00.000000000",
          "2025-07-01T00:00:00.000000000",
          "2025-08-01T00:00:00.000000000",
          "2025-09-01T00:00:00.000000000",
          "2025-10-01T00:00:00.000000000",
          "2025-11-01T00:00:00.000000000",
          "2025-12-01T00:00:00.000000000"
         ],
         "xaxis": "x12",
         "y": {
          "bdata": "AAAAYFSuTEAAAADAhsc/QAAAAIDhAS5AAAAAAHVTLUAAAAAAygonQAAAACA03kVAAAAAUJIZWUAAAACQ52ZYQA==",
          "dtype": "f8"
         },
         "yaxis": "y12"
        },
        {
         "line": {
          "color": "black"
         },
         "mode": "lines",
         "showlegend": false,
         "type": "scatter",
         "x": [
          "2025-05-01T00:00:00",
          "2025-12-01T00:00:00"
         ],
         "xaxis": "x12",
         "y": [
          0,
          0
         ],
         "yaxis": "y12"
        },
        {
         "fill": "toself",
         "fillcolor": "rgba(169, 169, 169, 0.2)",
         "hovertemplate": "Date: %{x}<br>Conf: 95%<br>Value: %{y}",
         "line": {
          "color": "rgba(255,255,255,0)"
         },
         "showlegend": false,
         "type": "scatter",
         "x": [
          "2025-05-01T00:00:00.000000000",
          "2025-06-01T00:00:00.000000000",
          "2025-07-01T00:00:00.000000000",
          "2025-08-01T00:00:00.000000000",
          "2025-09-01T00:00:00.000000000",
          "2025-10-01T00:00:00.000000000",
          "2025-11-01T00:00:00.000000000",
          "2025-12-01T00:00:00.000000000",
          "2025-12-01T00:00:00.000000000",
          "2025-11-01T00:00:00.000000000",
          "2025-10-01T00:00:00.000000000",
          "2025-09-01T00:00:00.000000000",
          "2025-08-01T00:00:00.000000000",
          "2025-07-01T00:00:00.000000000",
          "2025-06-01T00:00:00.000000000",
          "2025-05-01T00:00:00.000000000"
         ],
         "xaxis": "x13",
         "y": {
          "bdata": "WCDfY1ssSUC+px34fCpLQNpmvZ5iCExA7ZFj0TasSkDeLKDs0wVJQM3MzNzAd0tAAobAitnOTEB6pEVhdk9NQIww03RwQlpA+Vn8Pmd1WUD2DGcMjJRWQJqV8fnuC1RAI+mVz5zQUkBiXBQ7VZZTQMqyrX3Pb1JAdTv+CMwTVEA=",
          "dtype": "f8"
         },
         "yaxis": "y13"
        },
        {
         "hovertemplate": "Date: %{x}<br>Value: %{y}<br>Model: GP",
         "line": {
          "color": "blue",
          "shape": "linear",
          "width": 2
         },
         "marker": {
          "size": 4
         },
         "mode": "lines+markers",
         "name": "GP",
         "showlegend": false,
         "type": "scatter",
         "x": [
          "2025-05-01T00:00:00.000000000",
          "2025-06-01T00:00:00.000000000",
          "2025-07-01T00:00:00.000000000",
          "2025-08-01T00:00:00.000000000",
          "2025-09-01T00:00:00.000000000",
          "2025-10-01T00:00:00.000000000",
          "2025-11-01T00:00:00.000000000",
          "2025-12-01T00:00:00.000000000"
         ],
         "xaxis": "x13",
         "y": {
          "bdata": "fQhZuCGjT0AyPJZCYZtQQFw98KUPGVFAqE0ta0DtUEAc9uBPSppQQPid3FrozFFAIiAjU415U0AjK8/BoSFUQA==",
          "dtype": "f8"
         },
         "yaxis": "y13"
        },
        {
         "fill": "toself",
         "fillcolor": "rgba(169, 169, 169, 0.2)",
         "hovertemplate": "Date: %{x}<br>Conf: 95%<br>Value: %{y}",
         "line": {
          "color": "rgba(255,255,255,0)"
         },
         "showlegend": false,
         "type": "scatter",
         "x": [
          "2025-05-01T00:00:00.000000000",
          "2025-06-01T00:00:00.000000000",
          "2025-07-01T00:00:00.000000000",
          "2025-08-01T00:00:00.000000000",
          "2025-09-01T00:00:00.000000000",
          "2025-10-01T00:00:00.000000000",
          "2025-11-01T00:00:00.000000000",
          "2025-12-01T00:00:00.000000000",
          "2025-12-01T00:00:00.000000000",
          "2025-11-01T00:00:00.000000000",
          "2025-10-01T00:00:00.000000000",
          "2025-09-01T00:00:00.000000000",
          "2025-08-01T00:00:00.000000000",
          "2025-07-01T00:00:00.000000000",
          "2025-06-01T00:00:00.000000000",
          "2025-05-01T00:00:00.000000000"
         ],
         "xaxis": "x13",
         "y": {
          "bdata": "WCDfY1ssSUC+px34fCpLQNpmvZ5iCExA7ZFj0TasSkDeLKDs0wVJQM3MzNzAd0tAAobAitnOTEB6pEVhdk9NQIww03RwQlpA+Vn8Pmd1WUD2DGcMjJRWQJqV8fnuC1RAI+mVz5zQUkBiXBQ7VZZTQMqyrX3Pb1JAdTv+CMwTVEA=",
          "dtype": "f8"
         },
         "yaxis": "y13"
        },
        {
         "hovertemplate": "Date: %{x}<br>Value: %{y}<br>Model: RF",
         "line": {
          "color": "green",
          "shape": "linear",
          "width": 2
         },
         "marker": {
          "size": 4
         },
         "mode": "lines+markers",
         "name": "RF",
         "showlegend": false,
         "type": "scatter",
         "x": [
          "2025-05-01T00:00:00.000000000",
          "2025-06-01T00:00:00.000000000",
          "2025-07-01T00:00:00.000000000",
          "2025-08-01T00:00:00.000000000",
          "2025-09-01T00:00:00.000000000",
          "2025-10-01T00:00:00.000000000",
          "2025-11-01T00:00:00.000000000",
          "2025-12-01T00:00:00.000000000"
         ],
         "xaxis": "x13",
         "y": {
          "bdata": "gOG1ZJiAUkBSkObUzx9RQMLQ/oTom1BASG6VaZXjUEC60e+VQ51SQDTNatj8h1NArlGdhWs3VEDurQwrdl5XQA==",
          "dtype": "f8"
         },
         "yaxis": "y13"
        },
        {
         "fill": "toself",
         "fillcolor": "rgba(169, 169, 169, 0.2)",
         "hovertemplate": "Date: %{x}<br>Conf: 95%<br>Value: %{y}",
         "line": {
          "color": "rgba(255,255,255,0)"
         },
         "showlegend": false,
         "type": "scatter",
         "x": [
          "2025-05-01T00:00:00.000000000",
          "2025-06-01T00:00:00.000000000",
          "2025-07-01T00:00:00.000000000",
          "2025-08-01T00:00:00.000000000",
          "2025-09-01T00:00:00.000000000",
          "2025-10-01T00:00:00.000000000",
          "2025-11-01T00:00:00.000000000",
          "2025-12-01T00:00:00.000000000",
          "2025-12-01T00:00:00.000000000",
          "2025-11-01T00:00:00.000000000",
          "2025-10-01T00:00:00.000000000",
          "2025-09-01T00:00:00.000000000",
          "2025-08-01T00:00:00.000000000",
          "2025-07-01T00:00:00.000000000",
          "2025-06-01T00:00:00.000000000",
          "2025-05-01T00:00:00.000000000"
         ],
         "xaxis": "x13",
         "y": {
          "bdata": "WCDfY1ssSUC+px34fCpLQNpmvZ5iCExA7ZFj0TasSkDeLKDs0wVJQM3MzNzAd0tAAobAitnOTEB6pEVhdk9NQIww03RwQlpA+Vn8Pmd1WUD2DGcMjJRWQJqV8fnuC1RAI+mVz5zQUkBiXBQ7VZZTQMqyrX3Pb1JAdTv+CMwTVEA=",
          "dtype": "f8"
         },
         "yaxis": "y13"
        },
        {
         "hovertemplate": "Date: %{x}<br>Value: %{y}<br>Model: LR",
         "line": {
          "color": "red",
          "shape": "linear",
          "width": 2
         },
         "marker": {
          "size": 4
         },
         "mode": "lines+markers",
         "name": "LR",
         "showlegend": false,
         "type": "scatter",
         "x": [
          "2025-05-01T00:00:00.000000000",
          "2025-06-01T00:00:00.000000000",
          "2025-07-01T00:00:00.000000000",
          "2025-08-01T00:00:00.000000000",
          "2025-09-01T00:00:00.000000000",
          "2025-10-01T00:00:00.000000000",
          "2025-11-01T00:00:00.000000000",
          "2025-12-01T00:00:00.000000000"
         ],
         "xaxis": "x13",
         "y": {
          "bdata": "WM3trBt3T0A+tJmZa/lQQCyz8auGGlJAs2qrKQuyUEDaFKBBDy5QQMbRo13KcFJAHEm3EsyNVECmvbOoJXNVQA==",
          "dtype": "f8"
         },
         "yaxis": "y13"
        },
        {
         "fill": "toself",
         "fillcolor": "rgba(169, 169, 169, 0.2)",
         "hovertemplate": "Date: %{x}<br>Conf: 95%<br>Value: %{y}",
         "line": {
          "color": "rgba(255,255,255,0)"
         },
         "showlegend": false,
         "type": "scatter",
         "x": [
          "2025-05-01T00:00:00.000000000",
          "2025-06-01T00:00:00.000000000",
          "2025-07-01T00:00:00.000000000",
          "2025-08-01T00:00:00.000000000",
          "2025-09-01T00:00:00.000000000",
          "2025-10-01T00:00:00.000000000",
          "2025-11-01T00:00:00.000000000",
          "2025-12-01T00:00:00.000000000",
          "2025-12-01T00:00:00.000000000",
          "2025-11-01T00:00:00.000000000",
          "2025-10-01T00:00:00.000000000",
          "2025-09-01T00:00:00.000000000",
          "2025-08-01T00:00:00.000000000",
          "2025-07-01T00:00:00.000000000",
          "2025-06-01T00:00:00.000000000",
          "2025-05-01T00:00:00.000000000"
         ],
         "xaxis": "x13",
         "y": {
          "bdata": "WCDfY1ssSUC+px34fCpLQNpmvZ5iCExA7ZFj0TasSkDeLKDs0wVJQM3MzNzAd0tAAobAitnOTEB6pEVhdk9NQIww03RwQlpA+Vn8Pmd1WUD2DGcMjJRWQJqV8fnuC1RAI+mVz5zQUkBiXBQ7VZZTQMqyrX3Pb1JAdTv+CMwTVEA=",
          "dtype": "f8"
         },
         "yaxis": "y13"
        },
        {
         "hovertemplate": "Date: %{x}<br>Value: %{y}<br>Model: NN",
         "line": {
          "color": "purple",
          "shape": "linear",
          "width": 2
         },
         "marker": {
          "size": 4
         },
         "mode": "lines+markers",
         "name": "NN",
         "showlegend": false,
         "type": "scatter",
         "x": [
          "2025-05-01T00:00:00.000000000",
          "2025-06-01T00:00:00.000000000",
          "2025-07-01T00:00:00.000000000",
          "2025-08-01T00:00:00.000000000",
          "2025-09-01T00:00:00.000000000",
          "2025-10-01T00:00:00.000000000",
          "2025-11-01T00:00:00.000000000",
          "2025-12-01T00:00:00.000000000"
         ],
         "xaxis": "x13",
         "y": {
          "bdata": "AAAA4FJhTUAAAAAgvHVOQAAAACAf109AAAAAQM5tUEAAAABQqBNRQAAAAGC5d1FAAAAA4Gr8UkAAAACwR9pSQA==",
          "dtype": "f8"
         },
         "yaxis": "y13"
        },
        {
         "line": {
          "color": "black"
         },
         "mode": "lines",
         "showlegend": false,
         "type": "scatter",
         "x": [
          "2025-05-01T00:00:00",
          "2025-12-01T00:00:00"
         ],
         "xaxis": "x13",
         "y": [
          0,
          0
         ],
         "yaxis": "y13"
        },
        {
         "fill": "toself",
         "fillcolor": "rgba(169, 169, 169, 0.2)",
         "hovertemplate": "Date: %{x}<br>Conf: 95%<br>Value: %{y}",
         "line": {
          "color": "rgba(255,255,255,0)"
         },
         "showlegend": false,
         "type": "scatter",
         "x": [
          "2025-05-01T00:00:00.000000000",
          "2025-06-01T00:00:00.000000000",
          "2025-07-01T00:00:00.000000000",
          "2025-08-01T00:00:00.000000000",
          "2025-09-01T00:00:00.000000000",
          "2025-10-01T00:00:00.000000000",
          "2025-11-01T00:00:00.000000000",
          "2025-12-01T00:00:00.000000000",
          "2025-12-01T00:00:00.000000000",
          "2025-11-01T00:00:00.000000000",
          "2025-10-01T00:00:00.000000000",
          "2025-09-01T00:00:00.000000000",
          "2025-08-01T00:00:00.000000000",
          "2025-07-01T00:00:00.000000000",
          "2025-06-01T00:00:00.000000000",
          "2025-05-01T00:00:00.000000000"
         ],
         "xaxis": "x14",
         "y": {
          "bdata": "HqUExUHqQEAPZ4ZOXBA/QKnLyUQBCT5AJm6h6G2QP0C2DvHoODNBQBrJD0xAEEJAZ2Zm0oXPQ0DdbOw2jMNCQETIltSdIV1AsCdCEeukYECxdAscXCViQEbEQDhcyGFAE2dVYzq8X0A/Y6yknrNgQN23C438qWFAEdTpoIGkYUA=",
          "dtype": "f8"
         },
         "yaxis": "y14"
        },
        {
         "hovertemplate": "Date: %{x}<br>Value: %{y}<br>Model: GP",
         "line": {
          "color": "blue",
          "shape": "linear",
          "width": 2
         },
         "marker": {
          "size": 4
         },
         "mode": "lines+markers",
         "name": "GP",
         "showlegend": false,
         "type": "scatter",
         "x": [
          "2025-05-01T00:00:00.000000000",
          "2025-06-01T00:00:00.000000000",
          "2025-07-01T00:00:00.000000000",
          "2025-08-01T00:00:00.000000000",
          "2025-09-01T00:00:00.000000000",
          "2025-10-01T00:00:00.000000000",
          "2025-11-01T00:00:00.000000000",
          "2025-12-01T00:00:00.000000000"
         ],
         "xaxis": "x14",
         "y": {
          "bdata": "DvaITyeWU0AbWVoX9q5TQPpSCgePxFFAwgZIXCHUUUARI4uop+lSQEAbAgjO3lNASiXqGoADVEBw2mVoMJBPQA==",
          "dtype": "f8"
         },
         "yaxis": "y14"
        },
        {
         "fill": "toself",
         "fillcolor": "rgba(169, 169, 169, 0.2)",
         "hovertemplate": "Date: %{x}<br>Conf: 95%<br>Value: %{y}",
         "line": {
          "color": "rgba(255,255,255,0)"
         },
         "showlegend": false,
         "type": "scatter",
         "x": [
          "2025-05-01T00:00:00.000000000",
          "2025-06-01T00:00:00.000000000",
          "2025-07-01T00:00:00.000000000",
          "2025-08-01T00:00:00.000000000",
          "2025-09-01T00:00:00.000000000",
          "2025-10-01T00:00:00.000000000",
          "2025-11-01T00:00:00.000000000",
          "2025-12-01T00:00:00.000000000",
          "2025-12-01T00:00:00.000000000",
          "2025-11-01T00:00:00.000000000",
          "2025-10-01T00:00:00.000000000",
          "2025-09-01T00:00:00.000000000",
          "2025-08-01T00:00:00.000000000",
          "2025-07-01T00:00:00.000000000",
          "2025-06-01T00:00:00.000000000",
          "2025-05-01T00:00:00.000000000"
         ],
         "xaxis": "x14",
         "y": {
          "bdata": "HqUExUHqQEAPZ4ZOXBA/QKnLyUQBCT5AJm6h6G2QP0C2DvHoODNBQBrJD0xAEEJAZ2Zm0oXPQ0DdbOw2jMNCQETIltSdIV1AsCdCEeukYECxdAscXCViQEbEQDhcyGFAE2dVYzq8X0A/Y6yknrNgQN23C438qWFAEdTpoIGkYUA=",
          "dtype": "f8"
         },
         "yaxis": "y14"
        },
        {
         "hovertemplate": "Date: %{x}<br>Value: %{y}<br>Model: RF",
         "line": {
          "color": "green",
          "shape": "linear",
          "width": 2
         },
         "marker": {
          "size": 4
         },
         "mode": "lines+markers",
         "name": "RF",
         "showlegend": false,
         "type": "scatter",
         "x": [
          "2025-05-01T00:00:00.000000000",
          "2025-06-01T00:00:00.000000000",
          "2025-07-01T00:00:00.000000000",
          "2025-08-01T00:00:00.000000000",
          "2025-09-01T00:00:00.000000000",
          "2025-10-01T00:00:00.000000000",
          "2025-11-01T00:00:00.000000000",
          "2025-12-01T00:00:00.000000000"
         ],
         "xaxis": "x14",
         "y": {
          "bdata": "EPdP5xBLWEBpR0nexxRZQEOIvQMTSVZAmWZ65zszVkDRDTLmrl1WQCLAJUx06FRAiNJUbvW4U0BqVMzmIehQQA==",
          "dtype": "f8"
         },
         "yaxis": "y14"
        },
        {
         "fill": "toself",
         "fillcolor": "rgba(169, 169, 169, 0.2)",
         "hovertemplate": "Date: %{x}<br>Conf: 95%<br>Value: %{y}",
         "line": {
          "color": "rgba(255,255,255,0)"
         },
         "showlegend": false,
         "type": "scatter",
         "x": [
          "2025-05-01T00:00:00.000000000",
          "2025-06-01T00:00:00.000000000",
          "2025-07-01T00:00:00.000000000",
          "2025-08-01T00:00:00.000000000",
          "2025-09-01T00:00:00.000000000",
          "2025-10-01T00:00:00.000000000",
          "2025-11-01T00:00:00.000000000",
          "2025-12-01T00:00:00.000000000",
          "2025-12-01T00:00:00.000000000",
          "2025-11-01T00:00:00.000000000",
          "2025-10-01T00:00:00.000000000",
          "2025-09-01T00:00:00.000000000",
          "2025-08-01T00:00:00.000000000",
          "2025-07-01T00:00:00.000000000",
          "2025-06-01T00:00:00.000000000",
          "2025-05-01T00:00:00.000000000"
         ],
         "xaxis": "x14",
         "y": {
          "bdata": "HqUExUHqQEAPZ4ZOXBA/QKnLyUQBCT5AJm6h6G2QP0C2DvHoODNBQBrJD0xAEEJAZ2Zm0oXPQ0DdbOw2jMNCQETIltSdIV1AsCdCEeukYECxdAscXCViQEbEQDhcyGFAE2dVYzq8X0A/Y6yknrNgQN23C438qWFAEdTpoIGkYUA=",
          "dtype": "f8"
         },
         "yaxis": "y14"
        },
        {
         "hovertemplate": "Date: %{x}<br>Value: %{y}<br>Model: LR",
         "line": {
          "color": "red",
          "shape": "linear",
          "width": 2
         },
         "marker": {
          "size": 4
         },
         "mode": "lines+markers",
         "name": "LR",
         "showlegend": false,
         "type": "scatter",
         "x": [
          "2025-05-01T00:00:00.000000000",
          "2025-06-01T00:00:00.000000000",
          "2025-07-01T00:00:00.000000000",
          "2025-08-01T00:00:00.000000000",
          "2025-09-01T00:00:00.000000000",
          "2025-10-01T00:00:00.000000000",
          "2025-11-01T00:00:00.000000000",
          "2025-12-01T00:00:00.000000000"
         ],
         "xaxis": "x14",
         "y": {
          "bdata": "EGmehY+dUEBcF68ivPxPQATQODLyHk5AtltcmU2oTUDgPP43by9QQCCC8tFsClRAcqWxv7QqVUCSYYYf1wJSQA==",
          "dtype": "f8"
         },
         "yaxis": "y14"
        },
        {
         "fill": "toself",
         "fillcolor": "rgba(169, 169, 169, 0.2)",
         "hovertemplate": "Date: %{x}<br>Conf: 95%<br>Value: %{y}",
         "line": {
          "color": "rgba(255,255,255,0)"
         },
         "showlegend": false,
         "type": "scatter",
         "x": [
          "2025-05-01T00:00:00.000000000",
          "2025-06-01T00:00:00.000000000",
          "2025-07-01T00:00:00.000000000",
          "2025-08-01T00:00:00.000000000",
          "2025-09-01T00:00:00.000000000",
          "2025-10-01T00:00:00.000000000",
          "2025-11-01T00:00:00.000000000",
          "2025-12-01T00:00:00.000000000",
          "2025-12-01T00:00:00.000000000",
          "2025-11-01T00:00:00.000000000",
          "2025-10-01T00:00:00.000000000",
          "2025-09-01T00:00:00.000000000",
          "2025-08-01T00:00:00.000000000",
          "2025-07-01T00:00:00.000000000",
          "2025-06-01T00:00:00.000000000",
          "2025-05-01T00:00:00.000000000"
         ],
         "xaxis": "x14",
         "y": {
          "bdata": "HqUExUHqQEAPZ4ZOXBA/QKnLyUQBCT5AJm6h6G2QP0C2DvHoODNBQBrJD0xAEEJAZ2Zm0oXPQ0DdbOw2jMNCQETIltSdIV1AsCdCEeukYECxdAscXCViQEbEQDhcyGFAE2dVYzq8X0A/Y6yknrNgQN23C438qWFAEdTpoIGkYUA=",
          "dtype": "f8"
         },
         "yaxis": "y14"
        },
        {
         "hovertemplate": "Date: %{x}<br>Value: %{y}<br>Model: NN",
         "line": {
          "color": "purple",
          "shape": "linear",
          "width": 2
         },
         "marker": {
          "size": 4
         },
         "mode": "lines+markers",
         "name": "NN",
         "showlegend": false,
         "type": "scatter",
         "x": [
          "2025-05-01T00:00:00.000000000",
          "2025-06-01T00:00:00.000000000",
          "2025-07-01T00:00:00.000000000",
          "2025-08-01T00:00:00.000000000",
          "2025-09-01T00:00:00.000000000",
          "2025-10-01T00:00:00.000000000",
          "2025-11-01T00:00:00.000000000",
          "2025-12-01T00:00:00.000000000"
         ],
         "xaxis": "x14",
         "y": {
          "bdata": "AAAAYKBxUkAAAACwU05SQAAAADCndFBAAAAAkNRcUUAAAAAwkqNUQAAAACA0/FRAAAAAwLttVEAAAACQnu1OQA==",
          "dtype": "f8"
         },
         "yaxis": "y14"
        },
        {
         "line": {
          "color": "black"
         },
         "mode": "lines",
         "showlegend": false,
         "type": "scatter",
         "x": [
          "2025-05-01T00:00:00",
          "2025-12-01T00:00:00"
         ],
         "xaxis": "x14",
         "y": [
          0,
          0
         ],
         "yaxis": "y14"
        },
        {
         "fill": "toself",
         "fillcolor": "rgba(169, 169, 169, 0.2)",
         "hovertemplate": "Date: %{x}<br>Conf: 95%<br>Value: %{y}",
         "line": {
          "color": "rgba(255,255,255,0)"
         },
         "showlegend": false,
         "type": "scatter",
         "x": [
          "2025-05-01T00:00:00.000000000",
          "2025-06-01T00:00:00.000000000",
          "2025-07-01T00:00:00.000000000",
          "2025-08-01T00:00:00.000000000",
          "2025-09-01T00:00:00.000000000",
          "2025-10-01T00:00:00.000000000",
          "2025-11-01T00:00:00.000000000",
          "2025-12-01T00:00:00.000000000",
          "2025-12-01T00:00:00.000000000",
          "2025-11-01T00:00:00.000000000",
          "2025-10-01T00:00:00.000000000",
          "2025-09-01T00:00:00.000000000",
          "2025-08-01T00:00:00.000000000",
          "2025-07-01T00:00:00.000000000",
          "2025-06-01T00:00:00.000000000",
          "2025-05-01T00:00:00.000000000"
         ],
         "xaxis": "x15",
         "y": {
          "bdata": "flXpQUbJU0CamZm5ZP5HQAAAAIBStzlAAAAAME05QEAAAAC4GjNQQIICDm/erVhAMzMzL3+CX0AVCrgd6ZZcQKMq7O1LaW1Ag8YdvLLvbkCHj4WuBjFsQF52rFMQyGlAH+sIxGl0Z0BNPqZ5OOdlQDP1itG9+WZACesAHcMDa0A=",
          "dtype": "f8"
         },
         "yaxis": "y15"
        },
        {
         "hovertemplate": "Date: %{x}<br>Value: %{y}<br>Model: GP",
         "line": {
          "color": "blue",
          "shape": "linear",
          "width": 2
         },
         "marker": {
          "size": 4
         },
         "mode": "lines+markers",
         "name": "GP",
         "showlegend": false,
         "type": "scatter",
         "x": [
          "2025-05-01T00:00:00.000000000",
          "2025-06-01T00:00:00.000000000",
          "2025-07-01T00:00:00.000000000",
          "2025-08-01T00:00:00.000000000",
          "2025-09-01T00:00:00.000000000",
          "2025-10-01T00:00:00.000000000",
          "2025-11-01T00:00:00.000000000",
          "2025-12-01T00:00:00.000000000"
         ],
         "xaxis": "x15",
         "y": {
          "bdata": "PDmxVSJ9YUAoc+uNSnFVQM3vQHU06k9AYi5daOtBUEC8bQj/I/lWQPqs6997JmFAOuD+p4FSZUDKt35nqaRiQA==",
          "dtype": "f8"
         },
         "yaxis": "y15"
        },
        {
         "fill": "toself",
         "fillcolor": "rgba(169, 169, 169, 0.2)",
         "hovertemplate": "Date: %{x}<br>Conf: 95%<br>Value: %{y}",
         "line": {
          "color": "rgba(255,255,255,0)"
         },
         "showlegend": false,
         "type": "scatter",
         "x": [
          "2025-05-01T00:00:00.000000000",
          "2025-06-01T00:00:00.000000000",
          "2025-07-01T00:00:00.000000000",
          "2025-08-01T00:00:00.000000000",
          "2025-09-01T00:00:00.000000000",
          "2025-10-01T00:00:00.000000000",
          "2025-11-01T00:00:00.000000000",
          "2025-12-01T00:00:00.000000000",
          "2025-12-01T00:00:00.000000000",
          "2025-11-01T00:00:00.000000000",
          "2025-10-01T00:00:00.000000000",
          "2025-09-01T00:00:00.000000000",
          "2025-08-01T00:00:00.000000000",
          "2025-07-01T00:00:00.000000000",
          "2025-06-01T00:00:00.000000000",
          "2025-05-01T00:00:00.000000000"
         ],
         "xaxis": "x15",
         "y": {
          "bdata": "flXpQUbJU0CamZm5ZP5HQAAAAIBStzlAAAAAME05QEAAAAC4GjNQQIICDm/erVhAMzMzL3+CX0AVCrgd6ZZcQKMq7O1LaW1Ag8YdvLLvbkCHj4WuBjFsQF52rFMQyGlAH+sIxGl0Z0BNPqZ5OOdlQDP1itG9+WZACesAHcMDa0A=",
          "dtype": "f8"
         },
         "yaxis": "y15"
        },
        {
         "hovertemplate": "Date: %{x}<br>Value: %{y}<br>Model: RF",
         "line": {
          "color": "green",
          "shape": "linear",
          "width": 2
         },
         "marker": {
          "size": 4
         },
         "mode": "lines+markers",
         "name": "RF",
         "showlegend": false,
         "type": "scatter",
         "x": [
          "2025-05-01T00:00:00.000000000",
          "2025-06-01T00:00:00.000000000",
          "2025-07-01T00:00:00.000000000",
          "2025-08-01T00:00:00.000000000",
          "2025-09-01T00:00:00.000000000",
          "2025-10-01T00:00:00.000000000",
          "2025-11-01T00:00:00.000000000",
          "2025-12-01T00:00:00.000000000"
         ],
         "xaxis": "x15",
         "y": {
          "bdata": "BAkvwnfEWEDv2bZWyd9SQENYQlsKylBAYoKOVB4cUUDQqjEeZYZTQF3d5GIOiV9AQttfiDBZZEAoyywqTZFiQA==",
          "dtype": "f8"
         },
         "yaxis": "y15"
        },
        {
         "fill": "toself",
         "fillcolor": "rgba(169, 169, 169, 0.2)",
         "hovertemplate": "Date: %{x}<br>Conf: 95%<br>Value: %{y}",
         "line": {
          "color": "rgba(255,255,255,0)"
         },
         "showlegend": false,
         "type": "scatter",
         "x": [
          "2025-05-01T00:00:00.000000000",
          "2025-06-01T00:00:00.000000000",
          "2025-07-01T00:00:00.000000000",
          "2025-08-01T00:00:00.000000000",
          "2025-09-01T00:00:00.000000000",
          "2025-10-01T00:00:00.000000000",
          "2025-11-01T00:00:00.000000000",
          "2025-12-01T00:00:00.000000000",
          "2025-12-01T00:00:00.000000000",
          "2025-11-01T00:00:00.000000000",
          "2025-10-01T00:00:00.000000000",
          "2025-09-01T00:00:00.000000000",
          "2025-08-01T00:00:00.000000000",
          "2025-07-01T00:00:00.000000000",
          "2025-06-01T00:00:00.000000000",
          "2025-05-01T00:00:00.000000000"
         ],
         "xaxis": "x15",
         "y": {
          "bdata": "flXpQUbJU0CamZm5ZP5HQAAAAIBStzlAAAAAME05QEAAAAC4GjNQQIICDm/erVhAMzMzL3+CX0AVCrgd6ZZcQKMq7O1LaW1Ag8YdvLLvbkCHj4WuBjFsQF52rFMQyGlAH+sIxGl0Z0BNPqZ5OOdlQDP1itG9+WZACesAHcMDa0A=",
          "dtype": "f8"
         },
         "yaxis": "y15"
        },
        {
         "hovertemplate": "Date: %{x}<br>Value: %{y}<br>Model: LR",
         "line": {
          "color": "red",
          "shape": "linear",
          "width": 2
         },
         "marker": {
          "size": 4
         },
         "mode": "lines+markers",
         "name": "LR",
         "showlegend": false,
         "type": "scatter",
         "x": [
          "2025-05-01T00:00:00.000000000",
          "2025-06-01T00:00:00.000000000",
          "2025-07-01T00:00:00.000000000",
          "2025-08-01T00:00:00.000000000",
          "2025-09-01T00:00:00.000000000",
          "2025-10-01T00:00:00.000000000",
          "2025-11-01T00:00:00.000000000",
          "2025-12-01T00:00:00.000000000"
         ],
         "xaxis": "x15",
         "y": {
          "bdata": "IsSH2T4jZUBQ368aUDhhQEtXwJ3dBlxAqneWoiIUW0AqSvWEivFgQG5FvORigWZAGk+Vn3GeaUCa3V3J/QFqQA==",
          "dtype": "f8"
         },
         "yaxis": "y15"
        },
        {
         "fill": "toself",
         "fillcolor": "rgba(169, 169, 169, 0.2)",
         "hovertemplate": "Date: %{x}<br>Conf: 95%<br>Value: %{y}",
         "line": {
          "color": "rgba(255,255,255,0)"
         },
         "showlegend": false,
         "type": "scatter",
         "x": [
          "2025-05-01T00:00:00.000000000",
          "2025-06-01T00:00:00.000000000",
          "2025-07-01T00:00:00.000000000",
          "2025-08-01T00:00:00.000000000",
          "2025-09-01T00:00:00.000000000",
          "2025-10-01T00:00:00.000000000",
          "2025-11-01T00:00:00.000000000",
          "2025-12-01T00:00:00.000000000",
          "2025-12-01T00:00:00.000000000",
          "2025-11-01T00:00:00.000000000",
          "2025-10-01T00:00:00.000000000",
          "2025-09-01T00:00:00.000000000",
          "2025-08-01T00:00:00.000000000",
          "2025-07-01T00:00:00.000000000",
          "2025-06-01T00:00:00.000000000",
          "2025-05-01T00:00:00.000000000"
         ],
         "xaxis": "x15",
         "y": {
          "bdata": "flXpQUbJU0CamZm5ZP5HQAAAAIBStzlAAAAAME05QEAAAAC4GjNQQIICDm/erVhAMzMzL3+CX0AVCrgd6ZZcQKMq7O1LaW1Ag8YdvLLvbkCHj4WuBjFsQF52rFMQyGlAH+sIxGl0Z0BNPqZ5OOdlQDP1itG9+WZACesAHcMDa0A=",
          "dtype": "f8"
         },
         "yaxis": "y15"
        },
        {
         "hovertemplate": "Date: %{x}<br>Value: %{y}<br>Model: NN",
         "line": {
          "color": "purple",
          "shape": "linear",
          "width": 2
         },
         "marker": {
          "size": 4
         },
         "mode": "lines+markers",
         "name": "NN",
         "showlegend": false,
         "type": "scatter",
         "x": [
          "2025-05-01T00:00:00.000000000",
          "2025-06-01T00:00:00.000000000",
          "2025-07-01T00:00:00.000000000",
          "2025-08-01T00:00:00.000000000",
          "2025-09-01T00:00:00.000000000",
          "2025-10-01T00:00:00.000000000",
          "2025-11-01T00:00:00.000000000",
          "2025-12-01T00:00:00.000000000"
         ],
         "xaxis": "x15",
         "y": {
          "bdata": "AAAA8NXZXEAAAAAAYHFQQAAAAOB5kEVAAAAA4HUvSUAAAAAQ59BVQAAAAACd22BAAAAAsGQbZEAAAACwKzFhQA==",
          "dtype": "f8"
         },
         "yaxis": "y15"
        },
        {
         "line": {
          "color": "black"
         },
         "mode": "lines",
         "showlegend": false,
         "type": "scatter",
         "x": [
          "2025-05-01T00:00:00",
          "2025-12-01T00:00:00"
         ],
         "xaxis": "x15",
         "y": [
          0,
          0
         ],
         "yaxis": "y15"
        },
        {
         "fill": "toself",
         "fillcolor": "rgba(169, 169, 169, 0.2)",
         "hovertemplate": "Date: %{x}<br>Conf: 95%<br>Value: %{y}",
         "line": {
          "color": "rgba(255,255,255,0)"
         },
         "showlegend": false,
         "type": "scatter",
         "x": [
          "2025-05-01T00:00:00.000000000",
          "2025-06-01T00:00:00.000000000",
          "2025-07-01T00:00:00.000000000",
          "2025-08-01T00:00:00.000000000",
          "2025-09-01T00:00:00.000000000",
          "2025-10-01T00:00:00.000000000",
          "2025-11-01T00:00:00.000000000",
          "2025-12-01T00:00:00.000000000",
          "2025-12-01T00:00:00.000000000",
          "2025-11-01T00:00:00.000000000",
          "2025-10-01T00:00:00.000000000",
          "2025-09-01T00:00:00.000000000",
          "2025-08-01T00:00:00.000000000",
          "2025-07-01T00:00:00.000000000",
          "2025-06-01T00:00:00.000000000",
          "2025-05-01T00:00:00.000000000"
         ],
         "xaxis": "x16",
         "y": {
          "bdata": "AAAAGOZCUUDNzMyknptAQDQzMwO1kiBAAAAAgMZOL0AAAABoIiVJQNQ0gjUkD1NAyP1dfOEVVkBToY26rxVTQANZ0TKHMHBAMKIH8UZfckDnvSSdc0RxQJ2aT2mFr21APi3trUhCaEAgMzAq3BBnQI8bs01lqmtA3Z90hfFacUA=",
          "dtype": "f8"
         },
         "yaxis": "y16"
        },
        {
         "hovertemplate": "Date: %{x}<br>Value: %{y}<br>Model: GP",
         "line": {
          "color": "blue",
          "shape": "linear",
          "width": 2
         },
         "marker": {
          "size": 4
         },
         "mode": "lines+markers",
         "name": "GP",
         "showlegend": false,
         "type": "scatter",
         "x": [
          "2025-05-01T00:00:00.000000000",
          "2025-06-01T00:00:00.000000000",
          "2025-07-01T00:00:00.000000000",
          "2025-08-01T00:00:00.000000000",
          "2025-09-01T00:00:00.000000000",
          "2025-10-01T00:00:00.000000000",
          "2025-11-01T00:00:00.000000000",
          "2025-12-01T00:00:00.000000000"
         ],
         "xaxis": "x16",
         "y": {
          "bdata": "jrpxyDZsY0AkMwj1gidYQCIN9GPteFBAoHBtR1nzUED4ZJYeVvhYQFoA/fvA8mFA+TIIzsPeZEB6kBjqnk1gQA==",
          "dtype": "f8"
         },
         "yaxis": "y16"
        },
        {
         "fill": "toself",
         "fillcolor": "rgba(169, 169, 169, 0.2)",
         "hovertemplate": "Date: %{x}<br>Conf: 95%<br>Value: %{y}",
         "line": {
          "color": "rgba(255,255,255,0)"
         },
         "showlegend": false,
         "type": "scatter",
         "x": [
          "2025-05-01T00:00:00.000000000",
          "2025-06-01T00:00:00.000000000",
          "2025-07-01T00:00:00.000000000",
          "2025-08-01T00:00:00.000000000",
          "2025-09-01T00:00:00.000000000",
          "2025-10-01T00:00:00.000000000",
          "2025-11-01T00:00:00.000000000",
          "2025-12-01T00:00:00.000000000",
          "2025-12-01T00:00:00.000000000",
          "2025-11-01T00:00:00.000000000",
          "2025-10-01T00:00:00.000000000",
          "2025-09-01T00:00:00.000000000",
          "2025-08-01T00:00:00.000000000",
          "2025-07-01T00:00:00.000000000",
          "2025-06-01T00:00:00.000000000",
          "2025-05-01T00:00:00.000000000"
         ],
         "xaxis": "x16",
         "y": {
          "bdata": "AAAAGOZCUUDNzMyknptAQDQzMwO1kiBAAAAAgMZOL0AAAABoIiVJQNQ0gjUkD1NAyP1dfOEVVkBToY26rxVTQANZ0TKHMHBAMKIH8UZfckDnvSSdc0RxQJ2aT2mFr21APi3trUhCaEAgMzAq3BBnQI8bs01lqmtA3Z90hfFacUA=",
          "dtype": "f8"
         },
         "yaxis": "y16"
        },
        {
         "hovertemplate": "Date: %{x}<br>Value: %{y}<br>Model: RF",
         "line": {
          "color": "green",
          "shape": "linear",
          "width": 2
         },
         "marker": {
          "size": 4
         },
         "mode": "lines+markers",
         "name": "RF",
         "showlegend": false,
         "type": "scatter",
         "x": [
          "2025-05-01T00:00:00.000000000",
          "2025-06-01T00:00:00.000000000",
          "2025-07-01T00:00:00.000000000",
          "2025-08-01T00:00:00.000000000",
          "2025-09-01T00:00:00.000000000",
          "2025-10-01T00:00:00.000000000",
          "2025-11-01T00:00:00.000000000",
          "2025-12-01T00:00:00.000000000"
         ],
         "xaxis": "x16",
         "y": {
          "bdata": "ox1wLIFVXkDV9F6uvvRaQLFOmr8xtFZA4yMdFxmhVkDCfQVS/iJXQDI4l6eKT2BAdGDSNCFgZEC8v5NY6v1eQA==",
          "dtype": "f8"
         },
         "yaxis": "y16"
        },
        {
         "fill": "toself",
         "fillcolor": "rgba(169, 169, 169, 0.2)",
         "hovertemplate": "Date: %{x}<br>Conf: 95%<br>Value: %{y}",
         "line": {
          "color": "rgba(255,255,255,0)"
         },
         "showlegend": false,
         "type": "scatter",
         "x": [
          "2025-05-01T00:00:00.000000000",
          "2025-06-01T00:00:00.000000000",
          "2025-07-01T00:00:00.000000000",
          "2025-08-01T00:00:00.000000000",
          "2025-09-01T00:00:00.000000000",
          "2025-10-01T00:00:00.000000000",
          "2025-11-01T00:00:00.000000000",
          "2025-12-01T00:00:00.000000000",
          "2025-12-01T00:00:00.000000000",
          "2025-11-01T00:00:00.000000000",
          "2025-10-01T00:00:00.000000000",
          "2025-09-01T00:00:00.000000000",
          "2025-08-01T00:00:00.000000000",
          "2025-07-01T00:00:00.000000000",
          "2025-06-01T00:00:00.000000000",
          "2025-05-01T00:00:00.000000000"
         ],
         "xaxis": "x16",
         "y": {
          "bdata": "AAAAGOZCUUDNzMyknptAQDQzMwO1kiBAAAAAgMZOL0AAAABoIiVJQNQ0gjUkD1NAyP1dfOEVVkBToY26rxVTQANZ0TKHMHBAMKIH8UZfckDnvSSdc0RxQJ2aT2mFr21APi3trUhCaEAgMzAq3BBnQI8bs01lqmtA3Z90hfFacUA=",
          "dtype": "f8"
         },
         "yaxis": "y16"
        },
        {
         "hovertemplate": "Date: %{x}<br>Value: %{y}<br>Model: LR",
         "line": {
          "color": "red",
          "shape": "linear",
          "width": 2
         },
         "marker": {
          "size": 4
         },
         "mode": "lines+markers",
         "name": "LR",
         "showlegend": false,
         "type": "scatter",
         "x": [
          "2025-05-01T00:00:00.000000000",
          "2025-06-01T00:00:00.000000000",
          "2025-07-01T00:00:00.000000000",
          "2025-08-01T00:00:00.000000000",
          "2025-09-01T00:00:00.000000000",
          "2025-10-01T00:00:00.000000000",
          "2025-11-01T00:00:00.000000000",
          "2025-12-01T00:00:00.000000000"
         ],
         "xaxis": "x16",
         "y": {
          "bdata": "T3+3H9GaZUCOA0EoxPRgQCJNTCnIZFpARsrYkSvrWkA61c2xmoJhQPecJ5W5SGdAudPogJwuakDu5+3jGipoQA==",
          "dtype": "f8"
         },
         "yaxis": "y16"
        },
        {
         "fill": "toself",
         "fillcolor": "rgba(169, 169, 169, 0.2)",
         "hovertemplate": "Date: %{x}<br>Conf: 95%<br>Value: %{y}",
         "line": {
          "color": "rgba(255,255,255,0)"
         },
         "showlegend": false,
         "type": "scatter",
         "x": [
          "2025-05-01T00:00:00.000000000",
          "2025-06-01T00:00:00.000000000",
          "2025-07-01T00:00:00.000000000",
          "2025-08-01T00:00:00.000000000",
          "2025-09-01T00:00:00.000000000",
          "2025-10-01T00:00:00.000000000",
          "2025-11-01T00:00:00.000000000",
          "2025-12-01T00:00:00.000000000",
          "2025-12-01T00:00:00.000000000",
          "2025-11-01T00:00:00.000000000",
          "2025-10-01T00:00:00.000000000",
          "2025-09-01T00:00:00.000000000",
          "2025-08-01T00:00:00.000000000",
          "2025-07-01T00:00:00.000000000",
          "2025-06-01T00:00:00.000000000",
          "2025-05-01T00:00:00.000000000"
         ],
         "xaxis": "x16",
         "y": {
          "bdata": "AAAAGOZCUUDNzMyknptAQDQzMwO1kiBAAAAAgMZOL0AAAABoIiVJQNQ0gjUkD1NAyP1dfOEVVkBToY26rxVTQANZ0TKHMHBAMKIH8UZfckDnvSSdc0RxQJ2aT2mFr21APi3trUhCaEAgMzAq3BBnQI8bs01lqmtA3Z90hfFacUA=",
          "dtype": "f8"
         },
         "yaxis": "y16"
        },
        {
         "hovertemplate": "Date: %{x}<br>Value: %{y}<br>Model: NN",
         "line": {
          "color": "purple",
          "shape": "linear",
          "width": 2
         },
         "marker": {
          "size": 4
         },
         "mode": "lines+markers",
         "name": "NN",
         "showlegend": false,
         "type": "scatter",
         "x": [
          "2025-05-01T00:00:00.000000000",
          "2025-06-01T00:00:00.000000000",
          "2025-07-01T00:00:00.000000000",
          "2025-08-01T00:00:00.000000000",
          "2025-09-01T00:00:00.000000000",
          "2025-10-01T00:00:00.000000000",
          "2025-11-01T00:00:00.000000000",
          "2025-12-01T00:00:00.000000000"
         ],
         "xaxis": "x16",
         "y": {
          "bdata": "AAAAMEYIYEAAAADww/tSQAAAALCHzkVAAAAAoJd5SkAAAACA13pYQAAAAEC6k2JAAAAAEOzoZEAAAACQExZfQA==",
          "dtype": "f8"
         },
         "yaxis": "y16"
        },
        {
         "line": {
          "color": "black"
         },
         "mode": "lines",
         "showlegend": false,
         "type": "scatter",
         "x": [
          "2025-05-01T00:00:00",
          "2025-12-01T00:00:00"
         ],
         "xaxis": "x16",
         "y": [
          0,
          0
         ],
         "yaxis": "y16"
        }
       ],
       "layout": {
        "annotations": [
         {
          "font": {
           "size": 16
          },
          "showarrow": false,
          "text": "Precipitation",
          "x": 0.122,
          "xanchor": "center",
          "xref": "paper",
          "y": 1,
          "yanchor": "bottom",
          "yref": "paper"
         },
         {
          "font": {
           "size": 16
          },
          "showarrow": false,
          "text": "Evaporation",
          "x": 0.374,
          "xanchor": "center",
          "xref": "paper",
          "y": 1,
          "yanchor": "bottom",
          "yref": "paper"
         },
         {
          "font": {
           "size": 16
          },
          "showarrow": false,
          "text": "Runoff",
          "x": 0.626,
          "xanchor": "center",
          "xref": "paper",
          "y": 1,
          "yanchor": "bottom",
          "yref": "paper"
         },
         {
          "font": {
           "size": 16
          },
          "showarrow": false,
          "text": "CNBS",
          "x": 0.878,
          "xanchor": "center",
          "xref": "paper",
          "y": 1,
          "yanchor": "bottom",
          "yref": "paper"
         }
        ],
        "height": 800,
        "legend": {
         "orientation": "v",
         "title": {
          "text": "Model"
         },
         "traceorder": "normal",
         "x": 1.01,
         "y": 1.01
        },
        "plot_bgcolor": "white",
        "showlegend": true,
        "template": {
         "data": {
          "bar": [
           {
            "error_x": {
             "color": "#2a3f5f"
            },
            "error_y": {
             "color": "#2a3f5f"
            },
            "marker": {
             "line": {
              "color": "#E5ECF6",
              "width": 0.5
             },
             "pattern": {
              "fillmode": "overlay",
              "size": 10,
              "solidity": 0.2
             }
            },
            "type": "bar"
           }
          ],
          "barpolar": [
           {
            "marker": {
             "line": {
              "color": "#E5ECF6",
              "width": 0.5
             },
             "pattern": {
              "fillmode": "overlay",
              "size": 10,
              "solidity": 0.2
             }
            },
            "type": "barpolar"
           }
          ],
          "carpet": [
           {
            "aaxis": {
             "endlinecolor": "#2a3f5f",
             "gridcolor": "white",
             "linecolor": "white",
             "minorgridcolor": "white",
             "startlinecolor": "#2a3f5f"
            },
            "baxis": {
             "endlinecolor": "#2a3f5f",
             "gridcolor": "white",
             "linecolor": "white",
             "minorgridcolor": "white",
             "startlinecolor": "#2a3f5f"
            },
            "type": "carpet"
           }
          ],
          "choropleth": [
           {
            "colorbar": {
             "outlinewidth": 0,
             "ticks": ""
            },
            "type": "choropleth"
           }
          ],
          "contour": [
           {
            "colorbar": {
             "outlinewidth": 0,
             "ticks": ""
            },
            "colorscale": [
             [
              0,
              "#0d0887"
             ],
             [
              0.1111111111111111,
              "#46039f"
             ],
             [
              0.2222222222222222,
              "#7201a8"
             ],
             [
              0.3333333333333333,
              "#9c179e"
             ],
             [
              0.4444444444444444,
              "#bd3786"
             ],
             [
              0.5555555555555556,
              "#d8576b"
             ],
             [
              0.6666666666666666,
              "#ed7953"
             ],
             [
              0.7777777777777778,
              "#fb9f3a"
             ],
             [
              0.8888888888888888,
              "#fdca26"
             ],
             [
              1,
              "#f0f921"
             ]
            ],
            "type": "contour"
           }
          ],
          "contourcarpet": [
           {
            "colorbar": {
             "outlinewidth": 0,
             "ticks": ""
            },
            "type": "contourcarpet"
           }
          ],
          "heatmap": [
           {
            "colorbar": {
             "outlinewidth": 0,
             "ticks": ""
            },
            "colorscale": [
             [
              0,
              "#0d0887"
             ],
             [
              0.1111111111111111,
              "#46039f"
             ],
             [
              0.2222222222222222,
              "#7201a8"
             ],
             [
              0.3333333333333333,
              "#9c179e"
             ],
             [
              0.4444444444444444,
              "#bd3786"
             ],
             [
              0.5555555555555556,
              "#d8576b"
             ],
             [
              0.6666666666666666,
              "#ed7953"
             ],
             [
              0.7777777777777778,
              "#fb9f3a"
             ],
             [
              0.8888888888888888,
              "#fdca26"
             ],
             [
              1,
              "#f0f921"
             ]
            ],
            "type": "heatmap"
           }
          ],
          "histogram": [
           {
            "marker": {
             "pattern": {
              "fillmode": "overlay",
              "size": 10,
              "solidity": 0.2
             }
            },
            "type": "histogram"
           }
          ],
          "histogram2d": [
           {
            "colorbar": {
             "outlinewidth": 0,
             "ticks": ""
            },
            "colorscale": [
             [
              0,
              "#0d0887"
             ],
             [
              0.1111111111111111,
              "#46039f"
             ],
             [
              0.2222222222222222,
              "#7201a8"
             ],
             [
              0.3333333333333333,
              "#9c179e"
             ],
             [
              0.4444444444444444,
              "#bd3786"
             ],
             [
              0.5555555555555556,
              "#d8576b"
             ],
             [
              0.6666666666666666,
              "#ed7953"
             ],
             [
              0.7777777777777778,
              "#fb9f3a"
             ],
             [
              0.8888888888888888,
              "#fdca26"
             ],
             [
              1,
              "#f0f921"
             ]
            ],
            "type": "histogram2d"
           }
          ],
          "histogram2dcontour": [
           {
            "colorbar": {
             "outlinewidth": 0,
             "ticks": ""
            },
            "colorscale": [
             [
              0,
              "#0d0887"
             ],
             [
              0.1111111111111111,
              "#46039f"
             ],
             [
              0.2222222222222222,
              "#7201a8"
             ],
             [
              0.3333333333333333,
              "#9c179e"
             ],
             [
              0.4444444444444444,
              "#bd3786"
             ],
             [
              0.5555555555555556,
              "#d8576b"
             ],
             [
              0.6666666666666666,
              "#ed7953"
             ],
             [
              0.7777777777777778,
              "#fb9f3a"
             ],
             [
              0.8888888888888888,
              "#fdca26"
             ],
             [
              1,
              "#f0f921"
             ]
            ],
            "type": "histogram2dcontour"
           }
          ],
          "mesh3d": [
           {
            "colorbar": {
             "outlinewidth": 0,
             "ticks": ""
            },
            "type": "mesh3d"
           }
          ],
          "parcoords": [
           {
            "line": {
             "colorbar": {
              "outlinewidth": 0,
              "ticks": ""
             }
            },
            "type": "parcoords"
           }
          ],
          "pie": [
           {
            "automargin": true,
            "type": "pie"
           }
          ],
          "scatter": [
           {
            "fillpattern": {
             "fillmode": "overlay",
             "size": 10,
             "solidity": 0.2
            },
            "type": "scatter"
           }
          ],
          "scatter3d": [
           {
            "line": {
             "colorbar": {
              "outlinewidth": 0,
              "ticks": ""
             }
            },
            "marker": {
             "colorbar": {
              "outlinewidth": 0,
              "ticks": ""
             }
            },
            "type": "scatter3d"
           }
          ],
          "scattercarpet": [
           {
            "marker": {
             "colorbar": {
              "outlinewidth": 0,
              "ticks": ""
             }
            },
            "type": "scattercarpet"
           }
          ],
          "scattergeo": [
           {
            "marker": {
             "colorbar": {
              "outlinewidth": 0,
              "ticks": ""
             }
            },
            "type": "scattergeo"
           }
          ],
          "scattergl": [
           {
            "marker": {
             "colorbar": {
              "outlinewidth": 0,
              "ticks": ""
             }
            },
            "type": "scattergl"
           }
          ],
          "scattermap": [
           {
            "marker": {
             "colorbar": {
              "outlinewidth": 0,
              "ticks": ""
             }
            },
            "type": "scattermap"
           }
          ],
          "scattermapbox": [
           {
            "marker": {
             "colorbar": {
              "outlinewidth": 0,
              "ticks": ""
             }
            },
            "type": "scattermapbox"
           }
          ],
          "scatterpolar": [
           {
            "marker": {
             "colorbar": {
              "outlinewidth": 0,
              "ticks": ""
             }
            },
            "type": "scatterpolar"
           }
          ],
          "scatterpolargl": [
           {
            "marker": {
             "colorbar": {
              "outlinewidth": 0,
              "ticks": ""
             }
            },
            "type": "scatterpolargl"
           }
          ],
          "scatterternary": [
           {
            "marker": {
             "colorbar": {
              "outlinewidth": 0,
              "ticks": ""
             }
            },
            "type": "scatterternary"
           }
          ],
          "surface": [
           {
            "colorbar": {
             "outlinewidth": 0,
             "ticks": ""
            },
            "colorscale": [
             [
              0,
              "#0d0887"
             ],
             [
              0.1111111111111111,
              "#46039f"
             ],
             [
              0.2222222222222222,
              "#7201a8"
             ],
             [
              0.3333333333333333,
              "#9c179e"
             ],
             [
              0.4444444444444444,
              "#bd3786"
             ],
             [
              0.5555555555555556,
              "#d8576b"
             ],
             [
              0.6666666666666666,
              "#ed7953"
             ],
             [
              0.7777777777777778,
              "#fb9f3a"
             ],
             [
              0.8888888888888888,
              "#fdca26"
             ],
             [
              1,
              "#f0f921"
             ]
            ],
            "type": "surface"
           }
          ],
          "table": [
           {
            "cells": {
             "fill": {
              "color": "#EBF0F8"
             },
             "line": {
              "color": "white"
             }
            },
            "header": {
             "fill": {
              "color": "#C8D4E3"
             },
             "line": {
              "color": "white"
             }
            },
            "type": "table"
           }
          ]
         },
         "layout": {
          "annotationdefaults": {
           "arrowcolor": "#2a3f5f",
           "arrowhead": 0,
           "arrowwidth": 1
          },
          "autotypenumbers": "strict",
          "coloraxis": {
           "colorbar": {
            "outlinewidth": 0,
            "ticks": ""
           }
          },
          "colorscale": {
           "diverging": [
            [
             0,
             "#8e0152"
            ],
            [
             0.1,
             "#c51b7d"
            ],
            [
             0.2,
             "#de77ae"
            ],
            [
             0.3,
             "#f1b6da"
            ],
            [
             0.4,
             "#fde0ef"
            ],
            [
             0.5,
             "#f7f7f7"
            ],
            [
             0.6,
             "#e6f5d0"
            ],
            [
             0.7,
             "#b8e186"
            ],
            [
             0.8,
             "#7fbc41"
            ],
            [
             0.9,
             "#4d9221"
            ],
            [
             1,
             "#276419"
            ]
           ],
           "sequential": [
            [
             0,
             "#0d0887"
            ],
            [
             0.1111111111111111,
             "#46039f"
            ],
            [
             0.2222222222222222,
             "#7201a8"
            ],
            [
             0.3333333333333333,
             "#9c179e"
            ],
            [
             0.4444444444444444,
             "#bd3786"
            ],
            [
             0.5555555555555556,
             "#d8576b"
            ],
            [
             0.6666666666666666,
             "#ed7953"
            ],
            [
             0.7777777777777778,
             "#fb9f3a"
            ],
            [
             0.8888888888888888,
             "#fdca26"
            ],
            [
             1,
             "#f0f921"
            ]
           ],
           "sequentialminus": [
            [
             0,
             "#0d0887"
            ],
            [
             0.1111111111111111,
             "#46039f"
            ],
            [
             0.2222222222222222,
             "#7201a8"
            ],
            [
             0.3333333333333333,
             "#9c179e"
            ],
            [
             0.4444444444444444,
             "#bd3786"
            ],
            [
             0.5555555555555556,
             "#d8576b"
            ],
            [
             0.6666666666666666,
             "#ed7953"
            ],
            [
             0.7777777777777778,
             "#fb9f3a"
            ],
            [
             0.8888888888888888,
             "#fdca26"
            ],
            [
             1,
             "#f0f921"
            ]
           ]
          },
          "colorway": [
           "#636efa",
           "#EF553B",
           "#00cc96",
           "#ab63fa",
           "#FFA15A",
           "#19d3f3",
           "#FF6692",
           "#B6E880",
           "#FF97FF",
           "#FECB52"
          ],
          "font": {
           "color": "#2a3f5f"
          },
          "geo": {
           "bgcolor": "white",
           "lakecolor": "white",
           "landcolor": "#E5ECF6",
           "showlakes": true,
           "showland": true,
           "subunitcolor": "white"
          },
          "hoverlabel": {
           "align": "left"
          },
          "hovermode": "closest",
          "mapbox": {
           "style": "light"
          },
          "paper_bgcolor": "white",
          "plot_bgcolor": "#E5ECF6",
          "polar": {
           "angularaxis": {
            "gridcolor": "white",
            "linecolor": "white",
            "ticks": ""
           },
           "bgcolor": "#E5ECF6",
           "radialaxis": {
            "gridcolor": "white",
            "linecolor": "white",
            "ticks": ""
           }
          },
          "scene": {
           "xaxis": {
            "backgroundcolor": "#E5ECF6",
            "gridcolor": "white",
            "gridwidth": 2,
            "linecolor": "white",
            "showbackground": true,
            "ticks": "",
            "zerolinecolor": "white"
           },
           "yaxis": {
            "backgroundcolor": "#E5ECF6",
            "gridcolor": "white",
            "gridwidth": 2,
            "linecolor": "white",
            "showbackground": true,
            "ticks": "",
            "zerolinecolor": "white"
           },
           "zaxis": {
            "backgroundcolor": "#E5ECF6",
            "gridcolor": "white",
            "gridwidth": 2,
            "linecolor": "white",
            "showbackground": true,
            "ticks": "",
            "zerolinecolor": "white"
           }
          },
          "shapedefaults": {
           "line": {
            "color": "#2a3f5f"
           }
          },
          "ternary": {
           "aaxis": {
            "gridcolor": "white",
            "linecolor": "white",
            "ticks": ""
           },
           "baxis": {
            "gridcolor": "white",
            "linecolor": "white",
            "ticks": ""
           },
           "bgcolor": "#E5ECF6",
           "caxis": {
            "gridcolor": "white",
            "linecolor": "white",
            "ticks": ""
           }
          },
          "title": {
           "x": 0.05
          },
          "xaxis": {
           "automargin": true,
           "gridcolor": "white",
           "linecolor": "white",
           "ticks": "",
           "title": {
            "standoff": 15
           },
           "zerolinecolor": "white",
           "zerolinewidth": 2
          },
          "yaxis": {
           "automargin": true,
           "gridcolor": "white",
           "linecolor": "white",
           "ticks": "",
           "title": {
            "standoff": 15
           },
           "zerolinecolor": "white",
           "zerolinewidth": 2
          }
         }
        },
        "title": {
         "text": "9-month Great Lakes CNBS Forecasts",
         "x": 0.5
        },
        "width": 1500,
        "xaxis": {
         "anchor": "y",
         "domain": [
          0,
          0.244
         ],
         "gridcolor": "LightGray",
         "gridwidth": 0.5,
         "linecolor": "black",
         "linewidth": 2,
         "matches": "x13",
         "showgrid": true,
         "showline": true,
         "showticklabels": false,
         "tickmode": "array",
         "tickvals": [
          "2025-05-01T00:00:00.000000000",
          "2025-06-01T00:00:00.000000000",
          "2025-07-01T00:00:00.000000000",
          "2025-08-01T00:00:00.000000000",
          "2025-09-01T00:00:00.000000000",
          "2025-10-01T00:00:00.000000000",
          "2025-11-01T00:00:00.000000000",
          "2025-12-01T00:00:00.000000000"
         ]
        },
        "xaxis10": {
         "anchor": "y10",
         "domain": [
          0.252,
          0.496
         ],
         "gridcolor": "LightGray",
         "gridwidth": 0.5,
         "linecolor": "black",
         "linewidth": 2,
         "matches": "x14",
         "showgrid": true,
         "showline": true,
         "showticklabels": false,
         "tickmode": "array",
         "tickvals": [
          "2025-05-01T00:00:00.000000000",
          "2025-06-01T00:00:00.000000000",
          "2025-07-01T00:00:00.000000000",
          "2025-08-01T00:00:00.000000000",
          "2025-09-01T00:00:00.000000000",
          "2025-10-01T00:00:00.000000000",
          "2025-11-01T00:00:00.000000000",
          "2025-12-01T00:00:00.000000000"
         ]
        },
        "xaxis11": {
         "anchor": "y11",
         "domain": [
          0.504,
          0.748
         ],
         "gridcolor": "LightGray",
         "gridwidth": 0.5,
         "linecolor": "black",
         "linewidth": 2,
         "matches": "x15",
         "showgrid": true,
         "showline": true,
         "showticklabels": false,
         "tickmode": "array",
         "tickvals": [
          "2025-05-01T00:00:00.000000000",
          "2025-06-01T00:00:00.000000000",
          "2025-07-01T00:00:00.000000000",
          "2025-08-01T00:00:00.000000000",
          "2025-09-01T00:00:00.000000000",
          "2025-10-01T00:00:00.000000000",
          "2025-11-01T00:00:00.000000000",
          "2025-12-01T00:00:00.000000000"
         ]
        },
        "xaxis12": {
         "anchor": "y12",
         "domain": [
          0.756,
          1
         ],
         "gridcolor": "LightGray",
         "gridwidth": 0.5,
         "linecolor": "black",
         "linewidth": 2,
         "matches": "x16",
         "showgrid": true,
         "showline": true,
         "showticklabels": false,
         "tickmode": "array",
         "tickvals": [
          "2025-05-01T00:00:00.000000000",
          "2025-06-01T00:00:00.000000000",
          "2025-07-01T00:00:00.000000000",
          "2025-08-01T00:00:00.000000000",
          "2025-09-01T00:00:00.000000000",
          "2025-10-01T00:00:00.000000000",
          "2025-11-01T00:00:00.000000000",
          "2025-12-01T00:00:00.000000000"
         ]
        },
        "xaxis13": {
         "anchor": "y13",
         "domain": [
          0,
          0.244
         ],
         "gridcolor": "LightGray",
         "gridwidth": 0.5,
         "linecolor": "black",
         "linewidth": 2,
         "showgrid": true,
         "showline": true,
         "tickangle": -45,
         "tickformat": "%m-%Y",
         "tickmode": "array",
         "tickvals": [
          "2025-05-01T00:00:00.000000000",
          "2025-06-01T00:00:00.000000000",
          "2025-07-01T00:00:00.000000000",
          "2025-08-01T00:00:00.000000000",
          "2025-09-01T00:00:00.000000000",
          "2025-10-01T00:00:00.000000000",
          "2025-11-01T00:00:00.000000000",
          "2025-12-01T00:00:00.000000000"
         ]
        },
        "xaxis14": {
         "anchor": "y14",
         "domain": [
          0.252,
          0.496
         ],
         "gridcolor": "LightGray",
         "gridwidth": 0.5,
         "linecolor": "black",
         "linewidth": 2,
         "showgrid": true,
         "showline": true,
         "tickangle": -45,
         "tickformat": "%m-%Y",
         "tickmode": "array",
         "tickvals": [
          "2025-05-01T00:00:00.000000000",
          "2025-06-01T00:00:00.000000000",
          "2025-07-01T00:00:00.000000000",
          "2025-08-01T00:00:00.000000000",
          "2025-09-01T00:00:00.000000000",
          "2025-10-01T00:00:00.000000000",
          "2025-11-01T00:00:00.000000000",
          "2025-12-01T00:00:00.000000000"
         ]
        },
        "xaxis15": {
         "anchor": "y15",
         "domain": [
          0.504,
          0.748
         ],
         "gridcolor": "LightGray",
         "gridwidth": 0.5,
         "linecolor": "black",
         "linewidth": 2,
         "showgrid": true,
         "showline": true,
         "tickangle": -45,
         "tickformat": "%m-%Y",
         "tickmode": "array",
         "tickvals": [
          "2025-05-01T00:00:00.000000000",
          "2025-06-01T00:00:00.000000000",
          "2025-07-01T00:00:00.000000000",
          "2025-08-01T00:00:00.000000000",
          "2025-09-01T00:00:00.000000000",
          "2025-10-01T00:00:00.000000000",
          "2025-11-01T00:00:00.000000000",
          "2025-12-01T00:00:00.000000000"
         ]
        },
        "xaxis16": {
         "anchor": "y16",
         "domain": [
          0.756,
          1
         ],
         "gridcolor": "LightGray",
         "gridwidth": 0.5,
         "linecolor": "black",
         "linewidth": 2,
         "showgrid": true,
         "showline": true,
         "tickangle": -45,
         "tickformat": "%m-%Y",
         "tickmode": "array",
         "tickvals": [
          "2025-05-01T00:00:00.000000000",
          "2025-06-01T00:00:00.000000000",
          "2025-07-01T00:00:00.000000000",
          "2025-08-01T00:00:00.000000000",
          "2025-09-01T00:00:00.000000000",
          "2025-10-01T00:00:00.000000000",
          "2025-11-01T00:00:00.000000000",
          "2025-12-01T00:00:00.000000000"
         ]
        },
        "xaxis2": {
         "anchor": "y2",
         "domain": [
          0.252,
          0.496
         ],
         "gridcolor": "LightGray",
         "gridwidth": 0.5,
         "linecolor": "black",
         "linewidth": 2,
         "matches": "x14",
         "showgrid": true,
         "showline": true,
         "showticklabels": false,
         "tickmode": "array",
         "tickvals": [
          "2025-05-01T00:00:00.000000000",
          "2025-06-01T00:00:00.000000000",
          "2025-07-01T00:00:00.000000000",
          "2025-08-01T00:00:00.000000000",
          "2025-09-01T00:00:00.000000000",
          "2025-10-01T00:00:00.000000000",
          "2025-11-01T00:00:00.000000000",
          "2025-12-01T00:00:00.000000000"
         ]
        },
        "xaxis3": {
         "anchor": "y3",
         "domain": [
          0.504,
          0.748
         ],
         "gridcolor": "LightGray",
         "gridwidth": 0.5,
         "linecolor": "black",
         "linewidth": 2,
         "matches": "x15",
         "showgrid": true,
         "showline": true,
         "showticklabels": false,
         "tickmode": "array",
         "tickvals": [
          "2025-05-01T00:00:00.000000000",
          "2025-06-01T00:00:00.000000000",
          "2025-07-01T00:00:00.000000000",
          "2025-08-01T00:00:00.000000000",
          "2025-09-01T00:00:00.000000000",
          "2025-10-01T00:00:00.000000000",
          "2025-11-01T00:00:00.000000000",
          "2025-12-01T00:00:00.000000000"
         ]
        },
        "xaxis4": {
         "anchor": "y4",
         "domain": [
          0.756,
          1
         ],
         "gridcolor": "LightGray",
         "gridwidth": 0.5,
         "linecolor": "black",
         "linewidth": 2,
         "matches": "x16",
         "showgrid": true,
         "showline": true,
         "showticklabels": false,
         "tickmode": "array",
         "tickvals": [
          "2025-05-01T00:00:00.000000000",
          "2025-06-01T00:00:00.000000000",
          "2025-07-01T00:00:00.000000000",
          "2025-08-01T00:00:00.000000000",
          "2025-09-01T00:00:00.000000000",
          "2025-10-01T00:00:00.000000000",
          "2025-11-01T00:00:00.000000000",
          "2025-12-01T00:00:00.000000000"
         ]
        },
        "xaxis5": {
         "anchor": "y5",
         "domain": [
          0,
          0.244
         ],
         "gridcolor": "LightGray",
         "gridwidth": 0.5,
         "linecolor": "black",
         "linewidth": 2,
         "matches": "x13",
         "showgrid": true,
         "showline": true,
         "showticklabels": false,
         "tickmode": "array",
         "tickvals": [
          "2025-05-01T00:00:00.000000000",
          "2025-06-01T00:00:00.000000000",
          "2025-07-01T00:00:00.000000000",
          "2025-08-01T00:00:00.000000000",
          "2025-09-01T00:00:00.000000000",
          "2025-10-01T00:00:00.000000000",
          "2025-11-01T00:00:00.000000000",
          "2025-12-01T00:00:00.000000000"
         ]
        },
        "xaxis6": {
         "anchor": "y6",
         "domain": [
          0.252,
          0.496
         ],
         "gridcolor": "LightGray",
         "gridwidth": 0.5,
         "linecolor": "black",
         "linewidth": 2,
         "matches": "x14",
         "showgrid": true,
         "showline": true,
         "showticklabels": false,
         "tickmode": "array",
         "tickvals": [
          "2025-05-01T00:00:00.000000000",
          "2025-06-01T00:00:00.000000000",
          "2025-07-01T00:00:00.000000000",
          "2025-08-01T00:00:00.000000000",
          "2025-09-01T00:00:00.000000000",
          "2025-10-01T00:00:00.000000000",
          "2025-11-01T00:00:00.000000000",
          "2025-12-01T00:00:00.000000000"
         ]
        },
        "xaxis7": {
         "anchor": "y7",
         "domain": [
          0.504,
          0.748
         ],
         "gridcolor": "LightGray",
         "gridwidth": 0.5,
         "linecolor": "black",
         "linewidth": 2,
         "matches": "x15",
         "showgrid": true,
         "showline": true,
         "showticklabels": false,
         "tickmode": "array",
         "tickvals": [
          "2025-05-01T00:00:00.000000000",
          "2025-06-01T00:00:00.000000000",
          "2025-07-01T00:00:00.000000000",
          "2025-08-01T00:00:00.000000000",
          "2025-09-01T00:00:00.000000000",
          "2025-10-01T00:00:00.000000000",
          "2025-11-01T00:00:00.000000000",
          "2025-12-01T00:00:00.000000000"
         ]
        },
        "xaxis8": {
         "anchor": "y8",
         "domain": [
          0.756,
          1
         ],
         "gridcolor": "LightGray",
         "gridwidth": 0.5,
         "linecolor": "black",
         "linewidth": 2,
         "matches": "x16",
         "showgrid": true,
         "showline": true,
         "showticklabels": false,
         "tickmode": "array",
         "tickvals": [
          "2025-05-01T00:00:00.000000000",
          "2025-06-01T00:00:00.000000000",
          "2025-07-01T00:00:00.000000000",
          "2025-08-01T00:00:00.000000000",
          "2025-09-01T00:00:00.000000000",
          "2025-10-01T00:00:00.000000000",
          "2025-11-01T00:00:00.000000000",
          "2025-12-01T00:00:00.000000000"
         ]
        },
        "xaxis9": {
         "anchor": "y9",
         "domain": [
          0,
          0.244
         ],
         "gridcolor": "LightGray",
         "gridwidth": 0.5,
         "linecolor": "black",
         "linewidth": 2,
         "matches": "x13",
         "showgrid": true,
         "showline": true,
         "showticklabels": false,
         "tickmode": "array",
         "tickvals": [
          "2025-05-01T00:00:00.000000000",
          "2025-06-01T00:00:00.000000000",
          "2025-07-01T00:00:00.000000000",
          "2025-08-01T00:00:00.000000000",
          "2025-09-01T00:00:00.000000000",
          "2025-10-01T00:00:00.000000000",
          "2025-11-01T00:00:00.000000000",
          "2025-12-01T00:00:00.000000000"
         ]
        },
        "yaxis": {
         "anchor": "x",
         "domain": [
          0.7875,
          1
         ],
         "gridcolor": "LightGray",
         "gridwidth": 0.5,
         "linecolor": "black",
         "linewidth": 2,
         "showgrid": true,
         "showline": true,
         "title": {
          "text": "Superior"
         }
        },
        "yaxis10": {
         "anchor": "x10",
         "domain": [
          0.2625,
          0.475
         ],
         "gridcolor": "LightGray",
         "gridwidth": 0.5,
         "linecolor": "black",
         "linewidth": 2,
         "matches": "y9",
         "range": [
          -103.62804257455329,
          303.9548197076974
         ],
         "showgrid": true,
         "showline": true,
         "showticklabels": false
        },
        "yaxis11": {
         "anchor": "x11",
         "domain": [
          0.2625,
          0.475
         ],
         "gridcolor": "LightGray",
         "gridwidth": 0.5,
         "linecolor": "black",
         "linewidth": 2,
         "matches": "y9",
         "range": [
          -103.62804257455329,
          303.9548197076974
         ],
         "showgrid": true,
         "showline": true,
         "showticklabels": false
        },
        "yaxis12": {
         "anchor": "x12",
         "domain": [
          0.2625,
          0.475
         ],
         "gridcolor": "LightGray",
         "gridwidth": 0.5,
         "linecolor": "black",
         "linewidth": 2,
         "matches": "y9",
         "range": [
          -103.62804257455329,
          303.9548197076974
         ],
         "showgrid": true,
         "showline": true,
         "showticklabels": false
        },
        "yaxis13": {
         "anchor": "x13",
         "domain": [
          0,
          0.2125
         ],
         "gridcolor": "LightGray",
         "gridwidth": 0.5,
         "linecolor": "black",
         "linewidth": 2,
         "showgrid": true,
         "showline": true,
         "title": {
          "text": "Ontario"
         }
        },
        "yaxis14": {
         "anchor": "x14",
         "domain": [
          0,
          0.2125
         ],
         "gridcolor": "LightGray",
         "gridwidth": 0.5,
         "linecolor": "black",
         "linewidth": 2,
         "matches": "y13",
         "range": [
          -103.62804257455329,
          303.9548197076974
         ],
         "showgrid": true,
         "showline": true,
         "showticklabels": false
        },
        "yaxis15": {
         "anchor": "x15",
         "domain": [
          0,
          0.2125
         ],
         "gridcolor": "LightGray",
         "gridwidth": 0.5,
         "linecolor": "black",
         "linewidth": 2,
         "matches": "y13",
         "range": [
          -103.62804257455329,
          303.9548197076974
         ],
         "showgrid": true,
         "showline": true,
         "showticklabels": false
        },
        "yaxis16": {
         "anchor": "x16",
         "domain": [
          0,
          0.2125
         ],
         "gridcolor": "LightGray",
         "gridwidth": 0.5,
         "linecolor": "black",
         "linewidth": 2,
         "matches": "y13",
         "range": [
          -103.62804257455329,
          303.9548197076974
         ],
         "showgrid": true,
         "showline": true,
         "showticklabels": false
        },
        "yaxis2": {
         "anchor": "x2",
         "domain": [
          0.7875,
          1
         ],
         "gridcolor": "LightGray",
         "gridwidth": 0.5,
         "linecolor": "black",
         "linewidth": 2,
         "matches": "y",
         "showgrid": true,
         "showline": true,
         "showticklabels": false
        },
        "yaxis3": {
         "anchor": "x3",
         "domain": [
          0.7875,
          1
         ],
         "gridcolor": "LightGray",
         "gridwidth": 0.5,
         "linecolor": "black",
         "linewidth": 2,
         "matches": "y",
         "showgrid": true,
         "showline": true,
         "showticklabels": false
        },
        "yaxis4": {
         "anchor": "x4",
         "domain": [
          0.7875,
          1
         ],
         "gridcolor": "LightGray",
         "gridwidth": 0.5,
         "linecolor": "black",
         "linewidth": 2,
         "matches": "y",
         "showgrid": true,
         "showline": true,
         "showticklabels": false
        },
        "yaxis5": {
         "anchor": "x5",
         "domain": [
          0.525,
          0.7375
         ],
         "gridcolor": "LightGray",
         "gridwidth": 0.5,
         "linecolor": "black",
         "linewidth": 2,
         "showgrid": true,
         "showline": true,
         "title": {
          "text": "Mich-Huron"
         }
        },
        "yaxis6": {
         "anchor": "x6",
         "domain": [
          0.525,
          0.7375
         ],
         "gridcolor": "LightGray",
         "gridwidth": 0.5,
         "linecolor": "black",
         "linewidth": 2,
         "matches": "y5",
         "range": [
          -103.62804257455329,
          303.9548197076974
         ],
         "showgrid": true,
         "showline": true,
         "showticklabels": false
        },
        "yaxis7": {
         "anchor": "x7",
         "domain": [
          0.525,
          0.7375
         ],
         "gridcolor": "LightGray",
         "gridwidth": 0.5,
         "linecolor": "black",
         "linewidth": 2,
         "matches": "y5",
         "range": [
          -103.62804257455329,
          303.9548197076974
         ],
         "showgrid": true,
         "showline": true,
         "showticklabels": false
        },
        "yaxis8": {
         "anchor": "x8",
         "domain": [
          0.525,
          0.7375
         ],
         "gridcolor": "LightGray",
         "gridwidth": 0.5,
         "linecolor": "black",
         "linewidth": 2,
         "matches": "y5",
         "range": [
          -103.62804257455329,
          303.9548197076974
         ],
         "showgrid": true,
         "showline": true,
         "showticklabels": false
        },
        "yaxis9": {
         "anchor": "x9",
         "domain": [
          0.2625,
          0.475
         ],
         "gridcolor": "LightGray",
         "gridwidth": 0.5,
         "linecolor": "black",
         "linewidth": 2,
         "showgrid": true,
         "showline": true,
         "title": {
          "text": "Erie"
         }
        }
       }
      }
     },
     "metadata": {},
     "output_type": "display_data"
    }
   ],
   "source": [
    "import plotly.graph_objects as go\n",
    "from plotly.subplots import make_subplots\n",
    "import pandas as pd\n",
    "\n",
    "# Define the colors for each model\n",
    "model_colors = {\n",
    "    'GP': 'blue',\n",
    "    'RF': 'green',\n",
    "    'LR': 'red',\n",
    "    'NN': 'purple'\n",
    "}\n",
    "\n",
    "# Columns of interest in the order we want to plot them\n",
    "columns = ['superior_evaporation', 'superior_precipitation', 'superior_runoff', 'superior_cnbs',\n",
    "           'michigan-huron_evaporation', 'michigan-huron_precipitation', 'michigan-huron_runoff', 'michigan-huron_cnbs',\n",
    "           'erie_evaporation', 'erie_precipitation', 'erie_runoff', 'erie_cnbs',\n",
    "           'ontario_evaporation', 'ontario_precipitation', 'ontario_runoff', 'ontario_cnbs']\n",
    "\n",
    "# Create a 1x4 subplot grid\n",
    "fig = make_subplots(rows=4, cols=4, \n",
    "                    subplot_titles=['Precipitation', 'Evaporation', 'Runoff', 'CNBS'], \n",
    "                    shared_xaxes=True, shared_yaxes=True, vertical_spacing=0.05, horizontal_spacing=0.008)\n",
    "\n",
    "global_y_min, global_y_max = float('inf'), float('-inf')  # Initialize to extremes\n",
    "\n",
    "# Loop over the columns and plot the medians for each dataset\n",
    "for i, column in enumerate(columns):\n",
    "    row = i // 4  # Row index\n",
    "    col = i % 4   # Column index\n",
    "\n",
    "# Determine the lower and upper bounds of all the model forecast\n",
    "    lower_bound = df.groupby(['year', 'month'])[column].quantile(0.025).reset_index()\n",
    "    upper_bound = df.groupby(['year', 'month'])[column].quantile(0.975).reset_index()\n",
    "\n",
    "    for model_info in models_info:\n",
    "        model_name = model_info['model']\n",
    "\n",
    "        # Pull out the median values for each model\n",
    "        model_median = df[df['model'] == model_name]\n",
    "\n",
    "        # Get the grouped DataFrame for the current model\n",
    "        median_df = model_median.groupby(['year', 'month']).median(numeric_only=True).reset_index()\n",
    "        \n",
    "        median_df['date'] = pd.to_datetime(median_df[['year', 'month']].assign(day=1))\n",
    "\n",
    "        # Add the shaded region (confidence band)\n",
    "        fig.add_trace(go.Scatter(x=pd.concat([median_df['date'], median_df['date'][::-1]]),\n",
    "                         y=pd.concat([lower_bound[column], upper_bound[column][::-1]]),\n",
    "                         fill='toself', fillcolor='rgba(169, 169, 169, 0.2)',\n",
    "                         line=dict(color='rgba(255,255,255,0)'), showlegend=False, \n",
    "                         hovertemplate='Date: %{x}<br>Conf: 95%<br>Value: %{y}'), \n",
    "                         row=row+1, col=col+1)\n",
    "        \n",
    "        # Add the median line for the current model to the figure\n",
    "        fig.add_trace(go.Scatter(x=median_df['date'], y=median_df[column],\n",
    "                                 mode='lines+markers', name=model_name, \n",
    "                                 line=dict(shape='linear', width=2, color=model_colors[model_name]), \n",
    "                                 marker=dict(size=4), \n",
    "                                 showlegend=(row == 0 and col == 0),  # Only show legend for the first subplot\n",
    "                                 hovertemplate='Date: %{x}<br>Value: %{y}<br>Model: ' + model_name),\n",
    "                                 row=row+1, col=col+1)\n",
    "\n",
    "        # Update global y-axis limits\n",
    "        current_y_min = lower_bound[column].min()\n",
    "        current_y_max = upper_bound[column].max()\n",
    "        global_y_min = min(global_y_min, current_y_min)\n",
    "        global_y_max = max(global_y_max, current_y_max)\n",
    "\n",
    "    # Set x-axis range (limits) for each subplot\n",
    "    #fig.update_xaxes(range=[median_df['date'].iloc[0], median_df['date'].iloc[-1]], row=row+1, col=col+1)\n",
    "\n",
    "    # Format x-axis for the last row (set x-tick labels)\n",
    "    if row == 3:\n",
    "        fig.update_xaxes(tickformat='%m-%Y', tickangle=-45, row=row+1, col=col+1, tickmode='array', tickvals=median_df['date'])\n",
    "    else:\n",
    "        fig.update_xaxes(showticklabels=False, row=row+1, col=col+1, tickmode='array', tickvals=median_df['date'])\n",
    "\n",
    "    # Set y-axis labels for the first column only\n",
    "    if col == 0:\n",
    "        fig.update_yaxes(title_text=['Superior', 'Mich-Huron', 'Erie', 'Ontario'][row], row=row+1, col=col+1)\n",
    "\n",
    "    # Add the y=0 dashed line to every subplot\n",
    "    fig.add_trace(go.Scatter(x=[median_df['date'].min(), median_df['date'].max()],\n",
    "                             y=[0, 0], mode='lines', line=dict(color='black'), \n",
    "                             showlegend=False), row=row+1, col=col+1)\n",
    "\n",
    "    # Add a box around each subplot\n",
    "    fig.update_xaxes(showline=True, linewidth=2, linecolor='black', row=row+1, col=col+1)\n",
    "    fig.update_yaxes(showline=True, linewidth=2, linecolor='black', row=row+1, col=col+1)\n",
    "    \n",
    "# Set consistent y-axis limits across all subplots\n",
    "for row in range(1, 5):\n",
    "    for col in range(1, 5):\n",
    "        fig.update_yaxes(range=[global_y_min - 10, global_y_max + 10], row=row+1, col=col+1)\n",
    "\n",
    "# Set grid lines for all subplots\n",
    "fig.update_yaxes(showgrid=True, gridwidth=0.5, gridcolor='LightGray')\n",
    "fig.update_xaxes(showgrid=True, gridwidth=0.5, gridcolor='LightGray')\n",
    "\n",
    "# Update layout and titles\n",
    "fig.update_layout(\n",
    "    title_text=\"9-month Great Lakes CNBS Forecasts\",\n",
    "    title_x=0.5,\n",
    "    height=800, width=1500,\n",
    "    showlegend=True,\n",
    "    legend=dict(x=1.01, y=1.01, traceorder='normal', orientation='v', title='Model'),  # Move legend up\n",
    "    plot_bgcolor='white',\n",
    ")\n",
    "\n",
    "# Save the figure as an interactive HTML file\n",
    "fig.write_html(f'{dir}forecast/CNBS_forecasts_interactive.html')\n",
    "\n",
    "# Show the plot (optional)\n",
    "fig.show()"
   ]
  }
 ],
 "metadata": {
  "kernelspec": {
   "display_name": "env",
   "language": "python",
   "name": "python3"
  },
  "language_info": {
   "codemirror_mode": {
    "name": "ipython",
    "version": 3
   },
   "file_extension": ".py",
   "mimetype": "text/x-python",
   "name": "python",
   "nbconvert_exporter": "python",
   "pygments_lexer": "ipython3",
   "version": "3.12.3"
  }
 },
 "nbformat": 4,
 "nbformat_minor": 2
}
