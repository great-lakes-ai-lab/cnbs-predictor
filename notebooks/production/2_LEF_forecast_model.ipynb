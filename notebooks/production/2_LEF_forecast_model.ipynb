{
 "cells": [
  {
   "cell_type": "markdown",
   "metadata": {},
   "source": [
    "# Forecasting CNBS\n",
    "Lindsay Fitzpatrick\n",
    "ljob@umich.edu\n",
    "08/19/2024\n",
    "Updated: 03/17/2025\n",
    "\n",
    "This script performs the following tasks:\n",
    "\n",
    "1. Loads the database containing processed CFS forecast data.\n",
    "2. Passes the forecast data through the trained model(s).\n",
    "3. Generates an ensemble of CNBS forecasts for each of the Great Lakes.\n",
    "4. Saves the forecasts to a database and/or CSV file.\n",
    "5. Creates a figure with time series plots and exports it as a PNG file.\n",
    "\n",
    "The script requires the following files:\n",
    "- cfs_forecast_data.db\n",
    "- x_scaler.joblib\n",
    "- y_scaler.joblib\n",
    "\n",
    "And at least one or more of the following trained models:\n",
    "- GP_trained_model.joblib\n",
    "- RF_trained_model.joblib\n",
    "- LR_trained_model.joblib\n",
    "- NN_trained_model.joblib"
   ]
  },
  {
   "cell_type": "code",
   "execution_count": 17,
   "metadata": {},
   "outputs": [],
   "source": [
    "import pandas as pd\n",
    "import numpy as np\n",
    "import matplotlib.pyplot as plt\n",
    "import sqlite3\n",
    "import os\n",
    "import sys\n",
    "import plotly.graph_objects as go\n",
    "from plotly.subplots import make_subplots"
   ]
  },
  {
   "cell_type": "code",
   "execution_count": 18,
   "metadata": {},
   "outputs": [],
   "source": [
    "# Add the path to the src directory (two levels up)\n",
    "sys.path.append(os.path.abspath('../../'))\n",
    "from src.data_processing import filter_predictions, predict_cnbs, add_df_to_db\n",
    "from src.hydro_utils import convert_mm_to_cms"
   ]
  },
  {
   "cell_type": "markdown",
   "metadata": {},
   "source": [
    "# User Input"
   ]
  },
  {
   "cell_type": "code",
   "execution_count": 19,
   "metadata": {},
   "outputs": [],
   "source": [
    "# Directory where the repository is cloned\n",
    "local_path = '/Users/ljob/Desktop/'\n",
    "\n",
    "# Path to data directory\n",
    "dir = local_path + 'cnbs-predictor/data/'\n",
    "\n",
    "# Path to input CFS forecast database\n",
    "cfs_database = local_path + 'cfs_forecast_data.db'\n",
    "\n",
    "# Path to save CNBS forecast output to a database\n",
    "cnbs_database = dir + 'forecast/cnbs_forecast.db'\n",
    "\n",
    "# Path to saved scalers\n",
    "x_scaler = dir + 'input/x_scaler.joblib'\n",
    "y_scaler = dir + 'input/y_scaler.joblib'\n",
    "\n",
    "# Define directory to trained models to use along with their paths\n",
    "models_info = [{'model': 'GP', 'path': dir + 'input/GP_trained_model.joblib'},\n",
    "               {'model': 'RF', 'path': dir + 'input/RF_trained_model.joblib'},\n",
    "               {'model': 'LR', 'path': dir + 'input/LR_trained_model.joblib'},\n",
    "               {'model': 'NN', 'path': dir + 'input/NN_trained_model.joblib'}]"
   ]
  },
  {
   "cell_type": "markdown",
   "metadata": {},
   "source": [
    "# Begin Script"
   ]
  },
  {
   "cell_type": "code",
   "execution_count": 20,
   "metadata": {},
   "outputs": [],
   "source": [
    "# Create a connection to the SQLite database\n",
    "conn = sqlite3.connect(cfs_database)\n",
    "\n",
    "# Define the query to get all the data\n",
    "query = '''\n",
    "SELECT * FROM cfs_forecast_data\n",
    "'''\n",
    "\n",
    "# Execute the query and fetch the data into a DataFrame\n",
    "data = pd.read_sql(query, conn)\n",
    "\n",
    "# Close the connection once done\n",
    "conn.close()\n",
    "\n",
    "data.set_index(['cfs_run', 'month', 'year'], drop=True, inplace=True)"
   ]
  },
  {
   "cell_type": "code",
   "execution_count": 21,
   "metadata": {},
   "outputs": [],
   "source": [
    "# This creates 1 column with a variable name that combines column names from the database\n",
    "# It just makes it simplier for the moment to call the data\n",
    "data['variable'] = data['lake'] + '_' + data['surface_type'] + '_' + data['component']"
   ]
  },
  {
   "cell_type": "code",
   "execution_count": 22,
   "metadata": {},
   "outputs": [],
   "source": [
    "# The variable names based on the above step in the order that they need to be in based on the order of variables during the training step\n",
    "variables = ['superior_lake_precipitation', 'erie_lake_precipitation', 'ontario_lake_precipitation', 'michigan-huron_lake_precipitation', \n",
    "             'superior_land_precipitation', 'erie_land_precipitation', 'ontario_land_precipitation', 'michigan-huron_land_precipitation', \n",
    "             'superior_lake_evaporation', 'erie_lake_evaporation', 'ontario_lake_evaporation', 'michigan-huron_lake_evaporation',\n",
    "             'superior_land_evaporation', 'erie_land_evaporation', 'ontario_land_evaporation', 'michigan-huron_land_evaporation',\n",
    "             'superior_lake_air_temperature', 'erie_lake_air_temperature', 'ontario_lake_air_temperature', 'michigan-huron_lake_air_temperature', \n",
    "             'superior_land_air_temperature', 'erie_land_air_temperature', 'ontario_land_air_temperature', 'michigan-huron_land_air_temperature'\n",
    "             ]  + [f'month_{i}' for i in range(1, 13)]\n",
    "\n",
    "data = data.reset_index()\n",
    "X = data.pivot_table(index=['cfs_run', 'year', 'month'], columns='variable', values='value [mm]')\n",
    "# Remove column level name\n",
    "X.columns.name = None\n",
    "\n",
    "# Extract month from index and one-hot encode\n",
    "X['month'] = X.index.get_level_values('month')\n",
    "X = pd.get_dummies(X, columns=['month'], prefix='month')\n",
    "\n",
    "# Ensure all month columns exist\n",
    "for i in range(1, 13):\n",
    "    col = f'month_{i}'\n",
    "    if col not in X.columns:\n",
    "        X[col] = 0\n",
    "\n",
    "# Reorder columns to match training order\n",
    "X = X[variables]\n",
    "\n",
    "# For any reason, in a worse case scenario and there are NaNs (which there would never ever be missing data), drop the rows that include them\n",
    "# Check first to see if there are NaN values in the DataFrame\n",
    "if X.isna().any().any():\n",
    "    print(\"NaNs were found in the input dataset. Details below:\\n\")\n",
    "\n",
    "    # Optional: Show row indices with any NaNs\n",
    "    print(\"\\nRows with NaNs:\")\n",
    "    print(X[X.isna().any(axis=1)])\n",
    "\n",
    "    print(\"\\nRemoving rows with NaN values before continuing.\\n\")\n",
    "    X = X.dropna(how='any')"
   ]
  },
  {
   "cell_type": "code",
   "execution_count": 23,
   "metadata": {},
   "outputs": [
    {
     "name": "stdout",
     "output_type": "stream",
     "text": [
      "First month forecast: 5\n"
     ]
    }
   ],
   "source": [
    "# This removes any old cfs forecasts that we do not need cnbs forecasts for (such as forecasts for months that have passed). \n",
    "X_filtered = filter_predictions(X)"
   ]
  },
  {
   "cell_type": "markdown",
   "metadata": {},
   "source": [
    "Run CFS data through the trained models"
   ]
  },
  {
   "cell_type": "code",
   "execution_count": 24,
   "metadata": {},
   "outputs": [
    {
     "name": "stdout",
     "output_type": "stream",
     "text": [
      "\u001b[1m202/202\u001b[0m \u001b[32m━━━━━━━━━━━━━━━━━━━━\u001b[0m\u001b[37m\u001b[0m \u001b[1m0s\u001b[0m 274us/step\n"
     ]
    }
   ],
   "source": [
    "# Initialize an empty dataframe to store predictions by model name\n",
    "model_predictions = []\n",
    "\n",
    "# Process each model and add to DB\n",
    "for model_info in models_info:\n",
    "    model_name = model_info['model']\n",
    "    df_y = predict_cnbs(X_filtered, x_scaler, y_scaler, models_info, model_name)\n",
    "    if df_y is not None:\n",
    "        # Store the predictions in the dataframe\n",
    "        df_y['model'] = model_name\n",
    "        model_predictions.append(df_y)\n",
    "\n",
    "df = pd.concat(model_predictions, ignore_index=False).reset_index()\n"
   ]
  },
  {
   "cell_type": "markdown",
   "metadata": {},
   "source": [
    "Format the CNBS forecasts, calculate values from mm to cms and add data to a database"
   ]
  },
  {
   "cell_type": "code",
   "execution_count": 25,
   "metadata": {},
   "outputs": [],
   "source": [
    "# Format the data so it is organized and ready to add to the database\n",
    "melt_df = df.melt(id_vars=['model', 'cfs_run', 'month', 'year'], var_name='lake_cnbs', value_name='value [mm]')\n",
    "melt_df[['lake', 'component']] = melt_df['lake_cnbs'].str.split('_', expand=True)\n",
    "melt_df_formatted = melt_df.drop(columns=['lake_cnbs']).loc[:, ['cfs_run', 'month', 'year', 'model', 'lake', 'component', 'value [mm]']]\n",
    "melt_df_formatted = melt_df_formatted.sort_values(by=['cfs_run', 'month', 'year', 'model', 'lake']).set_index(['cfs_run', 'month', 'year'])\n",
    "df_all = convert_mm_to_cms(melt_df_formatted)\n",
    "add_df_to_db(cnbs_database, 'cnbs_forecast', df_all)"
   ]
  },
  {
   "cell_type": "markdown",
   "metadata": {},
   "source": [
    "Calculate the mean of each month forecast by model"
   ]
  },
  {
   "cell_type": "code",
   "execution_count": 26,
   "metadata": {},
   "outputs": [],
   "source": [
    "df_y_model_mean = df_all.groupby(['year', 'month', 'model', 'lake', 'component'])[['value [mm]', 'value [cms]']].mean().round(3)\n",
    "add_df_to_db(cnbs_database, 'cnbs_forecast_model_mean', df_y_model_mean)"
   ]
  },
  {
   "cell_type": "markdown",
   "metadata": {},
   "source": [
    "Calculate the mean of each month from all the model ensemble forecasts"
   ]
  },
  {
   "cell_type": "code",
   "execution_count": 27,
   "metadata": {},
   "outputs": [],
   "source": [
    "# Get the mean value for each forecast month\n",
    "df_y_mean = df_all.groupby(['year', 'month', 'lake', 'component'])[['value [mm]', 'value [cms]']].mean().round(3).reset_index()\n",
    "\n",
    "# Rename columns\n",
    "df_y_mean.rename(columns={'year': 'forecast_year', 'month': 'forecast_month'}, inplace=True)\n",
    "\n",
    "# Set a \"current year\" and \"current month\" to make tracking the forecast easier\n",
    "df_y_mean['current_year'] = df_y_mean['forecast_year'][0]\n",
    "df_y_mean['current_month'] = df_y_mean['forecast_month'][0]\n",
    "\n",
    "# Only keep the columns we need and in a particulat order\n",
    "df_y_mean = df_y_mean[['current_year', 'current_month', 'forecast_year', 'forecast_month', 'lake', 'component', 'value [mm]', 'value [cms]']]\n",
    "\n",
    "# Save to a CSV [mm]\n",
    "df_y_mean.to_csv(f'{dir}forecast/CNBS_forecast.csv', sep='\\t', index=False)"
   ]
  },
  {
   "cell_type": "code",
   "execution_count": 28,
   "metadata": {},
   "outputs": [],
   "source": [
    "# Create a column that is forecast date in YYYY_MM. This will just make is easier to pivot the table\n",
    "df_y_mean['forecast'] = df_y_mean['forecast_year'].astype(str) + '_' + df_y_mean['forecast_month'].astype(str).str.zfill(2)\n",
    "\n",
    "# Make sure they are sorted by the forecast date\n",
    "df_test = df_y_mean.sort_values(['current_year', 'current_month', 'lake', 'forecast'])\n",
    "\n",
    "# Pivot the table so the forecast date is in columns instead of rows\n",
    "df_pivoted = df_test.pivot_table(\n",
    "    index=['current_year', 'current_month', 'lake', 'component'],\n",
    "    columns='forecast',\n",
    "    values='value [cms]'\n",
    "    ).reset_index()\n",
    "df_pivoted.columns.name = None"
   ]
  },
  {
   "cell_type": "code",
   "execution_count": 29,
   "metadata": {},
   "outputs": [],
   "source": [
    "# Get the forecast columns\n",
    "forecast_cols = df_pivoted.columns.difference(['current_year', 'current_month', 'lake', 'component'])\n",
    "\n",
    "# Sort the data\n",
    "forecast_cols_sorted = sorted(forecast_cols)\n",
    "\n",
    "# Rename columns to month_1, month_2, ...\n",
    "rename_dict = {old: f'month_{i+1}' for i, old in enumerate(forecast_cols_sorted)}\n",
    "df_pivoted = df_pivoted.rename(columns=rename_dict)"
   ]
  },
  {
   "cell_type": "markdown",
   "metadata": {},
   "source": [
    "Plot the forecasts for each component for each lake by model output"
   ]
  },
  {
   "cell_type": "code",
   "execution_count": 30,
   "metadata": {},
   "outputs": [
    {
     "data": {
      "image/png": "[encoded data removed]",
      "text/plain": [
       "<Figure size 1800x800 with 16 Axes>"
      ]
     },
     "metadata": {},
     "output_type": "display_data"
    }
   ],
   "source": [
    "# Define model colors\n",
    "model_colors = {\n",
    "    'GP': 'blue',\n",
    "    'RF': 'green',\n",
    "    'LR': 'red',\n",
    "    'NN': 'purple'\n",
    "}\n",
    "\n",
    "# Columns of interest in the order we want to plot them\n",
    "columns = [\n",
    "    'superior_precipitation', 'superior_evaporation', 'superior_runoff', 'superior_cnbs',\n",
    "    'michigan-huron_precipitation', 'michigan-huron_evaporation', 'michigan-huron_runoff', 'michigan-huron_cnbs',\n",
    "    'erie_precipitation', 'erie_evaporation', 'erie_runoff', 'erie_cnbs',\n",
    "    'ontario_precipitation', 'ontario_evaporation', 'ontario_runoff', 'ontario_cnbs'\n",
    "    ]\n",
    "\n",
    "# Create a 4x4 subplot grid\n",
    "fig, axs = plt.subplots(4, 4, figsize=(18, 8))\n",
    "\n",
    "# Shared y-limits for columns 0–2\n",
    "shared_y_min, shared_y_max = float('inf'), float('-inf')\n",
    "\n",
    "# Separate y-limits for column 3 (NBS)\n",
    "col4_y_min, col4_y_max = float('inf'), float('-inf')\n",
    "\n",
    "# Loop over all the columns and plot\n",
    "for i, column in enumerate(columns):\n",
    "    row = i // 4\n",
    "    col = i % 4\n",
    "\n",
    "    # Determine the lower and upper bounds (confidence intervals)\n",
    "    lower_bound = df.groupby(['year', 'month'])[column].quantile(0.025).reset_index()\n",
    "    upper_bound = df.groupby(['year', 'month'])[column].quantile(0.975).reset_index()\n",
    "\n",
    "    for model_info in models_info:\n",
    "        model_name = model_info['model']\n",
    "        model_mean = df[df['model'] == model_name]\n",
    "        mean_df = model_mean.groupby(['year', 'month']).mean(numeric_only=True).reset_index()\n",
    "        mean_df['date'] = pd.to_datetime(mean_df[['year', 'month']].assign(day=1))\n",
    "\n",
    "        axs[row, col].plot(mean_df['date'], mean_df[column], marker='o', markersize=3,\n",
    "                           color=model_colors[model_name], label=model_name)\n",
    "\n",
    "    axs[row, col].fill_between(mean_df['date'], lower_bound[column], upper_bound[column],\n",
    "                               color='gray', alpha=0.2, label = '95%')\n",
    "\n",
    "    axs[row, col].axhline(0, color='black', linestyle='--', linewidth=1)\n",
    "    axs[row, col].grid(True, linestyle='--', alpha=0.6)\n",
    "    axs[row, col].set_yticks(np.arange(-1000, 1000, 50))\n",
    "\n",
    "    # Track y-axis limits\n",
    "    current_y_min = lower_bound[column].min()\n",
    "    current_y_max = upper_bound[column].max()\n",
    "\n",
    "    if col < 3:\n",
    "        shared_y_min = min(shared_y_min, current_y_min)\n",
    "        shared_y_max = max(shared_y_max, current_y_max)\n",
    "    else:\n",
    "        col4_y_min = min(col4_y_min, current_y_min)\n",
    "        col4_y_max = max(col4_y_max, current_y_max)\n",
    "\n",
    "    # Titles\n",
    "    if row == 0:\n",
    "        axs[row, col].set_title(['Precipitation', 'Evaporation', 'Runoff', 'Total NBS'][col], fontsize=14)\n",
    "\n",
    "    # X-axis formatting\n",
    "    if row == 3:\n",
    "        axs[row, col].xaxis.set_major_formatter(plt.matplotlib.dates.DateFormatter('%m-%Y'))\n",
    "        axs[row, col].tick_params(axis='x', rotation=45)\n",
    "        for label in axs[row, col].get_xticklabels():\n",
    "            label.set_horizontalalignment('right')\n",
    "    else:\n",
    "        axs[row, col].set_xticklabels([])\n",
    "\n",
    "    # Y-axis labels\n",
    "    if col == 0:\n",
    "        axs[row, col].set_ylabel(['Superior', 'Mich-Huron', 'Erie', 'Ontario'][row], fontsize=14)\n",
    "    elif col == 3:\n",
    "        axs[row, col].set_ylabel(['', '', '', ''][row], fontsize=14)\n",
    "    else:\n",
    "        axs[row, col].set_yticklabels([])\n",
    "\n",
    "# Apply y-axis limits\n",
    "for row in range(4):\n",
    "    for col in range(4):\n",
    "        if col < 3:\n",
    "            axs[row, col].set_ylim(shared_y_min - 10, shared_y_max + 10)\n",
    "        else:\n",
    "            axs[row, col].set_ylim(col4_y_min - 10, col4_y_max + 10)\n",
    "\n",
    "        axs[row, col].set_xlim(mean_df['date'].iloc[0], mean_df['date'].iloc[-1])\n",
    "\n",
    "fig.suptitle('Great Lakes 9-Month NBS [mm] Forecast', fontsize=16)\n",
    "\n",
    "# Add legend\n",
    "axs[0, 3].legend(loc='lower left', bbox_to_anchor=(1, 0.04), fontsize=12)\n",
    "\n",
    "# Save and show\n",
    "plt.savefig(f'{dir}forecast/CNBS_forecasts.png')\n",
    "plt.tight_layout()\n",
    "plt.show()\n"
   ]
  },
  {
   "cell_type": "markdown",
   "metadata": {},
   "source": [
    "Create an interactive figure that will let you hover over lines and it shows the model and value. This saves as an html file and opens in a web browser."
   ]
  },
  {
   "cell_type": "code",
   "execution_count": 31,
   "metadata": {},
   "outputs": [
    {
     "data": {
      "application/vnd.plotly.v1+json": {
       "config": {
        "plotlyServerURL": "https://plot.ly"
       },
       "data": [
        {
         "fill": "toself",
         "fillcolor": "rgba(169, 169, 169, 0.2)",
         "hovertemplate": "Date: %{x}<br>Conf: 95%<br>Value: %{y}",
         "line": {
          "color": "rgba(255,255,255,0)"
         },
         "showlegend": false,
         "type": "scatter",
         "x": [
          "2025-05-01T00:00:00.000000000",
          "2025-06-01T00:00:00.000000000",
          "2025-07-01T00:00:00.000000000",
          "2025-08-01T00:00:00.000000000",
          "2025-09-01T00:00:00.000000000",
          "2025-10-01T00:00:00.000000000",
          "2025-11-01T00:00:00.000000000",
          "2025-12-01T00:00:00.000000000",
          "2026-01-01T00:00:00.000000000",
          "2026-02-01T00:00:00.000000000",
          "2026-02-01T00:00:00.000000000",
          "2026-01-01T00:00:00.000000000",
          "2025-12-01T00:00:00.000000000",
          "2025-11-01T00:00:00.000000000",
          "2025-10-01T00:00:00.000000000",
          "2025-09-01T00:00:00.000000000",
          "2025-08-01T00:00:00.000000000",
          "2025-07-01T00:00:00.000000000",
          "2025-06-01T00:00:00.000000000",
          "2025-05-01T00:00:00.000000000"
         ],
         "xaxis": "x",
         "y": {
          "bdata": "1F/RxXKDNkD4fGGJLihAQF7/R02lUUJA/o0ao+s1TUC+SfacX/FMQLbmSlqKHkFAWoywdcyDPECqQAgpR2s4QLHxPAULzzlAcNv5v6HsLUBUfb32L5BKQHD9ommtiVBAuuLJPZTAUkD///8POLpaQH4hzbem/V9AmJmZYdlnY0DvlO2C7DZiQDJ8HjZ5MV9AL3UvO9kYYED7ASv/s41bQA==",
          "dtype": "f8"
         },
         "yaxis": "y"
        },
        {
         "hovertemplate": "Date: %{x}<br>Value: %{y}<br>Model: GP",
         "line": {
          "color": "blue",
          "shape": "linear",
          "width": 2
         },
         "marker": {
          "size": 4
         },
         "mode": "lines+markers",
         "name": "GP",
         "showlegend": true,
         "type": "scatter",
         "x": [
          "2025-05-01T00:00:00.000000000",
          "2025-06-01T00:00:00.000000000",
          "2025-07-01T00:00:00.000000000",
          "2025-08-01T00:00:00.000000000",
          "2025-09-01T00:00:00.000000000",
          "2025-10-01T00:00:00.000000000",
          "2025-11-01T00:00:00.000000000",
          "2025-12-01T00:00:00.000000000",
          "2026-01-01T00:00:00.000000000",
          "2026-02-01T00:00:00.000000000"
         ],
         "xaxis": "x",
         "y": {
          "bdata": "+SPWeDokTUDa6o6PAAtSQM951ibwKFJAfE6DVndtVkBQcrd0yrdYQPlosUZSR1FAPlre20KYS0BD7QT91P5FQGYMpr+wrENAejgeGgS/O0A=",
          "dtype": "f8"
         },
         "yaxis": "y"
        },
        {
         "fill": "toself",
         "fillcolor": "rgba(169, 169, 169, 0.2)",
         "hovertemplate": "Date: %{x}<br>Conf: 95%<br>Value: %{y}",
         "line": {
          "color": "rgba(255,255,255,0)"
         },
         "showlegend": false,
         "type": "scatter",
         "x": [
          "2025-05-01T00:00:00.000000000",
          "2025-06-01T00:00:00.000000000",
          "2025-07-01T00:00:00.000000000",
          "2025-08-01T00:00:00.000000000",
          "2025-09-01T00:00:00.000000000",
          "2025-10-01T00:00:00.000000000",
          "2025-11-01T00:00:00.000000000",
          "2025-12-01T00:00:00.000000000",
          "2026-01-01T00:00:00.000000000",
          "2026-02-01T00:00:00.000000000",
          "2026-02-01T00:00:00.000000000",
          "2026-01-01T00:00:00.000000000",
          "2025-12-01T00:00:00.000000000",
          "2025-11-01T00:00:00.000000000",
          "2025-10-01T00:00:00.000000000",
          "2025-09-01T00:00:00.000000000",
          "2025-08-01T00:00:00.000000000",
          "2025-07-01T00:00:00.000000000",
          "2025-06-01T00:00:00.000000000",
          "2025-05-01T00:00:00.000000000"
         ],
         "xaxis": "x",
         "y": {
          "bdata": "1F/RxXKDNkD4fGGJLihAQF7/R02lUUJA/o0ao+s1TUC+SfacX/FMQLbmSlqKHkFAWoywdcyDPECqQAgpR2s4QLHxPAULzzlAcNv5v6HsLUBUfb32L5BKQHD9ommtiVBAuuLJPZTAUkD///8POLpaQH4hzbem/V9AmJmZYdlnY0DvlO2C7DZiQDJ8HjZ5MV9AL3UvO9kYYED7ASv/s41bQA==",
          "dtype": "f8"
         },
         "yaxis": "y"
        },
        {
         "hovertemplate": "Date: %{x}<br>Value: %{y}<br>Model: RF",
         "line": {
          "color": "green",
          "shape": "linear",
          "width": 2
         },
         "marker": {
          "size": 4
         },
         "mode": "lines+markers",
         "name": "RF",
         "showlegend": true,
         "type": "scatter",
         "x": [
          "2025-05-01T00:00:00.000000000",
          "2025-06-01T00:00:00.000000000",
          "2025-07-01T00:00:00.000000000",
          "2025-08-01T00:00:00.000000000",
          "2025-09-01T00:00:00.000000000",
          "2025-10-01T00:00:00.000000000",
          "2025-11-01T00:00:00.000000000",
          "2025-12-01T00:00:00.000000000",
          "2026-01-01T00:00:00.000000000",
          "2026-02-01T00:00:00.000000000"
         ],
         "xaxis": "x",
         "y": {
          "bdata": "47UW5XMaU0CgUZfy5cBTQA/nSGRqPFJAqn82AWq9UkDMNaLum7ZUQElGtnvK6VBAzbjeYYa3SECbu28VvjZGQOJPPkR1S0VAgXDMGykXQkA=",
          "dtype": "f8"
         },
         "yaxis": "y"
        },
        {
         "fill": "toself",
         "fillcolor": "rgba(169, 169, 169, 0.2)",
         "hovertemplate": "Date: %{x}<br>Conf: 95%<br>Value: %{y}",
         "line": {
          "color": "rgba(255,255,255,0)"
         },
         "showlegend": false,
         "type": "scatter",
         "x": [
          "2025-05-01T00:00:00.000000000",
          "2025-06-01T00:00:00.000000000",
          "2025-07-01T00:00:00.000000000",
          "2025-08-01T00:00:00.000000000",
          "2025-09-01T00:00:00.000000000",
          "2025-10-01T00:00:00.000000000",
          "2025-11-01T00:00:00.000000000",
          "2025-12-01T00:00:00.000000000",
          "2026-01-01T00:00:00.000000000",
          "2026-02-01T00:00:00.000000000",
          "2026-02-01T00:00:00.000000000",
          "2026-01-01T00:00:00.000000000",
          "2025-12-01T00:00:00.000000000",
          "2025-11-01T00:00:00.000000000",
          "2025-10-01T00:00:00.000000000",
          "2025-09-01T00:00:00.000000000",
          "2025-08-01T00:00:00.000000000",
          "2025-07-01T00:00:00.000000000",
          "2025-06-01T00:00:00.000000000",
          "2025-05-01T00:00:00.000000000"
         ],
         "xaxis": "x",
         "y": {
          "bdata": "1F/RxXKDNkD4fGGJLihAQF7/R02lUUJA/o0ao+s1TUC+SfacX/FMQLbmSlqKHkFAWoywdcyDPECqQAgpR2s4QLHxPAULzzlAcNv5v6HsLUBUfb32L5BKQHD9ommtiVBAuuLJPZTAUkD///8POLpaQH4hzbem/V9AmJmZYdlnY0DvlO2C7DZiQDJ8HjZ5MV9AL3UvO9kYYED7ASv/s41bQA==",
          "dtype": "f8"
         },
         "yaxis": "y"
        },
        {
         "hovertemplate": "Date: %{x}<br>Value: %{y}<br>Model: LR",
         "line": {
          "color": "red",
          "shape": "linear",
          "width": 2
         },
         "marker": {
          "size": 4
         },
         "mode": "lines+markers",
         "name": "LR",
         "showlegend": true,
         "type": "scatter",
         "x": [
          "2025-05-01T00:00:00.000000000",
          "2025-06-01T00:00:00.000000000",
          "2025-07-01T00:00:00.000000000",
          "2025-08-01T00:00:00.000000000",
          "2025-09-01T00:00:00.000000000",
          "2025-10-01T00:00:00.000000000",
          "2025-11-01T00:00:00.000000000",
          "2025-12-01T00:00:00.000000000",
          "2026-01-01T00:00:00.000000000",
          "2026-02-01T00:00:00.000000000"
         ],
         "xaxis": "x",
         "y": {
          "bdata": "KiVA1PK5T0Dp3uaSPYJUQFtgvYpTylVAXJJ76b2mWUCUGKGoyJFaQHkAgBuKAlNAjB7Jt3AOUED0uuAgOfVKQADNog3QMEdAPHwaTta3P0A=",
          "dtype": "f8"
         },
         "yaxis": "y"
        },
        {
         "fill": "toself",
         "fillcolor": "rgba(169, 169, 169, 0.2)",
         "hovertemplate": "Date: %{x}<br>Conf: 95%<br>Value: %{y}",
         "line": {
          "color": "rgba(255,255,255,0)"
         },
         "showlegend": false,
         "type": "scatter",
         "x": [
          "2025-05-01T00:00:00.000000000",
          "2025-06-01T00:00:00.000000000",
          "2025-07-01T00:00:00.000000000",
          "2025-08-01T00:00:00.000000000",
          "2025-09-01T00:00:00.000000000",
          "2025-10-01T00:00:00.000000000",
          "2025-11-01T00:00:00.000000000",
          "2025-12-01T00:00:00.000000000",
          "2026-01-01T00:00:00.000000000",
          "2026-02-01T00:00:00.000000000",
          "2026-02-01T00:00:00.000000000",
          "2026-01-01T00:00:00.000000000",
          "2025-12-01T00:00:00.000000000",
          "2025-11-01T00:00:00.000000000",
          "2025-10-01T00:00:00.000000000",
          "2025-09-01T00:00:00.000000000",
          "2025-08-01T00:00:00.000000000",
          "2025-07-01T00:00:00.000000000",
          "2025-06-01T00:00:00.000000000",
          "2025-05-01T00:00:00.000000000"
         ],
         "xaxis": "x",
         "y": {
          "bdata": "1F/RxXKDNkD4fGGJLihAQF7/R02lUUJA/o0ao+s1TUC+SfacX/FMQLbmSlqKHkFAWoywdcyDPECqQAgpR2s4QLHxPAULzzlAcNv5v6HsLUBUfb32L5BKQHD9ommtiVBAuuLJPZTAUkD///8POLpaQH4hzbem/V9AmJmZYdlnY0DvlO2C7DZiQDJ8HjZ5MV9AL3UvO9kYYED7ASv/s41bQA==",
          "dtype": "f8"
         },
         "yaxis": "y"
        },
        {
         "hovertemplate": "Date: %{x}<br>Value: %{y}<br>Model: NN",
         "line": {
          "color": "purple",
          "shape": "linear",
          "width": 2
         },
         "marker": {
          "size": 4
         },
         "mode": "lines+markers",
         "name": "NN",
         "showlegend": true,
         "type": "scatter",
         "x": [
          "2025-05-01T00:00:00.000000000",
          "2025-06-01T00:00:00.000000000",
          "2025-07-01T00:00:00.000000000",
          "2025-08-01T00:00:00.000000000",
          "2025-09-01T00:00:00.000000000",
          "2025-10-01T00:00:00.000000000",
          "2025-11-01T00:00:00.000000000",
          "2025-12-01T00:00:00.000000000",
          "2026-01-01T00:00:00.000000000",
          "2026-02-01T00:00:00.000000000"
         ],
         "xaxis": "x",
         "y": {
          "bdata": "rnQP8tfdTkAAAEDsYcZQQAAAAN4cUlBAXGo29FN4V0AhuYB7R5BaQA4cOJKXslJAL6l8yBDkTkCQSfGqrOtEQLdtW8mYPURAdmInGgOFPEA=",
          "dtype": "f8"
         },
         "yaxis": "y"
        },
        {
         "line": {
          "color": "black"
         },
         "mode": "lines",
         "showlegend": false,
         "type": "scatter",
         "x": [
          "2025-05-01T00:00:00",
          "2026-02-01T00:00:00"
         ],
         "xaxis": "x",
         "y": [
          0,
          0
         ],
         "yaxis": "y"
        },
        {
         "fill": "toself",
         "fillcolor": "rgba(169, 169, 169, 0.2)",
         "hovertemplate": "Date: %{x}<br>Conf: 95%<br>Value: %{y}",
         "line": {
          "color": "rgba(255,255,255,0)"
         },
         "showlegend": false,
         "type": "scatter",
         "x": [
          "2025-05-01T00:00:00.000000000",
          "2025-06-01T00:00:00.000000000",
          "2025-07-01T00:00:00.000000000",
          "2025-08-01T00:00:00.000000000",
          "2025-09-01T00:00:00.000000000",
          "2025-10-01T00:00:00.000000000",
          "2025-11-01T00:00:00.000000000",
          "2025-12-01T00:00:00.000000000",
          "2026-01-01T00:00:00.000000000",
          "2026-02-01T00:00:00.000000000",
          "2026-02-01T00:00:00.000000000",
          "2026-01-01T00:00:00.000000000",
          "2025-12-01T00:00:00.000000000",
          "2025-11-01T00:00:00.000000000",
          "2025-10-01T00:00:00.000000000",
          "2025-09-01T00:00:00.000000000",
          "2025-08-01T00:00:00.000000000",
          "2025-07-01T00:00:00.000000000",
          "2025-06-01T00:00:00.000000000",
          "2025-05-01T00:00:00.000000000"
         ],
         "xaxis": "x2",
         "y": {
          "bdata": "BQAKjgg7N0BTwxvLNw4zQM0E7oZWrDBAmibo65tIJ0AHKBU64Wk7QDZKi0igxklABlg9bVqhUUCm9X2+ANBTQJM0+81I2VJA5z7kpdZhS0AqBEHgf8BaQHHQrT/vvF1AFaEN1JvlX0DsSwWy+7VeQFlvZ9Y38FZAmpmZHbkiTkCYmZlpmwtBQDMzM8N2iUVAmZmZfb7NSEAAAAAkheZOQA==",
          "dtype": "f8"
         },
         "yaxis": "y2"
        },
        {
         "hovertemplate": "Date: %{x}<br>Value: %{y}<br>Model: GP",
         "line": {
          "color": "blue",
          "shape": "linear",
          "width": 2
         },
         "marker": {
          "size": 4
         },
         "mode": "lines+markers",
         "name": "GP",
         "showlegend": false,
         "type": "scatter",
         "x": [
          "2025-05-01T00:00:00.000000000",
          "2025-06-01T00:00:00.000000000",
          "2025-07-01T00:00:00.000000000",
          "2025-08-01T00:00:00.000000000",
          "2025-09-01T00:00:00.000000000",
          "2025-10-01T00:00:00.000000000",
          "2025-11-01T00:00:00.000000000",
          "2025-12-01T00:00:00.000000000",
          "2026-01-01T00:00:00.000000000",
          "2026-02-01T00:00:00.000000000"
         ],
         "xaxis": "x2",
         "y": {
          "bdata": "Yotx2wpjQkB09RmNel5AQOnXAFeV3j1AwC9fxwggNUC0JtBEC91DQKhxoQNmO1FAYntWyO8kWECT+NlVv5haQCj2ZSMiBVhAL/6b+JOOUEA=",
          "dtype": "f8"
         },
         "yaxis": "y2"
        },
        {
         "fill": "toself",
         "fillcolor": "rgba(169, 169, 169, 0.2)",
         "hovertemplate": "Date: %{x}<br>Conf: 95%<br>Value: %{y}",
         "line": {
          "color": "rgba(255,255,255,0)"
         },
         "showlegend": false,
         "type": "scatter",
         "x": [
          "2025-05-01T00:00:00.000000000",
          "2025-06-01T00:00:00.000000000",
          "2025-07-01T00:00:00.000000000",
          "2025-08-01T00:00:00.000000000",
          "2025-09-01T00:00:00.000000000",
          "2025-10-01T00:00:00.000000000",
          "2025-11-01T00:00:00.000000000",
          "2025-12-01T00:00:00.000000000",
          "2026-01-01T00:00:00.000000000",
          "2026-02-01T00:00:00.000000000",
          "2026-02-01T00:00:00.000000000",
          "2026-01-01T00:00:00.000000000",
          "2025-12-01T00:00:00.000000000",
          "2025-11-01T00:00:00.000000000",
          "2025-10-01T00:00:00.000000000",
          "2025-09-01T00:00:00.000000000",
          "2025-08-01T00:00:00.000000000",
          "2025-07-01T00:00:00.000000000",
          "2025-06-01T00:00:00.000000000",
          "2025-05-01T00:00:00.000000000"
         ],
         "xaxis": "x2",
         "y": {
          "bdata": "BQAKjgg7N0BTwxvLNw4zQM0E7oZWrDBAmibo65tIJ0AHKBU64Wk7QDZKi0igxklABlg9bVqhUUCm9X2+ANBTQJM0+81I2VJA5z7kpdZhS0AqBEHgf8BaQHHQrT/vvF1AFaEN1JvlX0DsSwWy+7VeQFlvZ9Y38FZAmpmZHbkiTkCYmZlpmwtBQDMzM8N2iUVAmZmZfb7NSEAAAAAkheZOQA==",
          "dtype": "f8"
         },
         "yaxis": "y2"
        },
        {
         "hovertemplate": "Date: %{x}<br>Value: %{y}<br>Model: RF",
         "line": {
          "color": "green",
          "shape": "linear",
          "width": 2
         },
         "marker": {
          "size": 4
         },
         "mode": "lines+markers",
         "name": "RF",
         "showlegend": false,
         "type": "scatter",
         "x": [
          "2025-05-01T00:00:00.000000000",
          "2025-06-01T00:00:00.000000000",
          "2025-07-01T00:00:00.000000000",
          "2025-08-01T00:00:00.000000000",
          "2025-09-01T00:00:00.000000000",
          "2025-10-01T00:00:00.000000000",
          "2025-11-01T00:00:00.000000000",
          "2025-12-01T00:00:00.000000000",
          "2026-01-01T00:00:00.000000000",
          "2026-02-01T00:00:00.000000000"
         ],
         "xaxis": "x2",
         "y": {
          "bdata": "GbfdncMJRUCZPVUFid43QOkjrEWo6TNAN4fqK9gUM0DMNATLyqdDQDEALgBpIFJAB+wkgZHkV0ABTZqLJqxZQHq/kNtwqVlApaMLBC6KVUA=",
          "dtype": "f8"
         },
         "yaxis": "y2"
        },
        {
         "fill": "toself",
         "fillcolor": "rgba(169, 169, 169, 0.2)",
         "hovertemplate": "Date: %{x}<br>Conf: 95%<br>Value: %{y}",
         "line": {
          "color": "rgba(255,255,255,0)"
         },
         "showlegend": false,
         "type": "scatter",
         "x": [
          "2025-05-01T00:00:00.000000000",
          "2025-06-01T00:00:00.000000000",
          "2025-07-01T00:00:00.000000000",
          "2025-08-01T00:00:00.000000000",
          "2025-09-01T00:00:00.000000000",
          "2025-10-01T00:00:00.000000000",
          "2025-11-01T00:00:00.000000000",
          "2025-12-01T00:00:00.000000000",
          "2026-01-01T00:00:00.000000000",
          "2026-02-01T00:00:00.000000000",
          "2026-02-01T00:00:00.000000000",
          "2026-01-01T00:00:00.000000000",
          "2025-12-01T00:00:00.000000000",
          "2025-11-01T00:00:00.000000000",
          "2025-10-01T00:00:00.000000000",
          "2025-09-01T00:00:00.000000000",
          "2025-08-01T00:00:00.000000000",
          "2025-07-01T00:00:00.000000000",
          "2025-06-01T00:00:00.000000000",
          "2025-05-01T00:00:00.000000000"
         ],
         "xaxis": "x2",
         "y": {
          "bdata": "BQAKjgg7N0BTwxvLNw4zQM0E7oZWrDBAmibo65tIJ0AHKBU64Wk7QDZKi0igxklABlg9bVqhUUCm9X2+ANBTQJM0+81I2VJA5z7kpdZhS0AqBEHgf8BaQHHQrT/vvF1AFaEN1JvlX0DsSwWy+7VeQFlvZ9Y38FZAmpmZHbkiTkCYmZlpmwtBQDMzM8N2iUVAmZmZfb7NSEAAAAAkheZOQA==",
          "dtype": "f8"
         },
         "yaxis": "y2"
        },
        {
         "hovertemplate": "Date: %{x}<br>Value: %{y}<br>Model: LR",
         "line": {
          "color": "red",
          "shape": "linear",
          "width": 2
         },
         "marker": {
          "size": 4
         },
         "mode": "lines+markers",
         "name": "LR",
         "showlegend": false,
         "type": "scatter",
         "x": [
          "2025-05-01T00:00:00.000000000",
          "2025-06-01T00:00:00.000000000",
          "2025-07-01T00:00:00.000000000",
          "2025-08-01T00:00:00.000000000",
          "2025-09-01T00:00:00.000000000",
          "2025-10-01T00:00:00.000000000",
          "2025-11-01T00:00:00.000000000",
          "2025-12-01T00:00:00.000000000",
          "2026-01-01T00:00:00.000000000",
          "2026-02-01T00:00:00.000000000"
         ],
         "xaxis": "x2",
         "y": {
          "bdata": "099DVC1NP0CK/IqevhpAQBH0LtcbyEBAt+Wgm5csM0DGi2wrYPtDQDXYJoMJ6FFAKiz2lQ6cWUCKPfnmuUZcQJe38PlQdllAiZCroZ4PUkA=",
          "dtype": "f8"
         },
         "yaxis": "y2"
        },
        {
         "fill": "toself",
         "fillcolor": "rgba(169, 169, 169, 0.2)",
         "hovertemplate": "Date: %{x}<br>Conf: 95%<br>Value: %{y}",
         "line": {
          "color": "rgba(255,255,255,0)"
         },
         "showlegend": false,
         "type": "scatter",
         "x": [
          "2025-05-01T00:00:00.000000000",
          "2025-06-01T00:00:00.000000000",
          "2025-07-01T00:00:00.000000000",
          "2025-08-01T00:00:00.000000000",
          "2025-09-01T00:00:00.000000000",
          "2025-10-01T00:00:00.000000000",
          "2025-11-01T00:00:00.000000000",
          "2025-12-01T00:00:00.000000000",
          "2026-01-01T00:00:00.000000000",
          "2026-02-01T00:00:00.000000000",
          "2026-02-01T00:00:00.000000000",
          "2026-01-01T00:00:00.000000000",
          "2025-12-01T00:00:00.000000000",
          "2025-11-01T00:00:00.000000000",
          "2025-10-01T00:00:00.000000000",
          "2025-09-01T00:00:00.000000000",
          "2025-08-01T00:00:00.000000000",
          "2025-07-01T00:00:00.000000000",
          "2025-06-01T00:00:00.000000000",
          "2025-05-01T00:00:00.000000000"
         ],
         "xaxis": "x2",
         "y": {
          "bdata": "BQAKjgg7N0BTwxvLNw4zQM0E7oZWrDBAmibo65tIJ0AHKBU64Wk7QDZKi0igxklABlg9bVqhUUCm9X2+ANBTQJM0+81I2VJA5z7kpdZhS0AqBEHgf8BaQHHQrT/vvF1AFaEN1JvlX0DsSwWy+7VeQFlvZ9Y38FZAmpmZHbkiTkCYmZlpmwtBQDMzM8N2iUVAmZmZfb7NSEAAAAAkheZOQA==",
          "dtype": "f8"
         },
         "yaxis": "y2"
        },
        {
         "hovertemplate": "Date: %{x}<br>Value: %{y}<br>Model: NN",
         "line": {
          "color": "purple",
          "shape": "linear",
          "width": 2
         },
         "marker": {
          "size": 4
         },
         "mode": "lines+markers",
         "name": "NN",
         "showlegend": false,
         "type": "scatter",
         "x": [
          "2025-05-01T00:00:00.000000000",
          "2025-06-01T00:00:00.000000000",
          "2025-07-01T00:00:00.000000000",
          "2025-08-01T00:00:00.000000000",
          "2025-09-01T00:00:00.000000000",
          "2025-10-01T00:00:00.000000000",
          "2025-11-01T00:00:00.000000000",
          "2025-12-01T00:00:00.000000000",
          "2026-01-01T00:00:00.000000000",
          "2026-02-01T00:00:00.000000000"
         ],
         "xaxis": "x2",
         "y": {
          "bdata": "NjtqJ4h4R0BQObvS+/FEQM9ghX1+gkFA4ZaaFZmEOEC7L49l9aRHQIUKFfD1QlFAZmZm3l+FV0D9ZusYp/RaQG7btsimhFdA2YmdLjX1UEA=",
          "dtype": "f8"
         },
         "yaxis": "y2"
        },
        {
         "line": {
          "color": "black"
         },
         "mode": "lines",
         "showlegend": false,
         "type": "scatter",
         "x": [
          "2025-05-01T00:00:00",
          "2026-02-01T00:00:00"
         ],
         "xaxis": "x2",
         "y": [
          0,
          0
         ],
         "yaxis": "y2"
        },
        {
         "fill": "toself",
         "fillcolor": "rgba(169, 169, 169, 0.2)",
         "hovertemplate": "Date: %{x}<br>Conf: 95%<br>Value: %{y}",
         "line": {
          "color": "rgba(255,255,255,0)"
         },
         "showlegend": false,
         "type": "scatter",
         "x": [
          "2025-05-01T00:00:00.000000000",
          "2025-06-01T00:00:00.000000000",
          "2025-07-01T00:00:00.000000000",
          "2025-08-01T00:00:00.000000000",
          "2025-09-01T00:00:00.000000000",
          "2025-10-01T00:00:00.000000000",
          "2025-11-01T00:00:00.000000000",
          "2025-12-01T00:00:00.000000000",
          "2026-01-01T00:00:00.000000000",
          "2026-02-01T00:00:00.000000000",
          "2026-02-01T00:00:00.000000000",
          "2026-01-01T00:00:00.000000000",
          "2025-12-01T00:00:00.000000000",
          "2025-11-01T00:00:00.000000000",
          "2025-10-01T00:00:00.000000000",
          "2025-09-01T00:00:00.000000000",
          "2025-08-01T00:00:00.000000000",
          "2025-07-01T00:00:00.000000000",
          "2025-06-01T00:00:00.000000000",
          "2025-05-01T00:00:00.000000000"
         ],
         "xaxis": "x3",
         "y": {
          "bdata": "XDmbYDYpQ0BmZmYGXgxAQDMzM/9TDTJA93KFfgDxPUASEHCICatBQH85SY+D9UFAPzi6PqnaPkC65WW5gJg8QOtb+sxV1ztAAAAAcHsBM0AvJzXeaWFDQKUfZtJF8UdAvXdsQdjLS0A3gpECJOxOQAKr7mBM1k5Ab95nXsHfSkDMzMwoPfdHQPD5g+PJk0dA+KXa8mHQTEC4svkdmiFUQA==",
          "dtype": "f8"
         },
         "yaxis": "y3"
        },
        {
         "hovertemplate": "Date: %{x}<br>Value: %{y}<br>Model: GP",
         "line": {
          "color": "blue",
          "shape": "linear",
          "width": 2
         },
         "marker": {
          "size": 4
         },
         "mode": "lines+markers",
         "name": "GP",
         "showlegend": false,
         "type": "scatter",
         "x": [
          "2025-05-01T00:00:00.000000000",
          "2025-06-01T00:00:00.000000000",
          "2025-07-01T00:00:00.000000000",
          "2025-08-01T00:00:00.000000000",
          "2025-09-01T00:00:00.000000000",
          "2025-10-01T00:00:00.000000000",
          "2025-11-01T00:00:00.000000000",
          "2025-12-01T00:00:00.000000000",
          "2026-01-01T00:00:00.000000000",
          "2026-02-01T00:00:00.000000000"
         ],
         "xaxis": "x3",
         "y": {
          "bdata": "MhvrAzEuUUCRAWTC0TFHQIuSEiIe9UJA68rz+tK1QkBytE6EPZxFQCYJcW8ON0hAo10N7sczSEDb0EZcYLpEQIO7f3h4KEFA2cUHiSo1OkA=",
          "dtype": "f8"
         },
         "yaxis": "y3"
        },
        {
         "fill": "toself",
         "fillcolor": "rgba(169, 169, 169, 0.2)",
         "hovertemplate": "Date: %{x}<br>Conf: 95%<br>Value: %{y}",
         "line": {
          "color": "rgba(255,255,255,0)"
         },
         "showlegend": false,
         "type": "scatter",
         "x": [
          "2025-05-01T00:00:00.000000000",
          "2025-06-01T00:00:00.000000000",
          "2025-07-01T00:00:00.000000000",
          "2025-08-01T00:00:00.000000000",
          "2025-09-01T00:00:00.000000000",
          "2025-10-01T00:00:00.000000000",
          "2025-11-01T00:00:00.000000000",
          "2025-12-01T00:00:00.000000000",
          "2026-01-01T00:00:00.000000000",
          "2026-02-01T00:00:00.000000000",
          "2026-02-01T00:00:00.000000000",
          "2026-01-01T00:00:00.000000000",
          "2025-12-01T00:00:00.000000000",
          "2025-11-01T00:00:00.000000000",
          "2025-10-01T00:00:00.000000000",
          "2025-09-01T00:00:00.000000000",
          "2025-08-01T00:00:00.000000000",
          "2025-07-01T00:00:00.000000000",
          "2025-06-01T00:00:00.000000000",
          "2025-05-01T00:00:00.000000000"
         ],
         "xaxis": "x3",
         "y": {
          "bdata": "XDmbYDYpQ0BmZmYGXgxAQDMzM/9TDTJA93KFfgDxPUASEHCICatBQH85SY+D9UFAPzi6PqnaPkC65WW5gJg8QOtb+sxV1ztAAAAAcHsBM0AvJzXeaWFDQKUfZtJF8UdAvXdsQdjLS0A3gpECJOxOQAKr7mBM1k5Ab95nXsHfSkDMzMwoPfdHQPD5g+PJk0dA+KXa8mHQTEC4svkdmiFUQA==",
          "dtype": "f8"
         },
         "yaxis": "y3"
        },
        {
         "hovertemplate": "Date: %{x}<br>Value: %{y}<br>Model: RF",
         "line": {
          "color": "green",
          "shape": "linear",
          "width": 2
         },
         "marker": {
          "size": 4
         },
         "mode": "lines+markers",
         "name": "RF",
         "showlegend": false,
         "type": "scatter",
         "x": [
          "2025-05-01T00:00:00.000000000",
          "2025-06-01T00:00:00.000000000",
          "2025-07-01T00:00:00.000000000",
          "2025-08-01T00:00:00.000000000",
          "2025-09-01T00:00:00.000000000",
          "2025-10-01T00:00:00.000000000",
          "2025-11-01T00:00:00.000000000",
          "2025-12-01T00:00:00.000000000",
          "2026-01-01T00:00:00.000000000",
          "2026-02-01T00:00:00.000000000"
         ],
         "xaxis": "x3",
         "y": {
          "bdata": "aNuQet+PREBo2tfx4EhDQGZYpHpfokJAAU6v2i8+QkARJLbuh/VDQOq41JqVAkZAa6uK7SzbQ0B1o6zkj2dBQHfsJywiQUBA2jrURIiCPUA=",
          "dtype": "f8"
         },
         "yaxis": "y3"
        },
        {
         "fill": "toself",
         "fillcolor": "rgba(169, 169, 169, 0.2)",
         "hovertemplate": "Date: %{x}<br>Conf: 95%<br>Value: %{y}",
         "line": {
          "color": "rgba(255,255,255,0)"
         },
         "showlegend": false,
         "type": "scatter",
         "x": [
          "2025-05-01T00:00:00.000000000",
          "2025-06-01T00:00:00.000000000",
          "2025-07-01T00:00:00.000000000",
          "2025-08-01T00:00:00.000000000",
          "2025-09-01T00:00:00.000000000",
          "2025-10-01T00:00:00.000000000",
          "2025-11-01T00:00:00.000000000",
          "2025-12-01T00:00:00.000000000",
          "2026-01-01T00:00:00.000000000",
          "2026-02-01T00:00:00.000000000",
          "2026-02-01T00:00:00.000000000",
          "2026-01-01T00:00:00.000000000",
          "2025-12-01T00:00:00.000000000",
          "2025-11-01T00:00:00.000000000",
          "2025-10-01T00:00:00.000000000",
          "2025-09-01T00:00:00.000000000",
          "2025-08-01T00:00:00.000000000",
          "2025-07-01T00:00:00.000000000",
          "2025-06-01T00:00:00.000000000",
          "2025-05-01T00:00:00.000000000"
         ],
         "xaxis": "x3",
         "y": {
          "bdata": "XDmbYDYpQ0BmZmYGXgxAQDMzM/9TDTJA93KFfgDxPUASEHCICatBQH85SY+D9UFAPzi6PqnaPkC65WW5gJg8QOtb+sxV1ztAAAAAcHsBM0AvJzXeaWFDQKUfZtJF8UdAvXdsQdjLS0A3gpECJOxOQAKr7mBM1k5Ab95nXsHfSkDMzMwoPfdHQPD5g+PJk0dA+KXa8mHQTEC4svkdmiFUQA==",
          "dtype": "f8"
         },
         "yaxis": "y3"
        },
        {
         "hovertemplate": "Date: %{x}<br>Value: %{y}<br>Model: LR",
         "line": {
          "color": "red",
          "shape": "linear",
          "width": 2
         },
         "marker": {
          "size": 4
         },
         "mode": "lines+markers",
         "name": "LR",
         "showlegend": false,
         "type": "scatter",
         "x": [
          "2025-05-01T00:00:00.000000000",
          "2025-06-01T00:00:00.000000000",
          "2025-07-01T00:00:00.000000000",
          "2025-08-01T00:00:00.000000000",
          "2025-09-01T00:00:00.000000000",
          "2025-10-01T00:00:00.000000000",
          "2025-11-01T00:00:00.000000000",
          "2025-12-01T00:00:00.000000000",
          "2026-01-01T00:00:00.000000000",
          "2026-02-01T00:00:00.000000000"
         ],
         "xaxis": "x3",
         "y": {
          "bdata": "yWBGwT5BUkDnrufgMRlJQLtfZdFnFkRApG8uJ2trQ0A56ldKmflGQKdSs+YM7EpAJFKUMn48TEAam2NbbrVJQAp/9OEO/EVAzMPFq9BzQUA=",
          "dtype": "f8"
         },
         "yaxis": "y3"
        },
        {
         "fill": "toself",
         "fillcolor": "rgba(169, 169, 169, 0.2)",
         "hovertemplate": "Date: %{x}<br>Conf: 95%<br>Value: %{y}",
         "line": {
          "color": "rgba(255,255,255,0)"
         },
         "showlegend": false,
         "type": "scatter",
         "x": [
          "2025-05-01T00:00:00.000000000",
          "2025-06-01T00:00:00.000000000",
          "2025-07-01T00:00:00.000000000",
          "2025-08-01T00:00:00.000000000",
          "2025-09-01T00:00:00.000000000",
          "2025-10-01T00:00:00.000000000",
          "2025-11-01T00:00:00.000000000",
          "2025-12-01T00:00:00.000000000",
          "2026-01-01T00:00:00.000000000",
          "2026-02-01T00:00:00.000000000",
          "2026-02-01T00:00:00.000000000",
          "2026-01-01T00:00:00.000000000",
          "2025-12-01T00:00:00.000000000",
          "2025-11-01T00:00:00.000000000",
          "2025-10-01T00:00:00.000000000",
          "2025-09-01T00:00:00.000000000",
          "2025-08-01T00:00:00.000000000",
          "2025-07-01T00:00:00.000000000",
          "2025-06-01T00:00:00.000000000",
          "2025-05-01T00:00:00.000000000"
         ],
         "xaxis": "x3",
         "y": {
          "bdata": "XDmbYDYpQ0BmZmYGXgxAQDMzM/9TDTJA93KFfgDxPUASEHCICatBQH85SY+D9UFAPzi6PqnaPkC65WW5gJg8QOtb+sxV1ztAAAAAcHsBM0AvJzXeaWFDQKUfZtJF8UdAvXdsQdjLS0A3gpECJOxOQAKr7mBM1k5Ab95nXsHfSkDMzMwoPfdHQPD5g+PJk0dA+KXa8mHQTEC4svkdmiFUQA==",
          "dtype": "f8"
         },
         "yaxis": "y3"
        },
        {
         "hovertemplate": "Date: %{x}<br>Value: %{y}<br>Model: NN",
         "line": {
          "color": "purple",
          "shape": "linear",
          "width": 2
         },
         "marker": {
          "size": 4
         },
         "mode": "lines+markers",
         "name": "NN",
         "showlegend": false,
         "type": "scatter",
         "x": [
          "2025-05-01T00:00:00.000000000",
          "2025-06-01T00:00:00.000000000",
          "2025-07-01T00:00:00.000000000",
          "2025-08-01T00:00:00.000000000",
          "2025-09-01T00:00:00.000000000",
          "2025-10-01T00:00:00.000000000",
          "2025-11-01T00:00:00.000000000",
          "2025-12-01T00:00:00.000000000",
          "2026-01-01T00:00:00.000000000",
          "2026-02-01T00:00:00.000000000"
         ],
         "xaxis": "x3",
         "y": {
          "bdata": "sNlRsy2/SUDaLfwDvRBEQCcCuRvPoDxAqAi3QO4AQ0AKyQXEM6dEQJo0acRw+kdAYtyvg3ddSEBBJsWLDNdDQG7bNsGPJUFAntiJc2YaOEA=",
          "dtype": "f8"
         },
         "yaxis": "y3"
        },
        {
         "line": {
          "color": "black"
         },
         "mode": "lines",
         "showlegend": false,
         "type": "scatter",
         "x": [
          "2025-05-01T00:00:00",
          "2026-02-01T00:00:00"
         ],
         "xaxis": "x3",
         "y": [
          0,
          0
         ],
         "yaxis": "y3"
        },
        {
         "fill": "toself",
         "fillcolor": "rgba(169, 169, 169, 0.2)",
         "hovertemplate": "Date: %{x}<br>Conf: 95%<br>Value: %{y}",
         "line": {
          "color": "rgba(255,255,255,0)"
         },
         "showlegend": false,
         "type": "scatter",
         "x": [
          "2025-05-01T00:00:00.000000000",
          "2025-06-01T00:00:00.000000000",
          "2025-07-01T00:00:00.000000000",
          "2025-08-01T00:00:00.000000000",
          "2025-09-01T00:00:00.000000000",
          "2025-10-01T00:00:00.000000000",
          "2025-11-01T00:00:00.000000000",
          "2025-12-01T00:00:00.000000000",
          "2026-01-01T00:00:00.000000000",
          "2026-02-01T00:00:00.000000000",
          "2026-02-01T00:00:00.000000000",
          "2026-01-01T00:00:00.000000000",
          "2025-12-01T00:00:00.000000000",
          "2025-11-01T00:00:00.000000000",
          "2025-10-01T00:00:00.000000000",
          "2025-09-01T00:00:00.000000000",
          "2025-08-01T00:00:00.000000000",
          "2025-07-01T00:00:00.000000000",
          "2025-06-01T00:00:00.000000000",
          "2025-05-01T00:00:00.000000000"
         ],
         "xaxis": "x4",
         "y": {
          "bdata": "AAAAIIUhL0A3quZIZV8pQGdmZiaBtxNAk5ZcOqJcRECvTC7vHzdBQAAAAIBepAnAuj3usYZ7PsAAAADInLhEwECEP8NdQETAAAAAuEwUQsAqYNCd8lE7QAAAAMjscjxAzzOVM3ngR0CAjGNvCyxcQORTIDeSyGFAXMuo3ziuZUCkRPMGshZmQIVEub3AvmJA1Vu12TjGZECtIU3nVb5lQA==",
          "dtype": "f8"
         },
         "yaxis": "y4"
        },
        {
         "hovertemplate": "Date: %{x}<br>Value: %{y}<br>Model: GP",
         "line": {
          "color": "blue",
          "shape": "linear",
          "width": 2
         },
         "marker": {
          "size": 4
         },
         "mode": "lines+markers",
         "name": "GP",
         "showlegend": false,
         "type": "scatter",
         "x": [
          "2025-05-01T00:00:00.000000000",
          "2025-06-01T00:00:00.000000000",
          "2025-07-01T00:00:00.000000000",
          "2025-08-01T00:00:00.000000000",
          "2025-09-01T00:00:00.000000000",
          "2025-10-01T00:00:00.000000000",
          "2025-11-01T00:00:00.000000000",
          "2025-12-01T00:00:00.000000000",
          "2026-01-01T00:00:00.000000000",
          "2026-02-01T00:00:00.000000000"
         ],
         "xaxis": "x4",
         "y": {
          "bdata": "wMqofX2AVkDeDz8lvjxTQF3DbaMpg1FAD6yOIirnVkATOOmqdZxWQC+zuBHrJkhAXxTQ8u7HNECEoUf3wDEiwHv8vKp0FDLARwyhy9gDL8A=",
          "dtype": "f8"
         },
         "yaxis": "y4"
        },
        {
         "fill": "toself",
         "fillcolor": "rgba(169, 169, 169, 0.2)",
         "hovertemplate": "Date: %{x}<br>Conf: 95%<br>Value: %{y}",
         "line": {
          "color": "rgba(255,255,255,0)"
         },
         "showlegend": false,
         "type": "scatter",
         "x": [
          "2025-05-01T00:00:00.000000000",
          "2025-06-01T00:00:00.000000000",
          "2025-07-01T00:00:00.000000000",
          "2025-08-01T00:00:00.000000000",
          "2025-09-01T00:00:00.000000000",
          "2025-10-01T00:00:00.000000000",
          "2025-11-01T00:00:00.000000000",
          "2025-12-01T00:00:00.000000000",
          "2026-01-01T00:00:00.000000000",
          "2026-02-01T00:00:00.000000000",
          "2026-02-01T00:00:00.000000000",
          "2026-01-01T00:00:00.000000000",
          "2025-12-01T00:00:00.000000000",
          "2025-11-01T00:00:00.000000000",
          "2025-10-01T00:00:00.000000000",
          "2025-09-01T00:00:00.000000000",
          "2025-08-01T00:00:00.000000000",
          "2025-07-01T00:00:00.000000000",
          "2025-06-01T00:00:00.000000000",
          "2025-05-01T00:00:00.000000000"
         ],
         "xaxis": "x4",
         "y": {
          "bdata": "AAAAIIUhL0A3quZIZV8pQGdmZiaBtxNAk5ZcOqJcRECvTC7vHzdBQAAAAIBepAnAuj3usYZ7PsAAAADInLhEwECEP8NdQETAAAAAuEwUQsAqYNCd8lE7QAAAAMjscjxAzzOVM3ngR0CAjGNvCyxcQORTIDeSyGFAXMuo3ziuZUCkRPMGshZmQIVEub3AvmJA1Vu12TjGZECtIU3nVb5lQA==",
          "dtype": "f8"
         },
         "yaxis": "y4"
        },
        {
         "hovertemplate": "Date: %{x}<br>Value: %{y}<br>Model: RF",
         "line": {
          "color": "green",
          "shape": "linear",
          "width": 2
         },
         "marker": {
          "size": 4
         },
         "mode": "lines+markers",
         "name": "RF",
         "showlegend": false,
         "type": "scatter",
         "x": [
          "2025-05-01T00:00:00.000000000",
          "2025-06-01T00:00:00.000000000",
          "2025-07-01T00:00:00.000000000",
          "2025-08-01T00:00:00.000000000",
          "2025-09-01T00:00:00.000000000",
          "2025-10-01T00:00:00.000000000",
          "2025-11-01T00:00:00.000000000",
          "2025-12-01T00:00:00.000000000",
          "2026-01-01T00:00:00.000000000",
          "2026-02-01T00:00:00.000000000"
         ],
         "xaxis": "x4",
         "y": {
          "bdata": "KmuUeREGUEDuy5fHJDRTQCnLegmbZlJACIM4kCeVUkBswu2UMl9RQFo151PfOUNAbyCoBLyICEAlnGTvbgAxwEApTarAuDbACNHR0NzcMsA=",
          "dtype": "f8"
         },
         "yaxis": "y4"
        },
        {
         "fill": "toself",
         "fillcolor": "rgba(169, 169, 169, 0.2)",
         "hovertemplate": "Date: %{x}<br>Conf: 95%<br>Value: %{y}",
         "line": {
          "color": "rgba(255,255,255,0)"
         },
         "showlegend": false,
         "type": "scatter",
         "x": [
          "2025-05-01T00:00:00.000000000",
          "2025-06-01T00:00:00.000000000",
          "2025-07-01T00:00:00.000000000",
          "2025-08-01T00:00:00.000000000",
          "2025-09-01T00:00:00.000000000",
          "2025-10-01T00:00:00.000000000",
          "2025-11-01T00:00:00.000000000",
          "2025-12-01T00:00:00.000000000",
          "2026-01-01T00:00:00.000000000",
          "2026-02-01T00:00:00.000000000",
          "2026-02-01T00:00:00.000000000",
          "2026-01-01T00:00:00.000000000",
          "2025-12-01T00:00:00.000000000",
          "2025-11-01T00:00:00.000000000",
          "2025-10-01T00:00:00.000000000",
          "2025-09-01T00:00:00.000000000",
          "2025-08-01T00:00:00.000000000",
          "2025-07-01T00:00:00.000000000",
          "2025-06-01T00:00:00.000000000",
          "2025-05-01T00:00:00.000000000"
         ],
         "xaxis": "x4",
         "y": {
          "bdata": "AAAAIIUhL0A3quZIZV8pQGdmZiaBtxNAk5ZcOqJcRECvTC7vHzdBQAAAAIBepAnAuj3usYZ7PsAAAADInLhEwECEP8NdQETAAAAAuEwUQsAqYNCd8lE7QAAAAMjscjxAzzOVM3ngR0CAjGNvCyxcQORTIDeSyGFAXMuo3ziuZUCkRPMGshZmQIVEub3AvmJA1Vu12TjGZECtIU3nVb5lQA==",
          "dtype": "f8"
         },
         "yaxis": "y4"
        },
        {
         "hovertemplate": "Date: %{x}<br>Value: %{y}<br>Model: LR",
         "line": {
          "color": "red",
          "shape": "linear",
          "width": 2
         },
         "marker": {
          "size": 4
         },
         "mode": "lines+markers",
         "name": "LR",
         "showlegend": false,
         "type": "scatter",
         "x": [
          "2025-05-01T00:00:00.000000000",
          "2025-06-01T00:00:00.000000000",
          "2025-07-01T00:00:00.000000000",
          "2025-08-01T00:00:00.000000000",
          "2025-09-01T00:00:00.000000000",
          "2025-10-01T00:00:00.000000000",
          "2025-11-01T00:00:00.000000000",
          "2025-12-01T00:00:00.000000000",
          "2026-01-01T00:00:00.000000000",
          "2026-02-01T00:00:00.000000000"
         ],
         "xaxis": "x4",
         "y": {
          "bdata": "q40BdE6MXEBavm0GYgJaQO7ll0t+6VdApGOfCS9WXUBboraMoK5aQNhHRKsozk9ACQg4LGu0RECsYMFgLdAsQD5tzW8ekQVA26WXif65wD8=",
          "dtype": "f8"
         },
         "yaxis": "y4"
        },
        {
         "fill": "toself",
         "fillcolor": "rgba(169, 169, 169, 0.2)",
         "hovertemplate": "Date: %{x}<br>Conf: 95%<br>Value: %{y}",
         "line": {
          "color": "rgba(255,255,255,0)"
         },
         "showlegend": false,
         "type": "scatter",
         "x": [
          "2025-05-01T00:00:00.000000000",
          "2025-06-01T00:00:00.000000000",
          "2025-07-01T00:00:00.000000000",
          "2025-08-01T00:00:00.000000000",
          "2025-09-01T00:00:00.000000000",
          "2025-10-01T00:00:00.000000000",
          "2025-11-01T00:00:00.000000000",
          "2025-12-01T00:00:00.000000000",
          "2026-01-01T00:00:00.000000000",
          "2026-02-01T00:00:00.000000000",
          "2026-02-01T00:00:00.000000000",
          "2026-01-01T00:00:00.000000000",
          "2025-12-01T00:00:00.000000000",
          "2025-11-01T00:00:00.000000000",
          "2025-10-01T00:00:00.000000000",
          "2025-09-01T00:00:00.000000000",
          "2025-08-01T00:00:00.000000000",
          "2025-07-01T00:00:00.000000000",
          "2025-06-01T00:00:00.000000000",
          "2025-05-01T00:00:00.000000000"
         ],
         "xaxis": "x4",
         "y": {
          "bdata": "AAAAIIUhL0A3quZIZV8pQGdmZiaBtxNAk5ZcOqJcRECvTC7vHzdBQAAAAIBepAnAuj3usYZ7PsAAAADInLhEwECEP8NdQETAAAAAuEwUQsAqYNCd8lE7QAAAAMjscjxAzzOVM3ngR0CAjGNvCyxcQORTIDeSyGFAXMuo3ziuZUCkRPMGshZmQIVEub3AvmJA1Vu12TjGZECtIU3nVb5lQA==",
          "dtype": "f8"
         },
         "yaxis": "y4"
        },
        {
         "hovertemplate": "Date: %{x}<br>Value: %{y}<br>Model: NN",
         "line": {
          "color": "purple",
          "shape": "linear",
          "width": 2
         },
         "marker": {
          "size": 4
         },
         "mode": "lines+markers",
         "name": "NN",
         "showlegend": false,
         "type": "scatter",
         "x": [
          "2025-05-01T00:00:00.000000000",
          "2025-06-01T00:00:00.000000000",
          "2025-07-01T00:00:00.000000000",
          "2025-08-01T00:00:00.000000000",
          "2025-09-01T00:00:00.000000000",
          "2025-10-01T00:00:00.000000000",
          "2025-11-01T00:00:00.000000000",
          "2025-12-01T00:00:00.000000000",
          "2026-01-01T00:00:00.000000000",
          "2026-02-01T00:00:00.000000000"
         ],
         "xaxis": "x4",
         "y": {
          "bdata": "nYLQ0OeNUUBFeuRt2RRMQGewVglNCElABUTnQ2ZdV0Aq085FFepYQLNlBWA250xAMzNLLNJiOkCE5c4SS08owNsimjky1TPAip2A2nCSMcA=",
          "dtype": "f8"
         },
         "yaxis": "y4"
        },
        {
         "line": {
          "color": "black"
         },
         "mode": "lines",
         "showlegend": false,
         "type": "scatter",
         "x": [
          "2025-05-01T00:00:00",
          "2026-02-01T00:00:00"
         ],
         "xaxis": "x4",
         "y": [
          0,
          0
         ],
         "yaxis": "y4"
        },
        {
         "fill": "toself",
         "fillcolor": "rgba(169, 169, 169, 0.2)",
         "hovertemplate": "Date: %{x}<br>Conf: 95%<br>Value: %{y}",
         "line": {
          "color": "rgba(255,255,255,0)"
         },
         "showlegend": false,
         "type": "scatter",
         "x": [
          "2025-05-01T00:00:00.000000000",
          "2025-06-01T00:00:00.000000000",
          "2025-07-01T00:00:00.000000000",
          "2025-08-01T00:00:00.000000000",
          "2025-09-01T00:00:00.000000000",
          "2025-10-01T00:00:00.000000000",
          "2025-11-01T00:00:00.000000000",
          "2025-12-01T00:00:00.000000000",
          "2026-01-01T00:00:00.000000000",
          "2026-02-01T00:00:00.000000000",
          "2026-02-01T00:00:00.000000000",
          "2026-01-01T00:00:00.000000000",
          "2025-12-01T00:00:00.000000000",
          "2025-11-01T00:00:00.000000000",
          "2025-10-01T00:00:00.000000000",
          "2025-09-01T00:00:00.000000000",
          "2025-08-01T00:00:00.000000000",
          "2025-07-01T00:00:00.000000000",
          "2025-06-01T00:00:00.000000000",
          "2025-05-01T00:00:00.000000000"
         ],
         "xaxis": "x5",
         "y": {
          "bdata": "tlzPnCmVQEA7AuPZe8pEQJqZmc3igkxAwBdauGtdUEBS9aQAOCtNQGWoAXNmn0dA327RhmsPQkBmZmb+mKg+QDvJLbCMFTZAN48UbfiDJkCJi2n4uFBRQM0KPzrOaFZA3CP4Gua1WUAxMzMbSfheQAAAAEQCvGJAU1DziPVNZUD///8bGaRjQKRxBO3pk2NAUw4o4x9MYkAFOr+SEYhiQA==",
          "dtype": "f8"
         },
         "yaxis": "y5"
        },
        {
         "hovertemplate": "Date: %{x}<br>Value: %{y}<br>Model: GP",
         "line": {
          "color": "blue",
          "shape": "linear",
          "width": 2
         },
         "marker": {
          "size": 4
         },
         "mode": "lines+markers",
         "name": "GP",
         "showlegend": false,
         "type": "scatter",
         "x": [
          "2025-05-01T00:00:00.000000000",
          "2025-06-01T00:00:00.000000000",
          "2025-07-01T00:00:00.000000000",
          "2025-08-01T00:00:00.000000000",
          "2025-09-01T00:00:00.000000000",
          "2025-10-01T00:00:00.000000000",
          "2025-11-01T00:00:00.000000000",
          "2025-12-01T00:00:00.000000000",
          "2026-01-01T00:00:00.000000000",
          "2026-02-01T00:00:00.000000000"
         ],
         "xaxis": "x5",
         "y": {
          "bdata": "QJlAv1E5VEDgRNmYwalWQMIaGTW5iVhA3zdEOPkmWkC5DiBakRtaQLfCz9QZ31ZAz49ZwmJNUkBdiPpBjVhOQLhhsr31DUhAjsK9lp8qQkA=",
          "dtype": "f8"
         },
         "yaxis": "y5"
        },
        {
         "fill": "toself",
         "fillcolor": "rgba(169, 169, 169, 0.2)",
         "hovertemplate": "Date: %{x}<br>Conf: 95%<br>Value: %{y}",
         "line": {
          "color": "rgba(255,255,255,0)"
         },
         "showlegend": false,
         "type": "scatter",
         "x": [
          "2025-05-01T00:00:00.000000000",
          "2025-06-01T00:00:00.000000000",
          "2025-07-01T00:00:00.000000000",
          "2025-08-01T00:00:00.000000000",
          "2025-09-01T00:00:00.000000000",
          "2025-10-01T00:00:00.000000000",
          "2025-11-01T00:00:00.000000000",
          "2025-12-01T00:00:00.000000000",
          "2026-01-01T00:00:00.000000000",
          "2026-02-01T00:00:00.000000000",
          "2026-02-01T00:00:00.000000000",
          "2026-01-01T00:00:00.000000000",
          "2025-12-01T00:00:00.000000000",
          "2025-11-01T00:00:00.000000000",
          "2025-10-01T00:00:00.000000000",
          "2025-09-01T00:00:00.000000000",
          "2025-08-01T00:00:00.000000000",
          "2025-07-01T00:00:00.000000000",
          "2025-06-01T00:00:00.000000000",
          "2025-05-01T00:00:00.000000000"
         ],
         "xaxis": "x5",
         "y": {
          "bdata": "tlzPnCmVQEA7AuPZe8pEQJqZmc3igkxAwBdauGtdUEBS9aQAOCtNQGWoAXNmn0dA327RhmsPQkBmZmb+mKg+QDvJLbCMFTZAN48UbfiDJkCJi2n4uFBRQM0KPzrOaFZA3CP4Gua1WUAxMzMbSfheQAAAAEQCvGJAU1DziPVNZUD///8bGaRjQKRxBO3pk2NAUw4o4x9MYkAFOr+SEYhiQA==",
          "dtype": "f8"
         },
         "yaxis": "y5"
        },
        {
         "hovertemplate": "Date: %{x}<br>Value: %{y}<br>Model: RF",
         "line": {
          "color": "green",
          "shape": "linear",
          "width": 2
         },
         "marker": {
          "size": 4
         },
         "mode": "lines+markers",
         "name": "RF",
         "showlegend": false,
         "type": "scatter",
         "x": [
          "2025-05-01T00:00:00.000000000",
          "2025-06-01T00:00:00.000000000",
          "2025-07-01T00:00:00.000000000",
          "2025-08-01T00:00:00.000000000",
          "2025-09-01T00:00:00.000000000",
          "2025-10-01T00:00:00.000000000",
          "2025-11-01T00:00:00.000000000",
          "2025-12-01T00:00:00.000000000",
          "2026-01-01T00:00:00.000000000",
          "2026-02-01T00:00:00.000000000"
         ],
         "xaxis": "x5",
         "y": {
          "bdata": "GBADsgOKWEBiqmACeIZWQP1o+5Z2jVRAjIOC0b+NVEDmD5RvGNNXQG82RIYvMVRAR+eIPe4kUUDBBRGhLx1NQHiljpA2+ElA7NXcxMCbRkA=",
          "dtype": "f8"
         },
         "yaxis": "y5"
        },
        {
         "fill": "toself",
         "fillcolor": "rgba(169, 169, 169, 0.2)",
         "hovertemplate": "Date: %{x}<br>Conf: 95%<br>Value: %{y}",
         "line": {
          "color": "rgba(255,255,255,0)"
         },
         "showlegend": false,
         "type": "scatter",
         "x": [
          "2025-05-01T00:00:00.000000000",
          "2025-06-01T00:00:00.000000000",
          "2025-07-01T00:00:00.000000000",
          "2025-08-01T00:00:00.000000000",
          "2025-09-01T00:00:00.000000000",
          "2025-10-01T00:00:00.000000000",
          "2025-11-01T00:00:00.000000000",
          "2025-12-01T00:00:00.000000000",
          "2026-01-01T00:00:00.000000000",
          "2026-02-01T00:00:00.000000000",
          "2026-02-01T00:00:00.000000000",
          "2026-01-01T00:00:00.000000000",
          "2025-12-01T00:00:00.000000000",
          "2025-11-01T00:00:00.000000000",
          "2025-10-01T00:00:00.000000000",
          "2025-09-01T00:00:00.000000000",
          "2025-08-01T00:00:00.000000000",
          "2025-07-01T00:00:00.000000000",
          "2025-06-01T00:00:00.000000000",
          "2025-05-01T00:00:00.000000000"
         ],
         "xaxis": "x5",
         "y": {
          "bdata": "tlzPnCmVQEA7AuPZe8pEQJqZmc3igkxAwBdauGtdUEBS9aQAOCtNQGWoAXNmn0dA327RhmsPQkBmZmb+mKg+QDvJLbCMFTZAN48UbfiDJkCJi2n4uFBRQM0KPzrOaFZA3CP4Gua1WUAxMzMbSfheQAAAAEQCvGJAU1DziPVNZUD///8bGaRjQKRxBO3pk2NAUw4o4x9MYkAFOr+SEYhiQA==",
          "dtype": "f8"
         },
         "yaxis": "y5"
        },
        {
         "hovertemplate": "Date: %{x}<br>Value: %{y}<br>Model: LR",
         "line": {
          "color": "red",
          "shape": "linear",
          "width": 2
         },
         "marker": {
          "size": 4
         },
         "mode": "lines+markers",
         "name": "LR",
         "showlegend": false,
         "type": "scatter",
         "x": [
          "2025-05-01T00:00:00.000000000",
          "2025-06-01T00:00:00.000000000",
          "2025-07-01T00:00:00.000000000",
          "2025-08-01T00:00:00.000000000",
          "2025-09-01T00:00:00.000000000",
          "2025-10-01T00:00:00.000000000",
          "2025-11-01T00:00:00.000000000",
          "2025-12-01T00:00:00.000000000",
          "2026-01-01T00:00:00.000000000",
          "2026-02-01T00:00:00.000000000"
         ],
         "xaxis": "x5",
         "y": {
          "bdata": "Ap3SgWB7UkDjvjG5CdtUQKxcq8eXGFlAIUkxUWRyWkDv98v8GvVaQIQ8wISlnlZAvP0Co0s3UkCiWgv+oQdOQOndP5kKDEZA22fNj/y3PUA=",
          "dtype": "f8"
         },
         "yaxis": "y5"
        },
        {
         "fill": "toself",
         "fillcolor": "rgba(169, 169, 169, 0.2)",
         "hovertemplate": "Date: %{x}<br>Conf: 95%<br>Value: %{y}",
         "line": {
          "color": "rgba(255,255,255,0)"
         },
         "showlegend": false,
         "type": "scatter",
         "x": [
          "2025-05-01T00:00:00.000000000",
          "2025-06-01T00:00:00.000000000",
          "2025-07-01T00:00:00.000000000",
          "2025-08-01T00:00:00.000000000",
          "2025-09-01T00:00:00.000000000",
          "2025-10-01T00:00:00.000000000",
          "2025-11-01T00:00:00.000000000",
          "2025-12-01T00:00:00.000000000",
          "2026-01-01T00:00:00.000000000",
          "2026-02-01T00:00:00.000000000",
          "2026-02-01T00:00:00.000000000",
          "2026-01-01T00:00:00.000000000",
          "2025-12-01T00:00:00.000000000",
          "2025-11-01T00:00:00.000000000",
          "2025-10-01T00:00:00.000000000",
          "2025-09-01T00:00:00.000000000",
          "2025-08-01T00:00:00.000000000",
          "2025-07-01T00:00:00.000000000",
          "2025-06-01T00:00:00.000000000",
          "2025-05-01T00:00:00.000000000"
         ],
         "xaxis": "x5",
         "y": {
          "bdata": "tlzPnCmVQEA7AuPZe8pEQJqZmc3igkxAwBdauGtdUEBS9aQAOCtNQGWoAXNmn0dA327RhmsPQkBmZmb+mKg+QDvJLbCMFTZAN48UbfiDJkCJi2n4uFBRQM0KPzrOaFZA3CP4Gua1WUAxMzMbSfheQAAAAEQCvGJAU1DziPVNZUD///8bGaRjQKRxBO3pk2NAUw4o4x9MYkAFOr+SEYhiQA==",
          "dtype": "f8"
         },
         "yaxis": "y5"
        },
        {
         "hovertemplate": "Date: %{x}<br>Value: %{y}<br>Model: NN",
         "line": {
          "color": "purple",
          "shape": "linear",
          "width": 2
         },
         "marker": {
          "size": 4
         },
         "mode": "lines+markers",
         "name": "NN",
         "showlegend": false,
         "type": "scatter",
         "x": [
          "2025-05-01T00:00:00.000000000",
          "2025-06-01T00:00:00.000000000",
          "2025-07-01T00:00:00.000000000",
          "2025-08-01T00:00:00.000000000",
          "2025-09-01T00:00:00.000000000",
          "2025-10-01T00:00:00.000000000",
          "2025-11-01T00:00:00.000000000",
          "2025-12-01T00:00:00.000000000",
          "2026-01-01T00:00:00.000000000",
          "2026-02-01T00:00:00.000000000"
         ],
         "xaxis": "x5",
         "y": {
          "bdata": "ysSVk6yBVUD41VjhPQtXQK6JQA5En1hA2N/FcFZvW0CwZokxJfFaQIkRI26YWVZArgbPEUIhU0DaOvTLVrlNQLdt2wEg4khAxU7sNA6NQ0A=",
          "dtype": "f8"
         },
         "yaxis": "y5"
        },
        {
         "line": {
          "color": "black"
         },
         "mode": "lines",
         "showlegend": false,
         "type": "scatter",
         "x": [
          "2025-05-01T00:00:00",
          "2026-02-01T00:00:00"
         ],
         "xaxis": "x5",
         "y": [
          0,
          0
         ],
         "yaxis": "y5"
        },
        {
         "fill": "toself",
         "fillcolor": "rgba(169, 169, 169, 0.2)",
         "hovertemplate": "Date: %{x}<br>Conf: 95%<br>Value: %{y}",
         "line": {
          "color": "rgba(255,255,255,0)"
         },
         "showlegend": false,
         "type": "scatter",
         "x": [
          "2025-05-01T00:00:00.000000000",
          "2025-06-01T00:00:00.000000000",
          "2025-07-01T00:00:00.000000000",
          "2025-08-01T00:00:00.000000000",
          "2025-09-01T00:00:00.000000000",
          "2025-10-01T00:00:00.000000000",
          "2025-11-01T00:00:00.000000000",
          "2025-12-01T00:00:00.000000000",
          "2026-01-01T00:00:00.000000000",
          "2026-02-01T00:00:00.000000000",
          "2026-02-01T00:00:00.000000000",
          "2026-01-01T00:00:00.000000000",
          "2025-12-01T00:00:00.000000000",
          "2025-11-01T00:00:00.000000000",
          "2025-10-01T00:00:00.000000000",
          "2025-09-01T00:00:00.000000000",
          "2025-08-01T00:00:00.000000000",
          "2025-07-01T00:00:00.000000000",
          "2025-06-01T00:00:00.000000000",
          "2025-05-01T00:00:00.000000000"
         ],
         "xaxis": "x6",
         "y": {
          "bdata": "gLfteKDxQ0B64laomm9EQD3E3NN3ekJAoqCo/MyWQEDACSao9/dCQEFWWnpqhUhAWeCpFg1DTkCSUidyCZNPQK8LR4eiFUxALBLxBkRPRkC3PbB7Ih9YQGeaJrBNiVpAUBvQapQRXkDMzMzEhuJbQC6NmrkD5lZACzGpGfIIUEBA30GBugJNQP511Sv8H1JAq5NR6tkSU0AP2/s+E8dQQA==",
          "dtype": "f8"
         },
         "yaxis": "y6"
        },
        {
         "hovertemplate": "Date: %{x}<br>Value: %{y}<br>Model: GP",
         "line": {
          "color": "blue",
          "shape": "linear",
          "width": 2
         },
         "marker": {
          "size": 4
         },
         "mode": "lines+markers",
         "name": "GP",
         "showlegend": false,
         "type": "scatter",
         "x": [
          "2025-05-01T00:00:00.000000000",
          "2025-06-01T00:00:00.000000000",
          "2025-07-01T00:00:00.000000000",
          "2025-08-01T00:00:00.000000000",
          "2025-09-01T00:00:00.000000000",
          "2025-10-01T00:00:00.000000000",
          "2025-11-01T00:00:00.000000000",
          "2025-12-01T00:00:00.000000000",
          "2026-01-01T00:00:00.000000000",
          "2026-02-01T00:00:00.000000000"
         ],
         "xaxis": "x6",
         "y": {
          "bdata": "qEDTRft4R0CKaph4Ly5IQC3b0frDfUVA3+GhlidXQ0DiA/y1NMdHQFGlhRfrx09A1SlK7JprVUAN6iCz82JYQAtzJ8M4m1JAsc/+HOl+S0A=",
          "dtype": "f8"
         },
         "yaxis": "y6"
        },
        {
         "fill": "toself",
         "fillcolor": "rgba(169, 169, 169, 0.2)",
         "hovertemplate": "Date: %{x}<br>Conf: 95%<br>Value: %{y}",
         "line": {
          "color": "rgba(255,255,255,0)"
         },
         "showlegend": false,
         "type": "scatter",
         "x": [
          "2025-05-01T00:00:00.000000000",
          "2025-06-01T00:00:00.000000000",
          "2025-07-01T00:00:00.000000000",
          "2025-08-01T00:00:00.000000000",
          "2025-09-01T00:00:00.000000000",
          "2025-10-01T00:00:00.000000000",
          "2025-11-01T00:00:00.000000000",
          "2025-12-01T00:00:00.000000000",
          "2026-01-01T00:00:00.000000000",
          "2026-02-01T00:00:00.000000000",
          "2026-02-01T00:00:00.000000000",
          "2026-01-01T00:00:00.000000000",
          "2025-12-01T00:00:00.000000000",
          "2025-11-01T00:00:00.000000000",
          "2025-10-01T00:00:00.000000000",
          "2025-09-01T00:00:00.000000000",
          "2025-08-01T00:00:00.000000000",
          "2025-07-01T00:00:00.000000000",
          "2025-06-01T00:00:00.000000000",
          "2025-05-01T00:00:00.000000000"
         ],
         "xaxis": "x6",
         "y": {
          "bdata": "gLfteKDxQ0B64laomm9EQD3E3NN3ekJAoqCo/MyWQEDACSao9/dCQEFWWnpqhUhAWeCpFg1DTkCSUidyCZNPQK8LR4eiFUxALBLxBkRPRkC3PbB7Ih9YQGeaJrBNiVpAUBvQapQRXkDMzMzEhuJbQC6NmrkD5lZACzGpGfIIUEBA30GBugJNQP511Sv8H1JAq5NR6tkSU0AP2/s+E8dQQA==",
          "dtype": "f8"
         },
         "yaxis": "y6"
        },
        {
         "hovertemplate": "Date: %{x}<br>Value: %{y}<br>Model: RF",
         "line": {
          "color": "green",
          "shape": "linear",
          "width": 2
         },
         "marker": {
          "size": 4
         },
         "mode": "lines+markers",
         "name": "RF",
         "showlegend": false,
         "type": "scatter",
         "x": [
          "2025-05-01T00:00:00.000000000",
          "2025-06-01T00:00:00.000000000",
          "2025-07-01T00:00:00.000000000",
          "2025-08-01T00:00:00.000000000",
          "2025-09-01T00:00:00.000000000",
          "2025-10-01T00:00:00.000000000",
          "2025-11-01T00:00:00.000000000",
          "2025-12-01T00:00:00.000000000",
          "2026-01-01T00:00:00.000000000",
          "2026-02-01T00:00:00.000000000"
         ],
         "xaxis": "x6",
         "y": {
          "bdata": "35fr7eCIS0BEln1p+RZGQFoLXX72t0RAfzWdzuKSRECjKohT7AtLQJiNBYyzRlNAqERr3G3MVUDm9oIXOP5WQG89mshIZFZASYWQTap7UkA=",
          "dtype": "f8"
         },
         "yaxis": "y6"
        },
        {
         "fill": "toself",
         "fillcolor": "rgba(169, 169, 169, 0.2)",
         "hovertemplate": "Date: %{x}<br>Conf: 95%<br>Value: %{y}",
         "line": {
          "color": "rgba(255,255,255,0)"
         },
         "showlegend": false,
         "type": "scatter",
         "x": [
          "2025-05-01T00:00:00.000000000",
          "2025-06-01T00:00:00.000000000",
          "2025-07-01T00:00:00.000000000",
          "2025-08-01T00:00:00.000000000",
          "2025-09-01T00:00:00.000000000",
          "2025-10-01T00:00:00.000000000",
          "2025-11-01T00:00:00.000000000",
          "2025-12-01T00:00:00.000000000",
          "2026-01-01T00:00:00.000000000",
          "2026-02-01T00:00:00.000000000",
          "2026-02-01T00:00:00.000000000",
          "2026-01-01T00:00:00.000000000",
          "2025-12-01T00:00:00.000000000",
          "2025-11-01T00:00:00.000000000",
          "2025-10-01T00:00:00.000000000",
          "2025-09-01T00:00:00.000000000",
          "2025-08-01T00:00:00.000000000",
          "2025-07-01T00:00:00.000000000",
          "2025-06-01T00:00:00.000000000",
          "2025-05-01T00:00:00.000000000"
         ],
         "xaxis": "x6",
         "y": {
          "bdata": "gLfteKDxQ0B64laomm9EQD3E3NN3ekJAoqCo/MyWQEDACSao9/dCQEFWWnpqhUhAWeCpFg1DTkCSUidyCZNPQK8LR4eiFUxALBLxBkRPRkC3PbB7Ih9YQGeaJrBNiVpAUBvQapQRXkDMzMzEhuJbQC6NmrkD5lZACzGpGfIIUEBA30GBugJNQP511Sv8H1JAq5NR6tkSU0AP2/s+E8dQQA==",
          "dtype": "f8"
         },
         "yaxis": "y6"
        },
        {
         "hovertemplate": "Date: %{x}<br>Value: %{y}<br>Model: LR",
         "line": {
          "color": "red",
          "shape": "linear",
          "width": 2
         },
         "marker": {
          "size": 4
         },
         "mode": "lines+markers",
         "name": "LR",
         "showlegend": false,
         "type": "scatter",
         "x": [
          "2025-05-01T00:00:00.000000000",
          "2025-06-01T00:00:00.000000000",
          "2025-07-01T00:00:00.000000000",
          "2025-08-01T00:00:00.000000000",
          "2025-09-01T00:00:00.000000000",
          "2025-10-01T00:00:00.000000000",
          "2025-11-01T00:00:00.000000000",
          "2025-12-01T00:00:00.000000000",
          "2026-01-01T00:00:00.000000000",
          "2026-02-01T00:00:00.000000000"
         ],
         "xaxis": "x6",
         "y": {
          "bdata": "nk03DUbuS0C9PWM6RnFRQLTskDVPu1BA+fCaiIkZSkCB3UhQ/ANLQIdArLuKdlFA0mgLUI+MV0Dru2z8ebRaQMUnciPOK1RAEe2NfbfwTUA=",
          "dtype": "f8"
         },
         "yaxis": "y6"
        },
        {
         "fill": "toself",
         "fillcolor": "rgba(169, 169, 169, 0.2)",
         "hovertemplate": "Date: %{x}<br>Conf: 95%<br>Value: %{y}",
         "line": {
          "color": "rgba(255,255,255,0)"
         },
         "showlegend": false,
         "type": "scatter",
         "x": [
          "2025-05-01T00:00:00.000000000",
          "2025-06-01T00:00:00.000000000",
          "2025-07-01T00:00:00.000000000",
          "2025-08-01T00:00:00.000000000",
          "2025-09-01T00:00:00.000000000",
          "2025-10-01T00:00:00.000000000",
          "2025-11-01T00:00:00.000000000",
          "2025-12-01T00:00:00.000000000",
          "2026-01-01T00:00:00.000000000",
          "2026-02-01T00:00:00.000000000",
          "2026-02-01T00:00:00.000000000",
          "2026-01-01T00:00:00.000000000",
          "2025-12-01T00:00:00.000000000",
          "2025-11-01T00:00:00.000000000",
          "2025-10-01T00:00:00.000000000",
          "2025-09-01T00:00:00.000000000",
          "2025-08-01T00:00:00.000000000",
          "2025-07-01T00:00:00.000000000",
          "2025-06-01T00:00:00.000000000",
          "2025-05-01T00:00:00.000000000"
         ],
         "xaxis": "x6",
         "y": {
          "bdata": "gLfteKDxQ0B64laomm9EQD3E3NN3ekJAoqCo/MyWQEDACSao9/dCQEFWWnpqhUhAWeCpFg1DTkCSUidyCZNPQK8LR4eiFUxALBLxBkRPRkC3PbB7Ih9YQGeaJrBNiVpAUBvQapQRXkDMzMzEhuJbQC6NmrkD5lZACzGpGfIIUEBA30GBugJNQP511Sv8H1JAq5NR6tkSU0AP2/s+E8dQQA==",
          "dtype": "f8"
         },
         "yaxis": "y6"
        },
        {
         "hovertemplate": "Date: %{x}<br>Value: %{y}<br>Model: NN",
         "line": {
          "color": "purple",
          "shape": "linear",
          "width": 2
         },
         "marker": {
          "size": 4
         },
         "mode": "lines+markers",
         "name": "NN",
         "showlegend": false,
         "type": "scatter",
         "x": [
          "2025-05-01T00:00:00.000000000",
          "2025-06-01T00:00:00.000000000",
          "2025-07-01T00:00:00.000000000",
          "2025-08-01T00:00:00.000000000",
          "2025-09-01T00:00:00.000000000",
          "2025-10-01T00:00:00.000000000",
          "2025-11-01T00:00:00.000000000",
          "2025-12-01T00:00:00.000000000",
          "2026-01-01T00:00:00.000000000",
          "2026-02-01T00:00:00.000000000"
         ],
         "xaxis": "x6",
         "y": {
          "bdata": "orE+3oOhSUDObuG97OhJQHJNBPqoSkdAUBFuQauqQ0B4vY0KxpZHQCpUqBJH2lBAdASKIjf8VUBHWO5R4NJWQLdtW4EW2lFA2YmdBBgbS0A=",
          "dtype": "f8"
         },
         "yaxis": "y6"
        },
        {
         "line": {
          "color": "black"
         },
         "mode": "lines",
         "showlegend": false,
         "type": "scatter",
         "x": [
          "2025-05-01T00:00:00",
          "2026-02-01T00:00:00"
         ],
         "xaxis": "x6",
         "y": [
          0,
          0
         ],
         "yaxis": "y6"
        },
        {
         "fill": "toself",
         "fillcolor": "rgba(169, 169, 169, 0.2)",
         "hovertemplate": "Date: %{x}<br>Conf: 95%<br>Value: %{y}",
         "line": {
          "color": "rgba(255,255,255,0)"
         },
         "showlegend": false,
         "type": "scatter",
         "x": [
          "2025-05-01T00:00:00.000000000",
          "2025-06-01T00:00:00.000000000",
          "2025-07-01T00:00:00.000000000",
          "2025-08-01T00:00:00.000000000",
          "2025-09-01T00:00:00.000000000",
          "2025-10-01T00:00:00.000000000",
          "2025-11-01T00:00:00.000000000",
          "2025-12-01T00:00:00.000000000",
          "2026-01-01T00:00:00.000000000",
          "2026-02-01T00:00:00.000000000",
          "2026-02-01T00:00:00.000000000",
          "2026-01-01T00:00:00.000000000",
          "2025-12-01T00:00:00.000000000",
          "2025-11-01T00:00:00.000000000",
          "2025-10-01T00:00:00.000000000",
          "2025-09-01T00:00:00.000000000",
          "2025-08-01T00:00:00.000000000",
          "2025-07-01T00:00:00.000000000",
          "2025-06-01T00:00:00.000000000",
          "2025-05-01T00:00:00.000000000"
         ],
         "xaxis": "x7",
         "y": {
          "bdata": "Ny7PbvV1RUAMlXoyhZ1CQD+R4g676EFAmpmZ0d5CPkDy/iAv4y9CQAAAAIRCX0VAAAAASAuySkAY77HEKbZJQDB6vXbmqUdAcPT/pcF4Q0CmvFHSuOpPQJBvGQ2XGlJA+y89W8ShV0DKoCMBktNXQKRF2Awm1VRAzIatxYvQUkDfgtOezM5OQOMXC72tyU9AAIkyF5lqUkBL7uRuoklZQA==",
          "dtype": "f8"
         },
         "yaxis": "y7"
        },
        {
         "hovertemplate": "Date: %{x}<br>Value: %{y}<br>Model: GP",
         "line": {
          "color": "blue",
          "shape": "linear",
          "width": 2
         },
         "marker": {
          "size": 4
         },
         "mode": "lines+markers",
         "name": "GP",
         "showlegend": false,
         "type": "scatter",
         "x": [
          "2025-05-01T00:00:00.000000000",
          "2025-06-01T00:00:00.000000000",
          "2025-07-01T00:00:00.000000000",
          "2025-08-01T00:00:00.000000000",
          "2025-09-01T00:00:00.000000000",
          "2025-10-01T00:00:00.000000000",
          "2025-11-01T00:00:00.000000000",
          "2025-12-01T00:00:00.000000000",
          "2026-01-01T00:00:00.000000000",
          "2026-02-01T00:00:00.000000000"
         ],
         "xaxis": "x7",
         "y": {
          "bdata": "eUD3ZepCVEA4g0zN/wtMQCCp/dNlm0dAC5hAuj8rSECjXKQkil9LQDB4V8++i1BA4zC/AfWTUkBfdgi0xxxSQK7txVj//UxAZOfz40dfRkA=",
          "dtype": "f8"
         },
         "yaxis": "y7"
        },
        {
         "fill": "toself",
         "fillcolor": "rgba(169, 169, 169, 0.2)",
         "hovertemplate": "Date: %{x}<br>Conf: 95%<br>Value: %{y}",
         "line": {
          "color": "rgba(255,255,255,0)"
         },
         "showlegend": false,
         "type": "scatter",
         "x": [
          "2025-05-01T00:00:00.000000000",
          "2025-06-01T00:00:00.000000000",
          "2025-07-01T00:00:00.000000000",
          "2025-08-01T00:00:00.000000000",
          "2025-09-01T00:00:00.000000000",
          "2025-10-01T00:00:00.000000000",
          "2025-11-01T00:00:00.000000000",
          "2025-12-01T00:00:00.000000000",
          "2026-01-01T00:00:00.000000000",
          "2026-02-01T00:00:00.000000000",
          "2026-02-01T00:00:00.000000000",
          "2026-01-01T00:00:00.000000000",
          "2025-12-01T00:00:00.000000000",
          "2025-11-01T00:00:00.000000000",
          "2025-10-01T00:00:00.000000000",
          "2025-09-01T00:00:00.000000000",
          "2025-08-01T00:00:00.000000000",
          "2025-07-01T00:00:00.000000000",
          "2025-06-01T00:00:00.000000000",
          "2025-05-01T00:00:00.000000000"
         ],
         "xaxis": "x7",
         "y": {
          "bdata": "Ny7PbvV1RUAMlXoyhZ1CQD+R4g676EFAmpmZ0d5CPkDy/iAv4y9CQAAAAIRCX0VAAAAASAuySkAY77HEKbZJQDB6vXbmqUdAcPT/pcF4Q0CmvFHSuOpPQJBvGQ2XGlJA+y89W8ShV0DKoCMBktNXQKRF2Awm1VRAzIatxYvQUkDfgtOezM5OQOMXC72tyU9AAIkyF5lqUkBL7uRuoklZQA==",
          "dtype": "f8"
         },
         "yaxis": "y7"
        },
        {
         "hovertemplate": "Date: %{x}<br>Value: %{y}<br>Model: RF",
         "line": {
          "color": "green",
          "shape": "linear",
          "width": 2
         },
         "marker": {
          "size": 4
         },
         "mode": "lines+markers",
         "name": "RF",
         "showlegend": false,
         "type": "scatter",
         "x": [
          "2025-05-01T00:00:00.000000000",
          "2025-06-01T00:00:00.000000000",
          "2025-07-01T00:00:00.000000000",
          "2025-08-01T00:00:00.000000000",
          "2025-09-01T00:00:00.000000000",
          "2025-10-01T00:00:00.000000000",
          "2025-11-01T00:00:00.000000000",
          "2025-12-01T00:00:00.000000000",
          "2026-01-01T00:00:00.000000000",
          "2026-02-01T00:00:00.000000000"
         ],
         "xaxis": "x7",
         "y": {
          "bdata": "Jachb171SUD2ohUPE8xEQAMfLDPZh0NAZObjl00AQ0CAUzM4pj1GQG3REU7f3U1ACExF4A0MUUAdsNQ1qHBPQAaewFjzqkxAN/c8sWwbSkA=",
          "dtype": "f8"
         },
         "yaxis": "y7"
        },
        {
         "fill": "toself",
         "fillcolor": "rgba(169, 169, 169, 0.2)",
         "hovertemplate": "Date: %{x}<br>Conf: 95%<br>Value: %{y}",
         "line": {
          "color": "rgba(255,255,255,0)"
         },
         "showlegend": false,
         "type": "scatter",
         "x": [
          "2025-05-01T00:00:00.000000000",
          "2025-06-01T00:00:00.000000000",
          "2025-07-01T00:00:00.000000000",
          "2025-08-01T00:00:00.000000000",
          "2025-09-01T00:00:00.000000000",
          "2025-10-01T00:00:00.000000000",
          "2025-11-01T00:00:00.000000000",
          "2025-12-01T00:00:00.000000000",
          "2026-01-01T00:00:00.000000000",
          "2026-02-01T00:00:00.000000000",
          "2026-02-01T00:00:00.000000000",
          "2026-01-01T00:00:00.000000000",
          "2025-12-01T00:00:00.000000000",
          "2025-11-01T00:00:00.000000000",
          "2025-10-01T00:00:00.000000000",
          "2025-09-01T00:00:00.000000000",
          "2025-08-01T00:00:00.000000000",
          "2025-07-01T00:00:00.000000000",
          "2025-06-01T00:00:00.000000000",
          "2025-05-01T00:00:00.000000000"
         ],
         "xaxis": "x7",
         "y": {
          "bdata": "Ny7PbvV1RUAMlXoyhZ1CQD+R4g676EFAmpmZ0d5CPkDy/iAv4y9CQAAAAIRCX0VAAAAASAuySkAY77HEKbZJQDB6vXbmqUdAcPT/pcF4Q0CmvFHSuOpPQJBvGQ2XGlJA+y89W8ShV0DKoCMBktNXQKRF2Awm1VRAzIatxYvQUkDfgtOezM5OQOMXC72tyU9AAIkyF5lqUkBL7uRuoklZQA==",
          "dtype": "f8"
         },
         "yaxis": "y7"
        },
        {
         "hovertemplate": "Date: %{x}<br>Value: %{y}<br>Model: LR",
         "line": {
          "color": "red",
          "shape": "linear",
          "width": 2
         },
         "marker": {
          "size": 4
         },
         "mode": "lines+markers",
         "name": "LR",
         "showlegend": false,
         "type": "scatter",
         "x": [
          "2025-05-01T00:00:00.000000000",
          "2025-06-01T00:00:00.000000000",
          "2025-07-01T00:00:00.000000000",
          "2025-08-01T00:00:00.000000000",
          "2025-09-01T00:00:00.000000000",
          "2025-10-01T00:00:00.000000000",
          "2025-11-01T00:00:00.000000000",
          "2025-12-01T00:00:00.000000000",
          "2026-01-01T00:00:00.000000000",
          "2026-02-01T00:00:00.000000000"
         ],
         "xaxis": "x7",
         "y": {
          "bdata": "YoSWZULgVEBWNX+HzLhOQLkBM54Xh0lA4hrZrFATSUAd9QAvRa5MQB4cxUojQVFAYqBt/PQTVECergUeuBpUQKlNtfQzlk9A+kDML9O6SEA=",
          "dtype": "f8"
         },
         "yaxis": "y7"
        },
        {
         "fill": "toself",
         "fillcolor": "rgba(169, 169, 169, 0.2)",
         "hovertemplate": "Date: %{x}<br>Conf: 95%<br>Value: %{y}",
         "line": {
          "color": "rgba(255,255,255,0)"
         },
         "showlegend": false,
         "type": "scatter",
         "x": [
          "2025-05-01T00:00:00.000000000",
          "2025-06-01T00:00:00.000000000",
          "2025-07-01T00:00:00.000000000",
          "2025-08-01T00:00:00.000000000",
          "2025-09-01T00:00:00.000000000",
          "2025-10-01T00:00:00.000000000",
          "2025-11-01T00:00:00.000000000",
          "2025-12-01T00:00:00.000000000",
          "2026-01-01T00:00:00.000000000",
          "2026-02-01T00:00:00.000000000",
          "2026-02-01T00:00:00.000000000",
          "2026-01-01T00:00:00.000000000",
          "2025-12-01T00:00:00.000000000",
          "2025-11-01T00:00:00.000000000",
          "2025-10-01T00:00:00.000000000",
          "2025-09-01T00:00:00.000000000",
          "2025-08-01T00:00:00.000000000",
          "2025-07-01T00:00:00.000000000",
          "2025-06-01T00:00:00.000000000",
          "2025-05-01T00:00:00.000000000"
         ],
         "xaxis": "x7",
         "y": {
          "bdata": "Ny7PbvV1RUAMlXoyhZ1CQD+R4g676EFAmpmZ0d5CPkDy/iAv4y9CQAAAAIRCX0VAAAAASAuySkAY77HEKbZJQDB6vXbmqUdAcPT/pcF4Q0CmvFHSuOpPQJBvGQ2XGlJA+y89W8ShV0DKoCMBktNXQKRF2Awm1VRAzIatxYvQUkDfgtOezM5OQOMXC72tyU9AAIkyF5lqUkBL7uRuoklZQA==",
          "dtype": "f8"
         },
         "yaxis": "y7"
        },
        {
         "hovertemplate": "Date: %{x}<br>Value: %{y}<br>Model: NN",
         "line": {
          "color": "purple",
          "shape": "linear",
          "width": 2
         },
         "marker": {
          "size": 4
         },
         "mode": "lines+markers",
         "name": "NN",
         "showlegend": false,
         "type": "scatter",
         "x": [
          "2025-05-01T00:00:00.000000000",
          "2025-06-01T00:00:00.000000000",
          "2025-07-01T00:00:00.000000000",
          "2025-08-01T00:00:00.000000000",
          "2025-09-01T00:00:00.000000000",
          "2025-10-01T00:00:00.000000000",
          "2025-11-01T00:00:00.000000000",
          "2025-12-01T00:00:00.000000000",
          "2026-01-01T00:00:00.000000000",
          "2026-02-01T00:00:00.000000000"
         ],
         "xaxis": "x7",
         "y": {
          "bdata": "sj408u/WUEC/GhPbM29LQKhezJnfj0VAXgwqaiwhQ0DyKdNu5uxHQPz48dlNwkpAwnMEXstZUUAmxQuAiJ1RQNu2bTAxKE5AAAAACLD9RkA=",
          "dtype": "f8"
         },
         "yaxis": "y7"
        },
        {
         "line": {
          "color": "black"
         },
         "mode": "lines",
         "showlegend": false,
         "type": "scatter",
         "x": [
          "2025-05-01T00:00:00",
          "2026-02-01T00:00:00"
         ],
         "xaxis": "x7",
         "y": [
          0,
          0
         ],
         "yaxis": "y7"
        },
        {
         "fill": "toself",
         "fillcolor": "rgba(169, 169, 169, 0.2)",
         "hovertemplate": "Date: %{x}<br>Conf: 95%<br>Value: %{y}",
         "line": {
          "color": "rgba(255,255,255,0)"
         },
         "showlegend": false,
         "type": "scatter",
         "x": [
          "2025-05-01T00:00:00.000000000",
          "2025-06-01T00:00:00.000000000",
          "2025-07-01T00:00:00.000000000",
          "2025-08-01T00:00:00.000000000",
          "2025-09-01T00:00:00.000000000",
          "2025-10-01T00:00:00.000000000",
          "2025-11-01T00:00:00.000000000",
          "2025-12-01T00:00:00.000000000",
          "2026-01-01T00:00:00.000000000",
          "2026-02-01T00:00:00.000000000",
          "2026-02-01T00:00:00.000000000",
          "2026-01-01T00:00:00.000000000",
          "2025-12-01T00:00:00.000000000",
          "2025-11-01T00:00:00.000000000",
          "2025-10-01T00:00:00.000000000",
          "2025-09-01T00:00:00.000000000",
          "2025-08-01T00:00:00.000000000",
          "2025-07-01T00:00:00.000000000",
          "2025-06-01T00:00:00.000000000",
          "2025-05-01T00:00:00.000000000"
         ],
         "xaxis": "x8",
         "y": {
          "bdata": "Z2Zm1trhMkDEK8jV9RoQQGdmZsaG7gpAin234Kc0LEC3kYnVbfQKQBQPmFFoNA7AzczMzFkME8DUF2EBHb/+v4AUt5orggrAAAAAYK7fJMAz0gUA7TFRQBTuFd76CVlAmDeA/u17XUD///+vxZFgQH6AfT+ulGFAjWtzPnlHY0AYeTSj2C5eQP+CbomtIGBAJ3x7DGBYYUACAADs72dmQA==",
          "dtype": "f8"
         },
         "yaxis": "y8"
        },
        {
         "hovertemplate": "Date: %{x}<br>Value: %{y}<br>Model: GP",
         "line": {
          "color": "blue",
          "shape": "linear",
          "width": 2
         },
         "marker": {
          "size": 4
         },
         "mode": "lines+markers",
         "name": "GP",
         "showlegend": false,
         "type": "scatter",
         "x": [
          "2025-05-01T00:00:00.000000000",
          "2025-06-01T00:00:00.000000000",
          "2025-07-01T00:00:00.000000000",
          "2025-08-01T00:00:00.000000000",
          "2025-09-01T00:00:00.000000000",
          "2025-10-01T00:00:00.000000000",
          "2025-11-01T00:00:00.000000000",
          "2025-12-01T00:00:00.000000000",
          "2026-01-01T00:00:00.000000000",
          "2026-02-01T00:00:00.000000000"
         ],
         "xaxis": "x8",
         "y": {
          "bdata": "b/8dEEVjWEBUsjzym1RTQD2FU4PkPFFAqfFIyIswUUDFtxBQcl5RQC5xbO9UC09AGuiLRvGXS0DYxVY2ZXlGQA+jwLSO9kFAebs18zOAOkA=",
          "dtype": "f8"
         },
         "yaxis": "y8"
        },
        {
         "fill": "toself",
         "fillcolor": "rgba(169, 169, 169, 0.2)",
         "hovertemplate": "Date: %{x}<br>Conf: 95%<br>Value: %{y}",
         "line": {
          "color": "rgba(255,255,255,0)"
         },
         "showlegend": false,
         "type": "scatter",
         "x": [
          "2025-05-01T00:00:00.000000000",
          "2025-06-01T00:00:00.000000000",
          "2025-07-01T00:00:00.000000000",
          "2025-08-01T00:00:00.000000000",
          "2025-09-01T00:00:00.000000000",
          "2025-10-01T00:00:00.000000000",
          "2025-11-01T00:00:00.000000000",
          "2025-12-01T00:00:00.000000000",
          "2026-01-01T00:00:00.000000000",
          "2026-02-01T00:00:00.000000000",
          "2026-02-01T00:00:00.000000000",
          "2026-01-01T00:00:00.000000000",
          "2025-12-01T00:00:00.000000000",
          "2025-11-01T00:00:00.000000000",
          "2025-10-01T00:00:00.000000000",
          "2025-09-01T00:00:00.000000000",
          "2025-08-01T00:00:00.000000000",
          "2025-07-01T00:00:00.000000000",
          "2025-06-01T00:00:00.000000000",
          "2025-05-01T00:00:00.000000000"
         ],
         "xaxis": "x8",
         "y": {
          "bdata": "Z2Zm1trhMkDEK8jV9RoQQGdmZsaG7gpAin234Kc0LEC3kYnVbfQKQBQPmFFoNA7AzczMzFkME8DUF2EBHb/+v4AUt5orggrAAAAAYK7fJMAz0gUA7TFRQBTuFd76CVlAmDeA/u17XUD///+vxZFgQH6AfT+ulGFAjWtzPnlHY0AYeTSj2C5eQP+CbomtIGBAJ3x7DGBYYUACAADs72dmQA==",
          "dtype": "f8"
         },
         "yaxis": "y8"
        },
        {
         "hovertemplate": "Date: %{x}<br>Value: %{y}<br>Model: RF",
         "line": {
          "color": "green",
          "shape": "linear",
          "width": 2
         },
         "marker": {
          "size": 4
         },
         "mode": "lines+markers",
         "name": "RF",
         "showlegend": false,
         "type": "scatter",
         "x": [
          "2025-05-01T00:00:00.000000000",
          "2025-06-01T00:00:00.000000000",
          "2025-07-01T00:00:00.000000000",
          "2025-08-01T00:00:00.000000000",
          "2025-09-01T00:00:00.000000000",
          "2025-10-01T00:00:00.000000000",
          "2025-11-01T00:00:00.000000000",
          "2025-12-01T00:00:00.000000000",
          "2026-01-01T00:00:00.000000000",
          "2026-02-01T00:00:00.000000000"
         ],
         "xaxis": "x8",
         "y": {
          "bdata": "jxpDjmZ2TEBkmSlivgpGQMrd5kNuyEJAKdwFsOfbQUCuEs63vtZFQOxK+uYqcEJA7TCLiM+USUDVwoKb+GpBQMkNltsScjlAOTn87xlBO0A=",
          "dtype": "f8"
         },
         "yaxis": "y8"
        },
        {
         "fill": "toself",
         "fillcolor": "rgba(169, 169, 169, 0.2)",
         "hovertemplate": "Date: %{x}<br>Conf: 95%<br>Value: %{y}",
         "line": {
          "color": "rgba(255,255,255,0)"
         },
         "showlegend": false,
         "type": "scatter",
         "x": [
          "2025-05-01T00:00:00.000000000",
          "2025-06-01T00:00:00.000000000",
          "2025-07-01T00:00:00.000000000",
          "2025-08-01T00:00:00.000000000",
          "2025-09-01T00:00:00.000000000",
          "2025-10-01T00:00:00.000000000",
          "2025-11-01T00:00:00.000000000",
          "2025-12-01T00:00:00.000000000",
          "2026-01-01T00:00:00.000000000",
          "2026-02-01T00:00:00.000000000",
          "2026-02-01T00:00:00.000000000",
          "2026-01-01T00:00:00.000000000",
          "2025-12-01T00:00:00.000000000",
          "2025-11-01T00:00:00.000000000",
          "2025-10-01T00:00:00.000000000",
          "2025-09-01T00:00:00.000000000",
          "2025-08-01T00:00:00.000000000",
          "2025-07-01T00:00:00.000000000",
          "2025-06-01T00:00:00.000000000",
          "2025-05-01T00:00:00.000000000"
         ],
         "xaxis": "x8",
         "y": {
          "bdata": "Z2Zm1trhMkDEK8jV9RoQQGdmZsaG7gpAin234Kc0LEC3kYnVbfQKQBQPmFFoNA7AzczMzFkME8DUF2EBHb/+v4AUt5orggrAAAAAYK7fJMAz0gUA7TFRQBTuFd76CVlAmDeA/u17XUD///+vxZFgQH6AfT+ulGFAjWtzPnlHY0AYeTSj2C5eQP+CbomtIGBAJ3x7DGBYYUACAADs72dmQA==",
          "dtype": "f8"
         },
         "yaxis": "y8"
        },
        {
         "hovertemplate": "Date: %{x}<br>Value: %{y}<br>Model: LR",
         "line": {
          "color": "red",
          "shape": "linear",
          "width": 2
         },
         "marker": {
          "size": 4
         },
         "mode": "lines+markers",
         "name": "LR",
         "showlegend": false,
         "type": "scatter",
         "x": [
          "2025-05-01T00:00:00.000000000",
          "2025-06-01T00:00:00.000000000",
          "2025-07-01T00:00:00.000000000",
          "2025-08-01T00:00:00.000000000",
          "2025-09-01T00:00:00.000000000",
          "2025-10-01T00:00:00.000000000",
          "2025-11-01T00:00:00.000000000",
          "2025-12-01T00:00:00.000000000",
          "2026-01-01T00:00:00.000000000",
          "2026-02-01T00:00:00.000000000"
         ],
         "xaxis": "x8",
         "y": {
          "bdata": "N++mSRCnVkCfvsy9Y9tPQO0zN0VC0ktA5AUWF/SsTUDCnWQLCJBQQNHEbbJDVktAhAFw/jjDSUCvrz6a6GpGQGb7L9F9MkFAS3SOq5c6N0A=",
          "dtype": "f8"
         },
         "yaxis": "y8"
        },
        {
         "fill": "toself",
         "fillcolor": "rgba(169, 169, 169, 0.2)",
         "hovertemplate": "Date: %{x}<br>Conf: 95%<br>Value: %{y}",
         "line": {
          "color": "rgba(255,255,255,0)"
         },
         "showlegend": false,
         "type": "scatter",
         "x": [
          "2025-05-01T00:00:00.000000000",
          "2025-06-01T00:00:00.000000000",
          "2025-07-01T00:00:00.000000000",
          "2025-08-01T00:00:00.000000000",
          "2025-09-01T00:00:00.000000000",
          "2025-10-01T00:00:00.000000000",
          "2025-11-01T00:00:00.000000000",
          "2025-12-01T00:00:00.000000000",
          "2026-01-01T00:00:00.000000000",
          "2026-02-01T00:00:00.000000000",
          "2026-02-01T00:00:00.000000000",
          "2026-01-01T00:00:00.000000000",
          "2025-12-01T00:00:00.000000000",
          "2025-11-01T00:00:00.000000000",
          "2025-10-01T00:00:00.000000000",
          "2025-09-01T00:00:00.000000000",
          "2025-08-01T00:00:00.000000000",
          "2025-07-01T00:00:00.000000000",
          "2025-06-01T00:00:00.000000000",
          "2025-05-01T00:00:00.000000000"
         ],
         "xaxis": "x8",
         "y": {
          "bdata": "Z2Zm1trhMkDEK8jV9RoQQGdmZsaG7gpAin234Kc0LEC3kYnVbfQKQBQPmFFoNA7AzczMzFkME8DUF2EBHb/+v4AUt5orggrAAAAAYK7fJMAz0gUA7TFRQBTuFd76CVlAmDeA/u17XUD///+vxZFgQH6AfT+ulGFAjWtzPnlHY0AYeTSj2C5eQP+CbomtIGBAJ3x7DGBYYUACAADs72dmQA==",
          "dtype": "f8"
         },
         "yaxis": "y8"
        },
        {
         "hovertemplate": "Date: %{x}<br>Value: %{y}<br>Model: NN",
         "line": {
          "color": "purple",
          "shape": "linear",
          "width": 2
         },
         "marker": {
          "size": 4
         },
         "mode": "lines+markers",
         "name": "NN",
         "showlegend": false,
         "type": "scatter",
         "x": [
          "2025-05-01T00:00:00.000000000",
          "2025-06-01T00:00:00.000000000",
          "2025-07-01T00:00:00.000000000",
          "2025-08-01T00:00:00.000000000",
          "2025-09-01T00:00:00.000000000",
          "2025-10-01T00:00:00.000000000",
          "2025-11-01T00:00:00.000000000",
          "2025-12-01T00:00:00.000000000",
          "2026-01-01T00:00:00.000000000",
          "2026-02-01T00:00:00.000000000"
         ],
         "xaxis": "x8",
         "y": {
          "bdata": "BS83nysLU0C0WzC4TiBPQE0EAlZFEUhAXgwqUjRoTUDyKfGf1mZPQN25k7CkQklANfiVJhe/TECuQ1/ldQhGQLdtA9utOENAsRNWOdULN0A=",
          "dtype": "f8"
         },
         "yaxis": "y8"
        },
        {
         "line": {
          "color": "black"
         },
         "mode": "lines",
         "showlegend": false,
         "type": "scatter",
         "x": [
          "2025-05-01T00:00:00",
          "2026-02-01T00:00:00"
         ],
         "xaxis": "x8",
         "y": [
          0,
          0
         ],
         "yaxis": "y8"
        },
        {
         "fill": "toself",
         "fillcolor": "rgba(169, 169, 169, 0.2)",
         "hovertemplate": "Date: %{x}<br>Conf: 95%<br>Value: %{y}",
         "line": {
          "color": "rgba(255,255,255,0)"
         },
         "showlegend": false,
         "type": "scatter",
         "x": [
          "2025-05-01T00:00:00.000000000",
          "2025-06-01T00:00:00.000000000",
          "2025-07-01T00:00:00.000000000",
          "2025-08-01T00:00:00.000000000",
          "2025-09-01T00:00:00.000000000",
          "2025-10-01T00:00:00.000000000",
          "2025-11-01T00:00:00.000000000",
          "2025-12-01T00:00:00.000000000",
          "2026-01-01T00:00:00.000000000",
          "2026-02-01T00:00:00.000000000",
          "2026-02-01T00:00:00.000000000",
          "2026-01-01T00:00:00.000000000",
          "2025-12-01T00:00:00.000000000",
          "2025-11-01T00:00:00.000000000",
          "2025-10-01T00:00:00.000000000",
          "2025-09-01T00:00:00.000000000",
          "2025-08-01T00:00:00.000000000",
          "2025-07-01T00:00:00.000000000",
          "2025-06-01T00:00:00.000000000",
          "2025-05-01T00:00:00.000000000"
         ],
         "xaxis": "x9",
         "y": {
          "bdata": "8X7r/FqRRkAaWnehE1VJQKRGewX7IUtAUC/HxZaXTEADl8BtbtFPQCnbjDrzmEtAiwhq+ZyESUBcceCb+apEQORL3T82VDpARFIzKg8cN0CnMPiw/sRXQBBSsl350FhAZGZmRvB3XUAeVmgW6oFhQAAAAPx1smFA+a7N39nWYUAOLQ/YtL1gQM4kc0nZDmBAPnasDLTfYEDi4MisWSthQA==",
          "dtype": "f8"
         },
         "yaxis": "y9"
        },
        {
         "hovertemplate": "Date: %{x}<br>Value: %{y}<br>Model: GP",
         "line": {
          "color": "blue",
          "shape": "linear",
          "width": 2
         },
         "marker": {
          "size": 4
         },
         "mode": "lines+markers",
         "name": "GP",
         "showlegend": false,
         "type": "scatter",
         "x": [
          "2025-05-01T00:00:00.000000000",
          "2025-06-01T00:00:00.000000000",
          "2025-07-01T00:00:00.000000000",
          "2025-08-01T00:00:00.000000000",
          "2025-09-01T00:00:00.000000000",
          "2025-10-01T00:00:00.000000000",
          "2025-11-01T00:00:00.000000000",
          "2025-12-01T00:00:00.000000000",
          "2026-01-01T00:00:00.000000000",
          "2026-02-01T00:00:00.000000000"
         ],
         "xaxis": "x9",
         "y": {
          "bdata": "nkv6n/dkVkA4MAKsqmVXQHJLNqqnRlZAJCFk0YOnVkB7PigRuRdYQBDAo5r4EFdA2eZmQ5oAVkDm7xTcGHxRQIhDK5NohUpAdFS+nF3hR0A=",
          "dtype": "f8"
         },
         "yaxis": "y9"
        },
        {
         "fill": "toself",
         "fillcolor": "rgba(169, 169, 169, 0.2)",
         "hovertemplate": "Date: %{x}<br>Conf: 95%<br>Value: %{y}",
         "line": {
          "color": "rgba(255,255,255,0)"
         },
         "showlegend": false,
         "type": "scatter",
         "x": [
          "2025-05-01T00:00:00.000000000",
          "2025-06-01T00:00:00.000000000",
          "2025-07-01T00:00:00.000000000",
          "2025-08-01T00:00:00.000000000",
          "2025-09-01T00:00:00.000000000",
          "2025-10-01T00:00:00.000000000",
          "2025-11-01T00:00:00.000000000",
          "2025-12-01T00:00:00.000000000",
          "2026-01-01T00:00:00.000000000",
          "2026-02-01T00:00:00.000000000",
          "2026-02-01T00:00:00.000000000",
          "2026-01-01T00:00:00.000000000",
          "2025-12-01T00:00:00.000000000",
          "2025-11-01T00:00:00.000000000",
          "2025-10-01T00:00:00.000000000",
          "2025-09-01T00:00:00.000000000",
          "2025-08-01T00:00:00.000000000",
          "2025-07-01T00:00:00.000000000",
          "2025-06-01T00:00:00.000000000",
          "2025-05-01T00:00:00.000000000"
         ],
         "xaxis": "x9",
         "y": {
          "bdata": "8X7r/FqRRkAaWnehE1VJQKRGewX7IUtAUC/HxZaXTEADl8BtbtFPQCnbjDrzmEtAiwhq+ZyESUBcceCb+apEQORL3T82VDpARFIzKg8cN0CnMPiw/sRXQBBSsl350FhAZGZmRvB3XUAeVmgW6oFhQAAAAPx1smFA+a7N39nWYUAOLQ/YtL1gQM4kc0nZDmBAPnasDLTfYEDi4MisWSthQA==",
          "dtype": "f8"
         },
         "yaxis": "y9"
        },
        {
         "hovertemplate": "Date: %{x}<br>Value: %{y}<br>Model: RF",
         "line": {
          "color": "green",
          "shape": "linear",
          "width": 2
         },
         "marker": {
          "size": 4
         },
         "mode": "lines+markers",
         "name": "RF",
         "showlegend": false,
         "type": "scatter",
         "x": [
          "2025-05-01T00:00:00.000000000",
          "2025-06-01T00:00:00.000000000",
          "2025-07-01T00:00:00.000000000",
          "2025-08-01T00:00:00.000000000",
          "2025-09-01T00:00:00.000000000",
          "2025-10-01T00:00:00.000000000",
          "2025-11-01T00:00:00.000000000",
          "2025-12-01T00:00:00.000000000",
          "2026-01-01T00:00:00.000000000",
          "2026-02-01T00:00:00.000000000"
         ],
         "xaxis": "x9",
         "y": {
          "bdata": "Wi9MuZCzWUDQexvpV2FZQGN/TTc5D1hA7wS8fc7+VkBSkDk1rBlYQKgRzYlwzFVACWMRxLBuVEBV8jbpSLRRQEq0Q9u6dU9A28Q9TPfsTEA=",
          "dtype": "f8"
         },
         "yaxis": "y9"
        },
        {
         "fill": "toself",
         "fillcolor": "rgba(169, 169, 169, 0.2)",
         "hovertemplate": "Date: %{x}<br>Conf: 95%<br>Value: %{y}",
         "line": {
          "color": "rgba(255,255,255,0)"
         },
         "showlegend": false,
         "type": "scatter",
         "x": [
          "2025-05-01T00:00:00.000000000",
          "2025-06-01T00:00:00.000000000",
          "2025-07-01T00:00:00.000000000",
          "2025-08-01T00:00:00.000000000",
          "2025-09-01T00:00:00.000000000",
          "2025-10-01T00:00:00.000000000",
          "2025-11-01T00:00:00.000000000",
          "2025-12-01T00:00:00.000000000",
          "2026-01-01T00:00:00.000000000",
          "2026-02-01T00:00:00.000000000",
          "2026-02-01T00:00:00.000000000",
          "2026-01-01T00:00:00.000000000",
          "2025-12-01T00:00:00.000000000",
          "2025-11-01T00:00:00.000000000",
          "2025-10-01T00:00:00.000000000",
          "2025-09-01T00:00:00.000000000",
          "2025-08-01T00:00:00.000000000",
          "2025-07-01T00:00:00.000000000",
          "2025-06-01T00:00:00.000000000",
          "2025-05-01T00:00:00.000000000"
         ],
         "xaxis": "x9",
         "y": {
          "bdata": "8X7r/FqRRkAaWnehE1VJQKRGewX7IUtAUC/HxZaXTEADl8BtbtFPQCnbjDrzmEtAiwhq+ZyESUBcceCb+apEQORL3T82VDpARFIzKg8cN0CnMPiw/sRXQBBSsl350FhAZGZmRvB3XUAeVmgW6oFhQAAAAPx1smFA+a7N39nWYUAOLQ/YtL1gQM4kc0nZDmBAPnasDLTfYEDi4MisWSthQA==",
          "dtype": "f8"
         },
         "yaxis": "y9"
        },
        {
         "hovertemplate": "Date: %{x}<br>Value: %{y}<br>Model: LR",
         "line": {
          "color": "red",
          "shape": "linear",
          "width": 2
         },
         "marker": {
          "size": 4
         },
         "mode": "lines+markers",
         "name": "LR",
         "showlegend": false,
         "type": "scatter",
         "x": [
          "2025-05-01T00:00:00.000000000",
          "2025-06-01T00:00:00.000000000",
          "2025-07-01T00:00:00.000000000",
          "2025-08-01T00:00:00.000000000",
          "2025-09-01T00:00:00.000000000",
          "2025-10-01T00:00:00.000000000",
          "2025-11-01T00:00:00.000000000",
          "2025-12-01T00:00:00.000000000",
          "2026-01-01T00:00:00.000000000",
          "2026-02-01T00:00:00.000000000"
         ],
         "xaxis": "x9",
         "y": {
          "bdata": "b6yxs6ZCVEBnheQKBWZVQC+t/+her1RA+XePtpIZVUCEAGBF9oZXQMAyIDAit1dAHOrtYmG6VkDKSDK4EGRRQMkB7nxVzkhA+0/L0ZZRR0A=",
          "dtype": "f8"
         },
         "yaxis": "y9"
        },
        {
         "fill": "toself",
         "fillcolor": "rgba(169, 169, 169, 0.2)",
         "hovertemplate": "Date: %{x}<br>Conf: 95%<br>Value: %{y}",
         "line": {
          "color": "rgba(255,255,255,0)"
         },
         "showlegend": false,
         "type": "scatter",
         "x": [
          "2025-05-01T00:00:00.000000000",
          "2025-06-01T00:00:00.000000000",
          "2025-07-01T00:00:00.000000000",
          "2025-08-01T00:00:00.000000000",
          "2025-09-01T00:00:00.000000000",
          "2025-10-01T00:00:00.000000000",
          "2025-11-01T00:00:00.000000000",
          "2025-12-01T00:00:00.000000000",
          "2026-01-01T00:00:00.000000000",
          "2026-02-01T00:00:00.000000000",
          "2026-02-01T00:00:00.000000000",
          "2026-01-01T00:00:00.000000000",
          "2025-12-01T00:00:00.000000000",
          "2025-11-01T00:00:00.000000000",
          "2025-10-01T00:00:00.000000000",
          "2025-09-01T00:00:00.000000000",
          "2025-08-01T00:00:00.000000000",
          "2025-07-01T00:00:00.000000000",
          "2025-06-01T00:00:00.000000000",
          "2025-05-01T00:00:00.000000000"
         ],
         "xaxis": "x9",
         "y": {
          "bdata": "8X7r/FqRRkAaWnehE1VJQKRGewX7IUtAUC/HxZaXTEADl8BtbtFPQCnbjDrzmEtAiwhq+ZyESUBcceCb+apEQORL3T82VDpARFIzKg8cN0CnMPiw/sRXQBBSsl350FhAZGZmRvB3XUAeVmgW6oFhQAAAAPx1smFA+a7N39nWYUAOLQ/YtL1gQM4kc0nZDmBAPnasDLTfYEDi4MisWSthQA==",
          "dtype": "f8"
         },
         "yaxis": "y9"
        },
        {
         "hovertemplate": "Date: %{x}<br>Value: %{y}<br>Model: NN",
         "line": {
          "color": "purple",
          "shape": "linear",
          "width": 2
         },
         "marker": {
          "size": 4
         },
         "mode": "lines+markers",
         "name": "NN",
         "showlegend": false,
         "type": "scatter",
         "x": [
          "2025-05-01T00:00:00.000000000",
          "2025-06-01T00:00:00.000000000",
          "2025-07-01T00:00:00.000000000",
          "2025-08-01T00:00:00.000000000",
          "2025-09-01T00:00:00.000000000",
          "2025-10-01T00:00:00.000000000",
          "2025-11-01T00:00:00.000000000",
          "2025-12-01T00:00:00.000000000",
          "2026-01-01T00:00:00.000000000",
          "2026-02-01T00:00:00.000000000"
         ],
         "xaxis": "x9",
         "y": {
          "bdata": "OQUvlA2hVUC/GpNhWOtVQC/mU+X7ElZAspCFFPYbWEAX8HqngXZZQHDgwBF7zldAVT6MTyntVUDd0wjHk1pSQCVJEioOOE1A7MRO1JAsSEA=",
          "dtype": "f8"
         },
         "yaxis": "y9"
        },
        {
         "line": {
          "color": "black"
         },
         "mode": "lines",
         "showlegend": false,
         "type": "scatter",
         "x": [
          "2025-05-01T00:00:00",
          "2026-02-01T00:00:00"
         ],
         "xaxis": "x9",
         "y": [
          0,
          0
         ],
         "yaxis": "y9"
        },
        {
         "fill": "toself",
         "fillcolor": "rgba(169, 169, 169, 0.2)",
         "hovertemplate": "Date: %{x}<br>Conf: 95%<br>Value: %{y}",
         "line": {
          "color": "rgba(255,255,255,0)"
         },
         "showlegend": false,
         "type": "scatter",
         "x": [
          "2025-05-01T00:00:00.000000000",
          "2025-06-01T00:00:00.000000000",
          "2025-07-01T00:00:00.000000000",
          "2025-08-01T00:00:00.000000000",
          "2025-09-01T00:00:00.000000000",
          "2025-10-01T00:00:00.000000000",
          "2025-11-01T00:00:00.000000000",
          "2025-12-01T00:00:00.000000000",
          "2026-01-01T00:00:00.000000000",
          "2026-02-01T00:00:00.000000000",
          "2026-02-01T00:00:00.000000000",
          "2026-01-01T00:00:00.000000000",
          "2025-12-01T00:00:00.000000000",
          "2025-11-01T00:00:00.000000000",
          "2025-10-01T00:00:00.000000000",
          "2025-09-01T00:00:00.000000000",
          "2025-08-01T00:00:00.000000000",
          "2025-07-01T00:00:00.000000000",
          "2025-06-01T00:00:00.000000000",
          "2025-05-01T00:00:00.000000000"
         ],
         "xaxis": "x10",
         "y": {
          "bdata": "n/WhZIZ4UkDDxq0V55pXQLjYKl+5uFhADN6AHs5DWUAfHbmT/wRcQOgiE2JovFpAwTeMu84qRkDpK6BymJxDQAAAAFjmwjZAUb5kdV6RNEDIeG/EqrRSQGv0NlxATFVA/XKTpIm0WUD7yd3yTbFhQCD7mnB4I2VA+/6oaj3SYkDNzMzwURBhQBrJpQk9PmBAzMOay71uX0DWnLC9tMlgQA==",
          "dtype": "f8"
         },
         "yaxis": "y10"
        },
        {
         "hovertemplate": "Date: %{x}<br>Value: %{y}<br>Model: GP",
         "line": {
          "color": "blue",
          "shape": "linear",
          "width": 2
         },
         "marker": {
          "size": 4
         },
         "mode": "lines+markers",
         "name": "GP",
         "showlegend": false,
         "type": "scatter",
         "x": [
          "2025-05-01T00:00:00.000000000",
          "2025-06-01T00:00:00.000000000",
          "2025-07-01T00:00:00.000000000",
          "2025-08-01T00:00:00.000000000",
          "2025-09-01T00:00:00.000000000",
          "2025-10-01T00:00:00.000000000",
          "2025-11-01T00:00:00.000000000",
          "2025-12-01T00:00:00.000000000",
          "2026-01-01T00:00:00.000000000",
          "2026-02-01T00:00:00.000000000"
         ],
         "xaxis": "x10",
         "y": {
          "bdata": "IzDodGOpVEBUXnwgt25ZQHyYuVKc8FtA9+ECoN14XEANVLDZKCRfQFYc82VvjmFA9BwIYI9eXED8XDNpcwJTQDFufrMAaUJAADcvXo2jPUA=",
          "dtype": "f8"
         },
         "yaxis": "y10"
        },
        {
         "fill": "toself",
         "fillcolor": "rgba(169, 169, 169, 0.2)",
         "hovertemplate": "Date: %{x}<br>Conf: 95%<br>Value: %{y}",
         "line": {
          "color": "rgba(255,255,255,0)"
         },
         "showlegend": false,
         "type": "scatter",
         "x": [
          "2025-05-01T00:00:00.000000000",
          "2025-06-01T00:00:00.000000000",
          "2025-07-01T00:00:00.000000000",
          "2025-08-01T00:00:00.000000000",
          "2025-09-01T00:00:00.000000000",
          "2025-10-01T00:00:00.000000000",
          "2025-11-01T00:00:00.000000000",
          "2025-12-01T00:00:00.000000000",
          "2026-01-01T00:00:00.000000000",
          "2026-02-01T00:00:00.000000000",
          "2026-02-01T00:00:00.000000000",
          "2026-01-01T00:00:00.000000000",
          "2025-12-01T00:00:00.000000000",
          "2025-11-01T00:00:00.000000000",
          "2025-10-01T00:00:00.000000000",
          "2025-09-01T00:00:00.000000000",
          "2025-08-01T00:00:00.000000000",
          "2025-07-01T00:00:00.000000000",
          "2025-06-01T00:00:00.000000000",
          "2025-05-01T00:00:00.000000000"
         ],
         "xaxis": "x10",
         "y": {
          "bdata": "n/WhZIZ4UkDDxq0V55pXQLjYKl+5uFhADN6AHs5DWUAfHbmT/wRcQOgiE2JovFpAwTeMu84qRkDpK6BymJxDQAAAAFjmwjZAUb5kdV6RNEDIeG/EqrRSQGv0NlxATFVA/XKTpIm0WUD7yd3yTbFhQCD7mnB4I2VA+/6oaj3SYkDNzMzwURBhQBrJpQk9PmBAzMOay71uX0DWnLC9tMlgQA==",
          "dtype": "f8"
         },
         "yaxis": "y10"
        },
        {
         "hovertemplate": "Date: %{x}<br>Value: %{y}<br>Model: RF",
         "line": {
          "color": "green",
          "shape": "linear",
          "width": 2
         },
         "marker": {
          "size": 4
         },
         "mode": "lines+markers",
         "name": "RF",
         "showlegend": false,
         "type": "scatter",
         "x": [
          "2025-05-01T00:00:00.000000000",
          "2025-06-01T00:00:00.000000000",
          "2025-07-01T00:00:00.000000000",
          "2025-08-01T00:00:00.000000000",
          "2025-09-01T00:00:00.000000000",
          "2025-10-01T00:00:00.000000000",
          "2025-11-01T00:00:00.000000000",
          "2025-12-01T00:00:00.000000000",
          "2026-01-01T00:00:00.000000000",
          "2026-02-01T00:00:00.000000000"
         ],
         "xaxis": "x10",
         "y": {
          "bdata": "Ri3+HZbeX0C7wJEpLXNdQMzuYsMaKlxA+2L8k7NsXEAGQvPNFcNgQL6lW7jFG2JA7y6vovZtV0Cg06wf2Q9TQHIme8SslVBAZx1KdpjnSUA=",
          "dtype": "f8"
         },
         "yaxis": "y10"
        },
        {
         "fill": "toself",
         "fillcolor": "rgba(169, 169, 169, 0.2)",
         "hovertemplate": "Date: %{x}<br>Conf: 95%<br>Value: %{y}",
         "line": {
          "color": "rgba(255,255,255,0)"
         },
         "showlegend": false,
         "type": "scatter",
         "x": [
          "2025-05-01T00:00:00.000000000",
          "2025-06-01T00:00:00.000000000",
          "2025-07-01T00:00:00.000000000",
          "2025-08-01T00:00:00.000000000",
          "2025-09-01T00:00:00.000000000",
          "2025-10-01T00:00:00.000000000",
          "2025-11-01T00:00:00.000000000",
          "2025-12-01T00:00:00.000000000",
          "2026-01-01T00:00:00.000000000",
          "2026-02-01T00:00:00.000000000",
          "2026-02-01T00:00:00.000000000",
          "2026-01-01T00:00:00.000000000",
          "2025-12-01T00:00:00.000000000",
          "2025-11-01T00:00:00.000000000",
          "2025-10-01T00:00:00.000000000",
          "2025-09-01T00:00:00.000000000",
          "2025-08-01T00:00:00.000000000",
          "2025-07-01T00:00:00.000000000",
          "2025-06-01T00:00:00.000000000",
          "2025-05-01T00:00:00.000000000"
         ],
         "xaxis": "x10",
         "y": {
          "bdata": "n/WhZIZ4UkDDxq0V55pXQLjYKl+5uFhADN6AHs5DWUAfHbmT/wRcQOgiE2JovFpAwTeMu84qRkDpK6BymJxDQAAAAFjmwjZAUb5kdV6RNEDIeG/EqrRSQGv0NlxATFVA/XKTpIm0WUD7yd3yTbFhQCD7mnB4I2VA+/6oaj3SYkDNzMzwURBhQBrJpQk9PmBAzMOay71uX0DWnLC9tMlgQA==",
          "dtype": "f8"
         },
         "yaxis": "y10"
        },
        {
         "hovertemplate": "Date: %{x}<br>Value: %{y}<br>Model: LR",
         "line": {
          "color": "red",
          "shape": "linear",
          "width": 2
         },
         "marker": {
          "size": 4
         },
         "mode": "lines+markers",
         "name": "LR",
         "showlegend": false,
         "type": "scatter",
         "x": [
          "2025-05-01T00:00:00.000000000",
          "2025-06-01T00:00:00.000000000",
          "2025-07-01T00:00:00.000000000",
          "2025-08-01T00:00:00.000000000",
          "2025-09-01T00:00:00.000000000",
          "2025-10-01T00:00:00.000000000",
          "2025-11-01T00:00:00.000000000",
          "2025-12-01T00:00:00.000000000",
          "2026-01-01T00:00:00.000000000",
          "2026-02-01T00:00:00.000000000"
         ],
         "xaxis": "x10",
         "y": {
          "bdata": "FVYWEjbqVUAh/OIrKgJcQAJN3jj9el5AuPyAe4DCXkDMSyHD1URhQNEydRmlxmJADlpP427zXkBKK7nb+ElVQM0ZpvGyrURAcpduN06nQEA=",
          "dtype": "f8"
         },
         "yaxis": "y10"
        },
        {
         "fill": "toself",
         "fillcolor": "rgba(169, 169, 169, 0.2)",
         "hovertemplate": "Date: %{x}<br>Conf: 95%<br>Value: %{y}",
         "line": {
          "color": "rgba(255,255,255,0)"
         },
         "showlegend": false,
         "type": "scatter",
         "x": [
          "2025-05-01T00:00:00.000000000",
          "2025-06-01T00:00:00.000000000",
          "2025-07-01T00:00:00.000000000",
          "2025-08-01T00:00:00.000000000",
          "2025-09-01T00:00:00.000000000",
          "2025-10-01T00:00:00.000000000",
          "2025-11-01T00:00:00.000000000",
          "2025-12-01T00:00:00.000000000",
          "2026-01-01T00:00:00.000000000",
          "2026-02-01T00:00:00.000000000",
          "2026-02-01T00:00:00.000000000",
          "2026-01-01T00:00:00.000000000",
          "2025-12-01T00:00:00.000000000",
          "2025-11-01T00:00:00.000000000",
          "2025-10-01T00:00:00.000000000",
          "2025-09-01T00:00:00.000000000",
          "2025-08-01T00:00:00.000000000",
          "2025-07-01T00:00:00.000000000",
          "2025-06-01T00:00:00.000000000",
          "2025-05-01T00:00:00.000000000"
         ],
         "xaxis": "x10",
         "y": {
          "bdata": "n/WhZIZ4UkDDxq0V55pXQLjYKl+5uFhADN6AHs5DWUAfHbmT/wRcQOgiE2JovFpAwTeMu84qRkDpK6BymJxDQAAAAFjmwjZAUb5kdV6RNEDIeG/EqrRSQGv0NlxATFVA/XKTpIm0WUD7yd3yTbFhQCD7mnB4I2VA+/6oaj3SYkDNzMzwURBhQBrJpQk9PmBAzMOay71uX0DWnLC9tMlgQA==",
          "dtype": "f8"
         },
         "yaxis": "y10"
        },
        {
         "hovertemplate": "Date: %{x}<br>Value: %{y}<br>Model: NN",
         "line": {
          "color": "purple",
          "shape": "linear",
          "width": 2
         },
         "marker": {
          "size": 4
         },
         "mode": "lines+markers",
         "name": "NN",
         "showlegend": false,
         "type": "scatter",
         "x": [
          "2025-05-01T00:00:00.000000000",
          "2025-06-01T00:00:00.000000000",
          "2025-07-01T00:00:00.000000000",
          "2025-08-01T00:00:00.000000000",
          "2025-09-01T00:00:00.000000000",
          "2025-10-01T00:00:00.000000000",
          "2025-11-01T00:00:00.000000000",
          "2025-12-01T00:00:00.000000000",
          "2026-01-01T00:00:00.000000000",
          "2026-02-01T00:00:00.000000000"
         ],
         "xaxis": "x10",
         "y": {
          "bdata": "M3Gl3Vh+VkBYYyIrxgtcQKhezG8pH1tAGVSEI3XIXUDA621YmYRgQLZs2UpgI2FAy4dxT/9FXUBVVVUFK/1RQLdtW5X/SUFAYid2Dvj+QEA=",
          "dtype": "f8"
         },
         "yaxis": "y10"
        },
        {
         "line": {
          "color": "black"
         },
         "mode": "lines",
         "showlegend": false,
         "type": "scatter",
         "x": [
          "2025-05-01T00:00:00",
          "2026-02-01T00:00:00"
         ],
         "xaxis": "x10",
         "y": [
          0,
          0
         ],
         "yaxis": "y10"
        },
        {
         "fill": "toself",
         "fillcolor": "rgba(169, 169, 169, 0.2)",
         "hovertemplate": "Date: %{x}<br>Conf: 95%<br>Value: %{y}",
         "line": {
          "color": "rgba(255,255,255,0)"
         },
         "showlegend": false,
         "type": "scatter",
         "x": [
          "2025-05-01T00:00:00.000000000",
          "2025-06-01T00:00:00.000000000",
          "2025-07-01T00:00:00.000000000",
          "2025-08-01T00:00:00.000000000",
          "2025-09-01T00:00:00.000000000",
          "2025-10-01T00:00:00.000000000",
          "2025-11-01T00:00:00.000000000",
          "2025-12-01T00:00:00.000000000",
          "2026-01-01T00:00:00.000000000",
          "2026-02-01T00:00:00.000000000",
          "2026-02-01T00:00:00.000000000",
          "2026-01-01T00:00:00.000000000",
          "2025-12-01T00:00:00.000000000",
          "2025-11-01T00:00:00.000000000",
          "2025-10-01T00:00:00.000000000",
          "2025-09-01T00:00:00.000000000",
          "2025-08-01T00:00:00.000000000",
          "2025-07-01T00:00:00.000000000",
          "2025-06-01T00:00:00.000000000",
          "2025-05-01T00:00:00.000000000"
         ],
         "xaxis": "x11",
         "y": {
          "bdata": "I8LBQQOeQUDIe9xp3DMpQEZCgsNtfRXA9y7XPCMhIsAbrfwwBbgNQFmrVMZkYzpAzczMdGkyQ0AAozmDgthHQDSIz+ro+j5ALNhcmZYcQECnBiXqBsFgQPvnr3yjFGJAguTGH8RGZUDfZ+wIvT5mQBr9e8bg1l5AX6ieKEZcVUDvRohcOqhNQEn8S6nBjU5AMHMLWe8bVkCTT7/RVX9gQA==",
          "dtype": "f8"
         },
         "yaxis": "y11"
        },
        {
         "hovertemplate": "Date: %{x}<br>Value: %{y}<br>Model: GP",
         "line": {
          "color": "blue",
          "shape": "linear",
          "width": 2
         },
         "marker": {
          "size": 4
         },
         "mode": "lines+markers",
         "name": "GP",
         "showlegend": false,
         "type": "scatter",
         "x": [
          "2025-05-01T00:00:00.000000000",
          "2025-06-01T00:00:00.000000000",
          "2025-07-01T00:00:00.000000000",
          "2025-08-01T00:00:00.000000000",
          "2025-09-01T00:00:00.000000000",
          "2025-10-01T00:00:00.000000000",
          "2025-11-01T00:00:00.000000000",
          "2025-12-01T00:00:00.000000000",
          "2026-01-01T00:00:00.000000000",
          "2026-02-01T00:00:00.000000000"
         ],
         "xaxis": "x11",
         "y": {
          "bdata": "aGNB/3aKVUBgF+/IhIRMQD+6PP/hV0NA0CcfjyYdQ0BxRWNgmdlIQJwxAy/wz1JAcuHYui+zV0Ak6x42EyJXQPrA+BXlN1JAxs8HjBVMUUA=",
          "dtype": "f8"
         },
         "yaxis": "y11"
        },
        {
         "fill": "toself",
         "fillcolor": "rgba(169, 169, 169, 0.2)",
         "hovertemplate": "Date: %{x}<br>Conf: 95%<br>Value: %{y}",
         "line": {
          "color": "rgba(255,255,255,0)"
         },
         "showlegend": false,
         "type": "scatter",
         "x": [
          "2025-05-01T00:00:00.000000000",
          "2025-06-01T00:00:00.000000000",
          "2025-07-01T00:00:00.000000000",
          "2025-08-01T00:00:00.000000000",
          "2025-09-01T00:00:00.000000000",
          "2025-10-01T00:00:00.000000000",
          "2025-11-01T00:00:00.000000000",
          "2025-12-01T00:00:00.000000000",
          "2026-01-01T00:00:00.000000000",
          "2026-02-01T00:00:00.000000000",
          "2026-02-01T00:00:00.000000000",
          "2026-01-01T00:00:00.000000000",
          "2025-12-01T00:00:00.000000000",
          "2025-11-01T00:00:00.000000000",
          "2025-10-01T00:00:00.000000000",
          "2025-09-01T00:00:00.000000000",
          "2025-08-01T00:00:00.000000000",
          "2025-07-01T00:00:00.000000000",
          "2025-06-01T00:00:00.000000000",
          "2025-05-01T00:00:00.000000000"
         ],
         "xaxis": "x11",
         "y": {
          "bdata": "I8LBQQOeQUDIe9xp3DMpQEZCgsNtfRXA9y7XPCMhIsAbrfwwBbgNQFmrVMZkYzpAzczMdGkyQ0AAozmDgthHQDSIz+ro+j5ALNhcmZYcQECnBiXqBsFgQPvnr3yjFGJAguTGH8RGZUDfZ+wIvT5mQBr9e8bg1l5AX6ieKEZcVUDvRohcOqhNQEn8S6nBjU5AMHMLWe8bVkCTT7/RVX9gQA==",
          "dtype": "f8"
         },
         "yaxis": "y11"
        },
        {
         "hovertemplate": "Date: %{x}<br>Value: %{y}<br>Model: RF",
         "line": {
          "color": "green",
          "shape": "linear",
          "width": 2
         },
         "marker": {
          "size": 4
         },
         "mode": "lines+markers",
         "name": "RF",
         "showlegend": false,
         "type": "scatter",
         "x": [
          "2025-05-01T00:00:00.000000000",
          "2025-06-01T00:00:00.000000000",
          "2025-07-01T00:00:00.000000000",
          "2025-08-01T00:00:00.000000000",
          "2025-09-01T00:00:00.000000000",
          "2025-10-01T00:00:00.000000000",
          "2025-11-01T00:00:00.000000000",
          "2025-12-01T00:00:00.000000000",
          "2026-01-01T00:00:00.000000000",
          "2026-02-01T00:00:00.000000000"
         ],
         "xaxis": "x11",
         "y": {
          "bdata": "nS/j0pqHTEB40zlzk4BEQPqBQ2t+TEBAGZlb2MKfPkAYv58PLCxFQJn0eIsXR1BAf9cDIokKWkAxa8MSYOlXQMnMX2lDIlVAQBMSYY9CVEA=",
          "dtype": "f8"
         },
         "yaxis": "y11"
        },
        {
         "fill": "toself",
         "fillcolor": "rgba(169, 169, 169, 0.2)",
         "hovertemplate": "Date: %{x}<br>Conf: 95%<br>Value: %{y}",
         "line": {
          "color": "rgba(255,255,255,0)"
         },
         "showlegend": false,
         "type": "scatter",
         "x": [
          "2025-05-01T00:00:00.000000000",
          "2025-06-01T00:00:00.000000000",
          "2025-07-01T00:00:00.000000000",
          "2025-08-01T00:00:00.000000000",
          "2025-09-01T00:00:00.000000000",
          "2025-10-01T00:00:00.000000000",
          "2025-11-01T00:00:00.000000000",
          "2025-12-01T00:00:00.000000000",
          "2026-01-01T00:00:00.000000000",
          "2026-02-01T00:00:00.000000000",
          "2026-02-01T00:00:00.000000000",
          "2026-01-01T00:00:00.000000000",
          "2025-12-01T00:00:00.000000000",
          "2025-11-01T00:00:00.000000000",
          "2025-10-01T00:00:00.000000000",
          "2025-09-01T00:00:00.000000000",
          "2025-08-01T00:00:00.000000000",
          "2025-07-01T00:00:00.000000000",
          "2025-06-01T00:00:00.000000000",
          "2025-05-01T00:00:00.000000000"
         ],
         "xaxis": "x11",
         "y": {
          "bdata": "I8LBQQOeQUDIe9xp3DMpQEZCgsNtfRXA9y7XPCMhIsAbrfwwBbgNQFmrVMZkYzpAzczMdGkyQ0AAozmDgthHQDSIz+ro+j5ALNhcmZYcQECnBiXqBsFgQPvnr3yjFGJAguTGH8RGZUDfZ+wIvT5mQBr9e8bg1l5AX6ieKEZcVUDvRohcOqhNQEn8S6nBjU5AMHMLWe8bVkCTT7/RVX9gQA==",
          "dtype": "f8"
         },
         "yaxis": "y11"
        },
        {
         "hovertemplate": "Date: %{x}<br>Value: %{y}<br>Model: LR",
         "line": {
          "color": "red",
          "shape": "linear",
          "width": 2
         },
         "marker": {
          "size": 4
         },
         "mode": "lines+markers",
         "name": "LR",
         "showlegend": false,
         "type": "scatter",
         "x": [
          "2025-05-01T00:00:00.000000000",
          "2025-06-01T00:00:00.000000000",
          "2025-07-01T00:00:00.000000000",
          "2025-08-01T00:00:00.000000000",
          "2025-09-01T00:00:00.000000000",
          "2025-10-01T00:00:00.000000000",
          "2025-11-01T00:00:00.000000000",
          "2025-12-01T00:00:00.000000000",
          "2026-01-01T00:00:00.000000000",
          "2026-02-01T00:00:00.000000000"
         ],
         "xaxis": "x11",
         "y": {
          "bdata": "3VFWfLf7UUBFvUrPDZ9GQJQwLFsbkjZAqVNM93eGMUBeHZ20j1xAQKwmThoS309AA4lyqe0DVUDJ+fuKpQhVQH0xhj0r705AegVZ8GzlT0A=",
          "dtype": "f8"
         },
         "yaxis": "y11"
        },
        {
         "fill": "toself",
         "fillcolor": "rgba(169, 169, 169, 0.2)",
         "hovertemplate": "Date: %{x}<br>Conf: 95%<br>Value: %{y}",
         "line": {
          "color": "rgba(255,255,255,0)"
         },
         "showlegend": false,
         "type": "scatter",
         "x": [
          "2025-05-01T00:00:00.000000000",
          "2025-06-01T00:00:00.000000000",
          "2025-07-01T00:00:00.000000000",
          "2025-08-01T00:00:00.000000000",
          "2025-09-01T00:00:00.000000000",
          "2025-10-01T00:00:00.000000000",
          "2025-11-01T00:00:00.000000000",
          "2025-12-01T00:00:00.000000000",
          "2026-01-01T00:00:00.000000000",
          "2026-02-01T00:00:00.000000000",
          "2026-02-01T00:00:00.000000000",
          "2026-01-01T00:00:00.000000000",
          "2025-12-01T00:00:00.000000000",
          "2025-11-01T00:00:00.000000000",
          "2025-10-01T00:00:00.000000000",
          "2025-09-01T00:00:00.000000000",
          "2025-08-01T00:00:00.000000000",
          "2025-07-01T00:00:00.000000000",
          "2025-06-01T00:00:00.000000000",
          "2025-05-01T00:00:00.000000000"
         ],
         "xaxis": "x11",
         "y": {
          "bdata": "I8LBQQOeQUDIe9xp3DMpQEZCgsNtfRXA9y7XPCMhIsAbrfwwBbgNQFmrVMZkYzpAzczMdGkyQ0AAozmDgthHQDSIz+ro+j5ALNhcmZYcQECnBiXqBsFgQPvnr3yjFGJAguTGH8RGZUDfZ+wIvT5mQBr9e8bg1l5AX6ieKEZcVUDvRohcOqhNQEn8S6nBjU5AMHMLWe8bVkCTT7/RVX9gQA==",
          "dtype": "f8"
         },
         "yaxis": "y11"
        },
        {
         "hovertemplate": "Date: %{x}<br>Value: %{y}<br>Model: NN",
         "line": {
          "color": "purple",
          "shape": "linear",
          "width": 2
         },
         "marker": {
          "size": 4
         },
         "mode": "lines+markers",
         "name": "NN",
         "showlegend": false,
         "type": "scatter",
         "x": [
          "2025-05-01T00:00:00.000000000",
          "2025-06-01T00:00:00.000000000",
          "2025-07-01T00:00:00.000000000",
          "2025-08-01T00:00:00.000000000",
          "2025-09-01T00:00:00.000000000",
          "2025-10-01T00:00:00.000000000",
          "2025-11-01T00:00:00.000000000",
          "2025-12-01T00:00:00.000000000",
          "2026-01-01T00:00:00.000000000",
          "2026-02-01T00:00:00.000000000"
         ],
         "xaxis": "x11",
         "y": {
          "bdata": "z/PMVPBxUkD1QCVItKBBQKzQGUQaA0RAPtLKStH9P0Ddl8fzCYVHQKhQoc25lk9AhixkoXr4V0Ad+s1iqJ1ZQJIkSdsnQVZAO7ETY0/4UUA=",
          "dtype": "f8"
         },
         "yaxis": "y11"
        },
        {
         "line": {
          "color": "black"
         },
         "mode": "lines",
         "showlegend": false,
         "type": "scatter",
         "x": [
          "2025-05-01T00:00:00",
          "2026-02-01T00:00:00"
         ],
         "xaxis": "x11",
         "y": [
          0,
          0
         ],
         "yaxis": "y11"
        },
        {
         "fill": "toself",
         "fillcolor": "rgba(169, 169, 169, 0.2)",
         "hovertemplate": "Date: %{x}<br>Conf: 95%<br>Value: %{y}",
         "line": {
          "color": "rgba(255,255,255,0)"
         },
         "showlegend": false,
         "type": "scatter",
         "x": [
          "2025-05-01T00:00:00.000000000",
          "2025-06-01T00:00:00.000000000",
          "2025-07-01T00:00:00.000000000",
          "2025-08-01T00:00:00.000000000",
          "2025-09-01T00:00:00.000000000",
          "2025-10-01T00:00:00.000000000",
          "2025-11-01T00:00:00.000000000",
          "2025-12-01T00:00:00.000000000",
          "2026-01-01T00:00:00.000000000",
          "2026-02-01T00:00:00.000000000",
          "2026-02-01T00:00:00.000000000",
          "2026-01-01T00:00:00.000000000",
          "2025-12-01T00:00:00.000000000",
          "2025-11-01T00:00:00.000000000",
          "2025-10-01T00:00:00.000000000",
          "2025-09-01T00:00:00.000000000",
          "2025-08-01T00:00:00.000000000",
          "2025-07-01T00:00:00.000000000",
          "2025-06-01T00:00:00.000000000",
          "2025-05-01T00:00:00.000000000"
         ],
         "xaxis": "x12",
         "y": {
          "bdata": "GL22Qeg4QMDQqmXXnUhRwPIPES4mLV7AK8NLkVw3YMCXyE3jiUdgwFWZtB8+E1zAZAQ12DSgVcCHk/VL8j4UwCfz/uwwHETAil2nFSObJUAi9FlP+VZzQNYmwbjBI3JA8/ObgmINdkCH1wkkGdJzQOhNkEukn2tA5p+fPgYCZUDvNLYY6GtbQAmKNni8+WBAZqjxDrWOa0Dj1TAcKNJyQA==",
          "dtype": "f8"
         },
         "yaxis": "y12"
        },
        {
         "hovertemplate": "Date: %{x}<br>Value: %{y}<br>Model: GP",
         "line": {
          "color": "blue",
          "shape": "linear",
          "width": 2
         },
         "marker": {
          "size": 4
         },
         "mode": "lines+markers",
         "name": "GP",
         "showlegend": false,
         "type": "scatter",
         "x": [
          "2025-05-01T00:00:00.000000000",
          "2025-06-01T00:00:00.000000000",
          "2025-07-01T00:00:00.000000000",
          "2025-08-01T00:00:00.000000000",
          "2025-09-01T00:00:00.000000000",
          "2025-10-01T00:00:00.000000000",
          "2025-11-01T00:00:00.000000000",
          "2025-12-01T00:00:00.000000000",
          "2026-01-01T00:00:00.000000000",
          "2026-02-01T00:00:00.000000000"
         ],
         "xaxis": "x12",
         "y": {
          "bdata": "nsZSMcyYYEAVjDbHJdtSQIDR2vC94SdAKhgUaQI/GEBGqw8XZmQ2QDhl2hmuqEhAYTW/2lcXVUBfzWh6d/phQJYmLDRvOFdAWqEzWNdMX0A=",
          "dtype": "f8"
         },
         "yaxis": "y12"
        },
        {
         "fill": "toself",
         "fillcolor": "rgba(169, 169, 169, 0.2)",
         "hovertemplate": "Date: %{x}<br>Conf: 95%<br>Value: %{y}",
         "line": {
          "color": "rgba(255,255,255,0)"
         },
         "showlegend": false,
         "type": "scatter",
         "x": [
          "2025-05-01T00:00:00.000000000",
          "2025-06-01T00:00:00.000000000",
          "2025-07-01T00:00:00.000000000",
          "2025-08-01T00:00:00.000000000",
          "2025-09-01T00:00:00.000000000",
          "2025-10-01T00:00:00.000000000",
          "2025-11-01T00:00:00.000000000",
          "2025-12-01T00:00:00.000000000",
          "2026-01-01T00:00:00.000000000",
          "2026-02-01T00:00:00.000000000",
          "2026-02-01T00:00:00.000000000",
          "2026-01-01T00:00:00.000000000",
          "2025-12-01T00:00:00.000000000",
          "2025-11-01T00:00:00.000000000",
          "2025-10-01T00:00:00.000000000",
          "2025-09-01T00:00:00.000000000",
          "2025-08-01T00:00:00.000000000",
          "2025-07-01T00:00:00.000000000",
          "2025-06-01T00:00:00.000000000",
          "2025-05-01T00:00:00.000000000"
         ],
         "xaxis": "x12",
         "y": {
          "bdata": "GL22Qeg4QMDQqmXXnUhRwPIPES4mLV7AK8NLkVw3YMCXyE3jiUdgwFWZtB8+E1zAZAQ12DSgVcCHk/VL8j4UwCfz/uwwHETAil2nFSObJUAi9FlP+VZzQNYmwbjBI3JA8/ObgmINdkCH1wkkGdJzQOhNkEukn2tA5p+fPgYCZUDvNLYY6GtbQAmKNni8+WBAZqjxDrWOa0Dj1TAcKNJyQA==",
          "dtype": "f8"
         },
         "yaxis": "y12"
        },
        {
         "hovertemplate": "Date: %{x}<br>Value: %{y}<br>Model: RF",
         "line": {
          "color": "green",
          "shape": "linear",
          "width": 2
         },
         "marker": {
          "size": 4
         },
         "mode": "lines+markers",
         "name": "RF",
         "showlegend": false,
         "type": "scatter",
         "x": [
          "2025-05-01T00:00:00.000000000",
          "2025-06-01T00:00:00.000000000",
          "2025-07-01T00:00:00.000000000",
          "2025-08-01T00:00:00.000000000",
          "2025-09-01T00:00:00.000000000",
          "2025-10-01T00:00:00.000000000",
          "2025-11-01T00:00:00.000000000",
          "2025-12-01T00:00:00.000000000",
          "2026-01-01T00:00:00.000000000",
          "2026-02-01T00:00:00.000000000"
         ],
         "xaxis": "x12",
         "y": {
          "bdata": "LiKhrhs6RkA5xJvfcCtAQCBaKzgkvyhA4FksFQRZEEAHs8gZuMfhPw6IAAw0uRlAr3+uISnUYED5s0c0F4pgQNNSZWjy1FpAa6cgj7tuXkA=",
          "dtype": "f8"
         },
         "yaxis": "y12"
        },
        {
         "fill": "toself",
         "fillcolor": "rgba(169, 169, 169, 0.2)",
         "hovertemplate": "Date: %{x}<br>Conf: 95%<br>Value: %{y}",
         "line": {
          "color": "rgba(255,255,255,0)"
         },
         "showlegend": false,
         "type": "scatter",
         "x": [
          "2025-05-01T00:00:00.000000000",
          "2025-06-01T00:00:00.000000000",
          "2025-07-01T00:00:00.000000000",
          "2025-08-01T00:00:00.000000000",
          "2025-09-01T00:00:00.000000000",
          "2025-10-01T00:00:00.000000000",
          "2025-11-01T00:00:00.000000000",
          "2025-12-01T00:00:00.000000000",
          "2026-01-01T00:00:00.000000000",
          "2026-02-01T00:00:00.000000000",
          "2026-02-01T00:00:00.000000000",
          "2026-01-01T00:00:00.000000000",
          "2025-12-01T00:00:00.000000000",
          "2025-11-01T00:00:00.000000000",
          "2025-10-01T00:00:00.000000000",
          "2025-09-01T00:00:00.000000000",
          "2025-08-01T00:00:00.000000000",
          "2025-07-01T00:00:00.000000000",
          "2025-06-01T00:00:00.000000000",
          "2025-05-01T00:00:00.000000000"
         ],
         "xaxis": "x12",
         "y": {
          "bdata": "GL22Qeg4QMDQqmXXnUhRwPIPES4mLV7AK8NLkVw3YMCXyE3jiUdgwFWZtB8+E1zAZAQ12DSgVcCHk/VL8j4UwCfz/uwwHETAil2nFSObJUAi9FlP+VZzQNYmwbjBI3JA8/ObgmINdkCH1wkkGdJzQOhNkEukn2tA5p+fPgYCZUDvNLYY6GtbQAmKNni8+WBAZqjxDrWOa0Dj1TAcKNJyQA==",
          "dtype": "f8"
         },
         "yaxis": "y12"
        },
        {
         "hovertemplate": "Date: %{x}<br>Value: %{y}<br>Model: LR",
         "line": {
          "color": "red",
          "shape": "linear",
          "width": 2
         },
         "marker": {
          "size": 4
         },
         "mode": "lines+markers",
         "name": "LR",
         "showlegend": false,
         "type": "scatter",
         "x": [
          "2025-05-01T00:00:00.000000000",
          "2025-06-01T00:00:00.000000000",
          "2025-07-01T00:00:00.000000000",
          "2025-08-01T00:00:00.000000000",
          "2025-09-01T00:00:00.000000000",
          "2025-10-01T00:00:00.000000000",
          "2025-11-01T00:00:00.000000000",
          "2025-12-01T00:00:00.000000000",
          "2026-01-01T00:00:00.000000000",
          "2026-02-01T00:00:00.000000000"
         ],
         "xaxis": "x12",
         "y": {
          "bdata": "1sK48IZMWUAc8Wb3sLFKQPcdtXtp2jDAkvAiVEp6QMAGoRENV502wD3mca5bIkJA5jFeaHxKTUCWf26MjVZcQOL4Gv5wqkxAuXp7d3lUWkA=",
          "dtype": "f8"
         },
         "yaxis": "y12"
        },
        {
         "fill": "toself",
         "fillcolor": "rgba(169, 169, 169, 0.2)",
         "hovertemplate": "Date: %{x}<br>Conf: 95%<br>Value: %{y}",
         "line": {
          "color": "rgba(255,255,255,0)"
         },
         "showlegend": false,
         "type": "scatter",
         "x": [
          "2025-05-01T00:00:00.000000000",
          "2025-06-01T00:00:00.000000000",
          "2025-07-01T00:00:00.000000000",
          "2025-08-01T00:00:00.000000000",
          "2025-09-01T00:00:00.000000000",
          "2025-10-01T00:00:00.000000000",
          "2025-11-01T00:00:00.000000000",
          "2025-12-01T00:00:00.000000000",
          "2026-01-01T00:00:00.000000000",
          "2026-02-01T00:00:00.000000000",
          "2026-02-01T00:00:00.000000000",
          "2026-01-01T00:00:00.000000000",
          "2025-12-01T00:00:00.000000000",
          "2025-11-01T00:00:00.000000000",
          "2025-10-01T00:00:00.000000000",
          "2025-09-01T00:00:00.000000000",
          "2025-08-01T00:00:00.000000000",
          "2025-07-01T00:00:00.000000000",
          "2025-06-01T00:00:00.000000000",
          "2025-05-01T00:00:00.000000000"
         ],
         "xaxis": "x12",
         "y": {
          "bdata": "GL22Qeg4QMDQqmXXnUhRwPIPES4mLV7AK8NLkVw3YMCXyE3jiUdgwFWZtB8+E1zAZAQ12DSgVcCHk/VL8j4UwCfz/uwwHETAil2nFSObJUAi9FlP+VZzQNYmwbjBI3JA8/ObgmINdkCH1wkkGdJzQOhNkEukn2tA5p+fPgYCZUDvNLYY6GtbQAmKNni8+WBAZqjxDrWOa0Dj1TAcKNJyQA==",
          "dtype": "f8"
         },
         "yaxis": "y12"
        },
        {
         "hovertemplate": "Date: %{x}<br>Value: %{y}<br>Model: NN",
         "line": {
          "color": "purple",
          "shape": "linear",
          "width": 2
         },
         "marker": {
          "size": 4
         },
         "mode": "lines+markers",
         "name": "NN",
         "showlegend": false,
         "type": "scatter",
         "x": [
          "2025-05-01T00:00:00.000000000",
          "2025-06-01T00:00:00.000000000",
          "2025-07-01T00:00:00.000000000",
          "2025-08-01T00:00:00.000000000",
          "2025-09-01T00:00:00.000000000",
          "2025-10-01T00:00:00.000000000",
          "2025-11-01T00:00:00.000000000",
          "2025-12-01T00:00:00.000000000",
          "2026-01-01T00:00:00.000000000",
          "2026-02-01T00:00:00.000000000"
         ],
         "xaxis": "x12",
         "y": {
          "bdata": "kb9i3n21XED4heROCKFPQLP7LTCOSCNA/y4qPRnkCMC5gEelqUAcQNmyZaPKOBpA9+vSg2TXUkB5gVwRNC5kQAAAINN1r19AAABATXc7YUA=",
          "dtype": "f8"
         },
         "yaxis": "y12"
        },
        {
         "line": {
          "color": "black"
         },
         "mode": "lines",
         "showlegend": false,
         "type": "scatter",
         "x": [
          "2025-05-01T00:00:00",
          "2026-02-01T00:00:00"
         ],
         "xaxis": "x12",
         "y": [
          0,
          0
         ],
         "yaxis": "y12"
        },
        {
         "fill": "toself",
         "fillcolor": "rgba(169, 169, 169, 0.2)",
         "hovertemplate": "Date: %{x}<br>Conf: 95%<br>Value: %{y}",
         "line": {
          "color": "rgba(255,255,255,0)"
         },
         "showlegend": false,
         "type": "scatter",
         "x": [
          "2025-05-01T00:00:00.000000000",
          "2025-06-01T00:00:00.000000000",
          "2025-07-01T00:00:00.000000000",
          "2025-08-01T00:00:00.000000000",
          "2025-09-01T00:00:00.000000000",
          "2025-10-01T00:00:00.000000000",
          "2025-11-01T00:00:00.000000000",
          "2025-12-01T00:00:00.000000000",
          "2026-01-01T00:00:00.000000000",
          "2026-02-01T00:00:00.000000000",
          "2026-02-01T00:00:00.000000000",
          "2026-01-01T00:00:00.000000000",
          "2025-12-01T00:00:00.000000000",
          "2025-11-01T00:00:00.000000000",
          "2025-10-01T00:00:00.000000000",
          "2025-09-01T00:00:00.000000000",
          "2025-08-01T00:00:00.000000000",
          "2025-07-01T00:00:00.000000000",
          "2025-06-01T00:00:00.000000000",
          "2025-05-01T00:00:00.000000000"
         ],
         "xaxis": "x13",
         "y": {
          "bdata": "FjZqfjObQEAWpbEyqaBBQG4UfuuqnEBAskKCPQUARUBVzc/88mZIQAop3VzwikNA+4ZQKlwlRkA4hpdPsYNGQPJhFraoEEBAfyrwDT3ROUAAAAAkEb9ZQMCV7JNgGF1AH/sy3nDzXkCWxafuQRNiQAAAAHDlymFAvIWlwa2VYkA3upn42QdgQGZmZlbdO19AelbOckWlYUCFvWJw54FhQA==",
          "dtype": "f8"
         },
         "yaxis": "y13"
        },
        {
         "hovertemplate": "Date: %{x}<br>Value: %{y}<br>Model: GP",
         "line": {
          "color": "blue",
          "shape": "linear",
          "width": 2
         },
         "marker": {
          "size": 4
         },
         "mode": "lines+markers",
         "name": "GP",
         "showlegend": false,
         "type": "scatter",
         "x": [
          "2025-05-01T00:00:00.000000000",
          "2025-06-01T00:00:00.000000000",
          "2025-07-01T00:00:00.000000000",
          "2025-08-01T00:00:00.000000000",
          "2025-09-01T00:00:00.000000000",
          "2025-10-01T00:00:00.000000000",
          "2025-11-01T00:00:00.000000000",
          "2025-12-01T00:00:00.000000000",
          "2026-01-01T00:00:00.000000000",
          "2026-02-01T00:00:00.000000000"
         ],
         "xaxis": "x13",
         "y": {
          "bdata": "I5MegzLFU0CJpZpZYV5UQPEYoAN9xFFA3V6Sw77SUkDGXzZ9tUdWQBlpqpUWV1VA2ysHWx6sVUBrqfB4+PBRQHD1/pD6lUxAIYk2KqblSUA=",
          "dtype": "f8"
         },
         "yaxis": "y13"
        },
        {
         "fill": "toself",
         "fillcolor": "rgba(169, 169, 169, 0.2)",
         "hovertemplate": "Date: %{x}<br>Conf: 95%<br>Value: %{y}",
         "line": {
          "color": "rgba(255,255,255,0)"
         },
         "showlegend": false,
         "type": "scatter",
         "x": [
          "2025-05-01T00:00:00.000000000",
          "2025-06-01T00:00:00.000000000",
          "2025-07-01T00:00:00.000000000",
          "2025-08-01T00:00:00.000000000",
          "2025-09-01T00:00:00.000000000",
          "2025-10-01T00:00:00.000000000",
          "2025-11-01T00:00:00.000000000",
          "2025-12-01T00:00:00.000000000",
          "2026-01-01T00:00:00.000000000",
          "2026-02-01T00:00:00.000000000",
          "2026-02-01T00:00:00.000000000",
          "2026-01-01T00:00:00.000000000",
          "2025-12-01T00:00:00.000000000",
          "2025-11-01T00:00:00.000000000",
          "2025-10-01T00:00:00.000000000",
          "2025-09-01T00:00:00.000000000",
          "2025-08-01T00:00:00.000000000",
          "2025-07-01T00:00:00.000000000",
          "2025-06-01T00:00:00.000000000",
          "2025-05-01T00:00:00.000000000"
         ],
         "xaxis": "x13",
         "y": {
          "bdata": "FjZqfjObQEAWpbEyqaBBQG4UfuuqnEBAskKCPQUARUBVzc/88mZIQAop3VzwikNA+4ZQKlwlRkA4hpdPsYNGQPJhFraoEEBAfyrwDT3ROUAAAAAkEb9ZQMCV7JNgGF1AH/sy3nDzXkCWxafuQRNiQAAAAHDlymFAvIWlwa2VYkA3upn42QdgQGZmZlbdO19AelbOckWlYUCFvWJw54FhQA==",
          "dtype": "f8"
         },
         "yaxis": "y13"
        },
        {
         "hovertemplate": "Date: %{x}<br>Value: %{y}<br>Model: RF",
         "line": {
          "color": "green",
          "shape": "linear",
          "width": 2
         },
         "marker": {
          "size": 4
         },
         "mode": "lines+markers",
         "name": "RF",
         "showlegend": false,
         "type": "scatter",
         "x": [
          "2025-05-01T00:00:00.000000000",
          "2025-06-01T00:00:00.000000000",
          "2025-07-01T00:00:00.000000000",
          "2025-08-01T00:00:00.000000000",
          "2025-09-01T00:00:00.000000000",
          "2025-10-01T00:00:00.000000000",
          "2025-11-01T00:00:00.000000000",
          "2025-12-01T00:00:00.000000000",
          "2026-01-01T00:00:00.000000000",
          "2026-02-01T00:00:00.000000000"
         ],
         "xaxis": "x13",
         "y": {
          "bdata": "QgAv/nX+WUAKlBiBTqZZQFM5A7jYFldA0ehsFII5V0BymaoGryZYQFDXyLdJmVVAhgPGrMY1VUAjr1GqI+RSQJ8Va/YlH1FABKrDncsJT0A=",
          "dtype": "f8"
         },
         "yaxis": "y13"
        },
        {
         "fill": "toself",
         "fillcolor": "rgba(169, 169, 169, 0.2)",
         "hovertemplate": "Date: %{x}<br>Conf: 95%<br>Value: %{y}",
         "line": {
          "color": "rgba(255,255,255,0)"
         },
         "showlegend": false,
         "type": "scatter",
         "x": [
          "2025-05-01T00:00:00.000000000",
          "2025-06-01T00:00:00.000000000",
          "2025-07-01T00:00:00.000000000",
          "2025-08-01T00:00:00.000000000",
          "2025-09-01T00:00:00.000000000",
          "2025-10-01T00:00:00.000000000",
          "2025-11-01T00:00:00.000000000",
          "2025-12-01T00:00:00.000000000",
          "2026-01-01T00:00:00.000000000",
          "2026-02-01T00:00:00.000000000",
          "2026-02-01T00:00:00.000000000",
          "2026-01-01T00:00:00.000000000",
          "2025-12-01T00:00:00.000000000",
          "2025-11-01T00:00:00.000000000",
          "2025-10-01T00:00:00.000000000",
          "2025-09-01T00:00:00.000000000",
          "2025-08-01T00:00:00.000000000",
          "2025-07-01T00:00:00.000000000",
          "2025-06-01T00:00:00.000000000",
          "2025-05-01T00:00:00.000000000"
         ],
         "xaxis": "x13",
         "y": {
          "bdata": "FjZqfjObQEAWpbEyqaBBQG4UfuuqnEBAskKCPQUARUBVzc/88mZIQAop3VzwikNA+4ZQKlwlRkA4hpdPsYNGQPJhFraoEEBAfyrwDT3ROUAAAAAkEb9ZQMCV7JNgGF1AH/sy3nDzXkCWxafuQRNiQAAAAHDlymFAvIWlwa2VYkA3upn42QdgQGZmZlbdO19AelbOckWlYUCFvWJw54FhQA==",
          "dtype": "f8"
         },
         "yaxis": "y13"
        },
        {
         "hovertemplate": "Date: %{x}<br>Value: %{y}<br>Model: LR",
         "line": {
          "color": "red",
          "shape": "linear",
          "width": 2
         },
         "marker": {
          "size": 4
         },
         "mode": "lines+markers",
         "name": "LR",
         "showlegend": false,
         "type": "scatter",
         "x": [
          "2025-05-01T00:00:00.000000000",
          "2025-06-01T00:00:00.000000000",
          "2025-07-01T00:00:00.000000000",
          "2025-08-01T00:00:00.000000000",
          "2025-09-01T00:00:00.000000000",
          "2025-10-01T00:00:00.000000000",
          "2025-11-01T00:00:00.000000000",
          "2025-12-01T00:00:00.000000000",
          "2026-01-01T00:00:00.000000000",
          "2026-02-01T00:00:00.000000000"
         ],
         "xaxis": "x13",
         "y": {
          "bdata": "Ee+xK0/XUUDTB+IZ2KNRQILwigTuuU9APFe3vbFyUUBm5nL8rUNVQN/g4ilimVdAKrq3YZX3WEA3+Lj6jglVQJtAiyO45lBAC8HUoNOhT0A=",
          "dtype": "f8"
         },
         "yaxis": "y13"
        },
        {
         "fill": "toself",
         "fillcolor": "rgba(169, 169, 169, 0.2)",
         "hovertemplate": "Date: %{x}<br>Conf: 95%<br>Value: %{y}",
         "line": {
          "color": "rgba(255,255,255,0)"
         },
         "showlegend": false,
         "type": "scatter",
         "x": [
          "2025-05-01T00:00:00.000000000",
          "2025-06-01T00:00:00.000000000",
          "2025-07-01T00:00:00.000000000",
          "2025-08-01T00:00:00.000000000",
          "2025-09-01T00:00:00.000000000",
          "2025-10-01T00:00:00.000000000",
          "2025-11-01T00:00:00.000000000",
          "2025-12-01T00:00:00.000000000",
          "2026-01-01T00:00:00.000000000",
          "2026-02-01T00:00:00.000000000",
          "2026-02-01T00:00:00.000000000",
          "2026-01-01T00:00:00.000000000",
          "2025-12-01T00:00:00.000000000",
          "2025-11-01T00:00:00.000000000",
          "2025-10-01T00:00:00.000000000",
          "2025-09-01T00:00:00.000000000",
          "2025-08-01T00:00:00.000000000",
          "2025-07-01T00:00:00.000000000",
          "2025-06-01T00:00:00.000000000",
          "2025-05-01T00:00:00.000000000"
         ],
         "xaxis": "x13",
         "y": {
          "bdata": "FjZqfjObQEAWpbEyqaBBQG4UfuuqnEBAskKCPQUARUBVzc/88mZIQAop3VzwikNA+4ZQKlwlRkA4hpdPsYNGQPJhFraoEEBAfyrwDT3ROUAAAAAkEb9ZQMCV7JNgGF1AH/sy3nDzXkCWxafuQRNiQAAAAHDlymFAvIWlwa2VYkA3upn42QdgQGZmZlbdO19AelbOckWlYUCFvWJw54FhQA==",
          "dtype": "f8"
         },
         "yaxis": "y13"
        },
        {
         "hovertemplate": "Date: %{x}<br>Value: %{y}<br>Model: NN",
         "line": {
          "color": "purple",
          "shape": "linear",
          "width": 2
         },
         "marker": {
          "size": 4
         },
         "mode": "lines+markers",
         "name": "NN",
         "showlegend": false,
         "type": "scatter",
         "x": [
          "2025-05-01T00:00:00.000000000",
          "2025-06-01T00:00:00.000000000",
          "2025-07-01T00:00:00.000000000",
          "2025-08-01T00:00:00.000000000",
          "2025-09-01T00:00:00.000000000",
          "2025-10-01T00:00:00.000000000",
          "2025-11-01T00:00:00.000000000",
          "2025-12-01T00:00:00.000000000",
          "2026-01-01T00:00:00.000000000",
          "2026-02-01T00:00:00.000000000"
         ],
         "xaxis": "x13",
         "y": {
          "bdata": "9waU2WnBU0BgjQlrUORWQI6y++tFC1NAXgwqVpJ/VUCegzU3WaJXQA4cOM/RY1RAPEegMLjlVEDd0wi/eqFSQCVJ0mjEb1BAsRM71XaFSkA=",
          "dtype": "f8"
         },
         "yaxis": "y13"
        },
        {
         "line": {
          "color": "black"
         },
         "mode": "lines",
         "showlegend": false,
         "type": "scatter",
         "x": [
          "2025-05-01T00:00:00",
          "2026-02-01T00:00:00"
         ],
         "xaxis": "x13",
         "y": [
          0,
          0
         ],
         "yaxis": "y13"
        },
        {
         "fill": "toself",
         "fillcolor": "rgba(169, 169, 169, 0.2)",
         "hovertemplate": "Date: %{x}<br>Conf: 95%<br>Value: %{y}",
         "line": {
          "color": "rgba(255,255,255,0)"
         },
         "showlegend": false,
         "type": "scatter",
         "x": [
          "2025-05-01T00:00:00.000000000",
          "2025-06-01T00:00:00.000000000",
          "2025-07-01T00:00:00.000000000",
          "2025-08-01T00:00:00.000000000",
          "2025-09-01T00:00:00.000000000",
          "2025-10-01T00:00:00.000000000",
          "2025-11-01T00:00:00.000000000",
          "2025-12-01T00:00:00.000000000",
          "2026-01-01T00:00:00.000000000",
          "2026-02-01T00:00:00.000000000",
          "2026-02-01T00:00:00.000000000",
          "2026-01-01T00:00:00.000000000",
          "2025-12-01T00:00:00.000000000",
          "2025-11-01T00:00:00.000000000",
          "2025-10-01T00:00:00.000000000",
          "2025-09-01T00:00:00.000000000",
          "2025-08-01T00:00:00.000000000",
          "2025-07-01T00:00:00.000000000",
          "2025-06-01T00:00:00.000000000",
          "2025-05-01T00:00:00.000000000"
         ],
         "xaxis": "x14",
         "y": {
          "bdata": "7mVyKMJySEAAAAD80D1KQM3MzPz1WUxAMzMz2+FaTEAzMzN/GMRMQEZrvuJwo0xAgoQQrGRDT0Ck2ZkWjf1QQIbIYUFKB1FAEpFynMnQSUD82zJo371YQGGTGYzaDltAHNlE0bmUXEB9SOZarmxZQIRVGkDC5VVAjay1KZPJU0AaeaRCmJRUQIxm2oSrl1NAD5dSgDr/UkC9fDJ1xdxSQA==",
          "dtype": "f8"
         },
         "yaxis": "y14"
        },
        {
         "hovertemplate": "Date: %{x}<br>Value: %{y}<br>Model: GP",
         "line": {
          "color": "blue",
          "shape": "linear",
          "width": 2
         },
         "marker": {
          "size": 4
         },
         "mode": "lines+markers",
         "name": "GP",
         "showlegend": false,
         "type": "scatter",
         "x": [
          "2025-05-01T00:00:00.000000000",
          "2025-06-01T00:00:00.000000000",
          "2025-07-01T00:00:00.000000000",
          "2025-08-01T00:00:00.000000000",
          "2025-09-01T00:00:00.000000000",
          "2025-10-01T00:00:00.000000000",
          "2025-11-01T00:00:00.000000000",
          "2025-12-01T00:00:00.000000000",
          "2026-01-01T00:00:00.000000000",
          "2026-02-01T00:00:00.000000000"
         ],
         "xaxis": "x14",
         "y": {
          "bdata": "jUIZW4PxS0A3AIptLbVOQL+NmJ4Sk1BAgOfrcEZ9UUA8z+yqnu1QQAxCh4KWslFAEr63cJTIU0CY1h+kEf1XQC4vBdCIGlZAl9EWDfV/T0A=",
          "dtype": "f8"
         },
         "yaxis": "y14"
        },
        {
         "fill": "toself",
         "fillcolor": "rgba(169, 169, 169, 0.2)",
         "hovertemplate": "Date: %{x}<br>Conf: 95%<br>Value: %{y}",
         "line": {
          "color": "rgba(255,255,255,0)"
         },
         "showlegend": false,
         "type": "scatter",
         "x": [
          "2025-05-01T00:00:00.000000000",
          "2025-06-01T00:00:00.000000000",
          "2025-07-01T00:00:00.000000000",
          "2025-08-01T00:00:00.000000000",
          "2025-09-01T00:00:00.000000000",
          "2025-10-01T00:00:00.000000000",
          "2025-11-01T00:00:00.000000000",
          "2025-12-01T00:00:00.000000000",
          "2026-01-01T00:00:00.000000000",
          "2026-02-01T00:00:00.000000000",
          "2026-02-01T00:00:00.000000000",
          "2026-01-01T00:00:00.000000000",
          "2025-12-01T00:00:00.000000000",
          "2025-11-01T00:00:00.000000000",
          "2025-10-01T00:00:00.000000000",
          "2025-09-01T00:00:00.000000000",
          "2025-08-01T00:00:00.000000000",
          "2025-07-01T00:00:00.000000000",
          "2025-06-01T00:00:00.000000000",
          "2025-05-01T00:00:00.000000000"
         ],
         "xaxis": "x14",
         "y": {
          "bdata": "7mVyKMJySEAAAAD80D1KQM3MzPz1WUxAMzMz2+FaTEAzMzN/GMRMQEZrvuJwo0xAgoQQrGRDT0Ck2ZkWjf1QQIbIYUFKB1FAEpFynMnQSUD82zJo371YQGGTGYzaDltAHNlE0bmUXEB9SOZarmxZQIRVGkDC5VVAjay1KZPJU0AaeaRCmJRUQIxm2oSrl1NAD5dSgDr/UkC9fDJ1xdxSQA==",
          "dtype": "f8"
         },
         "yaxis": "y14"
        },
        {
         "hovertemplate": "Date: %{x}<br>Value: %{y}<br>Model: RF",
         "line": {
          "color": "green",
          "shape": "linear",
          "width": 2
         },
         "marker": {
          "size": 4
         },
         "mode": "lines+markers",
         "name": "RF",
         "showlegend": false,
         "type": "scatter",
         "x": [
          "2025-05-01T00:00:00.000000000",
          "2025-06-01T00:00:00.000000000",
          "2025-07-01T00:00:00.000000000",
          "2025-08-01T00:00:00.000000000",
          "2025-09-01T00:00:00.000000000",
          "2025-10-01T00:00:00.000000000",
          "2025-11-01T00:00:00.000000000",
          "2025-12-01T00:00:00.000000000",
          "2026-01-01T00:00:00.000000000",
          "2026-02-01T00:00:00.000000000"
         ],
         "xaxis": "x14",
         "y": {
          "bdata": "EYiKX+21UUAAGnzbu55QQDG8E8CC609AwwW9MVNTUEDnjls6bfJRQPqLkbvqo1NAdgrWUcDXVEA51DkaEylXQJ6KMkzvbFdAOVAb7827U0A=",
          "dtype": "f8"
         },
         "yaxis": "y14"
        },
        {
         "fill": "toself",
         "fillcolor": "rgba(169, 169, 169, 0.2)",
         "hovertemplate": "Date: %{x}<br>Conf: 95%<br>Value: %{y}",
         "line": {
          "color": "rgba(255,255,255,0)"
         },
         "showlegend": false,
         "type": "scatter",
         "x": [
          "2025-05-01T00:00:00.000000000",
          "2025-06-01T00:00:00.000000000",
          "2025-07-01T00:00:00.000000000",
          "2025-08-01T00:00:00.000000000",
          "2025-09-01T00:00:00.000000000",
          "2025-10-01T00:00:00.000000000",
          "2025-11-01T00:00:00.000000000",
          "2025-12-01T00:00:00.000000000",
          "2026-01-01T00:00:00.000000000",
          "2026-02-01T00:00:00.000000000",
          "2026-02-01T00:00:00.000000000",
          "2026-01-01T00:00:00.000000000",
          "2025-12-01T00:00:00.000000000",
          "2025-11-01T00:00:00.000000000",
          "2025-10-01T00:00:00.000000000",
          "2025-09-01T00:00:00.000000000",
          "2025-08-01T00:00:00.000000000",
          "2025-07-01T00:00:00.000000000",
          "2025-06-01T00:00:00.000000000",
          "2025-05-01T00:00:00.000000000"
         ],
         "xaxis": "x14",
         "y": {
          "bdata": "7mVyKMJySEAAAAD80D1KQM3MzPz1WUxAMzMz2+FaTEAzMzN/GMRMQEZrvuJwo0xAgoQQrGRDT0Ck2ZkWjf1QQIbIYUFKB1FAEpFynMnQSUD82zJo371YQGGTGYzaDltAHNlE0bmUXEB9SOZarmxZQIRVGkDC5VVAjay1KZPJU0AaeaRCmJRUQIxm2oSrl1NAD5dSgDr/UkC9fDJ1xdxSQA==",
          "dtype": "f8"
         },
         "yaxis": "y14"
        },
        {
         "hovertemplate": "Date: %{x}<br>Value: %{y}<br>Model: LR",
         "line": {
          "color": "red",
          "shape": "linear",
          "width": 2
         },
         "marker": {
          "size": 4
         },
         "mode": "lines+markers",
         "name": "LR",
         "showlegend": false,
         "type": "scatter",
         "x": [
          "2025-05-01T00:00:00.000000000",
          "2025-06-01T00:00:00.000000000",
          "2025-07-01T00:00:00.000000000",
          "2025-08-01T00:00:00.000000000",
          "2025-09-01T00:00:00.000000000",
          "2025-10-01T00:00:00.000000000",
          "2025-11-01T00:00:00.000000000",
          "2025-12-01T00:00:00.000000000",
          "2026-01-01T00:00:00.000000000",
          "2026-02-01T00:00:00.000000000"
         ],
         "xaxis": "x14",
         "y": {
          "bdata": "IRsuKSHCT0BDBjezw8ZRQPdYa7/aM1JASUfPkgleUkBQ3D/6qVVRQGA/x6tTWVJAEhkY6WmvVEAJ/GD3lIVYQFvT5BciFFZAUjJIvtCFUEA=",
          "dtype": "f8"
         },
         "yaxis": "y14"
        },
        {
         "fill": "toself",
         "fillcolor": "rgba(169, 169, 169, 0.2)",
         "hovertemplate": "Date: %{x}<br>Conf: 95%<br>Value: %{y}",
         "line": {
          "color": "rgba(255,255,255,0)"
         },
         "showlegend": false,
         "type": "scatter",
         "x": [
          "2025-05-01T00:00:00.000000000",
          "2025-06-01T00:00:00.000000000",
          "2025-07-01T00:00:00.000000000",
          "2025-08-01T00:00:00.000000000",
          "2025-09-01T00:00:00.000000000",
          "2025-10-01T00:00:00.000000000",
          "2025-11-01T00:00:00.000000000",
          "2025-12-01T00:00:00.000000000",
          "2026-01-01T00:00:00.000000000",
          "2026-02-01T00:00:00.000000000",
          "2026-02-01T00:00:00.000000000",
          "2026-01-01T00:00:00.000000000",
          "2025-12-01T00:00:00.000000000",
          "2025-11-01T00:00:00.000000000",
          "2025-10-01T00:00:00.000000000",
          "2025-09-01T00:00:00.000000000",
          "2025-08-01T00:00:00.000000000",
          "2025-07-01T00:00:00.000000000",
          "2025-06-01T00:00:00.000000000",
          "2025-05-01T00:00:00.000000000"
         ],
         "xaxis": "x14",
         "y": {
          "bdata": "7mVyKMJySEAAAAD80D1KQM3MzPz1WUxAMzMz2+FaTEAzMzN/GMRMQEZrvuJwo0xAgoQQrGRDT0Ck2ZkWjf1QQIbIYUFKB1FAEpFynMnQSUD82zJo371YQGGTGYzaDltAHNlE0bmUXEB9SOZarmxZQIRVGkDC5VVAjay1KZPJU0AaeaRCmJRUQIxm2oSrl1NAD5dSgDr/UkC9fDJ1xdxSQA==",
          "dtype": "f8"
         },
         "yaxis": "y14"
        },
        {
         "hovertemplate": "Date: %{x}<br>Value: %{y}<br>Model: NN",
         "line": {
          "color": "purple",
          "shape": "linear",
          "width": 2
         },
         "marker": {
          "size": 4
         },
         "mode": "lines+markers",
         "name": "NN",
         "showlegend": false,
         "type": "scatter",
         "x": [
          "2025-05-01T00:00:00.000000000",
          "2025-06-01T00:00:00.000000000",
          "2025-07-01T00:00:00.000000000",
          "2025-08-01T00:00:00.000000000",
          "2025-09-01T00:00:00.000000000",
          "2025-10-01T00:00:00.000000000",
          "2025-11-01T00:00:00.000000000",
          "2025-12-01T00:00:00.000000000",
          "2026-01-01T00:00:00.000000000",
          "2026-02-01T00:00:00.000000000"
         ],
         "xaxis": "x14",
         "y": {
          "bdata": "W4T8LVoJTEAfqJzdtbdOQIz51BvaOFBAaWXybAcUUUDpD4XccqRQQNmyZVMFOlFA82Hcdw1GVUBK8QIhbJZXQAAAgLex7lVAntiJ6+enUEA=",
          "dtype": "f8"
         },
         "yaxis": "y14"
        },
        {
         "line": {
          "color": "black"
         },
         "mode": "lines",
         "showlegend": false,
         "type": "scatter",
         "x": [
          "2025-05-01T00:00:00",
          "2026-02-01T00:00:00"
         ],
         "xaxis": "x14",
         "y": [
          0,
          0
         ],
         "yaxis": "y14"
        },
        {
         "fill": "toself",
         "fillcolor": "rgba(169, 169, 169, 0.2)",
         "hovertemplate": "Date: %{x}<br>Conf: 95%<br>Value: %{y}",
         "line": {
          "color": "rgba(255,255,255,0)"
         },
         "showlegend": false,
         "type": "scatter",
         "x": [
          "2025-05-01T00:00:00.000000000",
          "2025-06-01T00:00:00.000000000",
          "2025-07-01T00:00:00.000000000",
          "2025-08-01T00:00:00.000000000",
          "2025-09-01T00:00:00.000000000",
          "2025-10-01T00:00:00.000000000",
          "2025-11-01T00:00:00.000000000",
          "2025-12-01T00:00:00.000000000",
          "2026-01-01T00:00:00.000000000",
          "2026-02-01T00:00:00.000000000",
          "2026-02-01T00:00:00.000000000",
          "2026-01-01T00:00:00.000000000",
          "2025-12-01T00:00:00.000000000",
          "2025-11-01T00:00:00.000000000",
          "2025-10-01T00:00:00.000000000",
          "2025-09-01T00:00:00.000000000",
          "2025-08-01T00:00:00.000000000",
          "2025-07-01T00:00:00.000000000",
          "2025-06-01T00:00:00.000000000",
          "2025-05-01T00:00:00.000000000"
         ],
         "xaxis": "x15",
         "y": {
          "bdata": "mpmZmSg0UkC99vAjf65NQBJ7SDcGCEBAjutTEE+FP0AAAACoIudEQAAAACg/d1JAMzMz/+WXW0Dmnn1vmi5gQNBDgjAgoFtAAAAA8DUOVUDbo0GDQS5nQGwZPoibFmlAY+8ipfVSbkAfD2DTrPZrQHB1Y6zjXmdAyeijvEMVYEA2O7KS2YZXQKjFFd6T11ZAE+WngICFYEBTwW8cpCxpQA==",
          "dtype": "f8"
         },
         "yaxis": "y15"
        },
        {
         "hovertemplate": "Date: %{x}<br>Value: %{y}<br>Model: GP",
         "line": {
          "color": "blue",
          "shape": "linear",
          "width": 2
         },
         "marker": {
          "size": 4
         },
         "mode": "lines+markers",
         "name": "GP",
         "showlegend": false,
         "type": "scatter",
         "x": [
          "2025-05-01T00:00:00.000000000",
          "2025-06-01T00:00:00.000000000",
          "2025-07-01T00:00:00.000000000",
          "2025-08-01T00:00:00.000000000",
          "2025-09-01T00:00:00.000000000",
          "2025-10-01T00:00:00.000000000",
          "2025-11-01T00:00:00.000000000",
          "2025-12-01T00:00:00.000000000",
          "2026-01-01T00:00:00.000000000",
          "2026-02-01T00:00:00.000000000"
         ],
         "xaxis": "x15",
         "y": {
          "bdata": "W1PPB/8wYkAgJ+Sv+O1UQIJAdTpKIU1AEBy3WXDYTkA1nqUgvK9VQMqO06PVt2BAq8tsFccFZEAktJ1o3QhmQPft+vEwv2FArjwi8oUSXkA=",
          "dtype": "f8"
         },
         "yaxis": "y15"
        },
        {
         "fill": "toself",
         "fillcolor": "rgba(169, 169, 169, 0.2)",
         "hovertemplate": "Date: %{x}<br>Conf: 95%<br>Value: %{y}",
         "line": {
          "color": "rgba(255,255,255,0)"
         },
         "showlegend": false,
         "type": "scatter",
         "x": [
          "2025-05-01T00:00:00.000000000",
          "2025-06-01T00:00:00.000000000",
          "2025-07-01T00:00:00.000000000",
          "2025-08-01T00:00:00.000000000",
          "2025-09-01T00:00:00.000000000",
          "2025-10-01T00:00:00.000000000",
          "2025-11-01T00:00:00.000000000",
          "2025-12-01T00:00:00.000000000",
          "2026-01-01T00:00:00.000000000",
          "2026-02-01T00:00:00.000000000",
          "2026-02-01T00:00:00.000000000",
          "2026-01-01T00:00:00.000000000",
          "2025-12-01T00:00:00.000000000",
          "2025-11-01T00:00:00.000000000",
          "2025-10-01T00:00:00.000000000",
          "2025-09-01T00:00:00.000000000",
          "2025-08-01T00:00:00.000000000",
          "2025-07-01T00:00:00.000000000",
          "2025-06-01T00:00:00.000000000",
          "2025-05-01T00:00:00.000000000"
         ],
         "xaxis": "x15",
         "y": {
          "bdata": "mpmZmSg0UkC99vAjf65NQBJ7SDcGCEBAjutTEE+FP0AAAACoIudEQAAAACg/d1JAMzMz/+WXW0Dmnn1vmi5gQNBDgjAgoFtAAAAA8DUOVUDbo0GDQS5nQGwZPoibFmlAY+8ipfVSbkAfD2DTrPZrQHB1Y6zjXmdAyeijvEMVYEA2O7KS2YZXQKjFFd6T11ZAE+WngICFYEBTwW8cpCxpQA==",
          "dtype": "f8"
         },
         "yaxis": "y15"
        },
        {
         "hovertemplate": "Date: %{x}<br>Value: %{y}<br>Model: RF",
         "line": {
          "color": "green",
          "shape": "linear",
          "width": 2
         },
         "marker": {
          "size": 4
         },
         "mode": "lines+markers",
         "name": "RF",
         "showlegend": false,
         "type": "scatter",
         "x": [
          "2025-05-01T00:00:00.000000000",
          "2025-06-01T00:00:00.000000000",
          "2025-07-01T00:00:00.000000000",
          "2025-08-01T00:00:00.000000000",
          "2025-09-01T00:00:00.000000000",
          "2025-10-01T00:00:00.000000000",
          "2025-11-01T00:00:00.000000000",
          "2025-12-01T00:00:00.000000000",
          "2026-01-01T00:00:00.000000000",
          "2026-02-01T00:00:00.000000000"
         ],
         "xaxis": "x15",
         "y": {
          "bdata": "Ue0+t8WnWEBD3B6v8XtTQHdb/AFlWlFAhushX280UUAB6P6KXshTQHkBxkM/Ml5ALt+D5tfjZEDKkJSKLxRkQEnIfW0hfmJAwiH80e5CYUA=",
          "dtype": "f8"
         },
         "yaxis": "y15"
        },
        {
         "fill": "toself",
         "fillcolor": "rgba(169, 169, 169, 0.2)",
         "hovertemplate": "Date: %{x}<br>Conf: 95%<br>Value: %{y}",
         "line": {
          "color": "rgba(255,255,255,0)"
         },
         "showlegend": false,
         "type": "scatter",
         "x": [
          "2025-05-01T00:00:00.000000000",
          "2025-06-01T00:00:00.000000000",
          "2025-07-01T00:00:00.000000000",
          "2025-08-01T00:00:00.000000000",
          "2025-09-01T00:00:00.000000000",
          "2025-10-01T00:00:00.000000000",
          "2025-11-01T00:00:00.000000000",
          "2025-12-01T00:00:00.000000000",
          "2026-01-01T00:00:00.000000000",
          "2026-02-01T00:00:00.000000000",
          "2026-02-01T00:00:00.000000000",
          "2026-01-01T00:00:00.000000000",
          "2025-12-01T00:00:00.000000000",
          "2025-11-01T00:00:00.000000000",
          "2025-10-01T00:00:00.000000000",
          "2025-09-01T00:00:00.000000000",
          "2025-08-01T00:00:00.000000000",
          "2025-07-01T00:00:00.000000000",
          "2025-06-01T00:00:00.000000000",
          "2025-05-01T00:00:00.000000000"
         ],
         "xaxis": "x15",
         "y": {
          "bdata": "mpmZmSg0UkC99vAjf65NQBJ7SDcGCEBAjutTEE+FP0AAAACoIudEQAAAACg/d1JAMzMz/+WXW0Dmnn1vmi5gQNBDgjAgoFtAAAAA8DUOVUDbo0GDQS5nQGwZPoibFmlAY+8ipfVSbkAfD2DTrPZrQHB1Y6zjXmdAyeijvEMVYEA2O7KS2YZXQKjFFd6T11ZAE+WngICFYEBTwW8cpCxpQA==",
          "dtype": "f8"
         },
         "yaxis": "y15"
        },
        {
         "hovertemplate": "Date: %{x}<br>Value: %{y}<br>Model: LR",
         "line": {
          "color": "red",
          "shape": "linear",
          "width": 2
         },
         "marker": {
          "size": 4
         },
         "mode": "lines+markers",
         "name": "LR",
         "showlegend": false,
         "type": "scatter",
         "x": [
          "2025-05-01T00:00:00.000000000",
          "2025-06-01T00:00:00.000000000",
          "2025-07-01T00:00:00.000000000",
          "2025-08-01T00:00:00.000000000",
          "2025-09-01T00:00:00.000000000",
          "2025-10-01T00:00:00.000000000",
          "2025-11-01T00:00:00.000000000",
          "2025-12-01T00:00:00.000000000",
          "2026-01-01T00:00:00.000000000",
          "2026-02-01T00:00:00.000000000"
         ],
         "xaxis": "x15",
         "y": {
          "bdata": "STpXhKdqYkAwPXVILNVXQF1HEqxlBU5AMVwQrepVT0CFa9O4LvVWQOL2WroNXGJAUV3JhsnYZkBbS/BrtL5pQGpLhxVNVmVABPOe4cGoYkA=",
          "dtype": "f8"
         },
         "yaxis": "y15"
        },
        {
         "fill": "toself",
         "fillcolor": "rgba(169, 169, 169, 0.2)",
         "hovertemplate": "Date: %{x}<br>Conf: 95%<br>Value: %{y}",
         "line": {
          "color": "rgba(255,255,255,0)"
         },
         "showlegend": false,
         "type": "scatter",
         "x": [
          "2025-05-01T00:00:00.000000000",
          "2025-06-01T00:00:00.000000000",
          "2025-07-01T00:00:00.000000000",
          "2025-08-01T00:00:00.000000000",
          "2025-09-01T00:00:00.000000000",
          "2025-10-01T00:00:00.000000000",
          "2025-11-01T00:00:00.000000000",
          "2025-12-01T00:00:00.000000000",
          "2026-01-01T00:00:00.000000000",
          "2026-02-01T00:00:00.000000000",
          "2026-02-01T00:00:00.000000000",
          "2026-01-01T00:00:00.000000000",
          "2025-12-01T00:00:00.000000000",
          "2025-11-01T00:00:00.000000000",
          "2025-10-01T00:00:00.000000000",
          "2025-09-01T00:00:00.000000000",
          "2025-08-01T00:00:00.000000000",
          "2025-07-01T00:00:00.000000000",
          "2025-06-01T00:00:00.000000000",
          "2025-05-01T00:00:00.000000000"
         ],
         "xaxis": "x15",
         "y": {
          "bdata": "mpmZmSg0UkC99vAjf65NQBJ7SDcGCEBAjutTEE+FP0AAAACoIudEQAAAACg/d1JAMzMz/+WXW0Dmnn1vmi5gQNBDgjAgoFtAAAAA8DUOVUDbo0GDQS5nQGwZPoibFmlAY+8ipfVSbkAfD2DTrPZrQHB1Y6zjXmdAyeijvEMVYEA2O7KS2YZXQKjFFd6T11ZAE+WngICFYEBTwW8cpCxpQA==",
          "dtype": "f8"
         },
         "yaxis": "y15"
        },
        {
         "hovertemplate": "Date: %{x}<br>Value: %{y}<br>Model: NN",
         "line": {
          "color": "purple",
          "shape": "linear",
          "width": 2
         },
         "marker": {
          "size": 4
         },
         "mode": "lines+markers",
         "name": "NN",
         "showlegend": false,
         "type": "scatter",
         "x": [
          "2025-05-01T00:00:00.000000000",
          "2025-06-01T00:00:00.000000000",
          "2025-07-01T00:00:00.000000000",
          "2025-08-01T00:00:00.000000000",
          "2025-09-01T00:00:00.000000000",
          "2025-10-01T00:00:00.000000000",
          "2025-11-01T00:00:00.000000000",
          "2025-12-01T00:00:00.000000000",
          "2026-01-01T00:00:00.000000000",
          "2026-02-01T00:00:00.000000000"
         ],
         "xaxis": "x15",
         "y": {
          "bdata": "EI31A4rWXUD41Zjf4ZhWQJsIZJuL3UxA/IxyGupbTUAGvC7101tQQFGhQmM+s11AH8b9vkVvY0BNihfsmullQLdt24BYUGJAAAAAnGZtXUA=",
          "dtype": "f8"
         },
         "yaxis": "y15"
        },
        {
         "line": {
          "color": "black"
         },
         "mode": "lines",
         "showlegend": false,
         "type": "scatter",
         "x": [
          "2025-05-01T00:00:00",
          "2026-02-01T00:00:00"
         ],
         "xaxis": "x15",
         "y": [
          0,
          0
         ],
         "yaxis": "y15"
        },
        {
         "fill": "toself",
         "fillcolor": "rgba(169, 169, 169, 0.2)",
         "hovertemplate": "Date: %{x}<br>Conf: 95%<br>Value: %{y}",
         "line": {
          "color": "rgba(255,255,255,0)"
         },
         "showlegend": false,
         "type": "scatter",
         "x": [
          "2025-05-01T00:00:00.000000000",
          "2025-06-01T00:00:00.000000000",
          "2025-07-01T00:00:00.000000000",
          "2025-08-01T00:00:00.000000000",
          "2025-09-01T00:00:00.000000000",
          "2025-10-01T00:00:00.000000000",
          "2025-11-01T00:00:00.000000000",
          "2025-12-01T00:00:00.000000000",
          "2026-01-01T00:00:00.000000000",
          "2026-02-01T00:00:00.000000000",
          "2026-02-01T00:00:00.000000000",
          "2026-01-01T00:00:00.000000000",
          "2025-12-01T00:00:00.000000000",
          "2025-11-01T00:00:00.000000000",
          "2025-10-01T00:00:00.000000000",
          "2025-09-01T00:00:00.000000000",
          "2025-08-01T00:00:00.000000000",
          "2025-07-01T00:00:00.000000000",
          "2025-06-01T00:00:00.000000000",
          "2025-05-01T00:00:00.000000000"
         ],
         "xaxis": "x16",
         "y": {
          "bdata": "NqzfASqHSUARKNHX5c0gQAmymMSTPSzA41h0PfXTFsArCaYaUXM3QDakHYFm50ZAjW9CV+4zWkCamZmFQrBeQJRapBMYDVVA1GAsl9VBTUCez79HEkByQEebJ63zH3VAIlpwhFazdkA1K8xs2b90QHcIa42+lHFAtrLzjC+sbkAHDikFKJJmQKJ37sTtImdAY2ZmBnSEbkDNzMy8xk50QA==",
          "dtype": "f8"
         },
         "yaxis": "y16"
        },
        {
         "hovertemplate": "Date: %{x}<br>Value: %{y}<br>Model: GP",
         "line": {
          "color": "blue",
          "shape": "linear",
          "width": 2
         },
         "marker": {
          "size": 4
         },
         "mode": "lines+markers",
         "name": "GP",
         "showlegend": false,
         "type": "scatter",
         "x": [
          "2025-05-01T00:00:00.000000000",
          "2025-06-01T00:00:00.000000000",
          "2025-07-01T00:00:00.000000000",
          "2025-08-01T00:00:00.000000000",
          "2025-09-01T00:00:00.000000000",
          "2025-10-01T00:00:00.000000000",
          "2025-11-01T00:00:00.000000000",
          "2025-12-01T00:00:00.000000000",
          "2026-01-01T00:00:00.000000000",
          "2026-02-01T00:00:00.000000000"
         ],
         "xaxis": "x16",
         "y": {
          "bdata": "AKN3dfYeZkCShOqPGJNaQLH/RhDspFFARBiArTSOUED6I8UuKEleQF82Qs4RZ2NAXD03/ZdraEADNqBjyHVrQD4JRw3XNWZAVQDGJdXAY0A=",
          "dtype": "f8"
         },
         "yaxis": "y16"
        },
        {
         "fill": "toself",
         "fillcolor": "rgba(169, 169, 169, 0.2)",
         "hovertemplate": "Date: %{x}<br>Conf: 95%<br>Value: %{y}",
         "line": {
          "color": "rgba(255,255,255,0)"
         },
         "showlegend": false,
         "type": "scatter",
         "x": [
          "2025-05-01T00:00:00.000000000",
          "2025-06-01T00:00:00.000000000",
          "2025-07-01T00:00:00.000000000",
          "2025-08-01T00:00:00.000000000",
          "2025-09-01T00:00:00.000000000",
          "2025-10-01T00:00:00.000000000",
          "2025-11-01T00:00:00.000000000",
          "2025-12-01T00:00:00.000000000",
          "2026-01-01T00:00:00.000000000",
          "2026-02-01T00:00:00.000000000",
          "2026-02-01T00:00:00.000000000",
          "2026-01-01T00:00:00.000000000",
          "2025-12-01T00:00:00.000000000",
          "2025-11-01T00:00:00.000000000",
          "2025-10-01T00:00:00.000000000",
          "2025-09-01T00:00:00.000000000",
          "2025-08-01T00:00:00.000000000",
          "2025-07-01T00:00:00.000000000",
          "2025-06-01T00:00:00.000000000",
          "2025-05-01T00:00:00.000000000"
         ],
         "xaxis": "x16",
         "y": {
          "bdata": "NqzfASqHSUARKNHX5c0gQAmymMSTPSzA41h0PfXTFsArCaYaUXM3QDakHYFm50ZAjW9CV+4zWkCamZmFQrBeQJRapBMYDVVA1GAsl9VBTUCez79HEkByQEebJ63zH3VAIlpwhFazdkA1K8xs2b90QHcIa42+lHFAtrLzjC+sbkAHDikFKJJmQKJ37sTtImdAY2ZmBnSEbkDNzMy8xk50QA==",
          "dtype": "f8"
         },
         "yaxis": "y16"
        },
        {
         "hovertemplate": "Date: %{x}<br>Value: %{y}<br>Model: RF",
         "line": {
          "color": "green",
          "shape": "linear",
          "width": 2
         },
         "marker": {
          "size": 4
         },
         "mode": "lines+markers",
         "name": "RF",
         "showlegend": false,
         "type": "scatter",
         "x": [
          "2025-05-01T00:00:00.000000000",
          "2025-06-01T00:00:00.000000000",
          "2025-07-01T00:00:00.000000000",
          "2025-08-01T00:00:00.000000000",
          "2025-09-01T00:00:00.000000000",
          "2025-10-01T00:00:00.000000000",
          "2025-11-01T00:00:00.000000000",
          "2025-12-01T00:00:00.000000000",
          "2026-01-01T00:00:00.000000000",
          "2026-02-01T00:00:00.000000000"
         ],
         "xaxis": "x16",
         "y": {
          "bdata": "XArjzcVhY0DZ2FZ7xVZhQBh7gflu3FxA2Bu0lo5iXEB1nBwSgrJbQPCvevflsGFAXC98Sj2za0CY0tiD75JpQBCGJ/u30mZAdAVGJ9YyZkA=",
          "dtype": "f8"
         },
         "yaxis": "y16"
        },
        {
         "fill": "toself",
         "fillcolor": "rgba(169, 169, 169, 0.2)",
         "hovertemplate": "Date: %{x}<br>Conf: 95%<br>Value: %{y}",
         "line": {
          "color": "rgba(255,255,255,0)"
         },
         "showlegend": false,
         "type": "scatter",
         "x": [
          "2025-05-01T00:00:00.000000000",
          "2025-06-01T00:00:00.000000000",
          "2025-07-01T00:00:00.000000000",
          "2025-08-01T00:00:00.000000000",
          "2025-09-01T00:00:00.000000000",
          "2025-10-01T00:00:00.000000000",
          "2025-11-01T00:00:00.000000000",
          "2025-12-01T00:00:00.000000000",
          "2026-01-01T00:00:00.000000000",
          "2026-02-01T00:00:00.000000000",
          "2026-02-01T00:00:00.000000000",
          "2026-01-01T00:00:00.000000000",
          "2025-12-01T00:00:00.000000000",
          "2025-11-01T00:00:00.000000000",
          "2025-10-01T00:00:00.000000000",
          "2025-09-01T00:00:00.000000000",
          "2025-08-01T00:00:00.000000000",
          "2025-07-01T00:00:00.000000000",
          "2025-06-01T00:00:00.000000000",
          "2025-05-01T00:00:00.000000000"
         ],
         "xaxis": "x16",
         "y": {
          "bdata": "NqzfASqHSUARKNHX5c0gQAmymMSTPSzA41h0PfXTFsArCaYaUXM3QDakHYFm50ZAjW9CV+4zWkCamZmFQrBeQJRapBMYDVVA1GAsl9VBTUCez79HEkByQEebJ63zH3VAIlpwhFazdkA1K8xs2b90QHcIa42+lHFAtrLzjC+sbkAHDikFKJJmQKJ37sTtImdAY2ZmBnSEbkDNzMy8xk50QA==",
          "dtype": "f8"
         },
         "yaxis": "y16"
        },
        {
         "hovertemplate": "Date: %{x}<br>Value: %{y}<br>Model: LR",
         "line": {
          "color": "red",
          "shape": "linear",
          "width": 2
         },
         "marker": {
          "size": 4
         },
         "mode": "lines+markers",
         "name": "LR",
         "showlegend": false,
         "type": "scatter",
         "x": [
          "2025-05-01T00:00:00.000000000",
          "2025-06-01T00:00:00.000000000",
          "2025-07-01T00:00:00.000000000",
          "2025-08-01T00:00:00.000000000",
          "2025-09-01T00:00:00.000000000",
          "2025-10-01T00:00:00.000000000",
          "2025-11-01T00:00:00.000000000",
          "2025-12-01T00:00:00.000000000",
          "2026-01-01T00:00:00.000000000",
          "2026-02-01T00:00:00.000000000"
         ],
         "xaxis": "x16",
         "y": {
          "bdata": "i0UIAc9+Y0AsBftbxKdXQKW2qfdQo0xATuA0kVezUEA6FRJtTSddQI/l1Qaz/WRAZNRWFgUda0AmJ2XXPvFvQDv4qZFKP2tATzhx3VOhaEA=",
          "dtype": "f8"
         },
         "yaxis": "y16"
        },
        {
         "fill": "toself",
         "fillcolor": "rgba(169, 169, 169, 0.2)",
         "hovertemplate": "Date: %{x}<br>Conf: 95%<br>Value: %{y}",
         "line": {
          "color": "rgba(255,255,255,0)"
         },
         "showlegend": false,
         "type": "scatter",
         "x": [
          "2025-05-01T00:00:00.000000000",
          "2025-06-01T00:00:00.000000000",
          "2025-07-01T00:00:00.000000000",
          "2025-08-01T00:00:00.000000000",
          "2025-09-01T00:00:00.000000000",
          "2025-10-01T00:00:00.000000000",
          "2025-11-01T00:00:00.000000000",
          "2025-12-01T00:00:00.000000000",
          "2026-01-01T00:00:00.000000000",
          "2026-02-01T00:00:00.000000000",
          "2026-02-01T00:00:00.000000000",
          "2026-01-01T00:00:00.000000000",
          "2025-12-01T00:00:00.000000000",
          "2025-11-01T00:00:00.000000000",
          "2025-10-01T00:00:00.000000000",
          "2025-09-01T00:00:00.000000000",
          "2025-08-01T00:00:00.000000000",
          "2025-07-01T00:00:00.000000000",
          "2025-06-01T00:00:00.000000000",
          "2025-05-01T00:00:00.000000000"
         ],
         "xaxis": "x16",
         "y": {
          "bdata": "NqzfASqHSUARKNHX5c0gQAmymMSTPSzA41h0PfXTFsArCaYaUXM3QDakHYFm50ZAjW9CV+4zWkCamZmFQrBeQJRapBMYDVVA1GAsl9VBTUCez79HEkByQEebJ63zH3VAIlpwhFazdkA1K8xs2b90QHcIa42+lHFAtrLzjC+sbkAHDikFKJJmQKJ37sTtImdAY2ZmBnSEbkDNzMy8xk50QA==",
          "dtype": "f8"
         },
         "yaxis": "y16"
        },
        {
         "hovertemplate": "Date: %{x}<br>Value: %{y}<br>Model: NN",
         "line": {
          "color": "purple",
          "shape": "linear",
          "width": 2
         },
         "marker": {
          "size": 4
         },
         "mode": "lines+markers",
         "name": "NN",
         "showlegend": false,
         "type": "scatter",
         "x": [
          "2025-05-01T00:00:00.000000000",
          "2025-06-01T00:00:00.000000000",
          "2025-07-01T00:00:00.000000000",
          "2025-08-01T00:00:00.000000000",
          "2025-09-01T00:00:00.000000000",
          "2025-10-01T00:00:00.000000000",
          "2025-11-01T00:00:00.000000000",
          "2025-12-01T00:00:00.000000000",
          "2026-01-01T00:00:00.000000000",
          "2026-02-01T00:00:00.000000000"
         ],
         "xaxis": "x16",
         "y": {
          "bdata": "E1cEpNrwZUAbEykAbmNkQKheTBz20F9AKCA6DDfaV0CwZvnw1z9ZQHDgALF232BAEON+6y+daUAyKV74tB1rQNu2rVI74mVAdmJnwoRFY0A=",
          "dtype": "f8"
         },
         "yaxis": "y16"
        },
        {
         "line": {
          "color": "black"
         },
         "mode": "lines",
         "showlegend": false,
         "type": "scatter",
         "x": [
          "2025-05-01T00:00:00",
          "2026-02-01T00:00:00"
         ],
         "xaxis": "x16",
         "y": [
          0,
          0
         ],
         "yaxis": "y16"
        }
       ],
       "layout": {
        "annotations": [
         {
          "font": {
           "size": 16
          },
          "showarrow": false,
          "text": "Precipitation",
          "x": 0.122,
          "xanchor": "center",
          "xref": "paper",
          "y": 1,
          "yanchor": "bottom",
          "yref": "paper"
         },
         {
          "font": {
           "size": 16
          },
          "showarrow": false,
          "text": "Evaporation",
          "x": 0.374,
          "xanchor": "center",
          "xref": "paper",
          "y": 1,
          "yanchor": "bottom",
          "yref": "paper"
         },
         {
          "font": {
           "size": 16
          },
          "showarrow": false,
          "text": "Runoff",
          "x": 0.626,
          "xanchor": "center",
          "xref": "paper",
          "y": 1,
          "yanchor": "bottom",
          "yref": "paper"
         },
         {
          "font": {
           "size": 16
          },
          "showarrow": false,
          "text": "CNBS",
          "x": 0.878,
          "xanchor": "center",
          "xref": "paper",
          "y": 1,
          "yanchor": "bottom",
          "yref": "paper"
         }
        ],
        "height": 800,
        "legend": {
         "orientation": "v",
         "title": {
          "text": "Model"
         },
         "traceorder": "normal",
         "x": 1.01,
         "y": 1.01
        },
        "plot_bgcolor": "white",
        "showlegend": true,
        "template": {
         "data": {
          "bar": [
           {
            "error_x": {
             "color": "#2a3f5f"
            },
            "error_y": {
             "color": "#2a3f5f"
            },
            "marker": {
             "line": {
              "color": "#E5ECF6",
              "width": 0.5
             },
             "pattern": {
              "fillmode": "overlay",
              "size": 10,
              "solidity": 0.2
             }
            },
            "type": "bar"
           }
          ],
          "barpolar": [
           {
            "marker": {
             "line": {
              "color": "#E5ECF6",
              "width": 0.5
             },
             "pattern": {
              "fillmode": "overlay",
              "size": 10,
              "solidity": 0.2
             }
            },
            "type": "barpolar"
           }
          ],
          "carpet": [
           {
            "aaxis": {
             "endlinecolor": "#2a3f5f",
             "gridcolor": "white",
             "linecolor": "white",
             "minorgridcolor": "white",
             "startlinecolor": "#2a3f5f"
            },
            "baxis": {
             "endlinecolor": "#2a3f5f",
             "gridcolor": "white",
             "linecolor": "white",
             "minorgridcolor": "white",
             "startlinecolor": "#2a3f5f"
            },
            "type": "carpet"
           }
          ],
          "choropleth": [
           {
            "colorbar": {
             "outlinewidth": 0,
             "ticks": ""
            },
            "type": "choropleth"
           }
          ],
          "contour": [
           {
            "colorbar": {
             "outlinewidth": 0,
             "ticks": ""
            },
            "colorscale": [
             [
              0,
              "#0d0887"
             ],
             [
              0.1111111111111111,
              "#46039f"
             ],
             [
              0.2222222222222222,
              "#7201a8"
             ],
             [
              0.3333333333333333,
              "#9c179e"
             ],
             [
              0.4444444444444444,
              "#bd3786"
             ],
             [
              0.5555555555555556,
              "#d8576b"
             ],
             [
              0.6666666666666666,
              "#ed7953"
             ],
             [
              0.7777777777777778,
              "#fb9f3a"
             ],
             [
              0.8888888888888888,
              "#fdca26"
             ],
             [
              1,
              "#f0f921"
             ]
            ],
            "type": "contour"
           }
          ],
          "contourcarpet": [
           {
            "colorbar": {
             "outlinewidth": 0,
             "ticks": ""
            },
            "type": "contourcarpet"
           }
          ],
          "heatmap": [
           {
            "colorbar": {
             "outlinewidth": 0,
             "ticks": ""
            },
            "colorscale": [
             [
              0,
              "#0d0887"
             ],
             [
              0.1111111111111111,
              "#46039f"
             ],
             [
              0.2222222222222222,
              "#7201a8"
             ],
             [
              0.3333333333333333,
              "#9c179e"
             ],
             [
              0.4444444444444444,
              "#bd3786"
             ],
             [
              0.5555555555555556,
              "#d8576b"
             ],
             [
              0.6666666666666666,
              "#ed7953"
             ],
             [
              0.7777777777777778,
              "#fb9f3a"
             ],
             [
              0.8888888888888888,
              "#fdca26"
             ],
             [
              1,
              "#f0f921"
             ]
            ],
            "type": "heatmap"
           }
          ],
          "histogram": [
           {
            "marker": {
             "pattern": {
              "fillmode": "overlay",
              "size": 10,
              "solidity": 0.2
             }
            },
            "type": "histogram"
           }
          ],
          "histogram2d": [
           {
            "colorbar": {
             "outlinewidth": 0,
             "ticks": ""
            },
            "colorscale": [
             [
              0,
              "#0d0887"
             ],
             [
              0.1111111111111111,
              "#46039f"
             ],
             [
              0.2222222222222222,
              "#7201a8"
             ],
             [
              0.3333333333333333,
              "#9c179e"
             ],
             [
              0.4444444444444444,
              "#bd3786"
             ],
             [
              0.5555555555555556,
              "#d8576b"
             ],
             [
              0.6666666666666666,
              "#ed7953"
             ],
             [
              0.7777777777777778,
              "#fb9f3a"
             ],
             [
              0.8888888888888888,
              "#fdca26"
             ],
             [
              1,
              "#f0f921"
             ]
            ],
            "type": "histogram2d"
           }
          ],
          "histogram2dcontour": [
           {
            "colorbar": {
             "outlinewidth": 0,
             "ticks": ""
            },
            "colorscale": [
             [
              0,
              "#0d0887"
             ],
             [
              0.1111111111111111,
              "#46039f"
             ],
             [
              0.2222222222222222,
              "#7201a8"
             ],
             [
              0.3333333333333333,
              "#9c179e"
             ],
             [
              0.4444444444444444,
              "#bd3786"
             ],
             [
              0.5555555555555556,
              "#d8576b"
             ],
             [
              0.6666666666666666,
              "#ed7953"
             ],
             [
              0.7777777777777778,
              "#fb9f3a"
             ],
             [
              0.8888888888888888,
              "#fdca26"
             ],
             [
              1,
              "#f0f921"
             ]
            ],
            "type": "histogram2dcontour"
           }
          ],
          "mesh3d": [
           {
            "colorbar": {
             "outlinewidth": 0,
             "ticks": ""
            },
            "type": "mesh3d"
           }
          ],
          "parcoords": [
           {
            "line": {
             "colorbar": {
              "outlinewidth": 0,
              "ticks": ""
             }
            },
            "type": "parcoords"
           }
          ],
          "pie": [
           {
            "automargin": true,
            "type": "pie"
           }
          ],
          "scatter": [
           {
            "fillpattern": {
             "fillmode": "overlay",
             "size": 10,
             "solidity": 0.2
            },
            "type": "scatter"
           }
          ],
          "scatter3d": [
           {
            "line": {
             "colorbar": {
              "outlinewidth": 0,
              "ticks": ""
             }
            },
            "marker": {
             "colorbar": {
              "outlinewidth": 0,
              "ticks": ""
             }
            },
            "type": "scatter3d"
           }
          ],
          "scattercarpet": [
           {
            "marker": {
             "colorbar": {
              "outlinewidth": 0,
              "ticks": ""
             }
            },
            "type": "scattercarpet"
           }
          ],
          "scattergeo": [
           {
            "marker": {
             "colorbar": {
              "outlinewidth": 0,
              "ticks": ""
             }
            },
            "type": "scattergeo"
           }
          ],
          "scattergl": [
           {
            "marker": {
             "colorbar": {
              "outlinewidth": 0,
              "ticks": ""
             }
            },
            "type": "scattergl"
           }
          ],
          "scattermap": [
           {
            "marker": {
             "colorbar": {
              "outlinewidth": 0,
              "ticks": ""
             }
            },
            "type": "scattermap"
           }
          ],
          "scattermapbox": [
           {
            "marker": {
             "colorbar": {
              "outlinewidth": 0,
              "ticks": ""
             }
            },
            "type": "scattermapbox"
           }
          ],
          "scatterpolar": [
           {
            "marker": {
             "colorbar": {
              "outlinewidth": 0,
              "ticks": ""
             }
            },
            "type": "scatterpolar"
           }
          ],
          "scatterpolargl": [
           {
            "marker": {
             "colorbar": {
              "outlinewidth": 0,
              "ticks": ""
             }
            },
            "type": "scatterpolargl"
           }
          ],
          "scatterternary": [
           {
            "marker": {
             "colorbar": {
              "outlinewidth": 0,
              "ticks": ""
             }
            },
            "type": "scatterternary"
           }
          ],
          "surface": [
           {
            "colorbar": {
             "outlinewidth": 0,
             "ticks": ""
            },
            "colorscale": [
             [
              0,
              "#0d0887"
             ],
             [
              0.1111111111111111,
              "#46039f"
             ],
             [
              0.2222222222222222,
              "#7201a8"
             ],
             [
              0.3333333333333333,
              "#9c179e"
             ],
             [
              0.4444444444444444,
              "#bd3786"
             ],
             [
              0.5555555555555556,
              "#d8576b"
             ],
             [
              0.6666666666666666,
              "#ed7953"
             ],
             [
              0.7777777777777778,
              "#fb9f3a"
             ],
             [
              0.8888888888888888,
              "#fdca26"
             ],
             [
              1,
              "#f0f921"
             ]
            ],
            "type": "surface"
           }
          ],
          "table": [
           {
            "cells": {
             "fill": {
              "color": "#EBF0F8"
             },
             "line": {
              "color": "white"
             }
            },
            "header": {
             "fill": {
              "color": "#C8D4E3"
             },
             "line": {
              "color": "white"
             }
            },
            "type": "table"
           }
          ]
         },
         "layout": {
          "annotationdefaults": {
           "arrowcolor": "#2a3f5f",
           "arrowhead": 0,
           "arrowwidth": 1
          },
          "autotypenumbers": "strict",
          "coloraxis": {
           "colorbar": {
            "outlinewidth": 0,
            "ticks": ""
           }
          },
          "colorscale": {
           "diverging": [
            [
             0,
             "#8e0152"
            ],
            [
             0.1,
             "#c51b7d"
            ],
            [
             0.2,
             "#de77ae"
            ],
            [
             0.3,
             "#f1b6da"
            ],
            [
             0.4,
             "#fde0ef"
            ],
            [
             0.5,
             "#f7f7f7"
            ],
            [
             0.6,
             "#e6f5d0"
            ],
            [
             0.7,
             "#b8e186"
            ],
            [
             0.8,
             "#7fbc41"
            ],
            [
             0.9,
             "#4d9221"
            ],
            [
             1,
             "#276419"
            ]
           ],
           "sequential": [
            [
             0,
             "#0d0887"
            ],
            [
             0.1111111111111111,
             "#46039f"
            ],
            [
             0.2222222222222222,
             "#7201a8"
            ],
            [
             0.3333333333333333,
             "#9c179e"
            ],
            [
             0.4444444444444444,
             "#bd3786"
            ],
            [
             0.5555555555555556,
             "#d8576b"
            ],
            [
             0.6666666666666666,
             "#ed7953"
            ],
            [
             0.7777777777777778,
             "#fb9f3a"
            ],
            [
             0.8888888888888888,
             "#fdca26"
            ],
            [
             1,
             "#f0f921"
            ]
           ],
           "sequentialminus": [
            [
             0,
             "#0d0887"
            ],
            [
             0.1111111111111111,
             "#46039f"
            ],
            [
             0.2222222222222222,
             "#7201a8"
            ],
            [
             0.3333333333333333,
             "#9c179e"
            ],
            [
             0.4444444444444444,
             "#bd3786"
            ],
            [
             0.5555555555555556,
             "#d8576b"
            ],
            [
             0.6666666666666666,
             "#ed7953"
            ],
            [
             0.7777777777777778,
             "#fb9f3a"
            ],
            [
             0.8888888888888888,
             "#fdca26"
            ],
            [
             1,
             "#f0f921"
            ]
           ]
          },
          "colorway": [
           "#636efa",
           "#EF553B",
           "#00cc96",
           "#ab63fa",
           "#FFA15A",
           "#19d3f3",
           "#FF6692",
           "#B6E880",
           "#FF97FF",
           "#FECB52"
          ],
          "font": {
           "color": "#2a3f5f"
          },
          "geo": {
           "bgcolor": "white",
           "lakecolor": "white",
           "landcolor": "#E5ECF6",
           "showlakes": true,
           "showland": true,
           "subunitcolor": "white"
          },
          "hoverlabel": {
           "align": "left"
          },
          "hovermode": "closest",
          "mapbox": {
           "style": "light"
          },
          "paper_bgcolor": "white",
          "plot_bgcolor": "#E5ECF6",
          "polar": {
           "angularaxis": {
            "gridcolor": "white",
            "linecolor": "white",
            "ticks": ""
           },
           "bgcolor": "#E5ECF6",
           "radialaxis": {
            "gridcolor": "white",
            "linecolor": "white",
            "ticks": ""
           }
          },
          "scene": {
           "xaxis": {
            "backgroundcolor": "#E5ECF6",
            "gridcolor": "white",
            "gridwidth": 2,
            "linecolor": "white",
            "showbackground": true,
            "ticks": "",
            "zerolinecolor": "white"
           },
           "yaxis": {
            "backgroundcolor": "#E5ECF6",
            "gridcolor": "white",
            "gridwidth": 2,
            "linecolor": "white",
            "showbackground": true,
            "ticks": "",
            "zerolinecolor": "white"
           },
           "zaxis": {
            "backgroundcolor": "#E5ECF6",
            "gridcolor": "white",
            "gridwidth": 2,
            "linecolor": "white",
            "showbackground": true,
            "ticks": "",
            "zerolinecolor": "white"
           }
          },
          "shapedefaults": {
           "line": {
            "color": "#2a3f5f"
           }
          },
          "ternary": {
           "aaxis": {
            "gridcolor": "white",
            "linecolor": "white",
            "ticks": ""
           },
           "baxis": {
            "gridcolor": "white",
            "linecolor": "white",
            "ticks": ""
           },
           "bgcolor": "#E5ECF6",
           "caxis": {
            "gridcolor": "white",
            "linecolor": "white",
            "ticks": ""
           }
          },
          "title": {
           "x": 0.05
          },
          "xaxis": {
           "automargin": true,
           "gridcolor": "white",
           "linecolor": "white",
           "ticks": "",
           "title": {
            "standoff": 15
           },
           "zerolinecolor": "white",
           "zerolinewidth": 2
          },
          "yaxis": {
           "automargin": true,
           "gridcolor": "white",
           "linecolor": "white",
           "ticks": "",
           "title": {
            "standoff": 15
           },
           "zerolinecolor": "white",
           "zerolinewidth": 2
          }
         }
        },
        "title": {
         "text": "Great Lakes 9-month NBS Forecasts",
         "x": 0.5
        },
        "width": 1500,
        "xaxis": {
         "anchor": "y",
         "domain": [
          0,
          0.244
         ],
         "gridcolor": "LightGray",
         "gridwidth": 0.5,
         "linecolor": "black",
         "linewidth": 2,
         "matches": "x13",
         "showgrid": true,
         "showline": true,
         "showticklabels": false,
         "tickmode": "array",
         "tickvals": [
          "2025-05-01T00:00:00.000000000",
          "2025-06-01T00:00:00.000000000",
          "2025-07-01T00:00:00.000000000",
          "2025-08-01T00:00:00.000000000",
          "2025-09-01T00:00:00.000000000",
          "2025-10-01T00:00:00.000000000",
          "2025-11-01T00:00:00.000000000",
          "2025-12-01T00:00:00.000000000",
          "2026-01-01T00:00:00.000000000",
          "2026-02-01T00:00:00.000000000"
         ]
        },
        "xaxis10": {
         "anchor": "y10",
         "domain": [
          0.252,
          0.496
         ],
         "gridcolor": "LightGray",
         "gridwidth": 0.5,
         "linecolor": "black",
         "linewidth": 2,
         "matches": "x14",
         "showgrid": true,
         "showline": true,
         "showticklabels": false,
         "tickmode": "array",
         "tickvals": [
          "2025-05-01T00:00:00.000000000",
          "2025-06-01T00:00:00.000000000",
          "2025-07-01T00:00:00.000000000",
          "2025-08-01T00:00:00.000000000",
          "2025-09-01T00:00:00.000000000",
          "2025-10-01T00:00:00.000000000",
          "2025-11-01T00:00:00.000000000",
          "2025-12-01T00:00:00.000000000",
          "2026-01-01T00:00:00.000000000",
          "2026-02-01T00:00:00.000000000"
         ]
        },
        "xaxis11": {
         "anchor": "y11",
         "domain": [
          0.504,
          0.748
         ],
         "gridcolor": "LightGray",
         "gridwidth": 0.5,
         "linecolor": "black",
         "linewidth": 2,
         "matches": "x15",
         "showgrid": true,
         "showline": true,
         "showticklabels": false,
         "tickmode": "array",
         "tickvals": [
          "2025-05-01T00:00:00.000000000",
          "2025-06-01T00:00:00.000000000",
          "2025-07-01T00:00:00.000000000",
          "2025-08-01T00:00:00.000000000",
          "2025-09-01T00:00:00.000000000",
          "2025-10-01T00:00:00.000000000",
          "2025-11-01T00:00:00.000000000",
          "2025-12-01T00:00:00.000000000",
          "2026-01-01T00:00:00.000000000",
          "2026-02-01T00:00:00.000000000"
         ]
        },
        "xaxis12": {
         "anchor": "y12",
         "domain": [
          0.756,
          1
         ],
         "gridcolor": "LightGray",
         "gridwidth": 0.5,
         "linecolor": "black",
         "linewidth": 2,
         "matches": "x16",
         "showgrid": true,
         "showline": true,
         "showticklabels": false,
         "tickmode": "array",
         "tickvals": [
          "2025-05-01T00:00:00.000000000",
          "2025-06-01T00:00:00.000000000",
          "2025-07-01T00:00:00.000000000",
          "2025-08-01T00:00:00.000000000",
          "2025-09-01T00:00:00.000000000",
          "2025-10-01T00:00:00.000000000",
          "2025-11-01T00:00:00.000000000",
          "2025-12-01T00:00:00.000000000",
          "2026-01-01T00:00:00.000000000",
          "2026-02-01T00:00:00.000000000"
         ]
        },
        "xaxis13": {
         "anchor": "y13",
         "domain": [
          0,
          0.244
         ],
         "gridcolor": "LightGray",
         "gridwidth": 0.5,
         "linecolor": "black",
         "linewidth": 2,
         "showgrid": true,
         "showline": true,
         "tickangle": -45,
         "tickformat": "%m-%Y",
         "tickmode": "array",
         "tickvals": [
          "2025-05-01T00:00:00.000000000",
          "2025-06-01T00:00:00.000000000",
          "2025-07-01T00:00:00.000000000",
          "2025-08-01T00:00:00.000000000",
          "2025-09-01T00:00:00.000000000",
          "2025-10-01T00:00:00.000000000",
          "2025-11-01T00:00:00.000000000",
          "2025-12-01T00:00:00.000000000",
          "2026-01-01T00:00:00.000000000",
          "2026-02-01T00:00:00.000000000"
         ]
        },
        "xaxis14": {
         "anchor": "y14",
         "domain": [
          0.252,
          0.496
         ],
         "gridcolor": "LightGray",
         "gridwidth": 0.5,
         "linecolor": "black",
         "linewidth": 2,
         "showgrid": true,
         "showline": true,
         "tickangle": -45,
         "tickformat": "%m-%Y",
         "tickmode": "array",
         "tickvals": [
          "2025-05-01T00:00:00.000000000",
          "2025-06-01T00:00:00.000000000",
          "2025-07-01T00:00:00.000000000",
          "2025-08-01T00:00:00.000000000",
          "2025-09-01T00:00:00.000000000",
          "2025-10-01T00:00:00.000000000",
          "2025-11-01T00:00:00.000000000",
          "2025-12-01T00:00:00.000000000",
          "2026-01-01T00:00:00.000000000",
          "2026-02-01T00:00:00.000000000"
         ]
        },
        "xaxis15": {
         "anchor": "y15",
         "domain": [
          0.504,
          0.748
         ],
         "gridcolor": "LightGray",
         "gridwidth": 0.5,
         "linecolor": "black",
         "linewidth": 2,
         "showgrid": true,
         "showline": true,
         "tickangle": -45,
         "tickformat": "%m-%Y",
         "tickmode": "array",
         "tickvals": [
          "2025-05-01T00:00:00.000000000",
          "2025-06-01T00:00:00.000000000",
          "2025-07-01T00:00:00.000000000",
          "2025-08-01T00:00:00.000000000",
          "2025-09-01T00:00:00.000000000",
          "2025-10-01T00:00:00.000000000",
          "2025-11-01T00:00:00.000000000",
          "2025-12-01T00:00:00.000000000",
          "2026-01-01T00:00:00.000000000",
          "2026-02-01T00:00:00.000000000"
         ]
        },
        "xaxis16": {
         "anchor": "y16",
         "domain": [
          0.756,
          1
         ],
         "gridcolor": "LightGray",
         "gridwidth": 0.5,
         "linecolor": "black",
         "linewidth": 2,
         "showgrid": true,
         "showline": true,
         "tickangle": -45,
         "tickformat": "%m-%Y",
         "tickmode": "array",
         "tickvals": [
          "2025-05-01T00:00:00.000000000",
          "2025-06-01T00:00:00.000000000",
          "2025-07-01T00:00:00.000000000",
          "2025-08-01T00:00:00.000000000",
          "2025-09-01T00:00:00.000000000",
          "2025-10-01T00:00:00.000000000",
          "2025-11-01T00:00:00.000000000",
          "2025-12-01T00:00:00.000000000",
          "2026-01-01T00:00:00.000000000",
          "2026-02-01T00:00:00.000000000"
         ]
        },
        "xaxis2": {
         "anchor": "y2",
         "domain": [
          0.252,
          0.496
         ],
         "gridcolor": "LightGray",
         "gridwidth": 0.5,
         "linecolor": "black",
         "linewidth": 2,
         "matches": "x14",
         "showgrid": true,
         "showline": true,
         "showticklabels": false,
         "tickmode": "array",
         "tickvals": [
          "2025-05-01T00:00:00.000000000",
          "2025-06-01T00:00:00.000000000",
          "2025-07-01T00:00:00.000000000",
          "2025-08-01T00:00:00.000000000",
          "2025-09-01T00:00:00.000000000",
          "2025-10-01T00:00:00.000000000",
          "2025-11-01T00:00:00.000000000",
          "2025-12-01T00:00:00.000000000",
          "2026-01-01T00:00:00.000000000",
          "2026-02-01T00:00:00.000000000"
         ]
        },
        "xaxis3": {
         "anchor": "y3",
         "domain": [
          0.504,
          0.748
         ],
         "gridcolor": "LightGray",
         "gridwidth": 0.5,
         "linecolor": "black",
         "linewidth": 2,
         "matches": "x15",
         "showgrid": true,
         "showline": true,
         "showticklabels": false,
         "tickmode": "array",
         "tickvals": [
          "2025-05-01T00:00:00.000000000",
          "2025-06-01T00:00:00.000000000",
          "2025-07-01T00:00:00.000000000",
          "2025-08-01T00:00:00.000000000",
          "2025-09-01T00:00:00.000000000",
          "2025-10-01T00:00:00.000000000",
          "2025-11-01T00:00:00.000000000",
          "2025-12-01T00:00:00.000000000",
          "2026-01-01T00:00:00.000000000",
          "2026-02-01T00:00:00.000000000"
         ]
        },
        "xaxis4": {
         "anchor": "y4",
         "domain": [
          0.756,
          1
         ],
         "gridcolor": "LightGray",
         "gridwidth": 0.5,
         "linecolor": "black",
         "linewidth": 2,
         "matches": "x16",
         "showgrid": true,
         "showline": true,
         "showticklabels": false,
         "tickmode": "array",
         "tickvals": [
          "2025-05-01T00:00:00.000000000",
          "2025-06-01T00:00:00.000000000",
          "2025-07-01T00:00:00.000000000",
          "2025-08-01T00:00:00.000000000",
          "2025-09-01T00:00:00.000000000",
          "2025-10-01T00:00:00.000000000",
          "2025-11-01T00:00:00.000000000",
          "2025-12-01T00:00:00.000000000",
          "2026-01-01T00:00:00.000000000",
          "2026-02-01T00:00:00.000000000"
         ]
        },
        "xaxis5": {
         "anchor": "y5",
         "domain": [
          0,
          0.244
         ],
         "gridcolor": "LightGray",
         "gridwidth": 0.5,
         "linecolor": "black",
         "linewidth": 2,
         "matches": "x13",
         "showgrid": true,
         "showline": true,
         "showticklabels": false,
         "tickmode": "array",
         "tickvals": [
          "2025-05-01T00:00:00.000000000",
          "2025-06-01T00:00:00.000000000",
          "2025-07-01T00:00:00.000000000",
          "2025-08-01T00:00:00.000000000",
          "2025-09-01T00:00:00.000000000",
          "2025-10-01T00:00:00.000000000",
          "2025-11-01T00:00:00.000000000",
          "2025-12-01T00:00:00.000000000",
          "2026-01-01T00:00:00.000000000",
          "2026-02-01T00:00:00.000000000"
         ]
        },
        "xaxis6": {
         "anchor": "y6",
         "domain": [
          0.252,
          0.496
         ],
         "gridcolor": "LightGray",
         "gridwidth": 0.5,
         "linecolor": "black",
         "linewidth": 2,
         "matches": "x14",
         "showgrid": true,
         "showline": true,
         "showticklabels": false,
         "tickmode": "array",
         "tickvals": [
          "2025-05-01T00:00:00.000000000",
          "2025-06-01T00:00:00.000000000",
          "2025-07-01T00:00:00.000000000",
          "2025-08-01T00:00:00.000000000",
          "2025-09-01T00:00:00.000000000",
          "2025-10-01T00:00:00.000000000",
          "2025-11-01T00:00:00.000000000",
          "2025-12-01T00:00:00.000000000",
          "2026-01-01T00:00:00.000000000",
          "2026-02-01T00:00:00.000000000"
         ]
        },
        "xaxis7": {
         "anchor": "y7",
         "domain": [
          0.504,
          0.748
         ],
         "gridcolor": "LightGray",
         "gridwidth": 0.5,
         "linecolor": "black",
         "linewidth": 2,
         "matches": "x15",
         "showgrid": true,
         "showline": true,
         "showticklabels": false,
         "tickmode": "array",
         "tickvals": [
          "2025-05-01T00:00:00.000000000",
          "2025-06-01T00:00:00.000000000",
          "2025-07-01T00:00:00.000000000",
          "2025-08-01T00:00:00.000000000",
          "2025-09-01T00:00:00.000000000",
          "2025-10-01T00:00:00.000000000",
          "2025-11-01T00:00:00.000000000",
          "2025-12-01T00:00:00.000000000",
          "2026-01-01T00:00:00.000000000",
          "2026-02-01T00:00:00.000000000"
         ]
        },
        "xaxis8": {
         "anchor": "y8",
         "domain": [
          0.756,
          1
         ],
         "gridcolor": "LightGray",
         "gridwidth": 0.5,
         "linecolor": "black",
         "linewidth": 2,
         "matches": "x16",
         "showgrid": true,
         "showline": true,
         "showticklabels": false,
         "tickmode": "array",
         "tickvals": [
          "2025-05-01T00:00:00.000000000",
          "2025-06-01T00:00:00.000000000",
          "2025-07-01T00:00:00.000000000",
          "2025-08-01T00:00:00.000000000",
          "2025-09-01T00:00:00.000000000",
          "2025-10-01T00:00:00.000000000",
          "2025-11-01T00:00:00.000000000",
          "2025-12-01T00:00:00.000000000",
          "2026-01-01T00:00:00.000000000",
          "2026-02-01T00:00:00.000000000"
         ]
        },
        "xaxis9": {
         "anchor": "y9",
         "domain": [
          0,
          0.244
         ],
         "gridcolor": "LightGray",
         "gridwidth": 0.5,
         "linecolor": "black",
         "linewidth": 2,
         "matches": "x13",
         "showgrid": true,
         "showline": true,
         "showticklabels": false,
         "tickmode": "array",
         "tickvals": [
          "2025-05-01T00:00:00.000000000",
          "2025-06-01T00:00:00.000000000",
          "2025-07-01T00:00:00.000000000",
          "2025-08-01T00:00:00.000000000",
          "2025-09-01T00:00:00.000000000",
          "2025-10-01T00:00:00.000000000",
          "2025-11-01T00:00:00.000000000",
          "2025-12-01T00:00:00.000000000",
          "2026-01-01T00:00:00.000000000",
          "2026-02-01T00:00:00.000000000"
         ]
        },
        "yaxis": {
         "anchor": "x",
         "domain": [
          0.7875,
          1
         ],
         "gridcolor": "LightGray",
         "gridwidth": 0.5,
         "linecolor": "black",
         "linewidth": 2,
         "showgrid": true,
         "showline": true,
         "title": {
          "text": "Superior"
         }
        },
        "yaxis10": {
         "anchor": "x10",
         "domain": [
          0.2625,
          0.475
         ],
         "gridcolor": "LightGray",
         "gridwidth": 0.5,
         "linecolor": "black",
         "linewidth": 2,
         "matches": "y9",
         "range": [
          -140.23558201973057,
          373.2086223973039
         ],
         "showgrid": true,
         "showline": true,
         "showticklabels": false
        },
        "yaxis11": {
         "anchor": "x11",
         "domain": [
          0.2625,
          0.475
         ],
         "gridcolor": "LightGray",
         "gridwidth": 0.5,
         "linecolor": "black",
         "linewidth": 2,
         "matches": "y9",
         "range": [
          -140.23558201973057,
          373.2086223973039
         ],
         "showgrid": true,
         "showline": true,
         "showticklabels": false
        },
        "yaxis12": {
         "anchor": "x12",
         "domain": [
          0.2625,
          0.475
         ],
         "gridcolor": "LightGray",
         "gridwidth": 0.5,
         "linecolor": "black",
         "linewidth": 2,
         "matches": "y9",
         "range": [
          -140.23558201973057,
          373.2086223973039
         ],
         "showgrid": true,
         "showline": true,
         "showticklabels": false
        },
        "yaxis13": {
         "anchor": "x13",
         "domain": [
          0,
          0.2125
         ],
         "gridcolor": "LightGray",
         "gridwidth": 0.5,
         "linecolor": "black",
         "linewidth": 2,
         "showgrid": true,
         "showline": true,
         "title": {
          "text": "Ontario"
         }
        },
        "yaxis14": {
         "anchor": "x14",
         "domain": [
          0,
          0.2125
         ],
         "gridcolor": "LightGray",
         "gridwidth": 0.5,
         "linecolor": "black",
         "linewidth": 2,
         "matches": "y13",
         "range": [
          -140.23558201973057,
          373.2086223973039
         ],
         "showgrid": true,
         "showline": true,
         "showticklabels": false
        },
        "yaxis15": {
         "anchor": "x15",
         "domain": [
          0,
          0.2125
         ],
         "gridcolor": "LightGray",
         "gridwidth": 0.5,
         "linecolor": "black",
         "linewidth": 2,
         "matches": "y13",
         "range": [
          -140.23558201973057,
          373.2086223973039
         ],
         "showgrid": true,
         "showline": true,
         "showticklabels": false
        },
        "yaxis16": {
         "anchor": "x16",
         "domain": [
          0,
          0.2125
         ],
         "gridcolor": "LightGray",
         "gridwidth": 0.5,
         "linecolor": "black",
         "linewidth": 2,
         "matches": "y13",
         "range": [
          -140.23558201973057,
          373.2086223973039
         ],
         "showgrid": true,
         "showline": true,
         "showticklabels": false
        },
        "yaxis2": {
         "anchor": "x2",
         "domain": [
          0.7875,
          1
         ],
         "gridcolor": "LightGray",
         "gridwidth": 0.5,
         "linecolor": "black",
         "linewidth": 2,
         "matches": "y",
         "showgrid": true,
         "showline": true,
         "showticklabels": false
        },
        "yaxis3": {
         "anchor": "x3",
         "domain": [
          0.7875,
          1
         ],
         "gridcolor": "LightGray",
         "gridwidth": 0.5,
         "linecolor": "black",
         "linewidth": 2,
         "matches": "y",
         "showgrid": true,
         "showline": true,
         "showticklabels": false
        },
        "yaxis4": {
         "anchor": "x4",
         "domain": [
          0.7875,
          1
         ],
         "gridcolor": "LightGray",
         "gridwidth": 0.5,
         "linecolor": "black",
         "linewidth": 2,
         "matches": "y",
         "showgrid": true,
         "showline": true,
         "showticklabels": false
        },
        "yaxis5": {
         "anchor": "x5",
         "domain": [
          0.525,
          0.7375
         ],
         "gridcolor": "LightGray",
         "gridwidth": 0.5,
         "linecolor": "black",
         "linewidth": 2,
         "showgrid": true,
         "showline": true,
         "title": {
          "text": "Mich-Huron"
         }
        },
        "yaxis6": {
         "anchor": "x6",
         "domain": [
          0.525,
          0.7375
         ],
         "gridcolor": "LightGray",
         "gridwidth": 0.5,
         "linecolor": "black",
         "linewidth": 2,
         "matches": "y5",
         "range": [
          -140.23558201973057,
          373.2086223973039
         ],
         "showgrid": true,
         "showline": true,
         "showticklabels": false
        },
        "yaxis7": {
         "anchor": "x7",
         "domain": [
          0.525,
          0.7375
         ],
         "gridcolor": "LightGray",
         "gridwidth": 0.5,
         "linecolor": "black",
         "linewidth": 2,
         "matches": "y5",
         "range": [
          -140.23558201973057,
          373.2086223973039
         ],
         "showgrid": true,
         "showline": true,
         "showticklabels": false
        },
        "yaxis8": {
         "anchor": "x8",
         "domain": [
          0.525,
          0.7375
         ],
         "gridcolor": "LightGray",
         "gridwidth": 0.5,
         "linecolor": "black",
         "linewidth": 2,
         "matches": "y5",
         "range": [
          -140.23558201973057,
          373.2086223973039
         ],
         "showgrid": true,
         "showline": true,
         "showticklabels": false
        },
        "yaxis9": {
         "anchor": "x9",
         "domain": [
          0.2625,
          0.475
         ],
         "gridcolor": "LightGray",
         "gridwidth": 0.5,
         "linecolor": "black",
         "linewidth": 2,
         "showgrid": true,
         "showline": true,
         "title": {
          "text": "Erie"
         }
        }
       }
      }
     },
     "metadata": {},
     "output_type": "display_data"
    }
   ],
   "source": [
    "import plotly.graph_objects as go\n",
    "from plotly.subplots import make_subplots\n",
    "import pandas as pd\n",
    "\n",
    "# Define the colors for each model\n",
    "model_colors = {\n",
    "    'GP': 'blue',\n",
    "    'RF': 'green',\n",
    "    'LR': 'red',\n",
    "    'NN': 'purple'\n",
    "}\n",
    "\n",
    "# Columns of interest in the order we want to plot them\n",
    "columns = [\n",
    "    'superior_precipitation', 'superior_evaporation', 'superior_runoff', 'superior_cnbs',\n",
    "    'michigan-huron_precipitation', 'michigan-huron_evaporation', 'michigan-huron_runoff', 'michigan-huron_cnbs',\n",
    "    'erie_precipitation', 'erie_evaporation', 'erie_runoff', 'erie_cnbs',\n",
    "    'ontario_precipitation', 'ontario_evaporation', 'ontario_runoff', 'ontario_cnbs'\n",
    "    ]\n",
    "\n",
    "# Create a 1x4 subplot grid\n",
    "fig = make_subplots(rows=4, cols=4, \n",
    "                    subplot_titles=['Precipitation', 'Evaporation', 'Runoff', 'CNBS'], \n",
    "                    shared_xaxes=True, shared_yaxes=True, vertical_spacing=0.05, horizontal_spacing=0.008)\n",
    "\n",
    "global_y_min, global_y_max = float('inf'), float('-inf')  # Initialize to extremes\n",
    "\n",
    "# Loop over the columns and plot the means for each dataset\n",
    "for i, column in enumerate(columns):\n",
    "    row = i // 4  # Row index\n",
    "    col = i % 4   # Column index\n",
    "\n",
    "# Determine the lower and upper bounds of all the model forecast\n",
    "    lower_bound = df.groupby(['year', 'month'])[column].quantile(0.025).reset_index()\n",
    "    upper_bound = df.groupby(['year', 'month'])[column].quantile(0.975).reset_index()\n",
    "\n",
    "    for model_info in models_info:\n",
    "        model_name = model_info['model']\n",
    "\n",
    "        # Pull out the mean values for each model\n",
    "        model_mean = df[df['model'] == model_name]\n",
    "\n",
    "        # Get the grouped DataFrame for the current model\n",
    "        mean_df = model_mean.groupby(['year', 'month']).mean(numeric_only=True).reset_index()\n",
    "        \n",
    "        mean_df['date'] = pd.to_datetime(mean_df[['year', 'month']].assign(day=1))\n",
    "\n",
    "        # Add the shaded region (confidence band)\n",
    "        fig.add_trace(go.Scatter(x=pd.concat([mean_df['date'], mean_df['date'][::-1]]),\n",
    "                         y=pd.concat([lower_bound[column], upper_bound[column][::-1]]),\n",
    "                         fill='toself', fillcolor='rgba(169, 169, 169, 0.2)',\n",
    "                         line=dict(color='rgba(255,255,255,0)'), showlegend=False, \n",
    "                         hovertemplate='Date: %{x}<br>Conf: 95%<br>Value: %{y}'), \n",
    "                         row=row+1, col=col+1)\n",
    "        \n",
    "        # Add the mean line for the current model to the figure\n",
    "        fig.add_trace(go.Scatter(x=mean_df['date'], y=mean_df[column],\n",
    "                                 mode='lines+markers', name=model_name, \n",
    "                                 line=dict(shape='linear', width=2, color=model_colors[model_name]), \n",
    "                                 marker=dict(size=4), \n",
    "                                 showlegend=(row == 0 and col == 0),  # Only show legend for the first subplot\n",
    "                                 hovertemplate='Date: %{x}<br>Value: %{y}<br>Model: ' + model_name),\n",
    "                                 row=row+1, col=col+1)\n",
    "\n",
    "        # Update global y-axis limits\n",
    "        current_y_min = lower_bound[column].min()\n",
    "        current_y_max = upper_bound[column].max()\n",
    "        global_y_min = min(global_y_min, current_y_min)\n",
    "        global_y_max = max(global_y_max, current_y_max)\n",
    "\n",
    "    # Set x-axis range (limits) for each subplot\n",
    "    #fig.update_xaxes(range=[mean_df['date'].iloc[0], mean_df['date'].iloc[-1]], row=row+1, col=col+1)\n",
    "\n",
    "    # Format x-axis for the last row (set x-tick labels)\n",
    "    if row == 3:\n",
    "        fig.update_xaxes(tickformat='%m-%Y', tickangle=-45, row=row+1, col=col+1, tickmode='array', tickvals=mean_df['date'])\n",
    "    else:\n",
    "        fig.update_xaxes(showticklabels=False, row=row+1, col=col+1, tickmode='array', tickvals=mean_df['date'])\n",
    "\n",
    "    # Set y-axis labels for the first column only\n",
    "    if col == 0:\n",
    "        fig.update_yaxes(title_text=['Superior', 'Mich-Huron', 'Erie', 'Ontario'][row], row=row+1, col=col+1)\n",
    "\n",
    "    # Add the y=0 dashed line to every subplot\n",
    "    fig.add_trace(go.Scatter(x=[mean_df['date'].min(), mean_df['date'].max()],\n",
    "                             y=[0, 0], mode='lines', line=dict(color='black'), \n",
    "                             showlegend=False), row=row+1, col=col+1)\n",
    "\n",
    "    # Add a box around each subplot\n",
    "    fig.update_xaxes(showline=True, linewidth=2, linecolor='black', row=row+1, col=col+1)\n",
    "    fig.update_yaxes(showline=True, linewidth=2, linecolor='black', row=row+1, col=col+1)\n",
    "    \n",
    "# Set consistent y-axis limits across all subplots\n",
    "for row in range(1, 5):\n",
    "    for col in range(1, 5):\n",
    "        fig.update_yaxes(range=[global_y_min - 10, global_y_max + 10], row=row+1, col=col+1)\n",
    "\n",
    "# Set grid lines for all subplots\n",
    "fig.update_yaxes(showgrid=True, gridwidth=0.5, gridcolor='LightGray')\n",
    "fig.update_xaxes(showgrid=True, gridwidth=0.5, gridcolor='LightGray')\n",
    "\n",
    "# Update layout and titles\n",
    "fig.update_layout(\n",
    "    title_text=\"Great Lakes 9-month NBS Forecasts\",\n",
    "    title_x=0.5,\n",
    "    height=800, width=1500,\n",
    "    showlegend=True,\n",
    "    legend=dict(x=1.01, y=1.01, traceorder='normal', orientation='v', title='Model'),  # Move legend up\n",
    "    plot_bgcolor='white',\n",
    ")\n",
    "\n",
    "# Save the figure as an interactive HTML file\n",
    "fig.write_html(f'{dir}forecast/CNBS_forecasts_interactive.html')\n",
    "\n",
    "# Show the plot (optional)\n",
    "fig.show()"
   ]
  },
  {
   "cell_type": "markdown",
   "metadata": {},
   "source": [
    "Single lake figure for example."
   ]
  },
  {
   "cell_type": "code",
   "execution_count": 33,
   "metadata": {},
   "outputs": [
    {
     "data": {
      "image/png": "[encoded data removed]",
      "text/plain": [
       "<Figure size 1800x300 with 4 Axes>"
      ]
     },
     "metadata": {},
     "output_type": "display_data"
    }
   ],
   "source": [
    "import matplotlib.pyplot as plt\n",
    "import pandas as pd\n",
    "import numpy as np\n",
    "\n",
    "model_colors = {\n",
    "    'GP': 'blue',\n",
    "    'RF': 'green',\n",
    "    'LR': 'red',\n",
    "    'NN': 'purple'\n",
    "}\n",
    "model_legend = {\n",
    "    'GP': 'Gaussian Process',\n",
    "    'RF': 'Random Forest',\n",
    "    'LR': 'Linear Regression',\n",
    "    'NN': 'Neural Network'\n",
    "}\n",
    "\n",
    "# Mich-Huron variables only\n",
    "columns = [\n",
    "    'michigan-huron_precipitation',\n",
    "    'michigan-huron_evaporation',\n",
    "    'michigan-huron_runoff',\n",
    "    'michigan-huron_cnbs'\n",
    "]\n",
    "\n",
    "# Create a 1x4 grid for the Mich-Huron row\n",
    "fig, axs = plt.subplots(1, 4, figsize=(18, 3))\n",
    "\n",
    "# Shared y-limits for columns 0–2, separate for column 3 (NBS)\n",
    "shared_y_min, shared_y_max = float('inf'), float('-inf')\n",
    "col4_y_min, col4_y_max = float('inf'), float('-inf')\n",
    "\n",
    "for col, column in enumerate(columns):\n",
    "    lower_bound = df.groupby(['year', 'month'])[column].quantile(0.025).reset_index()\n",
    "    upper_bound = df.groupby(['year', 'month'])[column].quantile(0.975).reset_index()\n",
    "\n",
    "    for model_info in models_info:\n",
    "        model_name = model_info['model']\n",
    "        model_mean = df[df['model'] == model_name]\n",
    "        mean_df = model_mean.groupby(['year', 'month']).mean(numeric_only=True).reset_index()\n",
    "\n",
    "        # Simulate forecast horizon as 0–7 months\n",
    "        x_vals = np.arange(8)\n",
    "        y_vals = mean_df[column].iloc[:8]\n",
    "        y_lower = lower_bound[column].iloc[:8]\n",
    "        y_upper = upper_bound[column].iloc[:8]\n",
    "\n",
    "        axs[col].plot(x_vals, y_vals, marker='o', markersize=3,\n",
    "                      color=model_colors[model_name], label=model_legend[model_name])\n",
    "    axs[col].fill_between(x_vals, y_lower, y_upper, color='gray', alpha=0.2, label='95% Confidence Interval')\n",
    "    axs[col].axhline(0, color='black', linestyle='--', linewidth=1)\n",
    "    axs[col].grid(True, linestyle='--', alpha=0.6)\n",
    "    axs[col].set_yticks(np.arange(-1000, 1000, 50))\n",
    "\n",
    "    # Track y-limits\n",
    "    current_y_min = lower_bound[column].min()\n",
    "    current_y_max = upper_bound[column].max()\n",
    "\n",
    "    if col < 3:\n",
    "        shared_y_min = min(shared_y_min, current_y_min)\n",
    "        shared_y_max = max(shared_y_max, current_y_max)\n",
    "    else:\n",
    "        col4_y_min = min(col4_y_min, current_y_min)\n",
    "        col4_y_max = max(col4_y_max, current_y_max)\n",
    "\n",
    "    # Titles\n",
    "    axs[col].set_title(['Precipitation', 'Evaporation', 'Runoff', 'Total NBS'][col], fontsize=14)\n",
    "\n",
    "    # X-axis formatting\n",
    "    axs[col].set_xticks(x_vals)\n",
    "    axs[col].set_xticklabels([str(i) for i in x_vals])\n",
    "\n",
    "    # Y-axis labeling\n",
    "    if col == 0:\n",
    "        axs[col].set_ylabel('[mm]', fontsize=14)\n",
    "    #elif col == 3:\n",
    "    #    axs[col].set_ylabel('', fontsize=14)\n",
    "    else:\n",
    "        axs[col].set_yticklabels([])\n",
    "\n",
    "# Apply y-limits\n",
    "for col in range(4):\n",
    "    axs[col].set_xlim(0, 7)\n",
    "    if col < 3:\n",
    "        axs[col].set_ylim(-50, 200)\n",
    "    else:\n",
    "        axs[col].set_ylim(-50, 200)\n",
    "\n",
    "# X-axis label\n",
    "#fig.text(0.5, 0.15, 'Months into the Future', ha='center', fontsize=12)\n",
    "fig.suptitle('Lake Michigan-Huron 9-Month Forecast', fontsize=16, y=1.02)\n",
    "\n",
    "# Combined legend at bottom\n",
    "handles, labels = axs[0].get_legend_handles_labels()\n",
    "fig.legend(\n",
    "    handles,\n",
    "    labels,\n",
    "    loc='lower center',\n",
    "    bbox_to_anchor=(0.5, -0.05),  # Further down than the x label\n",
    "    ncol=len(labels),\n",
    "    fontsize=12\n",
    ")\n",
    "\n",
    "# Adjust layout to leave enough room at the bottom for x-label and legend\n",
    "plt.tight_layout(rect=[0, 0.1, 1, 1])\n",
    "\n",
    "plt.savefig(f'{dir}forecast/CNBS_forecast_MichHuron_example.png')\n",
    "plt.show()"
   ]
  }
 ],
 "metadata": {
  "kernelspec": {
   "display_name": "env",
   "language": "python",
   "name": "python3"
  },
  "language_info": {
   "codemirror_mode": {
    "name": "ipython",
    "version": 3
   },
   "file_extension": ".py",
   "mimetype": "text/x-python",
   "name": "python",
   "nbconvert_exporter": "python",
   "pygments_lexer": "ipython3",
   "version": "3.12.3"
  }
 },
 "nbformat": 4,
 "nbformat_minor": 2
}
