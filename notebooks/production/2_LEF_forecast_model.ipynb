{
 "cells": [
  {
   "cell_type": "markdown",
   "metadata": {},
   "source": [
    "# Forecasting CNBS\n",
    "Lindsay Fitzpatrick\n",
    "ljob@umich.edu\n",
    "08/19/2024\n",
    "Updated: 03/17/2025\n",
    "\n",
    "This script performs the following tasks:\n",
    "\n",
    "1. Loads the database containing processed CFS forecast data.\n",
    "2. Passes the forecast data through the trained model(s).\n",
    "3. Generates an ensemble of CNBS forecasts for each of the Great Lakes.\n",
    "4. Saves the forecasts to a database and/or CSV file.\n",
    "5. Creates a figure with time series plots and exports it as a PNG file.\n",
    "\n",
    "The script requires the following files:\n",
    "- cfs_forecast_data.db\n",
    "- x_scaler.joblib\n",
    "- y_scaler.joblib\n",
    "\n",
    "And at least one or more of the following trained models:\n",
    "- GP_trained_model.joblib\n",
    "- RF_trained_model.joblib\n",
    "- LR_trained_model.joblib\n",
    "- NN_trained_model.joblib"
   ]
  },
  {
   "cell_type": "code",
   "execution_count": 19,
   "metadata": {},
   "outputs": [],
   "source": [
    "import pandas as pd\n",
    "import numpy as np\n",
    "import matplotlib.pyplot as plt\n",
    "import sqlite3\n",
    "import os\n",
    "import sys\n",
    "import plotly.graph_objects as go\n",
    "from plotly.subplots import make_subplots"
   ]
  },
  {
   "cell_type": "code",
   "execution_count": 20,
   "metadata": {},
   "outputs": [],
   "source": [
    "# Add the path to the src directory (two levels up)\n",
    "sys.path.append(os.path.abspath('../../'))\n",
    "from src.data_processing import filter_predictions, predict_cnbs, add_df_to_db\n",
    "from src.hydro_utils import convert_mm_to_cms"
   ]
  },
  {
   "cell_type": "markdown",
   "metadata": {},
   "source": [
    "# User Input"
   ]
  },
  {
   "cell_type": "code",
   "execution_count": 21,
   "metadata": {},
   "outputs": [],
   "source": [
    "# Directory where the repository is cloned\n",
    "path_to_repo = '/Users/ljob/Desktop/'\n",
    "\n",
    "# Path to data directory\n",
    "dir = path_to_repo + 'cnbs-predictor-1/data/'\n",
    "\n",
    "# Path to input CFS forecast database\n",
    "cfs_database = dir + 'input/cfs_forecast_data.db'\n",
    "\n",
    "# Path to save CNBS forecast output to a database\n",
    "cnbs_database = dir + 'forecast/cnbs_forecast.db'\n",
    "\n",
    "# Path to saved scalers\n",
    "x_scaler = dir + 'input/x_scaler.joblib'\n",
    "y_scaler = dir + 'input/y_scaler.joblib'\n",
    "\n",
    "# Define directory to trained models to use along with their paths\n",
    "models_info = [{'model': 'GP', 'path': dir + 'input/GP_trained_model.joblib'},\n",
    "               {'model': 'RF', 'path': dir + 'input/RF_trained_model.joblib'},\n",
    "               {'model': 'LR', 'path': dir + 'input/LR_trained_model.joblib'},\n",
    "               {'model': 'NN', 'path': dir + 'input/NN_trained_model.joblib'}]"
   ]
  },
  {
   "cell_type": "markdown",
   "metadata": {},
   "source": [
    "# Begin Script"
   ]
  },
  {
   "cell_type": "code",
   "execution_count": 59,
   "metadata": {},
   "outputs": [],
   "source": [
    "# Create a connection to the SQLite database\n",
    "conn = sqlite3.connect(cfs_database)\n",
    "\n",
    "# Define the query to get all the data\n",
    "query = '''\n",
    "SELECT * FROM cfs_forecast_data\n",
    "'''\n",
    "\n",
    "# Execute the query and fetch the data into a DataFrame\n",
    "data = pd.read_sql(query, conn)\n",
    "\n",
    "# Close the connection once done\n",
    "conn.close()\n",
    "\n",
    "data.set_index(['cfs_run', 'month', 'year'], drop=True, inplace=True)"
   ]
  },
  {
   "cell_type": "code",
   "execution_count": 60,
   "metadata": {},
   "outputs": [],
   "source": [
    "# This creates 1 column with a variable name that combines column names from the database\n",
    "# It just makes it simplier for the moment to call the data\n",
    "data['variable'] = data['lake'] + '_' + data['surface_type'] + '_' + data['component']"
   ]
  },
  {
   "cell_type": "code",
   "execution_count": null,
   "metadata": {},
   "outputs": [],
   "source": [
    "# The variable names based on the above step in the order that they need to be in based on the order of variables during the training step\n",
    "variables = ['superior_lake_precipitation', 'erie_lake_precipitation', 'ontario_lake_precipitation', 'michigan-huron_lake_precipitation', \n",
    "             'superior_land_precipitation', 'erie_land_precipitation', 'ontario_land_precipitation', 'michigan-huron_land_precipitation', \n",
    "             'superior_lake_evaporation', 'erie_lake_evaporation', 'ontario_lake_evaporation', 'michigan-huron_lake_evaporation',\n",
    "             'superior_land_evaporation', 'erie_land_evaporation', 'ontario_land_evaporation', 'michigan-huron_land_evaporation',\n",
    "             'superior_lake_air_temperature', 'erie_lake_air_temperature', 'ontario_lake_air_temperature', 'michigan-huron_lake_air_temperature', \n",
    "             'superior_land_air_temperature', 'erie_land_air_temperature', 'ontario_land_air_temperature', 'michigan-huron_land_air_temperature'\n",
    "             ]  + [f'month_{i}' for i in range(1, 13)]\n",
    "\n",
    "data = data.reset_index()\n",
    "X = data.pivot_table(index=['cfs_run', 'year', 'month'], columns='variable', values='value [mm]')\n",
    "# Remove column level name\n",
    "X.columns.name = None\n",
    "\n",
    "# Extract month from index and one-hot encode\n",
    "X['month'] = X.index.get_level_values('month')\n",
    "X = pd.get_dummies(X, columns=['month'], prefix='month')\n",
    "\n",
    "# Ensure all month columns exist\n",
    "for i in range(1, 13):\n",
    "    col = f'month_{i}'\n",
    "    if col not in X.columns:\n",
    "        X[col] = 0\n",
    "\n",
    "# Reorder columns to match training order\n",
    "X = X[variables]\n",
    "\n",
    "# For any reason, in a worse case scenario and there are NaNs (which there would never ever be missing data), drop the rows that include them\n",
    "# Check first to see if there are NaN values in the DataFrame\n",
    "if X.isna().any().any():\n",
    "    print(\"NaNs were found in the input dataset. Details below:\\n\")\n",
    "\n",
    "    # Optional: Show row indices with any NaNs\n",
    "    print(\"\\nRows with NaNs:\")\n",
    "    print(X[X.isna().any(axis=1)])\n",
    "\n",
    "    print(\"\\nRemoving rows with NaN values before continuing.\\n\")\n",
    "    X = X.dropna(how='any')"
   ]
  },
  {
   "cell_type": "code",
   "execution_count": 25,
   "metadata": {},
   "outputs": [
    {
     "name": "stdout",
     "output_type": "stream",
     "text": [
      "First month forecast: 5\n"
     ]
    }
   ],
   "source": [
    "# This removes any old cfs forecasts that we do not need cnbs forecasts for (such as forecasts for months that have passed). \n",
    "X_filtered = filter_predictions(X)"
   ]
  },
  {
   "cell_type": "markdown",
   "metadata": {},
   "source": [
    "Run CFS data through the trained models"
   ]
  },
  {
   "cell_type": "code",
   "execution_count": 26,
   "metadata": {},
   "outputs": [
    {
     "name": "stdout",
     "output_type": "stream",
     "text": [
      "\u001b[1m168/168\u001b[0m \u001b[32m━━━━━━━━━━━━━━━━━━━━\u001b[0m\u001b[37m\u001b[0m \u001b[1m0s\u001b[0m 293us/step\n"
     ]
    }
   ],
   "source": [
    "# Initialize an empty dataframe to store predictions by model name\n",
    "model_predictions = []\n",
    "\n",
    "# Process each model and add to DB\n",
    "for model_info in models_info:\n",
    "    model_name = model_info['model']\n",
    "    df_y = predict_cnbs(X_filtered, x_scaler, y_scaler, models_info, model_name)\n",
    "    if df_y is not None:\n",
    "        # Store the predictions in the dataframe\n",
    "        df_y['model'] = model_name\n",
    "        model_predictions.append(df_y)\n",
    "\n",
    "df = pd.concat(model_predictions, ignore_index=False).reset_index()\n"
   ]
  },
  {
   "cell_type": "markdown",
   "metadata": {},
   "source": [
    "Format the CNBS forecasts, calculate values from mm to cms and add data to a database"
   ]
  },
  {
   "cell_type": "code",
   "execution_count": 27,
   "metadata": {},
   "outputs": [],
   "source": [
    "# Format the data so it is organized and ready to add to the database\n",
    "melt_df = df.melt(id_vars=['model', 'cfs_run', 'month', 'year'], var_name='lake_cnbs', value_name='value [mm]')\n",
    "melt_df[['lake', 'component']] = melt_df['lake_cnbs'].str.split('_', expand=True)\n",
    "melt_df_formatted = melt_df.drop(columns=['lake_cnbs']).loc[:, ['cfs_run', 'month', 'year', 'model', 'lake', 'component', 'value [mm]']]\n",
    "melt_df_formatted = melt_df_formatted.sort_values(by=['cfs_run', 'month', 'year', 'model', 'lake']).set_index(['cfs_run', 'month', 'year'])\n",
    "df_all = convert_mm_to_cms(melt_df_formatted)\n",
    "add_df_to_db(cnbs_database, 'cnbs_forecast', df_all)"
   ]
  },
  {
   "cell_type": "markdown",
   "metadata": {},
   "source": [
    "Calculate the mean of each month forecast by model"
   ]
  },
  {
   "cell_type": "code",
   "execution_count": 28,
   "metadata": {},
   "outputs": [],
   "source": [
    "df_y_model_mean = df_all.groupby(['year', 'month', 'model', 'lake', 'component'])[['value [mm]', 'value [cms]']].mean().round(3)\n",
    "add_df_to_db(cnbs_database, 'cnbs_forecast_model_mean', df_y_model_mean)"
   ]
  },
  {
   "cell_type": "markdown",
   "metadata": {},
   "source": [
    "Calculate the mean of each month from all the model ensemble forecasts"
   ]
  },
  {
   "cell_type": "code",
   "execution_count": 29,
   "metadata": {},
   "outputs": [],
   "source": [
    "# Get the mean value for each forecast month\n",
    "df_y_mean = df_all.groupby(['year', 'month', 'lake', 'component'])[['value [mm]', 'value [cms]']].mean().round(3).reset_index()\n",
    "\n",
    "# Rename columns\n",
    "df_y_mean.rename(columns={'year': 'forecast_year', 'month': 'forecast_month'}, inplace=True)\n",
    "\n",
    "# Set a \"current year\" and \"current month\" to make tracking the forecast easier\n",
    "df_y_mean['current_year'] = df_y_mean['forecast_year'][0]\n",
    "df_y_mean['current_month'] = df_y_mean['forecast_month'][0]\n",
    "\n",
    "# Only keep the columns we need and in a particulat order\n",
    "df_y_mean = df_y_mean[['current_year', 'current_month', 'forecast_year', 'forecast_month', 'lake', 'component', 'value [mm]', 'value [cms]']]\n",
    "\n",
    "# Save to a CSV [mm]\n",
    "df_y_mean.to_csv(f'{dir}forecast/CNBS_forecast.csv', sep='\\t', index=False)"
   ]
  },
  {
   "cell_type": "code",
   "execution_count": 30,
   "metadata": {},
   "outputs": [],
   "source": [
    "# Create a column that is forecast date in YYYY_MM. This will just make is easier to pivot the table\n",
    "df_y_mean['forecast'] = df_y_mean['forecast_year'].astype(str) + '_' + df_y_mean['forecast_month'].astype(str).str.zfill(2)\n",
    "\n",
    "# Make sure they are sorted by the forecast date\n",
    "df_test = df_y_mean.sort_values(['current_year', 'current_month', 'lake', 'forecast'])\n",
    "\n",
    "# Pivot the table so the forecast date is in columns instead of rows\n",
    "df_pivoted = df_test.pivot_table(\n",
    "    index=['current_year', 'current_month', 'lake', 'component'],\n",
    "    columns='forecast',\n",
    "    values='value [cms]'\n",
    "    ).reset_index()\n",
    "df_pivoted.columns.name = None"
   ]
  },
  {
   "cell_type": "code",
   "execution_count": 31,
   "metadata": {},
   "outputs": [],
   "source": [
    "# Get the forecast columns\n",
    "forecast_cols = df_pivoted.columns.difference(['current_year', 'current_month', 'lake', 'component'])\n",
    "\n",
    "# Sort the data\n",
    "forecast_cols_sorted = sorted(forecast_cols)\n",
    "\n",
    "# Rename columns to month_1, month_2, ...\n",
    "rename_dict = {old: f'month_{i+1}' for i, old in enumerate(forecast_cols_sorted)}\n",
    "df_pivoted = df_pivoted.rename(columns=rename_dict)"
   ]
  },
  {
   "cell_type": "markdown",
   "metadata": {},
   "source": [
    "Plot the forecasts for each component for each lake by model output"
   ]
  },
  {
   "cell_type": "code",
   "execution_count": null,
   "metadata": {},
   "outputs": [
    {
     "ename": "AttributeError",
     "evalue": "'numpy.ndarray' object has no attribute 'get_legend_handles_labels'",
     "output_type": "error",
     "traceback": [
      "\u001b[31m---------------------------------------------------------------------------\u001b[39m",
      "\u001b[31mAttributeError\u001b[39m                            Traceback (most recent call last)",
      "\u001b[36mCell\u001b[39m\u001b[36m \u001b[39m\u001b[32mIn[66]\u001b[39m\u001b[32m, line 98\u001b[39m\n\u001b[32m     93\u001b[39m fig.suptitle(\u001b[33m'\u001b[39m\u001b[33mGreat Lakes 9-Month NBS [mm] Forecast\u001b[39m\u001b[33m'\u001b[39m, fontsize=\u001b[32m16\u001b[39m)\n\u001b[32m     95\u001b[39m \u001b[38;5;66;03m# Add legend\u001b[39;00m\n\u001b[32m     96\u001b[39m \u001b[38;5;66;03m#axs[0, 3].legend(loc='lower left', bbox_to_anchor=(1, 0.04), fontsize=12)\u001b[39;00m\n\u001b[32m---> \u001b[39m\u001b[32m98\u001b[39m handles, labels = \u001b[43maxs\u001b[49m\u001b[43m[\u001b[49m\u001b[32;43m0\u001b[39;49m\u001b[43m]\u001b[49m\u001b[43m.\u001b[49m\u001b[43mget_legend_handles_labels\u001b[49m()\n\u001b[32m     99\u001b[39m fig.legend(\n\u001b[32m    100\u001b[39m     handles,\n\u001b[32m    101\u001b[39m     labels,\n\u001b[32m   (...)\u001b[39m\u001b[32m    105\u001b[39m     fontsize=\u001b[32m12\u001b[39m\n\u001b[32m    106\u001b[39m )\n\u001b[32m    108\u001b[39m \u001b[38;5;66;03m# Save and show\u001b[39;00m\n",
      "\u001b[31mAttributeError\u001b[39m: 'numpy.ndarray' object has no attribute 'get_legend_handles_labels'"
     ]
    },
    {
     "data": {
      "image/png": "[encoded data removed]",
      "text/plain": [
       "<Figure size 1800x800 with 16 Axes>"
      ]
     },
     "metadata": {},
     "output_type": "display_data"
    }
   ],
   "source": [
    "# Define model colors\n",
    "model_colors = {\n",
    "    'GP': 'blue',\n",
    "    'RF': 'green',\n",
    "    'LR': 'red',\n",
    "    'NN': 'purple'\n",
    "}\n",
    "\n",
    "# Columns of interest in the order we want to plot them\n",
    "columns = [\n",
    "    'superior_evaporation', 'superior_precipitation', 'superior_runoff', 'superior_cnbs',\n",
    "    'michigan-huron_evaporation', 'michigan-huron_precipitation', 'michigan-huron_runoff', 'michigan-huron_cnbs',\n",
    "    'erie_evaporation', 'erie_precipitation', 'erie_runoff', 'erie_cnbs',\n",
    "    'ontario_evaporation', 'ontario_precipitation', 'ontario_runoff', 'ontario_cnbs'\n",
    "]\n",
    "\n",
    "# Create a 4x4 subplot grid\n",
    "fig, axs = plt.subplots(4, 4, figsize=(18, 8))\n",
    "\n",
    "# Shared y-limits for columns 0–2\n",
    "shared_y_min, shared_y_max = float('inf'), float('-inf')\n",
    "\n",
    "# Separate y-limits for column 3 (NBS)\n",
    "col4_y_min, col4_y_max = float('inf'), float('-inf')\n",
    "\n",
    "# Loop over all the columns and plot\n",
    "for i, column in enumerate(columns):\n",
    "    row = i // 4\n",
    "    col = i % 4\n",
    "\n",
    "    # Determine the lower and upper bounds (confidence intervals)\n",
    "    lower_bound = df.groupby(['year', 'month'])[column].quantile(0.025).reset_index()\n",
    "    upper_bound = df.groupby(['year', 'month'])[column].quantile(0.975).reset_index()\n",
    "\n",
    "    for model_info in models_info:\n",
    "        model_name = model_info['model']\n",
    "        model_mean = df[df['model'] == model_name]\n",
    "        mean_df = model_mean.groupby(['year', 'month']).mean(numeric_only=True).reset_index()\n",
    "        mean_df['date'] = pd.to_datetime(mean_df[['year', 'month']].assign(day=1))\n",
    "\n",
    "        axs[row, col].plot(mean_df['date'], mean_df[column], marker='o', markersize=3,\n",
    "                           color=model_colors[model_name], label=model_name)\n",
    "\n",
    "    axs[row, col].fill_between(mean_df['date'], lower_bound[column], upper_bound[column],\n",
    "                               color='gray', alpha=0.2, label = '95%')\n",
    "\n",
    "    axs[row, col].axhline(0, color='black', linestyle='--', linewidth=1)\n",
    "    axs[row, col].grid(True, linestyle='--', alpha=0.6)\n",
    "    axs[row, col].set_yticks(np.arange(-1000, 1000, 50))\n",
    "\n",
    "    # Track y-axis limits\n",
    "    current_y_min = lower_bound[column].min()\n",
    "    current_y_max = upper_bound[column].max()\n",
    "\n",
    "    if col < 3:\n",
    "        shared_y_min = min(shared_y_min, current_y_min)\n",
    "        shared_y_max = max(shared_y_max, current_y_max)\n",
    "    else:\n",
    "        col4_y_min = min(col4_y_min, current_y_min)\n",
    "        col4_y_max = max(col4_y_max, current_y_max)\n",
    "\n",
    "    # Titles\n",
    "    if row == 0:\n",
    "        axs[row, col].set_title(['Evaporation', 'Precipitation', 'Runoff', 'Total NBS'][col], fontsize=14)\n",
    "\n",
    "    # X-axis formatting\n",
    "    if row == 3:\n",
    "        axs[row, col].xaxis.set_major_formatter(plt.matplotlib.dates.DateFormatter('%m-%Y'))\n",
    "        axs[row, col].tick_params(axis='x', rotation=45)\n",
    "        for label in axs[row, col].get_xticklabels():\n",
    "            label.set_horizontalalignment('right')\n",
    "    else:\n",
    "        axs[row, col].set_xticklabels([])\n",
    "\n",
    "    # Y-axis labels\n",
    "    if col == 0:\n",
    "        axs[row, col].set_ylabel(['Superior', 'Mich-Huron', 'Erie', 'Ontario'][row], fontsize=14)\n",
    "    elif col == 3:\n",
    "        axs[row, col].set_ylabel(['', '', '', ''][row], fontsize=14)\n",
    "    else:\n",
    "        axs[row, col].set_yticklabels([])\n",
    "\n",
    "# Apply y-axis limits\n",
    "for row in range(4):\n",
    "    for col in range(4):\n",
    "        if col < 3:\n",
    "            axs[row, col].set_ylim(shared_y_min - 10, shared_y_max + 10)\n",
    "        else:\n",
    "            axs[row, col].set_ylim(col4_y_min - 10, col4_y_max + 10)\n",
    "\n",
    "        axs[row, col].set_xlim(mean_df['date'].iloc[0], mean_df['date'].iloc[-1])\n",
    "\n",
    "fig.suptitle('Great Lakes 9-Month NBS [mm] Forecast', fontsize=16)\n",
    "\n",
    "# Add legend\n",
    "axs[0, 3].legend(loc='lower left', bbox_to_anchor=(1, 0.04), fontsize=12)\n",
    "\n",
    "# Save and show\n",
    "plt.savefig(f'{dir}forecast/CNBS_forecasts.png')\n",
    "plt.tight_layout()\n",
    "plt.show()\n"
   ]
  },
  {
   "cell_type": "markdown",
   "metadata": {},
   "source": [
    "Create an interactive figure that will let you hover over lines and it shows the model and value. This saves as an html file and opens in a web browser."
   ]
  },
  {
   "cell_type": "code",
   "execution_count": null,
   "metadata": {},
   "outputs": [
    {
     "data": {
      "application/vnd.plotly.v1+json": {
       "config": {
        "plotlyServerURL": "https://plot.ly"
       },
       "data": [
        {
         "fill": "toself",
         "fillcolor": "rgba(169, 169, 169, 0.2)",
         "hovertemplate": "Date: %{x}<br>Conf: 95%<br>Value: %{y}",
         "line": {
          "color": "rgba(255,255,255,0)"
         },
         "showlegend": false,
         "type": "scatter",
         "x": [
          "2025-05-01T00:00:00.000000000",
          "2025-06-01T00:00:00.000000000",
          "2025-07-01T00:00:00.000000000",
          "2025-08-01T00:00:00.000000000",
          "2025-09-01T00:00:00.000000000",
          "2025-10-01T00:00:00.000000000",
          "2025-11-01T00:00:00.000000000",
          "2025-12-01T00:00:00.000000000",
          "2026-01-01T00:00:00.000000000",
          "2026-01-01T00:00:00.000000000",
          "2025-12-01T00:00:00.000000000",
          "2025-11-01T00:00:00.000000000",
          "2025-10-01T00:00:00.000000000",
          "2025-09-01T00:00:00.000000000",
          "2025-08-01T00:00:00.000000000",
          "2025-07-01T00:00:00.000000000",
          "2025-06-01T00:00:00.000000000",
          "2025-05-01T00:00:00.000000000"
         ],
         "xaxis": "x",
         "y": {
          "bdata": "+TPbHdEdN0CgbWHklFozQEya21cWsjBAUOFEabBeJ0BM+uX4mX87QFbaUZn3NEpA7z/5UI2WUUAacYlxDpxTQDRxHTqQn1JALlcdOK0SXUBSd2U432NfQFqpXZZh1V5AxARHJas1V0AAAADYTjhOQAAAADQXQEFAZogrbyGRRUDMzMwIB+BIQOzMh9DRIE9A",
          "dtype": "f8"
         },
         "yaxis": "y"
        },
        {
         "hovertemplate": "Date: %{x}<br>Value: %{y}<br>Model: GP",
         "line": {
          "color": "blue",
          "shape": "linear",
          "width": 2
         },
         "marker": {
          "size": 4
         },
         "mode": "lines+markers",
         "name": "GP",
         "showlegend": true,
         "type": "scatter",
         "x": [
          "2025-05-01T00:00:00.000000000",
          "2025-06-01T00:00:00.000000000",
          "2025-07-01T00:00:00.000000000",
          "2025-08-01T00:00:00.000000000",
          "2025-09-01T00:00:00.000000000",
          "2025-10-01T00:00:00.000000000",
          "2025-11-01T00:00:00.000000000",
          "2025-12-01T00:00:00.000000000",
          "2026-01-01T00:00:00.000000000"
         ],
         "xaxis": "x",
         "y": {
          "bdata": "tbiKq2eVQkB7CS0VwHxAQFF0+0QoAz5APCNhwutfNUCjhHcagQhEQEfhO/m9a1FAOa61BwZIWEB2xXe2WHhaQEGaxxrqnVdA",
          "dtype": "f8"
         },
         "yaxis": "y"
        },
        {
         "fill": "toself",
         "fillcolor": "rgba(169, 169, 169, 0.2)",
         "hovertemplate": "Date: %{x}<br>Conf: 95%<br>Value: %{y}",
         "line": {
          "color": "rgba(255,255,255,0)"
         },
         "showlegend": false,
         "type": "scatter",
         "x": [
          "2025-05-01T00:00:00.000000000",
          "2025-06-01T00:00:00.000000000",
          "2025-07-01T00:00:00.000000000",
          "2025-08-01T00:00:00.000000000",
          "2025-09-01T00:00:00.000000000",
          "2025-10-01T00:00:00.000000000",
          "2025-11-01T00:00:00.000000000",
          "2025-12-01T00:00:00.000000000",
          "2026-01-01T00:00:00.000000000",
          "2026-01-01T00:00:00.000000000",
          "2025-12-01T00:00:00.000000000",
          "2025-11-01T00:00:00.000000000",
          "2025-10-01T00:00:00.000000000",
          "2025-09-01T00:00:00.000000000",
          "2025-08-01T00:00:00.000000000",
          "2025-07-01T00:00:00.000000000",
          "2025-06-01T00:00:00.000000000",
          "2025-05-01T00:00:00.000000000"
         ],
         "xaxis": "x",
         "y": {
          "bdata": "+TPbHdEdN0CgbWHklFozQEya21cWsjBAUOFEabBeJ0BM+uX4mX87QFbaUZn3NEpA7z/5UI2WUUAacYlxDpxTQDRxHTqQn1JALlcdOK0SXUBSd2U432NfQFqpXZZh1V5AxARHJas1V0AAAADYTjhOQAAAADQXQEFAZogrbyGRRUDMzMwIB+BIQOzMh9DRIE9A",
          "dtype": "f8"
         },
         "yaxis": "y"
        },
        {
         "hovertemplate": "Date: %{x}<br>Value: %{y}<br>Model: RF",
         "line": {
          "color": "green",
          "shape": "linear",
          "width": 2
         },
         "marker": {
          "size": 4
         },
         "mode": "lines+markers",
         "name": "RF",
         "showlegend": true,
         "type": "scatter",
         "x": [
          "2025-05-01T00:00:00.000000000",
          "2025-06-01T00:00:00.000000000",
          "2025-07-01T00:00:00.000000000",
          "2025-08-01T00:00:00.000000000",
          "2025-09-01T00:00:00.000000000",
          "2025-10-01T00:00:00.000000000",
          "2025-11-01T00:00:00.000000000",
          "2025-12-01T00:00:00.000000000",
          "2026-01-01T00:00:00.000000000"
         ],
         "xaxis": "x",
         "y": {
          "bdata": "ylQdo8GaRUCeqDYaYBo4QLAZ+bnm/zNA2lqm1ao9M0A5DuiUXMNDQKEmscZdTlJAwTyOEux3V0Bgr9FIFx9ZQCSZq99V2VhA",
          "dtype": "f8"
         },
         "yaxis": "y"
        },
        {
         "fill": "toself",
         "fillcolor": "rgba(169, 169, 169, 0.2)",
         "hovertemplate": "Date: %{x}<br>Conf: 95%<br>Value: %{y}",
         "line": {
          "color": "rgba(255,255,255,0)"
         },
         "showlegend": false,
         "type": "scatter",
         "x": [
          "2025-05-01T00:00:00.000000000",
          "2025-06-01T00:00:00.000000000",
          "2025-07-01T00:00:00.000000000",
          "2025-08-01T00:00:00.000000000",
          "2025-09-01T00:00:00.000000000",
          "2025-10-01T00:00:00.000000000",
          "2025-11-01T00:00:00.000000000",
          "2025-12-01T00:00:00.000000000",
          "2026-01-01T00:00:00.000000000",
          "2026-01-01T00:00:00.000000000",
          "2025-12-01T00:00:00.000000000",
          "2025-11-01T00:00:00.000000000",
          "2025-10-01T00:00:00.000000000",
          "2025-09-01T00:00:00.000000000",
          "2025-08-01T00:00:00.000000000",
          "2025-07-01T00:00:00.000000000",
          "2025-06-01T00:00:00.000000000",
          "2025-05-01T00:00:00.000000000"
         ],
         "xaxis": "x",
         "y": {
          "bdata": "+TPbHdEdN0CgbWHklFozQEya21cWsjBAUOFEabBeJ0BM+uX4mX87QFbaUZn3NEpA7z/5UI2WUUAacYlxDpxTQDRxHTqQn1JALlcdOK0SXUBSd2U432NfQFqpXZZh1V5AxARHJas1V0AAAADYTjhOQAAAADQXQEFAZogrbyGRRUDMzMwIB+BIQOzMh9DRIE9A",
          "dtype": "f8"
         },
         "yaxis": "y"
        },
        {
         "hovertemplate": "Date: %{x}<br>Value: %{y}<br>Model: LR",
         "line": {
          "color": "red",
          "shape": "linear",
          "width": 2
         },
         "marker": {
          "size": 4
         },
         "mode": "lines+markers",
         "name": "LR",
         "showlegend": true,
         "type": "scatter",
         "x": [
          "2025-05-01T00:00:00.000000000",
          "2025-06-01T00:00:00.000000000",
          "2025-07-01T00:00:00.000000000",
          "2025-08-01T00:00:00.000000000",
          "2025-09-01T00:00:00.000000000",
          "2025-10-01T00:00:00.000000000",
          "2025-11-01T00:00:00.000000000",
          "2025-12-01T00:00:00.000000000",
          "2026-01-01T00:00:00.000000000"
         ],
         "xaxis": "x",
         "y": {
          "bdata": "Yuog4IIpP0BvvmsyoQVAQA9QvVcVq0BACy6B3V4YM0DuAPc4nAtEQDpeMEIHCVJA7ITINsa1WUDUpjcfeCJcQH9DDGGV61hA",
          "dtype": "f8"
         },
         "yaxis": "y"
        },
        {
         "fill": "toself",
         "fillcolor": "rgba(169, 169, 169, 0.2)",
         "hovertemplate": "Date: %{x}<br>Conf: 95%<br>Value: %{y}",
         "line": {
          "color": "rgba(255,255,255,0)"
         },
         "showlegend": false,
         "type": "scatter",
         "x": [
          "2025-05-01T00:00:00.000000000",
          "2025-06-01T00:00:00.000000000",
          "2025-07-01T00:00:00.000000000",
          "2025-08-01T00:00:00.000000000",
          "2025-09-01T00:00:00.000000000",
          "2025-10-01T00:00:00.000000000",
          "2025-11-01T00:00:00.000000000",
          "2025-12-01T00:00:00.000000000",
          "2026-01-01T00:00:00.000000000",
          "2026-01-01T00:00:00.000000000",
          "2025-12-01T00:00:00.000000000",
          "2025-11-01T00:00:00.000000000",
          "2025-10-01T00:00:00.000000000",
          "2025-09-01T00:00:00.000000000",
          "2025-08-01T00:00:00.000000000",
          "2025-07-01T00:00:00.000000000",
          "2025-06-01T00:00:00.000000000",
          "2025-05-01T00:00:00.000000000"
         ],
         "xaxis": "x",
         "y": {
          "bdata": "+TPbHdEdN0CgbWHklFozQEya21cWsjBAUOFEabBeJ0BM+uX4mX87QFbaUZn3NEpA7z/5UI2WUUAacYlxDpxTQDRxHTqQn1JALlcdOK0SXUBSd2U432NfQFqpXZZh1V5AxARHJas1V0AAAADYTjhOQAAAADQXQEFAZogrbyGRRUDMzMwIB+BIQOzMh9DRIE9A",
          "dtype": "f8"
         },
         "yaxis": "y"
        },
        {
         "hovertemplate": "Date: %{x}<br>Value: %{y}<br>Model: NN",
         "line": {
          "color": "purple",
          "shape": "linear",
          "width": 2
         },
         "marker": {
          "size": 4
         },
         "mode": "lines+markers",
         "name": "NN",
         "showlegend": true,
         "type": "scatter",
         "x": [
          "2025-05-01T00:00:00.000000000",
          "2025-06-01T00:00:00.000000000",
          "2025-07-01T00:00:00.000000000",
          "2025-08-01T00:00:00.000000000",
          "2025-09-01T00:00:00.000000000",
          "2025-10-01T00:00:00.000000000",
          "2025-11-01T00:00:00.000000000",
          "2025-12-01T00:00:00.000000000",
          "2026-01-01T00:00:00.000000000"
         ],
         "xaxis": "x",
         "y": {
          "bdata": "zvIkMq69R0BWf0tMzhRFQDv6WOGVpUFA2tPD9sHwOEBYHm+kHqxHQAsxf9wSY1FAgnJ93JiqV0BUL+az+chaQOospkNbIVdA",
          "dtype": "f8"
         },
         "yaxis": "y"
        },
        {
         "line": {
          "color": "black"
         },
         "mode": "lines",
         "showlegend": false,
         "type": "scatter",
         "x": [
          "2025-05-01T00:00:00",
          "2026-01-01T00:00:00"
         ],
         "xaxis": "x",
         "y": [
          0,
          0
         ],
         "yaxis": "y"
        },
        {
         "fill": "toself",
         "fillcolor": "rgba(169, 169, 169, 0.2)",
         "hovertemplate": "Date: %{x}<br>Conf: 95%<br>Value: %{y}",
         "line": {
          "color": "rgba(255,255,255,0)"
         },
         "showlegend": false,
         "type": "scatter",
         "x": [
          "2025-05-01T00:00:00.000000000",
          "2025-06-01T00:00:00.000000000",
          "2025-07-01T00:00:00.000000000",
          "2025-08-01T00:00:00.000000000",
          "2025-09-01T00:00:00.000000000",
          "2025-10-01T00:00:00.000000000",
          "2025-11-01T00:00:00.000000000",
          "2025-12-01T00:00:00.000000000",
          "2026-01-01T00:00:00.000000000",
          "2026-01-01T00:00:00.000000000",
          "2025-12-01T00:00:00.000000000",
          "2025-11-01T00:00:00.000000000",
          "2025-10-01T00:00:00.000000000",
          "2025-09-01T00:00:00.000000000",
          "2025-08-01T00:00:00.000000000",
          "2025-07-01T00:00:00.000000000",
          "2025-06-01T00:00:00.000000000",
          "2025-05-01T00:00:00.000000000"
         ],
         "xaxis": "x2",
         "y": {
          "bdata": "iTFFuYZzOEAAAADw6VdAQDMzM5snNEJANsRqrKlQTUAFrmK4P05NQHSdwCKkTkFAFEAh2vLtPEAAAABAeGc3QAEsr5gWqThAXxOC1tRZUEDu4M/7kNJRQB7A+wRzplpA/ZaN9lD5X0B1dhH3FwBjQNrutwtpSGJAyhgLQhZ/X0C8zMRxPuVfQMzMzEDhzFtA",
          "dtype": "f8"
         },
         "yaxis": "y2"
        },
        {
         "hovertemplate": "Date: %{x}<br>Value: %{y}<br>Model: GP",
         "line": {
          "color": "blue",
          "shape": "linear",
          "width": 2
         },
         "marker": {
          "size": 4
         },
         "mode": "lines+markers",
         "name": "GP",
         "showlegend": false,
         "type": "scatter",
         "x": [
          "2025-05-01T00:00:00.000000000",
          "2025-06-01T00:00:00.000000000",
          "2025-07-01T00:00:00.000000000",
          "2025-08-01T00:00:00.000000000",
          "2025-09-01T00:00:00.000000000",
          "2025-10-01T00:00:00.000000000",
          "2025-11-01T00:00:00.000000000",
          "2025-12-01T00:00:00.000000000",
          "2026-01-01T00:00:00.000000000"
         ],
         "xaxis": "x2",
         "y": {
          "bdata": "sWjFrLu2TUAQq8Bu+AxSQLO2NS6hPVJA/7Ns6V56VkAPMEq4yZtYQIK7o5nMMFFAOnDVtJCVS0BGJWS2NElFQHoLGSSIFUNA",
          "dtype": "f8"
         },
         "yaxis": "y2"
        },
        {
         "fill": "toself",
         "fillcolor": "rgba(169, 169, 169, 0.2)",
         "hovertemplate": "Date: %{x}<br>Conf: 95%<br>Value: %{y}",
         "line": {
          "color": "rgba(255,255,255,0)"
         },
         "showlegend": false,
         "type": "scatter",
         "x": [
          "2025-05-01T00:00:00.000000000",
          "2025-06-01T00:00:00.000000000",
          "2025-07-01T00:00:00.000000000",
          "2025-08-01T00:00:00.000000000",
          "2025-09-01T00:00:00.000000000",
          "2025-10-01T00:00:00.000000000",
          "2025-11-01T00:00:00.000000000",
          "2025-12-01T00:00:00.000000000",
          "2026-01-01T00:00:00.000000000",
          "2026-01-01T00:00:00.000000000",
          "2025-12-01T00:00:00.000000000",
          "2025-11-01T00:00:00.000000000",
          "2025-10-01T00:00:00.000000000",
          "2025-09-01T00:00:00.000000000",
          "2025-08-01T00:00:00.000000000",
          "2025-07-01T00:00:00.000000000",
          "2025-06-01T00:00:00.000000000",
          "2025-05-01T00:00:00.000000000"
         ],
         "xaxis": "x2",
         "y": {
          "bdata": "iTFFuYZzOEAAAADw6VdAQDMzM5snNEJANsRqrKlQTUAFrmK4P05NQHSdwCKkTkFAFEAh2vLtPEAAAABAeGc3QAEsr5gWqThAXxOC1tRZUEDu4M/7kNJRQB7A+wRzplpA/ZaN9lD5X0B1dhH3FwBjQNrutwtpSGJAyhgLQhZ/X0C8zMRxPuVfQMzMzEDhzFtA",
          "dtype": "f8"
         },
         "yaxis": "y2"
        },
        {
         "hovertemplate": "Date: %{x}<br>Value: %{y}<br>Model: RF",
         "line": {
          "color": "green",
          "shape": "linear",
          "width": 2
         },
         "marker": {
          "size": 4
         },
         "mode": "lines+markers",
         "name": "RF",
         "showlegend": false,
         "type": "scatter",
         "x": [
          "2025-05-01T00:00:00.000000000",
          "2025-06-01T00:00:00.000000000",
          "2025-07-01T00:00:00.000000000",
          "2025-08-01T00:00:00.000000000",
          "2025-09-01T00:00:00.000000000",
          "2025-10-01T00:00:00.000000000",
          "2025-11-01T00:00:00.000000000",
          "2025-12-01T00:00:00.000000000",
          "2026-01-01T00:00:00.000000000"
         ],
         "xaxis": "x2",
         "y": {
          "bdata": "MF9ndaYdU0D2jxGPE81TQCp+yIw6RFJALOEkWC3JUkBYBTXtXKRUQPKL6UP3v1BA0dz2brFgSEAlSPTjWIRFQNDtpx2cXURA",
          "dtype": "f8"
         },
         "yaxis": "y2"
        },
        {
         "fill": "toself",
         "fillcolor": "rgba(169, 169, 169, 0.2)",
         "hovertemplate": "Date: %{x}<br>Conf: 95%<br>Value: %{y}",
         "line": {
          "color": "rgba(255,255,255,0)"
         },
         "showlegend": false,
         "type": "scatter",
         "x": [
          "2025-05-01T00:00:00.000000000",
          "2025-06-01T00:00:00.000000000",
          "2025-07-01T00:00:00.000000000",
          "2025-08-01T00:00:00.000000000",
          "2025-09-01T00:00:00.000000000",
          "2025-10-01T00:00:00.000000000",
          "2025-11-01T00:00:00.000000000",
          "2025-12-01T00:00:00.000000000",
          "2026-01-01T00:00:00.000000000",
          "2026-01-01T00:00:00.000000000",
          "2025-12-01T00:00:00.000000000",
          "2025-11-01T00:00:00.000000000",
          "2025-10-01T00:00:00.000000000",
          "2025-09-01T00:00:00.000000000",
          "2025-08-01T00:00:00.000000000",
          "2025-07-01T00:00:00.000000000",
          "2025-06-01T00:00:00.000000000",
          "2025-05-01T00:00:00.000000000"
         ],
         "xaxis": "x2",
         "y": {
          "bdata": "iTFFuYZzOEAAAADw6VdAQDMzM5snNEJANsRqrKlQTUAFrmK4P05NQHSdwCKkTkFAFEAh2vLtPEAAAABAeGc3QAEsr5gWqThAXxOC1tRZUEDu4M/7kNJRQB7A+wRzplpA/ZaN9lD5X0B1dhH3FwBjQNrutwtpSGJAyhgLQhZ/X0C8zMRxPuVfQMzMzEDhzFtA",
          "dtype": "f8"
         },
         "yaxis": "y2"
        },
        {
         "hovertemplate": "Date: %{x}<br>Value: %{y}<br>Model: LR",
         "line": {
          "color": "red",
          "shape": "linear",
          "width": 2
         },
         "marker": {
          "size": 4
         },
         "mode": "lines+markers",
         "name": "LR",
         "showlegend": false,
         "type": "scatter",
         "x": [
          "2025-05-01T00:00:00.000000000",
          "2025-06-01T00:00:00.000000000",
          "2025-07-01T00:00:00.000000000",
          "2025-08-01T00:00:00.000000000",
          "2025-09-01T00:00:00.000000000",
          "2025-10-01T00:00:00.000000000",
          "2025-11-01T00:00:00.000000000",
          "2025-12-01T00:00:00.000000000",
          "2026-01-01T00:00:00.000000000"
         ],
         "xaxis": "x2",
         "y": {
          "bdata": "oU0bz1M7UED0mz3mcI9UQMKo334I7VVA59jBv4zAWUC2PYDWW4ZaQAhVX2UP/VJAgCmX7N8cUEBdUiZegUhKQESoOmn5okZA",
          "dtype": "f8"
         },
         "yaxis": "y2"
        },
        {
         "fill": "toself",
         "fillcolor": "rgba(169, 169, 169, 0.2)",
         "hovertemplate": "Date: %{x}<br>Conf: 95%<br>Value: %{y}",
         "line": {
          "color": "rgba(255,255,255,0)"
         },
         "showlegend": false,
         "type": "scatter",
         "x": [
          "2025-05-01T00:00:00.000000000",
          "2025-06-01T00:00:00.000000000",
          "2025-07-01T00:00:00.000000000",
          "2025-08-01T00:00:00.000000000",
          "2025-09-01T00:00:00.000000000",
          "2025-10-01T00:00:00.000000000",
          "2025-11-01T00:00:00.000000000",
          "2025-12-01T00:00:00.000000000",
          "2026-01-01T00:00:00.000000000",
          "2026-01-01T00:00:00.000000000",
          "2025-12-01T00:00:00.000000000",
          "2025-11-01T00:00:00.000000000",
          "2025-10-01T00:00:00.000000000",
          "2025-09-01T00:00:00.000000000",
          "2025-08-01T00:00:00.000000000",
          "2025-07-01T00:00:00.000000000",
          "2025-06-01T00:00:00.000000000",
          "2025-05-01T00:00:00.000000000"
         ],
         "xaxis": "x2",
         "y": {
          "bdata": "iTFFuYZzOEAAAADw6VdAQDMzM5snNEJANsRqrKlQTUAFrmK4P05NQHSdwCKkTkFAFEAh2vLtPEAAAABAeGc3QAEsr5gWqThAXxOC1tRZUEDu4M/7kNJRQB7A+wRzplpA/ZaN9lD5X0B1dhH3FwBjQNrutwtpSGJAyhgLQhZ/X0C8zMRxPuVfQMzMzEDhzFtA",
          "dtype": "f8"
         },
         "yaxis": "y2"
        },
        {
         "hovertemplate": "Date: %{x}<br>Value: %{y}<br>Model: NN",
         "line": {
          "color": "purple",
          "shape": "linear",
          "width": 2
         },
         "marker": {
          "size": 4
         },
         "mode": "lines+markers",
         "name": "NN",
         "showlegend": false,
         "type": "scatter",
         "x": [
          "2025-05-01T00:00:00.000000000",
          "2025-06-01T00:00:00.000000000",
          "2025-07-01T00:00:00.000000000",
          "2025-08-01T00:00:00.000000000",
          "2025-09-01T00:00:00.000000000",
          "2025-10-01T00:00:00.000000000",
          "2025-11-01T00:00:00.000000000",
          "2025-12-01T00:00:00.000000000",
          "2026-01-01T00:00:00.000000000"
         ],
         "xaxis": "x2",
         "y": {
          "bdata": "ZggXYASNT0BhBvjRL8pQQN+JboT3alBAD0rQOaGDV0CYxOz6A19aQJbeGbiglFJAcbthRv/qTkDeb5SJd+JDQCS4j1ByoENA",
          "dtype": "f8"
         },
         "yaxis": "y2"
        },
        {
         "line": {
          "color": "black"
         },
         "mode": "lines",
         "showlegend": false,
         "type": "scatter",
         "x": [
          "2025-05-01T00:00:00",
          "2026-01-01T00:00:00"
         ],
         "xaxis": "x2",
         "y": [
          0,
          0
         ],
         "yaxis": "y2"
        },
        {
         "fill": "toself",
         "fillcolor": "rgba(169, 169, 169, 0.2)",
         "hovertemplate": "Date: %{x}<br>Conf: 95%<br>Value: %{y}",
         "line": {
          "color": "rgba(255,255,255,0)"
         },
         "showlegend": false,
         "type": "scatter",
         "x": [
          "2025-05-01T00:00:00.000000000",
          "2025-06-01T00:00:00.000000000",
          "2025-07-01T00:00:00.000000000",
          "2025-08-01T00:00:00.000000000",
          "2025-09-01T00:00:00.000000000",
          "2025-10-01T00:00:00.000000000",
          "2025-11-01T00:00:00.000000000",
          "2025-12-01T00:00:00.000000000",
          "2026-01-01T00:00:00.000000000",
          "2026-01-01T00:00:00.000000000",
          "2025-12-01T00:00:00.000000000",
          "2025-11-01T00:00:00.000000000",
          "2025-10-01T00:00:00.000000000",
          "2025-09-01T00:00:00.000000000",
          "2025-08-01T00:00:00.000000000",
          "2025-07-01T00:00:00.000000000",
          "2025-06-01T00:00:00.000000000",
          "2025-05-01T00:00:00.000000000"
         ],
         "xaxis": "x3",
         "y": {
          "bdata": "wVvyqa1IQ0CamZntYDRAQM3MzBzhKzJAAAAAdOkiPkAIkoWKErJBQM3MzNBZCkJAqLKHR6liPkDoC6YHCGE8QD9mX3u32DtA5OwjvTVzR0AJNHAXFbpLQNt/4e84505Ae4DrT+zOTkCake6zpctKQAAAAGB8/0dAa/vawYyRR0Bf1myIzcZMQPB+9pguKlRA",
          "dtype": "f8"
         },
         "yaxis": "y3"
        },
        {
         "hovertemplate": "Date: %{x}<br>Value: %{y}<br>Model: GP",
         "line": {
          "color": "blue",
          "shape": "linear",
          "width": 2
         },
         "marker": {
          "size": 4
         },
         "mode": "lines+markers",
         "name": "GP",
         "showlegend": false,
         "type": "scatter",
         "x": [
          "2025-05-01T00:00:00.000000000",
          "2025-06-01T00:00:00.000000000",
          "2025-07-01T00:00:00.000000000",
          "2025-08-01T00:00:00.000000000",
          "2025-09-01T00:00:00.000000000",
          "2025-10-01T00:00:00.000000000",
          "2025-11-01T00:00:00.000000000",
          "2025-12-01T00:00:00.000000000",
          "2026-01-01T00:00:00.000000000"
         ],
         "xaxis": "x3",
         "y": {
          "bdata": "Jpm+lENFUUC0/GKhFT5HQHIFoNs+/0JAQlDe2oS/QkA8qgUvaZVFQH7bwf0DJkhA3Sf7OdEjSEDEsS5OzYlEQNxQh74mRkFA",
          "dtype": "f8"
         },
         "yaxis": "y3"
        },
        {
         "fill": "toself",
         "fillcolor": "rgba(169, 169, 169, 0.2)",
         "hovertemplate": "Date: %{x}<br>Conf: 95%<br>Value: %{y}",
         "line": {
          "color": "rgba(255,255,255,0)"
         },
         "showlegend": false,
         "type": "scatter",
         "x": [
          "2025-05-01T00:00:00.000000000",
          "2025-06-01T00:00:00.000000000",
          "2025-07-01T00:00:00.000000000",
          "2025-08-01T00:00:00.000000000",
          "2025-09-01T00:00:00.000000000",
          "2025-10-01T00:00:00.000000000",
          "2025-11-01T00:00:00.000000000",
          "2025-12-01T00:00:00.000000000",
          "2026-01-01T00:00:00.000000000",
          "2026-01-01T00:00:00.000000000",
          "2025-12-01T00:00:00.000000000",
          "2025-11-01T00:00:00.000000000",
          "2025-10-01T00:00:00.000000000",
          "2025-09-01T00:00:00.000000000",
          "2025-08-01T00:00:00.000000000",
          "2025-07-01T00:00:00.000000000",
          "2025-06-01T00:00:00.000000000",
          "2025-05-01T00:00:00.000000000"
         ],
         "xaxis": "x3",
         "y": {
          "bdata": "wVvyqa1IQ0CamZntYDRAQM3MzBzhKzJAAAAAdOkiPkAIkoWKErJBQM3MzNBZCkJAqLKHR6liPkDoC6YHCGE8QD9mX3u32DtA5OwjvTVzR0AJNHAXFbpLQNt/4e84505Ae4DrT+zOTkCake6zpctKQAAAAGB8/0dAa/vawYyRR0Bf1myIzcZMQPB+9pguKlRA",
          "dtype": "f8"
         },
         "yaxis": "y3"
        },
        {
         "hovertemplate": "Date: %{x}<br>Value: %{y}<br>Model: RF",
         "line": {
          "color": "green",
          "shape": "linear",
          "width": 2
         },
         "marker": {
          "size": 4
         },
         "mode": "lines+markers",
         "name": "RF",
         "showlegend": false,
         "type": "scatter",
         "x": [
          "2025-05-01T00:00:00.000000000",
          "2025-06-01T00:00:00.000000000",
          "2025-07-01T00:00:00.000000000",
          "2025-08-01T00:00:00.000000000",
          "2025-09-01T00:00:00.000000000",
          "2025-10-01T00:00:00.000000000",
          "2025-11-01T00:00:00.000000000",
          "2025-12-01T00:00:00.000000000",
          "2026-01-01T00:00:00.000000000"
         ],
         "xaxis": "x3",
         "y": {
          "bdata": "Ghbisj2nREDBtesZOVJDQMCsgSOepkJAvo+rlAJAQkDu7wcFf/lDQJcQbkNV70VANOeW2IBwQ0BrRjjb/fdAQDxVuzfm0T9A",
          "dtype": "f8"
         },
         "yaxis": "y3"
        },
        {
         "fill": "toself",
         "fillcolor": "rgba(169, 169, 169, 0.2)",
         "hovertemplate": "Date: %{x}<br>Conf: 95%<br>Value: %{y}",
         "line": {
          "color": "rgba(255,255,255,0)"
         },
         "showlegend": false,
         "type": "scatter",
         "x": [
          "2025-05-01T00:00:00.000000000",
          "2025-06-01T00:00:00.000000000",
          "2025-07-01T00:00:00.000000000",
          "2025-08-01T00:00:00.000000000",
          "2025-09-01T00:00:00.000000000",
          "2025-10-01T00:00:00.000000000",
          "2025-11-01T00:00:00.000000000",
          "2025-12-01T00:00:00.000000000",
          "2026-01-01T00:00:00.000000000",
          "2026-01-01T00:00:00.000000000",
          "2025-12-01T00:00:00.000000000",
          "2025-11-01T00:00:00.000000000",
          "2025-10-01T00:00:00.000000000",
          "2025-09-01T00:00:00.000000000",
          "2025-08-01T00:00:00.000000000",
          "2025-07-01T00:00:00.000000000",
          "2025-06-01T00:00:00.000000000",
          "2025-05-01T00:00:00.000000000"
         ],
         "xaxis": "x3",
         "y": {
          "bdata": "wVvyqa1IQ0CamZntYDRAQM3MzBzhKzJAAAAAdOkiPkAIkoWKErJBQM3MzNBZCkJAqLKHR6liPkDoC6YHCGE8QD9mX3u32DtA5OwjvTVzR0AJNHAXFbpLQNt/4e84505Ae4DrT+zOTkCake6zpctKQAAAAGB8/0dAa/vawYyRR0Bf1myIzcZMQPB+9pguKlRA",
          "dtype": "f8"
         },
         "yaxis": "y3"
        },
        {
         "hovertemplate": "Date: %{x}<br>Value: %{y}<br>Model: LR",
         "line": {
          "color": "red",
          "shape": "linear",
          "width": 2
         },
         "marker": {
          "size": 4
         },
         "mode": "lines+markers",
         "name": "LR",
         "showlegend": false,
         "type": "scatter",
         "x": [
          "2025-05-01T00:00:00.000000000",
          "2025-06-01T00:00:00.000000000",
          "2025-07-01T00:00:00.000000000",
          "2025-08-01T00:00:00.000000000",
          "2025-09-01T00:00:00.000000000",
          "2025-10-01T00:00:00.000000000",
          "2025-11-01T00:00:00.000000000",
          "2025-12-01T00:00:00.000000000",
          "2026-01-01T00:00:00.000000000"
         ],
         "xaxis": "x3",
         "y": {
          "bdata": "nktnbiBOUkAsGA0UrRVJQGcstqIkCkRAZMrHqj1fQ0ADQLm6Y/BGQNvGzPo37kpApCmI50c+TEDRbsfN9LJJQGeW1uYu2kVA",
          "dtype": "f8"
         },
         "yaxis": "y3"
        },
        {
         "fill": "toself",
         "fillcolor": "rgba(169, 169, 169, 0.2)",
         "hovertemplate": "Date: %{x}<br>Conf: 95%<br>Value: %{y}",
         "line": {
          "color": "rgba(255,255,255,0)"
         },
         "showlegend": false,
         "type": "scatter",
         "x": [
          "2025-05-01T00:00:00.000000000",
          "2025-06-01T00:00:00.000000000",
          "2025-07-01T00:00:00.000000000",
          "2025-08-01T00:00:00.000000000",
          "2025-09-01T00:00:00.000000000",
          "2025-10-01T00:00:00.000000000",
          "2025-11-01T00:00:00.000000000",
          "2025-12-01T00:00:00.000000000",
          "2026-01-01T00:00:00.000000000",
          "2026-01-01T00:00:00.000000000",
          "2025-12-01T00:00:00.000000000",
          "2025-11-01T00:00:00.000000000",
          "2025-10-01T00:00:00.000000000",
          "2025-09-01T00:00:00.000000000",
          "2025-08-01T00:00:00.000000000",
          "2025-07-01T00:00:00.000000000",
          "2025-06-01T00:00:00.000000000",
          "2025-05-01T00:00:00.000000000"
         ],
         "xaxis": "x3",
         "y": {
          "bdata": "wVvyqa1IQ0CamZntYDRAQM3MzBzhKzJAAAAAdOkiPkAIkoWKErJBQM3MzNBZCkJAqLKHR6liPkDoC6YHCGE8QD9mX3u32DtA5OwjvTVzR0AJNHAXFbpLQNt/4e84505Ae4DrT+zOTkCake6zpctKQAAAAGB8/0dAa/vawYyRR0Bf1myIzcZMQPB+9pguKlRA",
          "dtype": "f8"
         },
         "yaxis": "y3"
        },
        {
         "hovertemplate": "Date: %{x}<br>Value: %{y}<br>Model: NN",
         "line": {
          "color": "purple",
          "shape": "linear",
          "width": 2
         },
         "marker": {
          "size": 4
         },
         "mode": "lines+markers",
         "name": "NN",
         "showlegend": false,
         "type": "scatter",
         "x": [
          "2025-05-01T00:00:00.000000000",
          "2025-06-01T00:00:00.000000000",
          "2025-07-01T00:00:00.000000000",
          "2025-08-01T00:00:00.000000000",
          "2025-09-01T00:00:00.000000000",
          "2025-10-01T00:00:00.000000000",
          "2025-11-01T00:00:00.000000000",
          "2025-12-01T00:00:00.000000000",
          "2026-01-01T00:00:00.000000000"
         ],
         "xaxis": "x3",
         "y": {
          "bdata": "tqEa8+7iSUA06kVjfSREQKxYFIemszxA3Fui2KYTQ0DJf7OEkK5EQHvBm93R+UdAiTxzvntQSEDvN8ruFWFDQKuqqoqYT0FA",
          "dtype": "f8"
         },
         "yaxis": "y3"
        },
        {
         "line": {
          "color": "black"
         },
         "mode": "lines",
         "showlegend": false,
         "type": "scatter",
         "x": [
          "2025-05-01T00:00:00",
          "2026-01-01T00:00:00"
         ],
         "xaxis": "x3",
         "y": [
          0,
          0
         ],
         "yaxis": "y3"
        },
        {
         "fill": "toself",
         "fillcolor": "rgba(169, 169, 169, 0.2)",
         "hovertemplate": "Date: %{x}<br>Conf: 95%<br>Value: %{y}",
         "line": {
          "color": "rgba(255,255,255,0)"
         },
         "showlegend": false,
         "type": "scatter",
         "x": [
          "2025-05-01T00:00:00.000000000",
          "2025-06-01T00:00:00.000000000",
          "2025-07-01T00:00:00.000000000",
          "2025-08-01T00:00:00.000000000",
          "2025-09-01T00:00:00.000000000",
          "2025-10-01T00:00:00.000000000",
          "2025-11-01T00:00:00.000000000",
          "2025-12-01T00:00:00.000000000",
          "2026-01-01T00:00:00.000000000",
          "2026-01-01T00:00:00.000000000",
          "2025-12-01T00:00:00.000000000",
          "2025-11-01T00:00:00.000000000",
          "2025-10-01T00:00:00.000000000",
          "2025-09-01T00:00:00.000000000",
          "2025-08-01T00:00:00.000000000",
          "2025-07-01T00:00:00.000000000",
          "2025-06-01T00:00:00.000000000",
          "2025-05-01T00:00:00.000000000"
         ],
         "xaxis": "x4",
         "y": {
          "bdata": "AAAAACPLNEBnZmZ2PS0qQM3MzMzpOxVAjawI9KLOREDf9DGjo1JBQJYiJlBQUAvAV1LVzeF8PsCamZmBeOZEwAAAABhxR0PAaa8RVQNmPEBSMJSh8ktGQMtUmLXObFtAzZa/PO00YUDUqol5pTRlQEzkK34pXGZACw2PIqbWYkCX75/xM69kQHOO8G6kAmZA",
          "dtype": "f8"
         },
         "yaxis": "y4"
        },
        {
         "hovertemplate": "Date: %{x}<br>Value: %{y}<br>Model: GP",
         "line": {
          "color": "blue",
          "shape": "linear",
          "width": 2
         },
         "marker": {
          "size": 4
         },
         "mode": "lines+markers",
         "name": "GP",
         "showlegend": false,
         "type": "scatter",
         "x": [
          "2025-05-01T00:00:00.000000000",
          "2025-06-01T00:00:00.000000000",
          "2025-07-01T00:00:00.000000000",
          "2025-08-01T00:00:00.000000000",
          "2025-09-01T00:00:00.000000000",
          "2025-10-01T00:00:00.000000000",
          "2025-11-01T00:00:00.000000000",
          "2025-12-01T00:00:00.000000000",
          "2026-01-01T00:00:00.000000000"
         ],
         "xaxis": "x4",
         "y": {
          "bdata": "aBJ97IXdVkDUcDMmqTtTQD0OHHfqmFFA8NNnxbDwVkALHZ7AWWRWQCjuUKzqfUdAPgFwKM8BNECnJL91rEIlwJXvduGGbTHA",
          "dtype": "f8"
         },
         "yaxis": "y4"
        },
        {
         "fill": "toself",
         "fillcolor": "rgba(169, 169, 169, 0.2)",
         "hovertemplate": "Date: %{x}<br>Conf: 95%<br>Value: %{y}",
         "line": {
          "color": "rgba(255,255,255,0)"
         },
         "showlegend": false,
         "type": "scatter",
         "x": [
          "2025-05-01T00:00:00.000000000",
          "2025-06-01T00:00:00.000000000",
          "2025-07-01T00:00:00.000000000",
          "2025-08-01T00:00:00.000000000",
          "2025-09-01T00:00:00.000000000",
          "2025-10-01T00:00:00.000000000",
          "2025-11-01T00:00:00.000000000",
          "2025-12-01T00:00:00.000000000",
          "2026-01-01T00:00:00.000000000",
          "2026-01-01T00:00:00.000000000",
          "2025-12-01T00:00:00.000000000",
          "2025-11-01T00:00:00.000000000",
          "2025-10-01T00:00:00.000000000",
          "2025-09-01T00:00:00.000000000",
          "2025-08-01T00:00:00.000000000",
          "2025-07-01T00:00:00.000000000",
          "2025-06-01T00:00:00.000000000",
          "2025-05-01T00:00:00.000000000"
         ],
         "xaxis": "x4",
         "y": {
          "bdata": "AAAAACPLNEBnZmZ2PS0qQM3MzMzpOxVAjawI9KLOREDf9DGjo1JBQJYiJlBQUAvAV1LVzeF8PsCamZmBeOZEwAAAABhxR0PAaa8RVQNmPEBSMJSh8ktGQMtUmLXObFtAzZa/PO00YUDUqol5pTRlQEzkK34pXGZACw2PIqbWYkCX75/xM69kQHOO8G6kAmZA",
          "dtype": "f8"
         },
         "yaxis": "y4"
        },
        {
         "hovertemplate": "Date: %{x}<br>Value: %{y}<br>Model: RF",
         "line": {
          "color": "green",
          "shape": "linear",
          "width": 2
         },
         "marker": {
          "size": 4
         },
         "mode": "lines+markers",
         "name": "RF",
         "showlegend": false,
         "type": "scatter",
         "x": [
          "2025-05-01T00:00:00.000000000",
          "2025-06-01T00:00:00.000000000",
          "2025-07-01T00:00:00.000000000",
          "2025-08-01T00:00:00.000000000",
          "2025-09-01T00:00:00.000000000",
          "2025-10-01T00:00:00.000000000",
          "2025-11-01T00:00:00.000000000",
          "2025-12-01T00:00:00.000000000",
          "2026-01-01T00:00:00.000000000"
         ],
         "xaxis": "x4",
         "y": {
          "bdata": "6dk/zvXRT0BiihAEfjVTQBlDp8ecaFJAgm6HecSYUkAgyIDTPElRQPOx1VqCqkJAPRp71tqOBkCNDeZRrbQxwK7KPL8gxTbA",
          "dtype": "f8"
         },
         "yaxis": "y4"
        },
        {
         "fill": "toself",
         "fillcolor": "rgba(169, 169, 169, 0.2)",
         "hovertemplate": "Date: %{x}<br>Conf: 95%<br>Value: %{y}",
         "line": {
          "color": "rgba(255,255,255,0)"
         },
         "showlegend": false,
         "type": "scatter",
         "x": [
          "2025-05-01T00:00:00.000000000",
          "2025-06-01T00:00:00.000000000",
          "2025-07-01T00:00:00.000000000",
          "2025-08-01T00:00:00.000000000",
          "2025-09-01T00:00:00.000000000",
          "2025-10-01T00:00:00.000000000",
          "2025-11-01T00:00:00.000000000",
          "2025-12-01T00:00:00.000000000",
          "2026-01-01T00:00:00.000000000",
          "2026-01-01T00:00:00.000000000",
          "2025-12-01T00:00:00.000000000",
          "2025-11-01T00:00:00.000000000",
          "2025-10-01T00:00:00.000000000",
          "2025-09-01T00:00:00.000000000",
          "2025-08-01T00:00:00.000000000",
          "2025-07-01T00:00:00.000000000",
          "2025-06-01T00:00:00.000000000",
          "2025-05-01T00:00:00.000000000"
         ],
         "xaxis": "x4",
         "y": {
          "bdata": "AAAAACPLNEBnZmZ2PS0qQM3MzMzpOxVAjawI9KLOREDf9DGjo1JBQJYiJlBQUAvAV1LVzeF8PsCamZmBeOZEwAAAABhxR0PAaa8RVQNmPEBSMJSh8ktGQMtUmLXObFtAzZa/PO00YUDUqol5pTRlQEzkK34pXGZACw2PIqbWYkCX75/xM69kQHOO8G6kAmZA",
          "dtype": "f8"
         },
         "yaxis": "y4"
        },
        {
         "hovertemplate": "Date: %{x}<br>Value: %{y}<br>Model: LR",
         "line": {
          "color": "red",
          "shape": "linear",
          "width": 2
         },
         "marker": {
          "size": 4
         },
         "mode": "lines+markers",
         "name": "LR",
         "showlegend": false,
         "type": "scatter",
         "x": [
          "2025-05-01T00:00:00.000000000",
          "2025-06-01T00:00:00.000000000",
          "2025-07-01T00:00:00.000000000",
          "2025-08-01T00:00:00.000000000",
          "2025-09-01T00:00:00.000000000",
          "2025-10-01T00:00:00.000000000",
          "2025-11-01T00:00:00.000000000",
          "2025-12-01T00:00:00.000000000",
          "2026-01-01T00:00:00.000000000"
         ],
         "xaxis": "x4",
         "y": {
          "bdata": "zn6AiqQWXUD+oPS/HR1aQMaD2t3MJVhAUQCdGK+AXUD6nd6mSZJaQCH6yqRVc09AbdYBLJSEREBaZ9MSX/cpQEhuc+4BKAhA",
          "dtype": "f8"
         },
         "yaxis": "y4"
        },
        {
         "fill": "toself",
         "fillcolor": "rgba(169, 169, 169, 0.2)",
         "hovertemplate": "Date: %{x}<br>Conf: 95%<br>Value: %{y}",
         "line": {
          "color": "rgba(255,255,255,0)"
         },
         "showlegend": false,
         "type": "scatter",
         "x": [
          "2025-05-01T00:00:00.000000000",
          "2025-06-01T00:00:00.000000000",
          "2025-07-01T00:00:00.000000000",
          "2025-08-01T00:00:00.000000000",
          "2025-09-01T00:00:00.000000000",
          "2025-10-01T00:00:00.000000000",
          "2025-11-01T00:00:00.000000000",
          "2025-12-01T00:00:00.000000000",
          "2026-01-01T00:00:00.000000000",
          "2026-01-01T00:00:00.000000000",
          "2025-12-01T00:00:00.000000000",
          "2025-11-01T00:00:00.000000000",
          "2025-10-01T00:00:00.000000000",
          "2025-09-01T00:00:00.000000000",
          "2025-08-01T00:00:00.000000000",
          "2025-07-01T00:00:00.000000000",
          "2025-06-01T00:00:00.000000000",
          "2025-05-01T00:00:00.000000000"
         ],
         "xaxis": "x4",
         "y": {
          "bdata": "AAAAACPLNEBnZmZ2PS0qQM3MzMzpOxVAjawI9KLOREDf9DGjo1JBQJYiJlBQUAvAV1LVzeF8PsCamZmBeOZEwAAAABhxR0PAaa8RVQNmPEBSMJSh8ktGQMtUmLXObFtAzZa/PO00YUDUqol5pTRlQEzkK34pXGZACw2PIqbWYkCX75/xM69kQHOO8G6kAmZA",
          "dtype": "f8"
         },
         "yaxis": "y4"
        },
        {
         "hovertemplate": "Date: %{x}<br>Value: %{y}<br>Model: NN",
         "line": {
          "color": "purple",
          "shape": "linear",
          "width": 2
         },
         "marker": {
          "size": 4
         },
         "mode": "lines+markers",
         "name": "NN",
         "showlegend": false,
         "type": "scatter",
         "x": [
          "2025-05-01T00:00:00.000000000",
          "2025-06-01T00:00:00.000000000",
          "2025-07-01T00:00:00.000000000",
          "2025-08-01T00:00:00.000000000",
          "2025-09-01T00:00:00.000000000",
          "2025-10-01T00:00:00.000000000",
          "2025-11-01T00:00:00.000000000",
          "2025-12-01T00:00:00.000000000",
          "2026-01-01T00:00:00.000000000"
         ],
         "xaxis": "x4",
         "y": {
          "bdata": "wY7Pp2QaUkCy9qB7NDVMQHEkyBsrU0lAETA3A315V0CxB8JWdrdYQNPoYEuheUxA8y2/rv5rOkBNBNIqjDUswBLcx60Q4TLA",
          "dtype": "f8"
         },
         "yaxis": "y4"
        },
        {
         "line": {
          "color": "black"
         },
         "mode": "lines",
         "showlegend": false,
         "type": "scatter",
         "x": [
          "2025-05-01T00:00:00",
          "2026-01-01T00:00:00"
         ],
         "xaxis": "x4",
         "y": [
          0,
          0
         ],
         "yaxis": "y4"
        },
        {
         "fill": "toself",
         "fillcolor": "rgba(169, 169, 169, 0.2)",
         "hovertemplate": "Date: %{x}<br>Conf: 95%<br>Value: %{y}",
         "line": {
          "color": "rgba(255,255,255,0)"
         },
         "showlegend": false,
         "type": "scatter",
         "x": [
          "2025-05-01T00:00:00.000000000",
          "2025-06-01T00:00:00.000000000",
          "2025-07-01T00:00:00.000000000",
          "2025-08-01T00:00:00.000000000",
          "2025-09-01T00:00:00.000000000",
          "2025-10-01T00:00:00.000000000",
          "2025-11-01T00:00:00.000000000",
          "2025-12-01T00:00:00.000000000",
          "2026-01-01T00:00:00.000000000",
          "2026-01-01T00:00:00.000000000",
          "2025-12-01T00:00:00.000000000",
          "2025-11-01T00:00:00.000000000",
          "2025-10-01T00:00:00.000000000",
          "2025-09-01T00:00:00.000000000",
          "2025-08-01T00:00:00.000000000",
          "2025-07-01T00:00:00.000000000",
          "2025-06-01T00:00:00.000000000",
          "2025-05-01T00:00:00.000000000"
         ],
         "xaxis": "x5",
         "y": {
          "bdata": "aD1RpBTsQ0C5k5cMgX1EQEhpaFaOc0JAbe05evt9QEB6T/NnEuVCQIYVUunVp0hATo8q/FfITUArmJqSrwdPQItWwQEk10pABj4KdlSVWUBr8kdt/6ZdQMkxo5VpGlxAEJS1I8MNV0BFAvQHQBBQQI/t2OxACk1AeyMnn8weUkBPqHSa/QJTQJqMIpAF3FBA",
          "dtype": "f8"
         },
         "yaxis": "y5"
        },
        {
         "hovertemplate": "Date: %{x}<br>Value: %{y}<br>Model: GP",
         "line": {
          "color": "blue",
          "shape": "linear",
          "width": 2
         },
         "marker": {
          "size": 4
         },
         "mode": "lines+markers",
         "name": "GP",
         "showlegend": false,
         "type": "scatter",
         "x": [
          "2025-05-01T00:00:00.000000000",
          "2025-06-01T00:00:00.000000000",
          "2025-07-01T00:00:00.000000000",
          "2025-08-01T00:00:00.000000000",
          "2025-09-01T00:00:00.000000000",
          "2025-10-01T00:00:00.000000000",
          "2025-11-01T00:00:00.000000000",
          "2025-12-01T00:00:00.000000000",
          "2026-01-01T00:00:00.000000000"
         ],
         "xaxis": "x5",
         "y": {
          "bdata": "qw+/XjCKR0BG3ViXLTVIQHb8K7B5fUVANvAW4KdfQ0C2XQNGqcNHQFpv7FFMy09AN5M17fZcVUAhgH+ngitYQLY7uxxAPFJA",
          "dtype": "f8"
         },
         "yaxis": "y5"
        },
        {
         "fill": "toself",
         "fillcolor": "rgba(169, 169, 169, 0.2)",
         "hovertemplate": "Date: %{x}<br>Conf: 95%<br>Value: %{y}",
         "line": {
          "color": "rgba(255,255,255,0)"
         },
         "showlegend": false,
         "type": "scatter",
         "x": [
          "2025-05-01T00:00:00.000000000",
          "2025-06-01T00:00:00.000000000",
          "2025-07-01T00:00:00.000000000",
          "2025-08-01T00:00:00.000000000",
          "2025-09-01T00:00:00.000000000",
          "2025-10-01T00:00:00.000000000",
          "2025-11-01T00:00:00.000000000",
          "2025-12-01T00:00:00.000000000",
          "2026-01-01T00:00:00.000000000",
          "2026-01-01T00:00:00.000000000",
          "2025-12-01T00:00:00.000000000",
          "2025-11-01T00:00:00.000000000",
          "2025-10-01T00:00:00.000000000",
          "2025-09-01T00:00:00.000000000",
          "2025-08-01T00:00:00.000000000",
          "2025-07-01T00:00:00.000000000",
          "2025-06-01T00:00:00.000000000",
          "2025-05-01T00:00:00.000000000"
         ],
         "xaxis": "x5",
         "y": {
          "bdata": "aD1RpBTsQ0C5k5cMgX1EQEhpaFaOc0JAbe05evt9QEB6T/NnEuVCQIYVUunVp0hATo8q/FfITUArmJqSrwdPQItWwQEk10pABj4KdlSVWUBr8kdt/6ZdQMkxo5VpGlxAEJS1I8MNV0BFAvQHQBBQQI/t2OxACk1AeyMnn8weUkBPqHSa/QJTQJqMIpAF3FBA",
          "dtype": "f8"
         },
         "yaxis": "y5"
        },
        {
         "hovertemplate": "Date: %{x}<br>Value: %{y}<br>Model: RF",
         "line": {
          "color": "green",
          "shape": "linear",
          "width": 2
         },
         "marker": {
          "size": 4
         },
         "mode": "lines+markers",
         "name": "RF",
         "showlegend": false,
         "type": "scatter",
         "x": [
          "2025-05-01T00:00:00.000000000",
          "2025-06-01T00:00:00.000000000",
          "2025-07-01T00:00:00.000000000",
          "2025-08-01T00:00:00.000000000",
          "2025-09-01T00:00:00.000000000",
          "2025-10-01T00:00:00.000000000",
          "2025-11-01T00:00:00.000000000",
          "2025-12-01T00:00:00.000000000",
          "2026-01-01T00:00:00.000000000"
         ],
         "xaxis": "x5",
         "y": {
          "bdata": "KIHzaB/rS0AaX4ES3ChGQGHsF/oOvkRAHncL+C6iREDu6oFfJB1LQIxz7z7SWVNAL+VQslwlVUBZKm3EyERWQAAuFKbOc1VA",
          "dtype": "f8"
         },
         "yaxis": "y5"
        },
        {
         "fill": "toself",
         "fillcolor": "rgba(169, 169, 169, 0.2)",
         "hovertemplate": "Date: %{x}<br>Conf: 95%<br>Value: %{y}",
         "line": {
          "color": "rgba(255,255,255,0)"
         },
         "showlegend": false,
         "type": "scatter",
         "x": [
          "2025-05-01T00:00:00.000000000",
          "2025-06-01T00:00:00.000000000",
          "2025-07-01T00:00:00.000000000",
          "2025-08-01T00:00:00.000000000",
          "2025-09-01T00:00:00.000000000",
          "2025-10-01T00:00:00.000000000",
          "2025-11-01T00:00:00.000000000",
          "2025-12-01T00:00:00.000000000",
          "2026-01-01T00:00:00.000000000",
          "2026-01-01T00:00:00.000000000",
          "2025-12-01T00:00:00.000000000",
          "2025-11-01T00:00:00.000000000",
          "2025-10-01T00:00:00.000000000",
          "2025-09-01T00:00:00.000000000",
          "2025-08-01T00:00:00.000000000",
          "2025-07-01T00:00:00.000000000",
          "2025-06-01T00:00:00.000000000",
          "2025-05-01T00:00:00.000000000"
         ],
         "xaxis": "x5",
         "y": {
          "bdata": "aD1RpBTsQ0C5k5cMgX1EQEhpaFaOc0JAbe05evt9QEB6T/NnEuVCQIYVUunVp0hATo8q/FfITUArmJqSrwdPQItWwQEk10pABj4KdlSVWUBr8kdt/6ZdQMkxo5VpGlxAEJS1I8MNV0BFAvQHQBBQQI/t2OxACk1AeyMnn8weUkBPqHSa/QJTQJqMIpAF3FBA",
          "dtype": "f8"
         },
         "yaxis": "y5"
        },
        {
         "hovertemplate": "Date: %{x}<br>Value: %{y}<br>Model: LR",
         "line": {
          "color": "red",
          "shape": "linear",
          "width": 2
         },
         "marker": {
          "size": 4
         },
         "mode": "lines+markers",
         "name": "LR",
         "showlegend": false,
         "type": "scatter",
         "x": [
          "2025-05-01T00:00:00.000000000",
          "2025-06-01T00:00:00.000000000",
          "2025-07-01T00:00:00.000000000",
          "2025-08-01T00:00:00.000000000",
          "2025-09-01T00:00:00.000000000",
          "2025-10-01T00:00:00.000000000",
          "2025-11-01T00:00:00.000000000",
          "2025-12-01T00:00:00.000000000",
          "2026-01-01T00:00:00.000000000"
         ],
         "xaxis": "x5",
         "y": {
          "bdata": "uSNy1TPTS0BNyPz5+WJRQGtxwSjntlBA6gXodGsiSkBcGUX+PAxLQLVi8PhShlFAy+cx62GTV0C0Ea19FHpaQJlHTjAgtFNA",
          "dtype": "f8"
         },
         "yaxis": "y5"
        },
        {
         "fill": "toself",
         "fillcolor": "rgba(169, 169, 169, 0.2)",
         "hovertemplate": "Date: %{x}<br>Conf: 95%<br>Value: %{y}",
         "line": {
          "color": "rgba(255,255,255,0)"
         },
         "showlegend": false,
         "type": "scatter",
         "x": [
          "2025-05-01T00:00:00.000000000",
          "2025-06-01T00:00:00.000000000",
          "2025-07-01T00:00:00.000000000",
          "2025-08-01T00:00:00.000000000",
          "2025-09-01T00:00:00.000000000",
          "2025-10-01T00:00:00.000000000",
          "2025-11-01T00:00:00.000000000",
          "2025-12-01T00:00:00.000000000",
          "2026-01-01T00:00:00.000000000",
          "2026-01-01T00:00:00.000000000",
          "2025-12-01T00:00:00.000000000",
          "2025-11-01T00:00:00.000000000",
          "2025-10-01T00:00:00.000000000",
          "2025-09-01T00:00:00.000000000",
          "2025-08-01T00:00:00.000000000",
          "2025-07-01T00:00:00.000000000",
          "2025-06-01T00:00:00.000000000",
          "2025-05-01T00:00:00.000000000"
         ],
         "xaxis": "x5",
         "y": {
          "bdata": "aD1RpBTsQ0C5k5cMgX1EQEhpaFaOc0JAbe05evt9QEB6T/NnEuVCQIYVUunVp0hATo8q/FfITUArmJqSrwdPQItWwQEk10pABj4KdlSVWUBr8kdt/6ZdQMkxo5VpGlxAEJS1I8MNV0BFAvQHQBBQQI/t2OxACk1AeyMnn8weUkBPqHSa/QJTQJqMIpAF3FBA",
          "dtype": "f8"
         },
         "yaxis": "y5"
        },
        {
         "hovertemplate": "Date: %{x}<br>Value: %{y}<br>Model: NN",
         "line": {
          "color": "purple",
          "shape": "linear",
          "width": 2
         },
         "marker": {
          "size": 4
         },
         "mode": "lines+markers",
         "name": "NN",
         "showlegend": false,
         "type": "scatter",
         "x": [
          "2025-05-01T00:00:00.000000000",
          "2025-06-01T00:00:00.000000000",
          "2025-07-01T00:00:00.000000000",
          "2025-08-01T00:00:00.000000000",
          "2025-09-01T00:00:00.000000000",
          "2025-10-01T00:00:00.000000000",
          "2025-11-01T00:00:00.000000000",
          "2025-12-01T00:00:00.000000000",
          "2026-01-01T00:00:00.000000000"
         ],
         "xaxis": "x5",
         "y": {
          "bdata": "PnetN4ChSUD9LTEtp+9JQGvgNzh3P0dA+k3L68a2Q0CprHR5rZFHQF08sMvR2FBACCtbvf0CVkBNBHLd7Y9WQOU1lOeBhVFA",
          "dtype": "f8"
         },
         "yaxis": "y5"
        },
        {
         "line": {
          "color": "black"
         },
         "mode": "lines",
         "showlegend": false,
         "type": "scatter",
         "x": [
          "2025-05-01T00:00:00",
          "2026-01-01T00:00:00"
         ],
         "xaxis": "x5",
         "y": [
          0,
          0
         ],
         "yaxis": "y5"
        },
        {
         "fill": "toself",
         "fillcolor": "rgba(169, 169, 169, 0.2)",
         "hovertemplate": "Date: %{x}<br>Conf: 95%<br>Value: %{y}",
         "line": {
          "color": "rgba(255,255,255,0)"
         },
         "showlegend": false,
         "type": "scatter",
         "x": [
          "2025-05-01T00:00:00.000000000",
          "2025-06-01T00:00:00.000000000",
          "2025-07-01T00:00:00.000000000",
          "2025-08-01T00:00:00.000000000",
          "2025-09-01T00:00:00.000000000",
          "2025-10-01T00:00:00.000000000",
          "2025-11-01T00:00:00.000000000",
          "2025-12-01T00:00:00.000000000",
          "2026-01-01T00:00:00.000000000",
          "2026-01-01T00:00:00.000000000",
          "2025-12-01T00:00:00.000000000",
          "2025-11-01T00:00:00.000000000",
          "2025-10-01T00:00:00.000000000",
          "2025-09-01T00:00:00.000000000",
          "2025-08-01T00:00:00.000000000",
          "2025-07-01T00:00:00.000000000",
          "2025-06-01T00:00:00.000000000",
          "2025-05-01T00:00:00.000000000"
         ],
         "xaxis": "x6",
         "y": {
          "bdata": "9kKKNLSdQUCz+r1XngpFQFFq0mc9uExAhThlLzloUEAvvXRGiYpNQMN61l9JJ0hA8s+vzO7lQUAAAAD4cGI+QGfnLerSGzVAz+Jp3ldXVUBB8Bs8HuRXQHLG7DBcuV5ACDW0ysn/YkAq71g0201lQDkkTQIhxWNA7RwflkjCY0C186ZaSE1iQN7i96yzpGJA",
          "dtype": "f8"
         },
         "yaxis": "y6"
        },
        {
         "hovertemplate": "Date: %{x}<br>Value: %{y}<br>Model: GP",
         "line": {
          "color": "blue",
          "shape": "linear",
          "width": 2
         },
         "marker": {
          "size": 4
         },
         "mode": "lines+markers",
         "name": "GP",
         "showlegend": false,
         "type": "scatter",
         "x": [
          "2025-05-01T00:00:00.000000000",
          "2025-06-01T00:00:00.000000000",
          "2025-07-01T00:00:00.000000000",
          "2025-08-01T00:00:00.000000000",
          "2025-09-01T00:00:00.000000000",
          "2025-10-01T00:00:00.000000000",
          "2025-11-01T00:00:00.000000000",
          "2025-12-01T00:00:00.000000000",
          "2026-01-01T00:00:00.000000000"
         ],
         "xaxis": "x6",
         "y": {
          "bdata": "k7pFT5+GVEAWTLipTLJWQHHkai/3o1hAIrjGbQcxWkBJ6jGx2AFaQKNX+nyECldAF99VP+9dUkD3U7XFPfhMQLrcnyl8ckZA",
          "dtype": "f8"
         },
         "yaxis": "y6"
        },
        {
         "fill": "toself",
         "fillcolor": "rgba(169, 169, 169, 0.2)",
         "hovertemplate": "Date: %{x}<br>Conf: 95%<br>Value: %{y}",
         "line": {
          "color": "rgba(255,255,255,0)"
         },
         "showlegend": false,
         "type": "scatter",
         "x": [
          "2025-05-01T00:00:00.000000000",
          "2025-06-01T00:00:00.000000000",
          "2025-07-01T00:00:00.000000000",
          "2025-08-01T00:00:00.000000000",
          "2025-09-01T00:00:00.000000000",
          "2025-10-01T00:00:00.000000000",
          "2025-11-01T00:00:00.000000000",
          "2025-12-01T00:00:00.000000000",
          "2026-01-01T00:00:00.000000000",
          "2026-01-01T00:00:00.000000000",
          "2025-12-01T00:00:00.000000000",
          "2025-11-01T00:00:00.000000000",
          "2025-10-01T00:00:00.000000000",
          "2025-09-01T00:00:00.000000000",
          "2025-08-01T00:00:00.000000000",
          "2025-07-01T00:00:00.000000000",
          "2025-06-01T00:00:00.000000000",
          "2025-05-01T00:00:00.000000000"
         ],
         "xaxis": "x6",
         "y": {
          "bdata": "9kKKNLSdQUCz+r1XngpFQFFq0mc9uExAhThlLzloUEAvvXRGiYpNQMN61l9JJ0hA8s+vzO7lQUAAAAD4cGI+QGfnLerSGzVAz+Jp3ldXVUBB8Bs8HuRXQHLG7DBcuV5ACDW0ysn/YkAq71g0201lQDkkTQIhxWNA7RwflkjCY0C186ZaSE1iQN7i96yzpGJA",
          "dtype": "f8"
         },
         "yaxis": "y6"
        },
        {
         "hovertemplate": "Date: %{x}<br>Value: %{y}<br>Model: RF",
         "line": {
          "color": "green",
          "shape": "linear",
          "width": 2
         },
         "marker": {
          "size": 4
         },
         "mode": "lines+markers",
         "name": "RF",
         "showlegend": false,
         "type": "scatter",
         "x": [
          "2025-05-01T00:00:00.000000000",
          "2025-06-01T00:00:00.000000000",
          "2025-07-01T00:00:00.000000000",
          "2025-08-01T00:00:00.000000000",
          "2025-09-01T00:00:00.000000000",
          "2025-10-01T00:00:00.000000000",
          "2025-11-01T00:00:00.000000000",
          "2025-12-01T00:00:00.000000000",
          "2026-01-01T00:00:00.000000000"
         ],
         "xaxis": "x6",
         "y": {
          "bdata": "OXcs7/+fWEB1jkNfk5pWQE1ad8MGnVRAfr2zKW2ZVEBbPgcTaM1XQBO1qonSG1RAy1rNQJnZUEChFv5RaRlMQNn18YjDjkhA",
          "dtype": "f8"
         },
         "yaxis": "y6"
        },
        {
         "fill": "toself",
         "fillcolor": "rgba(169, 169, 169, 0.2)",
         "hovertemplate": "Date: %{x}<br>Conf: 95%<br>Value: %{y}",
         "line": {
          "color": "rgba(255,255,255,0)"
         },
         "showlegend": false,
         "type": "scatter",
         "x": [
          "2025-05-01T00:00:00.000000000",
          "2025-06-01T00:00:00.000000000",
          "2025-07-01T00:00:00.000000000",
          "2025-08-01T00:00:00.000000000",
          "2025-09-01T00:00:00.000000000",
          "2025-10-01T00:00:00.000000000",
          "2025-11-01T00:00:00.000000000",
          "2025-12-01T00:00:00.000000000",
          "2026-01-01T00:00:00.000000000",
          "2026-01-01T00:00:00.000000000",
          "2025-12-01T00:00:00.000000000",
          "2025-11-01T00:00:00.000000000",
          "2025-10-01T00:00:00.000000000",
          "2025-09-01T00:00:00.000000000",
          "2025-08-01T00:00:00.000000000",
          "2025-07-01T00:00:00.000000000",
          "2025-06-01T00:00:00.000000000",
          "2025-05-01T00:00:00.000000000"
         ],
         "xaxis": "x6",
         "y": {
          "bdata": "9kKKNLSdQUCz+r1XngpFQFFq0mc9uExAhThlLzloUEAvvXRGiYpNQMN61l9JJ0hA8s+vzO7lQUAAAAD4cGI+QGfnLerSGzVAz+Jp3ldXVUBB8Bs8HuRXQHLG7DBcuV5ACDW0ysn/YkAq71g0201lQDkkTQIhxWNA7RwflkjCY0C186ZaSE1iQN7i96yzpGJA",
          "dtype": "f8"
         },
         "yaxis": "y6"
        },
        {
         "hovertemplate": "Date: %{x}<br>Value: %{y}<br>Model: LR",
         "line": {
          "color": "red",
          "shape": "linear",
          "width": 2
         },
         "marker": {
          "size": 4
         },
         "mode": "lines+markers",
         "name": "LR",
         "showlegend": false,
         "type": "scatter",
         "x": [
          "2025-05-01T00:00:00.000000000",
          "2025-06-01T00:00:00.000000000",
          "2025-07-01T00:00:00.000000000",
          "2025-08-01T00:00:00.000000000",
          "2025-09-01T00:00:00.000000000",
          "2025-10-01T00:00:00.000000000",
          "2025-11-01T00:00:00.000000000",
          "2025-12-01T00:00:00.000000000",
          "2026-01-01T00:00:00.000000000"
         ],
         "xaxis": "x6",
         "y": {
          "bdata": "iPo9P4T6UkAO2CyctgRVQPjIzmyiUVlAj2oN5muVWkBeS7fPe/JaQAvA7s2/2FZA4YqJy3NXUkBd/8NSEr9MQEacKXV2d0RA",
          "dtype": "f8"
         },
         "yaxis": "y6"
        },
        {
         "fill": "toself",
         "fillcolor": "rgba(169, 169, 169, 0.2)",
         "hovertemplate": "Date: %{x}<br>Conf: 95%<br>Value: %{y}",
         "line": {
          "color": "rgba(255,255,255,0)"
         },
         "showlegend": false,
         "type": "scatter",
         "x": [
          "2025-05-01T00:00:00.000000000",
          "2025-06-01T00:00:00.000000000",
          "2025-07-01T00:00:00.000000000",
          "2025-08-01T00:00:00.000000000",
          "2025-09-01T00:00:00.000000000",
          "2025-10-01T00:00:00.000000000",
          "2025-11-01T00:00:00.000000000",
          "2025-12-01T00:00:00.000000000",
          "2026-01-01T00:00:00.000000000",
          "2026-01-01T00:00:00.000000000",
          "2025-12-01T00:00:00.000000000",
          "2025-11-01T00:00:00.000000000",
          "2025-10-01T00:00:00.000000000",
          "2025-09-01T00:00:00.000000000",
          "2025-08-01T00:00:00.000000000",
          "2025-07-01T00:00:00.000000000",
          "2025-06-01T00:00:00.000000000",
          "2025-05-01T00:00:00.000000000"
         ],
         "xaxis": "x6",
         "y": {
          "bdata": "9kKKNLSdQUCz+r1XngpFQFFq0mc9uExAhThlLzloUEAvvXRGiYpNQMN61l9JJ0hA8s+vzO7lQUAAAAD4cGI+QGfnLerSGzVAz+Jp3ldXVUBB8Bs8HuRXQHLG7DBcuV5ACDW0ysn/YkAq71g0201lQDkkTQIhxWNA7RwflkjCY0C186ZaSE1iQN7i96yzpGJA",
          "dtype": "f8"
         },
         "yaxis": "y6"
        },
        {
         "hovertemplate": "Date: %{x}<br>Value: %{y}<br>Model: NN",
         "line": {
          "color": "purple",
          "shape": "linear",
          "width": 2
         },
         "marker": {
          "size": 4
         },
         "mode": "lines+markers",
         "name": "NN",
         "showlegend": false,
         "type": "scatter",
         "x": [
          "2025-05-01T00:00:00.000000000",
          "2025-06-01T00:00:00.000000000",
          "2025-07-01T00:00:00.000000000",
          "2025-08-01T00:00:00.000000000",
          "2025-09-01T00:00:00.000000000",
          "2025-10-01T00:00:00.000000000",
          "2025-11-01T00:00:00.000000000",
          "2025-12-01T00:00:00.000000000",
          "2026-01-01T00:00:00.000000000"
         ],
         "xaxis": "x6",
         "y": {
          "bdata": "x0xAyLzYVUCQdpZaGQ9XQBQXnGogwlhAvBBfa2d1W0AR6If+ktdaQOpK79zabVZA4FOTqqEhU0DINRFoOBZMQNxHcC/YRUdA",
          "dtype": "f8"
         },
         "yaxis": "y6"
        },
        {
         "line": {
          "color": "black"
         },
         "mode": "lines",
         "showlegend": false,
         "type": "scatter",
         "x": [
          "2025-05-01T00:00:00",
          "2026-01-01T00:00:00"
         ],
         "xaxis": "x6",
         "y": [
          0,
          0
         ],
         "yaxis": "y6"
        },
        {
         "fill": "toself",
         "fillcolor": "rgba(169, 169, 169, 0.2)",
         "hovertemplate": "Date: %{x}<br>Conf: 95%<br>Value: %{y}",
         "line": {
          "color": "rgba(255,255,255,0)"
         },
         "showlegend": false,
         "type": "scatter",
         "x": [
          "2025-05-01T00:00:00.000000000",
          "2025-06-01T00:00:00.000000000",
          "2025-07-01T00:00:00.000000000",
          "2025-08-01T00:00:00.000000000",
          "2025-09-01T00:00:00.000000000",
          "2025-10-01T00:00:00.000000000",
          "2025-11-01T00:00:00.000000000",
          "2025-12-01T00:00:00.000000000",
          "2026-01-01T00:00:00.000000000",
          "2026-01-01T00:00:00.000000000",
          "2025-12-01T00:00:00.000000000",
          "2025-11-01T00:00:00.000000000",
          "2025-10-01T00:00:00.000000000",
          "2025-09-01T00:00:00.000000000",
          "2025-08-01T00:00:00.000000000",
          "2025-07-01T00:00:00.000000000",
          "2025-06-01T00:00:00.000000000",
          "2025-05-01T00:00:00.000000000"
         ],
         "xaxis": "x7",
         "y": {
          "bdata": "s74NTB71RUBV7bvzeaxCQHS24ZkZAkJAAAAAREs1PkC3LQ3MwThCQIw2weihbEVAzczMBIOiSkDdXCuOIFhJQEEUOzSZ6EZArZZHOra+UUDmx5Lt2ABXQNZxgMae11dAUwZ9CwITVUCqPLdUQNZSQASV/CcD/E5AMuMvoBzkT0BD+vbNLX9SQJgj0j2QTFlA",
          "dtype": "f8"
         },
         "yaxis": "y7"
        },
        {
         "hovertemplate": "Date: %{x}<br>Value: %{y}<br>Model: GP",
         "line": {
          "color": "blue",
          "shape": "linear",
          "width": 2
         },
         "marker": {
          "size": 4
         },
         "mode": "lines+markers",
         "name": "GP",
         "showlegend": false,
         "type": "scatter",
         "x": [
          "2025-05-01T00:00:00.000000000",
          "2025-06-01T00:00:00.000000000",
          "2025-07-01T00:00:00.000000000",
          "2025-08-01T00:00:00.000000000",
          "2025-09-01T00:00:00.000000000",
          "2025-10-01T00:00:00.000000000",
          "2025-11-01T00:00:00.000000000",
          "2025-12-01T00:00:00.000000000",
          "2026-01-01T00:00:00.000000000"
         ],
         "xaxis": "x7",
         "y": {
          "bdata": "I/ETEup3VEBJMG4MZTVMQKaSx2fVu0dATqbJZbNLSECxse9jdnRLQMVnqKXRr1BAur1ViEGlUkBnJH0nJtBRQGwTUKiNyUxA",
          "dtype": "f8"
         },
         "yaxis": "y7"
        },
        {
         "fill": "toself",
         "fillcolor": "rgba(169, 169, 169, 0.2)",
         "hovertemplate": "Date: %{x}<br>Conf: 95%<br>Value: %{y}",
         "line": {
          "color": "rgba(255,255,255,0)"
         },
         "showlegend": false,
         "type": "scatter",
         "x": [
          "2025-05-01T00:00:00.000000000",
          "2025-06-01T00:00:00.000000000",
          "2025-07-01T00:00:00.000000000",
          "2025-08-01T00:00:00.000000000",
          "2025-09-01T00:00:00.000000000",
          "2025-10-01T00:00:00.000000000",
          "2025-11-01T00:00:00.000000000",
          "2025-12-01T00:00:00.000000000",
          "2026-01-01T00:00:00.000000000",
          "2026-01-01T00:00:00.000000000",
          "2025-12-01T00:00:00.000000000",
          "2025-11-01T00:00:00.000000000",
          "2025-10-01T00:00:00.000000000",
          "2025-09-01T00:00:00.000000000",
          "2025-08-01T00:00:00.000000000",
          "2025-07-01T00:00:00.000000000",
          "2025-06-01T00:00:00.000000000",
          "2025-05-01T00:00:00.000000000"
         ],
         "xaxis": "x7",
         "y": {
          "bdata": "s74NTB71RUBV7bvzeaxCQHS24ZkZAkJAAAAAREs1PkC3LQ3MwThCQIw2weihbEVAzczMBIOiSkDdXCuOIFhJQEEUOzSZ6EZArZZHOra+UUDmx5Lt2ABXQNZxgMae11dAUwZ9CwITVUCqPLdUQNZSQASV/CcD/E5AMuMvoBzkT0BD+vbNLX9SQJgj0j2QTFlA",
          "dtype": "f8"
         },
         "yaxis": "y7"
        },
        {
         "hovertemplate": "Date: %{x}<br>Value: %{y}<br>Model: RF",
         "line": {
          "color": "green",
          "shape": "linear",
          "width": 2
         },
         "marker": {
          "size": 4
         },
         "mode": "lines+markers",
         "name": "RF",
         "showlegend": false,
         "type": "scatter",
         "x": [
          "2025-05-01T00:00:00.000000000",
          "2025-06-01T00:00:00.000000000",
          "2025-07-01T00:00:00.000000000",
          "2025-08-01T00:00:00.000000000",
          "2025-09-01T00:00:00.000000000",
          "2025-10-01T00:00:00.000000000",
          "2025-11-01T00:00:00.000000000",
          "2025-12-01T00:00:00.000000000",
          "2026-01-01T00:00:00.000000000"
         ],
         "xaxis": "x7",
         "y": {
          "bdata": "BKV6OipSSkAD1WuA9dtEQFeOyzGWk0NA80Ag338GQ0D/u8ufsUlGQD9120gpC05APrKSV1DmUEDg0bnp8bhOQJ2S7DRf9EtA",
          "dtype": "f8"
         },
         "yaxis": "y7"
        },
        {
         "fill": "toself",
         "fillcolor": "rgba(169, 169, 169, 0.2)",
         "hovertemplate": "Date: %{x}<br>Conf: 95%<br>Value: %{y}",
         "line": {
          "color": "rgba(255,255,255,0)"
         },
         "showlegend": false,
         "type": "scatter",
         "x": [
          "2025-05-01T00:00:00.000000000",
          "2025-06-01T00:00:00.000000000",
          "2025-07-01T00:00:00.000000000",
          "2025-08-01T00:00:00.000000000",
          "2025-09-01T00:00:00.000000000",
          "2025-10-01T00:00:00.000000000",
          "2025-11-01T00:00:00.000000000",
          "2025-12-01T00:00:00.000000000",
          "2026-01-01T00:00:00.000000000",
          "2026-01-01T00:00:00.000000000",
          "2025-12-01T00:00:00.000000000",
          "2025-11-01T00:00:00.000000000",
          "2025-10-01T00:00:00.000000000",
          "2025-09-01T00:00:00.000000000",
          "2025-08-01T00:00:00.000000000",
          "2025-07-01T00:00:00.000000000",
          "2025-06-01T00:00:00.000000000",
          "2025-05-01T00:00:00.000000000"
         ],
         "xaxis": "x7",
         "y": {
          "bdata": "s74NTB71RUBV7bvzeaxCQHS24ZkZAkJAAAAAREs1PkC3LQ3MwThCQIw2weihbEVAzczMBIOiSkDdXCuOIFhJQEEUOzSZ6EZArZZHOra+UUDmx5Lt2ABXQNZxgMae11dAUwZ9CwITVUCqPLdUQNZSQASV/CcD/E5AMuMvoBzkT0BD+vbNLX9SQJgj0j2QTFlA",
          "dtype": "f8"
         },
         "yaxis": "y7"
        },
        {
         "hovertemplate": "Date: %{x}<br>Value: %{y}<br>Model: LR",
         "line": {
          "color": "red",
          "shape": "linear",
          "width": 2
         },
         "marker": {
          "size": 4
         },
         "mode": "lines+markers",
         "name": "LR",
         "showlegend": false,
         "type": "scatter",
         "x": [
          "2025-05-01T00:00:00.000000000",
          "2025-06-01T00:00:00.000000000",
          "2025-07-01T00:00:00.000000000",
          "2025-08-01T00:00:00.000000000",
          "2025-09-01T00:00:00.000000000",
          "2025-10-01T00:00:00.000000000",
          "2025-11-01T00:00:00.000000000",
          "2025-12-01T00:00:00.000000000",
          "2026-01-01T00:00:00.000000000"
         ],
         "xaxis": "x7",
         "y": {
          "bdata": "dcu9tssIVUAt0ryMKeBOQEYOVTy7sUlAGskHU7U0SUDD5ZOmWtlMQKAy4le5cFFANQaGi+IyVEAv5BjnfvtTQFm8xLmwB09A",
          "dtype": "f8"
         },
         "yaxis": "y7"
        },
        {
         "fill": "toself",
         "fillcolor": "rgba(169, 169, 169, 0.2)",
         "hovertemplate": "Date: %{x}<br>Conf: 95%<br>Value: %{y}",
         "line": {
          "color": "rgba(255,255,255,0)"
         },
         "showlegend": false,
         "type": "scatter",
         "x": [
          "2025-05-01T00:00:00.000000000",
          "2025-06-01T00:00:00.000000000",
          "2025-07-01T00:00:00.000000000",
          "2025-08-01T00:00:00.000000000",
          "2025-09-01T00:00:00.000000000",
          "2025-10-01T00:00:00.000000000",
          "2025-11-01T00:00:00.000000000",
          "2025-12-01T00:00:00.000000000",
          "2026-01-01T00:00:00.000000000",
          "2026-01-01T00:00:00.000000000",
          "2025-12-01T00:00:00.000000000",
          "2025-11-01T00:00:00.000000000",
          "2025-10-01T00:00:00.000000000",
          "2025-09-01T00:00:00.000000000",
          "2025-08-01T00:00:00.000000000",
          "2025-07-01T00:00:00.000000000",
          "2025-06-01T00:00:00.000000000",
          "2025-05-01T00:00:00.000000000"
         ],
         "xaxis": "x7",
         "y": {
          "bdata": "s74NTB71RUBV7bvzeaxCQHS24ZkZAkJAAAAAREs1PkC3LQ3MwThCQIw2weihbEVAzczMBIOiSkDdXCuOIFhJQEEUOzSZ6EZArZZHOra+UUDmx5Lt2ABXQNZxgMae11dAUwZ9CwITVUCqPLdUQNZSQASV/CcD/E5AMuMvoBzkT0BD+vbNLX9SQJgj0j2QTFlA",
          "dtype": "f8"
         },
         "yaxis": "y7"
        },
        {
         "hovertemplate": "Date: %{x}<br>Value: %{y}<br>Model: NN",
         "line": {
          "color": "purple",
          "shape": "linear",
          "width": 2
         },
         "marker": {
          "size": 4
         },
         "mode": "lines+markers",
         "name": "NN",
         "showlegend": false,
         "type": "scatter",
         "x": [
          "2025-05-01T00:00:00.000000000",
          "2025-06-01T00:00:00.000000000",
          "2025-07-01T00:00:00.000000000",
          "2025-08-01T00:00:00.000000000",
          "2025-09-01T00:00:00.000000000",
          "2025-10-01T00:00:00.000000000",
          "2025-11-01T00:00:00.000000000",
          "2025-12-01T00:00:00.000000000",
          "2026-01-01T00:00:00.000000000"
         ],
         "xaxis": "x7",
         "y": {
          "bdata": "ExbsWCIWUUBU13IQPYxLQL6HI+Hop0VA0Mh0uLEoQ0AUF0Y0dP1HQNf2gleFykpAQ9xuqHlsUUCQayLAPyZRQDqL6QxVIk5A",
          "dtype": "f8"
         },
         "yaxis": "y7"
        },
        {
         "line": {
          "color": "black"
         },
         "mode": "lines",
         "showlegend": false,
         "type": "scatter",
         "x": [
          "2025-05-01T00:00:00",
          "2026-01-01T00:00:00"
         ],
         "xaxis": "x7",
         "y": [
          0,
          0
         ],
         "yaxis": "y7"
        },
        {
         "fill": "toself",
         "fillcolor": "rgba(169, 169, 169, 0.2)",
         "hovertemplate": "Date: %{x}<br>Conf: 95%<br>Value: %{y}",
         "line": {
          "color": "rgba(255,255,255,0)"
         },
         "showlegend": false,
         "type": "scatter",
         "x": [
          "2025-05-01T00:00:00.000000000",
          "2025-06-01T00:00:00.000000000",
          "2025-07-01T00:00:00.000000000",
          "2025-08-01T00:00:00.000000000",
          "2025-09-01T00:00:00.000000000",
          "2025-10-01T00:00:00.000000000",
          "2025-11-01T00:00:00.000000000",
          "2025-12-01T00:00:00.000000000",
          "2026-01-01T00:00:00.000000000",
          "2026-01-01T00:00:00.000000000",
          "2025-12-01T00:00:00.000000000",
          "2025-11-01T00:00:00.000000000",
          "2025-10-01T00:00:00.000000000",
          "2025-09-01T00:00:00.000000000",
          "2025-08-01T00:00:00.000000000",
          "2025-07-01T00:00:00.000000000",
          "2025-06-01T00:00:00.000000000",
          "2025-05-01T00:00:00.000000000"
         ],
         "xaxis": "x8",
         "y": {
          "bdata": "vTDJz5ibNUAlY7pC1hgVQMEHdRTVIxhA5oNJ2Jx7LEAAAADg5LAVQF696JKkqQbAUMW8xDtsE8DM/ijzUnAEwKIr1ai98RHA9oT/YensV0DPYybeKQlbQP///yuQkGBAXGdp1xb8YUDqTN1C50pjQNv+7oEiN15ApYqAFeZvYEBmZmZu419hQN23Wr5DcmZA",
          "dtype": "f8"
         },
         "yaxis": "y8"
        },
        {
         "hovertemplate": "Date: %{x}<br>Value: %{y}<br>Model: GP",
         "line": {
          "color": "blue",
          "shape": "linear",
          "width": 2
         },
         "marker": {
          "size": 4
         },
         "mode": "lines+markers",
         "name": "GP",
         "showlegend": false,
         "type": "scatter",
         "x": [
          "2025-05-01T00:00:00.000000000",
          "2025-06-01T00:00:00.000000000",
          "2025-07-01T00:00:00.000000000",
          "2025-08-01T00:00:00.000000000",
          "2025-09-01T00:00:00.000000000",
          "2025-10-01T00:00:00.000000000",
          "2025-11-01T00:00:00.000000000",
          "2025-12-01T00:00:00.000000000",
          "2026-01-01T00:00:00.000000000"
         ],
         "xaxis": "x8",
         "y": {
          "bdata": "iW4vkPrsWED7xdWMa3VTQDUJGekcbVFAwcVhl1lNUUD9sj94iVJRQMb9WId2x09ARIW7DHsVTECDF30k3M1EQEJ518iCgEBA",
          "dtype": "f8"
         },
         "yaxis": "y8"
        },
        {
         "fill": "toself",
         "fillcolor": "rgba(169, 169, 169, 0.2)",
         "hovertemplate": "Date: %{x}<br>Conf: 95%<br>Value: %{y}",
         "line": {
          "color": "rgba(255,255,255,0)"
         },
         "showlegend": false,
         "type": "scatter",
         "x": [
          "2025-05-01T00:00:00.000000000",
          "2025-06-01T00:00:00.000000000",
          "2025-07-01T00:00:00.000000000",
          "2025-08-01T00:00:00.000000000",
          "2025-09-01T00:00:00.000000000",
          "2025-10-01T00:00:00.000000000",
          "2025-11-01T00:00:00.000000000",
          "2025-12-01T00:00:00.000000000",
          "2026-01-01T00:00:00.000000000",
          "2026-01-01T00:00:00.000000000",
          "2025-12-01T00:00:00.000000000",
          "2025-11-01T00:00:00.000000000",
          "2025-10-01T00:00:00.000000000",
          "2025-09-01T00:00:00.000000000",
          "2025-08-01T00:00:00.000000000",
          "2025-07-01T00:00:00.000000000",
          "2025-06-01T00:00:00.000000000",
          "2025-05-01T00:00:00.000000000"
         ],
         "xaxis": "x8",
         "y": {
          "bdata": "vTDJz5ibNUAlY7pC1hgVQMEHdRTVIxhA5oNJ2Jx7LEAAAADg5LAVQF696JKkqQbAUMW8xDtsE8DM/ijzUnAEwKIr1ai98RHA9oT/YensV0DPYybeKQlbQP///yuQkGBAXGdp1xb8YUDqTN1C50pjQNv+7oEiN15ApYqAFeZvYEBmZmZu419hQN23Wr5DcmZA",
          "dtype": "f8"
         },
         "yaxis": "y8"
        },
        {
         "hovertemplate": "Date: %{x}<br>Value: %{y}<br>Model: RF",
         "line": {
          "color": "green",
          "shape": "linear",
          "width": 2
         },
         "marker": {
          "size": 4
         },
         "mode": "lines+markers",
         "name": "RF",
         "showlegend": false,
         "type": "scatter",
         "x": [
          "2025-05-01T00:00:00.000000000",
          "2025-06-01T00:00:00.000000000",
          "2025-07-01T00:00:00.000000000",
          "2025-08-01T00:00:00.000000000",
          "2025-09-01T00:00:00.000000000",
          "2025-10-01T00:00:00.000000000",
          "2025-11-01T00:00:00.000000000",
          "2025-12-01T00:00:00.000000000",
          "2026-01-01T00:00:00.000000000"
         ],
         "xaxis": "x8",
         "y": {
          "bdata": "vNxF1SbbTEBM6QPZoi9GQI1pJ9H960JAu9bBwkXpQUDFwriN4tNFQL8/lZBBuUJArMynuCVuSkD68fB0ABxBQIsWzoCIczhA",
          "dtype": "f8"
         },
         "yaxis": "y8"
        },
        {
         "fill": "toself",
         "fillcolor": "rgba(169, 169, 169, 0.2)",
         "hovertemplate": "Date: %{x}<br>Conf: 95%<br>Value: %{y}",
         "line": {
          "color": "rgba(255,255,255,0)"
         },
         "showlegend": false,
         "type": "scatter",
         "x": [
          "2025-05-01T00:00:00.000000000",
          "2025-06-01T00:00:00.000000000",
          "2025-07-01T00:00:00.000000000",
          "2025-08-01T00:00:00.000000000",
          "2025-09-01T00:00:00.000000000",
          "2025-10-01T00:00:00.000000000",
          "2025-11-01T00:00:00.000000000",
          "2025-12-01T00:00:00.000000000",
          "2026-01-01T00:00:00.000000000",
          "2026-01-01T00:00:00.000000000",
          "2025-12-01T00:00:00.000000000",
          "2025-11-01T00:00:00.000000000",
          "2025-10-01T00:00:00.000000000",
          "2025-09-01T00:00:00.000000000",
          "2025-08-01T00:00:00.000000000",
          "2025-07-01T00:00:00.000000000",
          "2025-06-01T00:00:00.000000000",
          "2025-05-01T00:00:00.000000000"
         ],
         "xaxis": "x8",
         "y": {
          "bdata": "vTDJz5ibNUAlY7pC1hgVQMEHdRTVIxhA5oNJ2Jx7LEAAAADg5LAVQF696JKkqQbAUMW8xDtsE8DM/ijzUnAEwKIr1ai98RHA9oT/YensV0DPYybeKQlbQP///yuQkGBAXGdp1xb8YUDqTN1C50pjQNv+7oEiN15ApYqAFeZvYEBmZmZu419hQN23Wr5DcmZA",
          "dtype": "f8"
         },
         "yaxis": "y8"
        },
        {
         "hovertemplate": "Date: %{x}<br>Value: %{y}<br>Model: LR",
         "line": {
          "color": "red",
          "shape": "linear",
          "width": 2
         },
         "marker": {
          "size": 4
         },
         "mode": "lines+markers",
         "name": "LR",
         "showlegend": false,
         "type": "scatter",
         "x": [
          "2025-05-01T00:00:00.000000000",
          "2025-06-01T00:00:00.000000000",
          "2025-07-01T00:00:00.000000000",
          "2025-08-01T00:00:00.000000000",
          "2025-09-01T00:00:00.000000000",
          "2025-10-01T00:00:00.000000000",
          "2025-11-01T00:00:00.000000000",
          "2025-12-01T00:00:00.000000000",
          "2026-01-01T00:00:00.000000000"
         ],
         "xaxis": "x8",
         "y": {
          "bdata": "+lyiNaBiV0BvpEERrDVQQPJILBkmhUxA1OD8yHYSTkAco7Dbn5pQQLVNMoRs/ktAeIi4JIAbSkAl3vcRYA9FQJWk8hqysz9A",
          "dtype": "f8"
         },
         "yaxis": "y8"
        },
        {
         "fill": "toself",
         "fillcolor": "rgba(169, 169, 169, 0.2)",
         "hovertemplate": "Date: %{x}<br>Conf: 95%<br>Value: %{y}",
         "line": {
          "color": "rgba(255,255,255,0)"
         },
         "showlegend": false,
         "type": "scatter",
         "x": [
          "2025-05-01T00:00:00.000000000",
          "2025-06-01T00:00:00.000000000",
          "2025-07-01T00:00:00.000000000",
          "2025-08-01T00:00:00.000000000",
          "2025-09-01T00:00:00.000000000",
          "2025-10-01T00:00:00.000000000",
          "2025-11-01T00:00:00.000000000",
          "2025-12-01T00:00:00.000000000",
          "2026-01-01T00:00:00.000000000",
          "2026-01-01T00:00:00.000000000",
          "2025-12-01T00:00:00.000000000",
          "2025-11-01T00:00:00.000000000",
          "2025-10-01T00:00:00.000000000",
          "2025-09-01T00:00:00.000000000",
          "2025-08-01T00:00:00.000000000",
          "2025-07-01T00:00:00.000000000",
          "2025-06-01T00:00:00.000000000",
          "2025-05-01T00:00:00.000000000"
         ],
         "xaxis": "x8",
         "y": {
          "bdata": "vTDJz5ibNUAlY7pC1hgVQMEHdRTVIxhA5oNJ2Jx7LEAAAADg5LAVQF696JKkqQbAUMW8xDtsE8DM/ijzUnAEwKIr1ai98RHA9oT/YensV0DPYybeKQlbQP///yuQkGBAXGdp1xb8YUDqTN1C50pjQNv+7oEiN15ApYqAFeZvYEBmZmZu419hQN23Wr5DcmZA",
          "dtype": "f8"
         },
         "yaxis": "y8"
        },
        {
         "hovertemplate": "Date: %{x}<br>Value: %{y}<br>Model: NN",
         "line": {
          "color": "purple",
          "shape": "linear",
          "width": 2
         },
         "marker": {
          "size": 4
         },
         "mode": "lines+markers",
         "name": "NN",
         "showlegend": false,
         "type": "scatter",
         "x": [
          "2025-05-01T00:00:00.000000000",
          "2025-06-01T00:00:00.000000000",
          "2025-07-01T00:00:00.000000000",
          "2025-08-01T00:00:00.000000000",
          "2025-09-01T00:00:00.000000000",
          "2025-10-01T00:00:00.000000000",
          "2025-11-01T00:00:00.000000000",
          "2025-12-01T00:00:00.000000000",
          "2026-01-01T00:00:00.000000000"
         ],
         "xaxis": "x8",
         "y": {
          "bdata": "Nte98FyiU0AybGNgKWxPQFuZNRPWbUhAtet2dnmeTUBSJ/ywbPZOQFELMZDUbElA1OKd6CbnTEAikKto0PZDQAAAgLIT2EBA",
          "dtype": "f8"
         },
         "yaxis": "y8"
        },
        {
         "line": {
          "color": "black"
         },
         "mode": "lines",
         "showlegend": false,
         "type": "scatter",
         "x": [
          "2025-05-01T00:00:00",
          "2026-01-01T00:00:00"
         ],
         "xaxis": "x8",
         "y": [
          0,
          0
         ],
         "yaxis": "y8"
        },
        {
         "fill": "toself",
         "fillcolor": "rgba(169, 169, 169, 0.2)",
         "hovertemplate": "Date: %{x}<br>Conf: 95%<br>Value: %{y}",
         "line": {
          "color": "rgba(255,255,255,0)"
         },
         "showlegend": false,
         "type": "scatter",
         "x": [
          "2025-05-01T00:00:00.000000000",
          "2025-06-01T00:00:00.000000000",
          "2025-07-01T00:00:00.000000000",
          "2025-08-01T00:00:00.000000000",
          "2025-09-01T00:00:00.000000000",
          "2025-10-01T00:00:00.000000000",
          "2025-11-01T00:00:00.000000000",
          "2025-12-01T00:00:00.000000000",
          "2026-01-01T00:00:00.000000000",
          "2026-01-01T00:00:00.000000000",
          "2025-12-01T00:00:00.000000000",
          "2025-11-01T00:00:00.000000000",
          "2025-10-01T00:00:00.000000000",
          "2025-09-01T00:00:00.000000000",
          "2025-08-01T00:00:00.000000000",
          "2025-07-01T00:00:00.000000000",
          "2025-06-01T00:00:00.000000000",
          "2025-05-01T00:00:00.000000000"
         ],
         "xaxis": "x9",
         "y": {
          "bdata": "XBxTP5BwUkBs735hWINXQDgSzowfqVhAaYLoACYnWUCIQib2iPJbQA4IjL1hXVpAs3WFui55RUCsnccG6yJDQB0rvkJvnTZA+b72IoGAVEAV554FdrRYQKZ/HzpmoWFAwLgnWnoCZUApMzJWjsxiQAAAAKQFDmFAKgevgiY/YEBY816vvmVfQKRf1ng2z2BA",
          "dtype": "f8"
         },
         "yaxis": "y9"
        },
        {
         "hovertemplate": "Date: %{x}<br>Value: %{y}<br>Model: GP",
         "line": {
          "color": "blue",
          "shape": "linear",
          "width": 2
         },
         "marker": {
          "size": 4
         },
         "mode": "lines+markers",
         "name": "GP",
         "showlegend": false,
         "type": "scatter",
         "x": [
          "2025-05-01T00:00:00.000000000",
          "2025-06-01T00:00:00.000000000",
          "2025-07-01T00:00:00.000000000",
          "2025-08-01T00:00:00.000000000",
          "2025-09-01T00:00:00.000000000",
          "2025-10-01T00:00:00.000000000",
          "2025-11-01T00:00:00.000000000",
          "2025-12-01T00:00:00.000000000",
          "2026-01-01T00:00:00.000000000"
         ],
         "xaxis": "x9",
         "y": {
          "bdata": "ltzND8aVVEATouut2F5ZQAJQmd1h4VtAWbqPjpxpXECtdT9Q9AtfQOeAxF+TeWFA448TNgELXED+vR8sDYhSQNhkJH3Q0UFA",
          "dtype": "f8"
         },
         "yaxis": "y9"
        },
        {
         "fill": "toself",
         "fillcolor": "rgba(169, 169, 169, 0.2)",
         "hovertemplate": "Date: %{x}<br>Conf: 95%<br>Value: %{y}",
         "line": {
          "color": "rgba(255,255,255,0)"
         },
         "showlegend": false,
         "type": "scatter",
         "x": [
          "2025-05-01T00:00:00.000000000",
          "2025-06-01T00:00:00.000000000",
          "2025-07-01T00:00:00.000000000",
          "2025-08-01T00:00:00.000000000",
          "2025-09-01T00:00:00.000000000",
          "2025-10-01T00:00:00.000000000",
          "2025-11-01T00:00:00.000000000",
          "2025-12-01T00:00:00.000000000",
          "2026-01-01T00:00:00.000000000",
          "2026-01-01T00:00:00.000000000",
          "2025-12-01T00:00:00.000000000",
          "2025-11-01T00:00:00.000000000",
          "2025-10-01T00:00:00.000000000",
          "2025-09-01T00:00:00.000000000",
          "2025-08-01T00:00:00.000000000",
          "2025-07-01T00:00:00.000000000",
          "2025-06-01T00:00:00.000000000",
          "2025-05-01T00:00:00.000000000"
         ],
         "xaxis": "x9",
         "y": {
          "bdata": "XBxTP5BwUkBs735hWINXQDgSzowfqVhAaYLoACYnWUCIQib2iPJbQA4IjL1hXVpAs3WFui55RUCsnccG6yJDQB0rvkJvnTZA+b72IoGAVEAV554FdrRYQKZ/HzpmoWFAwLgnWnoCZUApMzJWjsxiQAAAAKQFDmFAKgevgiY/YEBY816vvmVfQKRf1ng2z2BA",
          "dtype": "f8"
         },
         "yaxis": "y9"
        },
        {
         "hovertemplate": "Date: %{x}<br>Value: %{y}<br>Model: RF",
         "line": {
          "color": "green",
          "shape": "linear",
          "width": 2
         },
         "marker": {
          "size": 4
         },
         "mode": "lines+markers",
         "name": "RF",
         "showlegend": false,
         "type": "scatter",
         "x": [
          "2025-05-01T00:00:00.000000000",
          "2025-06-01T00:00:00.000000000",
          "2025-07-01T00:00:00.000000000",
          "2025-08-01T00:00:00.000000000",
          "2025-09-01T00:00:00.000000000",
          "2025-10-01T00:00:00.000000000",
          "2025-11-01T00:00:00.000000000",
          "2025-12-01T00:00:00.000000000",
          "2026-01-01T00:00:00.000000000"
         ],
         "xaxis": "x9",
         "y": {
          "bdata": "aZbQ20PzX0DQogoIN4NdQKMtczhKL1xAENlno558XED6sn5z5MNgQIeS1IM+62FADfe+pH3sVUDCX6/kqu9RQGy6uyqxxU5A",
          "dtype": "f8"
         },
         "yaxis": "y9"
        },
        {
         "fill": "toself",
         "fillcolor": "rgba(169, 169, 169, 0.2)",
         "hovertemplate": "Date: %{x}<br>Conf: 95%<br>Value: %{y}",
         "line": {
          "color": "rgba(255,255,255,0)"
         },
         "showlegend": false,
         "type": "scatter",
         "x": [
          "2025-05-01T00:00:00.000000000",
          "2025-06-01T00:00:00.000000000",
          "2025-07-01T00:00:00.000000000",
          "2025-08-01T00:00:00.000000000",
          "2025-09-01T00:00:00.000000000",
          "2025-10-01T00:00:00.000000000",
          "2025-11-01T00:00:00.000000000",
          "2025-12-01T00:00:00.000000000",
          "2026-01-01T00:00:00.000000000",
          "2026-01-01T00:00:00.000000000",
          "2025-12-01T00:00:00.000000000",
          "2025-11-01T00:00:00.000000000",
          "2025-10-01T00:00:00.000000000",
          "2025-09-01T00:00:00.000000000",
          "2025-08-01T00:00:00.000000000",
          "2025-07-01T00:00:00.000000000",
          "2025-06-01T00:00:00.000000000",
          "2025-05-01T00:00:00.000000000"
         ],
         "xaxis": "x9",
         "y": {
          "bdata": "XBxTP5BwUkBs735hWINXQDgSzowfqVhAaYLoACYnWUCIQib2iPJbQA4IjL1hXVpAs3WFui55RUCsnccG6yJDQB0rvkJvnTZA+b72IoGAVEAV554FdrRYQKZ/HzpmoWFAwLgnWnoCZUApMzJWjsxiQAAAAKQFDmFAKgevgiY/YEBY816vvmVfQKRf1ng2z2BA",
          "dtype": "f8"
         },
         "yaxis": "y9"
        },
        {
         "hovertemplate": "Date: %{x}<br>Value: %{y}<br>Model: LR",
         "line": {
          "color": "red",
          "shape": "linear",
          "width": 2
         },
         "marker": {
          "size": 4
         },
         "mode": "lines+markers",
         "name": "LR",
         "showlegend": false,
         "type": "scatter",
         "x": [
          "2025-05-01T00:00:00.000000000",
          "2025-06-01T00:00:00.000000000",
          "2025-07-01T00:00:00.000000000",
          "2025-08-01T00:00:00.000000000",
          "2025-09-01T00:00:00.000000000",
          "2025-10-01T00:00:00.000000000",
          "2025-11-01T00:00:00.000000000",
          "2025-12-01T00:00:00.000000000",
          "2026-01-01T00:00:00.000000000"
         ],
         "xaxis": "x9",
         "y": {
          "bdata": "ibawuF7QVUDbJ72ROfNbQKAkxCtRdl5AT/ZkdI6/XkBn9f34yj1hQK0nDvZUuGJAg48E3F20XkAPHHTS495UQMlCfsVPjENA",
          "dtype": "f8"
         },
         "yaxis": "y9"
        },
        {
         "fill": "toself",
         "fillcolor": "rgba(169, 169, 169, 0.2)",
         "hovertemplate": "Date: %{x}<br>Conf: 95%<br>Value: %{y}",
         "line": {
          "color": "rgba(255,255,255,0)"
         },
         "showlegend": false,
         "type": "scatter",
         "x": [
          "2025-05-01T00:00:00.000000000",
          "2025-06-01T00:00:00.000000000",
          "2025-07-01T00:00:00.000000000",
          "2025-08-01T00:00:00.000000000",
          "2025-09-01T00:00:00.000000000",
          "2025-10-01T00:00:00.000000000",
          "2025-11-01T00:00:00.000000000",
          "2025-12-01T00:00:00.000000000",
          "2026-01-01T00:00:00.000000000",
          "2026-01-01T00:00:00.000000000",
          "2025-12-01T00:00:00.000000000",
          "2025-11-01T00:00:00.000000000",
          "2025-10-01T00:00:00.000000000",
          "2025-09-01T00:00:00.000000000",
          "2025-08-01T00:00:00.000000000",
          "2025-07-01T00:00:00.000000000",
          "2025-06-01T00:00:00.000000000",
          "2025-05-01T00:00:00.000000000"
         ],
         "xaxis": "x9",
         "y": {
          "bdata": "XBxTP5BwUkBs735hWINXQDgSzowfqVhAaYLoACYnWUCIQib2iPJbQA4IjL1hXVpAs3WFui55RUCsnccG6yJDQB0rvkJvnTZA+b72IoGAVEAV554FdrRYQKZ/HzpmoWFAwLgnWnoCZUApMzJWjsxiQAAAAKQFDmFAKgevgiY/YEBY816vvmVfQKRf1ng2z2BA",
          "dtype": "f8"
         },
         "yaxis": "y9"
        },
        {
         "hovertemplate": "Date: %{x}<br>Value: %{y}<br>Model: NN",
         "line": {
          "color": "purple",
          "shape": "linear",
          "width": 2
         },
         "marker": {
          "size": 4
         },
         "mode": "lines+markers",
         "name": "NN",
         "showlegend": false,
         "type": "scatter",
         "x": [
          "2025-05-01T00:00:00.000000000",
          "2025-06-01T00:00:00.000000000",
          "2025-07-01T00:00:00.000000000",
          "2025-08-01T00:00:00.000000000",
          "2025-09-01T00:00:00.000000000",
          "2025-10-01T00:00:00.000000000",
          "2025-11-01T00:00:00.000000000",
          "2025-12-01T00:00:00.000000000",
          "2026-01-01T00:00:00.000000000"
         ],
         "xaxis": "x9",
         "y": {
          "bdata": "Pnetd5pbVkABKvbWUfpbQFdmrY8cE1tAg0E4/tnBXUAC/dDxUoBgQCgCtEZkC2FAT00qOsL6XECIh4ePdnpRQExnMV02qkBA",
          "dtype": "f8"
         },
         "yaxis": "y9"
        },
        {
         "line": {
          "color": "black"
         },
         "mode": "lines",
         "showlegend": false,
         "type": "scatter",
         "x": [
          "2025-05-01T00:00:00",
          "2026-01-01T00:00:00"
         ],
         "xaxis": "x9",
         "y": [
          0,
          0
         ],
         "yaxis": "y9"
        },
        {
         "fill": "toself",
         "fillcolor": "rgba(169, 169, 169, 0.2)",
         "hovertemplate": "Date: %{x}<br>Conf: 95%<br>Value: %{y}",
         "line": {
          "color": "rgba(255,255,255,0)"
         },
         "showlegend": false,
         "type": "scatter",
         "x": [
          "2025-05-01T00:00:00.000000000",
          "2025-06-01T00:00:00.000000000",
          "2025-07-01T00:00:00.000000000",
          "2025-08-01T00:00:00.000000000",
          "2025-09-01T00:00:00.000000000",
          "2025-10-01T00:00:00.000000000",
          "2025-11-01T00:00:00.000000000",
          "2025-12-01T00:00:00.000000000",
          "2026-01-01T00:00:00.000000000",
          "2026-01-01T00:00:00.000000000",
          "2025-12-01T00:00:00.000000000",
          "2025-11-01T00:00:00.000000000",
          "2025-10-01T00:00:00.000000000",
          "2025-09-01T00:00:00.000000000",
          "2025-08-01T00:00:00.000000000",
          "2025-07-01T00:00:00.000000000",
          "2025-06-01T00:00:00.000000000",
          "2025-05-01T00:00:00.000000000"
         ],
         "xaxis": "x10",
         "y": {
          "bdata": "Uc2JtgihRkDQ7hZ0RWVJQPhHrMyW/kpAVm0zDY+eTEAAAABMWR1QQGC2ggWWDUxAepxtPTaFSUAOT+TftVtFQNAG9PDQeDdAUuXpmrqkVkA/SZAcSj5dQPdEhkUXe2FAzKFa7WkiYkAAAAA4ngliQCUn1RNo5mBAbitmCpATYECmYE7FgdlgQHr+DZ0CP2FA",
          "dtype": "f8"
         },
         "yaxis": "y10"
        },
        {
         "hovertemplate": "Date: %{x}<br>Value: %{y}<br>Model: GP",
         "line": {
          "color": "blue",
          "shape": "linear",
          "width": 2
         },
         "marker": {
          "size": 4
         },
         "mode": "lines+markers",
         "name": "GP",
         "showlegend": false,
         "type": "scatter",
         "x": [
          "2025-05-01T00:00:00.000000000",
          "2025-06-01T00:00:00.000000000",
          "2025-07-01T00:00:00.000000000",
          "2025-08-01T00:00:00.000000000",
          "2025-09-01T00:00:00.000000000",
          "2025-10-01T00:00:00.000000000",
          "2025-11-01T00:00:00.000000000",
          "2025-12-01T00:00:00.000000000",
          "2026-01-01T00:00:00.000000000"
         ],
         "xaxis": "x10",
         "y": {
          "bdata": "HPGS1cSEVkC7/F1RgXhXQJG3TN2uWVZAic65ukC0VkDayaILNUZYQBTpje/6YldAL6BOTookVkDp9DMv0VpRQM3BNvTOO0lA",
          "dtype": "f8"
         },
         "yaxis": "y10"
        },
        {
         "fill": "toself",
         "fillcolor": "rgba(169, 169, 169, 0.2)",
         "hovertemplate": "Date: %{x}<br>Conf: 95%<br>Value: %{y}",
         "line": {
          "color": "rgba(255,255,255,0)"
         },
         "showlegend": false,
         "type": "scatter",
         "x": [
          "2025-05-01T00:00:00.000000000",
          "2025-06-01T00:00:00.000000000",
          "2025-07-01T00:00:00.000000000",
          "2025-08-01T00:00:00.000000000",
          "2025-09-01T00:00:00.000000000",
          "2025-10-01T00:00:00.000000000",
          "2025-11-01T00:00:00.000000000",
          "2025-12-01T00:00:00.000000000",
          "2026-01-01T00:00:00.000000000",
          "2026-01-01T00:00:00.000000000",
          "2025-12-01T00:00:00.000000000",
          "2025-11-01T00:00:00.000000000",
          "2025-10-01T00:00:00.000000000",
          "2025-09-01T00:00:00.000000000",
          "2025-08-01T00:00:00.000000000",
          "2025-07-01T00:00:00.000000000",
          "2025-06-01T00:00:00.000000000",
          "2025-05-01T00:00:00.000000000"
         ],
         "xaxis": "x10",
         "y": {
          "bdata": "Uc2JtgihRkDQ7hZ0RWVJQPhHrMyW/kpAVm0zDY+eTEAAAABMWR1QQGC2ggWWDUxAepxtPTaFSUAOT+TftVtFQNAG9PDQeDdAUuXpmrqkVkA/SZAcSj5dQPdEhkUXe2FAzKFa7WkiYkAAAAA4ngliQCUn1RNo5mBAbitmCpATYECmYE7FgdlgQHr+DZ0CP2FA",
          "dtype": "f8"
         },
         "yaxis": "y10"
        },
        {
         "hovertemplate": "Date: %{x}<br>Value: %{y}<br>Model: RF",
         "line": {
          "color": "green",
          "shape": "linear",
          "width": 2
         },
         "marker": {
          "size": 4
         },
         "mode": "lines+markers",
         "name": "RF",
         "showlegend": false,
         "type": "scatter",
         "x": [
          "2025-05-01T00:00:00.000000000",
          "2025-06-01T00:00:00.000000000",
          "2025-07-01T00:00:00.000000000",
          "2025-08-01T00:00:00.000000000",
          "2025-09-01T00:00:00.000000000",
          "2025-10-01T00:00:00.000000000",
          "2025-11-01T00:00:00.000000000",
          "2025-12-01T00:00:00.000000000",
          "2026-01-01T00:00:00.000000000"
         ],
         "xaxis": "x10",
         "y": {
          "bdata": "iGu+MPC1WUBQXIEYrG1ZQKGlyJh8HFhAMDvSOpwNV0AcjK5hFRpYQEGNtjggylVAKp86RLo4VEA8eawkgVtRQHqvaNoIUk5A",
          "dtype": "f8"
         },
         "yaxis": "y10"
        },
        {
         "fill": "toself",
         "fillcolor": "rgba(169, 169, 169, 0.2)",
         "hovertemplate": "Date: %{x}<br>Conf: 95%<br>Value: %{y}",
         "line": {
          "color": "rgba(255,255,255,0)"
         },
         "showlegend": false,
         "type": "scatter",
         "x": [
          "2025-05-01T00:00:00.000000000",
          "2025-06-01T00:00:00.000000000",
          "2025-07-01T00:00:00.000000000",
          "2025-08-01T00:00:00.000000000",
          "2025-09-01T00:00:00.000000000",
          "2025-10-01T00:00:00.000000000",
          "2025-11-01T00:00:00.000000000",
          "2025-12-01T00:00:00.000000000",
          "2026-01-01T00:00:00.000000000",
          "2026-01-01T00:00:00.000000000",
          "2025-12-01T00:00:00.000000000",
          "2025-11-01T00:00:00.000000000",
          "2025-10-01T00:00:00.000000000",
          "2025-09-01T00:00:00.000000000",
          "2025-08-01T00:00:00.000000000",
          "2025-07-01T00:00:00.000000000",
          "2025-06-01T00:00:00.000000000",
          "2025-05-01T00:00:00.000000000"
         ],
         "xaxis": "x10",
         "y": {
          "bdata": "Uc2JtgihRkDQ7hZ0RWVJQPhHrMyW/kpAVm0zDY+eTEAAAABMWR1QQGC2ggWWDUxAepxtPTaFSUAOT+TftVtFQNAG9PDQeDdAUuXpmrqkVkA/SZAcSj5dQPdEhkUXe2FAzKFa7WkiYkAAAAA4ngliQCUn1RNo5mBAbitmCpATYECmYE7FgdlgQHr+DZ0CP2FA",
          "dtype": "f8"
         },
         "yaxis": "y10"
        },
        {
         "hovertemplate": "Date: %{x}<br>Value: %{y}<br>Model: LR",
         "line": {
          "color": "red",
          "shape": "linear",
          "width": 2
         },
         "marker": {
          "size": 4
         },
         "mode": "lines+markers",
         "name": "LR",
         "showlegend": false,
         "type": "scatter",
         "x": [
          "2025-05-01T00:00:00.000000000",
          "2025-06-01T00:00:00.000000000",
          "2025-07-01T00:00:00.000000000",
          "2025-08-01T00:00:00.000000000",
          "2025-09-01T00:00:00.000000000",
          "2025-10-01T00:00:00.000000000",
          "2025-11-01T00:00:00.000000000",
          "2025-12-01T00:00:00.000000000",
          "2026-01-01T00:00:00.000000000"
         ],
         "xaxis": "x10",
         "y": {
          "bdata": "S2deL9lvVEDUSLAvu35VQDhEUKPzvFRAJrGak8cgVUBLDjTASbZXQH9FJNRRI1hAN7D4Pq8JV0DQ8wWPE3BRQMZARbVDbUdA",
          "dtype": "f8"
         },
         "yaxis": "y10"
        },
        {
         "fill": "toself",
         "fillcolor": "rgba(169, 169, 169, 0.2)",
         "hovertemplate": "Date: %{x}<br>Conf: 95%<br>Value: %{y}",
         "line": {
          "color": "rgba(255,255,255,0)"
         },
         "showlegend": false,
         "type": "scatter",
         "x": [
          "2025-05-01T00:00:00.000000000",
          "2025-06-01T00:00:00.000000000",
          "2025-07-01T00:00:00.000000000",
          "2025-08-01T00:00:00.000000000",
          "2025-09-01T00:00:00.000000000",
          "2025-10-01T00:00:00.000000000",
          "2025-11-01T00:00:00.000000000",
          "2025-12-01T00:00:00.000000000",
          "2026-01-01T00:00:00.000000000",
          "2026-01-01T00:00:00.000000000",
          "2025-12-01T00:00:00.000000000",
          "2025-11-01T00:00:00.000000000",
          "2025-10-01T00:00:00.000000000",
          "2025-09-01T00:00:00.000000000",
          "2025-08-01T00:00:00.000000000",
          "2025-07-01T00:00:00.000000000",
          "2025-06-01T00:00:00.000000000",
          "2025-05-01T00:00:00.000000000"
         ],
         "xaxis": "x10",
         "y": {
          "bdata": "Uc2JtgihRkDQ7hZ0RWVJQPhHrMyW/kpAVm0zDY+eTEAAAABMWR1QQGC2ggWWDUxAepxtPTaFSUAOT+TftVtFQNAG9PDQeDdAUuXpmrqkVkA/SZAcSj5dQPdEhkUXe2FAzKFa7WkiYkAAAAA4ngliQCUn1RNo5mBAbitmCpATYECmYE7FgdlgQHr+DZ0CP2FA",
          "dtype": "f8"
         },
         "yaxis": "y10"
        },
        {
         "hovertemplate": "Date: %{x}<br>Value: %{y}<br>Model: NN",
         "line": {
          "color": "purple",
          "shape": "linear",
          "width": 2
         },
         "marker": {
          "size": 4
         },
         "mode": "lines+markers",
         "name": "NN",
         "showlegend": false,
         "type": "scatter",
         "x": [
          "2025-05-01T00:00:00.000000000",
          "2025-06-01T00:00:00.000000000",
          "2025-07-01T00:00:00.000000000",
          "2025-08-01T00:00:00.000000000",
          "2025-09-01T00:00:00.000000000",
          "2025-10-01T00:00:00.000000000",
          "2025-11-01T00:00:00.000000000",
          "2025-12-01T00:00:00.000000000",
          "2026-01-01T00:00:00.000000000"
         ],
         "xaxis": "x10",
         "y": {
          "bdata": "K+qQbCTTVUDVypcP4v1VQNniH5WZLFZAEOxH6pcqWEDh96QilqpZQJIjmkbcHVhAqklFH0EXVkC1tLQUFlRSQLiP4NbbD0xA",
          "dtype": "f8"
         },
         "yaxis": "y10"
        },
        {
         "line": {
          "color": "black"
         },
         "mode": "lines",
         "showlegend": false,
         "type": "scatter",
         "x": [
          "2025-05-01T00:00:00",
          "2026-01-01T00:00:00"
         ],
         "xaxis": "x10",
         "y": [
          0,
          0
         ],
         "yaxis": "y10"
        },
        {
         "fill": "toself",
         "fillcolor": "rgba(169, 169, 169, 0.2)",
         "hovertemplate": "Date: %{x}<br>Conf: 95%<br>Value: %{y}",
         "line": {
          "color": "rgba(255,255,255,0)"
         },
         "showlegend": false,
         "type": "scatter",
         "x": [
          "2025-05-01T00:00:00.000000000",
          "2025-06-01T00:00:00.000000000",
          "2025-07-01T00:00:00.000000000",
          "2025-08-01T00:00:00.000000000",
          "2025-09-01T00:00:00.000000000",
          "2025-10-01T00:00:00.000000000",
          "2025-11-01T00:00:00.000000000",
          "2025-12-01T00:00:00.000000000",
          "2026-01-01T00:00:00.000000000",
          "2026-01-01T00:00:00.000000000",
          "2025-12-01T00:00:00.000000000",
          "2025-11-01T00:00:00.000000000",
          "2025-10-01T00:00:00.000000000",
          "2025-09-01T00:00:00.000000000",
          "2025-08-01T00:00:00.000000000",
          "2025-07-01T00:00:00.000000000",
          "2025-06-01T00:00:00.000000000",
          "2025-05-01T00:00:00.000000000"
         ],
         "xaxis": "x11",
         "y": {
          "bdata": "JT03VZjNQUA+NFZYYCsqQN7ZCT6lQBbAIB82ksepIsD2peKb7ykUQJqZmemA5jtAdtnOkl8BQ0C+0kk0SSlIQGs+FoW3FDxAAAAA9IHFYEAUUsd4QfVkQAalSM1WPGZA0abMENPDX0BQH8HMoytWQCRd9uhiF05Ax1RsTRXwTkCb8maBrkxWQBLFxurplWBA",
          "dtype": "f8"
         },
         "yaxis": "y11"
        },
        {
         "hovertemplate": "Date: %{x}<br>Value: %{y}<br>Model: GP",
         "line": {
          "color": "blue",
          "shape": "linear",
          "width": 2
         },
         "marker": {
          "size": 4
         },
         "mode": "lines+markers",
         "name": "GP",
         "showlegend": false,
         "type": "scatter",
         "x": [
          "2025-05-01T00:00:00.000000000",
          "2025-06-01T00:00:00.000000000",
          "2025-07-01T00:00:00.000000000",
          "2025-08-01T00:00:00.000000000",
          "2025-09-01T00:00:00.000000000",
          "2025-10-01T00:00:00.000000000",
          "2025-11-01T00:00:00.000000000",
          "2025-12-01T00:00:00.000000000",
          "2026-01-01T00:00:00.000000000"
         ],
         "xaxis": "x11",
         "y": {
          "bdata": "gziYYt/UVUCZTX1/XehMQLPnhQtFkENAHUjhSEBZQ0C/lIGMzmNJQHIh5/YbUlNA+/osRrURWEDGuHerJdpWQKgfUWypW1FA",
          "dtype": "f8"
         },
         "yaxis": "y11"
        },
        {
         "fill": "toself",
         "fillcolor": "rgba(169, 169, 169, 0.2)",
         "hovertemplate": "Date: %{x}<br>Conf: 95%<br>Value: %{y}",
         "line": {
          "color": "rgba(255,255,255,0)"
         },
         "showlegend": false,
         "type": "scatter",
         "x": [
          "2025-05-01T00:00:00.000000000",
          "2025-06-01T00:00:00.000000000",
          "2025-07-01T00:00:00.000000000",
          "2025-08-01T00:00:00.000000000",
          "2025-09-01T00:00:00.000000000",
          "2025-10-01T00:00:00.000000000",
          "2025-11-01T00:00:00.000000000",
          "2025-12-01T00:00:00.000000000",
          "2026-01-01T00:00:00.000000000",
          "2026-01-01T00:00:00.000000000",
          "2025-12-01T00:00:00.000000000",
          "2025-11-01T00:00:00.000000000",
          "2025-10-01T00:00:00.000000000",
          "2025-09-01T00:00:00.000000000",
          "2025-08-01T00:00:00.000000000",
          "2025-07-01T00:00:00.000000000",
          "2025-06-01T00:00:00.000000000",
          "2025-05-01T00:00:00.000000000"
         ],
         "xaxis": "x11",
         "y": {
          "bdata": "JT03VZjNQUA+NFZYYCsqQN7ZCT6lQBbAIB82ksepIsD2peKb7ykUQJqZmemA5jtAdtnOkl8BQ0C+0kk0SSlIQGs+FoW3FDxAAAAA9IHFYEAUUsd4QfVkQAalSM1WPGZA0abMENPDX0BQH8HMoytWQCRd9uhiF05Ax1RsTRXwTkCb8maBrkxWQBLFxurplWBA",
          "dtype": "f8"
         },
         "yaxis": "y11"
        },
        {
         "hovertemplate": "Date: %{x}<br>Value: %{y}<br>Model: RF",
         "line": {
          "color": "green",
          "shape": "linear",
          "width": 2
         },
         "marker": {
          "size": 4
         },
         "mode": "lines+markers",
         "name": "RF",
         "showlegend": false,
         "type": "scatter",
         "x": [
          "2025-05-01T00:00:00.000000000",
          "2025-06-01T00:00:00.000000000",
          "2025-07-01T00:00:00.000000000",
          "2025-08-01T00:00:00.000000000",
          "2025-09-01T00:00:00.000000000",
          "2025-10-01T00:00:00.000000000",
          "2025-11-01T00:00:00.000000000",
          "2025-12-01T00:00:00.000000000",
          "2026-01-01T00:00:00.000000000"
         ],
         "xaxis": "x11",
         "y": {
          "bdata": "hnbqORkOTUC3wAOr7bFEQIymKFRBYkBAnlXfqHfYPkDu7G1kcktFQMhWL8lWllBAhL0+5vlxWkDKVKtY771XQFvKXcOLjlRA",
          "dtype": "f8"
         },
         "yaxis": "y11"
        },
        {
         "fill": "toself",
         "fillcolor": "rgba(169, 169, 169, 0.2)",
         "hovertemplate": "Date: %{x}<br>Conf: 95%<br>Value: %{y}",
         "line": {
          "color": "rgba(255,255,255,0)"
         },
         "showlegend": false,
         "type": "scatter",
         "x": [
          "2025-05-01T00:00:00.000000000",
          "2025-06-01T00:00:00.000000000",
          "2025-07-01T00:00:00.000000000",
          "2025-08-01T00:00:00.000000000",
          "2025-09-01T00:00:00.000000000",
          "2025-10-01T00:00:00.000000000",
          "2025-11-01T00:00:00.000000000",
          "2025-12-01T00:00:00.000000000",
          "2026-01-01T00:00:00.000000000",
          "2026-01-01T00:00:00.000000000",
          "2025-12-01T00:00:00.000000000",
          "2025-11-01T00:00:00.000000000",
          "2025-10-01T00:00:00.000000000",
          "2025-09-01T00:00:00.000000000",
          "2025-08-01T00:00:00.000000000",
          "2025-07-01T00:00:00.000000000",
          "2025-06-01T00:00:00.000000000",
          "2025-05-01T00:00:00.000000000"
         ],
         "xaxis": "x11",
         "y": {
          "bdata": "JT03VZjNQUA+NFZYYCsqQN7ZCT6lQBbAIB82ksepIsD2peKb7ykUQJqZmemA5jtAdtnOkl8BQ0C+0kk0SSlIQGs+FoW3FDxAAAAA9IHFYEAUUsd4QfVkQAalSM1WPGZA0abMENPDX0BQH8HMoytWQCRd9uhiF05Ax1RsTRXwTkCb8maBrkxWQBLFxurplWBA",
          "dtype": "f8"
         },
         "yaxis": "y11"
        },
        {
         "hovertemplate": "Date: %{x}<br>Value: %{y}<br>Model: LR",
         "line": {
          "color": "red",
          "shape": "linear",
          "width": 2
         },
         "marker": {
          "size": 4
         },
         "mode": "lines+markers",
         "name": "LR",
         "showlegend": false,
         "type": "scatter",
         "x": [
          "2025-05-01T00:00:00.000000000",
          "2025-06-01T00:00:00.000000000",
          "2025-07-01T00:00:00.000000000",
          "2025-08-01T00:00:00.000000000",
          "2025-09-01T00:00:00.000000000",
          "2025-10-01T00:00:00.000000000",
          "2025-11-01T00:00:00.000000000",
          "2025-12-01T00:00:00.000000000",
          "2026-01-01T00:00:00.000000000"
         ],
         "xaxis": "x11",
         "y": {
          "bdata": "AA6JCkUSUkAKBJGMPMpGQM3YF1LE6zZAAOvDstGeMUD9nikEpvhAQDqGoKxbelBA9BcXtBZnVUBbZtjc2BVVQEpXy8eIjU1A",
          "dtype": "f8"
         },
         "yaxis": "y11"
        },
        {
         "fill": "toself",
         "fillcolor": "rgba(169, 169, 169, 0.2)",
         "hovertemplate": "Date: %{x}<br>Conf: 95%<br>Value: %{y}",
         "line": {
          "color": "rgba(255,255,255,0)"
         },
         "showlegend": false,
         "type": "scatter",
         "x": [
          "2025-05-01T00:00:00.000000000",
          "2025-06-01T00:00:00.000000000",
          "2025-07-01T00:00:00.000000000",
          "2025-08-01T00:00:00.000000000",
          "2025-09-01T00:00:00.000000000",
          "2025-10-01T00:00:00.000000000",
          "2025-11-01T00:00:00.000000000",
          "2025-12-01T00:00:00.000000000",
          "2026-01-01T00:00:00.000000000",
          "2026-01-01T00:00:00.000000000",
          "2025-12-01T00:00:00.000000000",
          "2025-11-01T00:00:00.000000000",
          "2025-10-01T00:00:00.000000000",
          "2025-09-01T00:00:00.000000000",
          "2025-08-01T00:00:00.000000000",
          "2025-07-01T00:00:00.000000000",
          "2025-06-01T00:00:00.000000000",
          "2025-05-01T00:00:00.000000000"
         ],
         "xaxis": "x11",
         "y": {
          "bdata": "JT03VZjNQUA+NFZYYCsqQN7ZCT6lQBbAIB82ksepIsD2peKb7ykUQJqZmemA5jtAdtnOkl8BQ0C+0kk0SSlIQGs+FoW3FDxAAAAA9IHFYEAUUsd4QfVkQAalSM1WPGZA0abMENPDX0BQH8HMoytWQCRd9uhiF05Ax1RsTRXwTkCb8maBrkxWQBLFxurplWBA",
          "dtype": "f8"
         },
         "yaxis": "y11"
        },
        {
         "hovertemplate": "Date: %{x}<br>Value: %{y}<br>Model: NN",
         "line": {
          "color": "purple",
          "shape": "linear",
          "width": 2
         },
         "marker": {
          "size": 4
         },
         "mode": "lines+markers",
         "name": "NN",
         "showlegend": false,
         "type": "scatter",
         "x": [
          "2025-05-01T00:00:00.000000000",
          "2025-06-01T00:00:00.000000000",
          "2025-07-01T00:00:00.000000000",
          "2025-08-01T00:00:00.000000000",
          "2025-09-01T00:00:00.000000000",
          "2025-10-01T00:00:00.000000000",
          "2025-11-01T00:00:00.000000000",
          "2025-12-01T00:00:00.000000000",
          "2026-01-01T00:00:00.000000000"
         ],
         "xaxis": "x11",
         "y": {
          "bdata": "EDqqiKmxUkDEn01giftBQHdo+GoOMURAPChBI8osQECUykrbvxtIQHDjLnvmS1BAUtG/dxJLWEAcZffTYYtZQC2ms/j/jFVA",
          "dtype": "f8"
         },
         "yaxis": "y11"
        },
        {
         "line": {
          "color": "black"
         },
         "mode": "lines",
         "showlegend": false,
         "type": "scatter",
         "x": [
          "2025-05-01T00:00:00",
          "2026-01-01T00:00:00"
         ],
         "xaxis": "x11",
         "y": [
          0,
          0
         ],
         "yaxis": "y11"
        },
        {
         "fill": "toself",
         "fillcolor": "rgba(169, 169, 169, 0.2)",
         "hovertemplate": "Date: %{x}<br>Conf: 95%<br>Value: %{y}",
         "line": {
          "color": "rgba(255,255,255,0)"
         },
         "showlegend": false,
         "type": "scatter",
         "x": [
          "2025-05-01T00:00:00.000000000",
          "2025-06-01T00:00:00.000000000",
          "2025-07-01T00:00:00.000000000",
          "2025-08-01T00:00:00.000000000",
          "2025-09-01T00:00:00.000000000",
          "2025-10-01T00:00:00.000000000",
          "2025-11-01T00:00:00.000000000",
          "2025-12-01T00:00:00.000000000",
          "2026-01-01T00:00:00.000000000",
          "2026-01-01T00:00:00.000000000",
          "2025-12-01T00:00:00.000000000",
          "2025-11-01T00:00:00.000000000",
          "2025-10-01T00:00:00.000000000",
          "2025-09-01T00:00:00.000000000",
          "2025-08-01T00:00:00.000000000",
          "2025-07-01T00:00:00.000000000",
          "2025-06-01T00:00:00.000000000",
          "2025-05-01T00:00:00.000000000"
         ],
         "xaxis": "x12",
         "y": {
          "bdata": "ECcOTkyVPsBEAzJbna9QwFkOPHdTZ17AhDKr/MoeYMCWeHJ1n35fwHObzo1f11rAz/1yyDeQVMC1uFCtKrUgQIgpbKE4qkfAZI/Ainu/cUB/hRpdn2t2QJ1e97HRC3RAVs459uzhbEAfz8nRc8ZlQCSWOobnoVxAG5DFKmMmYUAMlQRN0rdrQPCImNNGG3NA",
          "dtype": "f8"
         },
         "yaxis": "y12"
        },
        {
         "hovertemplate": "Date: %{x}<br>Value: %{y}<br>Model: GP",
         "line": {
          "color": "blue",
          "shape": "linear",
          "width": 2
         },
         "marker": {
          "size": 4
         },
         "mode": "lines+markers",
         "name": "GP",
         "showlegend": false,
         "type": "scatter",
         "x": [
          "2025-05-01T00:00:00.000000000",
          "2025-06-01T00:00:00.000000000",
          "2025-07-01T00:00:00.000000000",
          "2025-08-01T00:00:00.000000000",
          "2025-09-01T00:00:00.000000000",
          "2025-10-01T00:00:00.000000000",
          "2025-11-01T00:00:00.000000000",
          "2025-12-01T00:00:00.000000000",
          "2026-01-01T00:00:00.000000000"
         ],
         "xaxis": "x12",
         "y": {
          "bdata": "sRz6z0f9YEB5ELh4e3BTQLCIfmawbytAKXP1armuHkB+ysFaP2g6QKh3NzjGIkxA5rjXPjeMVkCafktMoyNiQItYMbuy31RA",
          "dtype": "f8"
         },
         "yaxis": "y12"
        },
        {
         "fill": "toself",
         "fillcolor": "rgba(169, 169, 169, 0.2)",
         "hovertemplate": "Date: %{x}<br>Conf: 95%<br>Value: %{y}",
         "line": {
          "color": "rgba(255,255,255,0)"
         },
         "showlegend": false,
         "type": "scatter",
         "x": [
          "2025-05-01T00:00:00.000000000",
          "2025-06-01T00:00:00.000000000",
          "2025-07-01T00:00:00.000000000",
          "2025-08-01T00:00:00.000000000",
          "2025-09-01T00:00:00.000000000",
          "2025-10-01T00:00:00.000000000",
          "2025-11-01T00:00:00.000000000",
          "2025-12-01T00:00:00.000000000",
          "2026-01-01T00:00:00.000000000",
          "2026-01-01T00:00:00.000000000",
          "2025-12-01T00:00:00.000000000",
          "2025-11-01T00:00:00.000000000",
          "2025-10-01T00:00:00.000000000",
          "2025-09-01T00:00:00.000000000",
          "2025-08-01T00:00:00.000000000",
          "2025-07-01T00:00:00.000000000",
          "2025-06-01T00:00:00.000000000",
          "2025-05-01T00:00:00.000000000"
         ],
         "xaxis": "x12",
         "y": {
          "bdata": "ECcOTkyVPsBEAzJbna9QwFkOPHdTZ17AhDKr/MoeYMCWeHJ1n35fwHObzo1f11rAz/1yyDeQVMC1uFCtKrUgQIgpbKE4qkfAZI/Ainu/cUB/hRpdn2t2QJ1e97HRC3RAVs459uzhbEAfz8nRc8ZlQCSWOobnoVxAG5DFKmMmYUAMlQRN0rdrQPCImNNGG3NA",
          "dtype": "f8"
         },
         "yaxis": "y12"
        },
        {
         "hovertemplate": "Date: %{x}<br>Value: %{y}<br>Model: RF",
         "line": {
          "color": "green",
          "shape": "linear",
          "width": 2
         },
         "marker": {
          "size": 4
         },
         "mode": "lines+markers",
         "name": "RF",
         "showlegend": false,
         "type": "scatter",
         "x": [
          "2025-05-01T00:00:00.000000000",
          "2025-06-01T00:00:00.000000000",
          "2025-07-01T00:00:00.000000000",
          "2025-08-01T00:00:00.000000000",
          "2025-09-01T00:00:00.000000000",
          "2025-10-01T00:00:00.000000000",
          "2025-11-01T00:00:00.000000000",
          "2025-12-01T00:00:00.000000000",
          "2026-01-01T00:00:00.000000000"
         ],
         "xaxis": "x12",
         "y": {
          "bdata": "hD1VwKu5RkBbHrvVA55AQHXyYQI1CipA4JfBKXcUEkAGWXVPZDnxP2fjD8z7CiVAWEMpQmkyYkD0pk1bFeZgQOEnoPqylVpA",
          "dtype": "f8"
         },
         "yaxis": "y12"
        },
        {
         "fill": "toself",
         "fillcolor": "rgba(169, 169, 169, 0.2)",
         "hovertemplate": "Date: %{x}<br>Conf: 95%<br>Value: %{y}",
         "line": {
          "color": "rgba(255,255,255,0)"
         },
         "showlegend": false,
         "type": "scatter",
         "x": [
          "2025-05-01T00:00:00.000000000",
          "2025-06-01T00:00:00.000000000",
          "2025-07-01T00:00:00.000000000",
          "2025-08-01T00:00:00.000000000",
          "2025-09-01T00:00:00.000000000",
          "2025-10-01T00:00:00.000000000",
          "2025-11-01T00:00:00.000000000",
          "2025-12-01T00:00:00.000000000",
          "2026-01-01T00:00:00.000000000",
          "2026-01-01T00:00:00.000000000",
          "2025-12-01T00:00:00.000000000",
          "2025-11-01T00:00:00.000000000",
          "2025-10-01T00:00:00.000000000",
          "2025-09-01T00:00:00.000000000",
          "2025-08-01T00:00:00.000000000",
          "2025-07-01T00:00:00.000000000",
          "2025-06-01T00:00:00.000000000",
          "2025-05-01T00:00:00.000000000"
         ],
         "xaxis": "x12",
         "y": {
          "bdata": "ECcOTkyVPsBEAzJbna9QwFkOPHdTZ17AhDKr/MoeYMCWeHJ1n35fwHObzo1f11rAz/1yyDeQVMC1uFCtKrUgQIgpbKE4qkfAZI/Ainu/cUB/hRpdn2t2QJ1e97HRC3RAVs459uzhbEAfz8nRc8ZlQCSWOobnoVxAG5DFKmMmYUAMlQRN0rdrQPCImNNGG3NA",
          "dtype": "f8"
         },
         "yaxis": "y12"
        },
        {
         "hovertemplate": "Date: %{x}<br>Value: %{y}<br>Model: LR",
         "line": {
          "color": "red",
          "shape": "linear",
          "width": 2
         },
         "marker": {
          "size": 4
         },
         "mode": "lines+markers",
         "name": "LR",
         "showlegend": false,
         "type": "scatter",
         "x": [
          "2025-05-01T00:00:00.000000000",
          "2025-06-01T00:00:00.000000000",
          "2025-07-01T00:00:00.000000000",
          "2025-08-01T00:00:00.000000000",
          "2025-09-01T00:00:00.000000000",
          "2025-10-01T00:00:00.000000000",
          "2025-11-01T00:00:00.000000000",
          "2025-12-01T00:00:00.000000000",
          "2026-01-01T00:00:00.000000000"
         ],
         "xaxis": "x12",
         "y": {
          "bdata": "3EejPe7vWUB/blh67ZpLQCgbuerSJC/A0R4obRMVQMCVPDf819AxwLhW+okomEZAwmK4WPq+UEDFm885DLtdQKG715t0f0pA",
          "dtype": "f8"
         },
         "yaxis": "y12"
        },
        {
         "fill": "toself",
         "fillcolor": "rgba(169, 169, 169, 0.2)",
         "hovertemplate": "Date: %{x}<br>Conf: 95%<br>Value: %{y}",
         "line": {
          "color": "rgba(255,255,255,0)"
         },
         "showlegend": false,
         "type": "scatter",
         "x": [
          "2025-05-01T00:00:00.000000000",
          "2025-06-01T00:00:00.000000000",
          "2025-07-01T00:00:00.000000000",
          "2025-08-01T00:00:00.000000000",
          "2025-09-01T00:00:00.000000000",
          "2025-10-01T00:00:00.000000000",
          "2025-11-01T00:00:00.000000000",
          "2025-12-01T00:00:00.000000000",
          "2026-01-01T00:00:00.000000000",
          "2026-01-01T00:00:00.000000000",
          "2025-12-01T00:00:00.000000000",
          "2025-11-01T00:00:00.000000000",
          "2025-10-01T00:00:00.000000000",
          "2025-09-01T00:00:00.000000000",
          "2025-08-01T00:00:00.000000000",
          "2025-07-01T00:00:00.000000000",
          "2025-06-01T00:00:00.000000000",
          "2025-05-01T00:00:00.000000000"
         ],
         "xaxis": "x12",
         "y": {
          "bdata": "ECcOTkyVPsBEAzJbna9QwFkOPHdTZ17AhDKr/MoeYMCWeHJ1n35fwHObzo1f11rAz/1yyDeQVMC1uFCtKrUgQIgpbKE4qkfAZI/Ainu/cUB/hRpdn2t2QJ1e97HRC3RAVs459uzhbEAfz8nRc8ZlQCSWOobnoVxAG5DFKmMmYUAMlQRN0rdrQPCImNNGG3NA",
          "dtype": "f8"
         },
         "yaxis": "y12"
        },
        {
         "hovertemplate": "Date: %{x}<br>Value: %{y}<br>Model: NN",
         "line": {
          "color": "purple",
          "shape": "linear",
          "width": 2
         },
         "marker": {
          "size": 4
         },
         "mode": "lines+markers",
         "name": "NN",
         "showlegend": false,
         "type": "scatter",
         "x": [
          "2025-05-01T00:00:00.000000000",
          "2025-06-01T00:00:00.000000000",
          "2025-07-01T00:00:00.000000000",
          "2025-08-01T00:00:00.000000000",
          "2025-09-01T00:00:00.000000000",
          "2025-10-01T00:00:00.000000000",
          "2025-11-01T00:00:00.000000000",
          "2025-12-01T00:00:00.000000000",
          "2026-01-01T00:00:00.000000000"
         ],
         "xaxis": "x12",
         "y": {
          "bdata": "eRhOM6m0XUDfaBruI2VQQJpS0KhEeidAftMShFQ9/r9frvjFuf4lQF/wZmNbUChAq6qq0Jo1VEAWOgNIpJpkQIfyGoKW5F1A",
          "dtype": "f8"
         },
         "yaxis": "y12"
        },
        {
         "line": {
          "color": "black"
         },
         "mode": "lines",
         "showlegend": false,
         "type": "scatter",
         "x": [
          "2025-05-01T00:00:00",
          "2026-01-01T00:00:00"
         ],
         "xaxis": "x12",
         "y": [
          0,
          0
         ],
         "yaxis": "y12"
        },
        {
         "fill": "toself",
         "fillcolor": "rgba(169, 169, 169, 0.2)",
         "hovertemplate": "Date: %{x}<br>Conf: 95%<br>Value: %{y}",
         "line": {
          "color": "rgba(255,255,255,0)"
         },
         "showlegend": false,
         "type": "scatter",
         "x": [
          "2025-05-01T00:00:00.000000000",
          "2025-06-01T00:00:00.000000000",
          "2025-07-01T00:00:00.000000000",
          "2025-08-01T00:00:00.000000000",
          "2025-09-01T00:00:00.000000000",
          "2025-10-01T00:00:00.000000000",
          "2025-11-01T00:00:00.000000000",
          "2025-12-01T00:00:00.000000000",
          "2026-01-01T00:00:00.000000000",
          "2026-01-01T00:00:00.000000000",
          "2025-12-01T00:00:00.000000000",
          "2025-11-01T00:00:00.000000000",
          "2025-10-01T00:00:00.000000000",
          "2025-09-01T00:00:00.000000000",
          "2025-08-01T00:00:00.000000000",
          "2025-07-01T00:00:00.000000000",
          "2025-06-01T00:00:00.000000000",
          "2025-05-01T00:00:00.000000000"
         ],
         "xaxis": "x13",
         "y": {
          "bdata": "yCW3H/Z7SECamZld0jJKQGZmZlZKTExAAAAA1NpETEAsW8KcR7NMQM3MzNx1sExA1QkGprjYTkB6w4Cz6vNQQE9HRvtVYVBAMxiPkkFcWkAvfoUyvA1cQJTEdoufbllAt7Oudxb8VUBwvlrGLc9TQKPFKP+SoFRAbC5OEl6cU0C0iplgLvpSQE5G+kUs6lJA",
          "dtype": "f8"
         },
         "yaxis": "y13"
        },
        {
         "hovertemplate": "Date: %{x}<br>Value: %{y}<br>Model: GP",
         "line": {
          "color": "blue",
          "shape": "linear",
          "width": 2
         },
         "marker": {
          "size": 4
         },
         "mode": "lines+markers",
         "name": "GP",
         "showlegend": false,
         "type": "scatter",
         "x": [
          "2025-05-01T00:00:00.000000000",
          "2025-06-01T00:00:00.000000000",
          "2025-07-01T00:00:00.000000000",
          "2025-08-01T00:00:00.000000000",
          "2025-09-01T00:00:00.000000000",
          "2025-10-01T00:00:00.000000000",
          "2025-11-01T00:00:00.000000000",
          "2025-12-01T00:00:00.000000000",
          "2026-01-01T00:00:00.000000000"
         ],
         "xaxis": "x13",
         "y": {
          "bdata": "XSdw0WsHTEAeDV85fLhOQDRquj4pklBAwadTayGAUUAd/ykC/e9QQJAXGNICtlFAFB5URvnJU0DLMdr00shXQDo0gjWpvlVA",
          "dtype": "f8"
         },
         "yaxis": "y13"
        },
        {
         "fill": "toself",
         "fillcolor": "rgba(169, 169, 169, 0.2)",
         "hovertemplate": "Date: %{x}<br>Conf: 95%<br>Value: %{y}",
         "line": {
          "color": "rgba(255,255,255,0)"
         },
         "showlegend": false,
         "type": "scatter",
         "x": [
          "2025-05-01T00:00:00.000000000",
          "2025-06-01T00:00:00.000000000",
          "2025-07-01T00:00:00.000000000",
          "2025-08-01T00:00:00.000000000",
          "2025-09-01T00:00:00.000000000",
          "2025-10-01T00:00:00.000000000",
          "2025-11-01T00:00:00.000000000",
          "2025-12-01T00:00:00.000000000",
          "2026-01-01T00:00:00.000000000",
          "2026-01-01T00:00:00.000000000",
          "2025-12-01T00:00:00.000000000",
          "2025-11-01T00:00:00.000000000",
          "2025-10-01T00:00:00.000000000",
          "2025-09-01T00:00:00.000000000",
          "2025-08-01T00:00:00.000000000",
          "2025-07-01T00:00:00.000000000",
          "2025-06-01T00:00:00.000000000",
          "2025-05-01T00:00:00.000000000"
         ],
         "xaxis": "x13",
         "y": {
          "bdata": "yCW3H/Z7SECamZld0jJKQGZmZlZKTExAAAAA1NpETEAsW8KcR7NMQM3MzNx1sExA1QkGprjYTkB6w4Cz6vNQQE9HRvtVYVBAMxiPkkFcWkAvfoUyvA1cQJTEdoufbllAt7Oudxb8VUBwvlrGLc9TQKPFKP+SoFRAbC5OEl6cU0C0iplgLvpSQE5G+kUs6lJA",
          "dtype": "f8"
         },
         "yaxis": "y13"
        },
        {
         "hovertemplate": "Date: %{x}<br>Value: %{y}<br>Model: RF",
         "line": {
          "color": "green",
          "shape": "linear",
          "width": 2
         },
         "marker": {
          "size": 4
         },
         "mode": "lines+markers",
         "name": "RF",
         "showlegend": false,
         "type": "scatter",
         "x": [
          "2025-05-01T00:00:00.000000000",
          "2025-06-01T00:00:00.000000000",
          "2025-07-01T00:00:00.000000000",
          "2025-08-01T00:00:00.000000000",
          "2025-09-01T00:00:00.000000000",
          "2025-10-01T00:00:00.000000000",
          "2025-11-01T00:00:00.000000000",
          "2025-12-01T00:00:00.000000000",
          "2026-01-01T00:00:00.000000000"
         ],
         "xaxis": "x13",
         "y": {
          "bdata": "77UNriXFUUACHoM/d6ZQQNXpEGlI8U9AIxozQAlaUECvXtegUPVRQO9JFcxDpVNA13wngQ9zVEDe/n9KxKhWQJti2WrZqlZA",
          "dtype": "f8"
         },
         "yaxis": "y13"
        },
        {
         "fill": "toself",
         "fillcolor": "rgba(169, 169, 169, 0.2)",
         "hovertemplate": "Date: %{x}<br>Conf: 95%<br>Value: %{y}",
         "line": {
          "color": "rgba(255,255,255,0)"
         },
         "showlegend": false,
         "type": "scatter",
         "x": [
          "2025-05-01T00:00:00.000000000",
          "2025-06-01T00:00:00.000000000",
          "2025-07-01T00:00:00.000000000",
          "2025-08-01T00:00:00.000000000",
          "2025-09-01T00:00:00.000000000",
          "2025-10-01T00:00:00.000000000",
          "2025-11-01T00:00:00.000000000",
          "2025-12-01T00:00:00.000000000",
          "2026-01-01T00:00:00.000000000",
          "2026-01-01T00:00:00.000000000",
          "2025-12-01T00:00:00.000000000",
          "2025-11-01T00:00:00.000000000",
          "2025-10-01T00:00:00.000000000",
          "2025-09-01T00:00:00.000000000",
          "2025-08-01T00:00:00.000000000",
          "2025-07-01T00:00:00.000000000",
          "2025-06-01T00:00:00.000000000",
          "2025-05-01T00:00:00.000000000"
         ],
         "xaxis": "x13",
         "y": {
          "bdata": "yCW3H/Z7SECamZld0jJKQGZmZlZKTExAAAAA1NpETEAsW8KcR7NMQM3MzNx1sExA1QkGprjYTkB6w4Cz6vNQQE9HRvtVYVBAMxiPkkFcWkAvfoUyvA1cQJTEdoufbllAt7Oudxb8VUBwvlrGLc9TQKPFKP+SoFRAbC5OEl6cU0C0iplgLvpSQE5G+kUs6lJA",
          "dtype": "f8"
         },
         "yaxis": "y13"
        },
        {
         "hovertemplate": "Date: %{x}<br>Value: %{y}<br>Model: LR",
         "line": {
          "color": "red",
          "shape": "linear",
          "width": 2
         },
         "marker": {
          "size": 4
         },
         "mode": "lines+markers",
         "name": "LR",
         "showlegend": false,
         "type": "scatter",
         "x": [
          "2025-05-01T00:00:00.000000000",
          "2025-06-01T00:00:00.000000000",
          "2025-07-01T00:00:00.000000000",
          "2025-08-01T00:00:00.000000000",
          "2025-09-01T00:00:00.000000000",
          "2025-10-01T00:00:00.000000000",
          "2025-11-01T00:00:00.000000000",
          "2025-12-01T00:00:00.000000000",
          "2026-01-01T00:00:00.000000000"
         ],
         "xaxis": "x13",
         "y": {
          "bdata": "n1YP7W3QT0CuWjjm1LxRQE1mYpn9KVJAMUF6RRhbUkDyudFByVRRQEDMP5zZYVJASMiNUYTAVEAgjAJTGGVYQPCZ9u/5zVVA",
          "dtype": "f8"
         },
         "yaxis": "y13"
        },
        {
         "fill": "toself",
         "fillcolor": "rgba(169, 169, 169, 0.2)",
         "hovertemplate": "Date: %{x}<br>Conf: 95%<br>Value: %{y}",
         "line": {
          "color": "rgba(255,255,255,0)"
         },
         "showlegend": false,
         "type": "scatter",
         "x": [
          "2025-05-01T00:00:00.000000000",
          "2025-06-01T00:00:00.000000000",
          "2025-07-01T00:00:00.000000000",
          "2025-08-01T00:00:00.000000000",
          "2025-09-01T00:00:00.000000000",
          "2025-10-01T00:00:00.000000000",
          "2025-11-01T00:00:00.000000000",
          "2025-12-01T00:00:00.000000000",
          "2026-01-01T00:00:00.000000000",
          "2026-01-01T00:00:00.000000000",
          "2025-12-01T00:00:00.000000000",
          "2025-11-01T00:00:00.000000000",
          "2025-10-01T00:00:00.000000000",
          "2025-09-01T00:00:00.000000000",
          "2025-08-01T00:00:00.000000000",
          "2025-07-01T00:00:00.000000000",
          "2025-06-01T00:00:00.000000000",
          "2025-05-01T00:00:00.000000000"
         ],
         "xaxis": "x13",
         "y": {
          "bdata": "yCW3H/Z7SECamZld0jJKQGZmZlZKTExAAAAA1NpETEAsW8KcR7NMQM3MzNx1sExA1QkGprjYTkB6w4Cz6vNQQE9HRvtVYVBAMxiPkkFcWkAvfoUyvA1cQJTEdoufbllAt7Oudxb8VUBwvlrGLc9TQKPFKP+SoFRAbC5OEl6cU0C0iplgLvpSQE5G+kUs6lJA",
          "dtype": "f8"
         },
         "yaxis": "y13"
        },
        {
         "hovertemplate": "Date: %{x}<br>Value: %{y}<br>Model: NN",
         "line": {
          "color": "purple",
          "shape": "linear",
          "width": 2
         },
         "marker": {
          "size": 4
         },
         "mode": "lines+markers",
         "name": "NN",
         "showlegend": false,
         "type": "scatter",
         "x": [
          "2025-05-01T00:00:00.000000000",
          "2025-06-01T00:00:00.000000000",
          "2025-07-01T00:00:00.000000000",
          "2025-08-01T00:00:00.000000000",
          "2025-09-01T00:00:00.000000000",
          "2025-10-01T00:00:00.000000000",
          "2025-11-01T00:00:00.000000000",
          "2025-12-01T00:00:00.000000000",
          "2026-01-01T00:00:00.000000000"
         ],
         "xaxis": "x13",
         "y": {
          "bdata": "nVZFvW8STEAN8BMHqadOQFlOOvB4QVBA92dkSrMWUUC7xulrpKFQQOOB3S+8L1FAyvWx9FFAVUCoXsw3tTdXQIvpLB57hlVA",
          "dtype": "f8"
         },
         "yaxis": "y13"
        },
        {
         "line": {
          "color": "black"
         },
         "mode": "lines",
         "showlegend": false,
         "type": "scatter",
         "x": [
          "2025-05-01T00:00:00",
          "2026-01-01T00:00:00"
         ],
         "xaxis": "x13",
         "y": [
          0,
          0
         ],
         "yaxis": "y13"
        },
        {
         "fill": "toself",
         "fillcolor": "rgba(169, 169, 169, 0.2)",
         "hovertemplate": "Date: %{x}<br>Conf: 95%<br>Value: %{y}",
         "line": {
          "color": "rgba(255,255,255,0)"
         },
         "showlegend": false,
         "type": "scatter",
         "x": [
          "2025-05-01T00:00:00.000000000",
          "2025-06-01T00:00:00.000000000",
          "2025-07-01T00:00:00.000000000",
          "2025-08-01T00:00:00.000000000",
          "2025-09-01T00:00:00.000000000",
          "2025-10-01T00:00:00.000000000",
          "2025-11-01T00:00:00.000000000",
          "2025-12-01T00:00:00.000000000",
          "2026-01-01T00:00:00.000000000",
          "2026-01-01T00:00:00.000000000",
          "2025-12-01T00:00:00.000000000",
          "2025-11-01T00:00:00.000000000",
          "2025-10-01T00:00:00.000000000",
          "2025-09-01T00:00:00.000000000",
          "2025-08-01T00:00:00.000000000",
          "2025-07-01T00:00:00.000000000",
          "2025-06-01T00:00:00.000000000",
          "2025-05-01T00:00:00.000000000"
         ],
         "xaxis": "x14",
         "y": {
          "bdata": "bJTT2vLtQECLaKL1LbpBQGEGlAGgHUFA6ADhX9ZJRUAAAADQ/mNIQCkSFpAQkUNA1ll74I0pRkAzMzOv88xGQOcKdXH8RT5ArP5Z1QCdWkAf2k0mpBdeQEM0VuaVEmJA38LbT5flYUA8jFrBTahiQFJkPnm9S2BA3Qe/dqNuX0CO8UPaN7RhQHsuiOqglWFA",
          "dtype": "f8"
         },
         "yaxis": "y14"
        },
        {
         "hovertemplate": "Date: %{x}<br>Value: %{y}<br>Model: GP",
         "line": {
          "color": "blue",
          "shape": "linear",
          "width": 2
         },
         "marker": {
          "size": 4
         },
         "mode": "lines+markers",
         "name": "GP",
         "showlegend": false,
         "type": "scatter",
         "x": [
          "2025-05-01T00:00:00.000000000",
          "2025-06-01T00:00:00.000000000",
          "2025-07-01T00:00:00.000000000",
          "2025-08-01T00:00:00.000000000",
          "2025-09-01T00:00:00.000000000",
          "2025-10-01T00:00:00.000000000",
          "2025-11-01T00:00:00.000000000",
          "2025-12-01T00:00:00.000000000",
          "2026-01-01T00:00:00.000000000"
         ],
         "xaxis": "x14",
         "y": {
          "bdata": "iybpfX3mU0DyIQ6KlHJUQLNy/LLF3FFA8X8lKX3dUkBllLwpJWZWQA8cKWCGj1VANeu+oJjDVUCWFo0txL9RQI19uRomCktA",
          "dtype": "f8"
         },
         "yaxis": "y14"
        },
        {
         "fill": "toself",
         "fillcolor": "rgba(169, 169, 169, 0.2)",
         "hovertemplate": "Date: %{x}<br>Conf: 95%<br>Value: %{y}",
         "line": {
          "color": "rgba(255,255,255,0)"
         },
         "showlegend": false,
         "type": "scatter",
         "x": [
          "2025-05-01T00:00:00.000000000",
          "2025-06-01T00:00:00.000000000",
          "2025-07-01T00:00:00.000000000",
          "2025-08-01T00:00:00.000000000",
          "2025-09-01T00:00:00.000000000",
          "2025-10-01T00:00:00.000000000",
          "2025-11-01T00:00:00.000000000",
          "2025-12-01T00:00:00.000000000",
          "2026-01-01T00:00:00.000000000",
          "2026-01-01T00:00:00.000000000",
          "2025-12-01T00:00:00.000000000",
          "2025-11-01T00:00:00.000000000",
          "2025-10-01T00:00:00.000000000",
          "2025-09-01T00:00:00.000000000",
          "2025-08-01T00:00:00.000000000",
          "2025-07-01T00:00:00.000000000",
          "2025-06-01T00:00:00.000000000",
          "2025-05-01T00:00:00.000000000"
         ],
         "xaxis": "x14",
         "y": {
          "bdata": "bJTT2vLtQECLaKL1LbpBQGEGlAGgHUFA6ADhX9ZJRUAAAADQ/mNIQCkSFpAQkUNA1ll74I0pRkAzMzOv88xGQOcKdXH8RT5ArP5Z1QCdWkAf2k0mpBdeQEM0VuaVEmJA38LbT5flYUA8jFrBTahiQFJkPnm9S2BA3Qe/dqNuX0CO8UPaN7RhQHsuiOqglWFA",
          "dtype": "f8"
         },
         "yaxis": "y14"
        },
        {
         "hovertemplate": "Date: %{x}<br>Value: %{y}<br>Model: RF",
         "line": {
          "color": "green",
          "shape": "linear",
          "width": 2
         },
         "marker": {
          "size": 4
         },
         "mode": "lines+markers",
         "name": "RF",
         "showlegend": false,
         "type": "scatter",
         "x": [
          "2025-05-01T00:00:00.000000000",
          "2025-06-01T00:00:00.000000000",
          "2025-07-01T00:00:00.000000000",
          "2025-08-01T00:00:00.000000000",
          "2025-09-01T00:00:00.000000000",
          "2025-10-01T00:00:00.000000000",
          "2025-11-01T00:00:00.000000000",
          "2025-12-01T00:00:00.000000000",
          "2026-01-01T00:00:00.000000000"
         ],
         "xaxis": "x14",
         "y": {
          "bdata": "4fCmez8DWkAPTTdtmb1ZQCylee5aNldA7KhBRv9QV0AlRN8GpSBYQIjTnGpQo1VAN1DzoQDzVEBGW3ORZXRSQEaqOW+AaVBA",
          "dtype": "f8"
         },
         "yaxis": "y14"
        },
        {
         "fill": "toself",
         "fillcolor": "rgba(169, 169, 169, 0.2)",
         "hovertemplate": "Date: %{x}<br>Conf: 95%<br>Value: %{y}",
         "line": {
          "color": "rgba(255,255,255,0)"
         },
         "showlegend": false,
         "type": "scatter",
         "x": [
          "2025-05-01T00:00:00.000000000",
          "2025-06-01T00:00:00.000000000",
          "2025-07-01T00:00:00.000000000",
          "2025-08-01T00:00:00.000000000",
          "2025-09-01T00:00:00.000000000",
          "2025-10-01T00:00:00.000000000",
          "2025-11-01T00:00:00.000000000",
          "2025-12-01T00:00:00.000000000",
          "2026-01-01T00:00:00.000000000",
          "2026-01-01T00:00:00.000000000",
          "2025-12-01T00:00:00.000000000",
          "2025-11-01T00:00:00.000000000",
          "2025-10-01T00:00:00.000000000",
          "2025-09-01T00:00:00.000000000",
          "2025-08-01T00:00:00.000000000",
          "2025-07-01T00:00:00.000000000",
          "2025-06-01T00:00:00.000000000",
          "2025-05-01T00:00:00.000000000"
         ],
         "xaxis": "x14",
         "y": {
          "bdata": "bJTT2vLtQECLaKL1LbpBQGEGlAGgHUFA6ADhX9ZJRUAAAADQ/mNIQCkSFpAQkUNA1ll74I0pRkAzMzOv88xGQOcKdXH8RT5ArP5Z1QCdWkAf2k0mpBdeQEM0VuaVEmJA38LbT5flYUA8jFrBTahiQFJkPnm9S2BA3Qe/dqNuX0CO8UPaN7RhQHsuiOqglWFA",
          "dtype": "f8"
         },
         "yaxis": "y14"
        },
        {
         "hovertemplate": "Date: %{x}<br>Value: %{y}<br>Model: LR",
         "line": {
          "color": "red",
          "shape": "linear",
          "width": 2
         },
         "marker": {
          "size": 4
         },
         "mode": "lines+markers",
         "name": "LR",
         "showlegend": false,
         "type": "scatter",
         "x": [
          "2025-05-01T00:00:00.000000000",
          "2025-06-01T00:00:00.000000000",
          "2025-07-01T00:00:00.000000000",
          "2025-08-01T00:00:00.000000000",
          "2025-09-01T00:00:00.000000000",
          "2025-10-01T00:00:00.000000000",
          "2025-11-01T00:00:00.000000000",
          "2025-12-01T00:00:00.000000000",
          "2026-01-01T00:00:00.000000000"
         ],
         "xaxis": "x14",
         "y": {
          "bdata": "8SmINb0hUkB+lWOeW8dRQPweMmMS+U9AZ7IIL8iHUUDngGZ61GZVQO/e+C8t4FdAjr2JnLkoWUA8WvcadvVUQBXjCf9qE1BA",
          "dtype": "f8"
         },
         "yaxis": "y14"
        },
        {
         "fill": "toself",
         "fillcolor": "rgba(169, 169, 169, 0.2)",
         "hovertemplate": "Date: %{x}<br>Conf: 95%<br>Value: %{y}",
         "line": {
          "color": "rgba(255,255,255,0)"
         },
         "showlegend": false,
         "type": "scatter",
         "x": [
          "2025-05-01T00:00:00.000000000",
          "2025-06-01T00:00:00.000000000",
          "2025-07-01T00:00:00.000000000",
          "2025-08-01T00:00:00.000000000",
          "2025-09-01T00:00:00.000000000",
          "2025-10-01T00:00:00.000000000",
          "2025-11-01T00:00:00.000000000",
          "2025-12-01T00:00:00.000000000",
          "2026-01-01T00:00:00.000000000",
          "2026-01-01T00:00:00.000000000",
          "2025-12-01T00:00:00.000000000",
          "2025-11-01T00:00:00.000000000",
          "2025-10-01T00:00:00.000000000",
          "2025-09-01T00:00:00.000000000",
          "2025-08-01T00:00:00.000000000",
          "2025-07-01T00:00:00.000000000",
          "2025-06-01T00:00:00.000000000",
          "2025-05-01T00:00:00.000000000"
         ],
         "xaxis": "x14",
         "y": {
          "bdata": "bJTT2vLtQECLaKL1LbpBQGEGlAGgHUFA6ADhX9ZJRUAAAADQ/mNIQCkSFpAQkUNA1ll74I0pRkAzMzOv88xGQOcKdXH8RT5ArP5Z1QCdWkAf2k0mpBdeQEM0VuaVEmJA38LbT5flYUA8jFrBTahiQFJkPnm9S2BA3Qe/dqNuX0CO8UPaN7RhQHsuiOqglWFA",
          "dtype": "f8"
         },
         "yaxis": "y14"
        },
        {
         "hovertemplate": "Date: %{x}<br>Value: %{y}<br>Model: NN",
         "line": {
          "color": "purple",
          "shape": "linear",
          "width": 2
         },
         "marker": {
          "size": 4
         },
         "mode": "lines+markers",
         "name": "NN",
         "showlegend": false,
         "type": "scatter",
         "x": [
          "2025-05-01T00:00:00.000000000",
          "2025-06-01T00:00:00.000000000",
          "2025-07-01T00:00:00.000000000",
          "2025-08-01T00:00:00.000000000",
          "2025-09-01T00:00:00.000000000",
          "2025-10-01T00:00:00.000000000",
          "2025-11-01T00:00:00.000000000",
          "2025-12-01T00:00:00.000000000",
          "2026-01-01T00:00:00.000000000"
         ],
         "xaxis": "x14",
         "y": {
          "bdata": "qjdIWWLpU0DPvZIwWOxWQNlFDtOvL1NAf0amU7KPVUCUY0ExhL5XQHWldxIejVRAWvwa4Y4FVUDZ/UZpaGxSQAT3Ecydk09A",
          "dtype": "f8"
         },
         "yaxis": "y14"
        },
        {
         "line": {
          "color": "black"
         },
         "mode": "lines",
         "showlegend": false,
         "type": "scatter",
         "x": [
          "2025-05-01T00:00:00",
          "2026-01-01T00:00:00"
         ],
         "xaxis": "x14",
         "y": [
          0,
          0
         ],
         "yaxis": "y14"
        },
        {
         "fill": "toself",
         "fillcolor": "rgba(169, 169, 169, 0.2)",
         "hovertemplate": "Date: %{x}<br>Conf: 95%<br>Value: %{y}",
         "line": {
          "color": "rgba(255,255,255,0)"
         },
         "showlegend": false,
         "type": "scatter",
         "x": [
          "2025-05-01T00:00:00.000000000",
          "2025-06-01T00:00:00.000000000",
          "2025-07-01T00:00:00.000000000",
          "2025-08-01T00:00:00.000000000",
          "2025-09-01T00:00:00.000000000",
          "2025-10-01T00:00:00.000000000",
          "2025-11-01T00:00:00.000000000",
          "2025-12-01T00:00:00.000000000",
          "2026-01-01T00:00:00.000000000",
          "2026-01-01T00:00:00.000000000",
          "2025-12-01T00:00:00.000000000",
          "2025-11-01T00:00:00.000000000",
          "2025-10-01T00:00:00.000000000",
          "2025-09-01T00:00:00.000000000",
          "2025-08-01T00:00:00.000000000",
          "2025-07-01T00:00:00.000000000",
          "2025-06-01T00:00:00.000000000",
          "2025-05-01T00:00:00.000000000"
         ],
         "xaxis": "x15",
         "y": {
          "bdata": "ZmZmClp3UkCd+l/o3hNOQOyMY2ERQEBAanN6d4QKQEAAAAAgVvdEQM3MzKgxgVJANZLC8u7SW0AzPawRYglgQNq1Tca1SFpAJVtCw+DfaEBk7yKl9VJuQEe2ROvyyGtATgZDOYWwZ0DQRCPaJHZgQAgFoRAov1dAcyWOnf77VkDHa3WDU4xgQLCcJKSZPmlA",
          "dtype": "f8"
         },
         "yaxis": "y15"
        },
        {
         "hovertemplate": "Date: %{x}<br>Value: %{y}<br>Model: GP",
         "line": {
          "color": "blue",
          "shape": "linear",
          "width": 2
         },
         "marker": {
          "size": 4
         },
         "mode": "lines+markers",
         "name": "GP",
         "showlegend": false,
         "type": "scatter",
         "x": [
          "2025-05-01T00:00:00.000000000",
          "2025-06-01T00:00:00.000000000",
          "2025-07-01T00:00:00.000000000",
          "2025-08-01T00:00:00.000000000",
          "2025-09-01T00:00:00.000000000",
          "2025-10-01T00:00:00.000000000",
          "2025-11-01T00:00:00.000000000",
          "2025-12-01T00:00:00.000000000",
          "2026-01-01T00:00:00.000000000"
         ],
         "xaxis": "x15",
         "y": {
          "bdata": "rxnKv75cYkAbT4X37SJVQNmThps5Xk1AGgnHNwYZT0Au/qDKjOZVQKnheXqi6GBA5gVEv7EuZEDtDpn+kd9lQCibTv6RYGFA",
          "dtype": "f8"
         },
         "yaxis": "y15"
        },
        {
         "fill": "toself",
         "fillcolor": "rgba(169, 169, 169, 0.2)",
         "hovertemplate": "Date: %{x}<br>Conf: 95%<br>Value: %{y}",
         "line": {
          "color": "rgba(255,255,255,0)"
         },
         "showlegend": false,
         "type": "scatter",
         "x": [
          "2025-05-01T00:00:00.000000000",
          "2025-06-01T00:00:00.000000000",
          "2025-07-01T00:00:00.000000000",
          "2025-08-01T00:00:00.000000000",
          "2025-09-01T00:00:00.000000000",
          "2025-10-01T00:00:00.000000000",
          "2025-11-01T00:00:00.000000000",
          "2025-12-01T00:00:00.000000000",
          "2026-01-01T00:00:00.000000000",
          "2026-01-01T00:00:00.000000000",
          "2025-12-01T00:00:00.000000000",
          "2025-11-01T00:00:00.000000000",
          "2025-10-01T00:00:00.000000000",
          "2025-09-01T00:00:00.000000000",
          "2025-08-01T00:00:00.000000000",
          "2025-07-01T00:00:00.000000000",
          "2025-06-01T00:00:00.000000000",
          "2025-05-01T00:00:00.000000000"
         ],
         "xaxis": "x15",
         "y": {
          "bdata": "ZmZmClp3UkCd+l/o3hNOQOyMY2ERQEBAanN6d4QKQEAAAAAgVvdEQM3MzKgxgVJANZLC8u7SW0AzPawRYglgQNq1Tca1SFpAJVtCw+DfaEBk7yKl9VJuQEe2ROvyyGtATgZDOYWwZ0DQRCPaJHZgQAgFoRAov1dAcyWOnf77VkDHa3WDU4xgQLCcJKSZPmlA",
          "dtype": "f8"
         },
         "yaxis": "y15"
        },
        {
         "hovertemplate": "Date: %{x}<br>Value: %{y}<br>Model: RF",
         "line": {
          "color": "green",
          "shape": "linear",
          "width": 2
         },
         "marker": {
          "size": 4
         },
         "mode": "lines+markers",
         "name": "RF",
         "showlegend": false,
         "type": "scatter",
         "x": [
          "2025-05-01T00:00:00.000000000",
          "2025-06-01T00:00:00.000000000",
          "2025-07-01T00:00:00.000000000",
          "2025-08-01T00:00:00.000000000",
          "2025-09-01T00:00:00.000000000",
          "2025-10-01T00:00:00.000000000",
          "2025-11-01T00:00:00.000000000",
          "2025-12-01T00:00:00.000000000",
          "2026-01-01T00:00:00.000000000"
         ],
         "xaxis": "x15",
         "y": {
          "bdata": "CRs6kcr/WEDqWpYrnpRTQNf4EkszbFFAoRG1XDZFUUCZb6UPGttTQGd2vG1LjF5AVqoFy/H8ZECDcSxDoNhjQJy08Lg9GmJA",
          "dtype": "f8"
         },
         "yaxis": "y15"
        },
        {
         "fill": "toself",
         "fillcolor": "rgba(169, 169, 169, 0.2)",
         "hovertemplate": "Date: %{x}<br>Conf: 95%<br>Value: %{y}",
         "line": {
          "color": "rgba(255,255,255,0)"
         },
         "showlegend": false,
         "type": "scatter",
         "x": [
          "2025-05-01T00:00:00.000000000",
          "2025-06-01T00:00:00.000000000",
          "2025-07-01T00:00:00.000000000",
          "2025-08-01T00:00:00.000000000",
          "2025-09-01T00:00:00.000000000",
          "2025-10-01T00:00:00.000000000",
          "2025-11-01T00:00:00.000000000",
          "2025-12-01T00:00:00.000000000",
          "2026-01-01T00:00:00.000000000",
          "2026-01-01T00:00:00.000000000",
          "2025-12-01T00:00:00.000000000",
          "2025-11-01T00:00:00.000000000",
          "2025-10-01T00:00:00.000000000",
          "2025-09-01T00:00:00.000000000",
          "2025-08-01T00:00:00.000000000",
          "2025-07-01T00:00:00.000000000",
          "2025-06-01T00:00:00.000000000",
          "2025-05-01T00:00:00.000000000"
         ],
         "xaxis": "x15",
         "y": {
          "bdata": "ZmZmClp3UkCd+l/o3hNOQOyMY2ERQEBAanN6d4QKQEAAAAAgVvdEQM3MzKgxgVJANZLC8u7SW0AzPawRYglgQNq1Tca1SFpAJVtCw+DfaEBk7yKl9VJuQEe2ROvyyGtATgZDOYWwZ0DQRCPaJHZgQAgFoRAov1dAcyWOnf77VkDHa3WDU4xgQLCcJKSZPmlA",
          "dtype": "f8"
         },
         "yaxis": "y15"
        },
        {
         "hovertemplate": "Date: %{x}<br>Value: %{y}<br>Model: LR",
         "line": {
          "color": "red",
          "shape": "linear",
          "width": 2
         },
         "marker": {
          "size": 4
         },
         "mode": "lines+markers",
         "name": "LR",
         "showlegend": false,
         "type": "scatter",
         "x": [
          "2025-05-01T00:00:00.000000000",
          "2025-06-01T00:00:00.000000000",
          "2025-07-01T00:00:00.000000000",
          "2025-08-01T00:00:00.000000000",
          "2025-09-01T00:00:00.000000000",
          "2025-10-01T00:00:00.000000000",
          "2025-11-01T00:00:00.000000000",
          "2025-12-01T00:00:00.000000000",
          "2026-01-01T00:00:00.000000000"
         ],
         "xaxis": "x15",
         "y": {
          "bdata": "ScPgnYiFYkBdyHU0YPNXQCXj7ERVU05Ap9KkuBmlT0BZvwxvQFFXQIEXoBPqo2JA1EH08GAJZ0ATgifZfrtpQL+/yasY52RA",
          "dtype": "f8"
         },
         "yaxis": "y15"
        },
        {
         "fill": "toself",
         "fillcolor": "rgba(169, 169, 169, 0.2)",
         "hovertemplate": "Date: %{x}<br>Conf: 95%<br>Value: %{y}",
         "line": {
          "color": "rgba(255,255,255,0)"
         },
         "showlegend": false,
         "type": "scatter",
         "x": [
          "2025-05-01T00:00:00.000000000",
          "2025-06-01T00:00:00.000000000",
          "2025-07-01T00:00:00.000000000",
          "2025-08-01T00:00:00.000000000",
          "2025-09-01T00:00:00.000000000",
          "2025-10-01T00:00:00.000000000",
          "2025-11-01T00:00:00.000000000",
          "2025-12-01T00:00:00.000000000",
          "2026-01-01T00:00:00.000000000",
          "2026-01-01T00:00:00.000000000",
          "2025-12-01T00:00:00.000000000",
          "2025-11-01T00:00:00.000000000",
          "2025-10-01T00:00:00.000000000",
          "2025-09-01T00:00:00.000000000",
          "2025-08-01T00:00:00.000000000",
          "2025-07-01T00:00:00.000000000",
          "2025-06-01T00:00:00.000000000",
          "2025-05-01T00:00:00.000000000"
         ],
         "xaxis": "x15",
         "y": {
          "bdata": "ZmZmClp3UkCd+l/o3hNOQOyMY2ERQEBAanN6d4QKQEAAAAAgVvdEQM3MzKgxgVJANZLC8u7SW0AzPawRYglgQNq1Tca1SFpAJVtCw+DfaEBk7yKl9VJuQEe2ROvyyGtATgZDOYWwZ0DQRCPaJHZgQAgFoRAov1dAcyWOnf77VkDHa3WDU4xgQLCcJKSZPmlA",
          "dtype": "f8"
         },
         "yaxis": "y15"
        },
        {
         "hovertemplate": "Date: %{x}<br>Value: %{y}<br>Model: NN",
         "line": {
          "color": "purple",
          "shape": "linear",
          "width": 2
         },
         "marker": {
          "size": 4
         },
         "mode": "lines+markers",
         "name": "NN",
         "showlegend": false,
         "type": "scatter",
         "x": [
          "2025-05-01T00:00:00.000000000",
          "2025-06-01T00:00:00.000000000",
          "2025-07-01T00:00:00.000000000",
          "2025-08-01T00:00:00.000000000",
          "2025-09-01T00:00:00.000000000",
          "2025-10-01T00:00:00.000000000",
          "2025-11-01T00:00:00.000000000",
          "2025-12-01T00:00:00.000000000",
          "2026-01-01T00:00:00.000000000"
         ],
         "xaxis": "x15",
         "y": {
          "bdata": "VGMmYDcwXkCAdULSJchWQO5tAmxeCU1Aju5+REKLTUDMrjHnVmlQQKd+z/115l1APdRDnbKUY0Bl9xvNy6xlQLSYzurEAWJA",
          "dtype": "f8"
         },
         "yaxis": "y15"
        },
        {
         "line": {
          "color": "black"
         },
         "mode": "lines",
         "showlegend": false,
         "type": "scatter",
         "x": [
          "2025-05-01T00:00:00",
          "2026-01-01T00:00:00"
         ],
         "xaxis": "x15",
         "y": [
          0,
          0
         ],
         "yaxis": "y15"
        },
        {
         "fill": "toself",
         "fillcolor": "rgba(169, 169, 169, 0.2)",
         "hovertemplate": "Date: %{x}<br>Conf: 95%<br>Value: %{y}",
         "line": {
          "color": "rgba(255,255,255,0)"
         },
         "showlegend": false,
         "type": "scatter",
         "x": [
          "2025-05-01T00:00:00.000000000",
          "2025-06-01T00:00:00.000000000",
          "2025-07-01T00:00:00.000000000",
          "2025-08-01T00:00:00.000000000",
          "2025-09-01T00:00:00.000000000",
          "2025-10-01T00:00:00.000000000",
          "2025-11-01T00:00:00.000000000",
          "2025-12-01T00:00:00.000000000",
          "2026-01-01T00:00:00.000000000",
          "2026-01-01T00:00:00.000000000",
          "2025-12-01T00:00:00.000000000",
          "2025-11-01T00:00:00.000000000",
          "2025-10-01T00:00:00.000000000",
          "2025-09-01T00:00:00.000000000",
          "2025-08-01T00:00:00.000000000",
          "2025-07-01T00:00:00.000000000",
          "2025-06-01T00:00:00.000000000",
          "2025-05-01T00:00:00.000000000"
         ],
         "xaxis": "x16",
         "y": {
          "bdata": "5/tYYHcTSkAwP1hX05UlQILXqRhOPSjAiNRUd4+NFsBCtlDD9C43QMycNs6W2EZAa2XEgLg1WkCamZmFQrBeQK9klNdScVNAu0PcuPSidECWAyQC7/h2QIbTLTnhuXRATJBrKly7cUDg2xVXwEtvQIk8ISo3vGZAG8b4SwdYZ0DMzMx08YluQOIPj+hse3RA",
          "dtype": "f8"
         },
         "yaxis": "y16"
        },
        {
         "hovertemplate": "Date: %{x}<br>Value: %{y}<br>Model: GP",
         "line": {
          "color": "blue",
          "shape": "linear",
          "width": 2
         },
         "marker": {
          "size": 4
         },
         "mode": "lines+markers",
         "name": "GP",
         "showlegend": false,
         "type": "scatter",
         "x": [
          "2025-05-01T00:00:00.000000000",
          "2025-06-01T00:00:00.000000000",
          "2025-07-01T00:00:00.000000000",
          "2025-08-01T00:00:00.000000000",
          "2025-09-01T00:00:00.000000000",
          "2025-10-01T00:00:00.000000000",
          "2025-11-01T00:00:00.000000000",
          "2025-12-01T00:00:00.000000000",
          "2026-01-01T00:00:00.000000000"
         ],
         "xaxis": "x16",
         "y": {
          "bdata": "jUMoyINfZkCuSwWWA+9aQAsPdyO241FAPFIT1SeyUEAOFLGpqZBeQOcSN49KqmNAYzBLOsOWaEDeBZ1r3UBrQP9puc9QXWVA",
          "dtype": "f8"
         },
         "yaxis": "y16"
        },
        {
         "fill": "toself",
         "fillcolor": "rgba(169, 169, 169, 0.2)",
         "hovertemplate": "Date: %{x}<br>Conf: 95%<br>Value: %{y}",
         "line": {
          "color": "rgba(255,255,255,0)"
         },
         "showlegend": false,
         "type": "scatter",
         "x": [
          "2025-05-01T00:00:00.000000000",
          "2025-06-01T00:00:00.000000000",
          "2025-07-01T00:00:00.000000000",
          "2025-08-01T00:00:00.000000000",
          "2025-09-01T00:00:00.000000000",
          "2025-10-01T00:00:00.000000000",
          "2025-11-01T00:00:00.000000000",
          "2025-12-01T00:00:00.000000000",
          "2026-01-01T00:00:00.000000000",
          "2026-01-01T00:00:00.000000000",
          "2025-12-01T00:00:00.000000000",
          "2025-11-01T00:00:00.000000000",
          "2025-10-01T00:00:00.000000000",
          "2025-09-01T00:00:00.000000000",
          "2025-08-01T00:00:00.000000000",
          "2025-07-01T00:00:00.000000000",
          "2025-06-01T00:00:00.000000000",
          "2025-05-01T00:00:00.000000000"
         ],
         "xaxis": "x16",
         "y": {
          "bdata": "5/tYYHcTSkAwP1hX05UlQILXqRhOPSjAiNRUd4+NFsBCtlDD9C43QMycNs6W2EZAa2XEgLg1WkCamZmFQrBeQK9klNdScVNAu0PcuPSidECWAyQC7/h2QIbTLTnhuXRATJBrKly7cUDg2xVXwEtvQIk8ISo3vGZAG8b4SwdYZ0DMzMx08YluQOIPj+hse3RA",
          "dtype": "f8"
         },
         "yaxis": "y16"
        },
        {
         "hovertemplate": "Date: %{x}<br>Value: %{y}<br>Model: RF",
         "line": {
          "color": "green",
          "shape": "linear",
          "width": 2
         },
         "marker": {
          "size": 4
         },
         "mode": "lines+markers",
         "name": "RF",
         "showlegend": false,
         "type": "scatter",
         "x": [
          "2025-05-01T00:00:00.000000000",
          "2025-06-01T00:00:00.000000000",
          "2025-07-01T00:00:00.000000000",
          "2025-08-01T00:00:00.000000000",
          "2025-09-01T00:00:00.000000000",
          "2025-10-01T00:00:00.000000000",
          "2025-11-01T00:00:00.000000000",
          "2025-12-01T00:00:00.000000000",
          "2026-01-01T00:00:00.000000000"
         ],
         "xaxis": "x16",
         "y": {
          "bdata": "Yoty2OKEY0DCpLeCQ29hQMUgfilFKF1AYxYLsSuUXEA/wN2l/7tbQAooJr7ZA2JAQrRmC5VFbEAhQPGbLn9pQHNX/oJxd2ZA",
          "dtype": "f8"
         },
         "yaxis": "y16"
        },
        {
         "fill": "toself",
         "fillcolor": "rgba(169, 169, 169, 0.2)",
         "hovertemplate": "Date: %{x}<br>Conf: 95%<br>Value: %{y}",
         "line": {
          "color": "rgba(255,255,255,0)"
         },
         "showlegend": false,
         "type": "scatter",
         "x": [
          "2025-05-01T00:00:00.000000000",
          "2025-06-01T00:00:00.000000000",
          "2025-07-01T00:00:00.000000000",
          "2025-08-01T00:00:00.000000000",
          "2025-09-01T00:00:00.000000000",
          "2025-10-01T00:00:00.000000000",
          "2025-11-01T00:00:00.000000000",
          "2025-12-01T00:00:00.000000000",
          "2026-01-01T00:00:00.000000000",
          "2026-01-01T00:00:00.000000000",
          "2025-12-01T00:00:00.000000000",
          "2025-11-01T00:00:00.000000000",
          "2025-10-01T00:00:00.000000000",
          "2025-09-01T00:00:00.000000000",
          "2025-08-01T00:00:00.000000000",
          "2025-07-01T00:00:00.000000000",
          "2025-06-01T00:00:00.000000000",
          "2025-05-01T00:00:00.000000000"
         ],
         "xaxis": "x16",
         "y": {
          "bdata": "5/tYYHcTSkAwP1hX05UlQILXqRhOPSjAiNRUd4+NFsBCtlDD9C43QMycNs6W2EZAa2XEgLg1WkCamZmFQrBeQK9klNdScVNAu0PcuPSidECWAyQC7/h2QIbTLTnhuXRATJBrKly7cUDg2xVXwEtvQIk8ISo3vGZAG8b4SwdYZ0DMzMx08YluQOIPj+hse3RA",
          "dtype": "f8"
         },
         "yaxis": "y16"
        },
        {
         "hovertemplate": "Date: %{x}<br>Value: %{y}<br>Model: LR",
         "line": {
          "color": "red",
          "shape": "linear",
          "width": 2
         },
         "marker": {
          "size": 4
         },
         "mode": "lines+markers",
         "name": "LR",
         "showlegend": false,
         "type": "scatter",
         "x": [
          "2025-05-01T00:00:00.000000000",
          "2025-06-01T00:00:00.000000000",
          "2025-07-01T00:00:00.000000000",
          "2025-08-01T00:00:00.000000000",
          "2025-09-01T00:00:00.000000000",
          "2025-10-01T00:00:00.000000000",
          "2025-11-01T00:00:00.000000000",
          "2025-12-01T00:00:00.000000000",
          "2026-01-01T00:00:00.000000000"
         ],
         "xaxis": "x16",
         "y": {
          "bdata": "zoetVeq0Y0AocewpF+lXQKQ8R5wYLE1ArDDcj9PVUEDoAIVzCoddQOEfCmekR2VAndXn7lM9a0Cijkm99fJvQJHBLMLyh2pA",
          "dtype": "f8"
         },
         "yaxis": "y16"
        },
        {
         "fill": "toself",
         "fillcolor": "rgba(169, 169, 169, 0.2)",
         "hovertemplate": "Date: %{x}<br>Conf: 95%<br>Value: %{y}",
         "line": {
          "color": "rgba(255,255,255,0)"
         },
         "showlegend": false,
         "type": "scatter",
         "x": [
          "2025-05-01T00:00:00.000000000",
          "2025-06-01T00:00:00.000000000",
          "2025-07-01T00:00:00.000000000",
          "2025-08-01T00:00:00.000000000",
          "2025-09-01T00:00:00.000000000",
          "2025-10-01T00:00:00.000000000",
          "2025-11-01T00:00:00.000000000",
          "2025-12-01T00:00:00.000000000",
          "2026-01-01T00:00:00.000000000",
          "2026-01-01T00:00:00.000000000",
          "2025-12-01T00:00:00.000000000",
          "2025-11-01T00:00:00.000000000",
          "2025-10-01T00:00:00.000000000",
          "2025-09-01T00:00:00.000000000",
          "2025-08-01T00:00:00.000000000",
          "2025-07-01T00:00:00.000000000",
          "2025-06-01T00:00:00.000000000",
          "2025-05-01T00:00:00.000000000"
         ],
         "xaxis": "x16",
         "y": {
          "bdata": "5/tYYHcTSkAwP1hX05UlQILXqRhOPSjAiNRUd4+NFsBCtlDD9C43QMycNs6W2EZAa2XEgLg1WkCamZmFQrBeQK9klNdScVNAu0PcuPSidECWAyQC7/h2QIbTLTnhuXRATJBrKly7cUDg2xVXwEtvQIk8ISo3vGZAG8b4SwdYZ0DMzMx08YluQOIPj+hse3RA",
          "dtype": "f8"
         },
         "yaxis": "y16"
        },
        {
         "hovertemplate": "Date: %{x}<br>Value: %{y}<br>Model: NN",
         "line": {
          "color": "purple",
          "shape": "linear",
          "width": 2
         },
         "marker": {
          "size": 4
         },
         "mode": "lines+markers",
         "name": "NN",
         "showlegend": false,
         "type": "scatter",
         "x": [
          "2025-05-01T00:00:00.000000000",
          "2025-06-01T00:00:00.000000000",
          "2025-07-01T00:00:00.000000000",
          "2025-08-01T00:00:00.000000000",
          "2025-09-01T00:00:00.000000000",
          "2025-10-01T00:00:00.000000000",
          "2025-11-01T00:00:00.000000000",
          "2025-12-01T00:00:00.000000000",
          "2026-01-01T00:00:00.000000000"
         ],
         "xaxis": "x16",
         "y": {
          "bdata": "29P35gUeZkAQAVQQPYBkQPMD+R5fBGBAWNZ66X3eV0CL1ka45HVZQAMOkh6eC2FAoPu5T3PoaUC73yjjmxprQAnuI1AY3mRA",
          "dtype": "f8"
         },
         "yaxis": "y16"
        },
        {
         "line": {
          "color": "black"
         },
         "mode": "lines",
         "showlegend": false,
         "type": "scatter",
         "x": [
          "2025-05-01T00:00:00",
          "2026-01-01T00:00:00"
         ],
         "xaxis": "x16",
         "y": [
          0,
          0
         ],
         "yaxis": "y16"
        }
       ],
       "layout": {
        "annotations": [
         {
          "font": {
           "size": 16
          },
          "showarrow": false,
          "text": "Precipitation",
          "x": 0.122,
          "xanchor": "center",
          "xref": "paper",
          "y": 1,
          "yanchor": "bottom",
          "yref": "paper"
         },
         {
          "font": {
           "size": 16
          },
          "showarrow": false,
          "text": "Evaporation",
          "x": 0.374,
          "xanchor": "center",
          "xref": "paper",
          "y": 1,
          "yanchor": "bottom",
          "yref": "paper"
         },
         {
          "font": {
           "size": 16
          },
          "showarrow": false,
          "text": "Runoff",
          "x": 0.626,
          "xanchor": "center",
          "xref": "paper",
          "y": 1,
          "yanchor": "bottom",
          "yref": "paper"
         },
         {
          "font": {
           "size": 16
          },
          "showarrow": false,
          "text": "CNBS",
          "x": 0.878,
          "xanchor": "center",
          "xref": "paper",
          "y": 1,
          "yanchor": "bottom",
          "yref": "paper"
         }
        ],
        "height": 800,
        "legend": {
         "orientation": "v",
         "title": {
          "text": "Model"
         },
         "traceorder": "normal",
         "x": 1.01,
         "y": 1.01
        },
        "plot_bgcolor": "white",
        "showlegend": true,
        "template": {
         "data": {
          "bar": [
           {
            "error_x": {
             "color": "#2a3f5f"
            },
            "error_y": {
             "color": "#2a3f5f"
            },
            "marker": {
             "line": {
              "color": "#E5ECF6",
              "width": 0.5
             },
             "pattern": {
              "fillmode": "overlay",
              "size": 10,
              "solidity": 0.2
             }
            },
            "type": "bar"
           }
          ],
          "barpolar": [
           {
            "marker": {
             "line": {
              "color": "#E5ECF6",
              "width": 0.5
             },
             "pattern": {
              "fillmode": "overlay",
              "size": 10,
              "solidity": 0.2
             }
            },
            "type": "barpolar"
           }
          ],
          "carpet": [
           {
            "aaxis": {
             "endlinecolor": "#2a3f5f",
             "gridcolor": "white",
             "linecolor": "white",
             "minorgridcolor": "white",
             "startlinecolor": "#2a3f5f"
            },
            "baxis": {
             "endlinecolor": "#2a3f5f",
             "gridcolor": "white",
             "linecolor": "white",
             "minorgridcolor": "white",
             "startlinecolor": "#2a3f5f"
            },
            "type": "carpet"
           }
          ],
          "choropleth": [
           {
            "colorbar": {
             "outlinewidth": 0,
             "ticks": ""
            },
            "type": "choropleth"
           }
          ],
          "contour": [
           {
            "colorbar": {
             "outlinewidth": 0,
             "ticks": ""
            },
            "colorscale": [
             [
              0,
              "#0d0887"
             ],
             [
              0.1111111111111111,
              "#46039f"
             ],
             [
              0.2222222222222222,
              "#7201a8"
             ],
             [
              0.3333333333333333,
              "#9c179e"
             ],
             [
              0.4444444444444444,
              "#bd3786"
             ],
             [
              0.5555555555555556,
              "#d8576b"
             ],
             [
              0.6666666666666666,
              "#ed7953"
             ],
             [
              0.7777777777777778,
              "#fb9f3a"
             ],
             [
              0.8888888888888888,
              "#fdca26"
             ],
             [
              1,
              "#f0f921"
             ]
            ],
            "type": "contour"
           }
          ],
          "contourcarpet": [
           {
            "colorbar": {
             "outlinewidth": 0,
             "ticks": ""
            },
            "type": "contourcarpet"
           }
          ],
          "heatmap": [
           {
            "colorbar": {
             "outlinewidth": 0,
             "ticks": ""
            },
            "colorscale": [
             [
              0,
              "#0d0887"
             ],
             [
              0.1111111111111111,
              "#46039f"
             ],
             [
              0.2222222222222222,
              "#7201a8"
             ],
             [
              0.3333333333333333,
              "#9c179e"
             ],
             [
              0.4444444444444444,
              "#bd3786"
             ],
             [
              0.5555555555555556,
              "#d8576b"
             ],
             [
              0.6666666666666666,
              "#ed7953"
             ],
             [
              0.7777777777777778,
              "#fb9f3a"
             ],
             [
              0.8888888888888888,
              "#fdca26"
             ],
             [
              1,
              "#f0f921"
             ]
            ],
            "type": "heatmap"
           }
          ],
          "histogram": [
           {
            "marker": {
             "pattern": {
              "fillmode": "overlay",
              "size": 10,
              "solidity": 0.2
             }
            },
            "type": "histogram"
           }
          ],
          "histogram2d": [
           {
            "colorbar": {
             "outlinewidth": 0,
             "ticks": ""
            },
            "colorscale": [
             [
              0,
              "#0d0887"
             ],
             [
              0.1111111111111111,
              "#46039f"
             ],
             [
              0.2222222222222222,
              "#7201a8"
             ],
             [
              0.3333333333333333,
              "#9c179e"
             ],
             [
              0.4444444444444444,
              "#bd3786"
             ],
             [
              0.5555555555555556,
              "#d8576b"
             ],
             [
              0.6666666666666666,
              "#ed7953"
             ],
             [
              0.7777777777777778,
              "#fb9f3a"
             ],
             [
              0.8888888888888888,
              "#fdca26"
             ],
             [
              1,
              "#f0f921"
             ]
            ],
            "type": "histogram2d"
           }
          ],
          "histogram2dcontour": [
           {
            "colorbar": {
             "outlinewidth": 0,
             "ticks": ""
            },
            "colorscale": [
             [
              0,
              "#0d0887"
             ],
             [
              0.1111111111111111,
              "#46039f"
             ],
             [
              0.2222222222222222,
              "#7201a8"
             ],
             [
              0.3333333333333333,
              "#9c179e"
             ],
             [
              0.4444444444444444,
              "#bd3786"
             ],
             [
              0.5555555555555556,
              "#d8576b"
             ],
             [
              0.6666666666666666,
              "#ed7953"
             ],
             [
              0.7777777777777778,
              "#fb9f3a"
             ],
             [
              0.8888888888888888,
              "#fdca26"
             ],
             [
              1,
              "#f0f921"
             ]
            ],
            "type": "histogram2dcontour"
           }
          ],
          "mesh3d": [
           {
            "colorbar": {
             "outlinewidth": 0,
             "ticks": ""
            },
            "type": "mesh3d"
           }
          ],
          "parcoords": [
           {
            "line": {
             "colorbar": {
              "outlinewidth": 0,
              "ticks": ""
             }
            },
            "type": "parcoords"
           }
          ],
          "pie": [
           {
            "automargin": true,
            "type": "pie"
           }
          ],
          "scatter": [
           {
            "fillpattern": {
             "fillmode": "overlay",
             "size": 10,
             "solidity": 0.2
            },
            "type": "scatter"
           }
          ],
          "scatter3d": [
           {
            "line": {
             "colorbar": {
              "outlinewidth": 0,
              "ticks": ""
             }
            },
            "marker": {
             "colorbar": {
              "outlinewidth": 0,
              "ticks": ""
             }
            },
            "type": "scatter3d"
           }
          ],
          "scattercarpet": [
           {
            "marker": {
             "colorbar": {
              "outlinewidth": 0,
              "ticks": ""
             }
            },
            "type": "scattercarpet"
           }
          ],
          "scattergeo": [
           {
            "marker": {
             "colorbar": {
              "outlinewidth": 0,
              "ticks": ""
             }
            },
            "type": "scattergeo"
           }
          ],
          "scattergl": [
           {
            "marker": {
             "colorbar": {
              "outlinewidth": 0,
              "ticks": ""
             }
            },
            "type": "scattergl"
           }
          ],
          "scattermap": [
           {
            "marker": {
             "colorbar": {
              "outlinewidth": 0,
              "ticks": ""
             }
            },
            "type": "scattermap"
           }
          ],
          "scattermapbox": [
           {
            "marker": {
             "colorbar": {
              "outlinewidth": 0,
              "ticks": ""
             }
            },
            "type": "scattermapbox"
           }
          ],
          "scatterpolar": [
           {
            "marker": {
             "colorbar": {
              "outlinewidth": 0,
              "ticks": ""
             }
            },
            "type": "scatterpolar"
           }
          ],
          "scatterpolargl": [
           {
            "marker": {
             "colorbar": {
              "outlinewidth": 0,
              "ticks": ""
             }
            },
            "type": "scatterpolargl"
           }
          ],
          "scatterternary": [
           {
            "marker": {
             "colorbar": {
              "outlinewidth": 0,
              "ticks": ""
             }
            },
            "type": "scatterternary"
           }
          ],
          "surface": [
           {
            "colorbar": {
             "outlinewidth": 0,
             "ticks": ""
            },
            "colorscale": [
             [
              0,
              "#0d0887"
             ],
             [
              0.1111111111111111,
              "#46039f"
             ],
             [
              0.2222222222222222,
              "#7201a8"
             ],
             [
              0.3333333333333333,
              "#9c179e"
             ],
             [
              0.4444444444444444,
              "#bd3786"
             ],
             [
              0.5555555555555556,
              "#d8576b"
             ],
             [
              0.6666666666666666,
              "#ed7953"
             ],
             [
              0.7777777777777778,
              "#fb9f3a"
             ],
             [
              0.8888888888888888,
              "#fdca26"
             ],
             [
              1,
              "#f0f921"
             ]
            ],
            "type": "surface"
           }
          ],
          "table": [
           {
            "cells": {
             "fill": {
              "color": "#EBF0F8"
             },
             "line": {
              "color": "white"
             }
            },
            "header": {
             "fill": {
              "color": "#C8D4E3"
             },
             "line": {
              "color": "white"
             }
            },
            "type": "table"
           }
          ]
         },
         "layout": {
          "annotationdefaults": {
           "arrowcolor": "#2a3f5f",
           "arrowhead": 0,
           "arrowwidth": 1
          },
          "autotypenumbers": "strict",
          "coloraxis": {
           "colorbar": {
            "outlinewidth": 0,
            "ticks": ""
           }
          },
          "colorscale": {
           "diverging": [
            [
             0,
             "#8e0152"
            ],
            [
             0.1,
             "#c51b7d"
            ],
            [
             0.2,
             "#de77ae"
            ],
            [
             0.3,
             "#f1b6da"
            ],
            [
             0.4,
             "#fde0ef"
            ],
            [
             0.5,
             "#f7f7f7"
            ],
            [
             0.6,
             "#e6f5d0"
            ],
            [
             0.7,
             "#b8e186"
            ],
            [
             0.8,
             "#7fbc41"
            ],
            [
             0.9,
             "#4d9221"
            ],
            [
             1,
             "#276419"
            ]
           ],
           "sequential": [
            [
             0,
             "#0d0887"
            ],
            [
             0.1111111111111111,
             "#46039f"
            ],
            [
             0.2222222222222222,
             "#7201a8"
            ],
            [
             0.3333333333333333,
             "#9c179e"
            ],
            [
             0.4444444444444444,
             "#bd3786"
            ],
            [
             0.5555555555555556,
             "#d8576b"
            ],
            [
             0.6666666666666666,
             "#ed7953"
            ],
            [
             0.7777777777777778,
             "#fb9f3a"
            ],
            [
             0.8888888888888888,
             "#fdca26"
            ],
            [
             1,
             "#f0f921"
            ]
           ],
           "sequentialminus": [
            [
             0,
             "#0d0887"
            ],
            [
             0.1111111111111111,
             "#46039f"
            ],
            [
             0.2222222222222222,
             "#7201a8"
            ],
            [
             0.3333333333333333,
             "#9c179e"
            ],
            [
             0.4444444444444444,
             "#bd3786"
            ],
            [
             0.5555555555555556,
             "#d8576b"
            ],
            [
             0.6666666666666666,
             "#ed7953"
            ],
            [
             0.7777777777777778,
             "#fb9f3a"
            ],
            [
             0.8888888888888888,
             "#fdca26"
            ],
            [
             1,
             "#f0f921"
            ]
           ]
          },
          "colorway": [
           "#636efa",
           "#EF553B",
           "#00cc96",
           "#ab63fa",
           "#FFA15A",
           "#19d3f3",
           "#FF6692",
           "#B6E880",
           "#FF97FF",
           "#FECB52"
          ],
          "font": {
           "color": "#2a3f5f"
          },
          "geo": {
           "bgcolor": "white",
           "lakecolor": "white",
           "landcolor": "#E5ECF6",
           "showlakes": true,
           "showland": true,
           "subunitcolor": "white"
          },
          "hoverlabel": {
           "align": "left"
          },
          "hovermode": "closest",
          "mapbox": {
           "style": "light"
          },
          "paper_bgcolor": "white",
          "plot_bgcolor": "#E5ECF6",
          "polar": {
           "angularaxis": {
            "gridcolor": "white",
            "linecolor": "white",
            "ticks": ""
           },
           "bgcolor": "#E5ECF6",
           "radialaxis": {
            "gridcolor": "white",
            "linecolor": "white",
            "ticks": ""
           }
          },
          "scene": {
           "xaxis": {
            "backgroundcolor": "#E5ECF6",
            "gridcolor": "white",
            "gridwidth": 2,
            "linecolor": "white",
            "showbackground": true,
            "ticks": "",
            "zerolinecolor": "white"
           },
           "yaxis": {
            "backgroundcolor": "#E5ECF6",
            "gridcolor": "white",
            "gridwidth": 2,
            "linecolor": "white",
            "showbackground": true,
            "ticks": "",
            "zerolinecolor": "white"
           },
           "zaxis": {
            "backgroundcolor": "#E5ECF6",
            "gridcolor": "white",
            "gridwidth": 2,
            "linecolor": "white",
            "showbackground": true,
            "ticks": "",
            "zerolinecolor": "white"
           }
          },
          "shapedefaults": {
           "line": {
            "color": "#2a3f5f"
           }
          },
          "ternary": {
           "aaxis": {
            "gridcolor": "white",
            "linecolor": "white",
            "ticks": ""
           },
           "baxis": {
            "gridcolor": "white",
            "linecolor": "white",
            "ticks": ""
           },
           "bgcolor": "#E5ECF6",
           "caxis": {
            "gridcolor": "white",
            "linecolor": "white",
            "ticks": ""
           }
          },
          "title": {
           "x": 0.05
          },
          "xaxis": {
           "automargin": true,
           "gridcolor": "white",
           "linecolor": "white",
           "ticks": "",
           "title": {
            "standoff": 15
           },
           "zerolinecolor": "white",
           "zerolinewidth": 2
          },
          "yaxis": {
           "automargin": true,
           "gridcolor": "white",
           "linecolor": "white",
           "ticks": "",
           "title": {
            "standoff": 15
           },
           "zerolinecolor": "white",
           "zerolinewidth": 2
          }
         }
        },
        "title": {
         "text": "9-month Great Lakes CNBS Forecasts",
         "x": 0.5
        },
        "width": 1500,
        "xaxis": {
         "anchor": "y",
         "domain": [
          0,
          0.244
         ],
         "gridcolor": "LightGray",
         "gridwidth": 0.5,
         "linecolor": "black",
         "linewidth": 2,
         "matches": "x13",
         "showgrid": true,
         "showline": true,
         "showticklabels": false,
         "tickmode": "array",
         "tickvals": [
          "2025-05-01T00:00:00.000000000",
          "2025-06-01T00:00:00.000000000",
          "2025-07-01T00:00:00.000000000",
          "2025-08-01T00:00:00.000000000",
          "2025-09-01T00:00:00.000000000",
          "2025-10-01T00:00:00.000000000",
          "2025-11-01T00:00:00.000000000",
          "2025-12-01T00:00:00.000000000",
          "2026-01-01T00:00:00.000000000"
         ]
        },
        "xaxis10": {
         "anchor": "y10",
         "domain": [
          0.252,
          0.496
         ],
         "gridcolor": "LightGray",
         "gridwidth": 0.5,
         "linecolor": "black",
         "linewidth": 2,
         "matches": "x14",
         "showgrid": true,
         "showline": true,
         "showticklabels": false,
         "tickmode": "array",
         "tickvals": [
          "2025-05-01T00:00:00.000000000",
          "2025-06-01T00:00:00.000000000",
          "2025-07-01T00:00:00.000000000",
          "2025-08-01T00:00:00.000000000",
          "2025-09-01T00:00:00.000000000",
          "2025-10-01T00:00:00.000000000",
          "2025-11-01T00:00:00.000000000",
          "2025-12-01T00:00:00.000000000",
          "2026-01-01T00:00:00.000000000"
         ]
        },
        "xaxis11": {
         "anchor": "y11",
         "domain": [
          0.504,
          0.748
         ],
         "gridcolor": "LightGray",
         "gridwidth": 0.5,
         "linecolor": "black",
         "linewidth": 2,
         "matches": "x15",
         "showgrid": true,
         "showline": true,
         "showticklabels": false,
         "tickmode": "array",
         "tickvals": [
          "2025-05-01T00:00:00.000000000",
          "2025-06-01T00:00:00.000000000",
          "2025-07-01T00:00:00.000000000",
          "2025-08-01T00:00:00.000000000",
          "2025-09-01T00:00:00.000000000",
          "2025-10-01T00:00:00.000000000",
          "2025-11-01T00:00:00.000000000",
          "2025-12-01T00:00:00.000000000",
          "2026-01-01T00:00:00.000000000"
         ]
        },
        "xaxis12": {
         "anchor": "y12",
         "domain": [
          0.756,
          1
         ],
         "gridcolor": "LightGray",
         "gridwidth": 0.5,
         "linecolor": "black",
         "linewidth": 2,
         "matches": "x16",
         "showgrid": true,
         "showline": true,
         "showticklabels": false,
         "tickmode": "array",
         "tickvals": [
          "2025-05-01T00:00:00.000000000",
          "2025-06-01T00:00:00.000000000",
          "2025-07-01T00:00:00.000000000",
          "2025-08-01T00:00:00.000000000",
          "2025-09-01T00:00:00.000000000",
          "2025-10-01T00:00:00.000000000",
          "2025-11-01T00:00:00.000000000",
          "2025-12-01T00:00:00.000000000",
          "2026-01-01T00:00:00.000000000"
         ]
        },
        "xaxis13": {
         "anchor": "y13",
         "domain": [
          0,
          0.244
         ],
         "gridcolor": "LightGray",
         "gridwidth": 0.5,
         "linecolor": "black",
         "linewidth": 2,
         "showgrid": true,
         "showline": true,
         "tickangle": -45,
         "tickformat": "%m-%Y",
         "tickmode": "array",
         "tickvals": [
          "2025-05-01T00:00:00.000000000",
          "2025-06-01T00:00:00.000000000",
          "2025-07-01T00:00:00.000000000",
          "2025-08-01T00:00:00.000000000",
          "2025-09-01T00:00:00.000000000",
          "2025-10-01T00:00:00.000000000",
          "2025-11-01T00:00:00.000000000",
          "2025-12-01T00:00:00.000000000",
          "2026-01-01T00:00:00.000000000"
         ]
        },
        "xaxis14": {
         "anchor": "y14",
         "domain": [
          0.252,
          0.496
         ],
         "gridcolor": "LightGray",
         "gridwidth": 0.5,
         "linecolor": "black",
         "linewidth": 2,
         "showgrid": true,
         "showline": true,
         "tickangle": -45,
         "tickformat": "%m-%Y",
         "tickmode": "array",
         "tickvals": [
          "2025-05-01T00:00:00.000000000",
          "2025-06-01T00:00:00.000000000",
          "2025-07-01T00:00:00.000000000",
          "2025-08-01T00:00:00.000000000",
          "2025-09-01T00:00:00.000000000",
          "2025-10-01T00:00:00.000000000",
          "2025-11-01T00:00:00.000000000",
          "2025-12-01T00:00:00.000000000",
          "2026-01-01T00:00:00.000000000"
         ]
        },
        "xaxis15": {
         "anchor": "y15",
         "domain": [
          0.504,
          0.748
         ],
         "gridcolor": "LightGray",
         "gridwidth": 0.5,
         "linecolor": "black",
         "linewidth": 2,
         "showgrid": true,
         "showline": true,
         "tickangle": -45,
         "tickformat": "%m-%Y",
         "tickmode": "array",
         "tickvals": [
          "2025-05-01T00:00:00.000000000",
          "2025-06-01T00:00:00.000000000",
          "2025-07-01T00:00:00.000000000",
          "2025-08-01T00:00:00.000000000",
          "2025-09-01T00:00:00.000000000",
          "2025-10-01T00:00:00.000000000",
          "2025-11-01T00:00:00.000000000",
          "2025-12-01T00:00:00.000000000",
          "2026-01-01T00:00:00.000000000"
         ]
        },
        "xaxis16": {
         "anchor": "y16",
         "domain": [
          0.756,
          1
         ],
         "gridcolor": "LightGray",
         "gridwidth": 0.5,
         "linecolor": "black",
         "linewidth": 2,
         "showgrid": true,
         "showline": true,
         "tickangle": -45,
         "tickformat": "%m-%Y",
         "tickmode": "array",
         "tickvals": [
          "2025-05-01T00:00:00.000000000",
          "2025-06-01T00:00:00.000000000",
          "2025-07-01T00:00:00.000000000",
          "2025-08-01T00:00:00.000000000",
          "2025-09-01T00:00:00.000000000",
          "2025-10-01T00:00:00.000000000",
          "2025-11-01T00:00:00.000000000",
          "2025-12-01T00:00:00.000000000",
          "2026-01-01T00:00:00.000000000"
         ]
        },
        "xaxis2": {
         "anchor": "y2",
         "domain": [
          0.252,
          0.496
         ],
         "gridcolor": "LightGray",
         "gridwidth": 0.5,
         "linecolor": "black",
         "linewidth": 2,
         "matches": "x14",
         "showgrid": true,
         "showline": true,
         "showticklabels": false,
         "tickmode": "array",
         "tickvals": [
          "2025-05-01T00:00:00.000000000",
          "2025-06-01T00:00:00.000000000",
          "2025-07-01T00:00:00.000000000",
          "2025-08-01T00:00:00.000000000",
          "2025-09-01T00:00:00.000000000",
          "2025-10-01T00:00:00.000000000",
          "2025-11-01T00:00:00.000000000",
          "2025-12-01T00:00:00.000000000",
          "2026-01-01T00:00:00.000000000"
         ]
        },
        "xaxis3": {
         "anchor": "y3",
         "domain": [
          0.504,
          0.748
         ],
         "gridcolor": "LightGray",
         "gridwidth": 0.5,
         "linecolor": "black",
         "linewidth": 2,
         "matches": "x15",
         "showgrid": true,
         "showline": true,
         "showticklabels": false,
         "tickmode": "array",
         "tickvals": [
          "2025-05-01T00:00:00.000000000",
          "2025-06-01T00:00:00.000000000",
          "2025-07-01T00:00:00.000000000",
          "2025-08-01T00:00:00.000000000",
          "2025-09-01T00:00:00.000000000",
          "2025-10-01T00:00:00.000000000",
          "2025-11-01T00:00:00.000000000",
          "2025-12-01T00:00:00.000000000",
          "2026-01-01T00:00:00.000000000"
         ]
        },
        "xaxis4": {
         "anchor": "y4",
         "domain": [
          0.756,
          1
         ],
         "gridcolor": "LightGray",
         "gridwidth": 0.5,
         "linecolor": "black",
         "linewidth": 2,
         "matches": "x16",
         "showgrid": true,
         "showline": true,
         "showticklabels": false,
         "tickmode": "array",
         "tickvals": [
          "2025-05-01T00:00:00.000000000",
          "2025-06-01T00:00:00.000000000",
          "2025-07-01T00:00:00.000000000",
          "2025-08-01T00:00:00.000000000",
          "2025-09-01T00:00:00.000000000",
          "2025-10-01T00:00:00.000000000",
          "2025-11-01T00:00:00.000000000",
          "2025-12-01T00:00:00.000000000",
          "2026-01-01T00:00:00.000000000"
         ]
        },
        "xaxis5": {
         "anchor": "y5",
         "domain": [
          0,
          0.244
         ],
         "gridcolor": "LightGray",
         "gridwidth": 0.5,
         "linecolor": "black",
         "linewidth": 2,
         "matches": "x13",
         "showgrid": true,
         "showline": true,
         "showticklabels": false,
         "tickmode": "array",
         "tickvals": [
          "2025-05-01T00:00:00.000000000",
          "2025-06-01T00:00:00.000000000",
          "2025-07-01T00:00:00.000000000",
          "2025-08-01T00:00:00.000000000",
          "2025-09-01T00:00:00.000000000",
          "2025-10-01T00:00:00.000000000",
          "2025-11-01T00:00:00.000000000",
          "2025-12-01T00:00:00.000000000",
          "2026-01-01T00:00:00.000000000"
         ]
        },
        "xaxis6": {
         "anchor": "y6",
         "domain": [
          0.252,
          0.496
         ],
         "gridcolor": "LightGray",
         "gridwidth": 0.5,
         "linecolor": "black",
         "linewidth": 2,
         "matches": "x14",
         "showgrid": true,
         "showline": true,
         "showticklabels": false,
         "tickmode": "array",
         "tickvals": [
          "2025-05-01T00:00:00.000000000",
          "2025-06-01T00:00:00.000000000",
          "2025-07-01T00:00:00.000000000",
          "2025-08-01T00:00:00.000000000",
          "2025-09-01T00:00:00.000000000",
          "2025-10-01T00:00:00.000000000",
          "2025-11-01T00:00:00.000000000",
          "2025-12-01T00:00:00.000000000",
          "2026-01-01T00:00:00.000000000"
         ]
        },
        "xaxis7": {
         "anchor": "y7",
         "domain": [
          0.504,
          0.748
         ],
         "gridcolor": "LightGray",
         "gridwidth": 0.5,
         "linecolor": "black",
         "linewidth": 2,
         "matches": "x15",
         "showgrid": true,
         "showline": true,
         "showticklabels": false,
         "tickmode": "array",
         "tickvals": [
          "2025-05-01T00:00:00.000000000",
          "2025-06-01T00:00:00.000000000",
          "2025-07-01T00:00:00.000000000",
          "2025-08-01T00:00:00.000000000",
          "2025-09-01T00:00:00.000000000",
          "2025-10-01T00:00:00.000000000",
          "2025-11-01T00:00:00.000000000",
          "2025-12-01T00:00:00.000000000",
          "2026-01-01T00:00:00.000000000"
         ]
        },
        "xaxis8": {
         "anchor": "y8",
         "domain": [
          0.756,
          1
         ],
         "gridcolor": "LightGray",
         "gridwidth": 0.5,
         "linecolor": "black",
         "linewidth": 2,
         "matches": "x16",
         "showgrid": true,
         "showline": true,
         "showticklabels": false,
         "tickmode": "array",
         "tickvals": [
          "2025-05-01T00:00:00.000000000",
          "2025-06-01T00:00:00.000000000",
          "2025-07-01T00:00:00.000000000",
          "2025-08-01T00:00:00.000000000",
          "2025-09-01T00:00:00.000000000",
          "2025-10-01T00:00:00.000000000",
          "2025-11-01T00:00:00.000000000",
          "2025-12-01T00:00:00.000000000",
          "2026-01-01T00:00:00.000000000"
         ]
        },
        "xaxis9": {
         "anchor": "y9",
         "domain": [
          0,
          0.244
         ],
         "gridcolor": "LightGray",
         "gridwidth": 0.5,
         "linecolor": "black",
         "linewidth": 2,
         "matches": "x13",
         "showgrid": true,
         "showline": true,
         "showticklabels": false,
         "tickmode": "array",
         "tickvals": [
          "2025-05-01T00:00:00.000000000",
          "2025-06-01T00:00:00.000000000",
          "2025-07-01T00:00:00.000000000",
          "2025-08-01T00:00:00.000000000",
          "2025-09-01T00:00:00.000000000",
          "2025-10-01T00:00:00.000000000",
          "2025-11-01T00:00:00.000000000",
          "2025-12-01T00:00:00.000000000",
          "2026-01-01T00:00:00.000000000"
         ]
        },
        "yaxis": {
         "anchor": "x",
         "domain": [
          0.7875,
          1
         ],
         "gridcolor": "LightGray",
         "gridwidth": 0.5,
         "linecolor": "black",
         "linewidth": 2,
         "showgrid": true,
         "showline": true,
         "title": {
          "text": "Superior"
         }
        },
        "yaxis10": {
         "anchor": "x10",
         "domain": [
          0.2625,
          0.475
         ],
         "gridcolor": "LightGray",
         "gridwidth": 0.5,
         "linecolor": "black",
         "linewidth": 2,
         "matches": "y9",
         "range": [
          -138.96227868496874,
          377.55835165088627
         ],
         "showgrid": true,
         "showline": true,
         "showticklabels": false
        },
        "yaxis11": {
         "anchor": "x11",
         "domain": [
          0.2625,
          0.475
         ],
         "gridcolor": "LightGray",
         "gridwidth": 0.5,
         "linecolor": "black",
         "linewidth": 2,
         "matches": "y9",
         "range": [
          -138.96227868496874,
          377.55835165088627
         ],
         "showgrid": true,
         "showline": true,
         "showticklabels": false
        },
        "yaxis12": {
         "anchor": "x12",
         "domain": [
          0.2625,
          0.475
         ],
         "gridcolor": "LightGray",
         "gridwidth": 0.5,
         "linecolor": "black",
         "linewidth": 2,
         "matches": "y9",
         "range": [
          -138.96227868496874,
          377.55835165088627
         ],
         "showgrid": true,
         "showline": true,
         "showticklabels": false
        },
        "yaxis13": {
         "anchor": "x13",
         "domain": [
          0,
          0.2125
         ],
         "gridcolor": "LightGray",
         "gridwidth": 0.5,
         "linecolor": "black",
         "linewidth": 2,
         "showgrid": true,
         "showline": true,
         "title": {
          "text": "Ontario"
         }
        },
        "yaxis14": {
         "anchor": "x14",
         "domain": [
          0,
          0.2125
         ],
         "gridcolor": "LightGray",
         "gridwidth": 0.5,
         "linecolor": "black",
         "linewidth": 2,
         "matches": "y13",
         "range": [
          -138.96227868496874,
          377.55835165088627
         ],
         "showgrid": true,
         "showline": true,
         "showticklabels": false
        },
        "yaxis15": {
         "anchor": "x15",
         "domain": [
          0,
          0.2125
         ],
         "gridcolor": "LightGray",
         "gridwidth": 0.5,
         "linecolor": "black",
         "linewidth": 2,
         "matches": "y13",
         "range": [
          -138.96227868496874,
          377.55835165088627
         ],
         "showgrid": true,
         "showline": true,
         "showticklabels": false
        },
        "yaxis16": {
         "anchor": "x16",
         "domain": [
          0,
          0.2125
         ],
         "gridcolor": "LightGray",
         "gridwidth": 0.5,
         "linecolor": "black",
         "linewidth": 2,
         "matches": "y13",
         "range": [
          -138.96227868496874,
          377.55835165088627
         ],
         "showgrid": true,
         "showline": true,
         "showticklabels": false
        },
        "yaxis2": {
         "anchor": "x2",
         "domain": [
          0.7875,
          1
         ],
         "gridcolor": "LightGray",
         "gridwidth": 0.5,
         "linecolor": "black",
         "linewidth": 2,
         "matches": "y",
         "showgrid": true,
         "showline": true,
         "showticklabels": false
        },
        "yaxis3": {
         "anchor": "x3",
         "domain": [
          0.7875,
          1
         ],
         "gridcolor": "LightGray",
         "gridwidth": 0.5,
         "linecolor": "black",
         "linewidth": 2,
         "matches": "y",
         "showgrid": true,
         "showline": true,
         "showticklabels": false
        },
        "yaxis4": {
         "anchor": "x4",
         "domain": [
          0.7875,
          1
         ],
         "gridcolor": "LightGray",
         "gridwidth": 0.5,
         "linecolor": "black",
         "linewidth": 2,
         "matches": "y",
         "showgrid": true,
         "showline": true,
         "showticklabels": false
        },
        "yaxis5": {
         "anchor": "x5",
         "domain": [
          0.525,
          0.7375
         ],
         "gridcolor": "LightGray",
         "gridwidth": 0.5,
         "linecolor": "black",
         "linewidth": 2,
         "showgrid": true,
         "showline": true,
         "title": {
          "text": "Mich-Huron"
         }
        },
        "yaxis6": {
         "anchor": "x6",
         "domain": [
          0.525,
          0.7375
         ],
         "gridcolor": "LightGray",
         "gridwidth": 0.5,
         "linecolor": "black",
         "linewidth": 2,
         "matches": "y5",
         "range": [
          -138.96227868496874,
          377.55835165088627
         ],
         "showgrid": true,
         "showline": true,
         "showticklabels": false
        },
        "yaxis7": {
         "anchor": "x7",
         "domain": [
          0.525,
          0.7375
         ],
         "gridcolor": "LightGray",
         "gridwidth": 0.5,
         "linecolor": "black",
         "linewidth": 2,
         "matches": "y5",
         "range": [
          -138.96227868496874,
          377.55835165088627
         ],
         "showgrid": true,
         "showline": true,
         "showticklabels": false
        },
        "yaxis8": {
         "anchor": "x8",
         "domain": [
          0.525,
          0.7375
         ],
         "gridcolor": "LightGray",
         "gridwidth": 0.5,
         "linecolor": "black",
         "linewidth": 2,
         "matches": "y5",
         "range": [
          -138.96227868496874,
          377.55835165088627
         ],
         "showgrid": true,
         "showline": true,
         "showticklabels": false
        },
        "yaxis9": {
         "anchor": "x9",
         "domain": [
          0.2625,
          0.475
         ],
         "gridcolor": "LightGray",
         "gridwidth": 0.5,
         "linecolor": "black",
         "linewidth": 2,
         "showgrid": true,
         "showline": true,
         "title": {
          "text": "Erie"
         }
        }
       }
      }
     },
     "metadata": {},
     "output_type": "display_data"
    }
   ],
   "source": [
    "import plotly.graph_objects as go\n",
    "from plotly.subplots import make_subplots\n",
    "import pandas as pd\n",
    "\n",
    "# Define the colors for each model\n",
    "model_colors = {\n",
    "    'GP': 'blue',\n",
    "    'RF': 'green',\n",
    "    'LR': 'red',\n",
    "    'NN': 'purple'\n",
    "}\n",
    "\n",
    "# Columns of interest in the order we want to plot them\n",
    "columns = ['superior_evaporation', 'superior_precipitation', 'superior_runoff', 'superior_cnbs',\n",
    "           'michigan-huron_evaporation', 'michigan-huron_precipitation', 'michigan-huron_runoff', 'michigan-huron_cnbs',\n",
    "           'erie_evaporation', 'erie_precipitation', 'erie_runoff', 'erie_cnbs',\n",
    "           'ontario_evaporation', 'ontario_precipitation', 'ontario_runoff', 'ontario_cnbs']\n",
    "\n",
    "# Create a 1x4 subplot grid\n",
    "fig = make_subplots(rows=4, cols=4, \n",
    "                    subplot_titles=['Precipitation', 'Evaporation', 'Runoff', 'CNBS'], \n",
    "                    shared_xaxes=True, shared_yaxes=True, vertical_spacing=0.05, horizontal_spacing=0.008)\n",
    "\n",
    "global_y_min, global_y_max = float('inf'), float('-inf')  # Initialize to extremes\n",
    "\n",
    "# Loop over the columns and plot the means for each dataset\n",
    "for i, column in enumerate(columns):\n",
    "    row = i // 4  # Row index\n",
    "    col = i % 4   # Column index\n",
    "\n",
    "# Determine the lower and upper bounds of all the model forecast\n",
    "    lower_bound = df.groupby(['year', 'month'])[column].quantile(0.025).reset_index()\n",
    "    upper_bound = df.groupby(['year', 'month'])[column].quantile(0.975).reset_index()\n",
    "\n",
    "    for model_info in models_info:\n",
    "        model_name = model_info['model']\n",
    "\n",
    "        # Pull out the mean values for each model\n",
    "        model_mean = df[df['model'] == model_name]\n",
    "\n",
    "        # Get the grouped DataFrame for the current model\n",
    "        mean_df = model_mean.groupby(['year', 'month']).mean(numeric_only=True).reset_index()\n",
    "        \n",
    "        mean_df['date'] = pd.to_datetime(mean_df[['year', 'month']].assign(day=1))\n",
    "\n",
    "        # Add the shaded region (confidence band)\n",
    "        fig.add_trace(go.Scatter(x=pd.concat([mean_df['date'], mean_df['date'][::-1]]),\n",
    "                         y=pd.concat([lower_bound[column], upper_bound[column][::-1]]),\n",
    "                         fill='toself', fillcolor='rgba(169, 169, 169, 0.2)',\n",
    "                         line=dict(color='rgba(255,255,255,0)'), showlegend=False, \n",
    "                         hovertemplate='Date: %{x}<br>Conf: 95%<br>Value: %{y}'), \n",
    "                         row=row+1, col=col+1)\n",
    "        \n",
    "        # Add the mean line for the current model to the figure\n",
    "        fig.add_trace(go.Scatter(x=mean_df['date'], y=mean_df[column],\n",
    "                                 mode='lines+markers', name=model_name, \n",
    "                                 line=dict(shape='linear', width=2, color=model_colors[model_name]), \n",
    "                                 marker=dict(size=4), \n",
    "                                 showlegend=(row == 0 and col == 0),  # Only show legend for the first subplot\n",
    "                                 hovertemplate='Date: %{x}<br>Value: %{y}<br>Model: ' + model_name),\n",
    "                                 row=row+1, col=col+1)\n",
    "\n",
    "        # Update global y-axis limits\n",
    "        current_y_min = lower_bound[column].min()\n",
    "        current_y_max = upper_bound[column].max()\n",
    "        global_y_min = min(global_y_min, current_y_min)\n",
    "        global_y_max = max(global_y_max, current_y_max)\n",
    "\n",
    "    # Set x-axis range (limits) for each subplot\n",
    "    #fig.update_xaxes(range=[mean_df['date'].iloc[0], mean_df['date'].iloc[-1]], row=row+1, col=col+1)\n",
    "\n",
    "    # Format x-axis for the last row (set x-tick labels)\n",
    "    if row == 3:\n",
    "        fig.update_xaxes(tickformat='%m-%Y', tickangle=-45, row=row+1, col=col+1, tickmode='array', tickvals=mean_df['date'])\n",
    "    else:\n",
    "        fig.update_xaxes(showticklabels=False, row=row+1, col=col+1, tickmode='array', tickvals=mean_df['date'])\n",
    "\n",
    "    # Set y-axis labels for the first column only\n",
    "    if col == 0:\n",
    "        fig.update_yaxes(title_text=['Superior', 'Mich-Huron', 'Erie', 'Ontario'][row], row=row+1, col=col+1)\n",
    "\n",
    "    # Add the y=0 dashed line to every subplot\n",
    "    fig.add_trace(go.Scatter(x=[mean_df['date'].min(), mean_df['date'].max()],\n",
    "                             y=[0, 0], mode='lines', line=dict(color='black'), \n",
    "                             showlegend=False), row=row+1, col=col+1)\n",
    "\n",
    "    # Add a box around each subplot\n",
    "    fig.update_xaxes(showline=True, linewidth=2, linecolor='black', row=row+1, col=col+1)\n",
    "    fig.update_yaxes(showline=True, linewidth=2, linecolor='black', row=row+1, col=col+1)\n",
    "    \n",
    "# Set consistent y-axis limits across all subplots\n",
    "for row in range(1, 5):\n",
    "    for col in range(1, 5):\n",
    "        fig.update_yaxes(range=[global_y_min - 10, global_y_max + 10], row=row+1, col=col+1)\n",
    "\n",
    "# Set grid lines for all subplots\n",
    "fig.update_yaxes(showgrid=True, gridwidth=0.5, gridcolor='LightGray')\n",
    "fig.update_xaxes(showgrid=True, gridwidth=0.5, gridcolor='LightGray')\n",
    "\n",
    "# Update layout and titles\n",
    "fig.update_layout(\n",
    "    title_text=\"Great Lakes 9-month NBS Forecasts\",\n",
    "    title_x=0.5,\n",
    "    height=800, width=1500,\n",
    "    showlegend=True,\n",
    "    legend=dict(x=1.01, y=1.01, traceorder='normal', orientation='v', title='Model'),  # Move legend up\n",
    "    plot_bgcolor='white',\n",
    ")\n",
    "\n",
    "# Save the figure as an interactive HTML file\n",
    "fig.write_html(f'{dir}forecast/CNBS_forecasts_interactive.html')\n",
    "\n",
    "# Show the plot (optional)\n",
    "fig.show()"
   ]
  },
  {
   "cell_type": "markdown",
   "metadata": {},
   "source": [
    "Single lake figure for example."
   ]
  },
  {
   "cell_type": "code",
   "execution_count": 65,
   "metadata": {},
   "outputs": [
    {
     "data": {
      "image/png": "[encoded data removed]",
      "text/plain": [
       "<Figure size 1800x300 with 4 Axes>"
      ]
     },
     "metadata": {},
     "output_type": "display_data"
    }
   ],
   "source": [
    "import matplotlib.pyplot as plt\n",
    "import pandas as pd\n",
    "import numpy as np\n",
    "\n",
    "model_colors = {\n",
    "    'GP': 'blue',\n",
    "    'RF': 'green',\n",
    "    'LR': 'red',\n",
    "    'NN': 'purple'\n",
    "}\n",
    "model_legend = {\n",
    "    'GP': 'Gaussian Process',\n",
    "    'RF': 'Random Forest',\n",
    "    'LR': 'Linear Regression',\n",
    "    'NN': 'Neural Network'\n",
    "}\n",
    "\n",
    "# Mich-Huron variables only\n",
    "columns = [\n",
    "    'michigan-huron_evaporation',\n",
    "    'michigan-huron_precipitation',\n",
    "    'michigan-huron_runoff',\n",
    "    'michigan-huron_cnbs'\n",
    "]\n",
    "\n",
    "# Create a 1x4 grid for the Mich-Huron row\n",
    "fig, axs = plt.subplots(1, 4, figsize=(18, 3))\n",
    "\n",
    "# Shared y-limits for columns 0–2, separate for column 3 (NBS)\n",
    "shared_y_min, shared_y_max = float('inf'), float('-inf')\n",
    "col4_y_min, col4_y_max = float('inf'), float('-inf')\n",
    "\n",
    "for col, column in enumerate(columns):\n",
    "    lower_bound = df.groupby(['year', 'month'])[column].quantile(0.025).reset_index()\n",
    "    upper_bound = df.groupby(['year', 'month'])[column].quantile(0.975).reset_index()\n",
    "\n",
    "    for model_info in models_info:\n",
    "        model_name = model_info['model']\n",
    "        model_mean = df[df['model'] == model_name]\n",
    "        mean_df = model_mean.groupby(['year', 'month']).mean(numeric_only=True).reset_index()\n",
    "\n",
    "        # Simulate forecast horizon as 0–7 months\n",
    "        x_vals = np.arange(8)\n",
    "        y_vals = mean_df[column].iloc[:8]\n",
    "        y_lower = lower_bound[column].iloc[:8]\n",
    "        y_upper = upper_bound[column].iloc[:8]\n",
    "\n",
    "        axs[col].plot(x_vals, y_vals, marker='o', markersize=3,\n",
    "                      color=model_colors[model_name], label=model_legend[model_name])\n",
    "    axs[col].fill_between(x_vals, y_lower, y_upper, color='gray', alpha=0.2, label='95% Confidence Interval')\n",
    "    axs[col].axhline(0, color='black', linestyle='--', linewidth=1)\n",
    "    axs[col].grid(True, linestyle='--', alpha=0.6)\n",
    "    axs[col].set_yticks(np.arange(-1000, 1000, 50))\n",
    "\n",
    "    # Track y-limits\n",
    "    current_y_min = lower_bound[column].min()\n",
    "    current_y_max = upper_bound[column].max()\n",
    "\n",
    "    if col < 3:\n",
    "        shared_y_min = min(shared_y_min, current_y_min)\n",
    "        shared_y_max = max(shared_y_max, current_y_max)\n",
    "    else:\n",
    "        col4_y_min = min(col4_y_min, current_y_min)\n",
    "        col4_y_max = max(col4_y_max, current_y_max)\n",
    "\n",
    "    # Titles\n",
    "    axs[col].set_title(['Evaporation', 'Precipitation', 'Runoff', 'Total NBS'][col], fontsize=14)\n",
    "\n",
    "    # X-axis formatting\n",
    "    axs[col].set_xticks(x_vals)\n",
    "    axs[col].set_xticklabels([str(i) for i in x_vals])\n",
    "\n",
    "    # Y-axis labeling\n",
    "    if col == 0:\n",
    "        axs[col].set_ylabel('[mm]', fontsize=14)\n",
    "    #elif col == 3:\n",
    "    #    axs[col].set_ylabel('', fontsize=14)\n",
    "    else:\n",
    "        axs[col].set_yticklabels([])\n",
    "\n",
    "# Apply y-limits\n",
    "for col in range(4):\n",
    "    axs[col].set_xlim(0, 7)\n",
    "    if col < 3:\n",
    "        axs[col].set_ylim(-50, 200)\n",
    "    else:\n",
    "        axs[col].set_ylim(-50, 200)\n",
    "\n",
    "# X-axis label\n",
    "#fig.text(0.5, 0.15, 'Months into the Future', ha='center', fontsize=12)\n",
    "fig.suptitle('Lake Michigan-Huron 9-Month Forecast', fontsize=16, y=1.02)\n",
    "\n",
    "# Combined legend at bottom\n",
    "handles, labels = axs[0].get_legend_handles_labels()\n",
    "fig.legend(\n",
    "    handles,\n",
    "    labels,\n",
    "    loc='lower center',\n",
    "    bbox_to_anchor=(0.5, -0.05),  # Further down than the x label\n",
    "    ncol=len(labels),\n",
    "    fontsize=12\n",
    ")\n",
    "\n",
    "# Adjust layout to leave enough room at the bottom for x-label and legend\n",
    "plt.tight_layout(rect=[0, 0.1, 1, 1])\n",
    "\n",
    "plt.savefig(f'{dir}forecast/CNBS_forecast_MichHuron_example.png')\n",
    "plt.show()"
   ]
  }
 ],
 "metadata": {
  "kernelspec": {
   "display_name": "env",
   "language": "python",
   "name": "python3"
  },
  "language_info": {
   "codemirror_mode": {
    "name": "ipython",
    "version": 3
   },
   "file_extension": ".py",
   "mimetype": "text/x-python",
   "name": "python",
   "nbconvert_exporter": "python",
   "pygments_lexer": "ipython3",
   "version": "3.12.3"
  }
 },
 "nbformat": 4,
 "nbformat_minor": 2
}
