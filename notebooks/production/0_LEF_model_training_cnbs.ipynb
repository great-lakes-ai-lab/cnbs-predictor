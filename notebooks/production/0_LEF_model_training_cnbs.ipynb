{
 "cells": [
  {
   "cell_type": "markdown",
   "metadata": {},
   "source": [
    "# Model Training Script\n",
    "Lindsay Fitzpatrick\n",
    "ljob@umich.edu\n",
    "12/18/2024\n",
    "\n",
    "This script reads in CFSR data from 1979 - 2010 and trains machine learning models to target CNBS from L2SWBM across the 5 Great Lakes simultaeously."
   ]
  },
  {
   "cell_type": "code",
   "execution_count": 1,
   "metadata": {},
   "outputs": [],
   "source": [
    "import pandas as pd\n",
    "from sklearn.preprocessing import StandardScaler\n",
    "from sklearn.gaussian_process import GaussianProcessRegressor\n",
    "from sklearn.ensemble import RandomForestClassifier as skRFC\n",
    "from sklearn.gaussian_process.kernels import WhiteKernel, ConstantKernel, RBF, Matern, RationalQuadratic, ExpSineSquared\n",
    "from sklearn.metrics import mean_squared_error, r2_score\n",
    "from sklearn.ensemble import RandomForestRegressor as skRFR\n",
    "from sklearn.linear_model import LinearRegression as skLR\n",
    "import tensorflow as tf\n",
    "import joblib\n",
    "import os\n",
    "import sys"
   ]
  },
  {
   "cell_type": "code",
   "execution_count": 2,
   "metadata": {},
   "outputs": [],
   "source": [
    "# Add the path to the src directory (two levels up)\n",
    "sys.path.append(os.path.abspath('../../'))\n",
    "from src.data_processing import shift_variables"
   ]
  },
  {
   "cell_type": "markdown",
   "metadata": {},
   "source": [
    "## User Input"
   ]
  },
  {
   "cell_type": "code",
   "execution_count": null,
   "metadata": {},
   "outputs": [],
   "source": [
    "# This is the directory where you cloned the repo\n",
    "local_path = '/Users/ljob/Desktop/'\n",
    "\n",
    "dir = local_path + 'cnbs-predictor/data/'"
   ]
  },
  {
   "cell_type": "markdown",
   "metadata": {},
   "source": [
    "## Begin Script"
   ]
  },
  {
   "cell_type": "code",
   "execution_count": null,
   "metadata": {},
   "outputs": [],
   "source": [
    "## Read in PCP data from CFSR [mm]\n",
    "pcp_data = pd.read_csv(dir+'training/CFSR_APCP_Basin_Avgs.csv',sep=',')\n",
    "\n",
    "## Read in EVAP data from CFSR [mm]\n",
    "evap_data = pd.read_csv(dir+'training/CFSR_EVAP_Basin_Avgs.csv',sep=',')\n",
    "\n",
    "## Read in TMP data from CFSR [K]\n",
    "tmp_data = pd.read_csv(dir+'training/CFSR_TMP_Basin_Avgs.csv',sep=',')"
   ]
  },
  {
   "cell_type": "markdown",
   "metadata": {},
   "source": [
    "Read in L2SWBM in [mm]\n",
    "\n",
    "https://zenodo.org/records/13883098"
   ]
  },
  {
   "cell_type": "code",
   "execution_count": 5,
   "metadata": {},
   "outputs": [],
   "source": [
    "sup_evap = pd.read_csv(dir + 'l2swbm/superiorEvap_MonthlyRun.csv')\n",
    "sup_runoff = pd.read_csv(dir + 'l2swbm/superiorRunoff_MonthlyRun.csv')\n",
    "sup_precip = pd.read_csv(dir + 'l2swbm/superiorPrecip_MonthlyRun.csv')\n",
    "\n",
    "eri_evap = pd.read_csv(dir + 'l2swbm/erieEvap_MonthlyRun.csv')\n",
    "eri_runoff = pd.read_csv(dir + 'l2swbm/erieRunoff_MonthlyRun.csv')\n",
    "eri_precip = pd.read_csv(dir + 'l2swbm/eriePrecip_MonthlyRun.csv')\n",
    "\n",
    "ont_evap = pd.read_csv(dir + 'l2swbm/ontarioEvap_MonthlyRun.csv')\n",
    "ont_runoff = pd.read_csv(dir + 'l2swbm/ontarioRunoff_MonthlyRun.csv')\n",
    "ont_precip = pd.read_csv(dir + 'l2swbm/ontarioPrecip_MonthlyRun.csv')\n",
    "\n",
    "mih_evap = pd.read_csv(dir + 'l2swbm/miHuronEvap_MonthlyRun.csv')\n",
    "mih_runoff = pd.read_csv(dir + 'l2swbm/miHuronRunoff_MonthlyRun.csv')\n",
    "mih_precip = pd.read_csv(dir + 'l2swbm/miHuronPrecip_MonthlyRun.csv')"
   ]
  },
  {
   "cell_type": "markdown",
   "metadata": {},
   "source": [
    "Here we prepare the data for training and testing. We set the features 'X' as total over lake\n",
    "precipitation, total over lake evaporation, and the average air temperature over each lake. The\n",
    "targets 'y' are RNBS for each lake simultaeously."
   ]
  },
  {
   "cell_type": "code",
   "execution_count": 6,
   "metadata": {},
   "outputs": [],
   "source": [
    "# Features\n",
    "X = pd.DataFrame({\n",
    "    'superior_lake_precipitation':  pcp_data['sup_lake'],\n",
    "    'erie_lake_precipitation': pcp_data['eri_lake'],\n",
    "    'ontario_lake_precipitation': pcp_data['ont_lake'],\n",
    "    'michigan-huron_lake_precipitation': pcp_data['mih_lake'],\n",
    "    'superior_land_precipitation': pcp_data['sup_land'],\n",
    "    'erie_land_precipitation': pcp_data['eri_land'],\n",
    "    'ontario_land_precipitation': pcp_data['ont_land'],\n",
    "    'michigan-huron_land_precipitation': pcp_data['mih_land'],\n",
    "    'superior_lake_evaporation': evap_data['sup_lake'],\n",
    "    'erie_lake_evaporation': evap_data['eri_lake'],\n",
    "    'ontario_lake_evaporation': evap_data['ont_lake'],\n",
    "    'michigan-huron_lake_evaporation': evap_data['mih_lake'],\n",
    "    'superior_land_evaporation': evap_data['sup_land'],\n",
    "    'erie_land_evaporation': evap_data['eri_land'],\n",
    "    'ontario_land_evaporation': evap_data['ont_land'],\n",
    "    'michigan-huron_land_evaporation': evap_data['mih_land'],\n",
    "    'superior_lake_air_temperature': tmp_data['sup_lake'],\n",
    "    'erie_lake_air_temperature': tmp_data['eri_lake'],\n",
    "    'ontario_lake_air_temperature': tmp_data['ont_lake'],\n",
    "    'michigan-huron_lake_air_temperature': tmp_data['mih_lake'],\n",
    "    'superior_land_air_temperature': tmp_data['sup_land'],\n",
    "    'erie_land_air_temperature': tmp_data['eri_land'],\n",
    "    'ontario_land_air_temperature': tmp_data['ont_land'],\n",
    "    'michigan-huron_land_air_temperature': tmp_data['mih_land']\n",
    "})\n",
    "\n",
    "# Set the index by date\n",
    "X.set_index(pd.to_datetime(pcp_data[['year', 'month']].assign(day=1)), inplace=True)\n",
    "\n",
    "# Targets are the components of NBS (P, E, R)\n",
    "targets = pd.DataFrame({\n",
    "    'superior_target_evaporation': sup_evap['Median'],\n",
    "    'superior_target_precipitation': sup_precip['Median'],\n",
    "    'superior_target_runoff': sup_runoff['Median'],\n",
    "    'erie_target_evaporation': eri_evap['Median'],\n",
    "    'erie_target_precipitation': eri_precip['Median'],\n",
    "    'erie_target_runoff': eri_runoff['Median'],\n",
    "    'ontario_target_evaporation': ont_evap['Median'],\n",
    "    'ontario_target_precipitation': ont_precip['Median'],\n",
    "    'ontario_target_runoff': ont_runoff['Median'],\n",
    "    'michigan-huron_target_evaporation': mih_evap['Median'],\n",
    "    'michigan-huron_target_precipitation': mih_precip['Median'],\n",
    "    'michigan-huron_target_runoff': mih_runoff['Median']\n",
    "})\n",
    "\n",
    "# Set the index of the targets\n",
    "targets.set_index(pd.to_datetime(eri_evap[['Year', 'Month']].assign(day=1)), inplace=True)"
   ]
  },
  {
   "cell_type": "markdown",
   "metadata": {},
   "source": [
    "For future versions were we want to look at lagged variables."
   ]
  },
  {
   "cell_type": "code",
   "execution_count": 7,
   "metadata": {},
   "outputs": [],
   "source": [
    "shifted_X = shift_variables(X ,lag=0, lead=0)"
   ]
  },
  {
   "cell_type": "code",
   "execution_count": 8,
   "metadata": {},
   "outputs": [],
   "source": [
    "shifted_targets = shift_variables(targets, lag=0, lead=0)"
   ]
  },
  {
   "cell_type": "code",
   "execution_count": 9,
   "metadata": {},
   "outputs": [
    {
     "name": "stdout",
     "output_type": "stream",
     "text": [
      "Number of Targets: 12\n",
      "Number of Features: 24\n"
     ]
    }
   ],
   "source": [
    "# Make sure the indices/dates align after the shifts\n",
    "aligned_y = shifted_targets.loc[shifted_X.index]\n",
    "\n",
    "print(f'Number of Targets: {aligned_y.shape[1]}')\n",
    "print(f'Number of Features: {shifted_X.shape[1]}')"
   ]
  },
  {
   "cell_type": "markdown",
   "metadata": {},
   "source": [
    "Split the data into training and testing data sets. We could do it as a random 80/20 split\n",
    "but instead we set split the data set by date ranges. This can easily be adjusted."
   ]
  },
  {
   "cell_type": "code",
   "execution_count": 10,
   "metadata": {},
   "outputs": [],
   "source": [
    "# Split dataset by date ranges into training and testing sets\n",
    "train_start_date = '1979-01-01'\n",
    "train_end_date = '2004-12-01'\n",
    "# Testing dataset\n",
    "val_start_date = '2005-01-01'\n",
    "val_end_date = '2011-01-01'\n",
    "\n",
    "X_train = shifted_X[train_start_date:train_end_date]\n",
    "y_train = aligned_y[train_start_date:train_end_date]\n",
    "X_test = shifted_X[val_start_date:val_end_date]\n",
    "y_test = aligned_y[val_start_date:val_end_date]"
   ]
  },
  {
   "cell_type": "markdown",
   "metadata": {},
   "source": [
    "It is best practice to standardize the data from 0-1 before training"
   ]
  },
  {
   "cell_type": "code",
   "execution_count": 11,
   "metadata": {},
   "outputs": [],
   "source": [
    "# Standardize the data\n",
    "x_scaler = StandardScaler()\n",
    "y_scaler = StandardScaler()\n",
    "X_train_scaled = x_scaler.fit_transform(X_train)\n",
    "X_test_scaled = x_scaler.fit_transform(X_test)\n",
    "y_train_scaled = y_scaler.fit_transform(y_train)\n",
    "y_test_scaled = y_scaler.fit_transform(y_test)"
   ]
  },
  {
   "cell_type": "markdown",
   "metadata": {},
   "source": [
    "Training\n",
    "\n",
    "Below we train different models using the same data and calculate the r squared values on the \n",
    "test data to compare performance."
   ]
  },
  {
   "cell_type": "code",
   "execution_count": null,
   "metadata": {},
   "outputs": [
    {
     "name": "stdout",
     "output_type": "stream",
     "text": [
      "Random Forest R^2 score: 0.8420223623557893\n",
      "Mean Squared Error: 0.1579776376442108\n"
     ]
    }
   ],
   "source": [
    "# Testing Different Kernels\n",
    "# Basic kernel using ConstantKernel:\n",
    "#kernel = ConstantKernel(1.0, (1e-3, 1e3)) * RBF(1.0, (1e-2, 1e2))\n",
    "\n",
    "# Matt's optimal kernel: \n",
    "kernel = 1.0 * Matern(nu=1.5) * RationalQuadratic()\n",
    "\n",
    "# Test to add a seasonality component:\n",
    "#period = 3.0  # Period of the season\n",
    "#kernel = ConstantKernel(1.0, (1e-3, 1e3)) * RBF(length_scale=1.0, length_scale_bounds=(1e-2, 1e2)) + ExpSineSquared(length_scale=1.0, periodicity=period, periodicity_bounds=(1e-2, 1e2))\n",
    "\n",
    "#kernel = 1.0 * ExpSineSquared(periodicity=12)\n",
    "\n",
    "#kernel = 1.0 * RBF() + 1.0 * Matern(nu=2.5) + 1.0 * RationalQuadratic()\n",
    "\n",
    "# Set up the model\n",
    "gpr = GaussianProcessRegressor(kernel=kernel, alpha=0.1, n_restarts_optimizer=10, random_state=42)\n",
    "\n",
    "# Fit the model\n",
    "gpr.fit(X_train_scaled, y_train_scaled)\n",
    "\n",
    "# Save the trained model\n",
    "joblib.dump(gpr, dir +'input/GP_trained_model.joblib')\n",
    "joblib.dump(x_scaler, dir + 'input/x_scaler.joblib')\n",
    "joblib.dump(y_scaler, dir + 'input/y_scaler.joblib')\n",
    "\n",
    "# Predictions\n",
    "y_pred_GP, sigma = gpr.predict(X_test_scaled, return_std=True)\n",
    "\n",
    "# Calculate R2 and MSE\n",
    "mse_gp = mean_squared_error(y_test_scaled, y_pred_GP)\n",
    "r2_gp = r2_score(y_test_scaled, y_pred_GP)\n",
    "\n",
    "print(f\"Random Forest R^2 score: {r2_gp}\")\n",
    "print(f\"Mean Squared Error: {mse_gp}\")"
   ]
  },
  {
   "cell_type": "code",
   "execution_count": 31,
   "metadata": {},
   "outputs": [
    {
     "name": "stdout",
     "output_type": "stream",
     "text": [
      "Linear Regression R^2 score: 0.7991\n",
      "Mean Squared Error: 0.2009316623905374\n"
     ]
    }
   ],
   "source": [
    "## Linear Regression ##\n",
    "\n",
    "# Initialize Linear Regression\n",
    "lr_model = skLR()\n",
    "\n",
    "# Train the model\n",
    "trained_LR = lr_model.fit(X_train_scaled, y_train_scaled)\n",
    "\n",
    "# Save the trained model\n",
    "joblib.dump(trained_LR, dir + 'input/LR_trained_model.joblib')\n",
    "\n",
    "# Predict on the test set\n",
    "y_pred_LR = trained_LR.predict(X_test_scaled)\n",
    "\n",
    "# Calculate R2 and MSE\n",
    "mse_lr = mean_squared_error(y_test_scaled, y_pred_LR)\n",
    "r2_lr = r2_score(y_test_scaled, y_pred_LR)\n",
    "\n",
    "print(f\"Linear Regression R^2 score: {r2_lr:.4f}\")\n",
    "print(f\"Mean Squared Error: {mse_lr}\")"
   ]
  },
  {
   "cell_type": "code",
   "execution_count": 32,
   "metadata": {},
   "outputs": [
    {
     "name": "stdout",
     "output_type": "stream",
     "text": [
      "Linear Regression R^2 score: 0.7507\n",
      "Mean Squared Error: 0.24933708800769683\n"
     ]
    }
   ],
   "source": [
    "## Random Forest Regressor Model:\n",
    "\n",
    "# Initialize RandomForestRegressor\n",
    "rfr_model = skRFR(random_state=42)\n",
    "\n",
    "# Train the model\n",
    "trained_RFR = rfr_model.fit(X_train_scaled, y_train_scaled)\n",
    "\n",
    "# Save the trained model\n",
    "joblib.dump(trained_RFR, dir + 'input/RF_trained_model.joblib')\n",
    "\n",
    "# Predict on the test set\n",
    "y_pred_rfr = trained_RFR.predict(X_test_scaled)\n",
    "\n",
    "# Calculate Mean Squared Error\n",
    "mse_rf = mean_squared_error(y_test_scaled, y_pred_rfr)\n",
    "r2_rf = r2_score(y_test_scaled, y_pred_rfr)\n",
    "\n",
    "print(f\"Linear Regression R^2 score: {r2_rf:.4f}\")\n",
    "print(f\"Mean Squared Error: {mse_rf}\")"
   ]
  },
  {
   "cell_type": "code",
   "execution_count": 33,
   "metadata": {},
   "outputs": [
    {
     "name": "stdout",
     "output_type": "stream",
     "text": [
      "Epoch 1/50\n",
      "\u001b[1m8/8\u001b[0m \u001b[32m━━━━━━━━━━━━━━━━━━━━\u001b[0m\u001b[37m\u001b[0m \u001b[1m0s\u001b[0m 8ms/step - loss: 1.0738 - mae: 0.8305 - val_loss: 0.7342 - val_mae: 0.6851\n",
      "Epoch 2/50\n",
      "\u001b[1m8/8\u001b[0m \u001b[32m━━━━━━━━━━━━━━━━━━━━\u001b[0m\u001b[37m\u001b[0m \u001b[1m0s\u001b[0m 2ms/step - loss: 0.6926 - mae: 0.6490 - val_loss: 0.5481 - val_mae: 0.5841\n",
      "Epoch 3/50\n",
      "\u001b[1m8/8\u001b[0m \u001b[32m━━━━━━━━━━━━━━━━━━━━\u001b[0m\u001b[37m\u001b[0m \u001b[1m0s\u001b[0m 2ms/step - loss: 0.5521 - mae: 0.5631 - val_loss: 0.4434 - val_mae: 0.5213\n",
      "Epoch 4/50\n",
      "\u001b[1m8/8\u001b[0m \u001b[32m━━━━━━━━━━━━━━━━━━━━\u001b[0m\u001b[37m\u001b[0m \u001b[1m0s\u001b[0m 2ms/step - loss: 0.4578 - mae: 0.5090 - val_loss: 0.3746 - val_mae: 0.4726\n",
      "Epoch 5/50\n",
      "\u001b[1m8/8\u001b[0m \u001b[32m━━━━━━━━━━━━━━━━━━━━\u001b[0m\u001b[37m\u001b[0m \u001b[1m0s\u001b[0m 2ms/step - loss: 0.3577 - mae: 0.4482 - val_loss: 0.3359 - val_mae: 0.4417\n",
      "Epoch 6/50\n",
      "\u001b[1m8/8\u001b[0m \u001b[32m━━━━━━━━━━━━━━━━━━━━\u001b[0m\u001b[37m\u001b[0m \u001b[1m0s\u001b[0m 2ms/step - loss: 0.3309 - mae: 0.4295 - val_loss: 0.3130 - val_mae: 0.4235\n",
      "Epoch 7/50\n",
      "\u001b[1m8/8\u001b[0m \u001b[32m━━━━━━━━━━━━━━━━━━━━\u001b[0m\u001b[37m\u001b[0m \u001b[1m0s\u001b[0m 2ms/step - loss: 0.2816 - mae: 0.3949 - val_loss: 0.3047 - val_mae: 0.4142\n",
      "Epoch 8/50\n",
      "\u001b[1m8/8\u001b[0m \u001b[32m━━━━━━━━━━━━━━━━━━━━\u001b[0m\u001b[37m\u001b[0m \u001b[1m0s\u001b[0m 2ms/step - loss: 0.2675 - mae: 0.3841 - val_loss: 0.2905 - val_mae: 0.4019\n",
      "Epoch 9/50\n",
      "\u001b[1m8/8\u001b[0m \u001b[32m━━━━━━━━━━━━━━━━━━━━\u001b[0m\u001b[37m\u001b[0m \u001b[1m0s\u001b[0m 2ms/step - loss: 0.2320 - mae: 0.3570 - val_loss: 0.2749 - val_mae: 0.3898\n",
      "Epoch 10/50\n",
      "\u001b[1m8/8\u001b[0m \u001b[32m━━━━━━━━━━━━━━━━━━━━\u001b[0m\u001b[37m\u001b[0m \u001b[1m0s\u001b[0m 2ms/step - loss: 0.2285 - mae: 0.3548 - val_loss: 0.2716 - val_mae: 0.3890\n",
      "Epoch 11/50\n",
      "\u001b[1m8/8\u001b[0m \u001b[32m━━━━━━━━━━━━━━━━━━━━\u001b[0m\u001b[37m\u001b[0m \u001b[1m0s\u001b[0m 2ms/step - loss: 0.2256 - mae: 0.3454 - val_loss: 0.2677 - val_mae: 0.3866\n",
      "Epoch 12/50\n",
      "\u001b[1m8/8\u001b[0m \u001b[32m━━━━━━━━━━━━━━━━━━━━\u001b[0m\u001b[37m\u001b[0m \u001b[1m0s\u001b[0m 2ms/step - loss: 0.2198 - mae: 0.3429 - val_loss: 0.2589 - val_mae: 0.3786\n",
      "Epoch 13/50\n",
      "\u001b[1m8/8\u001b[0m \u001b[32m━━━━━━━━━━━━━━━━━━━━\u001b[0m\u001b[37m\u001b[0m \u001b[1m0s\u001b[0m 2ms/step - loss: 0.2040 - mae: 0.3298 - val_loss: 0.2514 - val_mae: 0.3718\n",
      "Epoch 14/50\n",
      "\u001b[1m8/8\u001b[0m \u001b[32m━━━━━━━━━━━━━━━━━━━━\u001b[0m\u001b[37m\u001b[0m \u001b[1m0s\u001b[0m 2ms/step - loss: 0.2038 - mae: 0.3289 - val_loss: 0.2574 - val_mae: 0.3758\n",
      "Epoch 15/50\n",
      "\u001b[1m8/8\u001b[0m \u001b[32m━━━━━━━━━━━━━━━━━━━━\u001b[0m\u001b[37m\u001b[0m \u001b[1m0s\u001b[0m 2ms/step - loss: 0.2022 - mae: 0.3268 - val_loss: 0.2559 - val_mae: 0.3764\n",
      "Epoch 16/50\n",
      "\u001b[1m8/8\u001b[0m \u001b[32m━━━━━━━━━━━━━━━━━━━━\u001b[0m\u001b[37m\u001b[0m \u001b[1m0s\u001b[0m 3ms/step - loss: 0.1844 - mae: 0.3159 - val_loss: 0.2431 - val_mae: 0.3638\n",
      "Epoch 17/50\n",
      "\u001b[1m8/8\u001b[0m \u001b[32m━━━━━━━━━━━━━━━━━━━━\u001b[0m\u001b[37m\u001b[0m \u001b[1m0s\u001b[0m 2ms/step - loss: 0.1780 - mae: 0.3069 - val_loss: 0.2501 - val_mae: 0.3723\n",
      "Epoch 18/50\n",
      "\u001b[1m8/8\u001b[0m \u001b[32m━━━━━━━━━━━━━━━━━━━━\u001b[0m\u001b[37m\u001b[0m \u001b[1m0s\u001b[0m 2ms/step - loss: 0.1704 - mae: 0.3015 - val_loss: 0.2484 - val_mae: 0.3676\n",
      "Epoch 19/50\n",
      "\u001b[1m8/8\u001b[0m \u001b[32m━━━━━━━━━━━━━━━━━━━━\u001b[0m\u001b[37m\u001b[0m \u001b[1m0s\u001b[0m 7ms/step - loss: 0.1740 - mae: 0.3068 - val_loss: 0.2492 - val_mae: 0.3704\n",
      "Epoch 20/50\n",
      "\u001b[1m8/8\u001b[0m \u001b[32m━━━━━━━━━━━━━━━━━━━━\u001b[0m\u001b[37m\u001b[0m \u001b[1m0s\u001b[0m 2ms/step - loss: 0.1760 - mae: 0.3071 - val_loss: 0.2454 - val_mae: 0.3644\n",
      "Epoch 21/50\n",
      "\u001b[1m8/8\u001b[0m \u001b[32m━━━━━━━━━━━━━━━━━━━━\u001b[0m\u001b[37m\u001b[0m \u001b[1m0s\u001b[0m 2ms/step - loss: 0.1734 - mae: 0.3045 - val_loss: 0.2420 - val_mae: 0.3633\n",
      "Epoch 22/50\n",
      "\u001b[1m8/8\u001b[0m \u001b[32m━━━━━━━━━━━━━━━━━━━━\u001b[0m\u001b[37m\u001b[0m \u001b[1m0s\u001b[0m 2ms/step - loss: 0.1703 - mae: 0.3004 - val_loss: 0.2396 - val_mae: 0.3607\n",
      "Epoch 23/50\n",
      "\u001b[1m8/8\u001b[0m \u001b[32m━━━━━━━━━━━━━━━━━━━━\u001b[0m\u001b[37m\u001b[0m \u001b[1m0s\u001b[0m 2ms/step - loss: 0.1662 - mae: 0.2951 - val_loss: 0.2431 - val_mae: 0.3646\n",
      "Epoch 24/50\n",
      "\u001b[1m8/8\u001b[0m \u001b[32m━━━━━━━━━━━━━━━━━━━━\u001b[0m\u001b[37m\u001b[0m \u001b[1m0s\u001b[0m 2ms/step - loss: 0.1632 - mae: 0.2943 - val_loss: 0.2407 - val_mae: 0.3613\n",
      "Epoch 25/50\n",
      "\u001b[1m8/8\u001b[0m \u001b[32m━━━━━━━━━━━━━━━━━━━━\u001b[0m\u001b[37m\u001b[0m \u001b[1m0s\u001b[0m 2ms/step - loss: 0.1668 - mae: 0.2958 - val_loss: 0.2425 - val_mae: 0.3636\n",
      "Epoch 26/50\n",
      "\u001b[1m8/8\u001b[0m \u001b[32m━━━━━━━━━━━━━━━━━━━━\u001b[0m\u001b[37m\u001b[0m \u001b[1m0s\u001b[0m 2ms/step - loss: 0.1605 - mae: 0.2915 - val_loss: 0.2402 - val_mae: 0.3625\n",
      "Epoch 27/50\n",
      "\u001b[1m8/8\u001b[0m \u001b[32m━━━━━━━━━━━━━━━━━━━━\u001b[0m\u001b[37m\u001b[0m \u001b[1m0s\u001b[0m 2ms/step - loss: 0.1561 - mae: 0.2885 - val_loss: 0.2387 - val_mae: 0.3606\n",
      "Epoch 28/50\n",
      "\u001b[1m8/8\u001b[0m \u001b[32m━━━━━━━━━━━━━━━━━━━━\u001b[0m\u001b[37m\u001b[0m \u001b[1m0s\u001b[0m 2ms/step - loss: 0.1518 - mae: 0.2864 - val_loss: 0.2425 - val_mae: 0.3643\n",
      "Epoch 29/50\n",
      "\u001b[1m8/8\u001b[0m \u001b[32m━━━━━━━━━━━━━━━━━━━━\u001b[0m\u001b[37m\u001b[0m \u001b[1m0s\u001b[0m 4ms/step - loss: 0.1617 - mae: 0.2902 - val_loss: 0.2327 - val_mae: 0.3549\n",
      "Epoch 30/50\n",
      "\u001b[1m8/8\u001b[0m \u001b[32m━━━━━━━━━━━━━━━━━━━━\u001b[0m\u001b[37m\u001b[0m \u001b[1m0s\u001b[0m 2ms/step - loss: 0.1524 - mae: 0.2845 - val_loss: 0.2496 - val_mae: 0.3687\n",
      "Epoch 31/50\n",
      "\u001b[1m8/8\u001b[0m \u001b[32m━━━━━━━━━━━━━━━━━━━━\u001b[0m\u001b[37m\u001b[0m \u001b[1m0s\u001b[0m 2ms/step - loss: 0.1563 - mae: 0.2863 - val_loss: 0.2374 - val_mae: 0.3592\n",
      "Epoch 32/50\n",
      "\u001b[1m8/8\u001b[0m \u001b[32m━━━━━━━━━━━━━━━━━━━━\u001b[0m\u001b[37m\u001b[0m \u001b[1m0s\u001b[0m 2ms/step - loss: 0.1510 - mae: 0.2816 - val_loss: 0.2306 - val_mae: 0.3528\n",
      "Epoch 33/50\n",
      "\u001b[1m8/8\u001b[0m \u001b[32m━━━━━━━━━━━━━━━━━━━━\u001b[0m\u001b[37m\u001b[0m \u001b[1m0s\u001b[0m 2ms/step - loss: 0.1390 - mae: 0.2716 - val_loss: 0.2414 - val_mae: 0.3632\n",
      "Epoch 34/50\n",
      "\u001b[1m8/8\u001b[0m \u001b[32m━━━━━━━━━━━━━━━━━━━━\u001b[0m\u001b[37m\u001b[0m \u001b[1m0s\u001b[0m 2ms/step - loss: 0.1548 - mae: 0.2840 - val_loss: 0.2380 - val_mae: 0.3594\n",
      "Epoch 35/50\n",
      "\u001b[1m8/8\u001b[0m \u001b[32m━━━━━━━━━━━━━━━━━━━━\u001b[0m\u001b[37m\u001b[0m \u001b[1m0s\u001b[0m 2ms/step - loss: 0.1344 - mae: 0.2673 - val_loss: 0.2386 - val_mae: 0.3592\n",
      "Epoch 36/50\n",
      "\u001b[1m8/8\u001b[0m \u001b[32m━━━━━━━━━━━━━━━━━━━━\u001b[0m\u001b[37m\u001b[0m \u001b[1m0s\u001b[0m 2ms/step - loss: 0.1474 - mae: 0.2769 - val_loss: 0.2392 - val_mae: 0.3611\n",
      "Epoch 37/50\n",
      "\u001b[1m8/8\u001b[0m \u001b[32m━━━━━━━━━━━━━━━━━━━━\u001b[0m\u001b[37m\u001b[0m \u001b[1m0s\u001b[0m 2ms/step - loss: 0.1365 - mae: 0.2687 - val_loss: 0.2373 - val_mae: 0.3582\n",
      "Epoch 38/50\n",
      "\u001b[1m8/8\u001b[0m \u001b[32m━━━━━━━━━━━━━━━━━━━━\u001b[0m\u001b[37m\u001b[0m \u001b[1m0s\u001b[0m 2ms/step - loss: 0.1383 - mae: 0.2676 - val_loss: 0.2347 - val_mae: 0.3565\n",
      "Epoch 39/50\n",
      "\u001b[1m8/8\u001b[0m \u001b[32m━━━━━━━━━━━━━━━━━━━━\u001b[0m\u001b[37m\u001b[0m \u001b[1m0s\u001b[0m 2ms/step - loss: 0.1404 - mae: 0.2698 - val_loss: 0.2423 - val_mae: 0.3620\n",
      "Epoch 40/50\n",
      "\u001b[1m8/8\u001b[0m \u001b[32m━━━━━━━━━━━━━━━━━━━━\u001b[0m\u001b[37m\u001b[0m \u001b[1m0s\u001b[0m 2ms/step - loss: 0.1407 - mae: 0.2742 - val_loss: 0.2370 - val_mae: 0.3574\n",
      "Epoch 41/50\n",
      "\u001b[1m8/8\u001b[0m \u001b[32m━━━━━━━━━━━━━━━━━━━━\u001b[0m\u001b[37m\u001b[0m \u001b[1m0s\u001b[0m 2ms/step - loss: 0.1283 - mae: 0.2612 - val_loss: 0.2382 - val_mae: 0.3587\n",
      "Epoch 42/50\n",
      "\u001b[1m8/8\u001b[0m \u001b[32m━━━━━━━━━━━━━━━━━━━━\u001b[0m\u001b[37m\u001b[0m \u001b[1m0s\u001b[0m 2ms/step - loss: 0.1374 - mae: 0.2701 - val_loss: 0.2401 - val_mae: 0.3605\n",
      "Epoch 43/50\n",
      "\u001b[1m8/8\u001b[0m \u001b[32m━━━━━━━━━━━━━━━━━━━━\u001b[0m\u001b[37m\u001b[0m \u001b[1m0s\u001b[0m 2ms/step - loss: 0.1290 - mae: 0.2585 - val_loss: 0.2343 - val_mae: 0.3549\n",
      "Epoch 44/50\n",
      "\u001b[1m8/8\u001b[0m \u001b[32m━━━━━━━━━━━━━━━━━━━━\u001b[0m\u001b[37m\u001b[0m \u001b[1m0s\u001b[0m 2ms/step - loss: 0.1319 - mae: 0.2637 - val_loss: 0.2418 - val_mae: 0.3621\n",
      "Epoch 45/50\n",
      "\u001b[1m8/8\u001b[0m \u001b[32m━━━━━━━━━━━━━━━━━━━━\u001b[0m\u001b[37m\u001b[0m \u001b[1m0s\u001b[0m 9ms/step - loss: 0.1304 - mae: 0.2624 - val_loss: 0.2427 - val_mae: 0.3615\n",
      "Epoch 46/50\n",
      "\u001b[1m8/8\u001b[0m \u001b[32m━━━━━━━━━━━━━━━━━━━━\u001b[0m\u001b[37m\u001b[0m \u001b[1m0s\u001b[0m 2ms/step - loss: 0.1316 - mae: 0.2631 - val_loss: 0.2410 - val_mae: 0.3599\n",
      "Epoch 47/50\n",
      "\u001b[1m8/8\u001b[0m \u001b[32m━━━━━━━━━━━━━━━━━━━━\u001b[0m\u001b[37m\u001b[0m \u001b[1m0s\u001b[0m 2ms/step - loss: 0.1322 - mae: 0.2637 - val_loss: 0.2400 - val_mae: 0.3598\n",
      "Epoch 48/50\n",
      "\u001b[1m8/8\u001b[0m \u001b[32m━━━━━━━━━━━━━━━━━━━━\u001b[0m\u001b[37m\u001b[0m \u001b[1m0s\u001b[0m 2ms/step - loss: 0.1222 - mae: 0.2521 - val_loss: 0.2409 - val_mae: 0.3592\n",
      "Epoch 49/50\n",
      "\u001b[1m8/8\u001b[0m \u001b[32m━━━━━━━━━━━━━━━━━━━━\u001b[0m\u001b[37m\u001b[0m \u001b[1m0s\u001b[0m 2ms/step - loss: 0.1304 - mae: 0.2591 - val_loss: 0.2353 - val_mae: 0.3550\n",
      "Epoch 50/50\n",
      "\u001b[1m8/8\u001b[0m \u001b[32m━━━━━━━━━━━━━━━━━━━━\u001b[0m\u001b[37m\u001b[0m \u001b[1m0s\u001b[0m 2ms/step - loss: 0.1269 - mae: 0.2577 - val_loss: 0.2507 - val_mae: 0.3692\n"
     ]
    },
    {
     "data": {
      "image/png": "[encoded data removed]",
      "text/plain": [
       "<Figure size 640x480 with 1 Axes>"
      ]
     },
     "metadata": {},
     "output_type": "display_data"
    },
    {
     "name": "stdout",
     "output_type": "stream",
     "text": [
      "\u001b[1m3/3\u001b[0m \u001b[32m━━━━━━━━━━━━━━━━━━━━\u001b[0m\u001b[37m\u001b[0m \u001b[1m0s\u001b[0m 6ms/step \n",
      "Linear Regression R^2 score: 0.7919\n",
      "Mean Squared Error: 0.2080732343849684\n"
     ]
    }
   ],
   "source": [
    "## Neural Network ##\n",
    "\n",
    "# Define the neural network architecture\n",
    "model = tf.keras.Sequential([\n",
    "    tf.keras.layers.Input(shape=(X_train.shape[1],)),\n",
    "    tf.keras.layers.Dense(128, activation='relu'),\n",
    "    tf.keras.layers.Dense(64, activation='relu'),\n",
    "    tf.keras.layers.Dense(y_train.shape[1])\n",
    "])\n",
    "\n",
    "# Compile the model\n",
    "model.compile(optimizer='adam', loss='mse', metrics=['mae']) # Using mean squared error (mse) as the loss function\n",
    "\n",
    "# Fit the model to the training data\n",
    "history = model.fit(X_train_scaled, y_train_scaled, epochs=50, batch_size=32, validation_split=0.2, verbose=1)#, callbacks=[early_stopping])\n",
    "\n",
    "# Plotting the training and validation loss\n",
    "import matplotlib.pyplot as plt\n",
    "\n",
    "plt.plot(history.history['loss'], label='Training Loss')\n",
    "plt.plot(history.history['val_loss'], label='Validation Loss')\n",
    "plt.xlabel('Epochs')\n",
    "plt.ylabel('Loss')\n",
    "plt.legend()\n",
    "plt.show()\n",
    "\n",
    "# Save the trained model\n",
    "joblib.dump(model,dir + 'input/NN_trained_model.joblib')\n",
    "\n",
    "# Predict on the test set\n",
    "y_pred_nn = model.predict(X_test_scaled)\n",
    "\n",
    "# Calculate Mean Squared Error\n",
    "mse_nn = mean_squared_error(y_test_scaled, y_pred_nn)\n",
    "r2_nn = r2_score(y_test_scaled, y_pred_nn)\n",
    "\n",
    "print(f\"Linear Regression R^2 score: {r2_nn:.4f}\")\n",
    "print(f\"Mean Squared Error: {mse_nn}\")"
   ]
  }
 ],
 "metadata": {
  "kernelspec": {
   "display_name": "env",
   "language": "python",
   "name": "python3"
  },
  "language_info": {
   "codemirror_mode": {
    "name": "ipython",
    "version": 3
   },
   "file_extension": ".py",
   "mimetype": "text/x-python",
   "name": "python",
   "nbconvert_exporter": "python",
   "pygments_lexer": "ipython3",
   "version": "3.12.3"
  }
 },
 "nbformat": 4,
 "nbformat_minor": 2
}
